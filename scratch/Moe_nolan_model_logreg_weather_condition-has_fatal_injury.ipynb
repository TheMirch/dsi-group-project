{
 "cells": [
  {
   "cell_type": "markdown",
   "id": "5cb523d1-60c4-4f83-8fc9-b53eecc7315b",
   "metadata": {
    "tags": []
   },
   "source": [
    "# Logistic Regression: weather_condition - has_fatal_injury"
   ]
  },
  {
   "cell_type": "code",
   "execution_count": 54,
   "id": "d7f6944f-33a9-4a6c-823d-0bd9e0ca1caa",
   "metadata": {
    "tags": []
   },
   "outputs": [],
   "source": [
    "import pandas as pd\n",
    "import numpy as np\n",
    "from sklearn.model_selection import train_test_split, GridSearchCV\n",
    "from sklearn.pipeline import Pipeline\n",
    "from sklearn.preprocessing import StandardScaler\n",
    "from sklearn.linear_model import LogisticRegression\n",
    "from sklearn.metrics import classification_report, confusion_matrix\n",
    "import pickle\n",
    "import matplotlib.pyplot as plt\n",
    "import seaborn as sns\n",
    "from sklearn.metrics import roc_curve, accuracy_score, roc_auc_score\n",
    "\n",
    "# pd.set_option('display.max_rows', None)\n",
    "# pd.set_option('display.max_columns', None)\n",
    "# pd.reset_option('display.max_rows')\n",
    "# pd.reset_option('display.max_columns')"
   ]
  },
  {
   "cell_type": "code",
   "execution_count": 5,
   "id": "fecbba99-2624-4c11-b8f1-0097efd8f0e0",
   "metadata": {
    "tags": []
   },
   "outputs": [],
   "source": [
    "ak = pd.read_csv(\"../datasets/alaska_single_engine_clean.csv\")"
   ]
  },
  {
   "cell_type": "code",
   "execution_count": 6,
   "id": "94043aef-84b2-4218-9fe2-812a1c505a8e",
   "metadata": {
    "tags": []
   },
   "outputs": [
    {
     "data": {
      "text/plain": [
       "(5590, 41)"
      ]
     },
     "execution_count": 6,
     "metadata": {},
     "output_type": "execute_result"
    }
   ],
   "source": [
    "ak.shape"
   ]
  },
  {
   "cell_type": "code",
   "execution_count": 8,
   "id": "41181bb8-055a-461a-b3f1-747bd4eb9c1f",
   "metadata": {
    "tags": []
   },
   "outputs": [],
   "source": [
    "predictor = 'weather_condition'"
   ]
  },
  {
   "cell_type": "code",
   "execution_count": 9,
   "id": "17c15b2c-8fbe-485c-bdcb-761231390686",
   "metadata": {
    "tags": []
   },
   "outputs": [],
   "source": [
    "target = 'has_fatal_injury'"
   ]
  },
  {
   "cell_type": "code",
   "execution_count": 10,
   "id": "509b2ed2-abca-4018-b1d6-789f4ed00ed3",
   "metadata": {
    "tags": []
   },
   "outputs": [],
   "source": [
    "ak = ak[[predictor, target]]"
   ]
  },
  {
   "cell_type": "code",
   "execution_count": 11,
   "id": "cd3935ad-ea50-4987-92b4-44ca576c6ec8",
   "metadata": {
    "tags": []
   },
   "outputs": [
    {
     "data": {
      "text/plain": [
       "Index(['weather_condition', 'has_fatal_injury'], dtype='object')"
      ]
     },
     "execution_count": 11,
     "metadata": {},
     "output_type": "execute_result"
    }
   ],
   "source": [
    "ak.columns"
   ]
  },
  {
   "cell_type": "markdown",
   "id": "05cddad5-0cb3-4a4f-b807-e7621a7d268e",
   "metadata": {
    "tags": []
   },
   "source": [
    "## Dummify Columns"
   ]
  },
  {
   "cell_type": "code",
   "execution_count": 12,
   "id": "c547a070-4a54-436d-8c08-1e7a10651676",
   "metadata": {
    "tags": []
   },
   "outputs": [],
   "source": [
    "def dummies(df, col_inference, category_to_drop):\n",
    "    categorical_columns = df.select_dtypes(include=['object', 'category']).columns.tolist()\n",
    "    columns_to_dummify_drop_first = [col for col in categorical_columns if col != col_inference]\n",
    "    \n",
    "    df_dummies = pd.get_dummies(df, columns=columns_to_dummify_drop_first, drop_first=True)\n",
    "    \n",
    "    df_dummies = pd.get_dummies(df_dummies, columns=[col_inference], drop_first=False)\n",
    "    \n",
    "    dummy_to_drop = f\"{col_inference}_{category_to_drop}\"\n",
    "    if dummy_to_drop in df_dummies.columns:\n",
    "        df_dummies.drop(columns=[dummy_to_drop], inplace=True)\n",
    "    \n",
    "    return df_dummies"
   ]
  },
  {
   "cell_type": "code",
   "execution_count": 13,
   "id": "3a8765a2-6e69-4e37-8f73-95d6810a6349",
   "metadata": {
    "tags": []
   },
   "outputs": [],
   "source": [
    "ak_dummies_weather = dummies(ak, predictor, 'VMC')"
   ]
  },
  {
   "cell_type": "code",
   "execution_count": 14,
   "id": "8502ebd4-73de-4825-b3ea-908225453ef9",
   "metadata": {
    "tags": []
   },
   "outputs": [
    {
     "data": {
      "text/plain": [
       "Index(['has_fatal_injury', 'weather_condition_IMC',\n",
       "       'weather_condition_Unknown'],\n",
       "      dtype='object')"
      ]
     },
     "execution_count": 14,
     "metadata": {},
     "output_type": "execute_result"
    }
   ],
   "source": [
    "ak_dummies_weather.columns"
   ]
  },
  {
   "cell_type": "code",
   "execution_count": 15,
   "id": "1628c186-c921-4812-9a58-358c9b76ea18",
   "metadata": {
    "tags": []
   },
   "outputs": [
    {
     "data": {
      "text/html": [
       "<div>\n",
       "<style scoped>\n",
       "    .dataframe tbody tr th:only-of-type {\n",
       "        vertical-align: middle;\n",
       "    }\n",
       "\n",
       "    .dataframe tbody tr th {\n",
       "        vertical-align: top;\n",
       "    }\n",
       "\n",
       "    .dataframe thead th {\n",
       "        text-align: right;\n",
       "    }\n",
       "</style>\n",
       "<table border=\"1\" class=\"dataframe\">\n",
       "  <thead>\n",
       "    <tr style=\"text-align: right;\">\n",
       "      <th></th>\n",
       "      <th>has_fatal_injury</th>\n",
       "      <th>weather_condition_IMC</th>\n",
       "      <th>weather_condition_Unknown</th>\n",
       "    </tr>\n",
       "  </thead>\n",
       "  <tbody>\n",
       "    <tr>\n",
       "      <th>0</th>\n",
       "      <td>0</td>\n",
       "      <td>0</td>\n",
       "      <td>1</td>\n",
       "    </tr>\n",
       "    <tr>\n",
       "      <th>1</th>\n",
       "      <td>0</td>\n",
       "      <td>0</td>\n",
       "      <td>1</td>\n",
       "    </tr>\n",
       "    <tr>\n",
       "      <th>2</th>\n",
       "      <td>0</td>\n",
       "      <td>0</td>\n",
       "      <td>0</td>\n",
       "    </tr>\n",
       "    <tr>\n",
       "      <th>3</th>\n",
       "      <td>0</td>\n",
       "      <td>0</td>\n",
       "      <td>1</td>\n",
       "    </tr>\n",
       "    <tr>\n",
       "      <th>4</th>\n",
       "      <td>0</td>\n",
       "      <td>0</td>\n",
       "      <td>0</td>\n",
       "    </tr>\n",
       "  </tbody>\n",
       "</table>\n",
       "</div>"
      ],
      "text/plain": [
       "   has_fatal_injury  weather_condition_IMC  weather_condition_Unknown\n",
       "0                 0                      0                          1\n",
       "1                 0                      0                          1\n",
       "2                 0                      0                          0\n",
       "3                 0                      0                          1\n",
       "4                 0                      0                          0"
      ]
     },
     "execution_count": 15,
     "metadata": {},
     "output_type": "execute_result"
    }
   ],
   "source": [
    "ak_dummies_weather.head()"
   ]
  },
  {
   "cell_type": "markdown",
   "id": "52e2fe1f-be42-4e19-8a4f-8a4c1db0fca6",
   "metadata": {},
   "source": [
    "## Train, Test, Split"
   ]
  },
  {
   "cell_type": "code",
   "execution_count": 16,
   "id": "130c9f36-5770-4745-a6f2-dea95704a934",
   "metadata": {
    "tags": []
   },
   "outputs": [],
   "source": [
    "X = ak_dummies_weather.drop(columns = target)\n",
    "y = ak_dummies_weather[target]"
   ]
  },
  {
   "cell_type": "code",
   "execution_count": 17,
   "id": "86d9e924-8a1f-4e15-80a3-707b18dcf4df",
   "metadata": {
    "tags": []
   },
   "outputs": [],
   "source": [
    "X_train, X_test, y_train, y_test = train_test_split(X, y, test_size=0.1, random_state=21)"
   ]
  },
  {
   "cell_type": "markdown",
   "id": "36aa5887-7f44-48f8-afcf-5ff0a4561068",
   "metadata": {
    "tags": []
   },
   "source": [
    "## Baseline"
   ]
  },
  {
   "cell_type": "code",
   "execution_count": 18,
   "id": "488fe461-700d-449e-9d46-31ef44ec4f35",
   "metadata": {
    "tags": []
   },
   "outputs": [
    {
     "data": {
      "text/plain": [
       "0.8967799642218247"
      ]
     },
     "execution_count": 18,
     "metadata": {},
     "output_type": "execute_result"
    }
   ],
   "source": [
    "1 - y.mean()"
   ]
  },
  {
   "cell_type": "markdown",
   "id": "87a2e02f-ea76-48ca-8222-88e2d3a4c4a2",
   "metadata": {
    "tags": []
   },
   "source": [
    "## Benchmark Logistic Regression Model"
   ]
  },
  {
   "cell_type": "code",
   "execution_count": 19,
   "id": "5fda8c43-bf1d-491f-96c6-35c539d898b9",
   "metadata": {
    "tags": []
   },
   "outputs": [],
   "source": [
    "pipe_log_reg_bench = Pipeline([\n",
    "    ('sc', StandardScaler()),\n",
    "    ('log_reg_bench', LogisticRegression(max_iter=1000))\n",
    "])"
   ]
  },
  {
   "cell_type": "code",
   "execution_count": 20,
   "id": "32553da1-767f-4d94-ad10-0f656543fa07",
   "metadata": {
    "tags": []
   },
   "outputs": [
    {
     "data": {
      "text/plain": [
       "Pipeline(steps=[('sc', StandardScaler()),\n",
       "                ('log_reg_bench', LogisticRegression(max_iter=1000))])"
      ]
     },
     "execution_count": 20,
     "metadata": {},
     "output_type": "execute_result"
    }
   ],
   "source": [
    "pipe_log_reg_bench.fit(X_train, y_train)"
   ]
  },
  {
   "cell_type": "code",
   "execution_count": 21,
   "id": "2ce24728-828e-48c0-85ee-7bf336d7ab5b",
   "metadata": {
    "tags": []
   },
   "outputs": [
    {
     "data": {
      "text/plain": [
       "0.8976346650765256"
      ]
     },
     "execution_count": 21,
     "metadata": {},
     "output_type": "execute_result"
    }
   ],
   "source": [
    "pipe_log_reg_bench.score(X_train, y_train)"
   ]
  },
  {
   "cell_type": "code",
   "execution_count": 22,
   "id": "e3722c2b-0c79-4075-9676-823a3f3ad052",
   "metadata": {
    "tags": []
   },
   "outputs": [
    {
     "data": {
      "text/plain": [
       "0.9069767441860465"
      ]
     },
     "execution_count": 22,
     "metadata": {},
     "output_type": "execute_result"
    }
   ],
   "source": [
    "pipe_log_reg_bench.score(X_test, y_test)"
   ]
  },
  {
   "cell_type": "markdown",
   "id": "6c987185-bf4e-49ba-ada3-0a320271fe87",
   "metadata": {},
   "source": [
    "## Tuned Logistic Regression Model"
   ]
  },
  {
   "cell_type": "code",
   "execution_count": 23,
   "id": "bd811d1d-386f-4165-b9af-d9e93131c770",
   "metadata": {
    "tags": []
   },
   "outputs": [],
   "source": [
    "pipe_log_reg_tuned = Pipeline([\n",
    "    ('sc', StandardScaler()),\n",
    "    ('log_reg_tuned', LogisticRegression())\n",
    "])"
   ]
  },
  {
   "cell_type": "code",
   "execution_count": 24,
   "id": "7c97746f-4fab-4de7-81a3-19f3ed0636ae",
   "metadata": {
    "tags": []
   },
   "outputs": [
    {
     "data": {
      "text/plain": [
       "{'memory': None,\n",
       " 'steps': [('sc', StandardScaler()), ('log_reg_tuned', LogisticRegression())],\n",
       " 'verbose': False,\n",
       " 'sc': StandardScaler(),\n",
       " 'log_reg_tuned': LogisticRegression(),\n",
       " 'sc__copy': True,\n",
       " 'sc__with_mean': True,\n",
       " 'sc__with_std': True,\n",
       " 'log_reg_tuned__C': 1.0,\n",
       " 'log_reg_tuned__class_weight': None,\n",
       " 'log_reg_tuned__dual': False,\n",
       " 'log_reg_tuned__fit_intercept': True,\n",
       " 'log_reg_tuned__intercept_scaling': 1,\n",
       " 'log_reg_tuned__l1_ratio': None,\n",
       " 'log_reg_tuned__max_iter': 100,\n",
       " 'log_reg_tuned__multi_class': 'auto',\n",
       " 'log_reg_tuned__n_jobs': None,\n",
       " 'log_reg_tuned__penalty': 'l2',\n",
       " 'log_reg_tuned__random_state': None,\n",
       " 'log_reg_tuned__solver': 'lbfgs',\n",
       " 'log_reg_tuned__tol': 0.0001,\n",
       " 'log_reg_tuned__verbose': 0,\n",
       " 'log_reg_tuned__warm_start': False}"
      ]
     },
     "execution_count": 24,
     "metadata": {},
     "output_type": "execute_result"
    }
   ],
   "source": [
    "pipe_log_reg_tuned.get_params()"
   ]
  },
  {
   "cell_type": "code",
   "execution_count": 25,
   "id": "1abc4bf0-243a-4fb4-b0ca-cb305e0e537f",
   "metadata": {
    "tags": []
   },
   "outputs": [],
   "source": [
    "pipe_log_reg_tuned_params = {\n",
    "    'log_reg_tuned__max_iter': [100, 1_000],\n",
    "    'log_reg_tuned__C': np.linspace(0.001, 1, 5),\n",
    "    'log_reg_tuned__penalty': ['l2']\n",
    "}"
   ]
  },
  {
   "cell_type": "code",
   "execution_count": 26,
   "id": "ec0c01c9-d7f8-4c81-b73f-0faf51c12ed4",
   "metadata": {
    "tags": []
   },
   "outputs": [],
   "source": [
    "gs= GridSearchCV(pipe_log_reg_tuned,\n",
    "                                param_grid = pipe_log_reg_tuned_params,\n",
    "                                cv = 5,\n",
    "                               n_jobs=6)"
   ]
  },
  {
   "cell_type": "code",
   "execution_count": 27,
   "id": "31172b90-5df3-466c-bd21-accd31e70e68",
   "metadata": {
    "tags": []
   },
   "outputs": [
    {
     "name": "stdout",
     "output_type": "stream",
     "text": [
      "Wall time: 2.16 s\n"
     ]
    },
    {
     "data": {
      "text/plain": [
       "GridSearchCV(cv=5,\n",
       "             estimator=Pipeline(steps=[('sc', StandardScaler()),\n",
       "                                       ('log_reg_tuned',\n",
       "                                        LogisticRegression())]),\n",
       "             n_jobs=6,\n",
       "             param_grid={'log_reg_tuned__C': array([0.001  , 0.25075, 0.5005 , 0.75025, 1.     ]),\n",
       "                         'log_reg_tuned__max_iter': [100, 1000],\n",
       "                         'log_reg_tuned__penalty': ['l2']})"
      ]
     },
     "execution_count": 27,
     "metadata": {},
     "output_type": "execute_result"
    }
   ],
   "source": [
    "%%time\n",
    "gs.fit(X_train, y_train)"
   ]
  },
  {
   "cell_type": "code",
   "execution_count": 28,
   "id": "25d8df9c-3900-4ffe-8d86-4de74e64b99c",
   "metadata": {
    "tags": []
   },
   "outputs": [
    {
     "data": {
      "text/plain": [
       "{'log_reg_tuned__C': 0.25075,\n",
       " 'log_reg_tuned__max_iter': 100,\n",
       " 'log_reg_tuned__penalty': 'l2'}"
      ]
     },
     "execution_count": 28,
     "metadata": {},
     "output_type": "execute_result"
    }
   ],
   "source": [
    "gs.best_params_"
   ]
  },
  {
   "cell_type": "code",
   "execution_count": 29,
   "id": "d8d01c0c-1931-42bb-8c24-427a98ea10ae",
   "metadata": {
    "tags": []
   },
   "outputs": [
    {
     "data": {
      "text/plain": [
       "0.8976346650765256"
      ]
     },
     "execution_count": 29,
     "metadata": {},
     "output_type": "execute_result"
    }
   ],
   "source": [
    "gs.score(X_train, y_train)"
   ]
  },
  {
   "cell_type": "code",
   "execution_count": 30,
   "id": "92715f58-ab27-4e04-bfeb-d514232e5bcc",
   "metadata": {
    "tags": []
   },
   "outputs": [
    {
     "data": {
      "text/plain": [
       "0.9069767441860465"
      ]
     },
     "execution_count": 30,
     "metadata": {},
     "output_type": "execute_result"
    }
   ],
   "source": [
    "gs.score(X_test, y_test)"
   ]
  },
  {
   "cell_type": "code",
   "execution_count": 31,
   "id": "27da8ee5-5c46-4c84-b9bf-a9ea1e0f336c",
   "metadata": {
    "tags": []
   },
   "outputs": [],
   "source": [
    "y_pred = gs.predict(X_test)"
   ]
  },
  {
   "cell_type": "code",
   "execution_count": 32,
   "id": "33413653-df13-4d3b-bedc-2df1ab7fee17",
   "metadata": {
    "tags": []
   },
   "outputs": [
    {
     "data": {
      "text/plain": [
       "array([[500,   4],\n",
       "       [ 48,   7]], dtype=int64)"
      ]
     },
     "execution_count": 32,
     "metadata": {},
     "output_type": "execute_result"
    }
   ],
   "source": [
    "confusion_matrix(y_test, y_pred)"
   ]
  },
  {
   "cell_type": "code",
   "execution_count": 50,
   "metadata": {},
   "outputs": [],
   "source": [
    "    def plot_confusion_matrix(y_true, y_pred, title=\"Confusion Matrix\"):\n",
    "      \n",
    "        matrix = confusion_matrix(y_true, y_pred)\n",
    "        plt.figure(figsize=(10,7))\n",
    "        sns.heatmap(matrix, annot=True, fmt='g', cmap=\"Blues\", \n",
    "                    xticklabels=['Predicted No Fatalities', 'Predicted Fatalities'], \n",
    "                    yticklabels=['Actually No Fatalities', 'Actually Had Fatalities'])\n",
    "        plt.title(title)\n",
    "        plt.show()"
   ]
  },
  {
   "cell_type": "code",
   "execution_count": 51,
   "metadata": {},
   "outputs": [
    {
     "data": {
      "image/png": "[encoded data removed]",
      "text/plain": [
       "<Figure size 1000x700 with 2 Axes>"
      ]
     },
     "metadata": {},
     "output_type": "display_data"
    }
   ],
   "source": [
    "plot_confusion_matrix(y_test, y_pred)"
   ]
  },
  {
   "cell_type": "code",
   "execution_count": 53,
   "metadata": {},
   "outputs": [
    {
     "name": "stdout",
     "output_type": "stream",
     "text": [
      "Precision 0.9044759825327511\n",
      "Recall 0.9916217833632556\n",
      "Specificity 0.09012131715771231\n"
     ]
    }
   ],
   "source": [
    "conf_mat = confusion_matrix(y, gs.predict(X))\n",
    "print('Precision', conf_mat[0, 0] / sum(conf_mat[:, 0]))\n",
    "print('Recall', conf_mat[0, 0] / sum(conf_mat[0, :]))\n",
    "print('Specificity', conf_mat[1, 1] / sum(conf_mat[1, :]))"
   ]
  },
  {
   "cell_type": "code",
   "execution_count": 56,
   "metadata": {},
   "outputs": [
    {
     "data": {
      "image/png": "[encoded data removed]",
      "text/plain": [
       "<Figure size 400x400 with 1 Axes>"
      ]
     },
     "metadata": {},
     "output_type": "display_data"
    }
   ],
   "source": [
    "fpr, tpr, thresholds = roc_curve(y, gs.predict_proba(X)[:, 1], pos_label=1)\n",
    "roc_df = pd.DataFrame({'recall': tpr, 'specificity': 1 - fpr})\n",
    "\n",
    "ax = roc_df.plot(x='specificity', y='recall', figsize=(4, 4), legend=False)\n",
    "ax.set_ylim(0, 1)\n",
    "ax.set_xlim(1, 0)\n",
    "ax.plot((1, 0), (0, 1))\n",
    "ax.set_xlabel('specificity')\n",
    "ax.set_ylabel('recall')\n",
    "\n",
    "\n",
    "plt.tight_layout()\n",
    "plt.show()"
   ]
  },
  {
   "cell_type": "code",
   "execution_count": 58,
   "metadata": {},
   "outputs": [
    {
     "data": {
      "image/png": "[encoded data removed]",
      "text/plain": [
       "<Figure size 400x400 with 1 Axes>"
      ]
     },
     "metadata": {},
     "output_type": "display_data"
    }
   ],
   "source": [
    "fpr, tpr, thresholds = roc_curve(y, gs.predict_proba(X)[:,1], pos_label=1)\n",
    "roc_df = pd.DataFrame({'recall': tpr, 'specificity': 1 - fpr})\n",
    "\n",
    "ax = roc_df.plot(x='specificity', y='recall', figsize=(4, 4), legend=False)\n",
    "\n",
    "ax.set_ylim(0, 1)\n",
    "ax.set_xlim(1, 0)\n",
    "# ax.plot((1, 0), (0, 1))\n",
    "ax.set_xlabel('specificity')\n",
    "ax.set_ylabel('recall')\n",
    "ax.fill_between(roc_df.specificity, 0, roc_df.recall, alpha=0.3)\n",
    "\n",
    "\n",
    "plt.tight_layout()\n",
    "plt.show()"
   ]
  },
  {
   "cell_type": "code",
   "execution_count": 33,
   "id": "af217333-184f-481b-b6d0-8c51fd724be6",
   "metadata": {
    "tags": []
   },
   "outputs": [
    {
     "name": "stdout",
     "output_type": "stream",
     "text": [
      "              precision    recall  f1-score   support\n",
      "\n",
      "           0    0.91241   0.99206   0.95057       504\n",
      "           1    0.63636   0.12727   0.21212        55\n",
      "\n",
      "    accuracy                        0.90698       559\n",
      "   macro avg    0.77439   0.55967   0.58135       559\n",
      "weighted avg    0.88525   0.90698   0.87791       559\n",
      "\n"
     ]
    }
   ],
   "source": [
    "print(classification_report(y_test, y_pred, digits = 5))"
   ]
  },
  {
   "cell_type": "markdown",
   "id": "0cb7fc56-776d-4415-b944-5d257a48cb3d",
   "metadata": {
    "tags": []
   },
   "source": [
    "## Coefficients"
   ]
  },
  {
   "cell_type": "code",
   "execution_count": 34,
   "id": "62906406-96ac-483d-9328-f09b81873542",
   "metadata": {
    "tags": []
   },
   "outputs": [],
   "source": [
    "feature_names = list(X_train.columns)"
   ]
  },
  {
   "cell_type": "code",
   "execution_count": 35,
   "id": "9915ba46-049d-4182-a38b-9a48984a276f",
   "metadata": {
    "tags": []
   },
   "outputs": [],
   "source": [
    "coef_log_odds = gs.best_estimator_.named_steps['log_reg_tuned'].coef_[0]"
   ]
  },
  {
   "cell_type": "code",
   "execution_count": 36,
   "id": "bf572e04-97f1-4137-a88e-5fa8a65d82fb",
   "metadata": {
    "tags": []
   },
   "outputs": [],
   "source": [
    "coef_odds = np.exp(gs.best_estimator_.named_steps['log_reg_tuned'].coef_[0])"
   ]
  },
  {
   "cell_type": "code",
   "execution_count": 37,
   "id": "bc2f07d6-9118-4bea-8e45-98aeb3c49eb6",
   "metadata": {
    "tags": []
   },
   "outputs": [],
   "source": [
    "coef_log_odds_df = pd.DataFrame({'feature': feature_names, 'coefficient': coef_log_odds})"
   ]
  },
  {
   "cell_type": "code",
   "execution_count": 38,
   "id": "ee6b4036-da29-4a45-918a-ac9991e95f97",
   "metadata": {},
   "outputs": [],
   "source": [
    "coef_odds_df = pd.DataFrame({'feature': feature_names, 'coefficient': coef_odds})"
   ]
  },
  {
   "cell_type": "code",
   "execution_count": 39,
   "id": "a208d7de-f1f8-425f-ae3d-f35199854d2f",
   "metadata": {},
   "outputs": [
    {
     "data": {
      "text/html": [
       "<div>\n",
       "<style scoped>\n",
       "    .dataframe tbody tr th:only-of-type {\n",
       "        vertical-align: middle;\n",
       "    }\n",
       "\n",
       "    .dataframe tbody tr th {\n",
       "        vertical-align: top;\n",
       "    }\n",
       "\n",
       "    .dataframe thead th {\n",
       "        text-align: right;\n",
       "    }\n",
       "</style>\n",
       "<table border=\"1\" class=\"dataframe\">\n",
       "  <thead>\n",
       "    <tr style=\"text-align: right;\">\n",
       "      <th></th>\n",
       "      <th>feature</th>\n",
       "      <th>coefficient</th>\n",
       "    </tr>\n",
       "  </thead>\n",
       "  <tbody>\n",
       "    <tr>\n",
       "      <th>0</th>\n",
       "      <td>weather_condition_IMC</td>\n",
       "      <td>0.515280</td>\n",
       "    </tr>\n",
       "    <tr>\n",
       "      <th>1</th>\n",
       "      <td>weather_condition_Unknown</td>\n",
       "      <td>0.339314</td>\n",
       "    </tr>\n",
       "  </tbody>\n",
       "</table>\n",
       "</div>"
      ],
      "text/plain": [
       "                     feature  coefficient\n",
       "0      weather_condition_IMC     0.515280\n",
       "1  weather_condition_Unknown     0.339314"
      ]
     },
     "execution_count": 39,
     "metadata": {},
     "output_type": "execute_result"
    }
   ],
   "source": [
    "pd.set_option('display.max_rows', None)\n",
    "coef_log_odds_df.head()"
   ]
  },
  {
   "cell_type": "code",
   "execution_count": 40,
   "id": "bbde5e2c-4e21-4bfb-8bcc-9addaf755dad",
   "metadata": {
    "tags": []
   },
   "outputs": [
    {
     "data": {
      "text/html": [
       "<div>\n",
       "<style scoped>\n",
       "    .dataframe tbody tr th:only-of-type {\n",
       "        vertical-align: middle;\n",
       "    }\n",
       "\n",
       "    .dataframe tbody tr th {\n",
       "        vertical-align: top;\n",
       "    }\n",
       "\n",
       "    .dataframe thead th {\n",
       "        text-align: right;\n",
       "    }\n",
       "</style>\n",
       "<table border=\"1\" class=\"dataframe\">\n",
       "  <thead>\n",
       "    <tr style=\"text-align: right;\">\n",
       "      <th></th>\n",
       "      <th>feature</th>\n",
       "      <th>coefficient</th>\n",
       "    </tr>\n",
       "  </thead>\n",
       "  <tbody>\n",
       "    <tr>\n",
       "      <th>0</th>\n",
       "      <td>weather_condition_IMC</td>\n",
       "      <td>1.674108</td>\n",
       "    </tr>\n",
       "    <tr>\n",
       "      <th>1</th>\n",
       "      <td>weather_condition_Unknown</td>\n",
       "      <td>1.403984</td>\n",
       "    </tr>\n",
       "  </tbody>\n",
       "</table>\n",
       "</div>"
      ],
      "text/plain": [
       "                     feature  coefficient\n",
       "0      weather_condition_IMC     1.674108\n",
       "1  weather_condition_Unknown     1.403984"
      ]
     },
     "execution_count": 40,
     "metadata": {},
     "output_type": "execute_result"
    }
   ],
   "source": [
    "pd.set_option('display.max_rows', None)\n",
    "coef_odds_df.head()"
   ]
  },
  {
   "cell_type": "code",
   "execution_count": 41,
   "id": "84e77b3f-fbbf-4f6e-a681-080e8232aab7",
   "metadata": {
    "tags": []
   },
   "outputs": [
    {
     "ename": "OSError",
     "evalue": "Cannot save file into a non-existent directory: '..\\..\\datasets'",
     "output_type": "error",
     "traceback": [
      "\u001b[1;31m---------------------------------------------------------------------------\u001b[0m",
      "\u001b[1;31mOSError\u001b[0m                                   Traceback (most recent call last)",
      "\u001b[1;32m~\\AppData\\Local\\Temp\\ipykernel_43280\\516737412.py\u001b[0m in \u001b[0;36m<module>\u001b[1;34m\u001b[0m\n\u001b[0;32m      1\u001b[0m \u001b[0mfile_name\u001b[0m \u001b[1;33m=\u001b[0m \u001b[1;34mf\"../../datasets/nolan_logreg_{predictor}-{target}_coef.csv\"\u001b[0m\u001b[1;33m\u001b[0m\u001b[1;33m\u001b[0m\u001b[0m\n\u001b[0;32m      2\u001b[0m \u001b[1;33m\u001b[0m\u001b[0m\n\u001b[1;32m----> 3\u001b[1;33m \u001b[0mcoef_log_odds_df\u001b[0m\u001b[1;33m.\u001b[0m\u001b[0mto_csv\u001b[0m\u001b[1;33m(\u001b[0m\u001b[0mfile_name\u001b[0m\u001b[1;33m,\u001b[0m \u001b[0mindex\u001b[0m\u001b[1;33m=\u001b[0m\u001b[1;32mFalse\u001b[0m\u001b[1;33m)\u001b[0m\u001b[1;33m\u001b[0m\u001b[1;33m\u001b[0m\u001b[0m\n\u001b[0m",
      "\u001b[1;32mc:\\Users\\muham\\anaconda3\\lib\\site-packages\\pandas\\core\\generic.py\u001b[0m in \u001b[0;36mto_csv\u001b[1;34m(self, path_or_buf, sep, na_rep, float_format, columns, header, index, index_label, mode, encoding, compression, quoting, quotechar, line_terminator, chunksize, date_format, doublequote, escapechar, decimal, errors, storage_options)\u001b[0m\n\u001b[0;32m   3549\u001b[0m         )\n\u001b[0;32m   3550\u001b[0m \u001b[1;33m\u001b[0m\u001b[0m\n\u001b[1;32m-> 3551\u001b[1;33m         return DataFrameRenderer(formatter).to_csv(\n\u001b[0m\u001b[0;32m   3552\u001b[0m             \u001b[0mpath_or_buf\u001b[0m\u001b[1;33m,\u001b[0m\u001b[1;33m\u001b[0m\u001b[1;33m\u001b[0m\u001b[0m\n\u001b[0;32m   3553\u001b[0m             \u001b[0mline_terminator\u001b[0m\u001b[1;33m=\u001b[0m\u001b[0mline_terminator\u001b[0m\u001b[1;33m,\u001b[0m\u001b[1;33m\u001b[0m\u001b[1;33m\u001b[0m\u001b[0m\n",
      "\u001b[1;32mc:\\Users\\muham\\anaconda3\\lib\\site-packages\\pandas\\io\\formats\\format.py\u001b[0m in \u001b[0;36mto_csv\u001b[1;34m(self, path_or_buf, encoding, sep, columns, index_label, mode, compression, quoting, quotechar, line_terminator, chunksize, date_format, doublequote, escapechar, errors, storage_options)\u001b[0m\n\u001b[0;32m   1178\u001b[0m             \u001b[0mformatter\u001b[0m\u001b[1;33m=\u001b[0m\u001b[0mself\u001b[0m\u001b[1;33m.\u001b[0m\u001b[0mfmt\u001b[0m\u001b[1;33m,\u001b[0m\u001b[1;33m\u001b[0m\u001b[1;33m\u001b[0m\u001b[0m\n\u001b[0;32m   1179\u001b[0m         )\n\u001b[1;32m-> 1180\u001b[1;33m         \u001b[0mcsv_formatter\u001b[0m\u001b[1;33m.\u001b[0m\u001b[0msave\u001b[0m\u001b[1;33m(\u001b[0m\u001b[1;33m)\u001b[0m\u001b[1;33m\u001b[0m\u001b[1;33m\u001b[0m\u001b[0m\n\u001b[0m\u001b[0;32m   1181\u001b[0m \u001b[1;33m\u001b[0m\u001b[0m\n\u001b[0;32m   1182\u001b[0m         \u001b[1;32mif\u001b[0m \u001b[0mcreated_buffer\u001b[0m\u001b[1;33m:\u001b[0m\u001b[1;33m\u001b[0m\u001b[1;33m\u001b[0m\u001b[0m\n",
      "\u001b[1;32mc:\\Users\\muham\\anaconda3\\lib\\site-packages\\pandas\\io\\formats\\csvs.py\u001b[0m in \u001b[0;36msave\u001b[1;34m(self)\u001b[0m\n\u001b[0;32m    239\u001b[0m         \"\"\"\n\u001b[0;32m    240\u001b[0m         \u001b[1;31m# apply compression and byte/text conversion\u001b[0m\u001b[1;33m\u001b[0m\u001b[1;33m\u001b[0m\u001b[0m\n\u001b[1;32m--> 241\u001b[1;33m         with get_handle(\n\u001b[0m\u001b[0;32m    242\u001b[0m             \u001b[0mself\u001b[0m\u001b[1;33m.\u001b[0m\u001b[0mfilepath_or_buffer\u001b[0m\u001b[1;33m,\u001b[0m\u001b[1;33m\u001b[0m\u001b[1;33m\u001b[0m\u001b[0m\n\u001b[0;32m    243\u001b[0m             \u001b[0mself\u001b[0m\u001b[1;33m.\u001b[0m\u001b[0mmode\u001b[0m\u001b[1;33m,\u001b[0m\u001b[1;33m\u001b[0m\u001b[1;33m\u001b[0m\u001b[0m\n",
      "\u001b[1;32mc:\\Users\\muham\\anaconda3\\lib\\site-packages\\pandas\\io\\common.py\u001b[0m in \u001b[0;36mget_handle\u001b[1;34m(path_or_buf, mode, encoding, compression, memory_map, is_text, errors, storage_options)\u001b[0m\n\u001b[0;32m    692\u001b[0m     \u001b[1;31m# Only for write methods\u001b[0m\u001b[1;33m\u001b[0m\u001b[1;33m\u001b[0m\u001b[0m\n\u001b[0;32m    693\u001b[0m     \u001b[1;32mif\u001b[0m \u001b[1;34m\"r\"\u001b[0m \u001b[1;32mnot\u001b[0m \u001b[1;32min\u001b[0m \u001b[0mmode\u001b[0m \u001b[1;32mand\u001b[0m \u001b[0mis_path\u001b[0m\u001b[1;33m:\u001b[0m\u001b[1;33m\u001b[0m\u001b[1;33m\u001b[0m\u001b[0m\n\u001b[1;32m--> 694\u001b[1;33m         \u001b[0mcheck_parent_directory\u001b[0m\u001b[1;33m(\u001b[0m\u001b[0mstr\u001b[0m\u001b[1;33m(\u001b[0m\u001b[0mhandle\u001b[0m\u001b[1;33m)\u001b[0m\u001b[1;33m)\u001b[0m\u001b[1;33m\u001b[0m\u001b[1;33m\u001b[0m\u001b[0m\n\u001b[0m\u001b[0;32m    695\u001b[0m \u001b[1;33m\u001b[0m\u001b[0m\n\u001b[0;32m    696\u001b[0m     \u001b[1;32mif\u001b[0m \u001b[0mcompression\u001b[0m\u001b[1;33m:\u001b[0m\u001b[1;33m\u001b[0m\u001b[1;33m\u001b[0m\u001b[0m\n",
      "\u001b[1;32mc:\\Users\\muham\\anaconda3\\lib\\site-packages\\pandas\\io\\common.py\u001b[0m in \u001b[0;36mcheck_parent_directory\u001b[1;34m(path)\u001b[0m\n\u001b[0;32m    566\u001b[0m     \u001b[0mparent\u001b[0m \u001b[1;33m=\u001b[0m \u001b[0mPath\u001b[0m\u001b[1;33m(\u001b[0m\u001b[0mpath\u001b[0m\u001b[1;33m)\u001b[0m\u001b[1;33m.\u001b[0m\u001b[0mparent\u001b[0m\u001b[1;33m\u001b[0m\u001b[1;33m\u001b[0m\u001b[0m\n\u001b[0;32m    567\u001b[0m     \u001b[1;32mif\u001b[0m \u001b[1;32mnot\u001b[0m \u001b[0mparent\u001b[0m\u001b[1;33m.\u001b[0m\u001b[0mis_dir\u001b[0m\u001b[1;33m(\u001b[0m\u001b[1;33m)\u001b[0m\u001b[1;33m:\u001b[0m\u001b[1;33m\u001b[0m\u001b[1;33m\u001b[0m\u001b[0m\n\u001b[1;32m--> 568\u001b[1;33m         \u001b[1;32mraise\u001b[0m \u001b[0mOSError\u001b[0m\u001b[1;33m(\u001b[0m\u001b[1;34mrf\"Cannot save file into a non-existent directory: '{parent}'\"\u001b[0m\u001b[1;33m)\u001b[0m\u001b[1;33m\u001b[0m\u001b[1;33m\u001b[0m\u001b[0m\n\u001b[0m\u001b[0;32m    569\u001b[0m \u001b[1;33m\u001b[0m\u001b[0m\n\u001b[0;32m    570\u001b[0m \u001b[1;33m\u001b[0m\u001b[0m\n",
      "\u001b[1;31mOSError\u001b[0m: Cannot save file into a non-existent directory: '..\\..\\datasets'"
     ]
    }
   ],
   "source": [
    "# file_name = f\"../../datasets/nolan_logreg_{predictor}-{target}_coef.csv\"\n",
    "\n",
    "# coef_log_odds_df.to_csv(file_name, index=False)"
   ]
  },
  {
   "cell_type": "markdown",
   "id": "f4f3dfab-093e-41dc-b38e-af7428bab371",
   "metadata": {},
   "source": [
    "## Pickle"
   ]
  },
  {
   "cell_type": "code",
   "execution_count": 38,
   "id": "3f5a90ff-364c-4733-b6cb-5dbb12680bae",
   "metadata": {
    "tags": []
   },
   "outputs": [],
   "source": [
    "# file_name = f\"../../pickles/nolan_logreg_{predictor}-{target}.pkl\"\n",
    "\n",
    "# with open(file_name, 'wb') as f:\n",
    "#     pickle.dump(gs, f) "
   ]
  }
 ],
 "metadata": {
  "kernelspec": {
   "display_name": "Python 3 (ipykernel)",
   "language": "python",
   "name": "python3"
  },
  "language_info": {
   "codemirror_mode": {
    "name": "ipython",
    "version": 3
   },
   "file_extension": ".py",
   "mimetype": "text/x-python",
   "name": "python",
   "nbconvert_exporter": "python",
   "pygments_lexer": "ipython3",
   "version": "3.9.13"
  }
 },
 "nbformat": 4,
 "nbformat_minor": 5
}
