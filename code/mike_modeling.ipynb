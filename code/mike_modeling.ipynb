{
 "cells": [
  {
   "cell_type": "code",
   "execution_count": 218,
   "id": "0461914e-1b0d-4538-8f25-84686949b8b3",
   "metadata": {
    "tags": []
   },
   "outputs": [],
   "source": [
    "import pandas as pd\n",
    "import numpy as np\n",
    "import matplotlib.pyplot as plt\n",
    "\n",
    "from sklearn import metrics\n",
    "from sklearn.preprocessing import OneHotEncoder, StandardScaler\n",
    "from sklearn.model_selection import train_test_split, RandomizedSearchCV, GridSearchCV\n",
    "from sklearn.compose import ColumnTransformer\n",
    "from sklearn.pipeline import Pipeline\n",
    "from sklearn.linear_model import LogisticRegression\n",
    "from sklearn.ensemble import RandomForestClassifier\n",
    "from sklearn.tree import DecisionTreeClassifier\n",
    "from sklearn.svm import SVC, LinearSVC\n",
    "import statsmodels.api as sm\n",
    "import seaborn as sns\n",
    "\n",
    "from sklearn.metrics import confusion_matrix, ConfusionMatrixDisplay\n",
    "\n",
    "import pickle"
   ]
  },
  {
   "cell_type": "markdown",
   "id": "2bc9e2ad-95c8-470c-8089-1f0c095a6484",
   "metadata": {},
   "source": [
    "### Read in data"
   ]
  },
  {
   "cell_type": "code",
   "execution_count": 219,
   "id": "62dda5dc-805f-46fe-a088-4182a9869d34",
   "metadata": {},
   "outputs": [],
   "source": [
    "df2 = pd.read_csv('../datasets/alaska_single_engine_clean.csv')"
   ]
  },
  {
   "cell_type": "code",
   "execution_count": 220,
   "id": "13a623a1-8a46-4f1d-89e3-56a9d7b95c6a",
   "metadata": {
    "tags": []
   },
   "outputs": [
    {
     "data": {
      "text/plain": [
       "1074"
      ]
     },
     "execution_count": 220,
     "metadata": {},
     "output_type": "execute_result"
    }
   ],
   "source": [
    "len(df2['model'].unique())"
   ]
  },
  {
   "cell_type": "markdown",
   "id": "07a74eec-920f-4032-a4a3-abcd97fcf070",
   "metadata": {},
   "source": [
    "## Double check "
   ]
  },
  {
   "cell_type": "code",
   "execution_count": 221,
   "id": "9a780287-5dc7-4ea0-8fd4-eb4ab9a179f0",
   "metadata": {
    "tags": []
   },
   "outputs": [
    {
     "data": {
      "text/plain": [
       "None Reported    4080\n",
       "Minor             640\n",
       "Fatal             621\n",
       "Serious           387\n",
       "Name: highest_injury_level, dtype: int64"
      ]
     },
     "execution_count": 221,
     "metadata": {},
     "output_type": "execute_result"
    }
   ],
   "source": [
    "df2['highest_injury_level'].value_counts()"
   ]
  },
  {
   "cell_type": "code",
   "execution_count": 222,
   "id": "a54d7b86-2ec6-4b24-89eb-748de55fa3f0",
   "metadata": {
    "tags": []
   },
   "outputs": [
    {
     "data": {
      "text/plain": [
       "Substantial      4982\n",
       "Destroyed         537\n",
       "Minor             134\n",
       "None Reported      52\n",
       "None               18\n",
       "Unknown             5\n",
       "Name: aircraft_damage, dtype: int64"
      ]
     },
     "execution_count": 222,
     "metadata": {},
     "output_type": "execute_result"
    }
   ],
   "source": [
    "df2['aircraft_damage'].value_counts()"
   ]
  },
  {
   "cell_type": "code",
   "execution_count": 223,
   "id": "9a30ed63-952c-47c1-9e1f-2d5661823794",
   "metadata": {
    "tags": []
   },
   "outputs": [],
   "source": [
    "df2['model'] = df2['model'].str.upper()"
   ]
  },
  {
   "cell_type": "code",
   "execution_count": 224,
   "id": "3ac5b1ac-d24f-4dd8-916f-720bb9d12db1",
   "metadata": {
    "tags": []
   },
   "outputs": [],
   "source": [
    "df2['make'] = df2['make'].str.upper()"
   ]
  },
  {
   "cell_type": "markdown",
   "id": "a0531e73-2ce3-47dd-b422-99fdeb6d2e3e",
   "metadata": {},
   "source": [
    "### Binarize and engineer"
   ]
  },
  {
   "cell_type": "code",
   "execution_count": 225,
   "id": "b05a4340-84e2-47a3-86f1-dc36d82622ac",
   "metadata": {
    "tags": []
   },
   "outputs": [],
   "source": [
    "df2['occurred_near_airpor'] = 1 - df2['airport_name'].str.contains('Unknown').astype(int)"
   ]
  },
  {
   "cell_type": "code",
   "execution_count": 226,
   "id": "23cf4f84-5dd6-4825-9001-b509897f8fa8",
   "metadata": {
    "tags": []
   },
   "outputs": [],
   "source": [
    "df2['purpose_of_flight'] = df2['purpose_of_flight'].map(lambda x: 'UNK' if x=='Unknown' else x)"
   ]
  },
  {
   "cell_type": "code",
   "execution_count": 227,
   "id": "a7e46535-4709-468b-98b0-d5e0048a256e",
   "metadata": {
    "tags": []
   },
   "outputs": [],
   "source": [
    "def is_top_model(model, top_x):\n",
    "    top_list = list(df2['model'].value_counts()[:top_x + 1].index.str.upper())\n",
    "    return True if model.upper() in top_list else False"
   ]
  },
  {
   "cell_type": "code",
   "execution_count": 228,
   "id": "a72bb86f-0d6d-448f-af2c-f8f041b3e7a0",
   "metadata": {
    "tags": []
   },
   "outputs": [],
   "source": [
    "df2['model'] = [x.upper() if is_top_model(x,200) else 'UNCOMMON MODEL' for x in df2['model']]"
   ]
  },
  {
   "cell_type": "code",
   "execution_count": 229,
   "id": "d94598b8-7f74-4e1b-95fe-c67de561610c",
   "metadata": {
    "tags": []
   },
   "outputs": [],
   "source": [
    "def is_top_make(make, top_x):\n",
    "    top_list = list(df2['make'].value_counts()[:top_x + 1].index.str.upper())\n",
    "    return True if make.upper() in top_list else False"
   ]
  },
  {
   "cell_type": "code",
   "execution_count": 230,
   "id": "c8b2d9d1-a5f7-4939-814a-198a6266c00e",
   "metadata": {
    "tags": []
   },
   "outputs": [],
   "source": [
    "df2['make'] = [x.upper() if is_top_make(x,50) else 'UNCOMMON MAKE' for x in df2['make']]\n"
   ]
  },
  {
   "cell_type": "code",
   "execution_count": null,
   "id": "5291291f-ad14-44c2-a3ff-ee0243a69e0c",
   "metadata": {
    "tags": []
   },
   "outputs": [],
   "source": []
  },
  {
   "cell_type": "code",
   "execution_count": 231,
   "id": "f09f2b4d-e9f4-4793-9a2c-a3ca791a0379",
   "metadata": {
    "tags": []
   },
   "outputs": [],
   "source": [
    "df2['scheduled'] = df2['scheduled'].map(lambda x: 'UNK' if x == 'Unknown' else x)"
   ]
  },
  {
   "cell_type": "markdown",
   "id": "55d0c99d-447d-4228-a002-22ca70a8b2b0",
   "metadata": {},
   "source": [
    "### Create X"
   ]
  },
  {
   "cell_type": "code",
   "execution_count": 264,
   "id": "67ba37f6-afcd-4e48-abf3-feb98cc485ac",
   "metadata": {
    "tags": []
   },
   "outputs": [],
   "source": [
    "X = df2.drop(['ntsb_no', 'probable_cause', 'airport_name', 'event_type', 'mkey', 'city', 'n', 'has_safety_rec', 'report_type', 'highest_injury_level', 'fatal_injury_count', 'serious_injury_count', 'minor_injury_count', 'airport_id', 'far', 'aircraft_damage', 'operator', 'event_year', 'event_season', 'event_day', 'aircraft_category', 'has_injury', 'event_time','has_aircraft_damage'], axis=1)"
   ]
  },
  {
   "cell_type": "markdown",
   "id": "4bb3cf04-e1b9-44fd-8cef-e21c7f5b4101",
   "metadata": {
    "tags": []
   },
   "source": [
    "### Create Y"
   ]
  },
  {
   "cell_type": "code",
   "execution_count": 234,
   "id": "f4948649-ba58-456d-8955-6529ae4b34a4",
   "metadata": {
    "tags": []
   },
   "outputs": [],
   "source": [
    "y = df2['has_injury']"
   ]
  },
  {
   "cell_type": "code",
   "execution_count": 263,
   "id": "6302bf7e-9fc1-44e1-9030-d54c261133f6",
   "metadata": {
    "tags": []
   },
   "outputs": [
    {
     "data": {
      "text/plain": [
       "0.7122905027932961"
      ]
     },
     "execution_count": 263,
     "metadata": {},
     "output_type": "execute_result"
    }
   ],
   "source": [
    "baseline = 1 - y.mean()\n",
    "baseline"
   ]
  },
  {
   "cell_type": "markdown",
   "id": "ddfea852-2354-4911-b449-80e14f699953",
   "metadata": {},
   "source": [
    "### Create dummies"
   ]
  },
  {
   "cell_type": "code",
   "execution_count": 265,
   "id": "dd24c50f-9366-4cbc-8e7f-9c70d80ad351",
   "metadata": {
    "tags": []
   },
   "outputs": [],
   "source": [
    "X_dummy = pd.get_dummies(data=X,\n",
    "                         columns=['make', 'model', 'scheduled', 'purpose_of_flight', 'weather_condition', 'event_month', 'event_hour'],\n",
    "                         drop_first=True\n",
    "        )"
   ]
  },
  {
   "cell_type": "code",
   "execution_count": 266,
   "id": "a6e73850-db1d-4507-bdf2-e507c97eebc3",
   "metadata": {
    "tags": []
   },
   "outputs": [
    {
     "data": {
      "text/plain": [
       "(5728, 312)"
      ]
     },
     "execution_count": 266,
     "metadata": {},
     "output_type": "execute_result"
    }
   ],
   "source": [
    "X_dummy.shape"
   ]
  },
  {
   "cell_type": "code",
   "execution_count": 237,
   "id": "43b495b7-4c50-4e7f-9055-4d358235cf47",
   "metadata": {
    "tags": []
   },
   "outputs": [
    {
     "data": {
      "text/plain": [
       "0.7122905027932961"
      ]
     },
     "execution_count": 237,
     "metadata": {},
     "output_type": "execute_result"
    }
   ],
   "source": []
  },
  {
   "cell_type": "markdown",
   "id": "e1088794-ffc2-477e-b287-bc99dfbc8608",
   "metadata": {
    "tags": []
   },
   "source": [
    "### Add constant for use in GLM"
   ]
  },
  {
   "cell_type": "code",
   "execution_count": 267,
   "id": "10d40949-3049-4b41-bbba-db907cef6156",
   "metadata": {
    "tags": []
   },
   "outputs": [],
   "source": [
    "X_con = sm.add_constant(X_dummy[list(X_dummy.columns)])"
   ]
  },
  {
   "cell_type": "code",
   "execution_count": 268,
   "id": "0dc9de7c-a02e-4a3f-81c9-7f99df3efca3",
   "metadata": {
    "tags": []
   },
   "outputs": [
    {
     "data": {
      "text/plain": [
       "(5728, 313)"
      ]
     },
     "execution_count": 268,
     "metadata": {},
     "output_type": "execute_result"
    }
   ],
   "source": [
    "X_con.shape"
   ]
  },
  {
   "cell_type": "markdown",
   "id": "ff750b34-da85-438d-abe0-234efffb1a0e",
   "metadata": {},
   "source": [
    "### Train test split"
   ]
  },
  {
   "cell_type": "code",
   "execution_count": 240,
   "id": "6caa1486-fd9b-4f14-a351-3932878a9ca5",
   "metadata": {
    "tags": []
   },
   "outputs": [],
   "source": [
    "X_train, X_test, y_train, y_test = train_test_split(X_con, y, random_state=2023)"
   ]
  },
  {
   "cell_type": "code",
   "execution_count": 269,
   "id": "e9188c57-8fc1-4126-ae85-80e41f5a3a04",
   "metadata": {
    "tags": []
   },
   "outputs": [
    {
     "data": {
      "text/plain": [
       "(4296, 313)"
      ]
     },
     "execution_count": 269,
     "metadata": {},
     "output_type": "execute_result"
    }
   ],
   "source": [
    "X_train.shape"
   ]
  },
  {
   "cell_type": "code",
   "execution_count": null,
   "id": "f72eea4d-8a1a-45e9-a566-7da6a753b513",
   "metadata": {},
   "outputs": [],
   "source": []
  },
  {
   "cell_type": "code",
   "execution_count": 270,
   "id": "9554ef76-7cbc-43e2-bed8-5d1c1216faef",
   "metadata": {
    "tags": []
   },
   "outputs": [],
   "source": [
    "glm_bin = sm.GLM(\n",
    "    y_train,\n",
    "    X_train,\n",
    "    family=sm.families.Binomial(link=sm.families.links.Logit())).fit()"
   ]
  },
  {
   "cell_type": "code",
   "execution_count": 271,
   "id": "0ddc3f2a-a987-4d2a-a2d8-34420023ec95",
   "metadata": {
    "tags": []
   },
   "outputs": [],
   "source": [
    "glm_bin_results = glm_bin.summary()"
   ]
  },
  {
   "cell_type": "code",
   "execution_count": 243,
   "id": "135eaffa-2dcb-4e9c-b810-736cc119c13d",
   "metadata": {
    "tags": []
   },
   "outputs": [],
   "source": [
    "test_pred = glm_bin.predict(X_test)"
   ]
  },
  {
   "cell_type": "code",
   "execution_count": 244,
   "id": "828d4d28-1b43-4af1-b4bd-a03ef3ed7ae6",
   "metadata": {
    "tags": []
   },
   "outputs": [],
   "source": [
    "test_pred = test_pred.map(lambda x: 1 if x >=0.40 else 0)"
   ]
  },
  {
   "cell_type": "code",
   "execution_count": null,
   "id": "b450c75f-bf43-4f6d-bc8d-d7b4b682d259",
   "metadata": {
    "tags": []
   },
   "outputs": [],
   "source": []
  },
  {
   "cell_type": "code",
   "execution_count": null,
   "id": "a73e4b8e-0baa-4375-b74c-febf26a91111",
   "metadata": {
    "tags": []
   },
   "outputs": [],
   "source": []
  },
  {
   "cell_type": "code",
   "execution_count": 245,
   "id": "eaec68d6-25f2-48a9-870d-1090d627b435",
   "metadata": {
    "tags": []
   },
   "outputs": [],
   "source": [
    "def glm_accuracy(model, x, y):\n",
    "    test_pred = model.predict(x)\n",
    "    test_pred = test_pred.map(lambda x: 1 if x >=0.50 else 0)\n",
    "    acc = pd.concat([test_pred, y], axis = 1)\n",
    "    return acc[acc.iloc[:, 0] == acc.iloc[:, 1]].shape[0] / y.shape[0]"
   ]
  },
  {
   "cell_type": "code",
   "execution_count": 246,
   "id": "55588ee7-91ff-47ec-94a6-33c204b6a961",
   "metadata": {
    "tags": []
   },
   "outputs": [],
   "source": [
    "# acc = pd.concat([test_pred, y_test], axis = 1)"
   ]
  },
  {
   "cell_type": "code",
   "execution_count": 247,
   "id": "aebb6f2a-c043-435b-b852-d0a59272e52f",
   "metadata": {
    "tags": []
   },
   "outputs": [],
   "source": [
    "#acc.rename({0 :'predicted', 'has_injury' : 'actual'}, axis =1 , inplace = True)"
   ]
  },
  {
   "cell_type": "code",
   "execution_count": 248,
   "id": "74b3a90e-2166-4218-a933-733690def1cb",
   "metadata": {
    "tags": []
   },
   "outputs": [],
   "source": [
    "#accuracy = acc[(acc['predicted'] == acc['actual'])].shape[0] / y_test.shape[0]"
   ]
  },
  {
   "cell_type": "code",
   "execution_count": null,
   "id": "14d1ac60-5edd-44b6-b461-fc212db44a04",
   "metadata": {
    "tags": []
   },
   "outputs": [],
   "source": []
  },
  {
   "cell_type": "code",
   "execution_count": 249,
   "id": "c7df99dd-21a2-4711-9c9a-3d09d99c1b5e",
   "metadata": {
    "tags": []
   },
   "outputs": [],
   "source": [
    "#glm_accuracy(glm_bin, X_test, y_test)"
   ]
  },
  {
   "cell_type": "code",
   "execution_count": 272,
   "id": "701cc20b-bab0-4eb4-8238-8885e0af86fe",
   "metadata": {
    "tags": []
   },
   "outputs": [],
   "source": [
    "glm_bin_pvalues = np.round(glm_bin.pvalues, 4).to_frame().sort_values(by =  0, ascending = True)"
   ]
  },
  {
   "cell_type": "code",
   "execution_count": 251,
   "id": "6d4ca406-9d51-4602-aba1-cea9a5d508f7",
   "metadata": {
    "tags": []
   },
   "outputs": [
    {
     "data": {
      "text/html": [
       "<div>\n",
       "<style scoped>\n",
       "    .dataframe tbody tr th:only-of-type {\n",
       "        vertical-align: middle;\n",
       "    }\n",
       "\n",
       "    .dataframe tbody tr th {\n",
       "        vertical-align: top;\n",
       "    }\n",
       "\n",
       "    .dataframe thead th {\n",
       "        text-align: right;\n",
       "    }\n",
       "</style>\n",
       "<table border=\"1\" class=\"dataframe\">\n",
       "  <thead>\n",
       "    <tr style=\"text-align: right;\">\n",
       "      <th></th>\n",
       "      <th>0</th>\n",
       "    </tr>\n",
       "  </thead>\n",
       "  <tbody>\n",
       "    <tr>\n",
       "      <th>purpose_of_flight_PUBL</th>\n",
       "      <td>47.624106</td>\n",
       "    </tr>\n",
       "    <tr>\n",
       "      <th>model_A-1B</th>\n",
       "      <td>27.429406</td>\n",
       "    </tr>\n",
       "    <tr>\n",
       "      <th>make_MCDONNELL DOUGLAS HELICOPTER</th>\n",
       "      <td>27.023862</td>\n",
       "    </tr>\n",
       "    <tr>\n",
       "      <th>make_CONSOLIDATED AERONAUTICS INC.</th>\n",
       "      <td>26.826940</td>\n",
       "    </tr>\n",
       "    <tr>\n",
       "      <th>model_177</th>\n",
       "      <td>26.583769</td>\n",
       "    </tr>\n",
       "    <tr>\n",
       "      <th>...</th>\n",
       "      <td>...</td>\n",
       "    </tr>\n",
       "    <tr>\n",
       "      <th>model_DHC-6</th>\n",
       "      <td>-25.852478</td>\n",
       "    </tr>\n",
       "    <tr>\n",
       "      <th>make_SHORT BROS. &amp; HARLAND</th>\n",
       "      <td>-26.080935</td>\n",
       "    </tr>\n",
       "    <tr>\n",
       "      <th>model_MD-82</th>\n",
       "      <td>-27.468717</td>\n",
       "    </tr>\n",
       "    <tr>\n",
       "      <th>make_AVIAT AIRCRAFT INC</th>\n",
       "      <td>-27.499618</td>\n",
       "    </tr>\n",
       "    <tr>\n",
       "      <th>make_HILLER</th>\n",
       "      <td>-47.452298</td>\n",
       "    </tr>\n",
       "  </tbody>\n",
       "</table>\n",
       "<p>313 rows × 1 columns</p>\n",
       "</div>"
      ],
      "text/plain": [
       "                                            0\n",
       "purpose_of_flight_PUBL              47.624106\n",
       "model_A-1B                          27.429406\n",
       "make_MCDONNELL DOUGLAS HELICOPTER   27.023862\n",
       "make_CONSOLIDATED AERONAUTICS INC.  26.826940\n",
       "model_177                           26.583769\n",
       "...                                       ...\n",
       "model_DHC-6                        -25.852478\n",
       "make_SHORT BROS. & HARLAND         -26.080935\n",
       "model_MD-82                        -27.468717\n",
       "make_AVIAT AIRCRAFT INC            -27.499618\n",
       "make_HILLER                        -47.452298\n",
       "\n",
       "[313 rows x 1 columns]"
      ]
     },
     "execution_count": 251,
     "metadata": {},
     "output_type": "execute_result"
    }
   ],
   "source": [
    "glm_bin_coef_df = glm_bin.params.to_frame().sort_values(by = 0, ascending = False)\n",
    "glm_bin_coef_df"
   ]
  },
  {
   "cell_type": "code",
   "execution_count": 252,
   "id": "7467ce5f-f5f6-4940-b8b2-6258cf894ebd",
   "metadata": {
    "tags": []
   },
   "outputs": [],
   "source": [
    "glm_bin_coef_df = glm_bin.params.to_frame().sort_values(by = 0, ascending = False)"
   ]
  },
  {
   "cell_type": "code",
   "execution_count": 253,
   "id": "57eb8b12-26ef-4113-bed8-36527f591a30",
   "metadata": {
    "tags": []
   },
   "outputs": [],
   "source": [
    "glm_bin_pvalues.rename({0: 'p_value'}, axis = 1, inplace=True)"
   ]
  },
  {
   "cell_type": "code",
   "execution_count": 254,
   "id": "acdb98b3-af3f-4b79-a941-83416f3e9e6d",
   "metadata": {
    "tags": []
   },
   "outputs": [],
   "source": [
    "glm_bin_coef_df.rename({0: 'coef'}, axis = 1, inplace=True)"
   ]
  },
  {
   "cell_type": "code",
   "execution_count": 273,
   "id": "23bdceb7-6cdd-48a6-9cb3-d8a3cc76d2c1",
   "metadata": {
    "tags": []
   },
   "outputs": [
    {
     "data": {
      "text/html": [
       "<div>\n",
       "<style scoped>\n",
       "    .dataframe tbody tr th:only-of-type {\n",
       "        vertical-align: middle;\n",
       "    }\n",
       "\n",
       "    .dataframe tbody tr th {\n",
       "        vertical-align: top;\n",
       "    }\n",
       "\n",
       "    .dataframe thead th {\n",
       "        text-align: right;\n",
       "    }\n",
       "</style>\n",
       "<table border=\"1\" class=\"dataframe\">\n",
       "  <thead>\n",
       "    <tr style=\"text-align: right;\">\n",
       "      <th></th>\n",
       "      <th>0</th>\n",
       "    </tr>\n",
       "  </thead>\n",
       "  <tbody>\n",
       "    <tr>\n",
       "      <th>weather_condition_VMC</th>\n",
       "      <td>0.0000</td>\n",
       "    </tr>\n",
       "    <tr>\n",
       "      <th>is_accident</th>\n",
       "      <td>0.0000</td>\n",
       "    </tr>\n",
       "    <tr>\n",
       "      <th>occurred_near_airpor</th>\n",
       "      <td>0.0000</td>\n",
       "    </tr>\n",
       "    <tr>\n",
       "      <th>amateur_built</th>\n",
       "      <td>0.0557</td>\n",
       "    </tr>\n",
       "    <tr>\n",
       "      <th>weather_condition_Unknown</th>\n",
       "      <td>0.0580</td>\n",
       "    </tr>\n",
       "    <tr>\n",
       "      <th>...</th>\n",
       "      <td>...</td>\n",
       "    </tr>\n",
       "    <tr>\n",
       "      <th>purpose_of_flight_FERY</th>\n",
       "      <td>0.9999</td>\n",
       "    </tr>\n",
       "    <tr>\n",
       "      <th>const</th>\n",
       "      <td>0.9999</td>\n",
       "    </tr>\n",
       "    <tr>\n",
       "      <th>model_8KCAB</th>\n",
       "      <td>1.0000</td>\n",
       "    </tr>\n",
       "    <tr>\n",
       "      <th>make_GATES LEARJET</th>\n",
       "      <td>1.0000</td>\n",
       "    </tr>\n",
       "    <tr>\n",
       "      <th>purpose_of_flight_SKYD</th>\n",
       "      <td>1.0000</td>\n",
       "    </tr>\n",
       "  </tbody>\n",
       "</table>\n",
       "<p>313 rows × 1 columns</p>\n",
       "</div>"
      ],
      "text/plain": [
       "                                0\n",
       "weather_condition_VMC      0.0000\n",
       "is_accident                0.0000\n",
       "occurred_near_airpor       0.0000\n",
       "amateur_built              0.0557\n",
       "weather_condition_Unknown  0.0580\n",
       "...                           ...\n",
       "purpose_of_flight_FERY     0.9999\n",
       "const                      0.9999\n",
       "model_8KCAB                1.0000\n",
       "make_GATES LEARJET         1.0000\n",
       "purpose_of_flight_SKYD     1.0000\n",
       "\n",
       "[313 rows x 1 columns]"
      ]
     },
     "execution_count": 273,
     "metadata": {},
     "output_type": "execute_result"
    }
   ],
   "source": [
    "glm_bin_pvalues"
   ]
  },
  {
   "cell_type": "code",
   "execution_count": 255,
   "id": "36e87f64-f5c3-4676-99e7-25d875cb287d",
   "metadata": {
    "tags": []
   },
   "outputs": [],
   "source": [
    "# glm_bin_pvalues.to_csv('../results/GLM_BIN-1_PVALUES.csv')"
   ]
  },
  {
   "cell_type": "code",
   "execution_count": 256,
   "id": "9922d995-7298-4510-821c-b298ea9fa618",
   "metadata": {
    "tags": []
   },
   "outputs": [],
   "source": [
    "# glm_poi_coef_df.to_csv('../results/GLM_POI_COEF_ACC-724.csv')"
   ]
  },
  {
   "cell_type": "code",
   "execution_count": 257,
   "id": "f35458af-5aeb-4787-b01a-062d5d6e38d2",
   "metadata": {},
   "outputs": [],
   "source": [
    "    def plot_confusion_matrix(y_true, y_pred, title=\"Confusion Matrix\"):\n",
    "      \n",
    "        matrix = confusion_matrix(y_true, y_pred)\n",
    "        plt.figure(figsize=(10,7))\n",
    "        sns.heatmap(matrix, annot=True, fmt='g', cmap=\"Blues\", \n",
    "                    xticklabels=['Predicted No Injuries', 'Predicted Injuries'], \n",
    "                    yticklabels=['Actually No Injuries', 'Actually Had Injuries'])\n",
    "        plt.title(title)\n",
    "        plt.show()"
   ]
  },
  {
   "cell_type": "code",
   "execution_count": 258,
   "id": "ddcedbd7-6041-403a-ba5e-b6cc2fb6e8fb",
   "metadata": {
    "tags": []
   },
   "outputs": [
    {
     "data": {
      "image/png": "[encoded data removed]",
      "text/plain": [
       "<Figure size 1000x700 with 2 Axes>"
      ]
     },
     "metadata": {},
     "output_type": "display_data"
    }
   ],
   "source": [
    "plot_confusion_matrix(y_test, test_pred)"
   ]
  },
  {
   "cell_type": "code",
   "execution_count": 259,
   "id": "eff3ed46-c0eb-40eb-99cb-cc47989d24bb",
   "metadata": {
    "tags": []
   },
   "outputs": [],
   "source": [
    "X = df2[['make', 'model']]"
   ]
  },
  {
   "cell_type": "code",
   "execution_count": 260,
   "id": "a907bdae-4375-4359-99e6-85092d1a7953",
   "metadata": {
    "tags": []
   },
   "outputs": [],
   "source": [
    "glm1 = aviation_data_model(X,y, [\n",
    "    ('make', 'CESSNA'),\n",
    "    ('model', 'PA-18'),\n",
    "    ('scheduled', 'first'),\n",
    "    ('purpose_of_flight', 'first'),\n",
    "    ('weather_condition', 'first'),\n",
    "    ('event_month', 'first'),\n",
    "    ('event_hour', 'first')\n",
    "])"
   ]
  },
  {
   "cell_type": "code",
   "execution_count": null,
   "id": "b5dd9c2a-7e79-4a26-b1d6-e9b5e5e442e0",
   "metadata": {
    "tags": []
   },
   "outputs": [],
   "source": []
  },
  {
   "cell_type": "code",
   "execution_count": 261,
   "id": "e4aa481c-432e-4eb1-9fbb-f7d2e63eb3b4",
   "metadata": {
    "tags": []
   },
   "outputs": [
    {
     "ename": "KeyError",
     "evalue": "\"['scheduled', 'purpose_of_flight', 'weather_condition', 'event_month', 'event_hour'] not in index\"",
     "output_type": "error",
     "traceback": [
      "\u001b[1;31m---------------------------------------------------------------------------\u001b[0m",
      "\u001b[1;31mKeyError\u001b[0m                                  Traceback (most recent call last)",
      "Cell \u001b[1;32mIn[261], line 1\u001b[0m\n\u001b[1;32m----> 1\u001b[0m glm1\u001b[38;5;241m.\u001b[39mfit_binomial()\n",
      "Cell \u001b[1;32mIn[213], line 33\u001b[0m, in \u001b[0;36maviation_data_model.fit_binomial\u001b[1;34m(self)\u001b[0m\n\u001b[0;32m     31\u001b[0m \u001b[38;5;28;01mdef\u001b[39;00m \u001b[38;5;21mfit_binomial\u001b[39m(\u001b[38;5;28mself\u001b[39m):\n\u001b[0;32m     32\u001b[0m     \u001b[38;5;28;01mif\u001b[39;00m \u001b[38;5;28mself\u001b[39m\u001b[38;5;241m.\u001b[39mdrop_categories:\n\u001b[1;32m---> 33\u001b[0m         oh \u001b[38;5;241m=\u001b[39m \u001b[38;5;28mself\u001b[39m\u001b[38;5;241m.\u001b[39mone_hot()\n\u001b[0;32m     34\u001b[0m     x_con \u001b[38;5;241m=\u001b[39m sm\u001b[38;5;241m.\u001b[39madd_constant(oh[\u001b[38;5;28mlist\u001b[39m(oh\u001b[38;5;241m.\u001b[39mcolumns)])\n\u001b[0;32m     35\u001b[0m     \u001b[38;5;28mprint\u001b[39m(\u001b[38;5;124mf\u001b[39m\u001b[38;5;124m\"\u001b[39m\u001b[38;5;124mAfter constant Resulting Shape: \u001b[39m\u001b[38;5;132;01m{\u001b[39;00mx_con\u001b[38;5;241m.\u001b[39mshape\u001b[38;5;132;01m}\u001b[39;00m\u001b[38;5;124m\"\u001b[39m)\n",
      "Cell \u001b[1;32mIn[213], line 22\u001b[0m, in \u001b[0;36maviation_data_model.one_hot\u001b[1;34m(self)\u001b[0m\n\u001b[0;32m     20\u001b[0m \u001b[38;5;28;01melse\u001b[39;00m:\n\u001b[0;32m     21\u001b[0m     \u001b[38;5;28;01mraise\u001b[39;00m \u001b[38;5;167;01mTypeError\u001b[39;00m(\u001b[38;5;124m'\u001b[39m\u001b[38;5;124mInvalid OneHotEncoder values. Use None or a list of tuples of (column name, category name\u001b[39m\u001b[38;5;124m'\u001b[39m)\n\u001b[1;32m---> 22\u001b[0m \u001b[38;5;28mself\u001b[39m\u001b[38;5;241m.\u001b[39mx_oh \u001b[38;5;241m=\u001b[39m pd\u001b[38;5;241m.\u001b[39mget_dummies(\u001b[38;5;28mself\u001b[39m\u001b[38;5;241m.\u001b[39mx, columns \u001b[38;5;241m=\u001b[39m categories, drop_first\u001b[38;5;241m=\u001b[39m\u001b[38;5;28;01mTrue\u001b[39;00m)\n\u001b[0;32m     23\u001b[0m \u001b[38;5;28mprint\u001b[39m(\u001b[38;5;124mf\u001b[39m\u001b[38;5;124m\"\u001b[39m\u001b[38;5;124mOneHot Resulting Shape: \u001b[39m\u001b[38;5;132;01m{\u001b[39;00m\u001b[38;5;28mself\u001b[39m\u001b[38;5;241m.\u001b[39mx_oh\u001b[38;5;241m.\u001b[39mshape\u001b[38;5;132;01m}\u001b[39;00m\u001b[38;5;124m\"\u001b[39m)\n\u001b[0;32m     24\u001b[0m \u001b[38;5;28;01mreturn\u001b[39;00m \u001b[38;5;28mself\u001b[39m\u001b[38;5;241m.\u001b[39mx_oh\n",
      "File \u001b[1;32m~\\anaconda3\\Lib\\site-packages\\pandas\\core\\reshape\\encoding.py:146\u001b[0m, in \u001b[0;36mget_dummies\u001b[1;34m(data, prefix, prefix_sep, dummy_na, columns, sparse, drop_first, dtype)\u001b[0m\n\u001b[0;32m    144\u001b[0m     \u001b[38;5;28;01mraise\u001b[39;00m \u001b[38;5;167;01mTypeError\u001b[39;00m(\u001b[38;5;124m\"\u001b[39m\u001b[38;5;124mInput must be a list-like for parameter `columns`\u001b[39m\u001b[38;5;124m\"\u001b[39m)\n\u001b[0;32m    145\u001b[0m \u001b[38;5;28;01melse\u001b[39;00m:\n\u001b[1;32m--> 146\u001b[0m     data_to_encode \u001b[38;5;241m=\u001b[39m data[columns]\n\u001b[0;32m    148\u001b[0m \u001b[38;5;66;03m# validate prefixes and separator to avoid silently dropping cols\u001b[39;00m\n\u001b[0;32m    149\u001b[0m \u001b[38;5;28;01mdef\u001b[39;00m \u001b[38;5;21mcheck_len\u001b[39m(item, name):\n",
      "File \u001b[1;32m~\\anaconda3\\Lib\\site-packages\\pandas\\core\\frame.py:3813\u001b[0m, in \u001b[0;36mDataFrame.__getitem__\u001b[1;34m(self, key)\u001b[0m\n\u001b[0;32m   3811\u001b[0m     \u001b[38;5;28;01mif\u001b[39;00m is_iterator(key):\n\u001b[0;32m   3812\u001b[0m         key \u001b[38;5;241m=\u001b[39m \u001b[38;5;28mlist\u001b[39m(key)\n\u001b[1;32m-> 3813\u001b[0m     indexer \u001b[38;5;241m=\u001b[39m \u001b[38;5;28mself\u001b[39m\u001b[38;5;241m.\u001b[39mcolumns\u001b[38;5;241m.\u001b[39m_get_indexer_strict(key, \u001b[38;5;124m\"\u001b[39m\u001b[38;5;124mcolumns\u001b[39m\u001b[38;5;124m\"\u001b[39m)[\u001b[38;5;241m1\u001b[39m]\n\u001b[0;32m   3815\u001b[0m \u001b[38;5;66;03m# take() does not accept boolean indexers\u001b[39;00m\n\u001b[0;32m   3816\u001b[0m \u001b[38;5;28;01mif\u001b[39;00m \u001b[38;5;28mgetattr\u001b[39m(indexer, \u001b[38;5;124m\"\u001b[39m\u001b[38;5;124mdtype\u001b[39m\u001b[38;5;124m\"\u001b[39m, \u001b[38;5;28;01mNone\u001b[39;00m) \u001b[38;5;241m==\u001b[39m \u001b[38;5;28mbool\u001b[39m:\n",
      "File \u001b[1;32m~\\anaconda3\\Lib\\site-packages\\pandas\\core\\indexes\\base.py:6070\u001b[0m, in \u001b[0;36mIndex._get_indexer_strict\u001b[1;34m(self, key, axis_name)\u001b[0m\n\u001b[0;32m   6067\u001b[0m \u001b[38;5;28;01melse\u001b[39;00m:\n\u001b[0;32m   6068\u001b[0m     keyarr, indexer, new_indexer \u001b[38;5;241m=\u001b[39m \u001b[38;5;28mself\u001b[39m\u001b[38;5;241m.\u001b[39m_reindex_non_unique(keyarr)\n\u001b[1;32m-> 6070\u001b[0m \u001b[38;5;28mself\u001b[39m\u001b[38;5;241m.\u001b[39m_raise_if_missing(keyarr, indexer, axis_name)\n\u001b[0;32m   6072\u001b[0m keyarr \u001b[38;5;241m=\u001b[39m \u001b[38;5;28mself\u001b[39m\u001b[38;5;241m.\u001b[39mtake(indexer)\n\u001b[0;32m   6073\u001b[0m \u001b[38;5;28;01mif\u001b[39;00m \u001b[38;5;28misinstance\u001b[39m(key, Index):\n\u001b[0;32m   6074\u001b[0m     \u001b[38;5;66;03m# GH 42790 - Preserve name from an Index\u001b[39;00m\n",
      "File \u001b[1;32m~\\anaconda3\\Lib\\site-packages\\pandas\\core\\indexes\\base.py:6133\u001b[0m, in \u001b[0;36mIndex._raise_if_missing\u001b[1;34m(self, key, indexer, axis_name)\u001b[0m\n\u001b[0;32m   6130\u001b[0m     \u001b[38;5;28;01mraise\u001b[39;00m \u001b[38;5;167;01mKeyError\u001b[39;00m(\u001b[38;5;124mf\u001b[39m\u001b[38;5;124m\"\u001b[39m\u001b[38;5;124mNone of [\u001b[39m\u001b[38;5;132;01m{\u001b[39;00mkey\u001b[38;5;132;01m}\u001b[39;00m\u001b[38;5;124m] are in the [\u001b[39m\u001b[38;5;132;01m{\u001b[39;00maxis_name\u001b[38;5;132;01m}\u001b[39;00m\u001b[38;5;124m]\u001b[39m\u001b[38;5;124m\"\u001b[39m)\n\u001b[0;32m   6132\u001b[0m not_found \u001b[38;5;241m=\u001b[39m \u001b[38;5;28mlist\u001b[39m(ensure_index(key)[missing_mask\u001b[38;5;241m.\u001b[39mnonzero()[\u001b[38;5;241m0\u001b[39m]]\u001b[38;5;241m.\u001b[39munique())\n\u001b[1;32m-> 6133\u001b[0m \u001b[38;5;28;01mraise\u001b[39;00m \u001b[38;5;167;01mKeyError\u001b[39;00m(\u001b[38;5;124mf\u001b[39m\u001b[38;5;124m\"\u001b[39m\u001b[38;5;132;01m{\u001b[39;00mnot_found\u001b[38;5;132;01m}\u001b[39;00m\u001b[38;5;124m not in index\u001b[39m\u001b[38;5;124m\"\u001b[39m)\n",
      "\u001b[1;31mKeyError\u001b[0m: \"['scheduled', 'purpose_of_flight', 'weather_condition', 'event_month', 'event_hour'] not in index\""
     ]
    }
   ],
   "source": [
    "glm1.fit_binomial()"
   ]
  },
  {
   "cell_type": "code",
   "execution_count": null,
   "id": "f9de105b-68f2-47f1-aac0-03cbe7b1bb00",
   "metadata": {
    "tags": []
   },
   "outputs": [],
   "source": [
    "glm1.pvalues.head(50)"
   ]
  },
  {
   "cell_type": "code",
   "execution_count": null,
   "id": "d01858d3-a204-459d-8840-5ea0368b1384",
   "metadata": {
    "tags": []
   },
   "outputs": [],
   "source": [
    "class aviation_data_model:\n",
    "    def __init__(self, x, y, drop_categories = None, random_state = 2023):\n",
    "        self.model = None\n",
    "        self.x_oh = None\n",
    "        self.results = None\n",
    "        self.x = x.copy()\n",
    "        self.drop_categories = drop_categories\n",
    "        self.y = y\n",
    "        self.random_state = random_state\n",
    "        self.pvalues = None\n",
    "\n",
    "        \n",
    "    def one_hot(self):\n",
    "        if type(self.drop_categories[0]) == tuple:\n",
    "            categories = []\n",
    "            for i, j in self.drop_categories:\n",
    "                categories.append(i)\n",
    "                if j != 'first':\n",
    "                    self.x[i] = np.where(self.x[i] == j, '0-' + j, self.x[i])\n",
    "        else:\n",
    "            raise TypeError('Invalid OneHotEncoder values. Use None or a list of tuples of (column name, category name')\n",
    "        self.x_oh = pd.get_dummies(self.x, columns = categories, drop_first=True)\n",
    "        print(f\"OneHot Resulting Shape: {self.x_oh.shape}\")\n",
    "        return self.x_oh\n",
    "    \n",
    "    def train_test(self, X, y):\n",
    "        X_train, X_test, y_train, y_test = train_test_split(X, y, random_state=self.random_state)\n",
    "        return (X_train, X_test, y_train, y_test)\n",
    "        \n",
    "    \n",
    "    def fit_binomial(self):\n",
    "        if self.drop_categories:\n",
    "            oh = self.one_hot()\n",
    "        x_con = sm.add_constant(oh[list(oh.columns)])\n",
    "        print(f\"After constant Resulting Shape: {x_con.shape}\")\n",
    "        X_train, X_test, y_train, y_test = self.train_test(x_con, self.y)\n",
    "        print(f\"After tts X_train Resulting Shape: {X_train.shape}\")\n",
    "        print(f\"After tts X_test Resulting Shape: {X_test.shape}\")\n",
    "        print(f\"After tts y_train Resulting Shape: {y_train.shape}\")\n",
    "        print(f\"After tts y_test Resulting Shape: {y_test.shape}\")\n",
    "        # print(X_train.dtypes)\n",
    "        glm_bin = sm.GLM(\n",
    "            y_train,\n",
    "            X_train,\n",
    "            family=sm.families.Binomial(link=sm.families.links.Logit())).fit()\n",
    "        self.results = glm_bin.summary()\n",
    "        self.model = glm_bin\n",
    "        self.pvalues = np.round(glm_bin.pvalues).to_frame().sort_values(by = 0)"
   ]
  },
  {
   "cell_type": "code",
   "execution_count": null,
   "id": "f58f5b27-5231-43d4-bf06-1a5a0c598396",
   "metadata": {
    "tags": []
   },
   "outputs": [],
   "source": [
    "glm1.x_oh"
   ]
  },
  {
   "cell_type": "code",
   "execution_count": null,
   "id": "35a3dda3-4420-4568-884a-a4574c2c61af",
   "metadata": {},
   "outputs": [],
   "source": []
  }
 ],
 "metadata": {
  "kernelspec": {
   "display_name": "Python 3 (ipykernel)",
   "language": "python",
   "name": "python3"
  },
  "language_info": {
   "codemirror_mode": {
    "name": "ipython",
    "version": 3
   },
   "file_extension": ".py",
   "mimetype": "text/x-python",
   "name": "python",
   "nbconvert_exporter": "python",
   "pygments_lexer": "ipython3",
   "version": "3.11.4"
  }
 },
 "nbformat": 4,
 "nbformat_minor": 5
}
