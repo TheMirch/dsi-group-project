{
 "cells": [
  {
   "cell_type": "code",
   "execution_count": null,
   "id": "e6b70d6a",
   "metadata": {},
   "outputs": [],
   "source": [
    "#!pip install geopandas"
   ]
  },
  {
   "cell_type": "code",
   "execution_count": 24,
   "id": "ab2d10c2-1518-4a73-83c4-404a04b3ae48",
   "metadata": {
    "tags": []
   },
   "outputs": [],
   "source": [
    "import pandas as pd\n",
    "\n",
    "import matplotlib.pyplot as plt\n",
    "\n",
    "import geopandas as gpd\n",
    "\n",
    "\n"
   ]
  },
  {
   "cell_type": "code",
   "execution_count": 2,
   "id": "5ce8d74c-3e90-415f-9831-e4e91cde2a67",
   "metadata": {
    "tags": []
   },
   "outputs": [
    {
     "name": "stderr",
     "output_type": "stream",
     "text": [
      "C:\\Users\\muham\\AppData\\Local\\Temp\\ipykernel_37328\\856862369.py:1: DtypeWarning: Columns (14,15) have mixed types. Specify dtype option on import or set low_memory=False.\n",
      "  c02 = pd.read_csv('../datasets/airtrans_c02.csv')\n"
     ]
    }
   ],
   "source": [
    "c02 = pd.read_csv('../datasets/airtrans_c02.csv')"
   ]
  },
  {
   "cell_type": "code",
   "execution_count": 3,
   "id": "5240279d-fa75-49ff-a01e-7846235fd1ad",
   "metadata": {
    "tags": []
   },
   "outputs": [
    {
     "data": {
      "text/plain": [
       "(334593, 19)"
      ]
     },
     "execution_count": 3,
     "metadata": {},
     "output_type": "execute_result"
    }
   ],
   "source": [
    "c02.shape"
   ]
  },
  {
   "cell_type": "code",
   "execution_count": 4,
   "id": "792ef490-4e06-438f-afe2-ae2ffe6336a4",
   "metadata": {
    "tags": []
   },
   "outputs": [
    {
     "data": {
      "text/html": [
       "<div>\n",
       "<style scoped>\n",
       "    .dataframe tbody tr th:only-of-type {\n",
       "        vertical-align: middle;\n",
       "    }\n",
       "\n",
       "    .dataframe tbody tr th {\n",
       "        vertical-align: top;\n",
       "    }\n",
       "\n",
       "    .dataframe thead th {\n",
       "        text-align: right;\n",
       "    }\n",
       "</style>\n",
       "<table border=\"1\" class=\"dataframe\">\n",
       "  <thead>\n",
       "    <tr style=\"text-align: right;\">\n",
       "      <th></th>\n",
       "      <th>LOCATION</th>\n",
       "      <th>Country</th>\n",
       "      <th>POLLUTANT</th>\n",
       "      <th>Pollutant</th>\n",
       "      <th>MEASURE</th>\n",
       "      <th>Measure</th>\n",
       "      <th>FLIGHT</th>\n",
       "      <th>Flight type</th>\n",
       "      <th>FREQUENCY</th>\n",
       "      <th>Frequency</th>\n",
       "      <th>SOURCE</th>\n",
       "      <th>Source of emissions</th>\n",
       "      <th>SEASONALITY</th>\n",
       "      <th>Seasonality</th>\n",
       "      <th>TIME</th>\n",
       "      <th>Time</th>\n",
       "      <th>Value</th>\n",
       "      <th>Flag Codes</th>\n",
       "      <th>Flags</th>\n",
       "    </tr>\n",
       "  </thead>\n",
       "  <tbody>\n",
       "    <tr>\n",
       "      <th>0</th>\n",
       "      <td>AUS</td>\n",
       "      <td>Australia</td>\n",
       "      <td>CO2</td>\n",
       "      <td>Carbon dioxide</td>\n",
       "      <td>TCO2</td>\n",
       "      <td>tonnes of CO2-equivalent</td>\n",
       "      <td>TOTAL</td>\n",
       "      <td>All flights</td>\n",
       "      <td>A</td>\n",
       "      <td>Annual</td>\n",
       "      <td>RES_DOM_IN</td>\n",
       "      <td>\"(A) - Domestic flight in country A, operated ...</td>\n",
       "      <td>NSA</td>\n",
       "      <td>Non seasonally adjusted</td>\n",
       "      <td>2015</td>\n",
       "      <td>2015</td>\n",
       "      <td>7.351698e+06</td>\n",
       "      <td>NaN</td>\n",
       "      <td>NaN</td>\n",
       "    </tr>\n",
       "    <tr>\n",
       "      <th>1</th>\n",
       "      <td>AUS</td>\n",
       "      <td>Australia</td>\n",
       "      <td>CO2</td>\n",
       "      <td>Carbon dioxide</td>\n",
       "      <td>TCO2</td>\n",
       "      <td>tonnes of CO2-equivalent</td>\n",
       "      <td>TOTAL</td>\n",
       "      <td>All flights</td>\n",
       "      <td>A</td>\n",
       "      <td>Annual</td>\n",
       "      <td>RES_DOM_IN</td>\n",
       "      <td>\"(A) - Domestic flight in country A, operated ...</td>\n",
       "      <td>NSA</td>\n",
       "      <td>Non seasonally adjusted</td>\n",
       "      <td>2016</td>\n",
       "      <td>2016</td>\n",
       "      <td>7.415273e+06</td>\n",
       "      <td>NaN</td>\n",
       "      <td>NaN</td>\n",
       "    </tr>\n",
       "    <tr>\n",
       "      <th>2</th>\n",
       "      <td>AUS</td>\n",
       "      <td>Australia</td>\n",
       "      <td>CO2</td>\n",
       "      <td>Carbon dioxide</td>\n",
       "      <td>TCO2</td>\n",
       "      <td>tonnes of CO2-equivalent</td>\n",
       "      <td>TOTAL</td>\n",
       "      <td>All flights</td>\n",
       "      <td>A</td>\n",
       "      <td>Annual</td>\n",
       "      <td>RES_DOM_IN</td>\n",
       "      <td>\"(A) - Domestic flight in country A, operated ...</td>\n",
       "      <td>NSA</td>\n",
       "      <td>Non seasonally adjusted</td>\n",
       "      <td>2017</td>\n",
       "      <td>2017</td>\n",
       "      <td>7.333902e+06</td>\n",
       "      <td>NaN</td>\n",
       "      <td>NaN</td>\n",
       "    </tr>\n",
       "    <tr>\n",
       "      <th>3</th>\n",
       "      <td>AUS</td>\n",
       "      <td>Australia</td>\n",
       "      <td>CO2</td>\n",
       "      <td>Carbon dioxide</td>\n",
       "      <td>TCO2</td>\n",
       "      <td>tonnes of CO2-equivalent</td>\n",
       "      <td>TOTAL</td>\n",
       "      <td>All flights</td>\n",
       "      <td>A</td>\n",
       "      <td>Annual</td>\n",
       "      <td>RES_DOM_IN</td>\n",
       "      <td>\"(A) - Domestic flight in country A, operated ...</td>\n",
       "      <td>NSA</td>\n",
       "      <td>Non seasonally adjusted</td>\n",
       "      <td>2018</td>\n",
       "      <td>2018</td>\n",
       "      <td>7.320473e+06</td>\n",
       "      <td>NaN</td>\n",
       "      <td>NaN</td>\n",
       "    </tr>\n",
       "    <tr>\n",
       "      <th>4</th>\n",
       "      <td>AUS</td>\n",
       "      <td>Australia</td>\n",
       "      <td>CO2</td>\n",
       "      <td>Carbon dioxide</td>\n",
       "      <td>TCO2</td>\n",
       "      <td>tonnes of CO2-equivalent</td>\n",
       "      <td>TOTAL</td>\n",
       "      <td>All flights</td>\n",
       "      <td>A</td>\n",
       "      <td>Annual</td>\n",
       "      <td>RES_DOM_IN</td>\n",
       "      <td>\"(A) - Domestic flight in country A, operated ...</td>\n",
       "      <td>NSA</td>\n",
       "      <td>Non seasonally adjusted</td>\n",
       "      <td>2019</td>\n",
       "      <td>2019</td>\n",
       "      <td>7.753970e+06</td>\n",
       "      <td>NaN</td>\n",
       "      <td>NaN</td>\n",
       "    </tr>\n",
       "  </tbody>\n",
       "</table>\n",
       "</div>"
      ],
      "text/plain": [
       "  LOCATION    Country POLLUTANT       Pollutant MEASURE  \\\n",
       "0      AUS  Australia       CO2  Carbon dioxide    TCO2   \n",
       "1      AUS  Australia       CO2  Carbon dioxide    TCO2   \n",
       "2      AUS  Australia       CO2  Carbon dioxide    TCO2   \n",
       "3      AUS  Australia       CO2  Carbon dioxide    TCO2   \n",
       "4      AUS  Australia       CO2  Carbon dioxide    TCO2   \n",
       "\n",
       "                    Measure FLIGHT  Flight type FREQUENCY Frequency  \\\n",
       "0  tonnes of CO2-equivalent  TOTAL  All flights         A    Annual   \n",
       "1  tonnes of CO2-equivalent  TOTAL  All flights         A    Annual   \n",
       "2  tonnes of CO2-equivalent  TOTAL  All flights         A    Annual   \n",
       "3  tonnes of CO2-equivalent  TOTAL  All flights         A    Annual   \n",
       "4  tonnes of CO2-equivalent  TOTAL  All flights         A    Annual   \n",
       "\n",
       "       SOURCE                                Source of emissions SEASONALITY  \\\n",
       "0  RES_DOM_IN  \"(A) - Domestic flight in country A, operated ...         NSA   \n",
       "1  RES_DOM_IN  \"(A) - Domestic flight in country A, operated ...         NSA   \n",
       "2  RES_DOM_IN  \"(A) - Domestic flight in country A, operated ...         NSA   \n",
       "3  RES_DOM_IN  \"(A) - Domestic flight in country A, operated ...         NSA   \n",
       "4  RES_DOM_IN  \"(A) - Domestic flight in country A, operated ...         NSA   \n",
       "\n",
       "               Seasonality  TIME  Time         Value  Flag Codes  Flags  \n",
       "0  Non seasonally adjusted  2015  2015  7.351698e+06         NaN    NaN  \n",
       "1  Non seasonally adjusted  2016  2016  7.415273e+06         NaN    NaN  \n",
       "2  Non seasonally adjusted  2017  2017  7.333902e+06         NaN    NaN  \n",
       "3  Non seasonally adjusted  2018  2018  7.320473e+06         NaN    NaN  \n",
       "4  Non seasonally adjusted  2019  2019  7.753970e+06         NaN    NaN  "
      ]
     },
     "execution_count": 4,
     "metadata": {},
     "output_type": "execute_result"
    }
   ],
   "source": [
    "c02.head()"
   ]
  },
  {
   "cell_type": "code",
   "execution_count": 5,
   "id": "d684de30-3fb3-493a-a367-462c26c4b443",
   "metadata": {
    "tags": []
   },
   "outputs": [
    {
     "data": {
      "text/html": [
       "<div>\n",
       "<style scoped>\n",
       "    .dataframe tbody tr th:only-of-type {\n",
       "        vertical-align: middle;\n",
       "    }\n",
       "\n",
       "    .dataframe tbody tr th {\n",
       "        vertical-align: top;\n",
       "    }\n",
       "\n",
       "    .dataframe thead th {\n",
       "        text-align: right;\n",
       "    }\n",
       "</style>\n",
       "<table border=\"1\" class=\"dataframe\">\n",
       "  <thead>\n",
       "    <tr style=\"text-align: right;\">\n",
       "      <th></th>\n",
       "      <th>LOCATION</th>\n",
       "      <th>Country</th>\n",
       "      <th>POLLUTANT</th>\n",
       "      <th>Pollutant</th>\n",
       "      <th>MEASURE</th>\n",
       "      <th>Measure</th>\n",
       "      <th>FLIGHT</th>\n",
       "      <th>Flight type</th>\n",
       "      <th>FREQUENCY</th>\n",
       "      <th>Frequency</th>\n",
       "      <th>SOURCE</th>\n",
       "      <th>Source of emissions</th>\n",
       "      <th>SEASONALITY</th>\n",
       "      <th>Seasonality</th>\n",
       "      <th>TIME</th>\n",
       "      <th>Time</th>\n",
       "      <th>Value</th>\n",
       "      <th>Flag Codes</th>\n",
       "      <th>Flags</th>\n",
       "    </tr>\n",
       "  </thead>\n",
       "  <tbody>\n",
       "    <tr>\n",
       "      <th>334588</th>\n",
       "      <td>GEO</td>\n",
       "      <td>Georgia</td>\n",
       "      <td>CO2</td>\n",
       "      <td>Carbon dioxide</td>\n",
       "      <td>TCO2</td>\n",
       "      <td>tonnes of CO2-equivalent</td>\n",
       "      <td>C</td>\n",
       "      <td>Freight flights</td>\n",
       "      <td>M</td>\n",
       "      <td>Monthly</td>\n",
       "      <td>RES_INT_OUT</td>\n",
       "      <td>\"(F) - International flight outside of country...</td>\n",
       "      <td>NSA</td>\n",
       "      <td>Non seasonally adjusted</td>\n",
       "      <td>2023-06</td>\n",
       "      <td>Jun-2023</td>\n",
       "      <td>8.41529</td>\n",
       "      <td>NaN</td>\n",
       "      <td>NaN</td>\n",
       "    </tr>\n",
       "    <tr>\n",
       "      <th>334589</th>\n",
       "      <td>GEO</td>\n",
       "      <td>Georgia</td>\n",
       "      <td>CO2</td>\n",
       "      <td>Carbon dioxide</td>\n",
       "      <td>TCO2</td>\n",
       "      <td>tonnes of CO2-equivalent</td>\n",
       "      <td>C</td>\n",
       "      <td>Freight flights</td>\n",
       "      <td>M</td>\n",
       "      <td>Monthly</td>\n",
       "      <td>RES_TOTAL</td>\n",
       "      <td>Air transport - Industry H51 (ISIC rev.4): (A)...</td>\n",
       "      <td>NSA</td>\n",
       "      <td>Non seasonally adjusted</td>\n",
       "      <td>2023-06</td>\n",
       "      <td>Jun-2023</td>\n",
       "      <td>8.41529</td>\n",
       "      <td>NaN</td>\n",
       "      <td>NaN</td>\n",
       "    </tr>\n",
       "    <tr>\n",
       "      <th>334590</th>\n",
       "      <td>GEO</td>\n",
       "      <td>Georgia</td>\n",
       "      <td>CO2</td>\n",
       "      <td>Carbon dioxide</td>\n",
       "      <td>TCO2</td>\n",
       "      <td>tonnes of CO2-equivalent</td>\n",
       "      <td>C</td>\n",
       "      <td>Freight flights</td>\n",
       "      <td>M</td>\n",
       "      <td>Monthly</td>\n",
       "      <td>RES_ABROAD</td>\n",
       "      <td>Bridging item - Residents abroad: (B)+(D)+(E)+(F)</td>\n",
       "      <td>NSA</td>\n",
       "      <td>Non seasonally adjusted</td>\n",
       "      <td>2023-06</td>\n",
       "      <td>Jun-2023</td>\n",
       "      <td>8.41529</td>\n",
       "      <td>NaN</td>\n",
       "      <td>NaN</td>\n",
       "    </tr>\n",
       "    <tr>\n",
       "      <th>334591</th>\n",
       "      <td>MHL</td>\n",
       "      <td>Marshall Islands</td>\n",
       "      <td>CO2</td>\n",
       "      <td>Carbon dioxide</td>\n",
       "      <td>TCO2</td>\n",
       "      <td>tonnes of CO2-equivalent</td>\n",
       "      <td>C</td>\n",
       "      <td>Freight flights</td>\n",
       "      <td>M</td>\n",
       "      <td>Monthly</td>\n",
       "      <td>NRES_INT_FROM</td>\n",
       "      <td>\"(G) - International flight departing from cou...</td>\n",
       "      <td>NSA</td>\n",
       "      <td>Non seasonally adjusted</td>\n",
       "      <td>2023-06</td>\n",
       "      <td>Jun-2023</td>\n",
       "      <td>35.29190</td>\n",
       "      <td>NaN</td>\n",
       "      <td>NaN</td>\n",
       "    </tr>\n",
       "    <tr>\n",
       "      <th>334592</th>\n",
       "      <td>MHL</td>\n",
       "      <td>Marshall Islands</td>\n",
       "      <td>CO2</td>\n",
       "      <td>Carbon dioxide</td>\n",
       "      <td>TCO2</td>\n",
       "      <td>tonnes of CO2-equivalent</td>\n",
       "      <td>C</td>\n",
       "      <td>Freight flights</td>\n",
       "      <td>M</td>\n",
       "      <td>Monthly</td>\n",
       "      <td>TER_INT</td>\n",
       "      <td>International aviation (memo item): (D)+(G)</td>\n",
       "      <td>NSA</td>\n",
       "      <td>Non seasonally adjusted</td>\n",
       "      <td>2023-06</td>\n",
       "      <td>Jun-2023</td>\n",
       "      <td>35.29190</td>\n",
       "      <td>NaN</td>\n",
       "      <td>NaN</td>\n",
       "    </tr>\n",
       "  </tbody>\n",
       "</table>\n",
       "</div>"
      ],
      "text/plain": [
       "       LOCATION           Country POLLUTANT       Pollutant MEASURE  \\\n",
       "334588      GEO           Georgia       CO2  Carbon dioxide    TCO2   \n",
       "334589      GEO           Georgia       CO2  Carbon dioxide    TCO2   \n",
       "334590      GEO           Georgia       CO2  Carbon dioxide    TCO2   \n",
       "334591      MHL  Marshall Islands       CO2  Carbon dioxide    TCO2   \n",
       "334592      MHL  Marshall Islands       CO2  Carbon dioxide    TCO2   \n",
       "\n",
       "                         Measure FLIGHT      Flight type FREQUENCY Frequency  \\\n",
       "334588  tonnes of CO2-equivalent      C  Freight flights         M   Monthly   \n",
       "334589  tonnes of CO2-equivalent      C  Freight flights         M   Monthly   \n",
       "334590  tonnes of CO2-equivalent      C  Freight flights         M   Monthly   \n",
       "334591  tonnes of CO2-equivalent      C  Freight flights         M   Monthly   \n",
       "334592  tonnes of CO2-equivalent      C  Freight flights         M   Monthly   \n",
       "\n",
       "               SOURCE                                Source of emissions  \\\n",
       "334588    RES_INT_OUT  \"(F) - International flight outside of country...   \n",
       "334589      RES_TOTAL  Air transport - Industry H51 (ISIC rev.4): (A)...   \n",
       "334590     RES_ABROAD  Bridging item - Residents abroad: (B)+(D)+(E)+(F)   \n",
       "334591  NRES_INT_FROM  \"(G) - International flight departing from cou...   \n",
       "334592        TER_INT        International aviation (memo item): (D)+(G)   \n",
       "\n",
       "       SEASONALITY              Seasonality     TIME      Time     Value  \\\n",
       "334588         NSA  Non seasonally adjusted  2023-06  Jun-2023   8.41529   \n",
       "334589         NSA  Non seasonally adjusted  2023-06  Jun-2023   8.41529   \n",
       "334590         NSA  Non seasonally adjusted  2023-06  Jun-2023   8.41529   \n",
       "334591         NSA  Non seasonally adjusted  2023-06  Jun-2023  35.29190   \n",
       "334592         NSA  Non seasonally adjusted  2023-06  Jun-2023  35.29190   \n",
       "\n",
       "        Flag Codes  Flags  \n",
       "334588         NaN    NaN  \n",
       "334589         NaN    NaN  \n",
       "334590         NaN    NaN  \n",
       "334591         NaN    NaN  \n",
       "334592         NaN    NaN  "
      ]
     },
     "execution_count": 5,
     "metadata": {},
     "output_type": "execute_result"
    }
   ],
   "source": [
    "c02.tail()"
   ]
  },
  {
   "cell_type": "code",
   "execution_count": 6,
   "id": "9a286985-fc37-47bf-a708-89fa6aaf4e00",
   "metadata": {
    "tags": []
   },
   "outputs": [
    {
     "data": {
      "text/plain": [
       "LOCATION                object\n",
       "Country                 object\n",
       "POLLUTANT               object\n",
       "Pollutant               object\n",
       "MEASURE                 object\n",
       "Measure                 object\n",
       "FLIGHT                  object\n",
       "Flight type             object\n",
       "FREQUENCY               object\n",
       "Frequency               object\n",
       "SOURCE                  object\n",
       "Source of emissions     object\n",
       "SEASONALITY             object\n",
       "Seasonality             object\n",
       "TIME                    object\n",
       "Time                    object\n",
       "Value                  float64\n",
       "Flag Codes             float64\n",
       "Flags                  float64\n",
       "dtype: object"
      ]
     },
     "execution_count": 6,
     "metadata": {},
     "output_type": "execute_result"
    }
   ],
   "source": [
    "c02.dtypes"
   ]
  },
  {
   "cell_type": "code",
   "execution_count": 7,
   "id": "4f4c7a11-243e-4e5a-ad31-4c378a0c7128",
   "metadata": {
    "tags": []
   },
   "outputs": [
    {
     "data": {
      "text/plain": [
       "TER_INT          39640\n",
       "NRES_INT_FROM    39078\n",
       "RES_TOTAL        31346\n",
       "RES_ABROAD       30452\n",
       "RES_INT_OUT      26418\n",
       "RES_DOM_OUT      26339\n",
       "RES_INT_TO       26302\n",
       "RES_INT_FROM     26157\n",
       "TER_DOM          25702\n",
       "RES_DOM_IN       22071\n",
       "NRES_DOM_IN      20544\n",
       "NRES_TERR        20544\n",
       "Name: SOURCE, dtype: int64"
      ]
     },
     "execution_count": 7,
     "metadata": {},
     "output_type": "execute_result"
    }
   ],
   "source": [
    "c02['SOURCE'].value_counts()"
   ]
  },
  {
   "cell_type": "code",
   "execution_count": 8,
   "id": "a3ead0ae-d1d2-43db-b0aa-6283455a1b2e",
   "metadata": {
    "tags": []
   },
   "outputs": [
    {
     "data": {
      "text/plain": [
       "International aviation (memo item): (D)+(G)                                                                        39640\n",
       "\"(G) - International flight departing from country A, operated by an airline that is non-resident in country A\"    39078\n",
       "Air transport - Industry H51 (ISIC rev.4): (A)+(B)+(D)+(E)+(F)                                                     31346\n",
       "Bridging item - Residents abroad: (B)+(D)+(E)+(F)                                                                  30452\n",
       "\"(F) - International flight outside of country A, operated by a resident airline of country A\"                     26418\n",
       "\"(B) - Domestic flight outside of country A, operated by a resident airline of country A\"                          26339\n",
       "\"(E) - International flight arriving in country A, operated by a resident airline of country A\"                    26302\n",
       "\"(D) - International flight departing from country A, operated by a resident airline of country A\"                 26157\n",
       "Domestic aviation: (A)+(C)                                                                                         25702\n",
       "\"(A) - Domestic flight in country A, operated by a resident airline of country A\"                                  22071\n",
       "\"(C) - Domestic flight in country A, operated by an airline that is non-resident in country A\"                     20544\n",
       "Bridging item - Non-residents on territory: (C)                                                                    20544\n",
       "Name: Source of emissions, dtype: int64"
      ]
     },
     "execution_count": 8,
     "metadata": {},
     "output_type": "execute_result"
    }
   ],
   "source": [
    "c02['Source of emissions'].value_counts()"
   ]
  },
  {
   "cell_type": "code",
   "execution_count": 9,
   "id": "59811082-c845-4fd1-81ca-3f77eaa22bc9",
   "metadata": {
    "tags": []
   },
   "outputs": [],
   "source": [
    "c02_ter = c02[(c02['SOURCE'] == 'TER_INT') | (c02['SOURCE'] == 'TER_DOM')]"
   ]
  },
  {
   "cell_type": "code",
   "execution_count": 10,
   "id": "4e95acf5-7669-4aea-8dcc-65cb99d4b475",
   "metadata": {
    "tags": []
   },
   "outputs": [
    {
     "data": {
      "text/html": [
       "<div>\n",
       "<style scoped>\n",
       "    .dataframe tbody tr th:only-of-type {\n",
       "        vertical-align: middle;\n",
       "    }\n",
       "\n",
       "    .dataframe tbody tr th {\n",
       "        vertical-align: top;\n",
       "    }\n",
       "\n",
       "    .dataframe thead th {\n",
       "        text-align: right;\n",
       "    }\n",
       "</style>\n",
       "<table border=\"1\" class=\"dataframe\">\n",
       "  <thead>\n",
       "    <tr style=\"text-align: right;\">\n",
       "      <th></th>\n",
       "      <th>LOCATION</th>\n",
       "      <th>Country</th>\n",
       "      <th>POLLUTANT</th>\n",
       "      <th>Pollutant</th>\n",
       "      <th>MEASURE</th>\n",
       "      <th>Measure</th>\n",
       "      <th>FLIGHT</th>\n",
       "      <th>Flight type</th>\n",
       "      <th>FREQUENCY</th>\n",
       "      <th>Frequency</th>\n",
       "      <th>SOURCE</th>\n",
       "      <th>Source of emissions</th>\n",
       "      <th>SEASONALITY</th>\n",
       "      <th>Seasonality</th>\n",
       "      <th>TIME</th>\n",
       "      <th>Time</th>\n",
       "      <th>Value</th>\n",
       "      <th>Flag Codes</th>\n",
       "      <th>Flags</th>\n",
       "    </tr>\n",
       "  </thead>\n",
       "  <tbody>\n",
       "    <tr>\n",
       "      <th>334576</th>\n",
       "      <td>ALB</td>\n",
       "      <td>Albania</td>\n",
       "      <td>CO2</td>\n",
       "      <td>Carbon dioxide</td>\n",
       "      <td>TCO2</td>\n",
       "      <td>tonnes of CO2-equivalent</td>\n",
       "      <td>P</td>\n",
       "      <td>Passenger flights</td>\n",
       "      <td>M</td>\n",
       "      <td>Monthly</td>\n",
       "      <td>TER_DOM</td>\n",
       "      <td>Domestic aviation: (A)+(C)</td>\n",
       "      <td>NSA</td>\n",
       "      <td>Non seasonally adjusted</td>\n",
       "      <td>2023-05</td>\n",
       "      <td>May-2023</td>\n",
       "      <td>14.98480</td>\n",
       "      <td>NaN</td>\n",
       "      <td>NaN</td>\n",
       "    </tr>\n",
       "    <tr>\n",
       "      <th>334580</th>\n",
       "      <td>BIH</td>\n",
       "      <td>Bosnia and Herzegovina</td>\n",
       "      <td>CO2</td>\n",
       "      <td>Carbon dioxide</td>\n",
       "      <td>TCO2</td>\n",
       "      <td>tonnes of CO2-equivalent</td>\n",
       "      <td>C</td>\n",
       "      <td>Freight flights</td>\n",
       "      <td>Q</td>\n",
       "      <td>Quarterly</td>\n",
       "      <td>TER_INT</td>\n",
       "      <td>International aviation (memo item): (D)+(G)</td>\n",
       "      <td>NSA</td>\n",
       "      <td>Non seasonally adjusted</td>\n",
       "      <td>2023-Q2</td>\n",
       "      <td>Q2-2023</td>\n",
       "      <td>9.18504</td>\n",
       "      <td>NaN</td>\n",
       "      <td>NaN</td>\n",
       "    </tr>\n",
       "    <tr>\n",
       "      <th>334585</th>\n",
       "      <td>MHL</td>\n",
       "      <td>Marshall Islands</td>\n",
       "      <td>CO2</td>\n",
       "      <td>Carbon dioxide</td>\n",
       "      <td>TCO2</td>\n",
       "      <td>tonnes of CO2-equivalent</td>\n",
       "      <td>C</td>\n",
       "      <td>Freight flights</td>\n",
       "      <td>Q</td>\n",
       "      <td>Quarterly</td>\n",
       "      <td>TER_INT</td>\n",
       "      <td>International aviation (memo item): (D)+(G)</td>\n",
       "      <td>NSA</td>\n",
       "      <td>Non seasonally adjusted</td>\n",
       "      <td>2023-Q2</td>\n",
       "      <td>Q2-2023</td>\n",
       "      <td>35.29190</td>\n",
       "      <td>NaN</td>\n",
       "      <td>NaN</td>\n",
       "    </tr>\n",
       "    <tr>\n",
       "      <th>334587</th>\n",
       "      <td>BIH</td>\n",
       "      <td>Bosnia and Herzegovina</td>\n",
       "      <td>CO2</td>\n",
       "      <td>Carbon dioxide</td>\n",
       "      <td>TCO2</td>\n",
       "      <td>tonnes of CO2-equivalent</td>\n",
       "      <td>C</td>\n",
       "      <td>Freight flights</td>\n",
       "      <td>M</td>\n",
       "      <td>Monthly</td>\n",
       "      <td>TER_INT</td>\n",
       "      <td>International aviation (memo item): (D)+(G)</td>\n",
       "      <td>NSA</td>\n",
       "      <td>Non seasonally adjusted</td>\n",
       "      <td>2023-06</td>\n",
       "      <td>Jun-2023</td>\n",
       "      <td>9.18504</td>\n",
       "      <td>NaN</td>\n",
       "      <td>NaN</td>\n",
       "    </tr>\n",
       "    <tr>\n",
       "      <th>334592</th>\n",
       "      <td>MHL</td>\n",
       "      <td>Marshall Islands</td>\n",
       "      <td>CO2</td>\n",
       "      <td>Carbon dioxide</td>\n",
       "      <td>TCO2</td>\n",
       "      <td>tonnes of CO2-equivalent</td>\n",
       "      <td>C</td>\n",
       "      <td>Freight flights</td>\n",
       "      <td>M</td>\n",
       "      <td>Monthly</td>\n",
       "      <td>TER_INT</td>\n",
       "      <td>International aviation (memo item): (D)+(G)</td>\n",
       "      <td>NSA</td>\n",
       "      <td>Non seasonally adjusted</td>\n",
       "      <td>2023-06</td>\n",
       "      <td>Jun-2023</td>\n",
       "      <td>35.29190</td>\n",
       "      <td>NaN</td>\n",
       "      <td>NaN</td>\n",
       "    </tr>\n",
       "  </tbody>\n",
       "</table>\n",
       "</div>"
      ],
      "text/plain": [
       "       LOCATION                 Country POLLUTANT       Pollutant MEASURE  \\\n",
       "334576      ALB                 Albania       CO2  Carbon dioxide    TCO2   \n",
       "334580      BIH  Bosnia and Herzegovina       CO2  Carbon dioxide    TCO2   \n",
       "334585      MHL        Marshall Islands       CO2  Carbon dioxide    TCO2   \n",
       "334587      BIH  Bosnia and Herzegovina       CO2  Carbon dioxide    TCO2   \n",
       "334592      MHL        Marshall Islands       CO2  Carbon dioxide    TCO2   \n",
       "\n",
       "                         Measure FLIGHT        Flight type FREQUENCY  \\\n",
       "334576  tonnes of CO2-equivalent      P  Passenger flights         M   \n",
       "334580  tonnes of CO2-equivalent      C    Freight flights         Q   \n",
       "334585  tonnes of CO2-equivalent      C    Freight flights         Q   \n",
       "334587  tonnes of CO2-equivalent      C    Freight flights         M   \n",
       "334592  tonnes of CO2-equivalent      C    Freight flights         M   \n",
       "\n",
       "        Frequency   SOURCE                          Source of emissions  \\\n",
       "334576    Monthly  TER_DOM                  Domestic aviation: (A)+(C)    \n",
       "334580  Quarterly  TER_INT  International aviation (memo item): (D)+(G)   \n",
       "334585  Quarterly  TER_INT  International aviation (memo item): (D)+(G)   \n",
       "334587    Monthly  TER_INT  International aviation (memo item): (D)+(G)   \n",
       "334592    Monthly  TER_INT  International aviation (memo item): (D)+(G)   \n",
       "\n",
       "       SEASONALITY              Seasonality     TIME      Time     Value  \\\n",
       "334576         NSA  Non seasonally adjusted  2023-05  May-2023  14.98480   \n",
       "334580         NSA  Non seasonally adjusted  2023-Q2   Q2-2023   9.18504   \n",
       "334585         NSA  Non seasonally adjusted  2023-Q2   Q2-2023  35.29190   \n",
       "334587         NSA  Non seasonally adjusted  2023-06  Jun-2023   9.18504   \n",
       "334592         NSA  Non seasonally adjusted  2023-06  Jun-2023  35.29190   \n",
       "\n",
       "        Flag Codes  Flags  \n",
       "334576         NaN    NaN  \n",
       "334580         NaN    NaN  \n",
       "334585         NaN    NaN  \n",
       "334587         NaN    NaN  \n",
       "334592         NaN    NaN  "
      ]
     },
     "execution_count": 10,
     "metadata": {},
     "output_type": "execute_result"
    }
   ],
   "source": [
    "c02_ter.tail()"
   ]
  },
  {
   "cell_type": "code",
   "execution_count": 11,
   "id": "14d34fe9-40ba-401f-bfe9-c9d1eae47323",
   "metadata": {
    "tags": []
   },
   "outputs": [
    {
     "data": {
      "text/html": [
       "<div>\n",
       "<style scoped>\n",
       "    .dataframe tbody tr th:only-of-type {\n",
       "        vertical-align: middle;\n",
       "    }\n",
       "\n",
       "    .dataframe tbody tr th {\n",
       "        vertical-align: top;\n",
       "    }\n",
       "\n",
       "    .dataframe thead th {\n",
       "        text-align: right;\n",
       "    }\n",
       "</style>\n",
       "<table border=\"1\" class=\"dataframe\">\n",
       "  <thead>\n",
       "    <tr style=\"text-align: right;\">\n",
       "      <th></th>\n",
       "      <th>LOCATION</th>\n",
       "      <th>Country</th>\n",
       "      <th>POLLUTANT</th>\n",
       "      <th>Pollutant</th>\n",
       "      <th>MEASURE</th>\n",
       "      <th>Measure</th>\n",
       "      <th>FLIGHT</th>\n",
       "      <th>Flight type</th>\n",
       "      <th>FREQUENCY</th>\n",
       "      <th>Frequency</th>\n",
       "      <th>SOURCE</th>\n",
       "      <th>Source of emissions</th>\n",
       "      <th>SEASONALITY</th>\n",
       "      <th>Seasonality</th>\n",
       "      <th>TIME</th>\n",
       "      <th>Time</th>\n",
       "      <th>Value</th>\n",
       "      <th>Flag Codes</th>\n",
       "      <th>Flags</th>\n",
       "    </tr>\n",
       "  </thead>\n",
       "  <tbody>\n",
       "    <tr>\n",
       "      <th>80</th>\n",
       "      <td>AUS</td>\n",
       "      <td>Australia</td>\n",
       "      <td>CO2</td>\n",
       "      <td>Carbon dioxide</td>\n",
       "      <td>TCO2</td>\n",
       "      <td>tonnes of CO2-equivalent</td>\n",
       "      <td>TOTAL</td>\n",
       "      <td>All flights</td>\n",
       "      <td>A</td>\n",
       "      <td>Annual</td>\n",
       "      <td>TER_DOM</td>\n",
       "      <td>Domestic aviation: (A)+(C)</td>\n",
       "      <td>NSA</td>\n",
       "      <td>Non seasonally adjusted</td>\n",
       "      <td>2015</td>\n",
       "      <td>2015</td>\n",
       "      <td>7.395764e+06</td>\n",
       "      <td>NaN</td>\n",
       "      <td>NaN</td>\n",
       "    </tr>\n",
       "    <tr>\n",
       "      <th>81</th>\n",
       "      <td>AUS</td>\n",
       "      <td>Australia</td>\n",
       "      <td>CO2</td>\n",
       "      <td>Carbon dioxide</td>\n",
       "      <td>TCO2</td>\n",
       "      <td>tonnes of CO2-equivalent</td>\n",
       "      <td>TOTAL</td>\n",
       "      <td>All flights</td>\n",
       "      <td>A</td>\n",
       "      <td>Annual</td>\n",
       "      <td>TER_DOM</td>\n",
       "      <td>Domestic aviation: (A)+(C)</td>\n",
       "      <td>NSA</td>\n",
       "      <td>Non seasonally adjusted</td>\n",
       "      <td>2016</td>\n",
       "      <td>2016</td>\n",
       "      <td>7.463633e+06</td>\n",
       "      <td>NaN</td>\n",
       "      <td>NaN</td>\n",
       "    </tr>\n",
       "    <tr>\n",
       "      <th>82</th>\n",
       "      <td>AUS</td>\n",
       "      <td>Australia</td>\n",
       "      <td>CO2</td>\n",
       "      <td>Carbon dioxide</td>\n",
       "      <td>TCO2</td>\n",
       "      <td>tonnes of CO2-equivalent</td>\n",
       "      <td>TOTAL</td>\n",
       "      <td>All flights</td>\n",
       "      <td>A</td>\n",
       "      <td>Annual</td>\n",
       "      <td>TER_DOM</td>\n",
       "      <td>Domestic aviation: (A)+(C)</td>\n",
       "      <td>NSA</td>\n",
       "      <td>Non seasonally adjusted</td>\n",
       "      <td>2017</td>\n",
       "      <td>2017</td>\n",
       "      <td>7.386456e+06</td>\n",
       "      <td>NaN</td>\n",
       "      <td>NaN</td>\n",
       "    </tr>\n",
       "    <tr>\n",
       "      <th>83</th>\n",
       "      <td>AUS</td>\n",
       "      <td>Australia</td>\n",
       "      <td>CO2</td>\n",
       "      <td>Carbon dioxide</td>\n",
       "      <td>TCO2</td>\n",
       "      <td>tonnes of CO2-equivalent</td>\n",
       "      <td>TOTAL</td>\n",
       "      <td>All flights</td>\n",
       "      <td>A</td>\n",
       "      <td>Annual</td>\n",
       "      <td>TER_DOM</td>\n",
       "      <td>Domestic aviation: (A)+(C)</td>\n",
       "      <td>NSA</td>\n",
       "      <td>Non seasonally adjusted</td>\n",
       "      <td>2018</td>\n",
       "      <td>2018</td>\n",
       "      <td>7.375074e+06</td>\n",
       "      <td>NaN</td>\n",
       "      <td>NaN</td>\n",
       "    </tr>\n",
       "    <tr>\n",
       "      <th>84</th>\n",
       "      <td>AUS</td>\n",
       "      <td>Australia</td>\n",
       "      <td>CO2</td>\n",
       "      <td>Carbon dioxide</td>\n",
       "      <td>TCO2</td>\n",
       "      <td>tonnes of CO2-equivalent</td>\n",
       "      <td>TOTAL</td>\n",
       "      <td>All flights</td>\n",
       "      <td>A</td>\n",
       "      <td>Annual</td>\n",
       "      <td>TER_DOM</td>\n",
       "      <td>Domestic aviation: (A)+(C)</td>\n",
       "      <td>NSA</td>\n",
       "      <td>Non seasonally adjusted</td>\n",
       "      <td>2019</td>\n",
       "      <td>2019</td>\n",
       "      <td>7.960830e+06</td>\n",
       "      <td>NaN</td>\n",
       "      <td>NaN</td>\n",
       "    </tr>\n",
       "  </tbody>\n",
       "</table>\n",
       "</div>"
      ],
      "text/plain": [
       "   LOCATION    Country POLLUTANT       Pollutant MEASURE  \\\n",
       "80      AUS  Australia       CO2  Carbon dioxide    TCO2   \n",
       "81      AUS  Australia       CO2  Carbon dioxide    TCO2   \n",
       "82      AUS  Australia       CO2  Carbon dioxide    TCO2   \n",
       "83      AUS  Australia       CO2  Carbon dioxide    TCO2   \n",
       "84      AUS  Australia       CO2  Carbon dioxide    TCO2   \n",
       "\n",
       "                     Measure FLIGHT  Flight type FREQUENCY Frequency   SOURCE  \\\n",
       "80  tonnes of CO2-equivalent  TOTAL  All flights         A    Annual  TER_DOM   \n",
       "81  tonnes of CO2-equivalent  TOTAL  All flights         A    Annual  TER_DOM   \n",
       "82  tonnes of CO2-equivalent  TOTAL  All flights         A    Annual  TER_DOM   \n",
       "83  tonnes of CO2-equivalent  TOTAL  All flights         A    Annual  TER_DOM   \n",
       "84  tonnes of CO2-equivalent  TOTAL  All flights         A    Annual  TER_DOM   \n",
       "\n",
       "            Source of emissions SEASONALITY              Seasonality  TIME  \\\n",
       "80  Domestic aviation: (A)+(C)          NSA  Non seasonally adjusted  2015   \n",
       "81  Domestic aviation: (A)+(C)          NSA  Non seasonally adjusted  2016   \n",
       "82  Domestic aviation: (A)+(C)          NSA  Non seasonally adjusted  2017   \n",
       "83  Domestic aviation: (A)+(C)          NSA  Non seasonally adjusted  2018   \n",
       "84  Domestic aviation: (A)+(C)          NSA  Non seasonally adjusted  2019   \n",
       "\n",
       "    Time         Value  Flag Codes  Flags  \n",
       "80  2015  7.395764e+06         NaN    NaN  \n",
       "81  2016  7.463633e+06         NaN    NaN  \n",
       "82  2017  7.386456e+06         NaN    NaN  \n",
       "83  2018  7.375074e+06         NaN    NaN  \n",
       "84  2019  7.960830e+06         NaN    NaN  "
      ]
     },
     "execution_count": 11,
     "metadata": {},
     "output_type": "execute_result"
    }
   ],
   "source": [
    "c02_ter.head()"
   ]
  },
  {
   "cell_type": "code",
   "execution_count": 12,
   "id": "e3b1472f-66fe-4cc6-ad23-95eef94a02e9",
   "metadata": {
    "tags": []
   },
   "outputs": [
    {
     "data": {
      "text/plain": [
       "International aviation (memo item): (D)+(G)    39640\n",
       "Domestic aviation: (A)+(C)                     25702\n",
       "Name: Source of emissions, dtype: int64"
      ]
     },
     "execution_count": 12,
     "metadata": {},
     "output_type": "execute_result"
    }
   ],
   "source": [
    "c02_ter['Source of emissions'].value_counts()"
   ]
  },
  {
   "cell_type": "code",
   "execution_count": 13,
   "id": "251ca22c-8bd3-442a-8214-5e71f345991b",
   "metadata": {
    "tags": []
   },
   "outputs": [
    {
     "data": {
      "text/plain": [
       "(65342, 19)"
      ]
     },
     "execution_count": 13,
     "metadata": {},
     "output_type": "execute_result"
    }
   ],
   "source": [
    "c02_ter.shape"
   ]
  },
  {
   "cell_type": "code",
   "execution_count": 14,
   "id": "c109fe5a-cfb8-4d52-b4cb-c11ca0a4b87c",
   "metadata": {
    "tags": []
   },
   "outputs": [],
   "source": [
    "c02_ter.to_csv('../datasets/territory_principle.csv', index=False)"
   ]
  },
  {
   "cell_type": "markdown",
   "id": "6875485d",
   "metadata": {},
   "source": [
    "## For intial visualization"
   ]
  },
  {
   "cell_type": "markdown",
   "id": "3ae5756e",
   "metadata": {},
   "source": [
    "Finding unique Countries"
   ]
  },
  {
   "cell_type": "code",
   "execution_count": 15,
   "id": "0317a1bc",
   "metadata": {},
   "outputs": [
    {
     "data": {
      "text/plain": [
       "array(['Australia', 'Austria', 'Belgium', 'Canada', 'Czech Republic',\n",
       "       'Denmark', 'Finland', 'France', 'Germany', 'Greece', 'Hungary',\n",
       "       'Iceland', 'Ireland', 'Italy', 'Japan', 'Korea', 'Luxembourg',\n",
       "       'Mexico', 'Netherlands', 'New Zealand', 'Norway', 'Poland',\n",
       "       'Portugal', 'Slovak Republic', 'Spain', 'Sweden', 'Switzerland',\n",
       "       'Türkiye', 'United Kingdom', 'United States', 'Afghanistan',\n",
       "       'Albania', 'Algeria', 'Angola', 'Antigua and Barbuda', 'Argentina',\n",
       "       'Armenia', 'Azerbaijan', 'Bahrain', 'Bangladesh', 'Barbados',\n",
       "       'Belarus', 'Belize', 'Benin', 'Bhutan', 'Bolivia',\n",
       "       'Bosnia and Herzegovina', 'Botswana', 'Brazil',\n",
       "       'Brunei Darussalam', 'Bulgaria', 'Burkina Faso', 'Burundi',\n",
       "       'Cambodia', 'Cameroon', 'Cabo Verde', 'Central African Republic',\n",
       "       'Chad', 'Chile', \"China (People's Republic of)\", 'Colombia',\n",
       "       'Comoros', 'Congo', 'Costa Rica', \"Côte d'Ivoire\", 'Croatia',\n",
       "       'Cuba', 'Cyprus', \"Democratic People's Republic of Korea\",\n",
       "       'Democratic Republic of the Congo', 'Djibouti', 'Dominica',\n",
       "       'Dominican Republic', 'Ecuador', 'Egypt', 'El Salvador',\n",
       "       'Equatorial Guinea', 'Eritrea', 'Estonia', 'Ethiopia', 'Fiji',\n",
       "       'Gabon', 'Georgia', 'Ghana', 'Guatemala', 'Guinea',\n",
       "       'Guinea-Bissau', 'Guyana', 'Haiti', 'Honduras', 'India',\n",
       "       'Indonesia', 'Iran', 'Iraq', 'Israel', 'Jamaica', 'Jordan',\n",
       "       'Kazakhstan', 'Kenya', 'Kiribati', 'Kuwait', 'Kyrgyzstan',\n",
       "       \"Lao People's Democratic Republic\", 'Latvia', 'Lebanon', 'Lesotho',\n",
       "       'Liberia', 'Libya', 'Lithuania', 'North Macedonia', 'Madagascar',\n",
       "       'Malawi', 'Malaysia', 'Maldives', 'Mali', 'Malta',\n",
       "       'Marshall Islands', 'Mauritania', 'Mauritius', 'Micronesia',\n",
       "       'Moldova', 'Mongolia', 'Morocco', 'Mozambique', 'Myanmar',\n",
       "       'Namibia', 'Nauru', 'Nepal', 'Nicaragua', 'Niger', 'Nigeria',\n",
       "       'Oman', 'Pakistan', 'Palau', 'Panama', 'Papua New Guinea',\n",
       "       'Paraguay', 'Peru', 'Philippines', 'Qatar', 'Romania', 'Russia',\n",
       "       'Rwanda', 'Saint Kitts and Nevis', 'Saint Lucia',\n",
       "       'Saint Vincent and the Grenadines', 'Samoa',\n",
       "       'Sao Tome and Principe', 'Saudi Arabia', 'Senegal', 'Seychelles',\n",
       "       'Sierra Leone', 'Singapore', 'Slovenia', 'Solomon Islands',\n",
       "       'Somalia', 'South Africa', 'Sri Lanka', 'Sudan', 'Suriname',\n",
       "       'Eswatini', 'Syrian Arab Republic', 'Tajikistan', 'Tanzania',\n",
       "       'Thailand', 'Togo', 'Tonga', 'Trinidad and Tobago', 'Tunisia',\n",
       "       'Turkmenistan', 'Tuvalu', 'Uganda', 'Ukraine',\n",
       "       'United Arab Emirates', 'Uruguay', 'Uzbekistan', 'Vanuatu',\n",
       "       'Venezuela', 'Viet Nam', 'Yemen', 'Zambia', 'Zimbabwe', 'Serbia',\n",
       "       'Montenegro', 'South Sudan '], dtype=object)"
      ]
     },
     "execution_count": 15,
     "metadata": {},
     "output_type": "execute_result"
    }
   ],
   "source": [
    "c02_ter['Country'].unique()"
   ]
  },
  {
   "cell_type": "code",
   "execution_count": 23,
   "id": "8b66aa09",
   "metadata": {},
   "outputs": [
    {
     "data": {
      "text/plain": [
       "United Kingdom                           482\n",
       "Australia                                480\n",
       "Japan                                    480\n",
       "Indonesia                                480\n",
       "India                                    480\n",
       "                                        ... \n",
       "Yemen                                     94\n",
       "South Sudan                               93\n",
       "Democratic People's Republic of Korea     50\n",
       "Lesotho                                    8\n",
       "Eswatini                                   8\n",
       "Name: Country, Length: 185, dtype: int64"
      ]
     },
     "execution_count": 23,
     "metadata": {},
     "output_type": "execute_result"
    }
   ],
   "source": [
    "c02_ter['Country'].value_counts()\n",
    "\n"
   ]
  },
  {
   "cell_type": "code",
   "execution_count": 31,
   "id": "03455f8d",
   "metadata": {},
   "outputs": [
    {
     "data": {
      "text/html": [
       "<div>\n",
       "<style scoped>\n",
       "    .dataframe tbody tr th:only-of-type {\n",
       "        vertical-align: middle;\n",
       "    }\n",
       "\n",
       "    .dataframe tbody tr th {\n",
       "        vertical-align: top;\n",
       "    }\n",
       "\n",
       "    .dataframe thead th {\n",
       "        text-align: right;\n",
       "    }\n",
       "</style>\n",
       "<table border=\"1\" class=\"dataframe\">\n",
       "  <thead>\n",
       "    <tr style=\"text-align: right;\">\n",
       "      <th></th>\n",
       "      <th>Country</th>\n",
       "      <th>Value</th>\n",
       "    </tr>\n",
       "  </thead>\n",
       "  <tbody>\n",
       "    <tr>\n",
       "      <th>0</th>\n",
       "      <td>Afghanistan</td>\n",
       "      <td>3.952507e+06</td>\n",
       "    </tr>\n",
       "    <tr>\n",
       "      <th>1</th>\n",
       "      <td>Albania</td>\n",
       "      <td>4.763342e+06</td>\n",
       "    </tr>\n",
       "    <tr>\n",
       "      <th>2</th>\n",
       "      <td>Algeria</td>\n",
       "      <td>2.253589e+07</td>\n",
       "    </tr>\n",
       "    <tr>\n",
       "      <th>3</th>\n",
       "      <td>Angola</td>\n",
       "      <td>1.354253e+07</td>\n",
       "    </tr>\n",
       "    <tr>\n",
       "      <th>4</th>\n",
       "      <td>Antigua and Barbuda</td>\n",
       "      <td>4.390593e+06</td>\n",
       "    </tr>\n",
       "    <tr>\n",
       "      <th>...</th>\n",
       "      <td>...</td>\n",
       "      <td>...</td>\n",
       "    </tr>\n",
       "    <tr>\n",
       "      <th>180</th>\n",
       "      <td>Venezuela</td>\n",
       "      <td>1.277873e+07</td>\n",
       "    </tr>\n",
       "    <tr>\n",
       "      <th>181</th>\n",
       "      <td>Viet Nam</td>\n",
       "      <td>1.905645e+08</td>\n",
       "    </tr>\n",
       "    <tr>\n",
       "      <th>182</th>\n",
       "      <td>Yemen</td>\n",
       "      <td>9.128696e+05</td>\n",
       "    </tr>\n",
       "    <tr>\n",
       "      <th>183</th>\n",
       "      <td>Zambia</td>\n",
       "      <td>5.239726e+06</td>\n",
       "    </tr>\n",
       "    <tr>\n",
       "      <th>184</th>\n",
       "      <td>Zimbabwe</td>\n",
       "      <td>3.735716e+06</td>\n",
       "    </tr>\n",
       "  </tbody>\n",
       "</table>\n",
       "<p>185 rows × 2 columns</p>\n",
       "</div>"
      ],
      "text/plain": [
       "                 Country         Value\n",
       "0            Afghanistan  3.952507e+06\n",
       "1                Albania  4.763342e+06\n",
       "2                Algeria  2.253589e+07\n",
       "3                 Angola  1.354253e+07\n",
       "4    Antigua and Barbuda  4.390593e+06\n",
       "..                   ...           ...\n",
       "180            Venezuela  1.277873e+07\n",
       "181             Viet Nam  1.905645e+08\n",
       "182                Yemen  9.128696e+05\n",
       "183               Zambia  5.239726e+06\n",
       "184             Zimbabwe  3.735716e+06\n",
       "\n",
       "[185 rows x 2 columns]"
      ]
     },
     "execution_count": 31,
     "metadata": {},
     "output_type": "execute_result"
    }
   ],
   "source": [
    "grouped_country_values = c02_ter.groupby('Country').agg({'Value': 'sum'}).reset_index() # Country and summing Values\n",
    "grouped_country_values\n"
   ]
  },
  {
   "cell_type": "markdown",
   "id": "76531518",
   "metadata": {},
   "source": [
    "Using build in data set from geopanda"
   ]
  },
  {
   "cell_type": "code",
   "execution_count": 25,
   "id": "150c3fde",
   "metadata": {},
   "outputs": [
    {
     "name": "stderr",
     "output_type": "stream",
     "text": [
      "C:\\Users\\muham\\AppData\\Local\\Temp\\ipykernel_37328\\509156995.py:1: FutureWarning: The geopandas.dataset module is deprecated and will be removed in GeoPandas 1.0. You can get the original 'naturalearth_lowres' data from https://www.naturalearthdata.com/downloads/110m-cultural-vectors/.\n",
      "  world_data= gpd.read_file(gpd.datasets.get_path('naturalearth_lowres'))\n"
     ]
    }
   ],
   "source": [
    "world_data= gpd.read_file(gpd.datasets.get_path('naturalearth_lowres'))"
   ]
  },
  {
   "cell_type": "code",
   "execution_count": 26,
   "id": "b19cbd13",
   "metadata": {},
   "outputs": [
    {
     "data": {
      "text/plain": [
       "<AxesSubplot:>"
      ]
     },
     "execution_count": 26,
     "metadata": {},
     "output_type": "execute_result"
    },
    {
     "data": {
      "image/png": "[encoded data removed]",
      "text/plain": [
       "<Figure size 640x480 with 1 Axes>"
      ]
     },
     "metadata": {},
     "output_type": "display_data"
    }
   ],
   "source": [
    "world_data.plot()"
   ]
  },
  {
   "cell_type": "code",
   "execution_count": 27,
   "id": "70838c42",
   "metadata": {},
   "outputs": [
    {
     "data": {
      "text/html": [
       "<div>\n",
       "<style scoped>\n",
       "    .dataframe tbody tr th:only-of-type {\n",
       "        vertical-align: middle;\n",
       "    }\n",
       "\n",
       "    .dataframe tbody tr th {\n",
       "        vertical-align: top;\n",
       "    }\n",
       "\n",
       "    .dataframe thead th {\n",
       "        text-align: right;\n",
       "    }\n",
       "</style>\n",
       "<table border=\"1\" class=\"dataframe\">\n",
       "  <thead>\n",
       "    <tr style=\"text-align: right;\">\n",
       "      <th></th>\n",
       "      <th>pop_est</th>\n",
       "      <th>continent</th>\n",
       "      <th>name</th>\n",
       "      <th>iso_a3</th>\n",
       "      <th>gdp_md_est</th>\n",
       "      <th>geometry</th>\n",
       "    </tr>\n",
       "  </thead>\n",
       "  <tbody>\n",
       "    <tr>\n",
       "      <th>0</th>\n",
       "      <td>889953.0</td>\n",
       "      <td>Oceania</td>\n",
       "      <td>Fiji</td>\n",
       "      <td>FJI</td>\n",
       "      <td>5496</td>\n",
       "      <td>MULTIPOLYGON (((180.00000 -16.06713, 180.00000...</td>\n",
       "    </tr>\n",
       "    <tr>\n",
       "      <th>1</th>\n",
       "      <td>58005463.0</td>\n",
       "      <td>Africa</td>\n",
       "      <td>Tanzania</td>\n",
       "      <td>TZA</td>\n",
       "      <td>63177</td>\n",
       "      <td>POLYGON ((33.90371 -0.95000, 34.07262 -1.05982...</td>\n",
       "    </tr>\n",
       "    <tr>\n",
       "      <th>2</th>\n",
       "      <td>603253.0</td>\n",
       "      <td>Africa</td>\n",
       "      <td>W. Sahara</td>\n",
       "      <td>ESH</td>\n",
       "      <td>907</td>\n",
       "      <td>POLYGON ((-8.66559 27.65643, -8.66512 27.58948...</td>\n",
       "    </tr>\n",
       "    <tr>\n",
       "      <th>3</th>\n",
       "      <td>37589262.0</td>\n",
       "      <td>North America</td>\n",
       "      <td>Canada</td>\n",
       "      <td>CAN</td>\n",
       "      <td>1736425</td>\n",
       "      <td>MULTIPOLYGON (((-122.84000 49.00000, -122.9742...</td>\n",
       "    </tr>\n",
       "    <tr>\n",
       "      <th>4</th>\n",
       "      <td>328239523.0</td>\n",
       "      <td>North America</td>\n",
       "      <td>United States of America</td>\n",
       "      <td>USA</td>\n",
       "      <td>21433226</td>\n",
       "      <td>MULTIPOLYGON (((-122.84000 49.00000, -120.0000...</td>\n",
       "    </tr>\n",
       "  </tbody>\n",
       "</table>\n",
       "</div>"
      ],
      "text/plain": [
       "       pop_est      continent                      name iso_a3  gdp_md_est  \\\n",
       "0     889953.0        Oceania                      Fiji    FJI        5496   \n",
       "1   58005463.0         Africa                  Tanzania    TZA       63177   \n",
       "2     603253.0         Africa                 W. Sahara    ESH         907   \n",
       "3   37589262.0  North America                    Canada    CAN     1736425   \n",
       "4  328239523.0  North America  United States of America    USA    21433226   \n",
       "\n",
       "                                            geometry  \n",
       "0  MULTIPOLYGON (((180.00000 -16.06713, 180.00000...  \n",
       "1  POLYGON ((33.90371 -0.95000, 34.07262 -1.05982...  \n",
       "2  POLYGON ((-8.66559 27.65643, -8.66512 27.58948...  \n",
       "3  MULTIPOLYGON (((-122.84000 49.00000, -122.9742...  \n",
       "4  MULTIPOLYGON (((-122.84000 49.00000, -120.0000...  "
      ]
     },
     "execution_count": 27,
     "metadata": {},
     "output_type": "execute_result"
    }
   ],
   "source": [
    "world_data.head()"
   ]
  },
  {
   "cell_type": "code",
   "execution_count": 42,
   "id": "f4c21a1d",
   "metadata": {},
   "outputs": [
    {
     "data": {
      "text/plain": [
       "<bound method DataFrame.info of          pop_est      continent                      name iso_a3  gdp_md_est  \\\n",
       "0       889953.0        Oceania                      Fiji    FJI        5496   \n",
       "1     58005463.0         Africa                  Tanzania    TZA       63177   \n",
       "2       603253.0         Africa                 W. Sahara    ESH         907   \n",
       "3     37589262.0  North America                    Canada    CAN     1736425   \n",
       "4    328239523.0  North America  United States of America    USA    21433226   \n",
       "..           ...            ...                       ...    ...         ...   \n",
       "172    6944975.0         Europe                    Serbia    SRB       51475   \n",
       "173     622137.0         Europe                Montenegro    MNE        5542   \n",
       "174    1794248.0         Europe                    Kosovo    -99        7926   \n",
       "175    1394973.0  North America       Trinidad and Tobago    TTO       24269   \n",
       "176   11062113.0         Africa                  S. Sudan    SSD       11998   \n",
       "\n",
       "                                              geometry  \n",
       "0    MULTIPOLYGON (((180.00000 -16.06713, 180.00000...  \n",
       "1    POLYGON ((33.90371 -0.95000, 34.07262 -1.05982...  \n",
       "2    POLYGON ((-8.66559 27.65643, -8.66512 27.58948...  \n",
       "3    MULTIPOLYGON (((-122.84000 49.00000, -122.9742...  \n",
       "4    MULTIPOLYGON (((-122.84000 49.00000, -120.0000...  \n",
       "..                                                 ...  \n",
       "172  POLYGON ((18.82982 45.90887, 18.82984 45.90888...  \n",
       "173  POLYGON ((20.07070 42.58863, 19.80161 42.50009...  \n",
       "174  POLYGON ((20.59025 41.85541, 20.52295 42.21787...  \n",
       "175  POLYGON ((-61.68000 10.76000, -61.10500 10.890...  \n",
       "176  POLYGON ((30.83385 3.50917, 29.95350 4.17370, ...  \n",
       "\n",
       "[177 rows x 6 columns]>"
      ]
     },
     "execution_count": 42,
     "metadata": {},
     "output_type": "execute_result"
    }
   ],
   "source": [
    "world_data.info"
   ]
  },
  {
   "cell_type": "markdown",
   "id": "60cca600",
   "metadata": {},
   "source": [
    "Merging wold data and grouped data"
   ]
  },
  {
   "cell_type": "code",
   "execution_count": 32,
   "id": "2f39ad6a",
   "metadata": {},
   "outputs": [],
   "source": [
    "merged_worlddata_grouped = world_data.merge(grouped_country_values, left_on='name', right_on='Country', how='left')"
   ]
  },
  {
   "cell_type": "code",
   "execution_count": null,
   "id": "b1b01cfc",
   "metadata": {},
   "outputs": [],
   "source": [
    "merged_worlddata_grouped['Value'].fillna(0, inplace=True) #if any"
   ]
  },
  {
   "cell_type": "code",
   "execution_count": 37,
   "id": "d008cf83",
   "metadata": {},
   "outputs": [
    {
     "data": {
      "image/png": "[encoded data removed]",
      "text/plain": [
       "<Figure size 1200x1000 with 2 Axes>"
      ]
     },
     "metadata": {},
     "output_type": "display_data"
    }
   ],
   "source": [
    "fig, ax = plt.subplots(1, 1, figsize=(12, 10))\n",
    "merged_worlddata_grouped.plot(column='Value', ax=ax, legend=True, cmap='OrRd', edgecolor='k', linewidth=0.3)\n",
    "ax.set_title('Values by Country')\n",
    "plt.show()\n"
   ]
  },
  {
   "cell_type": "markdown",
   "id": "0545a11a",
   "metadata": {},
   "source": [
    "United States needs to be renamed to United States of America or vice versa. A common issue while merging geospatial data."
   ]
  },
  {
   "cell_type": "code",
   "execution_count": 41,
   "id": "c876815f",
   "metadata": {},
   "outputs": [
    {
     "data": {
      "text/html": [
       "<div>\n",
       "<style scoped>\n",
       "    .dataframe tbody tr th:only-of-type {\n",
       "        vertical-align: middle;\n",
       "    }\n",
       "\n",
       "    .dataframe tbody tr th {\n",
       "        vertical-align: top;\n",
       "    }\n",
       "\n",
       "    .dataframe thead th {\n",
       "        text-align: right;\n",
       "    }\n",
       "</style>\n",
       "<table border=\"1\" class=\"dataframe\">\n",
       "  <thead>\n",
       "    <tr style=\"text-align: right;\">\n",
       "      <th></th>\n",
       "      <th>name</th>\n",
       "      <th>Country</th>\n",
       "    </tr>\n",
       "  </thead>\n",
       "  <tbody>\n",
       "    <tr>\n",
       "      <th>0</th>\n",
       "      <td>Fiji</td>\n",
       "      <td>Fiji</td>\n",
       "    </tr>\n",
       "    <tr>\n",
       "      <th>1</th>\n",
       "      <td>Tanzania</td>\n",
       "      <td>Tanzania</td>\n",
       "    </tr>\n",
       "    <tr>\n",
       "      <th>2</th>\n",
       "      <td>W. Sahara</td>\n",
       "      <td>NaN</td>\n",
       "    </tr>\n",
       "    <tr>\n",
       "      <th>3</th>\n",
       "      <td>Canada</td>\n",
       "      <td>Canada</td>\n",
       "    </tr>\n",
       "    <tr>\n",
       "      <th>4</th>\n",
       "      <td>United States of America</td>\n",
       "      <td>NaN</td>\n",
       "    </tr>\n",
       "    <tr>\n",
       "      <th>...</th>\n",
       "      <td>...</td>\n",
       "      <td>...</td>\n",
       "    </tr>\n",
       "    <tr>\n",
       "      <th>172</th>\n",
       "      <td>Serbia</td>\n",
       "      <td>Serbia</td>\n",
       "    </tr>\n",
       "    <tr>\n",
       "      <th>173</th>\n",
       "      <td>Montenegro</td>\n",
       "      <td>Montenegro</td>\n",
       "    </tr>\n",
       "    <tr>\n",
       "      <th>174</th>\n",
       "      <td>Kosovo</td>\n",
       "      <td>NaN</td>\n",
       "    </tr>\n",
       "    <tr>\n",
       "      <th>175</th>\n",
       "      <td>Trinidad and Tobago</td>\n",
       "      <td>Trinidad and Tobago</td>\n",
       "    </tr>\n",
       "    <tr>\n",
       "      <th>176</th>\n",
       "      <td>S. Sudan</td>\n",
       "      <td>NaN</td>\n",
       "    </tr>\n",
       "  </tbody>\n",
       "</table>\n",
       "<p>177 rows × 2 columns</p>\n",
       "</div>"
      ],
      "text/plain": [
       "                         name              Country\n",
       "0                        Fiji                 Fiji\n",
       "1                    Tanzania             Tanzania\n",
       "2                   W. Sahara                  NaN\n",
       "3                      Canada               Canada\n",
       "4    United States of America                  NaN\n",
       "..                        ...                  ...\n",
       "172                    Serbia               Serbia\n",
       "173                Montenegro           Montenegro\n",
       "174                    Kosovo                  NaN\n",
       "175       Trinidad and Tobago  Trinidad and Tobago\n",
       "176                  S. Sudan                  NaN\n",
       "\n",
       "[177 rows x 2 columns]"
      ]
     },
     "execution_count": 41,
     "metadata": {},
     "output_type": "execute_result"
    }
   ],
   "source": [
    "merged_worlddata_grouped[['name', 'Country']] "
   ]
  },
  {
   "cell_type": "code",
   "execution_count": 76,
   "id": "59de55c6",
   "metadata": {},
   "outputs": [
    {
     "data": {
      "text/html": [
       "<div>\n",
       "<style scoped>\n",
       "    .dataframe tbody tr th:only-of-type {\n",
       "        vertical-align: middle;\n",
       "    }\n",
       "\n",
       "    .dataframe tbody tr th {\n",
       "        vertical-align: top;\n",
       "    }\n",
       "\n",
       "    .dataframe thead th {\n",
       "        text-align: right;\n",
       "    }\n",
       "</style>\n",
       "<table border=\"1\" class=\"dataframe\">\n",
       "  <thead>\n",
       "    <tr style=\"text-align: right;\">\n",
       "      <th></th>\n",
       "      <th>pop_est</th>\n",
       "      <th>continent</th>\n",
       "      <th>name</th>\n",
       "      <th>iso_a3</th>\n",
       "      <th>gdp_md_est</th>\n",
       "      <th>geometry</th>\n",
       "      <th>Country</th>\n",
       "      <th>Value</th>\n",
       "    </tr>\n",
       "  </thead>\n",
       "  <tbody>\n",
       "    <tr>\n",
       "      <th>2</th>\n",
       "      <td>603253.0</td>\n",
       "      <td>Africa</td>\n",
       "      <td>W. Sahara</td>\n",
       "      <td>ESH</td>\n",
       "      <td>907</td>\n",
       "      <td>POLYGON ((-8.66559 27.65643, -8.66512 27.58948...</td>\n",
       "      <td>NaN</td>\n",
       "      <td>NaN</td>\n",
       "    </tr>\n",
       "    <tr>\n",
       "      <th>4</th>\n",
       "      <td>328239523.0</td>\n",
       "      <td>North America</td>\n",
       "      <td>United States of America</td>\n",
       "      <td>USA</td>\n",
       "      <td>21433226</td>\n",
       "      <td>MULTIPOLYGON (((-122.84000 49.00000, -120.0000...</td>\n",
       "      <td>NaN</td>\n",
       "      <td>NaN</td>\n",
       "    </tr>\n",
       "    <tr>\n",
       "      <th>11</th>\n",
       "      <td>86790567.0</td>\n",
       "      <td>Africa</td>\n",
       "      <td>Dem. Rep. Congo</td>\n",
       "      <td>COD</td>\n",
       "      <td>50400</td>\n",
       "      <td>POLYGON ((29.34000 -4.49998, 29.51999 -5.41998...</td>\n",
       "      <td>NaN</td>\n",
       "      <td>NaN</td>\n",
       "    </tr>\n",
       "    <tr>\n",
       "      <th>17</th>\n",
       "      <td>10738958.0</td>\n",
       "      <td>North America</td>\n",
       "      <td>Dominican Rep.</td>\n",
       "      <td>DOM</td>\n",
       "      <td>88941</td>\n",
       "      <td>POLYGON ((-71.70830 18.04500, -71.68774 18.316...</td>\n",
       "      <td>NaN</td>\n",
       "      <td>NaN</td>\n",
       "    </tr>\n",
       "    <tr>\n",
       "      <th>19</th>\n",
       "      <td>389482.0</td>\n",
       "      <td>North America</td>\n",
       "      <td>Bahamas</td>\n",
       "      <td>BHS</td>\n",
       "      <td>13578</td>\n",
       "      <td>MULTIPOLYGON (((-78.98000 26.79000, -78.51000 ...</td>\n",
       "      <td>NaN</td>\n",
       "      <td>NaN</td>\n",
       "    </tr>\n",
       "  </tbody>\n",
       "</table>\n",
       "</div>"
      ],
      "text/plain": [
       "        pop_est      continent                      name iso_a3  gdp_md_est  \\\n",
       "2      603253.0         Africa                 W. Sahara    ESH         907   \n",
       "4   328239523.0  North America  United States of America    USA    21433226   \n",
       "11   86790567.0         Africa           Dem. Rep. Congo    COD       50400   \n",
       "17   10738958.0  North America            Dominican Rep.    DOM       88941   \n",
       "19     389482.0  North America                   Bahamas    BHS       13578   \n",
       "\n",
       "                                             geometry Country  Value  \n",
       "2   POLYGON ((-8.66559 27.65643, -8.66512 27.58948...     NaN    NaN  \n",
       "4   MULTIPOLYGON (((-122.84000 49.00000, -120.0000...     NaN    NaN  \n",
       "11  POLYGON ((29.34000 -4.49998, 29.51999 -5.41998...     NaN    NaN  \n",
       "17  POLYGON ((-71.70830 18.04500, -71.68774 18.316...     NaN    NaN  \n",
       "19  MULTIPOLYGON (((-78.98000 26.79000, -78.51000 ...     NaN    NaN  "
      ]
     },
     "execution_count": 76,
     "metadata": {},
     "output_type": "execute_result"
    }
   ],
   "source": [
    "\n",
    "missing = merged_worlddata_grouped[merged_worlddata_grouped['name'] != merged_worlddata_grouped['Country']]\n",
    "missing.head()\n"
   ]
  },
  {
   "cell_type": "code",
   "execution_count": 72,
   "id": "00f02f9e",
   "metadata": {},
   "outputs": [],
   "source": [
    "missing_list = missing['name'].tolist()\n"
   ]
  },
  {
   "cell_type": "code",
   "execution_count": 73,
   "id": "1e500c2e",
   "metadata": {},
   "outputs": [
    {
     "data": {
      "text/plain": [
       "['W. Sahara',\n",
       " 'United States of America',\n",
       " 'Dem. Rep. Congo',\n",
       " 'Dominican Rep.',\n",
       " 'Bahamas',\n",
       " 'Falkland Is.',\n",
       " 'Greenland',\n",
       " 'Fr. S. Antarctic Lands',\n",
       " 'Timor-Leste',\n",
       " 'Puerto Rico',\n",
       " 'Central African Rep.',\n",
       " 'Eq. Guinea',\n",
       " 'eSwatini',\n",
       " 'Palestine',\n",
       " 'Gambia',\n",
       " 'Laos',\n",
       " 'Vietnam',\n",
       " 'North Korea',\n",
       " 'South Korea',\n",
       " 'Syria',\n",
       " 'Turkey',\n",
       " 'New Caledonia',\n",
       " 'Solomon Is.',\n",
       " 'China',\n",
       " 'Taiwan',\n",
       " 'Brunei',\n",
       " 'Slovakia',\n",
       " 'Czechia',\n",
       " 'Antarctica',\n",
       " 'N. Cyprus',\n",
       " 'Somaliland',\n",
       " 'Bosnia and Herz.',\n",
       " 'Kosovo',\n",
       " 'S. Sudan']"
      ]
     },
     "execution_count": 73,
     "metadata": {},
     "output_type": "execute_result"
    }
   ],
   "source": [
    "missing_list"
   ]
  },
  {
   "cell_type": "markdown",
   "id": "54608b20",
   "metadata": {},
   "source": [
    "Lets try a different aproch"
   ]
  },
  {
   "cell_type": "code",
   "execution_count": 77,
   "id": "ebeb5357",
   "metadata": {},
   "outputs": [],
   "source": [
    "grouped_loc_values = c02_ter.groupby('LOCATION').agg({'Value': 'sum'}).reset_index() # Country and summing Values"
   ]
  },
  {
   "cell_type": "code",
   "execution_count": 81,
   "id": "8af1c5f3",
   "metadata": {},
   "outputs": [],
   "source": [
    "merged_worlddata_grouped_loc = world_data.merge(grouped_loc_values, left_on='iso_a3', right_on='LOCATION', how='left')"
   ]
  },
  {
   "cell_type": "code",
   "execution_count": 83,
   "id": "96c90556",
   "metadata": {},
   "outputs": [
    {
     "data": {
      "image/png": "[encoded data removed]",
      "text/plain": [
       "<Figure size 1200x1000 with 2 Axes>"
      ]
     },
     "metadata": {},
     "output_type": "display_data"
    }
   ],
   "source": [
    "fig, ax = plt.subplots(1, 1, figsize=(12, 10))\n",
    "merged_worlddata_grouped_loc.plot(column='Value', ax=ax, legend=True, cmap='OrRd', edgecolor='k', linewidth=0.3)\n",
    "ax.set_title('Values by Country')\n",
    "plt.show()"
   ]
  },
  {
   "cell_type": "markdown",
   "id": "1e7c4f49",
   "metadata": {},
   "source": [
    "It is intresting to see that if US and china are not on the map then other countries become more prominent in their emmisions."
   ]
  },
  {
   "cell_type": "markdown",
   "id": "a530a576",
   "metadata": {},
   "source": [
    "Observation: The United States and China are two of the world's largest carbon dioxide emitters. When they are included in global visualizations, their high emissions can dominate and overshadow the emissions from other countries. This can make it challenging to discern variations and patterns in other countries with lower absolute emissions."
   ]
  }
 ],
 "metadata": {
  "kernelspec": {
   "display_name": "Python 3 (ipykernel)",
   "language": "python",
   "name": "python3"
  },
  "language_info": {
   "codemirror_mode": {
    "name": "ipython",
    "version": 3
   },
   "file_extension": ".py",
   "mimetype": "text/x-python",
   "name": "python",
   "nbconvert_exporter": "python",
   "pygments_lexer": "ipython3",
   "version": "3.11.4"
  }
 },
 "nbformat": 4,
 "nbformat_minor": 5
}
