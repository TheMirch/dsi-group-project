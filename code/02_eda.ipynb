{
 "cells": [
  {
   "cell_type": "markdown",
   "id": "038ab7db-e411-40a5-b14d-9b4dcaf42868",
   "metadata": {},
   "source": [
    "# EDA"
   ]
  },
  {
   "cell_type": "code",
   "execution_count": 1,
   "id": "f0cbb67d-0354-4257-a1bd-7baeaa64f270",
   "metadata": {
    "tags": []
   },
   "outputs": [
    {
     "ename": "ModuleNotFoundError",
     "evalue": "No module named 'geopandas'",
     "output_type": "error",
     "traceback": [
      "\u001b[0;31m---------------------------------------------------------------------------\u001b[0m",
      "\u001b[0;31mModuleNotFoundError\u001b[0m                       Traceback (most recent call last)",
      "Cell \u001b[0;32mIn[1], line 5\u001b[0m\n\u001b[1;32m      3\u001b[0m \u001b[38;5;28;01mimport\u001b[39;00m \u001b[38;5;21;01mmatplotlib\u001b[39;00m\u001b[38;5;21;01m.\u001b[39;00m\u001b[38;5;21;01mpyplot\u001b[39;00m \u001b[38;5;28;01mas\u001b[39;00m \u001b[38;5;21;01mplt\u001b[39;00m\n\u001b[1;32m      4\u001b[0m \u001b[38;5;28;01mimport\u001b[39;00m \u001b[38;5;21;01mseaborn\u001b[39;00m \u001b[38;5;28;01mas\u001b[39;00m \u001b[38;5;21;01msns\u001b[39;00m\n\u001b[0;32m----> 5\u001b[0m \u001b[38;5;28;01mimport\u001b[39;00m \u001b[38;5;21;01mgeopandas\u001b[39;00m \u001b[38;5;28;01mas\u001b[39;00m \u001b[38;5;21;01mgpd\u001b[39;00m\n\u001b[1;32m      6\u001b[0m \u001b[38;5;28;01mfrom\u001b[39;00m \u001b[38;5;21;01mshapely\u001b[39;00m\u001b[38;5;21;01m.\u001b[39;00m\u001b[38;5;21;01mgeometry\u001b[39;00m \u001b[38;5;28;01mimport\u001b[39;00m Point\n\u001b[1;32m      7\u001b[0m \u001b[38;5;28;01mimport\u001b[39;00m \u001b[38;5;21;01mseaborn\u001b[39;00m \u001b[38;5;28;01mas\u001b[39;00m \u001b[38;5;21;01msns\u001b[39;00m\n",
      "\u001b[0;31mModuleNotFoundError\u001b[0m: No module named 'geopandas'"
     ]
    }
   ],
   "source": [
    "import numpy as np\n",
    "import pandas as pd\n",
    "import matplotlib.pyplot as plt\n",
    "import seaborn as sns\n",
    "import geopandas as gpd\n",
    "from shapely.geometry import Point\n",
    "import seaborn as sns\n",
    "\n"
   ]
  },
  {
   "cell_type": "code",
   "execution_count": null,
   "id": "694c6f79-7884-4ae6-a48f-296773844ea8",
   "metadata": {
    "tags": []
   },
   "outputs": [],
   "source": [
    "alaska_data = pd.read_csv(\"../datasets/data_cleaned/alaska_single_engine_clean.csv\")"
   ]
  },
  {
   "cell_type": "markdown",
   "id": "38d0177e",
   "metadata": {},
   "source": [
    "1.Geographical Distribution: Plot the locations of the events on a map.\n",
    "\n",
    "2.Time Series Analysis: Analyze the number of incidents over time (e.g., by year, month, or day).\n",
    "\n",
    "3.Injury Analysis: Visualize the number of injuries or fatalities per event.\n",
    "\n",
    "4.Aircraft Types: Show the distribution of events by aircraft make and model.\n",
    "\n",
    "5.Correlation Heatmap: Examine the correlations between numerical variables.\n",
    "\n",
    "6.Event Type Distribution: A bar chart of the different event types."
   ]
  },
  {
   "cell_type": "markdown",
   "id": "436e9446",
   "metadata": {},
   "source": [
    "1.Geographical Distribution: Ploting the locations of the events on a map."
   ]
  },
  {
   "cell_type": "code",
   "execution_count": null,
   "id": "c5102554",
   "metadata": {},
   "outputs": [],
   "source": [
    "\n",
    "\n",
    "alaska_data['latitude'] = pd.to_numeric(alaska_data['latitude'], errors='coerce') # Ensure correct type (float)\n",
    "alaska_data['longitude'] = pd.to_numeric(alaska_data['longitude'], errors='coerce')\n",
    "\n",
    "geo_data = alaska_data.dropna(subset=['latitude', 'longitude'])#\n",
    "\n",
    "#GeoDataFrame\n",
    "gdf = gpd.GeoDataFrame(\n",
    "    geo_data, geometry=gpd.points_from_xy(geo_data.longitude, geo_data.latitude))\n",
    "\n",
    "world = gpd.read_file(gpd.datasets.get_path('naturalearth_lowres'))\n",
    "alaska_map = world[(world.name == \"United States of America\") & (world.continent == \"North America\")]\n",
    "\n",
    "fig, ax = plt.subplots(figsize=(15, 15))\n",
    "alaska_map.plot(ax=ax, color='#78A7AF', edgecolor='black')\n",
    "gdf.plot(ax=ax, markersize=20, color='#153C4B', marker='o', label='Incidents')\n",
    "fig.patch.set_facecolor('#C4E2DB')\n",
    "ax.set_facecolor('#C4E2DB')\n",
    "ax.set_title('Geographical Distribution of Aviation Incidents in Alaska')\n",
    "ax.set_xlabel('Longitude')\n",
    "ax.set_ylabel('Latitude')\n",
    "plt.legend()\n",
    "plt.show()\n"
   ]
  },
  {
   "cell_type": "code",
   "execution_count": null,
   "id": "ea8ca5d1",
   "metadata": {},
   "outputs": [],
   "source": [
    "#Zoom In\n",
    "\n",
    "BBox = (-172.0, -130.0, 51.0, 71.5)\n",
    "fig, ax = plt.subplots(figsize=(10, 16))\n",
    "alaska_map.plot(ax=ax, color='#99C6BB', edgecolor='black')\n",
    "gdf.plot(ax=ax, markersize=20, color='#153C4B', marker='o', label='Incidents')\n",
    "\n",
    "ax.set_xlim(BBox[0], BBox[1])\n",
    "ax.set_ylim(BBox[2], BBox[3])\n",
    "fig.patch.set_facecolor('#C4E2DB')\n",
    "ax.set_facecolor('#C4E2DB')\n",
    "ax.set_title('Geographical Distribution of Aviation Events in Alaska')\n",
    "ax.set_xlabel('Longitude')\n",
    "ax.set_ylabel('Latitude')\n",
    "plt.grid()\n",
    "plt.legend()\n",
    "plt.show()\n"
   ]
  },
  {
   "cell_type": "markdown",
   "id": "94fdb8f2",
   "metadata": {},
   "source": [
    "2.Time Series Analysis: Analyze the number of incidents over time (e.g., by year, month, or day)."
   ]
  },
  {
   "cell_type": "code",
   "execution_count": null,
   "id": "9d6d99a1",
   "metadata": {},
   "outputs": [],
   "source": [
    "# unique values \n",
    "year_info = (alaska_data['event_year'].unique())\n",
    "month_info = (alaska_data['event_month'].unique())\n",
    "day_info = (alaska_data['event_day'].unique())\n",
    "\n",
    "year_info, month_info, day_info\n"
   ]
  },
  {
   "cell_type": "code",
   "execution_count": null,
   "id": "4f30608e",
   "metadata": {},
   "outputs": [],
   "source": [
    "# event_date\n",
    "alaska_data['event_date'] = pd.to_datetime({\n",
    "    'year': alaska_data['event_year'],\n",
    "    'month': alaska_data['event_month'],\n",
    "    'day': alaska_data['event_day']\n",
    "})\n",
    "\n",
    "incidents_per_year = alaska_data.groupby(alaska_data['event_date'].dt.year).size()# Group by event date (year) and count the number of incidents\n",
    "\n",
    "\n",
    "\n",
    "plt.figure(figsize=(14, 7))\n",
    "fig.patch.set_facecolor('#C4E2DB')\n",
    "ax.set_facecolor('#C4E2DB')\n",
    "incidents_per_year.plot(kind='line',color='#31606B', marker='o')\n",
    "plt.title('Number of Aviation Incidents in Alaska Per Year')\n",
    "plt.xlabel('Year')\n",
    "plt.ylabel('Number of Events')\n",
    "plt.xticks(rotation=45)\n",
    "plt.grid(axis='y')\n",
    "plt.tight_layout()  # Adjust layout to prevent clipping of labels\n",
    "plt.show()\n"
   ]
  },
  {
   "cell_type": "markdown",
   "id": "94f75f90",
   "metadata": {},
   "source": [
    "3.Injury Analysis: Visualize the number of injuries or fatalities per event."
   ]
  },
  {
   "cell_type": "code",
   "execution_count": null,
   "id": "29be6ec2",
   "metadata": {},
   "outputs": [],
   "source": [
    "injuries_data = alaska_data[[\"fatal_injury_count\", \"serious_injury_count\", \"minor_injury_count\"]]\n",
    "\n",
    "plt.figure(figsize=(14, 7))\n",
    "fig.patch.set_facecolor('#C4E2DB')\n",
    "ax.set_facecolor('#C4E2DB')\n",
    "injuries_data.sum().plot(kind='bar', color='#31606B', stacked=True)\n",
    "plt.title('Total Number of Injuries by Severity for Aviation Events in Alaska')\n",
    "plt.xlabel('Injury Severity')\n",
    "plt.ylabel('Total Number of Injuries')\n",
    "plt.xticks(rotation=0)\n",
    "plt.grid(axis='y')\n",
    "plt.show()\n"
   ]
  },
  {
   "cell_type": "markdown",
   "id": "67d6460e",
   "metadata": {},
   "source": [
    "4.Aircraft Types: Show the distribution of events by aircraft make and model."
   ]
  },
  {
   "cell_type": "markdown",
   "id": "cb0cc1dd",
   "metadata": {},
   "source": [
    "       4.1 Top 10 most common makes and models involved in incidents"
   ]
  },
  {
   "cell_type": "code",
   "execution_count": null,
   "id": "e4896732",
   "metadata": {},
   "outputs": [],
   "source": [
    "filtered_data = alaska_data[alaska_data['aircraft_family'] != 'UNCOMMON FAMILY']\n",
    "\n",
    "top_makes_models = filtered_data['aircraft_family'].value_counts().head(10)\n"
   ]
  },
  {
   "cell_type": "code",
   "execution_count": null,
   "id": "d1690e83",
   "metadata": {},
   "outputs": [],
   "source": [
    "\n",
    "plt.figure(figsize=(14, 7))\n",
    "top_makes_models.plot(kind='bar', color='#78A7AF')\n",
    "fig.patch.set_facecolor('#C4E2DB')\n",
    "ax.set_facecolor('#C4E2DB')\n",
    "plt.title('Top 10 Aircraft Makes and Models Involved in Events in Alaska')\n",
    "plt.xlabel('Aircraft Make and Model')\n",
    "plt.ylabel('Number of Events')\n",
    "plt.xticks(rotation=45)\n",
    "plt.grid(axis='y')\n",
    "plt.tight_layout()  # Adjust layout to prevent clipping of labels\n",
    "plt.show()\n"
   ]
  },
  {
   "cell_type": "code",
   "execution_count": null,
   "id": "b26e67cf",
   "metadata": {},
   "outputs": [],
   "source": [
    "filtered_data = alaska_data[alaska_data['aircraft_family'] != 'UNCOMMON FAMILY']\n",
    "top_makes_models = filtered_data['aircraft_family'].value_counts().head(10)\n",
    "filtered_data = alaska_data[alaska_data['aircraft_family'].isin(top_makes_models.index)]\n",
    "injuries_data = filtered_data.groupby('aircraft_family')['fatal_injury_count'].mean().loc[top_makes_models.index].sort_values(ascending=False)\n",
    "\n",
    "plt.figure(figsize=(14, 7))\n",
    "fig.patch.set_facecolor('#C4E2DB')\n",
    "ax.set_facecolor('#C4E2DB')\n",
    "injuries_data.plot(kind='bar', color='#78A7AF')\n",
    "plt.title('Average Fatal Injury Count for Top 10 Aircraft Families Involved in an event in Alaska')\n",
    "plt.xlabel('Aircraft Family')\n",
    "plt.ylabel('Average Fatal Injury Count')\n",
    "plt.xticks(rotation=45)\n",
    "plt.grid(axis='y')\n",
    "plt.tight_layout()\n",
    "plt.show()\n"
   ]
  },
  {
   "cell_type": "markdown",
   "id": "dc979526",
   "metadata": {},
   "source": [
    "6.Event Type Distribution: A bar chart of the different event types. # needs total numbers of flights"
   ]
  },
  {
   "cell_type": "code",
   "execution_count": null,
   "id": "56b58408",
   "metadata": {},
   "outputs": [],
   "source": [
    "event_type_counts = alaska_data['event_type'].value_counts()\n",
    "\n",
    "plt.figure(figsize=(10, 6))\n",
    "fig.patch.set_facecolor('#C4E2DB')\n",
    "ax.set_facecolor('#C4E2DB')\n",
    "event_type_counts.plot(kind='bar', color='#78A7AF')\n",
    "plt.title('Distribution of Event Types for Aviation Events in Alaska')\n",
    "plt.xlabel('Event Type')\n",
    "plt.ylabel('Frequency')\n",
    "plt.xticks(rotation=0)\n",
    "plt.grid(axis='y')\n",
    "plt.show()\n"
   ]
  },
  {
   "cell_type": "code",
   "execution_count": null,
   "id": "e88df0d1",
   "metadata": {},
   "outputs": [],
   "source": [
    "alaska_data['event_time_of_day'].unique()"
   ]
  },
  {
   "cell_type": "code",
   "execution_count": null,
   "id": "3d739533",
   "metadata": {},
   "outputs": [],
   "source": [
    "event_type_counts = alaska_data['event_time_of_day'].value_counts()\n",
    "\n",
    "plt.figure(figsize=(10, 6))\n",
    "fig.patch.set_facecolor('#C4E2DB')\n",
    "ax.set_facecolor('#C4E2DB')\n",
    "event_type_counts.plot(kind='bar', color='#78A7AF')\n",
    "plt.title('Distribution of Event Types based on time of day in Alaska')\n",
    "plt.xlabel('Time of Day')\n",
    "plt.ylabel('Frequency')\n",
    "plt.xticks(rotation=0)\n",
    "plt.grid(axis='y')\n",
    "plt.show()"
   ]
  },
  {
   "cell_type": "code",
   "execution_count": null,
   "id": "8bd22f16",
   "metadata": {},
   "outputs": [],
   "source": [
    "event_type_counts = alaska_data['event_time_of_day'].value_counts()\n",
    "\n",
    "plt.figure(figsize=(10, 6))\n",
    "fig.patch.set_facecolor('#C4E2DB')\n",
    "ax.set_facecolor('#C4E2DB')\n",
    "event_type_counts.plot(kind='bar', color='#78A7AF')\n",
    "plt.title('Distribution of Event Types based on time of day in Alaska')\n",
    "plt.xlabel('Time of Day')\n",
    "plt.ylabel('Frequency')\n",
    "plt.xticks(rotation=0)\n",
    "plt.grid(axis='y')\n",
    "plt.show()"
   ]
  },
  {
   "cell_type": "code",
   "execution_count": null,
   "id": "f69d34fc",
   "metadata": {
    "tags": []
   },
   "outputs": [],
   "source": [
    "filtered_data = alaska_data[alaska_data['event_time_of_day'].notna()]\n",
    "top_makes_models = filtered_data['event_time_of_day'].value_counts().head(10)\n",
    "filtered_data = alaska_data[alaska_data['event_time_of_day'].isin(top_makes_models.index)]\n",
    "injuries_data = filtered_data.groupby('event_time_of_day')['fatal_injury_count'].mean().loc[top_makes_models.index].sort_values(ascending=False)\n",
    "\n",
    "plt.figure(figsize=(14, 7))\n",
    "fig.patch.set_facecolor('#C4E2DB')\n",
    "ax.set_facecolor('#C4E2DB')\n",
    "injuries_data.plot(kind='bar', color='#78A7AF')\n",
    "plt.title('Distribution of Event Types based on time of day in Alaska')\n",
    "plt.xlabel('Aircraft Family')\n",
    "plt.ylabel('Average Fatal Injury Count')\n",
    "plt.xticks(rotation=45)\n",
    "plt.grid(axis='y')\n",
    "plt.tight_layout()\n",
    "plt.show()"
   ]
  }
 ],
 "metadata": {
  "kernelspec": {
   "display_name": "Python 3 (ipykernel)",
   "language": "python",
   "name": "python3"
  },
  "language_info": {
   "codemirror_mode": {
    "name": "ipython",
    "version": 3
   },
   "file_extension": ".py",
   "mimetype": "text/x-python",
   "name": "python",
   "nbconvert_exporter": "python",
   "pygments_lexer": "ipython3",
   "version": "3.11.5"
  }
 },
 "nbformat": 4,
 "nbformat_minor": 5
}
