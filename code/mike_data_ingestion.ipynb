{
 "cells": [
  {
   "cell_type": "code",
   "execution_count": 2,
   "id": "c28c388a-ac24-4bf6-8786-110fce096b58",
   "metadata": {
    "tags": []
   },
   "outputs": [],
   "source": [
    "import pandas as pd"
   ]
  },
  {
   "cell_type": "code",
   "execution_count": 9,
   "id": "aa309665-50c4-4be4-9a1d-712a43cad774",
   "metadata": {
    "tags": []
   },
   "outputs": [],
   "source": [
    "files = ['Events_Sequence', 'events', 'Findings', 'Flight_Crew', 'flight_time', 'injury', 'aircraft']"
   ]
  },
  {
   "cell_type": "code",
   "execution_count": 15,
   "id": "4a501f0c-3903-4910-9507-239b9f274ae2",
   "metadata": {
    "tags": []
   },
   "outputs": [],
   "source": [
    "data = {}\n",
    "for file in files:\n",
    "    df = pd.read_excel('../datasets/' + file + '.xlsx')\n",
    "    panel = {'df' : df, 'rows' : df.shape[0], 'features': df.shape[1], 'unique_rows' : len(df['ev_id'].unique())}\n",
    "    data.append(panel)"
   ]
  },
  {
   "cell_type": "code",
   "execution_count": null,
   "id": "87b0c7b8-b9cf-4670-8166-661f1c65f0d2",
   "metadata": {
    "tags": []
   },
   "outputs": [],
   "source": [
    "for file in files:\n",
    "    title "
   ]
  },
  {
   "cell_type": "code",
   "execution_count": 5,
   "id": "60e9585f-6aae-4bb6-9ed5-3fc5f1fe16b3",
   "metadata": {
    "tags": []
   },
   "outputs": [],
   "source": [
    "ft = pd.read_excel('../datasets/flight_time.xlsx')"
   ]
  },
  {
   "cell_type": "code",
   "execution_count": 7,
   "id": "c32f25b3-2110-4268-ab80-59bd3c77d2bf",
   "metadata": {
    "tags": []
   },
   "outputs": [
    {
     "data": {
      "text/plain": [
       "19958"
      ]
     },
     "execution_count": 7,
     "metadata": {},
     "output_type": "execute_result"
    }
   ],
   "source": [
    "len(ft['ev_id'].unique())"
   ]
  },
  {
   "cell_type": "code",
   "execution_count": null,
   "id": "282d2cef-d115-49a8-8a81-43de2db3e4da",
   "metadata": {},
   "outputs": [],
   "source": [
    "ft"
   ]
  },
  {
   "cell_type": "code",
   "execution_count": null,
   "id": "5682fc1c-8771-4309-9fee-4d65b6f2b9aa",
   "metadata": {},
   "outputs": [],
   "source": []
  },
  {
   "cell_type": "code",
   "execution_count": null,
   "id": "b95f4269-05f7-4fdf-8e1c-f106ce2457c2",
   "metadata": {},
   "outputs": [],
   "source": []
  },
  {
   "cell_type": "code",
   "execution_count": null,
   "id": "7e3ed01d-4293-4e67-959e-ab846b716209",
   "metadata": {},
   "outputs": [],
   "source": []
  },
  {
   "cell_type": "code",
   "execution_count": null,
   "id": "84ad0de1-e127-4d05-9663-e82e0e50de49",
   "metadata": {},
   "outputs": [],
   "source": []
  },
  {
   "cell_type": "code",
   "execution_count": null,
   "id": "f4bd640f-49ca-439b-a496-7adf62056919",
   "metadata": {},
   "outputs": [],
   "source": []
  },
  {
   "cell_type": "code",
   "execution_count": 29,
   "id": "32e31be2-cab7-4ac4-8078-7533f13713a1",
   "metadata": {
    "tags": []
   },
   "outputs": [],
   "source": [
    "ev_es = ev.merge(es, on='ev_id', how='inner')"
   ]
  },
  {
   "cell_type": "code",
   "execution_count": 30,
   "id": "cfa258da-953d-4409-a25b-e40d033ea02a",
   "metadata": {
    "tags": []
   },
   "outputs": [
    {
     "data": {
      "text/plain": [
       "(57184, 82)"
      ]
     },
     "execution_count": 30,
     "metadata": {},
     "output_type": "execute_result"
    }
   ],
   "source": [
    "ev_es.shape"
   ]
  },
  {
   "cell_type": "code",
   "execution_count": 36,
   "id": "2cd02ef0-082c-4612-886f-15cd129bfb07",
   "metadata": {
    "tags": []
   },
   "outputs": [
    {
     "data": {
      "text/plain": [
       "0"
      ]
     },
     "execution_count": 36,
     "metadata": {},
     "output_type": "execute_result"
    }
   ],
   "source": [
    "ev_es['Aircraft_Key'].isnull().sum()"
   ]
  },
  {
   "cell_type": "code",
   "execution_count": 37,
   "id": "96d86c89-827d-499c-b283-a535a6963631",
   "metadata": {
    "tags": []
   },
   "outputs": [
    {
     "data": {
      "text/plain": [
       "(25713, 82)"
      ]
     },
     "execution_count": 37,
     "metadata": {},
     "output_type": "execute_result"
    }
   ],
   "source": [
    "es_ev.drop_duplicates(subset='ev_id').shape"
   ]
  },
  {
   "cell_type": "code",
   "execution_count": null,
   "id": "29283207-69d9-48d0-b05b-be24439d3c21",
   "metadata": {},
   "outputs": [],
   "source": []
  }
 ],
 "metadata": {
  "kernelspec": {
   "display_name": "Python 3 (ipykernel)",
   "language": "python",
   "name": "python3"
  },
  "language_info": {
   "codemirror_mode": {
    "name": "ipython",
    "version": 3
   },
   "file_extension": ".py",
   "mimetype": "text/x-python",
   "name": "python",
   "nbconvert_exporter": "python",
   "pygments_lexer": "ipython3",
   "version": "3.11.4"
  }
 },
 "nbformat": 4,
 "nbformat_minor": 5
}
