{
 "cells": [
  {
   "cell_type": "markdown",
   "id": "a7d28908-3400-432e-a30d-5113c4548c74",
   "metadata": {},
   "source": [
    "# GLM Model"
   ]
  },
  {
   "cell_type": "code",
   "execution_count": 1,
   "id": "0461914e-1b0d-4538-8f25-84686949b8b3",
   "metadata": {
    "tags": []
   },
   "outputs": [],
   "source": [
    "import pandas as pd\n",
    "import numpy as np\n",
    "import matplotlib.pyplot as plt\n",
    "\n",
    "from sklearn import metrics\n",
    "from sklearn.preprocessing import OneHotEncoder, StandardScaler\n",
    "from sklearn.model_selection import train_test_split, RandomizedSearchCV, GridSearchCV\n",
    "from sklearn.compose import ColumnTransformer\n",
    "from sklearn.pipeline import Pipeline\n",
    "from sklearn.linear_model import LogisticRegression\n",
    "from sklearn.ensemble import RandomForestClassifier\n",
    "from sklearn.tree import DecisionTreeClassifier\n",
    "from sklearn.svm import SVC, LinearSVC\n",
    "import statsmodels.api as sm\n",
    "import seaborn as sns\n",
    "\n",
    "from sklearn.metrics import confusion_matrix, ConfusionMatrixDisplay\n",
    "\n",
    "import pickle\n"
   ]
  },
  {
   "cell_type": "markdown",
   "id": "3aa4076c-5c1b-47ef-a2db-22e555ee8712",
   "metadata": {},
   "source": [
    "## Model Maker Class"
   ]
  },
  {
   "cell_type": "code",
   "execution_count": 2,
   "id": "b90d73f7-b826-4258-9862-b5aad3e0e410",
   "metadata": {
    "tags": []
   },
   "outputs": [],
   "source": [
    "class aviation_data_model:\n",
    "    def __init__(self, x, y, drop_categories = None, test_size = 0.3, random_state = 2023):\n",
    "        self.x = x.copy()\n",
    "        self.drop_categories = drop_categories\n",
    "        self.y = y\n",
    "        self.random_state = random_state\n",
    "        self.test_size = test_size\n",
    "        self.model = None\n",
    "        self.x_oh = None\n",
    "        self.x_con = None\n",
    "        self.results = None\n",
    "        self.pvalues = None\n",
    "        self.X_test = None\n",
    "        self.Y_test = None\n",
    "\n",
    "        \n",
    "    def one_hot(self):\n",
    "        #Check to see if dummy parameter passed correctly\n",
    "        if type(self.drop_categories[0]) == tuple:\n",
    "            \n",
    "            categories = []\n",
    "            for i, j in self.drop_categories:\n",
    "                # Collect subset of columns to dummify\n",
    "                categories.append(i)\n",
    "                \n",
    "                # If a specific drop value has been given for a column, add a 0- to it so it is 'first' and drops accordingly\n",
    "                if j != 'first':\n",
    "                    self.x[i] = np.where(self.x[i] == j, '0-' + j, self.x[i])\n",
    "        else:\n",
    "            raise TypeError('Invalid OneHotEncoder values. Use None or a list of tuples of (column name, category name')\n",
    "            \n",
    "        self.x_oh = pd.get_dummies(data= self.x, columns = categories, drop_first=True)\n",
    "        # Log line - uncomment below to check shapes after important steps\n",
    "        # print(f\"OneHot Resulting Shape: {self.x_oh.shape}\")\n",
    "        return self.x_oh\n",
    "    \n",
    "    def train_test(self, x, y):\n",
    "        X_train, X_test, y_train, y_test = train_test_split(x, y, test_size=self.test_size, random_state=self.random_state)\n",
    "        return (X_train, X_test, y_train, y_test)\n",
    "        \n",
    "    \n",
    "    def fit_binomial(self, link = 'logit'):\n",
    "        # Start with OneHotEncoding if given\n",
    "        if self.drop_categories:\n",
    "            model_x = self.one_hot()\n",
    "        else:\n",
    "            model_x = self.x\n",
    "            \n",
    "        # Add column for constant per statsmodels GLM requirements\n",
    "        x_con = sm.add_constant(model_x[list(model_x.columns)])\n",
    "        self.x_con = x_con\n",
    "        \n",
    "        # Log line - uncomment below to check shapes after important steps\n",
    "        # print(f\"After constant Resulting Shape: {self.x_con.shape}\")\n",
    "        \n",
    "        #Train Test Split\n",
    "        X_train, X_test, y_train, y_test = self.train_test(x_con, self.y)\n",
    "\n",
    "        \n",
    "        # Log lines - uncomment below to check shapes after important steps\n",
    "        # print(f\"After tts X_train Resulting Shape: {X_train.shape}\")\n",
    "        # print(f\"After tts X_test Resulting Shape: {X_test.shape}\")\n",
    "        # print(f\"After tts y_train Resulting Shape: {y_train.shape}\")\n",
    "        # print(f\"After tts y_test Resulting Shape: {y_test.shape}\")\n",
    "        \n",
    "        if link == 'logit':\n",
    "            link_function = sm.families.links.Logit()\n",
    "        elif link == 'probit':\n",
    "            link_function = sm.families.links.Probit()\n",
    "        \n",
    "        #Make and fit a model\n",
    "        glm_bin = sm.GLM(\n",
    "            y_train,\n",
    "            X_train,\n",
    "            family=sm.families.Binomial(link=link_function)).fit()\n",
    "        \n",
    "        #Stash results as accessible attributes\n",
    "        self.results = glm_bin.summary()\n",
    "        self.model = glm_bin\n",
    "        self.pvalues = np.round(glm_bin.pvalues, 6).to_frame().sort_values(by = 0)\n",
    "        self.pvalues.rename({0: 'p_values'}, axis =1 , inplace=True)\n",
    "        self.X_test = X_test\n",
    "        self.y_test = y_test"
   ]
  },
  {
   "cell_type": "code",
   "execution_count": 3,
   "id": "20637894-dd80-495e-8e02-1e15117f1172",
   "metadata": {},
   "outputs": [],
   "source": [
    "def glm_accuracy(model, x, y):\n",
    "    test_pred = model.predict(x)\n",
    "    test_pred = test_pred.map(lambda x: 1 if x >=0.50 else 0)\n",
    "    acc = pd.concat([test_pred, y], axis = 1)\n",
    "    return acc[acc.iloc[:, 0] == acc.iloc[:, 1]].shape[0] / y.shape[0]"
   ]
  },
  {
   "cell_type": "code",
   "execution_count": 4,
   "id": "60c7ebef-d05a-4b27-baf2-c9ef7ce774f6",
   "metadata": {},
   "outputs": [],
   "source": [
    "def is_top_model(data, model, top_x):\n",
    "    top_list = list(data['model'].value_counts()[:top_x + 1].index.str.upper())\n",
    "    return True if model.upper() in top_list else False"
   ]
  },
  {
   "cell_type": "code",
   "execution_count": 5,
   "id": "7f22fa5d-ecc4-433d-9ab1-2cb94e1e3d30",
   "metadata": {},
   "outputs": [],
   "source": [
    "def is_top_make(data, make, top_x):\n",
    "    top_list = list(data['make'].value_counts()[:top_x + 1].index.str.upper())\n",
    "    return True if make.upper() in top_list else False"
   ]
  },
  {
   "cell_type": "code",
   "execution_count": 6,
   "id": "f6c31f9e-4233-4bd9-bdf4-0d3fdc7e89f8",
   "metadata": {
    "tags": []
   },
   "outputs": [],
   "source": [
    "def is_top_family(data, family, top_x):\n",
    "    top_list = list(data['aircraft_family'].value_counts()[:top_x + 1].index.str.upper())\n",
    "    return True if family.upper() in top_list else False"
   ]
  },
  {
   "cell_type": "code",
   "execution_count": 7,
   "id": "d7e21b6a-75f5-441a-b963-b59d57399a78",
   "metadata": {
    "tags": []
   },
   "outputs": [],
   "source": [
    "def is_top_city(data, city, top_x):\n",
    "    top_list = list(data['city'].value_counts()[:top_x + 1].index.str.upper())\n",
    "    return True if city.upper() in top_list else False"
   ]
  },
  {
   "cell_type": "code",
   "execution_count": 8,
   "id": "a72a3146-28f8-492d-b142-f6044547d3e9",
   "metadata": {
    "tags": []
   },
   "outputs": [],
   "source": [
    "# def bundler(val, top_n):\n",
    "#     top_list = list(data.value_counts()[:top_n + 1].index.str.upper())\n",
    "#     new_data = np.where(data.str.upper().isin(top_list), data.str.upper(), 'UNCOMMON' )\n",
    "#     return new_data"
   ]
  },
  {
   "cell_type": "markdown",
   "id": "2bc9e2ad-95c8-470c-8089-1f0c095a6484",
   "metadata": {},
   "source": [
    "### Read in data"
   ]
  },
  {
   "cell_type": "code",
   "execution_count": 9,
   "id": "62dda5dc-805f-46fe-a088-4182a9869d34",
   "metadata": {},
   "outputs": [],
   "source": [
    "df = pd.read_csv(\"../datasets/data_cleaned/alaska_single_engine_clean.csv\")"
   ]
  },
  {
   "cell_type": "markdown",
   "id": "a0531e73-2ce3-47dd-b422-99fdeb6d2e3e",
   "metadata": {},
   "source": [
    "## Binarize, bundle, and engineer"
   ]
  },
  {
   "cell_type": "markdown",
   "id": "cc143f27-d1d3-4866-aabc-8bc2d5ccf648",
   "metadata": {},
   "source": [
    "Group 'UNK' and 'Unknown'"
   ]
  },
  {
   "cell_type": "code",
   "execution_count": 10,
   "id": "23cf4f84-5dd6-4825-9001-b509897f8fa8",
   "metadata": {
    "tags": []
   },
   "outputs": [],
   "source": [
    "df['purpose_of_flight'] = df['purpose_of_flight'].map(lambda x: 'UNK' if x=='Unknown' else x)"
   ]
  },
  {
   "cell_type": "code",
   "execution_count": 11,
   "id": "a85f5263-2613-4373-b7c8-5a701879c6e6",
   "metadata": {},
   "outputs": [],
   "source": [
    "df['scheduled'] = df['scheduled'].map(lambda x: 'UNK' if x == 'Unknown' else x)"
   ]
  },
  {
   "cell_type": "markdown",
   "id": "876d5bf2-5ad5-41dd-8daa-e6af81429732",
   "metadata": {
    "tags": []
   },
   "source": [
    "The following lines are designed to help balance out categorical values, since there are many infrequent occurrences as well as very common occurrences. They set a cutoff in terms of the most frequent values, and anything outside of that gets lumped together as some variant of \"Uncommon\""
   ]
  },
  {
   "cell_type": "code",
   "execution_count": 12,
   "id": "a72bb86f-0d6d-448f-af2c-f8f041b3e7a0",
   "metadata": {
    "tags": []
   },
   "outputs": [],
   "source": [
    "df['model'] = [x.upper() if is_top_model(df, x,200) else 'UNCOMMON MODEL' for x in df['model']]"
   ]
  },
  {
   "cell_type": "code",
   "execution_count": 13,
   "id": "c8b2d9d1-a5f7-4939-814a-198a6266c00e",
   "metadata": {
    "tags": []
   },
   "outputs": [],
   "source": [
    "df['make'] = [x.upper() if is_top_make(df, x,50) else 'UNCOMMON MAKE' for x in df['make']]\n"
   ]
  },
  {
   "cell_type": "code",
   "execution_count": 14,
   "id": "b4c18adc-914c-41a3-b6a3-f80d563d8e84",
   "metadata": {
    "tags": []
   },
   "outputs": [],
   "source": [
    "df['city'] = [x.upper() if is_top_city(df, x,75) else 'UNCOMMON CITY' for x in df['city']]"
   ]
  },
  {
   "cell_type": "code",
   "execution_count": 15,
   "id": "0409acc9-d1b7-4778-a652-aec14acb69a2",
   "metadata": {
    "tags": []
   },
   "outputs": [
    {
     "data": {
      "text/plain": [
       "AIR         5271\n",
       "HELI         303\n",
       "ULTR           5\n",
       "WSFT           4\n",
       "GYRO           3\n",
       "GLI            2\n",
       "UNMANNED       1\n",
       "PPAR           1\n",
       "Name: aircraft_category, dtype: int64"
      ]
     },
     "execution_count": 15,
     "metadata": {},
     "output_type": "execute_result"
    }
   ],
   "source": [
    "df['aircraft_category'].value_counts()"
   ]
  },
  {
   "cell_type": "markdown",
   "id": "c0d47111-6db8-4ec4-a80c-4d11e6e95943",
   "metadata": {},
   "source": [
    "### Drop everything that isn't a airplane or helicoper"
   ]
  },
  {
   "cell_type": "code",
   "execution_count": 16,
   "id": "280c19ae-5d70-4cdb-8557-3a6ec12a0a8f",
   "metadata": {
    "tags": []
   },
   "outputs": [],
   "source": [
    "df.drop( df[~df['aircraft_category'].isin(['AIR', 'HELI'])].index, inplace = True)"
   ]
  },
  {
   "cell_type": "markdown",
   "id": "1b03926b-e1ed-442c-9674-ebf8bc352820",
   "metadata": {
    "tags": []
   },
   "source": [
    "## Manual GLM Attempt with multiple features"
   ]
  },
  {
   "cell_type": "markdown",
   "id": "55d0c99d-447d-4228-a002-22ca70a8b2b0",
   "metadata": {},
   "source": [
    "### Create X"
   ]
  },
  {
   "cell_type": "code",
   "execution_count": 17,
   "id": "67ba37f6-afcd-4e48-abf3-feb98cc485ac",
   "metadata": {
    "tags": []
   },
   "outputs": [],
   "source": [
    "X_1a = df.drop(['ntsb_no', 'probable_cause', 'airport_name', 'event_type', 'mkey', 'city', 'n', 'has_safety_rec', 'report_type', 'highest_injury_level', 'fatal_injury_count', 'serious_injury_count', 'minor_injury_count', 'airport_id', 'far', 'aircraft_damage', 'operator', 'event_year', 'event_season', 'event_day', 'aircraft_category', 'has_injury', 'event_time','has_aircraft_damage', 'is_accident', 'make_model', 'has_fatal_injury', 'aircraft_family', 'event_time_of_day', 'event_am_pm'], axis=1)"
   ]
  },
  {
   "cell_type": "code",
   "execution_count": 18,
   "id": "885f5688-035d-4e3d-a7b0-03e7f4468df3",
   "metadata": {
    "tags": []
   },
   "outputs": [
    {
     "data": {
      "text/html": [
       "<div>\n",
       "<style scoped>\n",
       "    .dataframe tbody tr th:only-of-type {\n",
       "        vertical-align: middle;\n",
       "    }\n",
       "\n",
       "    .dataframe tbody tr th {\n",
       "        vertical-align: top;\n",
       "    }\n",
       "\n",
       "    .dataframe thead th {\n",
       "        text-align: right;\n",
       "    }\n",
       "</style>\n",
       "<table border=\"1\" class=\"dataframe\">\n",
       "  <thead>\n",
       "    <tr style=\"text-align: right;\">\n",
       "      <th></th>\n",
       "      <th>latitude</th>\n",
       "      <th>longitude</th>\n",
       "      <th>make</th>\n",
       "      <th>model</th>\n",
       "      <th>amateur_built</th>\n",
       "      <th>scheduled</th>\n",
       "      <th>purpose_of_flight</th>\n",
       "      <th>weather_condition</th>\n",
       "      <th>event_month</th>\n",
       "      <th>event_hour</th>\n",
       "      <th>occurred_near_airport</th>\n",
       "    </tr>\n",
       "  </thead>\n",
       "  <tbody>\n",
       "    <tr>\n",
       "      <th>0</th>\n",
       "      <td>61.775160</td>\n",
       "      <td>-152.15263</td>\n",
       "      <td>CESSNA</td>\n",
       "      <td>UNCOMMON MODEL</td>\n",
       "      <td>0</td>\n",
       "      <td>UNK</td>\n",
       "      <td>PERS</td>\n",
       "      <td>Unknown</td>\n",
       "      <td>9</td>\n",
       "      <td>8</td>\n",
       "      <td>0</td>\n",
       "    </tr>\n",
       "    <tr>\n",
       "      <th>1</th>\n",
       "      <td>60.805019</td>\n",
       "      <td>-161.78648</td>\n",
       "      <td>PIPER</td>\n",
       "      <td>PA-18-150</td>\n",
       "      <td>0</td>\n",
       "      <td>UNK</td>\n",
       "      <td>PERS</td>\n",
       "      <td>Unknown</td>\n",
       "      <td>9</td>\n",
       "      <td>12</td>\n",
       "      <td>0</td>\n",
       "    </tr>\n",
       "    <tr>\n",
       "      <th>2</th>\n",
       "      <td>59.646929</td>\n",
       "      <td>-151.49323</td>\n",
       "      <td>CESSNA</td>\n",
       "      <td>A185F</td>\n",
       "      <td>0</td>\n",
       "      <td>UNK</td>\n",
       "      <td>BUS</td>\n",
       "      <td>VMC</td>\n",
       "      <td>9</td>\n",
       "      <td>13</td>\n",
       "      <td>1</td>\n",
       "    </tr>\n",
       "    <tr>\n",
       "      <th>3</th>\n",
       "      <td>64.267579</td>\n",
       "      <td>-147.68704</td>\n",
       "      <td>HELIO</td>\n",
       "      <td>H-295</td>\n",
       "      <td>0</td>\n",
       "      <td>NSCH</td>\n",
       "      <td>BUS</td>\n",
       "      <td>Unknown</td>\n",
       "      <td>9</td>\n",
       "      <td>16</td>\n",
       "      <td>0</td>\n",
       "    </tr>\n",
       "    <tr>\n",
       "      <th>4</th>\n",
       "      <td>64.650753</td>\n",
       "      <td>-149.83639</td>\n",
       "      <td>UNCOMMON MAKE</td>\n",
       "      <td>UNCOMMON MODEL</td>\n",
       "      <td>1</td>\n",
       "      <td>UNK</td>\n",
       "      <td>PERS</td>\n",
       "      <td>VMC</td>\n",
       "      <td>9</td>\n",
       "      <td>15</td>\n",
       "      <td>0</td>\n",
       "    </tr>\n",
       "  </tbody>\n",
       "</table>\n",
       "</div>"
      ],
      "text/plain": [
       "    latitude  longitude           make           model  amateur_built  \\\n",
       "0  61.775160 -152.15263         CESSNA  UNCOMMON MODEL              0   \n",
       "1  60.805019 -161.78648          PIPER       PA-18-150              0   \n",
       "2  59.646929 -151.49323         CESSNA           A185F              0   \n",
       "3  64.267579 -147.68704          HELIO           H-295              0   \n",
       "4  64.650753 -149.83639  UNCOMMON MAKE  UNCOMMON MODEL              1   \n",
       "\n",
       "  scheduled purpose_of_flight weather_condition  event_month  event_hour  \\\n",
       "0       UNK              PERS           Unknown            9           8   \n",
       "1       UNK              PERS           Unknown            9          12   \n",
       "2       UNK               BUS               VMC            9          13   \n",
       "3      NSCH               BUS           Unknown            9          16   \n",
       "4       UNK              PERS               VMC            9          15   \n",
       "\n",
       "   occurred_near_airport  \n",
       "0                      0  \n",
       "1                      0  \n",
       "2                      1  \n",
       "3                      0  \n",
       "4                      0  "
      ]
     },
     "execution_count": 18,
     "metadata": {},
     "output_type": "execute_result"
    }
   ],
   "source": [
    "X_1a.head()"
   ]
  },
  {
   "cell_type": "markdown",
   "id": "4bb3cf04-e1b9-44fd-8cef-e21c7f5b4101",
   "metadata": {
    "tags": []
   },
   "source": [
    "### Create Y"
   ]
  },
  {
   "cell_type": "code",
   "execution_count": 19,
   "id": "0eb58688-e94d-4258-93f0-ec654f0e2ecc",
   "metadata": {
    "tags": []
   },
   "outputs": [
    {
     "data": {
      "text/plain": [
       "None Reported    4000\n",
       "Minor             625\n",
       "Fatal             573\n",
       "Serious           376\n",
       "Name: highest_injury_level, dtype: int64"
      ]
     },
     "execution_count": 19,
     "metadata": {},
     "output_type": "execute_result"
    }
   ],
   "source": [
    "df['highest_injury_level'].value_counts()"
   ]
  },
  {
   "cell_type": "code",
   "execution_count": 20,
   "id": "b20506f6-a2e4-452c-8131-cf051b9af1e7",
   "metadata": {
    "tags": []
   },
   "outputs": [],
   "source": [
    "df['highest_injury_level'] = np.where(\n",
    "    df['highest_injury_level'].str.contains('None Reported') |\n",
    "    df['highest_injury_level'].str.contains('Minor'),\n",
    "    0,\n",
    "    1)"
   ]
  },
  {
   "cell_type": "code",
   "execution_count": 21,
   "id": "f4948649-ba58-456d-8955-6529ae4b34a4",
   "metadata": {
    "tags": []
   },
   "outputs": [],
   "source": [
    "y = df['highest_injury_level']\n",
    "# y = df['has_fatal_injury']"
   ]
  },
  {
   "cell_type": "markdown",
   "id": "ddfea852-2354-4911-b449-80e14f699953",
   "metadata": {},
   "source": [
    "### Create dummies"
   ]
  },
  {
   "cell_type": "code",
   "execution_count": 22,
   "id": "dd24c50f-9366-4cbc-8e7f-9c70d80ad351",
   "metadata": {
    "tags": []
   },
   "outputs": [],
   "source": [
    "X_1a_dummy = pd.get_dummies(data=X_1a,\n",
    "                         columns=['make',\n",
    "                                  'model',\n",
    "                                  'scheduled',\n",
    "                                  'purpose_of_flight',\n",
    "                                  'weather_condition',\n",
    "                                  'event_month',\n",
    "                                  'event_hour'\n",
    "                                 ],\n",
    "                         drop_first=True\n",
    "        )"
   ]
  },
  {
   "cell_type": "code",
   "execution_count": 23,
   "id": "a6e73850-db1d-4507-bdf2-e507c97eebc3",
   "metadata": {
    "tags": []
   },
   "outputs": [
    {
     "data": {
      "text/plain": [
       "(5574, 311)"
      ]
     },
     "execution_count": 23,
     "metadata": {},
     "output_type": "execute_result"
    }
   ],
   "source": [
    "X_1a_dummy.shape"
   ]
  },
  {
   "cell_type": "markdown",
   "id": "e1088794-ffc2-477e-b287-bc99dfbc8608",
   "metadata": {
    "tags": []
   },
   "source": [
    "### Add constant for use in GLM"
   ]
  },
  {
   "cell_type": "code",
   "execution_count": 24,
   "id": "10d40949-3049-4b41-bbba-db907cef6156",
   "metadata": {
    "tags": []
   },
   "outputs": [],
   "source": [
    "X_1a_con = sm.add_constant(X_1a_dummy[list(X_1a_dummy.columns)])"
   ]
  },
  {
   "cell_type": "code",
   "execution_count": 25,
   "id": "0dc9de7c-a02e-4a3f-81c9-7f99df3efca3",
   "metadata": {
    "tags": []
   },
   "outputs": [
    {
     "data": {
      "text/plain": [
       "(5574, 312)"
      ]
     },
     "execution_count": 25,
     "metadata": {},
     "output_type": "execute_result"
    }
   ],
   "source": [
    "X_1a_con.shape"
   ]
  },
  {
   "cell_type": "markdown",
   "id": "ff750b34-da85-438d-abe0-234efffb1a0e",
   "metadata": {},
   "source": [
    "### Train test split"
   ]
  },
  {
   "cell_type": "code",
   "execution_count": 26,
   "id": "6caa1486-fd9b-4f14-a351-3932878a9ca5",
   "metadata": {
    "tags": []
   },
   "outputs": [],
   "source": [
    "X_train, X_test, y_train, y_test = train_test_split(X_1a_con, y, random_state=2023)"
   ]
  },
  {
   "cell_type": "code",
   "execution_count": 27,
   "id": "e9188c57-8fc1-4126-ae85-80e41f5a3a04",
   "metadata": {
    "tags": []
   },
   "outputs": [
    {
     "data": {
      "text/plain": [
       "(4180, 312)"
      ]
     },
     "execution_count": 27,
     "metadata": {},
     "output_type": "execute_result"
    }
   ],
   "source": [
    "X_train.shape"
   ]
  },
  {
   "cell_type": "code",
   "execution_count": 28,
   "id": "9554ef76-7cbc-43e2-bed8-5d1c1216faef",
   "metadata": {
    "tags": []
   },
   "outputs": [],
   "source": [
    "glm_bin = sm.GLM(\n",
    "    y_train,\n",
    "    X_train,\n",
    "    family=sm.families.Binomial(link=sm.families.links.Logit())).fit()"
   ]
  },
  {
   "cell_type": "code",
   "execution_count": 29,
   "id": "0ddc3f2a-a987-4d2a-a2d8-34420023ec95",
   "metadata": {
    "tags": []
   },
   "outputs": [],
   "source": [
    "glm_bin_results = glm_bin.summary()"
   ]
  },
  {
   "cell_type": "markdown",
   "id": "64f60835-9ae2-4281-825e-32cb03ca606a",
   "metadata": {},
   "source": [
    "### Check accuracy"
   ]
  },
  {
   "cell_type": "code",
   "execution_count": 30,
   "id": "b450c75f-bf43-4f6d-bc8d-d7b4b682d259",
   "metadata": {
    "tags": []
   },
   "outputs": [
    {
     "data": {
      "text/plain": [
       "0.8357245337159254"
      ]
     },
     "execution_count": 30,
     "metadata": {},
     "output_type": "execute_result"
    }
   ],
   "source": [
    "glm_accuracy(glm_bin, X_test, y_test)"
   ]
  },
  {
   "cell_type": "code",
   "execution_count": 31,
   "id": "2a85e5bf-d6b9-45f6-9be2-f981c45a8c61",
   "metadata": {
    "tags": []
   },
   "outputs": [
    {
     "data": {
      "text/plain": [
       "0.8297452457839971"
      ]
     },
     "execution_count": 31,
     "metadata": {},
     "output_type": "execute_result"
    }
   ],
   "source": [
    "1 - y.mean()"
   ]
  },
  {
   "cell_type": "markdown",
   "id": "5962b9ba-db4c-4c85-ae81-e017b057c87c",
   "metadata": {
    "tags": []
   },
   "source": [
    "### Result: Accuracy does technically outperform baseline - p-values can be trusted"
   ]
  },
  {
   "cell_type": "code",
   "execution_count": 32,
   "id": "701cc20b-bab0-4eb4-8238-8885e0af86fe",
   "metadata": {
    "tags": []
   },
   "outputs": [],
   "source": [
    "glm_bin_pvalues = np.round(glm_bin.pvalues, 4).to_frame().sort_values(by =  0, ascending = True)"
   ]
  },
  {
   "cell_type": "code",
   "execution_count": 33,
   "id": "6d4ca406-9d51-4602-aba1-cea9a5d508f7",
   "metadata": {
    "tags": []
   },
   "outputs": [],
   "source": [
    "glm_bin_coef_df = glm_bin.params.to_frame().sort_values(by = 0, ascending = False)"
   ]
  },
  {
   "cell_type": "code",
   "execution_count": 34,
   "id": "57eb8b12-26ef-4113-bed8-36527f591a30",
   "metadata": {
    "tags": []
   },
   "outputs": [],
   "source": [
    "glm_bin_pvalues.rename({0: 'p_value'}, axis = 1, inplace=True)"
   ]
  },
  {
   "cell_type": "code",
   "execution_count": 35,
   "id": "acdb98b3-af3f-4b79-a941-83416f3e9e6d",
   "metadata": {
    "tags": []
   },
   "outputs": [],
   "source": [
    "glm_bin_coef_df.rename({0: 'coef'}, axis = 1, inplace=True)"
   ]
  },
  {
   "cell_type": "code",
   "execution_count": 36,
   "id": "23bdceb7-6cdd-48a6-9cb3-d8a3cc76d2c1",
   "metadata": {
    "tags": []
   },
   "outputs": [
    {
     "data": {
      "text/html": [
       "<div>\n",
       "<style scoped>\n",
       "    .dataframe tbody tr th:only-of-type {\n",
       "        vertical-align: middle;\n",
       "    }\n",
       "\n",
       "    .dataframe tbody tr th {\n",
       "        vertical-align: top;\n",
       "    }\n",
       "\n",
       "    .dataframe thead th {\n",
       "        text-align: right;\n",
       "    }\n",
       "</style>\n",
       "<table border=\"1\" class=\"dataframe\">\n",
       "  <thead>\n",
       "    <tr style=\"text-align: right;\">\n",
       "      <th></th>\n",
       "      <th>p_value</th>\n",
       "    </tr>\n",
       "  </thead>\n",
       "  <tbody>\n",
       "    <tr>\n",
       "      <th>weather_condition_VMC</th>\n",
       "      <td>0.0000</td>\n",
       "    </tr>\n",
       "    <tr>\n",
       "      <th>occurred_near_airport</th>\n",
       "      <td>0.0000</td>\n",
       "    </tr>\n",
       "    <tr>\n",
       "      <th>event_hour_12</th>\n",
       "      <td>0.0005</td>\n",
       "    </tr>\n",
       "    <tr>\n",
       "      <th>event_hour_13</th>\n",
       "      <td>0.0024</td>\n",
       "    </tr>\n",
       "    <tr>\n",
       "      <th>event_hour_18</th>\n",
       "      <td>0.0031</td>\n",
       "    </tr>\n",
       "    <tr>\n",
       "      <th>event_hour_16</th>\n",
       "      <td>0.0031</td>\n",
       "    </tr>\n",
       "    <tr>\n",
       "      <th>event_hour_17</th>\n",
       "      <td>0.0035</td>\n",
       "    </tr>\n",
       "    <tr>\n",
       "      <th>event_hour_14</th>\n",
       "      <td>0.0074</td>\n",
       "    </tr>\n",
       "    <tr>\n",
       "      <th>event_hour_11</th>\n",
       "      <td>0.0076</td>\n",
       "    </tr>\n",
       "    <tr>\n",
       "      <th>event_hour_20</th>\n",
       "      <td>0.0091</td>\n",
       "    </tr>\n",
       "    <tr>\n",
       "      <th>event_hour_7</th>\n",
       "      <td>0.0092</td>\n",
       "    </tr>\n",
       "    <tr>\n",
       "      <th>event_hour_10</th>\n",
       "      <td>0.0112</td>\n",
       "    </tr>\n",
       "    <tr>\n",
       "      <th>event_hour_9</th>\n",
       "      <td>0.0116</td>\n",
       "    </tr>\n",
       "    <tr>\n",
       "      <th>event_hour_8</th>\n",
       "      <td>0.0136</td>\n",
       "    </tr>\n",
       "    <tr>\n",
       "      <th>event_hour_15</th>\n",
       "      <td>0.0153</td>\n",
       "    </tr>\n",
       "    <tr>\n",
       "      <th>event_hour_19</th>\n",
       "      <td>0.0207</td>\n",
       "    </tr>\n",
       "    <tr>\n",
       "      <th>event_hour_21</th>\n",
       "      <td>0.0309</td>\n",
       "    </tr>\n",
       "    <tr>\n",
       "      <th>event_hour_4</th>\n",
       "      <td>0.0406</td>\n",
       "    </tr>\n",
       "    <tr>\n",
       "      <th>event_hour_22</th>\n",
       "      <td>0.0430</td>\n",
       "    </tr>\n",
       "    <tr>\n",
       "      <th>event_month_3</th>\n",
       "      <td>0.0615</td>\n",
       "    </tr>\n",
       "    <tr>\n",
       "      <th>model_150F</th>\n",
       "      <td>0.1080</td>\n",
       "    </tr>\n",
       "    <tr>\n",
       "      <th>event_hour_6</th>\n",
       "      <td>0.1157</td>\n",
       "    </tr>\n",
       "    <tr>\n",
       "      <th>model_182B</th>\n",
       "      <td>0.1198</td>\n",
       "    </tr>\n",
       "    <tr>\n",
       "      <th>event_hour_5</th>\n",
       "      <td>0.1220</td>\n",
       "    </tr>\n",
       "    <tr>\n",
       "      <th>event_hour_23</th>\n",
       "      <td>0.1399</td>\n",
       "    </tr>\n",
       "    <tr>\n",
       "      <th>model_UH-1B</th>\n",
       "      <td>0.1427</td>\n",
       "    </tr>\n",
       "    <tr>\n",
       "      <th>model_PA-28-180</th>\n",
       "      <td>0.1579</td>\n",
       "    </tr>\n",
       "    <tr>\n",
       "      <th>model_F-19</th>\n",
       "      <td>0.1605</td>\n",
       "    </tr>\n",
       "    <tr>\n",
       "      <th>model_P206C</th>\n",
       "      <td>0.1869</td>\n",
       "    </tr>\n",
       "    <tr>\n",
       "      <th>model_PA 18A 150</th>\n",
       "      <td>0.1993</td>\n",
       "    </tr>\n",
       "  </tbody>\n",
       "</table>\n",
       "</div>"
      ],
      "text/plain": [
       "                       p_value\n",
       "weather_condition_VMC   0.0000\n",
       "occurred_near_airport   0.0000\n",
       "event_hour_12           0.0005\n",
       "event_hour_13           0.0024\n",
       "event_hour_18           0.0031\n",
       "event_hour_16           0.0031\n",
       "event_hour_17           0.0035\n",
       "event_hour_14           0.0074\n",
       "event_hour_11           0.0076\n",
       "event_hour_20           0.0091\n",
       "event_hour_7            0.0092\n",
       "event_hour_10           0.0112\n",
       "event_hour_9            0.0116\n",
       "event_hour_8            0.0136\n",
       "event_hour_15           0.0153\n",
       "event_hour_19           0.0207\n",
       "event_hour_21           0.0309\n",
       "event_hour_4            0.0406\n",
       "event_hour_22           0.0430\n",
       "event_month_3           0.0615\n",
       "model_150F              0.1080\n",
       "event_hour_6            0.1157\n",
       "model_182B              0.1198\n",
       "event_hour_5            0.1220\n",
       "event_hour_23           0.1399\n",
       "model_UH-1B             0.1427\n",
       "model_PA-28-180         0.1579\n",
       "model_F-19              0.1605\n",
       "model_P206C             0.1869\n",
       "model_PA 18A 150        0.1993"
      ]
     },
     "execution_count": 36,
     "metadata": {},
     "output_type": "execute_result"
    }
   ],
   "source": [
    "glm_bin_pvalues.head(30)"
   ]
  },
  {
   "cell_type": "code",
   "execution_count": 37,
   "id": "36e87f64-f5c3-4676-99e7-25d875cb287d",
   "metadata": {
    "tags": []
   },
   "outputs": [],
   "source": [
    "# glm_bin_pvalues.to_csv('../results/glm_pvalues_manyfeatures_severe_and_fatal_y.csv')"
   ]
  },
  {
   "cell_type": "markdown",
   "id": "106986ae-24c6-4ef9-ab42-43f66f0c0d0b",
   "metadata": {
    "tags": []
   },
   "source": [
    "## Trying again with modified predictor variables (notably aircraft family and city) using aviation_model class"
   ]
  },
  {
   "cell_type": "code",
   "execution_count": 38,
   "id": "0e99fda9-0a25-4f91-9a1a-f47fa8e756c9",
   "metadata": {
    "tags": []
   },
   "outputs": [],
   "source": [
    "X_1b = df.drop(['ntsb_no', 'probable_cause', 'airport_name', 'event_type', 'mkey', 'n', 'has_safety_rec', 'report_type', 'highest_injury_level', 'fatal_injury_count', 'serious_injury_count', 'minor_injury_count', 'airport_id', 'far', 'aircraft_damage', 'operator', 'event_year', 'event_season', 'event_day', 'aircraft_category', 'has_injury', 'event_time','has_aircraft_damage', 'is_accident', 'make_model', 'make', 'model', 'has_fatal_injury', 'event_time_of_day', 'event_am_pm'], axis=1)"
   ]
  },
  {
   "cell_type": "code",
   "execution_count": 39,
   "id": "1b2e845c-7cd6-4194-a383-4c23f0f150f5",
   "metadata": {
    "tags": []
   },
   "outputs": [],
   "source": [
    "# y = df['highest_injury_level']\n",
    "y = df['has_fatal_injury']"
   ]
  },
  {
   "cell_type": "code",
   "execution_count": 40,
   "id": "07afe60c-8ffe-4081-9896-04728285fe1c",
   "metadata": {
    "tags": []
   },
   "outputs": [
    {
     "data": {
      "text/plain": [
       "Index(['city', 'latitude', 'longitude', 'amateur_built', 'scheduled',\n",
       "       'purpose_of_flight', 'weather_condition', 'event_month', 'event_hour',\n",
       "       'occurred_near_airport', 'aircraft_family'],\n",
       "      dtype='object')"
      ]
     },
     "execution_count": 40,
     "metadata": {},
     "output_type": "execute_result"
    }
   ],
   "source": [
    "X_1b.columns"
   ]
  },
  {
   "cell_type": "code",
   "execution_count": 41,
   "id": "451665c1-632c-4c10-a61e-425b0c42fc8b",
   "metadata": {
    "tags": []
   },
   "outputs": [],
   "source": [
    "glm1z = aviation_data_model(X_1b, y, [\n",
    "    ('city', 'first'),\n",
    "    ('scheduled', 'UNK'),\n",
    "    ('purpose_of_flight', 'UNK'),\n",
    "    ('weather_condition', 'Unknown'),\n",
    "    ('event_month', 'first'),\n",
    "    ('event_hour', 'first'),\n",
    "    ('aircraft_family', 'first')\n",
    "], test_size=0.2)"
   ]
  },
  {
   "cell_type": "code",
   "execution_count": 42,
   "id": "3d6a5382-d50e-4ab4-8dc4-a8823c639a25",
   "metadata": {
    "tags": []
   },
   "outputs": [],
   "source": [
    "glm1z.fit_binomial()"
   ]
  },
  {
   "cell_type": "code",
   "execution_count": 43,
   "id": "c1419be8-9ec7-4155-a14b-c5acdb713193",
   "metadata": {},
   "outputs": [
    {
     "data": {
      "text/plain": [
       "0.10279870828848224"
      ]
     },
     "execution_count": 43,
     "metadata": {},
     "output_type": "execute_result"
    }
   ],
   "source": [
    "y.mean()"
   ]
  },
  {
   "cell_type": "code",
   "execution_count": 44,
   "id": "4b42e2ed-df64-427b-becd-9e5146ba68bb",
   "metadata": {
    "tags": []
   },
   "outputs": [
    {
     "data": {
      "text/plain": [
       "0.8923766816143498"
      ]
     },
     "execution_count": 44,
     "metadata": {},
     "output_type": "execute_result"
    }
   ],
   "source": [
    "glm_accuracy(glm1z.model, glm1z.X_test, glm1z.y_test)"
   ]
  },
  {
   "cell_type": "code",
   "execution_count": 45,
   "id": "1f5730fb-4c3a-4b4c-86fa-7fe5f0a6d8b0",
   "metadata": {
    "tags": []
   },
   "outputs": [
    {
     "data": {
      "text/html": [
       "<div>\n",
       "<style scoped>\n",
       "    .dataframe tbody tr th:only-of-type {\n",
       "        vertical-align: middle;\n",
       "    }\n",
       "\n",
       "    .dataframe tbody tr th {\n",
       "        vertical-align: top;\n",
       "    }\n",
       "\n",
       "    .dataframe thead th {\n",
       "        text-align: right;\n",
       "    }\n",
       "</style>\n",
       "<table border=\"1\" class=\"dataframe\">\n",
       "  <thead>\n",
       "    <tr style=\"text-align: right;\">\n",
       "      <th></th>\n",
       "      <th>p_values</th>\n",
       "    </tr>\n",
       "  </thead>\n",
       "  <tbody>\n",
       "    <tr>\n",
       "      <th>weather_condition_VMC</th>\n",
       "      <td>0.000000</td>\n",
       "    </tr>\n",
       "    <tr>\n",
       "      <th>occurred_near_airport</th>\n",
       "      <td>0.000001</td>\n",
       "    </tr>\n",
       "    <tr>\n",
       "      <th>event_hour_12</th>\n",
       "      <td>0.000019</td>\n",
       "    </tr>\n",
       "    <tr>\n",
       "      <th>event_hour_15</th>\n",
       "      <td>0.000074</td>\n",
       "    </tr>\n",
       "    <tr>\n",
       "      <th>event_hour_11</th>\n",
       "      <td>0.000077</td>\n",
       "    </tr>\n",
       "    <tr>\n",
       "      <th>event_hour_16</th>\n",
       "      <td>0.000091</td>\n",
       "    </tr>\n",
       "    <tr>\n",
       "      <th>event_hour_14</th>\n",
       "      <td>0.000093</td>\n",
       "    </tr>\n",
       "    <tr>\n",
       "      <th>event_hour_13</th>\n",
       "      <td>0.000107</td>\n",
       "    </tr>\n",
       "    <tr>\n",
       "      <th>event_hour_18</th>\n",
       "      <td>0.000169</td>\n",
       "    </tr>\n",
       "    <tr>\n",
       "      <th>event_hour_17</th>\n",
       "      <td>0.000213</td>\n",
       "    </tr>\n",
       "    <tr>\n",
       "      <th>event_hour_9</th>\n",
       "      <td>0.000402</td>\n",
       "    </tr>\n",
       "    <tr>\n",
       "      <th>event_hour_7</th>\n",
       "      <td>0.000604</td>\n",
       "    </tr>\n",
       "    <tr>\n",
       "      <th>event_hour_19</th>\n",
       "      <td>0.000632</td>\n",
       "    </tr>\n",
       "    <tr>\n",
       "      <th>event_hour_8</th>\n",
       "      <td>0.001088</td>\n",
       "    </tr>\n",
       "    <tr>\n",
       "      <th>event_hour_20</th>\n",
       "      <td>0.002009</td>\n",
       "    </tr>\n",
       "    <tr>\n",
       "      <th>event_hour_10</th>\n",
       "      <td>0.002396</td>\n",
       "    </tr>\n",
       "    <tr>\n",
       "      <th>city_ANCHORAGE</th>\n",
       "      <td>0.002547</td>\n",
       "    </tr>\n",
       "    <tr>\n",
       "      <th>event_hour_3</th>\n",
       "      <td>0.006363</td>\n",
       "    </tr>\n",
       "    <tr>\n",
       "      <th>city_KING SALMON</th>\n",
       "      <td>0.009430</td>\n",
       "    </tr>\n",
       "    <tr>\n",
       "      <th>city_TALKEETNA</th>\n",
       "      <td>0.010385</td>\n",
       "    </tr>\n",
       "    <tr>\n",
       "      <th>city_PALMER</th>\n",
       "      <td>0.010593</td>\n",
       "    </tr>\n",
       "    <tr>\n",
       "      <th>event_hour_6</th>\n",
       "      <td>0.012765</td>\n",
       "    </tr>\n",
       "    <tr>\n",
       "      <th>event_hour_22</th>\n",
       "      <td>0.014735</td>\n",
       "    </tr>\n",
       "    <tr>\n",
       "      <th>city_FAIRBANKS</th>\n",
       "      <td>0.016457</td>\n",
       "    </tr>\n",
       "    <tr>\n",
       "      <th>city_SKWENTNA</th>\n",
       "      <td>0.019622</td>\n",
       "    </tr>\n",
       "    <tr>\n",
       "      <th>city_UNCOMMON CITY</th>\n",
       "      <td>0.023079</td>\n",
       "    </tr>\n",
       "    <tr>\n",
       "      <th>const</th>\n",
       "      <td>0.026032</td>\n",
       "    </tr>\n",
       "    <tr>\n",
       "      <th>city_TYONEK</th>\n",
       "      <td>0.029578</td>\n",
       "    </tr>\n",
       "    <tr>\n",
       "      <th>event_hour_21</th>\n",
       "      <td>0.030471</td>\n",
       "    </tr>\n",
       "    <tr>\n",
       "      <th>city_WASILLA</th>\n",
       "      <td>0.033571</td>\n",
       "    </tr>\n",
       "  </tbody>\n",
       "</table>\n",
       "</div>"
      ],
      "text/plain": [
       "                       p_values\n",
       "weather_condition_VMC  0.000000\n",
       "occurred_near_airport  0.000001\n",
       "event_hour_12          0.000019\n",
       "event_hour_15          0.000074\n",
       "event_hour_11          0.000077\n",
       "event_hour_16          0.000091\n",
       "event_hour_14          0.000093\n",
       "event_hour_13          0.000107\n",
       "event_hour_18          0.000169\n",
       "event_hour_17          0.000213\n",
       "event_hour_9           0.000402\n",
       "event_hour_7           0.000604\n",
       "event_hour_19          0.000632\n",
       "event_hour_8           0.001088\n",
       "event_hour_20          0.002009\n",
       "event_hour_10          0.002396\n",
       "city_ANCHORAGE         0.002547\n",
       "event_hour_3           0.006363\n",
       "city_KING SALMON       0.009430\n",
       "city_TALKEETNA         0.010385\n",
       "city_PALMER            0.010593\n",
       "event_hour_6           0.012765\n",
       "event_hour_22          0.014735\n",
       "city_FAIRBANKS         0.016457\n",
       "city_SKWENTNA          0.019622\n",
       "city_UNCOMMON CITY     0.023079\n",
       "const                  0.026032\n",
       "city_TYONEK            0.029578\n",
       "event_hour_21          0.030471\n",
       "city_WASILLA           0.033571"
      ]
     },
     "execution_count": 45,
     "metadata": {},
     "output_type": "execute_result"
    }
   ],
   "source": [
    "glm1z.pvalues.head(30)"
   ]
  },
  {
   "cell_type": "markdown",
   "id": "6d047412-02ad-4c2d-920e-556801b84dfc",
   "metadata": {},
   "source": [
    "## Third attempt introducing time_of_day"
   ]
  },
  {
   "cell_type": "code",
   "execution_count": 46,
   "id": "099469ee-22c9-48f4-a9ba-58cff48ad9b7",
   "metadata": {
    "tags": []
   },
   "outputs": [],
   "source": [
    "X_1c = df.drop(['ntsb_no', 'probable_cause', 'airport_name', 'event_type', 'mkey', 'n', 'has_safety_rec', 'report_type', 'highest_injury_level', 'fatal_injury_count', 'serious_injury_count', 'minor_injury_count', 'airport_id', 'far', 'aircraft_damage', 'operator', 'event_year', 'event_season', 'event_day', 'aircraft_category', 'has_injury', 'event_time','has_aircraft_damage', 'is_accident', 'make_model', 'make', 'model', 'has_fatal_injury', 'event_hour', 'event_am_pm'], axis=1)"
   ]
  },
  {
   "cell_type": "code",
   "execution_count": 47,
   "id": "b108e170-68cd-4386-8f6c-5a2acbec80a9",
   "metadata": {
    "tags": []
   },
   "outputs": [],
   "source": [
    "y = df['highest_injury_level']\n",
    "# y = df['has_fatal_injury']"
   ]
  },
  {
   "cell_type": "code",
   "execution_count": 48,
   "id": "78c1e7d0-79f8-4940-9b75-e6120089d82c",
   "metadata": {
    "tags": []
   },
   "outputs": [
    {
     "data": {
      "text/plain": [
       "Index(['city', 'latitude', 'longitude', 'amateur_built', 'scheduled',\n",
       "       'purpose_of_flight', 'weather_condition', 'event_month',\n",
       "       'event_time_of_day', 'occurred_near_airport', 'aircraft_family'],\n",
       "      dtype='object')"
      ]
     },
     "execution_count": 48,
     "metadata": {},
     "output_type": "execute_result"
    }
   ],
   "source": [
    "X_1c.columns"
   ]
  },
  {
   "cell_type": "code",
   "execution_count": 49,
   "id": "fe77a3c1-092b-49f8-bb19-ba8c27a0ece5",
   "metadata": {
    "tags": []
   },
   "outputs": [],
   "source": [
    "glm1y = aviation_data_model(X_1c, y, [\n",
    "    ('city', 'first'),\n",
    "    ('scheduled', 'UNK'),\n",
    "    ('purpose_of_flight', 'UNK'),\n",
    "    ('weather_condition', 'Unknown'),\n",
    "    ('event_month', 'first'),\n",
    "    ('event_time_of_day', 'first'),\n",
    "    ('aircraft_family', 'first')\n",
    "], test_size=0.2)"
   ]
  },
  {
   "cell_type": "code",
   "execution_count": 50,
   "id": "1e51dc31-d1ac-41ed-bf16-2cbc7b1f2af2",
   "metadata": {
    "tags": []
   },
   "outputs": [],
   "source": [
    "glm1y.fit_binomial()"
   ]
  },
  {
   "cell_type": "code",
   "execution_count": 51,
   "id": "ada8941b-4d68-4602-9063-a71421b1728b",
   "metadata": {
    "tags": []
   },
   "outputs": [
    {
     "data": {
      "text/plain": [
       "0.8297452457839971"
      ]
     },
     "execution_count": 51,
     "metadata": {},
     "output_type": "execute_result"
    }
   ],
   "source": [
    "1 - y.mean()"
   ]
  },
  {
   "cell_type": "code",
   "execution_count": 52,
   "id": "c7caf1e5-1a71-435a-8f70-c74e7a67686e",
   "metadata": {
    "tags": []
   },
   "outputs": [
    {
     "data": {
      "text/plain": [
       "0.8367713004484305"
      ]
     },
     "execution_count": 52,
     "metadata": {},
     "output_type": "execute_result"
    }
   ],
   "source": [
    "glm_accuracy(glm1y.model, glm1y.X_test, glm1y.y_test)"
   ]
  },
  {
   "cell_type": "code",
   "execution_count": 53,
   "id": "b51d9107-2306-42a3-8500-22c0eb4f1051",
   "metadata": {
    "tags": []
   },
   "outputs": [
    {
     "data": {
      "text/html": [
       "<div>\n",
       "<style scoped>\n",
       "    .dataframe tbody tr th:only-of-type {\n",
       "        vertical-align: middle;\n",
       "    }\n",
       "\n",
       "    .dataframe tbody tr th {\n",
       "        vertical-align: top;\n",
       "    }\n",
       "\n",
       "    .dataframe thead th {\n",
       "        text-align: right;\n",
       "    }\n",
       "</style>\n",
       "<table border=\"1\" class=\"dataframe\">\n",
       "  <thead>\n",
       "    <tr style=\"text-align: right;\">\n",
       "      <th></th>\n",
       "      <th>p_values</th>\n",
       "    </tr>\n",
       "  </thead>\n",
       "  <tbody>\n",
       "    <tr>\n",
       "      <th>weather_condition_VMC</th>\n",
       "      <td>0.000000</td>\n",
       "    </tr>\n",
       "    <tr>\n",
       "      <th>occurred_near_airport</th>\n",
       "      <td>0.000001</td>\n",
       "    </tr>\n",
       "    <tr>\n",
       "      <th>event_time_of_day_Night</th>\n",
       "      <td>0.000100</td>\n",
       "    </tr>\n",
       "    <tr>\n",
       "      <th>purpose_of_flight_POSI</th>\n",
       "      <td>0.002188</td>\n",
       "    </tr>\n",
       "    <tr>\n",
       "      <th>const</th>\n",
       "      <td>0.023793</td>\n",
       "    </tr>\n",
       "    <tr>\n",
       "      <th>aircraft_family_PIPER PA-22 TRI-PACER</th>\n",
       "      <td>0.026810</td>\n",
       "    </tr>\n",
       "    <tr>\n",
       "      <th>city_KING SALMON</th>\n",
       "      <td>0.037109</td>\n",
       "    </tr>\n",
       "    <tr>\n",
       "      <th>aircraft_family_PIPER PA-20 PACER</th>\n",
       "      <td>0.052539</td>\n",
       "    </tr>\n",
       "    <tr>\n",
       "      <th>aircraft_family_CESSNA 140</th>\n",
       "      <td>0.061730</td>\n",
       "    </tr>\n",
       "    <tr>\n",
       "      <th>purpose_of_flight_OWRK</th>\n",
       "      <td>0.074893</td>\n",
       "    </tr>\n",
       "    <tr>\n",
       "      <th>aircraft_family_MAULE M-4</th>\n",
       "      <td>0.076749</td>\n",
       "    </tr>\n",
       "    <tr>\n",
       "      <th>aircraft_family_HELIO COURIER</th>\n",
       "      <td>0.079046</td>\n",
       "    </tr>\n",
       "    <tr>\n",
       "      <th>city_HEALY</th>\n",
       "      <td>0.086038</td>\n",
       "    </tr>\n",
       "    <tr>\n",
       "      <th>city_EGEGIK</th>\n",
       "      <td>0.086150</td>\n",
       "    </tr>\n",
       "    <tr>\n",
       "      <th>city_FAIRBANKS</th>\n",
       "      <td>0.089019</td>\n",
       "    </tr>\n",
       "    <tr>\n",
       "      <th>city_NAKNEK</th>\n",
       "      <td>0.089146</td>\n",
       "    </tr>\n",
       "    <tr>\n",
       "      <th>amateur_built</th>\n",
       "      <td>0.099114</td>\n",
       "    </tr>\n",
       "    <tr>\n",
       "      <th>aircraft_family_CESSNA 180 SKYWAGON</th>\n",
       "      <td>0.101104</td>\n",
       "    </tr>\n",
       "    <tr>\n",
       "      <th>aircraft_family_PIPER PA-18 SUPER CUB</th>\n",
       "      <td>0.112436</td>\n",
       "    </tr>\n",
       "    <tr>\n",
       "      <th>event_month_3</th>\n",
       "      <td>0.115130</td>\n",
       "    </tr>\n",
       "    <tr>\n",
       "      <th>purpose_of_flight_PUBF</th>\n",
       "      <td>0.116744</td>\n",
       "    </tr>\n",
       "    <tr>\n",
       "      <th>city_TOK</th>\n",
       "      <td>0.118366</td>\n",
       "    </tr>\n",
       "    <tr>\n",
       "      <th>aircraft_family_CESSNA 172 SKYHAWK</th>\n",
       "      <td>0.121967</td>\n",
       "    </tr>\n",
       "    <tr>\n",
       "      <th>aircraft_family_CHAMPION/ BELLANCA/ AMERICAN CHAMPION SCOUT</th>\n",
       "      <td>0.122480</td>\n",
       "    </tr>\n",
       "    <tr>\n",
       "      <th>aircraft_family_CESSNA 185 SKYWAGON</th>\n",
       "      <td>0.130578</td>\n",
       "    </tr>\n",
       "    <tr>\n",
       "      <th>city_NENANA</th>\n",
       "      <td>0.137473</td>\n",
       "    </tr>\n",
       "    <tr>\n",
       "      <th>purpose_of_flight_PERS</th>\n",
       "      <td>0.147751</td>\n",
       "    </tr>\n",
       "    <tr>\n",
       "      <th>city_TALKEETNA</th>\n",
       "      <td>0.153875</td>\n",
       "    </tr>\n",
       "    <tr>\n",
       "      <th>purpose_of_flight_PUBU</th>\n",
       "      <td>0.157479</td>\n",
       "    </tr>\n",
       "    <tr>\n",
       "      <th>city_ANCHORAGE</th>\n",
       "      <td>0.157747</td>\n",
       "    </tr>\n",
       "  </tbody>\n",
       "</table>\n",
       "</div>"
      ],
      "text/plain": [
       "                                                    p_values\n",
       "weather_condition_VMC                               0.000000\n",
       "occurred_near_airport                               0.000001\n",
       "event_time_of_day_Night                             0.000100\n",
       "purpose_of_flight_POSI                              0.002188\n",
       "const                                               0.023793\n",
       "aircraft_family_PIPER PA-22 TRI-PACER               0.026810\n",
       "city_KING SALMON                                    0.037109\n",
       "aircraft_family_PIPER PA-20 PACER                   0.052539\n",
       "aircraft_family_CESSNA 140                          0.061730\n",
       "purpose_of_flight_OWRK                              0.074893\n",
       "aircraft_family_MAULE M-4                           0.076749\n",
       "aircraft_family_HELIO COURIER                       0.079046\n",
       "city_HEALY                                          0.086038\n",
       "city_EGEGIK                                         0.086150\n",
       "city_FAIRBANKS                                      0.089019\n",
       "city_NAKNEK                                         0.089146\n",
       "amateur_built                                       0.099114\n",
       "aircraft_family_CESSNA 180 SKYWAGON                 0.101104\n",
       "aircraft_family_PIPER PA-18 SUPER CUB               0.112436\n",
       "event_month_3                                       0.115130\n",
       "purpose_of_flight_PUBF                              0.116744\n",
       "city_TOK                                            0.118366\n",
       "aircraft_family_CESSNA 172 SKYHAWK                  0.121967\n",
       "aircraft_family_CHAMPION/ BELLANCA/ AMERICAN CH...  0.122480\n",
       "aircraft_family_CESSNA 185 SKYWAGON                 0.130578\n",
       "city_NENANA                                         0.137473\n",
       "purpose_of_flight_PERS                              0.147751\n",
       "city_TALKEETNA                                      0.153875\n",
       "purpose_of_flight_PUBU                              0.157479\n",
       "city_ANCHORAGE                                      0.157747"
      ]
     },
     "execution_count": 53,
     "metadata": {},
     "output_type": "execute_result"
    }
   ],
   "source": [
    "glm1y.pvalues.head(30)"
   ]
  },
  {
   "cell_type": "code",
   "execution_count": 54,
   "id": "ab00b960-6893-4df8-8e01-91a29200acdf",
   "metadata": {
    "tags": []
   },
   "outputs": [],
   "source": [
    "# glm1y.pvalues.to_csv('../results/glm_pvalues_largefeatureset3_severe_and_fatal_y_acc836.csv')"
   ]
  },
  {
   "cell_type": "code",
   "execution_count": 55,
   "id": "9cd8d278-308d-4586-a744-5bdd71061d6c",
   "metadata": {
    "tags": []
   },
   "outputs": [],
   "source": [
    "y_pred_proba = glm1y.model.predict(glm1y.X_test)"
   ]
  },
  {
   "cell_type": "code",
   "execution_count": 56,
   "id": "9091f97f-cd31-421f-80bc-0681e8a48195",
   "metadata": {
    "tags": []
   },
   "outputs": [],
   "source": [
    "y_pred = np.where(y_pred_proba >= 0.5, 1, 0)"
   ]
  },
  {
   "cell_type": "markdown",
   "id": "d2271e3b-4b0d-4ece-91be-35e5acfae80c",
   "metadata": {},
   "source": [
    "## Fourth attempt swapping time_of_day to AM/PM"
   ]
  },
  {
   "cell_type": "code",
   "execution_count": 57,
   "id": "95286c1a-90cb-420a-be5d-3acc8868d6c1",
   "metadata": {
    "tags": []
   },
   "outputs": [],
   "source": [
    "X_1d = df.drop(['ntsb_no', 'probable_cause', 'airport_name', 'event_type', 'mkey', 'n', 'has_safety_rec', 'report_type', 'highest_injury_level', 'fatal_injury_count', 'serious_injury_count', 'minor_injury_count', 'airport_id', 'far', 'aircraft_damage', 'operator', 'event_year', 'event_season', 'event_day', 'aircraft_category', 'has_injury', 'event_time','has_aircraft_damage', 'is_accident', 'make_model', 'make', 'model', 'has_fatal_injury', 'event_hour', 'event_time_of_day'], axis=1)"
   ]
  },
  {
   "cell_type": "code",
   "execution_count": 58,
   "id": "5711994f-a1a6-4206-be63-ebff74f730c3",
   "metadata": {
    "tags": []
   },
   "outputs": [],
   "source": [
    "y = df['highest_injury_level']\n",
    "#y = df['has_fatal_injury']"
   ]
  },
  {
   "cell_type": "code",
   "execution_count": 59,
   "id": "d5ee186a-3f0c-4d67-86fe-75aba47de579",
   "metadata": {
    "tags": []
   },
   "outputs": [
    {
     "data": {
      "text/plain": [
       "Index(['city', 'latitude', 'longitude', 'amateur_built', 'scheduled',\n",
       "       'purpose_of_flight', 'weather_condition', 'event_month', 'event_am_pm',\n",
       "       'occurred_near_airport', 'aircraft_family'],\n",
       "      dtype='object')"
      ]
     },
     "execution_count": 59,
     "metadata": {},
     "output_type": "execute_result"
    }
   ],
   "source": [
    "X_1d.columns"
   ]
  },
  {
   "cell_type": "code",
   "execution_count": 60,
   "id": "e31ac3a8-fe03-4ed1-8099-39250eb9d09a",
   "metadata": {
    "tags": []
   },
   "outputs": [],
   "source": [
    "glm1p = aviation_data_model(X_1d, y, [\n",
    "    ('city', 'first'),\n",
    "    ('scheduled', 'UNK'),\n",
    "    ('purpose_of_flight', 'UNK'),\n",
    "    ('weather_condition', 'Unknown'),\n",
    "    ('event_month', 'first'),\n",
    "    ('event_am_pm', 'first'),\n",
    "    ('aircraft_family', 'first')\n",
    "], test_size=0.2)"
   ]
  },
  {
   "cell_type": "code",
   "execution_count": 61,
   "id": "d8a11cc8-2dd0-4469-8a89-4c370613e3b0",
   "metadata": {
    "tags": []
   },
   "outputs": [],
   "source": [
    "glm1p.fit_binomial()"
   ]
  },
  {
   "cell_type": "code",
   "execution_count": 62,
   "id": "8d12b428-d8a9-4f52-9f54-dd8cdd62a754",
   "metadata": {
    "tags": []
   },
   "outputs": [
    {
     "data": {
      "text/plain": [
       "0.8297452457839971"
      ]
     },
     "execution_count": 62,
     "metadata": {},
     "output_type": "execute_result"
    }
   ],
   "source": [
    "1 - y.mean()"
   ]
  },
  {
   "cell_type": "code",
   "execution_count": 63,
   "id": "03346ce5-cb6b-4044-9ebb-e849fb77471e",
   "metadata": {
    "tags": []
   },
   "outputs": [
    {
     "data": {
      "text/plain": [
       "0.8385650224215246"
      ]
     },
     "execution_count": 63,
     "metadata": {},
     "output_type": "execute_result"
    }
   ],
   "source": [
    "glm_accuracy(glm1p.model, glm1p.X_test, glm1p.y_test)"
   ]
  },
  {
   "cell_type": "code",
   "execution_count": 64,
   "id": "a9f60071-6347-46db-a6a6-890a7b4cfcde",
   "metadata": {
    "tags": []
   },
   "outputs": [
    {
     "data": {
      "text/html": [
       "<div>\n",
       "<style scoped>\n",
       "    .dataframe tbody tr th:only-of-type {\n",
       "        vertical-align: middle;\n",
       "    }\n",
       "\n",
       "    .dataframe tbody tr th {\n",
       "        vertical-align: top;\n",
       "    }\n",
       "\n",
       "    .dataframe thead th {\n",
       "        text-align: right;\n",
       "    }\n",
       "</style>\n",
       "<table border=\"1\" class=\"dataframe\">\n",
       "  <thead>\n",
       "    <tr style=\"text-align: right;\">\n",
       "      <th></th>\n",
       "      <th>p_values</th>\n",
       "    </tr>\n",
       "  </thead>\n",
       "  <tbody>\n",
       "    <tr>\n",
       "      <th>weather_condition_VMC</th>\n",
       "      <td>0.000000</td>\n",
       "    </tr>\n",
       "    <tr>\n",
       "      <th>occurred_near_airport</th>\n",
       "      <td>0.000001</td>\n",
       "    </tr>\n",
       "    <tr>\n",
       "      <th>purpose_of_flight_POSI</th>\n",
       "      <td>0.002098</td>\n",
       "    </tr>\n",
       "    <tr>\n",
       "      <th>const</th>\n",
       "      <td>0.014155</td>\n",
       "    </tr>\n",
       "    <tr>\n",
       "      <th>aircraft_family_PIPER PA-22 TRI-PACER</th>\n",
       "      <td>0.029917</td>\n",
       "    </tr>\n",
       "    <tr>\n",
       "      <th>city_KING SALMON</th>\n",
       "      <td>0.038115</td>\n",
       "    </tr>\n",
       "    <tr>\n",
       "      <th>aircraft_family_PIPER PA-20 PACER</th>\n",
       "      <td>0.058117</td>\n",
       "    </tr>\n",
       "    <tr>\n",
       "      <th>aircraft_family_CESSNA 140</th>\n",
       "      <td>0.064626</td>\n",
       "    </tr>\n",
       "    <tr>\n",
       "      <th>aircraft_family_MAULE M-4</th>\n",
       "      <td>0.075263</td>\n",
       "    </tr>\n",
       "    <tr>\n",
       "      <th>aircraft_family_HELIO COURIER</th>\n",
       "      <td>0.078510</td>\n",
       "    </tr>\n",
       "    <tr>\n",
       "      <th>city_HEALY</th>\n",
       "      <td>0.088660</td>\n",
       "    </tr>\n",
       "    <tr>\n",
       "      <th>aircraft_family_CESSNA 180 SKYWAGON</th>\n",
       "      <td>0.101404</td>\n",
       "    </tr>\n",
       "    <tr>\n",
       "      <th>purpose_of_flight_PUBF</th>\n",
       "      <td>0.103875</td>\n",
       "    </tr>\n",
       "    <tr>\n",
       "      <th>purpose_of_flight_OWRK</th>\n",
       "      <td>0.104596</td>\n",
       "    </tr>\n",
       "    <tr>\n",
       "      <th>city_EGEGIK</th>\n",
       "      <td>0.106037</td>\n",
       "    </tr>\n",
       "    <tr>\n",
       "      <th>city_FAIRBANKS</th>\n",
       "      <td>0.106508</td>\n",
       "    </tr>\n",
       "    <tr>\n",
       "      <th>event_month_3</th>\n",
       "      <td>0.107131</td>\n",
       "    </tr>\n",
       "    <tr>\n",
       "      <th>aircraft_family_PIPER PA-18 SUPER CUB</th>\n",
       "      <td>0.116945</td>\n",
       "    </tr>\n",
       "    <tr>\n",
       "      <th>city_NAKNEK</th>\n",
       "      <td>0.117869</td>\n",
       "    </tr>\n",
       "    <tr>\n",
       "      <th>city_TOK</th>\n",
       "      <td>0.118317</td>\n",
       "    </tr>\n",
       "    <tr>\n",
       "      <th>aircraft_family_CHAMPION/ BELLANCA/ AMERICAN CHAMPION SCOUT</th>\n",
       "      <td>0.123264</td>\n",
       "    </tr>\n",
       "    <tr>\n",
       "      <th>amateur_built</th>\n",
       "      <td>0.129310</td>\n",
       "    </tr>\n",
       "    <tr>\n",
       "      <th>purpose_of_flight_PUBU</th>\n",
       "      <td>0.136603</td>\n",
       "    </tr>\n",
       "    <tr>\n",
       "      <th>aircraft_family_CESSNA 172 SKYHAWK</th>\n",
       "      <td>0.137265</td>\n",
       "    </tr>\n",
       "    <tr>\n",
       "      <th>aircraft_family_CESSNA 185 SKYWAGON</th>\n",
       "      <td>0.138591</td>\n",
       "    </tr>\n",
       "    <tr>\n",
       "      <th>purpose_of_flight_PERS</th>\n",
       "      <td>0.145400</td>\n",
       "    </tr>\n",
       "    <tr>\n",
       "      <th>city_NENANA</th>\n",
       "      <td>0.151116</td>\n",
       "    </tr>\n",
       "    <tr>\n",
       "      <th>event_am_pm_PM</th>\n",
       "      <td>0.152759</td>\n",
       "    </tr>\n",
       "    <tr>\n",
       "      <th>purpose_of_flight_INST</th>\n",
       "      <td>0.161471</td>\n",
       "    </tr>\n",
       "    <tr>\n",
       "      <th>city_DEADHORSE</th>\n",
       "      <td>0.165659</td>\n",
       "    </tr>\n",
       "  </tbody>\n",
       "</table>\n",
       "</div>"
      ],
      "text/plain": [
       "                                                    p_values\n",
       "weather_condition_VMC                               0.000000\n",
       "occurred_near_airport                               0.000001\n",
       "purpose_of_flight_POSI                              0.002098\n",
       "const                                               0.014155\n",
       "aircraft_family_PIPER PA-22 TRI-PACER               0.029917\n",
       "city_KING SALMON                                    0.038115\n",
       "aircraft_family_PIPER PA-20 PACER                   0.058117\n",
       "aircraft_family_CESSNA 140                          0.064626\n",
       "aircraft_family_MAULE M-4                           0.075263\n",
       "aircraft_family_HELIO COURIER                       0.078510\n",
       "city_HEALY                                          0.088660\n",
       "aircraft_family_CESSNA 180 SKYWAGON                 0.101404\n",
       "purpose_of_flight_PUBF                              0.103875\n",
       "purpose_of_flight_OWRK                              0.104596\n",
       "city_EGEGIK                                         0.106037\n",
       "city_FAIRBANKS                                      0.106508\n",
       "event_month_3                                       0.107131\n",
       "aircraft_family_PIPER PA-18 SUPER CUB               0.116945\n",
       "city_NAKNEK                                         0.117869\n",
       "city_TOK                                            0.118317\n",
       "aircraft_family_CHAMPION/ BELLANCA/ AMERICAN CH...  0.123264\n",
       "amateur_built                                       0.129310\n",
       "purpose_of_flight_PUBU                              0.136603\n",
       "aircraft_family_CESSNA 172 SKYHAWK                  0.137265\n",
       "aircraft_family_CESSNA 185 SKYWAGON                 0.138591\n",
       "purpose_of_flight_PERS                              0.145400\n",
       "city_NENANA                                         0.151116\n",
       "event_am_pm_PM                                      0.152759\n",
       "purpose_of_flight_INST                              0.161471\n",
       "city_DEADHORSE                                      0.165659"
      ]
     },
     "execution_count": 64,
     "metadata": {},
     "output_type": "execute_result"
    }
   ],
   "source": [
    "glm1p.pvalues.head(30)"
   ]
  },
  {
   "cell_type": "markdown",
   "id": "ecb2215f-fec1-4e7b-b05e-125131caec64",
   "metadata": {},
   "source": [
    "### Confusion Matrix Check In"
   ]
  },
  {
   "cell_type": "code",
   "execution_count": 65,
   "id": "c651c346-928d-422b-bf7f-73814c4df17b",
   "metadata": {
    "tags": []
   },
   "outputs": [],
   "source": [
    "# glm1p.pvalues.to_csv('../results/glm_pvalues_largefeatureset4_severe_and_fatal_y_acc838.csv')"
   ]
  },
  {
   "cell_type": "code",
   "execution_count": 66,
   "id": "9ae8023a-fdd8-4046-93e6-def897d95110",
   "metadata": {
    "tags": []
   },
   "outputs": [],
   "source": [
    "y_pred_proba = glm1p.model.predict(glm1p.X_test)"
   ]
  },
  {
   "cell_type": "code",
   "execution_count": 67,
   "id": "5715ee73-13f4-44aa-8786-61e34d0f12fe",
   "metadata": {
    "tags": []
   },
   "outputs": [],
   "source": [
    "y_pred = np.where(y_pred_proba >= 0.5, 1, 0)"
   ]
  },
  {
   "cell_type": "code",
   "execution_count": 68,
   "id": "f35458af-5aeb-4787-b01a-062d5d6e38d2",
   "metadata": {},
   "outputs": [],
   "source": [
    "    def plot_confusion_matrix(y_true, y_pred, title=\"Confusion Matrix\"):\n",
    "      \n",
    "        matrix = confusion_matrix(y_true, y_pred)\n",
    "        plt.figure(figsize=(10,7))\n",
    "        sns.heatmap(matrix, annot=True, fmt='g', cmap=\"Blues\", \n",
    "                    xticklabels=['Predicted No Fatalities', 'Predicted Fatalities'], \n",
    "                    yticklabels=['Actually No Fatalities', 'Actually Had Fatalities'])\n",
    "        plt.title(title)\n",
    "        plt.show()"
   ]
  },
  {
   "cell_type": "code",
   "execution_count": 69,
   "id": "ddcedbd7-6041-403a-ba5e-b6cc2fb6e8fb",
   "metadata": {
    "tags": []
   },
   "outputs": [
    {
     "data": {
      "image/png": "[encoded data removed]",
      "text/plain": [
       "<Figure size 1000x700 with 2 Axes>"
      ]
     },
     "metadata": {},
     "output_type": "display_data"
    }
   ],
   "source": [
    "plot_confusion_matrix(glm1z.y_test, y_pred)"
   ]
  },
  {
   "cell_type": "markdown",
   "id": "2253dbb6-9400-4408-a1a4-6e0580a4f779",
   "metadata": {
    "tags": []
   },
   "source": [
    "## Rapid Fire P Values"
   ]
  },
  {
   "cell_type": "markdown",
   "id": "0c336168-72df-457d-bf5a-d09b643f05fe",
   "metadata": {},
   "source": [
    "## 1 - Weather Condition"
   ]
  },
  {
   "cell_type": "code",
   "execution_count": 70,
   "id": "f58f5b27-5231-43d4-bf06-1a5a0c598396",
   "metadata": {
    "tags": []
   },
   "outputs": [],
   "source": [
    "y = df['highest_injury_level']"
   ]
  },
  {
   "cell_type": "code",
   "execution_count": 71,
   "id": "35a3dda3-4420-4568-884a-a4574c2c61af",
   "metadata": {},
   "outputs": [],
   "source": [
    "X = df[['weather_condition']]"
   ]
  },
  {
   "cell_type": "code",
   "execution_count": 72,
   "id": "81cac2e9-24b9-4905-bb1e-a7c945ec8927",
   "metadata": {
    "tags": []
   },
   "outputs": [
    {
     "data": {
      "text/plain": [
       "weather_condition    object\n",
       "dtype: object"
      ]
     },
     "execution_count": 72,
     "metadata": {},
     "output_type": "execute_result"
    }
   ],
   "source": [
    "X.dtypes"
   ]
  },
  {
   "cell_type": "code",
   "execution_count": 73,
   "id": "a6bb4fce-bace-4ecc-a062-87704a8c070d",
   "metadata": {
    "tags": []
   },
   "outputs": [
    {
     "data": {
      "text/plain": [
       "0    4625\n",
       "1     949\n",
       "Name: highest_injury_level, dtype: int64"
      ]
     },
     "execution_count": 73,
     "metadata": {},
     "output_type": "execute_result"
    }
   ],
   "source": [
    "y.value_counts()"
   ]
  },
  {
   "cell_type": "code",
   "execution_count": 74,
   "id": "2b085da0-060a-4687-81b4-b97633fd664c",
   "metadata": {
    "tags": []
   },
   "outputs": [],
   "source": [
    "# X['purpose_of_flight'].value_counts()"
   ]
  },
  {
   "cell_type": "code",
   "execution_count": 75,
   "id": "f4c0b3b6-1830-4f91-8a18-4df29846338f",
   "metadata": {
    "tags": []
   },
   "outputs": [],
   "source": [
    "glm1a = aviation_data_model(X, y,[\n",
    "    ('weather_condition', 'Unknown')\n",
    "])"
   ]
  },
  {
   "cell_type": "code",
   "execution_count": 76,
   "id": "8678182a-2164-4de4-be11-f1597a67ddbb",
   "metadata": {
    "tags": []
   },
   "outputs": [],
   "source": [
    "glm1a.fit_binomial()"
   ]
  },
  {
   "cell_type": "code",
   "execution_count": 77,
   "id": "ba54f148-62bb-4fce-a749-d9da38a0ab31",
   "metadata": {
    "tags": []
   },
   "outputs": [],
   "source": [
    "# glm1a.pvalues.to_csv('../results/glm_pvalues_weather_severe_and_fatal_y.csv')"
   ]
  },
  {
   "cell_type": "code",
   "execution_count": 78,
   "id": "54f6bac2-98bc-4f0c-8d43-6e7142462769",
   "metadata": {
    "tags": []
   },
   "outputs": [
    {
     "data": {
      "text/plain": [
       "const                    1.600000\n",
       "weather_condition_IMC    0.669248\n",
       "weather_condition_VMC    0.097249\n",
       "dtype: float64"
      ]
     },
     "execution_count": 78,
     "metadata": {},
     "output_type": "execute_result"
    }
   ],
   "source": [
    "np.exp(glm1a.model.params)"
   ]
  },
  {
   "cell_type": "markdown",
   "id": "7bdf5f91-6ba0-4c34-a272-f4f1c14de7db",
   "metadata": {
    "tags": []
   },
   "source": [
    "## 2 - Aircraft Family"
   ]
  },
  {
   "cell_type": "code",
   "execution_count": 79,
   "id": "f1b9e0ff-8f6b-497b-97d7-b723d9b460e3",
   "metadata": {},
   "outputs": [],
   "source": [
    "X_2 = df[['aircraft_family']]"
   ]
  },
  {
   "cell_type": "code",
   "execution_count": 80,
   "id": "ed7780f0-4be4-49ee-95bf-8f3ad7736533",
   "metadata": {
    "tags": []
   },
   "outputs": [],
   "source": [
    "y = df['highest_injury_level']"
   ]
  },
  {
   "cell_type": "code",
   "execution_count": 81,
   "id": "b67a6ca2-60af-4008-920d-d895cc8c33ad",
   "metadata": {
    "tags": []
   },
   "outputs": [],
   "source": [
    "glm2a = aviation_data_model(X_2, y, drop_categories=[('aircraft_family', 'first')])"
   ]
  },
  {
   "cell_type": "code",
   "execution_count": 82,
   "id": "edcb2a38-1670-473c-bfc9-bde180318d5a",
   "metadata": {
    "tags": []
   },
   "outputs": [],
   "source": [
    "glm2a.fit_binomial()"
   ]
  },
  {
   "cell_type": "code",
   "execution_count": 83,
   "id": "93307828-b913-405e-9e24-868656466ab4",
   "metadata": {
    "tags": []
   },
   "outputs": [],
   "source": [
    "glm2a_pvalues = glm2a.pvalues"
   ]
  },
  {
   "cell_type": "code",
   "execution_count": 84,
   "id": "ec845a2a-0e95-4b9c-9dc8-05652195945c",
   "metadata": {
    "tags": []
   },
   "outputs": [
    {
     "data": {
      "text/html": [
       "<div>\n",
       "<style scoped>\n",
       "    .dataframe tbody tr th:only-of-type {\n",
       "        vertical-align: middle;\n",
       "    }\n",
       "\n",
       "    .dataframe tbody tr th {\n",
       "        vertical-align: top;\n",
       "    }\n",
       "\n",
       "    .dataframe thead th {\n",
       "        text-align: right;\n",
       "    }\n",
       "</style>\n",
       "<table border=\"1\" class=\"dataframe\">\n",
       "  <thead>\n",
       "    <tr style=\"text-align: right;\">\n",
       "      <th></th>\n",
       "      <th>p_values</th>\n",
       "    </tr>\n",
       "  </thead>\n",
       "  <tbody>\n",
       "    <tr>\n",
       "      <th>const</th>\n",
       "      <td>0.022061</td>\n",
       "    </tr>\n",
       "    <tr>\n",
       "      <th>aircraft_family_PIPER PA-22 TRI-PACER</th>\n",
       "      <td>0.083334</td>\n",
       "    </tr>\n",
       "    <tr>\n",
       "      <th>aircraft_family_PIPER PA-20 PACER</th>\n",
       "      <td>0.126678</td>\n",
       "    </tr>\n",
       "    <tr>\n",
       "      <th>aircraft_family_HELIO COURIER</th>\n",
       "      <td>0.214003</td>\n",
       "    </tr>\n",
       "    <tr>\n",
       "      <th>aircraft_family_BELL 206</th>\n",
       "      <td>0.263177</td>\n",
       "    </tr>\n",
       "    <tr>\n",
       "      <th>aircraft_family_CESSNA 172 SKYHAWK</th>\n",
       "      <td>0.293607</td>\n",
       "    </tr>\n",
       "    <tr>\n",
       "      <th>aircraft_family_TAYLORCRAFT F-19 SPORTSMAN</th>\n",
       "      <td>0.325284</td>\n",
       "    </tr>\n",
       "    <tr>\n",
       "      <th>aircraft_family_CHAMPION/ BELLANCA/ AMERICAN CHAMPION SCOUT</th>\n",
       "      <td>0.342754</td>\n",
       "    </tr>\n",
       "    <tr>\n",
       "      <th>aircraft_family_CESSNA 170</th>\n",
       "      <td>0.378787</td>\n",
       "    </tr>\n",
       "    <tr>\n",
       "      <th>aircraft_family_CESSNA 180 SKYWAGON</th>\n",
       "      <td>0.423095</td>\n",
       "    </tr>\n",
       "  </tbody>\n",
       "</table>\n",
       "</div>"
      ],
      "text/plain": [
       "                                                    p_values\n",
       "const                                               0.022061\n",
       "aircraft_family_PIPER PA-22 TRI-PACER               0.083334\n",
       "aircraft_family_PIPER PA-20 PACER                   0.126678\n",
       "aircraft_family_HELIO COURIER                       0.214003\n",
       "aircraft_family_BELL 206                            0.263177\n",
       "aircraft_family_CESSNA 172 SKYHAWK                  0.293607\n",
       "aircraft_family_TAYLORCRAFT F-19 SPORTSMAN          0.325284\n",
       "aircraft_family_CHAMPION/ BELLANCA/ AMERICAN CH...  0.342754\n",
       "aircraft_family_CESSNA 170                          0.378787\n",
       "aircraft_family_CESSNA 180 SKYWAGON                 0.423095"
      ]
     },
     "execution_count": 84,
     "metadata": {},
     "output_type": "execute_result"
    }
   ],
   "source": [
    "glm2a_pvalues.head(10)"
   ]
  },
  {
   "cell_type": "code",
   "execution_count": 85,
   "id": "8db98d77-897a-48a0-844f-4e5e6ba58cea",
   "metadata": {
    "tags": []
   },
   "outputs": [],
   "source": [
    "# glm2a_pvalues.to_csv('../results/glm_pvalues_aircraftfamily_severe_and_fatal_y.csv')"
   ]
  },
  {
   "cell_type": "markdown",
   "id": "c3d63fc5-9b8c-4d5d-8f77-d48437dede78",
   "metadata": {},
   "source": [
    "## 3 - Latitude and Longitude"
   ]
  },
  {
   "cell_type": "code",
   "execution_count": 86,
   "id": "e8b207e9-91ba-417e-aa8d-d1bdca46a5b3",
   "metadata": {},
   "outputs": [],
   "source": [
    "X_3 = df[['latitude', 'longitude']]"
   ]
  },
  {
   "cell_type": "code",
   "execution_count": 87,
   "id": "ed620e95-d582-4acc-9f35-6dc456039101",
   "metadata": {
    "tags": []
   },
   "outputs": [],
   "source": [
    "y = df['highest_injury_level']"
   ]
  },
  {
   "cell_type": "code",
   "execution_count": 88,
   "id": "dc832669-3183-48b9-9739-71cf8823ab32",
   "metadata": {
    "tags": []
   },
   "outputs": [],
   "source": [
    "glm3a = aviation_data_model(X_3, y)"
   ]
  },
  {
   "cell_type": "code",
   "execution_count": 89,
   "id": "7a557bb9-1d1e-46f1-b031-cebda9d16454",
   "metadata": {
    "tags": []
   },
   "outputs": [
    {
     "data": {
      "text/plain": [
       "latitude     float64\n",
       "longitude    float64\n",
       "dtype: object"
      ]
     },
     "execution_count": 89,
     "metadata": {},
     "output_type": "execute_result"
    }
   ],
   "source": [
    "X_3.dtypes"
   ]
  },
  {
   "cell_type": "code",
   "execution_count": 90,
   "id": "8d2d8ba5-30a5-4a70-9e98-aa3a0f89406f",
   "metadata": {
    "tags": []
   },
   "outputs": [],
   "source": [
    "glm3a.fit_binomial()"
   ]
  },
  {
   "cell_type": "code",
   "execution_count": 91,
   "id": "2d461dd2-e79d-43c0-bf7d-ff1beeef846c",
   "metadata": {
    "tags": []
   },
   "outputs": [
    {
     "data": {
      "text/html": [
       "<div>\n",
       "<style scoped>\n",
       "    .dataframe tbody tr th:only-of-type {\n",
       "        vertical-align: middle;\n",
       "    }\n",
       "\n",
       "    .dataframe tbody tr th {\n",
       "        vertical-align: top;\n",
       "    }\n",
       "\n",
       "    .dataframe thead th {\n",
       "        text-align: right;\n",
       "    }\n",
       "</style>\n",
       "<table border=\"1\" class=\"dataframe\">\n",
       "  <thead>\n",
       "    <tr style=\"text-align: right;\">\n",
       "      <th></th>\n",
       "      <th>p_values</th>\n",
       "    </tr>\n",
       "  </thead>\n",
       "  <tbody>\n",
       "    <tr>\n",
       "      <th>const</th>\n",
       "      <td>0.000000</td>\n",
       "    </tr>\n",
       "    <tr>\n",
       "      <th>longitude</th>\n",
       "      <td>0.836955</td>\n",
       "    </tr>\n",
       "    <tr>\n",
       "      <th>latitude</th>\n",
       "      <td>0.850515</td>\n",
       "    </tr>\n",
       "  </tbody>\n",
       "</table>\n",
       "</div>"
      ],
      "text/plain": [
       "           p_values\n",
       "const      0.000000\n",
       "longitude  0.836955\n",
       "latitude   0.850515"
      ]
     },
     "execution_count": 91,
     "metadata": {},
     "output_type": "execute_result"
    }
   ],
   "source": [
    "glm3a.pvalues"
   ]
  },
  {
   "cell_type": "markdown",
   "id": "d9a338a2-0ef9-4cf9-a8b5-dd028da23757",
   "metadata": {},
   "source": [
    "## 4 - City"
   ]
  },
  {
   "cell_type": "code",
   "execution_count": 92,
   "id": "cb04028c-d2bb-495b-b366-e2f879c828b0",
   "metadata": {
    "tags": []
   },
   "outputs": [],
   "source": [
    "X_4 = df[['city']]"
   ]
  },
  {
   "cell_type": "code",
   "execution_count": 93,
   "id": "1302738d-1f5f-4221-8f1d-cab4d916f992",
   "metadata": {
    "tags": []
   },
   "outputs": [],
   "source": [
    "y = df['highest_injury_level']"
   ]
  },
  {
   "cell_type": "code",
   "execution_count": 94,
   "id": "562e6e3a-b053-4098-a833-386c320be4c2",
   "metadata": {
    "tags": []
   },
   "outputs": [],
   "source": [
    "glm4a = aviation_data_model(X_4, y, [\n",
    "    ('city', 'first')\n",
    "])"
   ]
  },
  {
   "cell_type": "code",
   "execution_count": 95,
   "id": "762227fc-bd56-41d3-b40c-906ab700658f",
   "metadata": {
    "tags": []
   },
   "outputs": [],
   "source": [
    "glm4a.fit_binomial()"
   ]
  },
  {
   "cell_type": "code",
   "execution_count": 96,
   "id": "b03a44df-edb1-48f3-8868-53e94000e66d",
   "metadata": {
    "tags": []
   },
   "outputs": [
    {
     "data": {
      "text/html": [
       "<div>\n",
       "<style scoped>\n",
       "    .dataframe tbody tr th:only-of-type {\n",
       "        vertical-align: middle;\n",
       "    }\n",
       "\n",
       "    .dataframe tbody tr th {\n",
       "        vertical-align: top;\n",
       "    }\n",
       "\n",
       "    .dataframe thead th {\n",
       "        text-align: right;\n",
       "    }\n",
       "</style>\n",
       "<table border=\"1\" class=\"dataframe\">\n",
       "  <thead>\n",
       "    <tr style=\"text-align: right;\">\n",
       "      <th></th>\n",
       "      <th>p_values</th>\n",
       "    </tr>\n",
       "  </thead>\n",
       "  <tbody>\n",
       "    <tr>\n",
       "      <th>city_KING SALMON</th>\n",
       "      <td>0.097559</td>\n",
       "    </tr>\n",
       "    <tr>\n",
       "      <th>city_FAIRBANKS</th>\n",
       "      <td>0.116279</td>\n",
       "    </tr>\n",
       "    <tr>\n",
       "      <th>city_TOK</th>\n",
       "      <td>0.147633</td>\n",
       "    </tr>\n",
       "    <tr>\n",
       "      <th>city_NORTHWAY</th>\n",
       "      <td>0.172152</td>\n",
       "    </tr>\n",
       "    <tr>\n",
       "      <th>city_NENANA</th>\n",
       "      <td>0.172152</td>\n",
       "    </tr>\n",
       "    <tr>\n",
       "      <th>...</th>\n",
       "      <td>...</td>\n",
       "    </tr>\n",
       "    <tr>\n",
       "      <th>city_MCGRATH</th>\n",
       "      <td>0.914977</td>\n",
       "    </tr>\n",
       "    <tr>\n",
       "      <th>city_KENAI</th>\n",
       "      <td>0.925465</td>\n",
       "    </tr>\n",
       "    <tr>\n",
       "      <th>city_NAKNEK</th>\n",
       "      <td>0.998966</td>\n",
       "    </tr>\n",
       "    <tr>\n",
       "      <th>city_GALENA</th>\n",
       "      <td>0.999156</td>\n",
       "    </tr>\n",
       "    <tr>\n",
       "      <th>city_SEWARD</th>\n",
       "      <td>1.000000</td>\n",
       "    </tr>\n",
       "  </tbody>\n",
       "</table>\n",
       "<p>77 rows × 1 columns</p>\n",
       "</div>"
      ],
      "text/plain": [
       "                  p_values\n",
       "city_KING SALMON  0.097559\n",
       "city_FAIRBANKS    0.116279\n",
       "city_TOK          0.147633\n",
       "city_NORTHWAY     0.172152\n",
       "city_NENANA       0.172152\n",
       "...                    ...\n",
       "city_MCGRATH      0.914977\n",
       "city_KENAI        0.925465\n",
       "city_NAKNEK       0.998966\n",
       "city_GALENA       0.999156\n",
       "city_SEWARD       1.000000\n",
       "\n",
       "[77 rows x 1 columns]"
      ]
     },
     "execution_count": 96,
     "metadata": {},
     "output_type": "execute_result"
    }
   ],
   "source": [
    "glm4a.pvalues"
   ]
  },
  {
   "cell_type": "code",
   "execution_count": 97,
   "id": "4e3ebfb7-f940-4aca-bb82-6ce90db8d7ce",
   "metadata": {
    "tags": []
   },
   "outputs": [
    {
     "data": {
      "text/plain": [
       "0.8297452457839971"
      ]
     },
     "execution_count": 97,
     "metadata": {},
     "output_type": "execute_result"
    }
   ],
   "source": [
    "1 - y.mean()"
   ]
  },
  {
   "cell_type": "code",
   "execution_count": 98,
   "id": "11ce3636-90fb-45df-a13f-5c088a52e946",
   "metadata": {},
   "outputs": [
    {
     "data": {
      "text/plain": [
       "0.8182904961147639"
      ]
     },
     "execution_count": 98,
     "metadata": {},
     "output_type": "execute_result"
    }
   ],
   "source": [
    "glm_accuracy(glm4a.model, glm4a.X_test, glm4a.y_test)"
   ]
  },
  {
   "cell_type": "markdown",
   "id": "a48dea3a-69c6-4ea2-bb78-3fee352234c3",
   "metadata": {},
   "source": [
    "## Try out p values again but with modified y (any injury)"
   ]
  },
  {
   "cell_type": "markdown",
   "id": "d8027349-e624-4976-9389-a25bcf0af1f3",
   "metadata": {},
   "source": [
    "## 5 - Weather Condition"
   ]
  },
  {
   "cell_type": "code",
   "execution_count": 99,
   "id": "efc52e6a-9dc2-4078-8a41-dcc5efcb1cd7",
   "metadata": {
    "tags": []
   },
   "outputs": [],
   "source": [
    "y = df['has_injury']"
   ]
  },
  {
   "cell_type": "code",
   "execution_count": 100,
   "id": "d04d47de-fe45-4d53-be80-be4ba1d8d04f",
   "metadata": {},
   "outputs": [],
   "source": [
    "X_5 = df[['weather_condition']]"
   ]
  },
  {
   "cell_type": "code",
   "execution_count": 101,
   "id": "01ae37f1-e9f2-407b-8683-702e83a9a078",
   "metadata": {
    "tags": []
   },
   "outputs": [
    {
     "data": {
      "text/plain": [
       "weather_condition    object\n",
       "dtype: object"
      ]
     },
     "execution_count": 101,
     "metadata": {},
     "output_type": "execute_result"
    }
   ],
   "source": [
    "X.dtypes"
   ]
  },
  {
   "cell_type": "code",
   "execution_count": 102,
   "id": "ed5bca30-17a1-4b33-adfc-2d08082a51b2",
   "metadata": {
    "tags": []
   },
   "outputs": [
    {
     "data": {
      "text/plain": [
       "0    4000\n",
       "1    1574\n",
       "Name: has_injury, dtype: int64"
      ]
     },
     "execution_count": 102,
     "metadata": {},
     "output_type": "execute_result"
    }
   ],
   "source": [
    "y.value_counts()"
   ]
  },
  {
   "cell_type": "code",
   "execution_count": 103,
   "id": "c7237ae7-9c34-4cfe-8adb-8aaf9591076b",
   "metadata": {
    "tags": []
   },
   "outputs": [],
   "source": [
    "# X['purpose_of_flight'].value_counts()"
   ]
  },
  {
   "cell_type": "code",
   "execution_count": 104,
   "id": "790207ca-9360-403a-82a1-3cf882b180a2",
   "metadata": {
    "tags": []
   },
   "outputs": [],
   "source": [
    "glm5a = aviation_data_model(X_5, y,[\n",
    "    ('weather_condition', 'VMC')\n",
    "])"
   ]
  },
  {
   "cell_type": "code",
   "execution_count": 105,
   "id": "f4063fab-9639-4cb9-ad95-a99de398df09",
   "metadata": {
    "tags": []
   },
   "outputs": [],
   "source": [
    "glm5a.fit_binomial()"
   ]
  },
  {
   "cell_type": "code",
   "execution_count": 106,
   "id": "91042343-4905-4d91-93d9-e67b5c2b2208",
   "metadata": {
    "tags": []
   },
   "outputs": [
    {
     "data": {
      "text/html": [
       "<div>\n",
       "<style scoped>\n",
       "    .dataframe tbody tr th:only-of-type {\n",
       "        vertical-align: middle;\n",
       "    }\n",
       "\n",
       "    .dataframe tbody tr th {\n",
       "        vertical-align: top;\n",
       "    }\n",
       "\n",
       "    .dataframe thead th {\n",
       "        text-align: right;\n",
       "    }\n",
       "</style>\n",
       "<table border=\"1\" class=\"dataframe\">\n",
       "  <thead>\n",
       "    <tr style=\"text-align: right;\">\n",
       "      <th></th>\n",
       "      <th>p_values</th>\n",
       "    </tr>\n",
       "  </thead>\n",
       "  <tbody>\n",
       "    <tr>\n",
       "      <th>const</th>\n",
       "      <td>0.0</td>\n",
       "    </tr>\n",
       "    <tr>\n",
       "      <th>weather_condition_IMC</th>\n",
       "      <td>0.0</td>\n",
       "    </tr>\n",
       "    <tr>\n",
       "      <th>weather_condition_Unknown</th>\n",
       "      <td>0.0</td>\n",
       "    </tr>\n",
       "  </tbody>\n",
       "</table>\n",
       "</div>"
      ],
      "text/plain": [
       "                           p_values\n",
       "const                           0.0\n",
       "weather_condition_IMC           0.0\n",
       "weather_condition_Unknown       0.0"
      ]
     },
     "execution_count": 106,
     "metadata": {},
     "output_type": "execute_result"
    }
   ],
   "source": [
    "glm5a.pvalues"
   ]
  },
  {
   "cell_type": "code",
   "execution_count": 107,
   "id": "673247cc-0987-4d16-8000-20b6caa189ce",
   "metadata": {
    "tags": []
   },
   "outputs": [],
   "source": [
    "# glm1a.pvalues.to_csv('../results/glm_pvalues_weather_severe_and_fatal_y.csv')"
   ]
  },
  {
   "cell_type": "code",
   "execution_count": 108,
   "id": "8f662fcd-ceb7-493c-a8f3-e05215130557",
   "metadata": {
    "tags": []
   },
   "outputs": [
    {
     "data": {
      "text/plain": [
       "const                        0.328171\n",
       "weather_condition_IMC        6.460045\n",
       "weather_condition_Unknown    5.205618\n",
       "dtype: float64"
      ]
     },
     "execution_count": 108,
     "metadata": {},
     "output_type": "execute_result"
    }
   ],
   "source": [
    "np.exp(glm5a.model.params)"
   ]
  },
  {
   "cell_type": "code",
   "execution_count": 109,
   "id": "c6851f52-b8e4-4111-ac71-2ecc7921b67b",
   "metadata": {
    "tags": []
   },
   "outputs": [
    {
     "data": {
      "text/plain": [
       "0.7447698744769874"
      ]
     },
     "execution_count": 109,
     "metadata": {},
     "output_type": "execute_result"
    }
   ],
   "source": [
    "glm_accuracy(glm5a.model, glm5a.X_test, glm5a.y_test)"
   ]
  },
  {
   "cell_type": "markdown",
   "id": "49546f23-0892-48f6-b9c8-eba64b62c8e1",
   "metadata": {
    "tags": []
   },
   "source": [
    "## 6 - Aircraft Family"
   ]
  },
  {
   "cell_type": "code",
   "execution_count": 110,
   "id": "08878f01-2208-4b12-8866-846c15f9715d",
   "metadata": {},
   "outputs": [],
   "source": [
    "X_6 = df[['aircraft_family']]"
   ]
  },
  {
   "cell_type": "code",
   "execution_count": 111,
   "id": "1f5b8d87-6f8f-4510-8473-5531c41d4a10",
   "metadata": {
    "tags": []
   },
   "outputs": [],
   "source": [
    "y = df['has_injury']"
   ]
  },
  {
   "cell_type": "code",
   "execution_count": 112,
   "id": "4f4aa67c-eb00-4a19-9a12-ec17063365ea",
   "metadata": {
    "tags": []
   },
   "outputs": [],
   "source": [
    "glm6a = aviation_data_model(X_6, y, drop_categories=[('aircraft_family', 'first')])"
   ]
  },
  {
   "cell_type": "code",
   "execution_count": 113,
   "id": "98ae4a8d-9ccc-4b63-80f3-856f5f90e70a",
   "metadata": {
    "tags": []
   },
   "outputs": [],
   "source": [
    "glm6a.fit_binomial()"
   ]
  },
  {
   "cell_type": "code",
   "execution_count": 114,
   "id": "8a017a47-45c1-4f95-99b1-f20e67c8bd3e",
   "metadata": {
    "tags": []
   },
   "outputs": [],
   "source": [
    "glm6a_pvalues = glm6a.pvalues"
   ]
  },
  {
   "cell_type": "code",
   "execution_count": 115,
   "id": "1858aee5-67a6-4a3e-9c13-c65f0138912d",
   "metadata": {
    "tags": []
   },
   "outputs": [
    {
     "data": {
      "text/html": [
       "<div>\n",
       "<style scoped>\n",
       "    .dataframe tbody tr th:only-of-type {\n",
       "        vertical-align: middle;\n",
       "    }\n",
       "\n",
       "    .dataframe tbody tr th {\n",
       "        vertical-align: top;\n",
       "    }\n",
       "\n",
       "    .dataframe thead th {\n",
       "        text-align: right;\n",
       "    }\n",
       "</style>\n",
       "<table border=\"1\" class=\"dataframe\">\n",
       "  <thead>\n",
       "    <tr style=\"text-align: right;\">\n",
       "      <th></th>\n",
       "      <th>p_values</th>\n",
       "    </tr>\n",
       "  </thead>\n",
       "  <tbody>\n",
       "    <tr>\n",
       "      <th>const</th>\n",
       "      <td>0.057060</td>\n",
       "    </tr>\n",
       "    <tr>\n",
       "      <th>aircraft_family_BELL 206</th>\n",
       "      <td>0.069163</td>\n",
       "    </tr>\n",
       "    <tr>\n",
       "      <th>aircraft_family_PIPER PA-28 CHEROKEE</th>\n",
       "      <td>0.084111</td>\n",
       "    </tr>\n",
       "    <tr>\n",
       "      <th>aircraft_family_PIPER PA-22 TRI-PACER</th>\n",
       "      <td>0.151297</td>\n",
       "    </tr>\n",
       "    <tr>\n",
       "      <th>aircraft_family_CESSNA 208 CARAVAN</th>\n",
       "      <td>0.228250</td>\n",
       "    </tr>\n",
       "    <tr>\n",
       "      <th>aircraft_family_TAYLORCRAFT F-19 SPORTSMAN</th>\n",
       "      <td>0.228795</td>\n",
       "    </tr>\n",
       "    <tr>\n",
       "      <th>aircraft_family_CESSNA 207</th>\n",
       "      <td>0.243081</td>\n",
       "    </tr>\n",
       "    <tr>\n",
       "      <th>aircraft_family_CESSNA 170</th>\n",
       "      <td>0.298770</td>\n",
       "    </tr>\n",
       "    <tr>\n",
       "      <th>aircraft_family_DE HAVILLAND DHC-3 OTTER</th>\n",
       "      <td>0.299445</td>\n",
       "    </tr>\n",
       "    <tr>\n",
       "      <th>aircraft_family_HELIO COURIER</th>\n",
       "      <td>0.303210</td>\n",
       "    </tr>\n",
       "  </tbody>\n",
       "</table>\n",
       "</div>"
      ],
      "text/plain": [
       "                                            p_values\n",
       "const                                       0.057060\n",
       "aircraft_family_BELL 206                    0.069163\n",
       "aircraft_family_PIPER PA-28 CHEROKEE        0.084111\n",
       "aircraft_family_PIPER PA-22 TRI-PACER       0.151297\n",
       "aircraft_family_CESSNA 208 CARAVAN          0.228250\n",
       "aircraft_family_TAYLORCRAFT F-19 SPORTSMAN  0.228795\n",
       "aircraft_family_CESSNA 207                  0.243081\n",
       "aircraft_family_CESSNA 170                  0.298770\n",
       "aircraft_family_DE HAVILLAND DHC-3 OTTER    0.299445\n",
       "aircraft_family_HELIO COURIER               0.303210"
      ]
     },
     "execution_count": 115,
     "metadata": {},
     "output_type": "execute_result"
    }
   ],
   "source": [
    "glm6a_pvalues.head(10)"
   ]
  },
  {
   "cell_type": "code",
   "execution_count": 116,
   "id": "7c48fef5-d5b1-42bb-b6c9-3fbbba84e5b7",
   "metadata": {
    "tags": []
   },
   "outputs": [],
   "source": [
    "# glm2a_pvalues.to_csv('../results/glm_pvalues_aircraftfamily_severe_and_fatal_y.csv')"
   ]
  },
  {
   "cell_type": "code",
   "execution_count": 117,
   "id": "3ce31e6f-57c7-4e77-9a40-56e7cdc4721c",
   "metadata": {
    "tags": []
   },
   "outputs": [
    {
     "data": {
      "text/plain": [
       "0.7106993424985056"
      ]
     },
     "execution_count": 117,
     "metadata": {},
     "output_type": "execute_result"
    }
   ],
   "source": [
    "glm_accuracy(glm6a.model, glm6a.X_test, glm6a.y_test)"
   ]
  },
  {
   "cell_type": "markdown",
   "id": "24723d55-77a9-466e-8d53-9fff004d61a0",
   "metadata": {},
   "source": [
    "## 7 - Latitude and Longitude"
   ]
  },
  {
   "cell_type": "code",
   "execution_count": 118,
   "id": "52cf0eef-c862-4e3d-9c32-4a27569f268d",
   "metadata": {},
   "outputs": [],
   "source": [
    "X_7 = df[['latitude', 'longitude']]"
   ]
  },
  {
   "cell_type": "code",
   "execution_count": 119,
   "id": "e49465dc-6634-4c79-b037-d77400b8eb7a",
   "metadata": {
    "tags": []
   },
   "outputs": [],
   "source": [
    "y = df['has_injury']"
   ]
  },
  {
   "cell_type": "code",
   "execution_count": 120,
   "id": "cc08a76f-5099-4e07-8977-6611b2988c41",
   "metadata": {
    "tags": []
   },
   "outputs": [],
   "source": [
    "glm7a = aviation_data_model(X_7, y)"
   ]
  },
  {
   "cell_type": "code",
   "execution_count": 121,
   "id": "4eb9f4a8-ec12-406a-889f-6d26fe6ffe59",
   "metadata": {
    "tags": []
   },
   "outputs": [
    {
     "data": {
      "text/plain": [
       "latitude     float64\n",
       "longitude    float64\n",
       "dtype: object"
      ]
     },
     "execution_count": 121,
     "metadata": {},
     "output_type": "execute_result"
    }
   ],
   "source": [
    "X_7.dtypes"
   ]
  },
  {
   "cell_type": "code",
   "execution_count": 122,
   "id": "9d0dcf4e-5ff8-40bb-88a9-798829769483",
   "metadata": {
    "tags": []
   },
   "outputs": [],
   "source": [
    "glm7a.fit_binomial()"
   ]
  },
  {
   "cell_type": "code",
   "execution_count": 123,
   "id": "a5db535e-c559-4468-880a-3a1b4c2f2d1f",
   "metadata": {
    "tags": []
   },
   "outputs": [
    {
     "data": {
      "text/html": [
       "<div>\n",
       "<style scoped>\n",
       "    .dataframe tbody tr th:only-of-type {\n",
       "        vertical-align: middle;\n",
       "    }\n",
       "\n",
       "    .dataframe tbody tr th {\n",
       "        vertical-align: top;\n",
       "    }\n",
       "\n",
       "    .dataframe thead th {\n",
       "        text-align: right;\n",
       "    }\n",
       "</style>\n",
       "<table border=\"1\" class=\"dataframe\">\n",
       "  <thead>\n",
       "    <tr style=\"text-align: right;\">\n",
       "      <th></th>\n",
       "      <th>p_values</th>\n",
       "    </tr>\n",
       "  </thead>\n",
       "  <tbody>\n",
       "    <tr>\n",
       "      <th>const</th>\n",
       "      <td>0.000000</td>\n",
       "    </tr>\n",
       "    <tr>\n",
       "      <th>latitude</th>\n",
       "      <td>0.755226</td>\n",
       "    </tr>\n",
       "    <tr>\n",
       "      <th>longitude</th>\n",
       "      <td>0.982304</td>\n",
       "    </tr>\n",
       "  </tbody>\n",
       "</table>\n",
       "</div>"
      ],
      "text/plain": [
       "           p_values\n",
       "const      0.000000\n",
       "latitude   0.755226\n",
       "longitude  0.982304"
      ]
     },
     "execution_count": 123,
     "metadata": {},
     "output_type": "execute_result"
    }
   ],
   "source": [
    "glm7a.pvalues"
   ]
  },
  {
   "cell_type": "code",
   "execution_count": 124,
   "id": "8bdd2641-76e5-4c09-96cd-58c5661e5200",
   "metadata": {
    "tags": []
   },
   "outputs": [
    {
     "data": {
      "text/plain": [
       "0.7106993424985056"
      ]
     },
     "execution_count": 124,
     "metadata": {},
     "output_type": "execute_result"
    }
   ],
   "source": [
    "glm_accuracy(glm7a.model, glm7a.X_test, glm7a.y_test)"
   ]
  },
  {
   "cell_type": "markdown",
   "id": "0aa9dab7-0a11-4ef2-8b00-8c68a0a8dbed",
   "metadata": {},
   "source": [
    "## 8 - City"
   ]
  },
  {
   "cell_type": "code",
   "execution_count": 125,
   "id": "307883ad-5f90-455b-a5a0-dcb0567e4572",
   "metadata": {
    "tags": []
   },
   "outputs": [],
   "source": [
    "X_8 = df[['city']]"
   ]
  },
  {
   "cell_type": "code",
   "execution_count": 126,
   "id": "caf56bb3-f5e6-40da-acaa-4d2fbae9e308",
   "metadata": {
    "tags": []
   },
   "outputs": [],
   "source": [
    "y = df['has_injury']"
   ]
  },
  {
   "cell_type": "code",
   "execution_count": 127,
   "id": "d9c579b0-7976-49c5-bd8c-823e7a4375cc",
   "metadata": {
    "tags": []
   },
   "outputs": [],
   "source": [
    "glm8a = aviation_data_model(X_8, y, [\n",
    "    ('city', 'first')\n",
    "])"
   ]
  },
  {
   "cell_type": "code",
   "execution_count": 128,
   "id": "8c1495c2-c7e1-4f60-bea4-6b2b814f887e",
   "metadata": {
    "tags": []
   },
   "outputs": [],
   "source": [
    "glm8a.fit_binomial()"
   ]
  },
  {
   "cell_type": "code",
   "execution_count": 129,
   "id": "6a02f2cd-e9e2-453c-9d4e-f587fca9d4e2",
   "metadata": {
    "tags": []
   },
   "outputs": [
    {
     "data": {
      "text/html": [
       "<div>\n",
       "<style scoped>\n",
       "    .dataframe tbody tr th:only-of-type {\n",
       "        vertical-align: middle;\n",
       "    }\n",
       "\n",
       "    .dataframe tbody tr th {\n",
       "        vertical-align: top;\n",
       "    }\n",
       "\n",
       "    .dataframe thead th {\n",
       "        text-align: right;\n",
       "    }\n",
       "</style>\n",
       "<table border=\"1\" class=\"dataframe\">\n",
       "  <thead>\n",
       "    <tr style=\"text-align: right;\">\n",
       "      <th></th>\n",
       "      <th>p_values</th>\n",
       "    </tr>\n",
       "  </thead>\n",
       "  <tbody>\n",
       "    <tr>\n",
       "      <th>city_BELUGA</th>\n",
       "      <td>0.020476</td>\n",
       "    </tr>\n",
       "    <tr>\n",
       "      <th>city_NAKNEK</th>\n",
       "      <td>0.028215</td>\n",
       "    </tr>\n",
       "    <tr>\n",
       "      <th>city_KING SALMON</th>\n",
       "      <td>0.036729</td>\n",
       "    </tr>\n",
       "    <tr>\n",
       "      <th>city_NENANA</th>\n",
       "      <td>0.037547</td>\n",
       "    </tr>\n",
       "    <tr>\n",
       "      <th>city_NORTHWAY</th>\n",
       "      <td>0.037547</td>\n",
       "    </tr>\n",
       "    <tr>\n",
       "      <th>...</th>\n",
       "      <td>...</td>\n",
       "    </tr>\n",
       "    <tr>\n",
       "      <th>city_NOME</th>\n",
       "      <td>0.795753</td>\n",
       "    </tr>\n",
       "    <tr>\n",
       "      <th>city_NUIQSUT</th>\n",
       "      <td>0.844732</td>\n",
       "    </tr>\n",
       "    <tr>\n",
       "      <th>city_PORT HEIDEN</th>\n",
       "      <td>0.908711</td>\n",
       "    </tr>\n",
       "    <tr>\n",
       "      <th>city_KETCHIKAN</th>\n",
       "      <td>0.927127</td>\n",
       "    </tr>\n",
       "    <tr>\n",
       "      <th>const</th>\n",
       "      <td>1.000000</td>\n",
       "    </tr>\n",
       "  </tbody>\n",
       "</table>\n",
       "<p>77 rows × 1 columns</p>\n",
       "</div>"
      ],
      "text/plain": [
       "                  p_values\n",
       "city_BELUGA       0.020476\n",
       "city_NAKNEK       0.028215\n",
       "city_KING SALMON  0.036729\n",
       "city_NENANA       0.037547\n",
       "city_NORTHWAY     0.037547\n",
       "...                    ...\n",
       "city_NOME         0.795753\n",
       "city_NUIQSUT      0.844732\n",
       "city_PORT HEIDEN  0.908711\n",
       "city_KETCHIKAN    0.927127\n",
       "const             1.000000\n",
       "\n",
       "[77 rows x 1 columns]"
      ]
     },
     "execution_count": 129,
     "metadata": {},
     "output_type": "execute_result"
    }
   ],
   "source": [
    "glm8a.pvalues"
   ]
  },
  {
   "cell_type": "code",
   "execution_count": 130,
   "id": "d85f940b-21e9-4e70-9a22-b4b1b110714f",
   "metadata": {
    "tags": []
   },
   "outputs": [
    {
     "data": {
      "text/plain": [
       "0.7089061566049014"
      ]
     },
     "execution_count": 130,
     "metadata": {},
     "output_type": "execute_result"
    }
   ],
   "source": [
    "glm_accuracy(glm8a.model, glm8a.X_test, glm8a.y_test)"
   ]
  }
 ],
 "metadata": {
  "kernelspec": {
   "display_name": "Python 3 (ipykernel)",
   "language": "python",
   "name": "python3"
  },
  "language_info": {
   "codemirror_mode": {
    "name": "ipython",
    "version": 3
   },
   "file_extension": ".py",
   "mimetype": "text/x-python",
   "name": "python",
   "nbconvert_exporter": "python",
   "pygments_lexer": "ipython3",
   "version": "3.9.13"
  }
 },
 "nbformat": 4,
 "nbformat_minor": 5
}
