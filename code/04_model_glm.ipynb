{
 "cells": [
  {
   "cell_type": "markdown",
   "id": "a7d28908-3400-432e-a30d-5113c4548c74",
   "metadata": {},
   "source": [
    "# GLM Model"
   ]
  },
  {
   "cell_type": "code",
   "execution_count": 1,
   "id": "0461914e-1b0d-4538-8f25-84686949b8b3",
   "metadata": {
    "tags": []
   },
   "outputs": [],
   "source": [
    "import pandas as pd\n",
    "import numpy as np\n",
    "import matplotlib.pyplot as plt\n",
    "\n",
    "from sklearn import metrics\n",
    "from sklearn.preprocessing import OneHotEncoder, StandardScaler\n",
    "from sklearn.model_selection import train_test_split, RandomizedSearchCV, GridSearchCV\n",
    "from sklearn.compose import ColumnTransformer\n",
    "from sklearn.pipeline import Pipeline\n",
    "from sklearn.linear_model import LogisticRegression\n",
    "from sklearn.ensemble import RandomForestClassifier\n",
    "from sklearn.tree import DecisionTreeClassifier\n",
    "from sklearn.svm import SVC, LinearSVC\n",
    "import statsmodels.api as sm\n",
    "import seaborn as sns\n",
    "\n",
    "from sklearn.metrics import confusion_matrix, ConfusionMatrixDisplay\n",
    "\n",
    "import pickle\n"
   ]
  },
  {
   "cell_type": "markdown",
   "id": "3aa4076c-5c1b-47ef-a2db-22e555ee8712",
   "metadata": {},
   "source": [
    "## Model Maker Class"
   ]
  },
  {
   "cell_type": "code",
   "execution_count": 2,
   "id": "b90d73f7-b826-4258-9862-b5aad3e0e410",
   "metadata": {
    "tags": []
   },
   "outputs": [],
   "source": [
    "class aviation_data_model:\n",
    "    def __init__(self, x, y, drop_categories = None, test_size = 0.3, random_state = 2023):\n",
    "        self.x = x.copy()\n",
    "        self.drop_categories = drop_categories\n",
    "        self.y = y\n",
    "        self.random_state = random_state\n",
    "        self.test_size = test_size\n",
    "        self.model = None\n",
    "        self.x_oh = None\n",
    "        self.x_con = None\n",
    "        self.results = None\n",
    "        self.pvalues = None\n",
    "        self.X_test = None\n",
    "        self.Y_test = None\n",
    "\n",
    "        \n",
    "    def one_hot(self):\n",
    "        #Check to see if dummy parameter passed correctly\n",
    "        if type(self.drop_categories[0]) == tuple:\n",
    "            \n",
    "            categories = []\n",
    "            for i, j in self.drop_categories:\n",
    "                # Collect subset of columns to dummify\n",
    "                categories.append(i)\n",
    "                \n",
    "                # If a specific drop value has been given for a column, add a 0- to it so it is 'first' and drops accordingly\n",
    "                if j != 'first':\n",
    "                    self.x[i] = np.where(self.x[i] == j, '0-' + j, self.x[i])\n",
    "        else:\n",
    "            raise TypeError('Invalid OneHotEncoder values. Use None or a list of tuples of (column name, category name')\n",
    "            \n",
    "        self.x_oh = pd.get_dummies(data= self.x, columns = categories, drop_first=True)\n",
    "        # Log line - uncomment below to check shapes after important steps\n",
    "        # print(f\"OneHot Resulting Shape: {self.x_oh.shape}\")\n",
    "        return self.x_oh\n",
    "    \n",
    "    def train_test(self, x, y):\n",
    "        X_train, X_test, y_train, y_test = train_test_split(x, y, test_size=self.test_size, random_state=self.random_state)\n",
    "        return (X_train, X_test, y_train, y_test)\n",
    "        \n",
    "    \n",
    "    def fit_binomial(self, link = 'logit'):\n",
    "        # Start with OneHotEncoding if given\n",
    "        if self.drop_categories:\n",
    "            model_x = self.one_hot()\n",
    "        else:\n",
    "            model_x = self.x\n",
    "            \n",
    "        # Add column for constant per statsmodels GLM requirements\n",
    "        x_con = sm.add_constant(model_x[list(model_x.columns)])\n",
    "        self.x_con = x_con\n",
    "        \n",
    "        # Log line - uncomment below to check shapes after important steps\n",
    "        # print(f\"After constant Resulting Shape: {self.x_con.shape}\")\n",
    "        \n",
    "        #Train Test Split\n",
    "        X_train, X_test, y_train, y_test = self.train_test(x_con, self.y)\n",
    "\n",
    "        \n",
    "        # Log lines - uncomment below to check shapes after important steps\n",
    "        # print(f\"After tts X_train Resulting Shape: {X_train.shape}\")\n",
    "        # print(f\"After tts X_test Resulting Shape: {X_test.shape}\")\n",
    "        # print(f\"After tts y_train Resulting Shape: {y_train.shape}\")\n",
    "        # print(f\"After tts y_test Resulting Shape: {y_test.shape}\")\n",
    "        \n",
    "        if link == 'logit':\n",
    "            link_function = sm.families.links.Logit()\n",
    "        elif link == 'probit':\n",
    "            link_function = sm.families.links.Probit()\n",
    "        \n",
    "        #Make and fit a model\n",
    "        glm_bin = sm.GLM(\n",
    "            y_train,\n",
    "            X_train,\n",
    "            family=sm.families.Binomial(link=link_function)).fit()\n",
    "        \n",
    "        #Stash results as accessible attributes\n",
    "        self.results = glm_bin.summary()\n",
    "        self.model = glm_bin\n",
    "        self.pvalues = np.round(glm_bin.pvalues, 6).to_frame().sort_values(by = 0)\n",
    "        self.pvalues.rename({0: 'p_values'}, axis =1 , inplace=True)\n",
    "        self.X_test = X_test\n",
    "        self.y_test = y_test"
   ]
  },
  {
   "cell_type": "code",
   "execution_count": 3,
   "id": "20637894-dd80-495e-8e02-1e15117f1172",
   "metadata": {},
   "outputs": [],
   "source": [
    "def glm_accuracy(model, x, y):\n",
    "    test_pred = model.predict(x)\n",
    "    test_pred = test_pred.map(lambda x: 1 if x >=0.50 else 0)\n",
    "    acc = pd.concat([test_pred, y], axis = 1)\n",
    "    return acc[acc.iloc[:, 0] == acc.iloc[:, 1]].shape[0] / y.shape[0]"
   ]
  },
  {
   "cell_type": "code",
   "execution_count": 4,
   "id": "60c7ebef-d05a-4b27-baf2-c9ef7ce774f6",
   "metadata": {},
   "outputs": [],
   "source": [
    "def is_top_model(data, model, top_x):\n",
    "    top_list = list(data['model'].value_counts()[:top_x + 1].index.str.upper())\n",
    "    return True if model.upper() in top_list else False"
   ]
  },
  {
   "cell_type": "code",
   "execution_count": 5,
   "id": "7f22fa5d-ecc4-433d-9ab1-2cb94e1e3d30",
   "metadata": {},
   "outputs": [],
   "source": [
    "def is_top_make(data, make, top_x):\n",
    "    top_list = list(data['make'].value_counts()[:top_x + 1].index.str.upper())\n",
    "    return True if make.upper() in top_list else False"
   ]
  },
  {
   "cell_type": "code",
   "execution_count": 6,
   "id": "f6c31f9e-4233-4bd9-bdf4-0d3fdc7e89f8",
   "metadata": {
    "tags": []
   },
   "outputs": [],
   "source": [
    "def is_top_family(data, family, top_x):\n",
    "    top_list = list(data['aircraft_family'].value_counts()[:top_x + 1].index.str.upper())\n",
    "    return True if family.upper() in top_list else False"
   ]
  },
  {
   "cell_type": "code",
   "execution_count": 7,
   "id": "d7e21b6a-75f5-441a-b963-b59d57399a78",
   "metadata": {
    "tags": []
   },
   "outputs": [],
   "source": [
    "def is_top_city(data, city, top_x):\n",
    "    top_list = list(data['city'].value_counts()[:top_x + 1].index.str.upper())\n",
    "    return True if city.upper() in top_list else False"
   ]
  },
  {
   "cell_type": "code",
   "execution_count": 8,
   "id": "a72a3146-28f8-492d-b142-f6044547d3e9",
   "metadata": {
    "tags": []
   },
   "outputs": [],
   "source": [
    "# def bundler(val, top_n):\n",
    "#     top_list = list(data.value_counts()[:top_n + 1].index.str.upper())\n",
    "#     new_data = np.where(data.str.upper().isin(top_list), data.str.upper(), 'UNCOMMON' )\n",
    "#     return new_data"
   ]
  },
  {
   "cell_type": "markdown",
   "id": "2bc9e2ad-95c8-470c-8089-1f0c095a6484",
   "metadata": {},
   "source": [
    "### Read in data"
   ]
  },
  {
   "cell_type": "code",
   "execution_count": 9,
   "id": "62dda5dc-805f-46fe-a088-4182a9869d34",
   "metadata": {},
   "outputs": [],
   "source": [
    "df = pd.read_csv(\"../datasets/data_cleaned/alaska_single_engine_clean.csv\")"
   ]
  },
  {
   "cell_type": "markdown",
   "id": "a0531e73-2ce3-47dd-b422-99fdeb6d2e3e",
   "metadata": {},
   "source": [
    "## Binarize, bundle, and engineer"
   ]
  },
  {
   "cell_type": "markdown",
   "id": "cc143f27-d1d3-4866-aabc-8bc2d5ccf648",
   "metadata": {},
   "source": [
    "Group 'UNK' and 'Unknown'"
   ]
  },
  {
   "cell_type": "code",
   "execution_count": 10,
   "id": "23cf4f84-5dd6-4825-9001-b509897f8fa8",
   "metadata": {
    "tags": []
   },
   "outputs": [],
   "source": [
    "df['purpose_of_flight'] = df['purpose_of_flight'].map(lambda x: 'UNK' if x=='Unknown' else x)"
   ]
  },
  {
   "cell_type": "code",
   "execution_count": 11,
   "id": "a85f5263-2613-4373-b7c8-5a701879c6e6",
   "metadata": {},
   "outputs": [],
   "source": [
    "df['scheduled'] = df['scheduled'].map(lambda x: 'UNK' if x == 'Unknown' else x)"
   ]
  },
  {
   "cell_type": "markdown",
   "id": "876d5bf2-5ad5-41dd-8daa-e6af81429732",
   "metadata": {
    "tags": []
   },
   "source": [
    "The following lines are designed to help balance out categorical values, since there are many infrequent occurrences as well as very common occurrences. They set a cutoff in terms of the most frequent values, and anything outside of that gets lumped together as some variant of \"Uncommon\""
   ]
  },
  {
   "cell_type": "code",
   "execution_count": 12,
   "id": "a72bb86f-0d6d-448f-af2c-f8f041b3e7a0",
   "metadata": {
    "tags": []
   },
   "outputs": [],
   "source": [
    "df['model'] = [x.upper() if is_top_model(df, x,200) else 'UNCOMMON MODEL' for x in df['model']]"
   ]
  },
  {
   "cell_type": "code",
   "execution_count": 13,
   "id": "c8b2d9d1-a5f7-4939-814a-198a6266c00e",
   "metadata": {
    "tags": []
   },
   "outputs": [],
   "source": [
    "df['make'] = [x.upper() if is_top_make(df, x,50) else 'UNCOMMON MAKE' for x in df['make']]\n"
   ]
  },
  {
   "cell_type": "code",
   "execution_count": 14,
   "id": "b4c18adc-914c-41a3-b6a3-f80d563d8e84",
   "metadata": {
    "tags": []
   },
   "outputs": [],
   "source": [
    "df['city'] = [x.upper() if is_top_city(df, x,75) else 'UNCOMMON CITY' for x in df['city']]"
   ]
  },
  {
   "cell_type": "code",
   "execution_count": 15,
   "id": "0409acc9-d1b7-4778-a652-aec14acb69a2",
   "metadata": {
    "tags": []
   },
   "outputs": [
    {
     "data": {
      "text/plain": [
       "aircraft_category\n",
       "AIR         5271\n",
       "HELI         303\n",
       "ULTR           5\n",
       "WSFT           4\n",
       "GYRO           3\n",
       "GLI            2\n",
       "UNMANNED       1\n",
       "PPAR           1\n",
       "Name: count, dtype: int64"
      ]
     },
     "execution_count": 15,
     "metadata": {},
     "output_type": "execute_result"
    }
   ],
   "source": [
    "df['aircraft_category'].value_counts()"
   ]
  },
  {
   "cell_type": "markdown",
   "id": "c0d47111-6db8-4ec4-a80c-4d11e6e95943",
   "metadata": {},
   "source": [
    "### Drop everything that isn't a airplane or helicoper"
   ]
  },
  {
   "cell_type": "code",
   "execution_count": 16,
   "id": "280c19ae-5d70-4cdb-8557-3a6ec12a0a8f",
   "metadata": {
    "tags": []
   },
   "outputs": [],
   "source": [
    "df.drop( df[~df['aircraft_category'].isin(['AIR', 'HELI'])].index, inplace = True)"
   ]
  },
  {
   "cell_type": "markdown",
   "id": "1b03926b-e1ed-442c-9674-ebf8bc352820",
   "metadata": {
    "tags": []
   },
   "source": [
    "## Manual GLM Attempt with multiple features"
   ]
  },
  {
   "cell_type": "markdown",
   "id": "55d0c99d-447d-4228-a002-22ca70a8b2b0",
   "metadata": {},
   "source": [
    "### Create X"
   ]
  },
  {
   "cell_type": "code",
   "execution_count": 17,
   "id": "67ba37f6-afcd-4e48-abf3-feb98cc485ac",
   "metadata": {
    "tags": []
   },
   "outputs": [],
   "source": [
    "X_1a = df.drop(['ntsb_no', 'probable_cause', 'airport_name', 'event_type', 'mkey', 'city', 'n', 'has_safety_rec', 'report_type', 'highest_injury_level', 'fatal_injury_count', 'serious_injury_count', 'minor_injury_count', 'airport_id', 'far', 'aircraft_damage', 'operator', 'event_year', 'event_season', 'event_day', 'aircraft_category', 'has_injury', 'event_time','has_aircraft_damage', 'is_accident', 'make_model', 'has_fatal_injury', 'aircraft_family', 'event_time_of_day', 'event_am_pm'], axis=1)"
   ]
  },
  {
   "cell_type": "code",
   "execution_count": 18,
   "id": "885f5688-035d-4e3d-a7b0-03e7f4468df3",
   "metadata": {
    "tags": []
   },
   "outputs": [
    {
     "data": {
      "text/html": [
       "<div>\n",
       "<style scoped>\n",
       "    .dataframe tbody tr th:only-of-type {\n",
       "        vertical-align: middle;\n",
       "    }\n",
       "\n",
       "    .dataframe tbody tr th {\n",
       "        vertical-align: top;\n",
       "    }\n",
       "\n",
       "    .dataframe thead th {\n",
       "        text-align: right;\n",
       "    }\n",
       "</style>\n",
       "<table border=\"1\" class=\"dataframe\">\n",
       "  <thead>\n",
       "    <tr style=\"text-align: right;\">\n",
       "      <th></th>\n",
       "      <th>latitude</th>\n",
       "      <th>longitude</th>\n",
       "      <th>make</th>\n",
       "      <th>model</th>\n",
       "      <th>amateur_built</th>\n",
       "      <th>scheduled</th>\n",
       "      <th>purpose_of_flight</th>\n",
       "      <th>weather_condition</th>\n",
       "      <th>event_month</th>\n",
       "      <th>event_hour</th>\n",
       "      <th>occurred_near_airport</th>\n",
       "    </tr>\n",
       "  </thead>\n",
       "  <tbody>\n",
       "    <tr>\n",
       "      <th>0</th>\n",
       "      <td>61.775160</td>\n",
       "      <td>-152.15263</td>\n",
       "      <td>CESSNA</td>\n",
       "      <td>UNCOMMON MODEL</td>\n",
       "      <td>0</td>\n",
       "      <td>UNK</td>\n",
       "      <td>PERS</td>\n",
       "      <td>Unknown</td>\n",
       "      <td>9</td>\n",
       "      <td>8</td>\n",
       "      <td>0</td>\n",
       "    </tr>\n",
       "    <tr>\n",
       "      <th>1</th>\n",
       "      <td>60.805019</td>\n",
       "      <td>-161.78648</td>\n",
       "      <td>PIPER</td>\n",
       "      <td>PA-18-150</td>\n",
       "      <td>0</td>\n",
       "      <td>UNK</td>\n",
       "      <td>PERS</td>\n",
       "      <td>Unknown</td>\n",
       "      <td>9</td>\n",
       "      <td>12</td>\n",
       "      <td>0</td>\n",
       "    </tr>\n",
       "    <tr>\n",
       "      <th>2</th>\n",
       "      <td>59.646929</td>\n",
       "      <td>-151.49323</td>\n",
       "      <td>CESSNA</td>\n",
       "      <td>A185F</td>\n",
       "      <td>0</td>\n",
       "      <td>UNK</td>\n",
       "      <td>BUS</td>\n",
       "      <td>VMC</td>\n",
       "      <td>9</td>\n",
       "      <td>13</td>\n",
       "      <td>1</td>\n",
       "    </tr>\n",
       "    <tr>\n",
       "      <th>3</th>\n",
       "      <td>64.267579</td>\n",
       "      <td>-147.68704</td>\n",
       "      <td>HELIO</td>\n",
       "      <td>H-295</td>\n",
       "      <td>0</td>\n",
       "      <td>NSCH</td>\n",
       "      <td>BUS</td>\n",
       "      <td>Unknown</td>\n",
       "      <td>9</td>\n",
       "      <td>16</td>\n",
       "      <td>0</td>\n",
       "    </tr>\n",
       "    <tr>\n",
       "      <th>4</th>\n",
       "      <td>64.650753</td>\n",
       "      <td>-149.83639</td>\n",
       "      <td>UNCOMMON MAKE</td>\n",
       "      <td>UNCOMMON MODEL</td>\n",
       "      <td>1</td>\n",
       "      <td>UNK</td>\n",
       "      <td>PERS</td>\n",
       "      <td>VMC</td>\n",
       "      <td>9</td>\n",
       "      <td>15</td>\n",
       "      <td>0</td>\n",
       "    </tr>\n",
       "  </tbody>\n",
       "</table>\n",
       "</div>"
      ],
      "text/plain": [
       "    latitude  longitude           make           model  amateur_built  \\\n",
       "0  61.775160 -152.15263         CESSNA  UNCOMMON MODEL              0   \n",
       "1  60.805019 -161.78648          PIPER       PA-18-150              0   \n",
       "2  59.646929 -151.49323         CESSNA           A185F              0   \n",
       "3  64.267579 -147.68704          HELIO           H-295              0   \n",
       "4  64.650753 -149.83639  UNCOMMON MAKE  UNCOMMON MODEL              1   \n",
       "\n",
       "  scheduled purpose_of_flight weather_condition  event_month  event_hour  \\\n",
       "0       UNK              PERS           Unknown            9           8   \n",
       "1       UNK              PERS           Unknown            9          12   \n",
       "2       UNK               BUS               VMC            9          13   \n",
       "3      NSCH               BUS           Unknown            9          16   \n",
       "4       UNK              PERS               VMC            9          15   \n",
       "\n",
       "   occurred_near_airport  \n",
       "0                      0  \n",
       "1                      0  \n",
       "2                      1  \n",
       "3                      0  \n",
       "4                      0  "
      ]
     },
     "execution_count": 18,
     "metadata": {},
     "output_type": "execute_result"
    }
   ],
   "source": [
    "X_1a.head()"
   ]
  },
  {
   "cell_type": "markdown",
   "id": "4bb3cf04-e1b9-44fd-8cef-e21c7f5b4101",
   "metadata": {
    "tags": []
   },
   "source": [
    "### Create Y"
   ]
  },
  {
   "cell_type": "code",
   "execution_count": 19,
   "id": "0eb58688-e94d-4258-93f0-ec654f0e2ecc",
   "metadata": {
    "tags": []
   },
   "outputs": [
    {
     "data": {
      "text/plain": [
       "highest_injury_level\n",
       "None Reported    4000\n",
       "Minor             625\n",
       "Fatal             573\n",
       "Serious           376\n",
       "Name: count, dtype: int64"
      ]
     },
     "execution_count": 19,
     "metadata": {},
     "output_type": "execute_result"
    }
   ],
   "source": [
    "df['highest_injury_level'].value_counts()"
   ]
  },
  {
   "cell_type": "code",
   "execution_count": 20,
   "id": "b20506f6-a2e4-452c-8131-cf051b9af1e7",
   "metadata": {
    "tags": []
   },
   "outputs": [],
   "source": [
    "df['highest_injury_level'] = np.where(\n",
    "    df['highest_injury_level'].str.contains('None Reported') |\n",
    "    df['highest_injury_level'].str.contains('Minor'),\n",
    "    0,\n",
    "    1)"
   ]
  },
  {
   "cell_type": "code",
   "execution_count": 21,
   "id": "f4948649-ba58-456d-8955-6529ae4b34a4",
   "metadata": {
    "tags": []
   },
   "outputs": [],
   "source": [
    "y = df['highest_injury_level']\n",
    "# y = df['has_fatal_injury']"
   ]
  },
  {
   "cell_type": "markdown",
   "id": "ddfea852-2354-4911-b449-80e14f699953",
   "metadata": {},
   "source": [
    "### Create dummies"
   ]
  },
  {
   "cell_type": "code",
   "execution_count": 22,
   "id": "dd24c50f-9366-4cbc-8e7f-9c70d80ad351",
   "metadata": {
    "tags": []
   },
   "outputs": [],
   "source": [
    "X_1a_dummy = pd.get_dummies(data=X_1a,\n",
    "                         columns=['make',\n",
    "                                  'model',\n",
    "                                  'scheduled',\n",
    "                                  'purpose_of_flight',\n",
    "                                  'weather_condition',\n",
    "                                  'event_month',\n",
    "                                  'event_hour'\n",
    "                                 ],\n",
    "                         drop_first=True\n",
    "        )"
   ]
  },
  {
   "cell_type": "code",
   "execution_count": 23,
   "id": "a6e73850-db1d-4507-bdf2-e507c97eebc3",
   "metadata": {
    "tags": []
   },
   "outputs": [
    {
     "data": {
      "text/plain": [
       "(5574, 311)"
      ]
     },
     "execution_count": 23,
     "metadata": {},
     "output_type": "execute_result"
    }
   ],
   "source": [
    "X_1a_dummy.shape"
   ]
  },
  {
   "cell_type": "markdown",
   "id": "e1088794-ffc2-477e-b287-bc99dfbc8608",
   "metadata": {
    "tags": []
   },
   "source": [
    "### Add constant for use in GLM"
   ]
  },
  {
   "cell_type": "code",
   "execution_count": 24,
   "id": "10d40949-3049-4b41-bbba-db907cef6156",
   "metadata": {
    "tags": []
   },
   "outputs": [],
   "source": [
    "X_1a_con = sm.add_constant(X_1a_dummy[list(X_1a_dummy.columns)])"
   ]
  },
  {
   "cell_type": "code",
   "execution_count": 25,
   "id": "0dc9de7c-a02e-4a3f-81c9-7f99df3efca3",
   "metadata": {
    "tags": []
   },
   "outputs": [
    {
     "data": {
      "text/plain": [
       "(5574, 312)"
      ]
     },
     "execution_count": 25,
     "metadata": {},
     "output_type": "execute_result"
    }
   ],
   "source": [
    "X_1a_con.shape"
   ]
  },
  {
   "cell_type": "markdown",
   "id": "ff750b34-da85-438d-abe0-234efffb1a0e",
   "metadata": {},
   "source": [
    "### Train test split"
   ]
  },
  {
   "cell_type": "code",
   "execution_count": 26,
   "id": "6caa1486-fd9b-4f14-a351-3932878a9ca5",
   "metadata": {
    "tags": []
   },
   "outputs": [],
   "source": [
    "X_train, X_test, y_train, y_test = train_test_split(X_1a_con, y, random_state=2023)"
   ]
  },
  {
   "cell_type": "code",
   "execution_count": 27,
   "id": "e9188c57-8fc1-4126-ae85-80e41f5a3a04",
   "metadata": {
    "tags": []
   },
   "outputs": [
    {
     "data": {
      "text/plain": [
       "(4180, 312)"
      ]
     },
     "execution_count": 27,
     "metadata": {},
     "output_type": "execute_result"
    }
   ],
   "source": [
    "X_train.shape"
   ]
  },
  {
   "cell_type": "code",
   "execution_count": 28,
   "id": "9554ef76-7cbc-43e2-bed8-5d1c1216faef",
   "metadata": {
    "tags": []
   },
   "outputs": [
    {
     "ename": "ValueError",
     "evalue": "Pandas data cast to numpy dtype of object. Check input data with np.asarray(data).",
     "output_type": "error",
     "traceback": [
      "\u001b[0;31m---------------------------------------------------------------------------\u001b[0m",
      "\u001b[0;31mValueError\u001b[0m                                Traceback (most recent call last)",
      "Cell \u001b[0;32mIn[28], line 1\u001b[0m\n\u001b[0;32m----> 1\u001b[0m glm_bin \u001b[38;5;241m=\u001b[39m sm\u001b[38;5;241m.\u001b[39mGLM(\n\u001b[1;32m      2\u001b[0m     y_train,\n\u001b[1;32m      3\u001b[0m     X_train,\n\u001b[1;32m      4\u001b[0m     family\u001b[38;5;241m=\u001b[39msm\u001b[38;5;241m.\u001b[39mfamilies\u001b[38;5;241m.\u001b[39mBinomial(link\u001b[38;5;241m=\u001b[39msm\u001b[38;5;241m.\u001b[39mfamilies\u001b[38;5;241m.\u001b[39mlinks\u001b[38;5;241m.\u001b[39mLogit()))\u001b[38;5;241m.\u001b[39mfit()\n",
      "File \u001b[0;32m~/anaconda3/lib/python3.11/site-packages/statsmodels/genmod/generalized_linear_model.py:325\u001b[0m, in \u001b[0;36mGLM.__init__\u001b[0;34m(self, endog, exog, family, offset, exposure, freq_weights, var_weights, missing, **kwargs)\u001b[0m\n\u001b[1;32m    322\u001b[0m \u001b[38;5;28mself\u001b[39m\u001b[38;5;241m.\u001b[39mfreq_weights \u001b[38;5;241m=\u001b[39m freq_weights\n\u001b[1;32m    323\u001b[0m \u001b[38;5;28mself\u001b[39m\u001b[38;5;241m.\u001b[39mvar_weights \u001b[38;5;241m=\u001b[39m var_weights\n\u001b[0;32m--> 325\u001b[0m \u001b[38;5;28msuper\u001b[39m(GLM, \u001b[38;5;28mself\u001b[39m)\u001b[38;5;241m.\u001b[39m\u001b[38;5;21m__init__\u001b[39m(endog, exog, missing\u001b[38;5;241m=\u001b[39mmissing,\n\u001b[1;32m    326\u001b[0m                           offset\u001b[38;5;241m=\u001b[39moffset, exposure\u001b[38;5;241m=\u001b[39mexposure,\n\u001b[1;32m    327\u001b[0m                           freq_weights\u001b[38;5;241m=\u001b[39mfreq_weights,\n\u001b[1;32m    328\u001b[0m                           var_weights\u001b[38;5;241m=\u001b[39mvar_weights, \u001b[38;5;241m*\u001b[39m\u001b[38;5;241m*\u001b[39mkwargs)\n\u001b[1;32m    329\u001b[0m \u001b[38;5;28mself\u001b[39m\u001b[38;5;241m.\u001b[39m_check_inputs(family, \u001b[38;5;28mself\u001b[39m\u001b[38;5;241m.\u001b[39moffset, \u001b[38;5;28mself\u001b[39m\u001b[38;5;241m.\u001b[39mexposure, \u001b[38;5;28mself\u001b[39m\u001b[38;5;241m.\u001b[39mendog,\n\u001b[1;32m    330\u001b[0m                    \u001b[38;5;28mself\u001b[39m\u001b[38;5;241m.\u001b[39mfreq_weights, \u001b[38;5;28mself\u001b[39m\u001b[38;5;241m.\u001b[39mvar_weights)\n\u001b[1;32m    331\u001b[0m \u001b[38;5;28;01mif\u001b[39;00m offset \u001b[38;5;129;01mis\u001b[39;00m \u001b[38;5;28;01mNone\u001b[39;00m:\n",
      "File \u001b[0;32m~/anaconda3/lib/python3.11/site-packages/statsmodels/base/model.py:270\u001b[0m, in \u001b[0;36mLikelihoodModel.__init__\u001b[0;34m(self, endog, exog, **kwargs)\u001b[0m\n\u001b[1;32m    269\u001b[0m \u001b[38;5;28;01mdef\u001b[39;00m \u001b[38;5;21m__init__\u001b[39m(\u001b[38;5;28mself\u001b[39m, endog, exog\u001b[38;5;241m=\u001b[39m\u001b[38;5;28;01mNone\u001b[39;00m, \u001b[38;5;241m*\u001b[39m\u001b[38;5;241m*\u001b[39mkwargs):\n\u001b[0;32m--> 270\u001b[0m     \u001b[38;5;28msuper\u001b[39m()\u001b[38;5;241m.\u001b[39m\u001b[38;5;21m__init__\u001b[39m(endog, exog, \u001b[38;5;241m*\u001b[39m\u001b[38;5;241m*\u001b[39mkwargs)\n\u001b[1;32m    271\u001b[0m     \u001b[38;5;28mself\u001b[39m\u001b[38;5;241m.\u001b[39minitialize()\n",
      "File \u001b[0;32m~/anaconda3/lib/python3.11/site-packages/statsmodels/base/model.py:95\u001b[0m, in \u001b[0;36mModel.__init__\u001b[0;34m(self, endog, exog, **kwargs)\u001b[0m\n\u001b[1;32m     93\u001b[0m missing \u001b[38;5;241m=\u001b[39m kwargs\u001b[38;5;241m.\u001b[39mpop(\u001b[38;5;124m'\u001b[39m\u001b[38;5;124mmissing\u001b[39m\u001b[38;5;124m'\u001b[39m, \u001b[38;5;124m'\u001b[39m\u001b[38;5;124mnone\u001b[39m\u001b[38;5;124m'\u001b[39m)\n\u001b[1;32m     94\u001b[0m hasconst \u001b[38;5;241m=\u001b[39m kwargs\u001b[38;5;241m.\u001b[39mpop(\u001b[38;5;124m'\u001b[39m\u001b[38;5;124mhasconst\u001b[39m\u001b[38;5;124m'\u001b[39m, \u001b[38;5;28;01mNone\u001b[39;00m)\n\u001b[0;32m---> 95\u001b[0m \u001b[38;5;28mself\u001b[39m\u001b[38;5;241m.\u001b[39mdata \u001b[38;5;241m=\u001b[39m \u001b[38;5;28mself\u001b[39m\u001b[38;5;241m.\u001b[39m_handle_data(endog, exog, missing, hasconst,\n\u001b[1;32m     96\u001b[0m                               \u001b[38;5;241m*\u001b[39m\u001b[38;5;241m*\u001b[39mkwargs)\n\u001b[1;32m     97\u001b[0m \u001b[38;5;28mself\u001b[39m\u001b[38;5;241m.\u001b[39mk_constant \u001b[38;5;241m=\u001b[39m \u001b[38;5;28mself\u001b[39m\u001b[38;5;241m.\u001b[39mdata\u001b[38;5;241m.\u001b[39mk_constant\n\u001b[1;32m     98\u001b[0m \u001b[38;5;28mself\u001b[39m\u001b[38;5;241m.\u001b[39mexog \u001b[38;5;241m=\u001b[39m \u001b[38;5;28mself\u001b[39m\u001b[38;5;241m.\u001b[39mdata\u001b[38;5;241m.\u001b[39mexog\n",
      "File \u001b[0;32m~/anaconda3/lib/python3.11/site-packages/statsmodels/base/model.py:135\u001b[0m, in \u001b[0;36mModel._handle_data\u001b[0;34m(self, endog, exog, missing, hasconst, **kwargs)\u001b[0m\n\u001b[1;32m    134\u001b[0m \u001b[38;5;28;01mdef\u001b[39;00m \u001b[38;5;21m_handle_data\u001b[39m(\u001b[38;5;28mself\u001b[39m, endog, exog, missing, hasconst, \u001b[38;5;241m*\u001b[39m\u001b[38;5;241m*\u001b[39mkwargs):\n\u001b[0;32m--> 135\u001b[0m     data \u001b[38;5;241m=\u001b[39m handle_data(endog, exog, missing, hasconst, \u001b[38;5;241m*\u001b[39m\u001b[38;5;241m*\u001b[39mkwargs)\n\u001b[1;32m    136\u001b[0m     \u001b[38;5;66;03m# kwargs arrays could have changed, easier to just attach here\u001b[39;00m\n\u001b[1;32m    137\u001b[0m     \u001b[38;5;28;01mfor\u001b[39;00m key \u001b[38;5;129;01min\u001b[39;00m kwargs:\n",
      "File \u001b[0;32m~/anaconda3/lib/python3.11/site-packages/statsmodels/base/data.py:675\u001b[0m, in \u001b[0;36mhandle_data\u001b[0;34m(endog, exog, missing, hasconst, **kwargs)\u001b[0m\n\u001b[1;32m    672\u001b[0m     exog \u001b[38;5;241m=\u001b[39m np\u001b[38;5;241m.\u001b[39masarray(exog)\n\u001b[1;32m    674\u001b[0m klass \u001b[38;5;241m=\u001b[39m handle_data_class_factory(endog, exog)\n\u001b[0;32m--> 675\u001b[0m \u001b[38;5;28;01mreturn\u001b[39;00m klass(endog, exog\u001b[38;5;241m=\u001b[39mexog, missing\u001b[38;5;241m=\u001b[39mmissing, hasconst\u001b[38;5;241m=\u001b[39mhasconst,\n\u001b[1;32m    676\u001b[0m              \u001b[38;5;241m*\u001b[39m\u001b[38;5;241m*\u001b[39mkwargs)\n",
      "File \u001b[0;32m~/anaconda3/lib/python3.11/site-packages/statsmodels/base/data.py:84\u001b[0m, in \u001b[0;36mModelData.__init__\u001b[0;34m(self, endog, exog, missing, hasconst, **kwargs)\u001b[0m\n\u001b[1;32m     82\u001b[0m     \u001b[38;5;28mself\u001b[39m\u001b[38;5;241m.\u001b[39morig_endog \u001b[38;5;241m=\u001b[39m endog\n\u001b[1;32m     83\u001b[0m     \u001b[38;5;28mself\u001b[39m\u001b[38;5;241m.\u001b[39morig_exog \u001b[38;5;241m=\u001b[39m exog\n\u001b[0;32m---> 84\u001b[0m     \u001b[38;5;28mself\u001b[39m\u001b[38;5;241m.\u001b[39mendog, \u001b[38;5;28mself\u001b[39m\u001b[38;5;241m.\u001b[39mexog \u001b[38;5;241m=\u001b[39m \u001b[38;5;28mself\u001b[39m\u001b[38;5;241m.\u001b[39m_convert_endog_exog(endog, exog)\n\u001b[1;32m     86\u001b[0m \u001b[38;5;28mself\u001b[39m\u001b[38;5;241m.\u001b[39mconst_idx \u001b[38;5;241m=\u001b[39m \u001b[38;5;28;01mNone\u001b[39;00m\n\u001b[1;32m     87\u001b[0m \u001b[38;5;28mself\u001b[39m\u001b[38;5;241m.\u001b[39mk_constant \u001b[38;5;241m=\u001b[39m \u001b[38;5;241m0\u001b[39m\n",
      "File \u001b[0;32m~/anaconda3/lib/python3.11/site-packages/statsmodels/base/data.py:509\u001b[0m, in \u001b[0;36mPandasData._convert_endog_exog\u001b[0;34m(self, endog, exog)\u001b[0m\n\u001b[1;32m    507\u001b[0m exog \u001b[38;5;241m=\u001b[39m exog \u001b[38;5;28;01mif\u001b[39;00m exog \u001b[38;5;129;01mis\u001b[39;00m \u001b[38;5;28;01mNone\u001b[39;00m \u001b[38;5;28;01melse\u001b[39;00m np\u001b[38;5;241m.\u001b[39masarray(exog)\n\u001b[1;32m    508\u001b[0m \u001b[38;5;28;01mif\u001b[39;00m endog\u001b[38;5;241m.\u001b[39mdtype \u001b[38;5;241m==\u001b[39m \u001b[38;5;28mobject\u001b[39m \u001b[38;5;129;01mor\u001b[39;00m exog \u001b[38;5;129;01mis\u001b[39;00m \u001b[38;5;129;01mnot\u001b[39;00m \u001b[38;5;28;01mNone\u001b[39;00m \u001b[38;5;129;01mand\u001b[39;00m exog\u001b[38;5;241m.\u001b[39mdtype \u001b[38;5;241m==\u001b[39m \u001b[38;5;28mobject\u001b[39m:\n\u001b[0;32m--> 509\u001b[0m     \u001b[38;5;28;01mraise\u001b[39;00m \u001b[38;5;167;01mValueError\u001b[39;00m(\u001b[38;5;124m\"\u001b[39m\u001b[38;5;124mPandas data cast to numpy dtype of object. \u001b[39m\u001b[38;5;124m\"\u001b[39m\n\u001b[1;32m    510\u001b[0m                      \u001b[38;5;124m\"\u001b[39m\u001b[38;5;124mCheck input data with np.asarray(data).\u001b[39m\u001b[38;5;124m\"\u001b[39m)\n\u001b[1;32m    511\u001b[0m \u001b[38;5;28;01mreturn\u001b[39;00m \u001b[38;5;28msuper\u001b[39m(PandasData, \u001b[38;5;28mself\u001b[39m)\u001b[38;5;241m.\u001b[39m_convert_endog_exog(endog, exog)\n",
      "\u001b[0;31mValueError\u001b[0m: Pandas data cast to numpy dtype of object. Check input data with np.asarray(data)."
     ]
    }
   ],
   "source": [
    "glm_bin = sm.GLM(\n",
    "    y_train,\n",
    "    X_train,\n",
    "    family=sm.families.Binomial(link=sm.families.links.Logit())).fit()"
   ]
  },
  {
   "cell_type": "code",
   "execution_count": null,
   "id": "0ddc3f2a-a987-4d2a-a2d8-34420023ec95",
   "metadata": {
    "tags": []
   },
   "outputs": [],
   "source": [
    "glm_bin_results = glm_bin.summary()"
   ]
  },
  {
   "cell_type": "markdown",
   "id": "64f60835-9ae2-4281-825e-32cb03ca606a",
   "metadata": {},
   "source": [
    "### Check accuracy"
   ]
  },
  {
   "cell_type": "code",
   "execution_count": null,
   "id": "b450c75f-bf43-4f6d-bc8d-d7b4b682d259",
   "metadata": {
    "tags": []
   },
   "outputs": [],
   "source": [
    "glm_accuracy(glm_bin, X_test, y_test)"
   ]
  },
  {
   "cell_type": "code",
   "execution_count": null,
   "id": "2a85e5bf-d6b9-45f6-9be2-f981c45a8c61",
   "metadata": {
    "tags": []
   },
   "outputs": [],
   "source": [
    "1 - y.mean()"
   ]
  },
  {
   "cell_type": "markdown",
   "id": "5962b9ba-db4c-4c85-ae81-e017b057c87c",
   "metadata": {
    "tags": []
   },
   "source": [
    "### Result: Accuracy does technically outperform baseline - p-values can be trusted"
   ]
  },
  {
   "cell_type": "code",
   "execution_count": null,
   "id": "701cc20b-bab0-4eb4-8238-8885e0af86fe",
   "metadata": {
    "tags": []
   },
   "outputs": [],
   "source": [
    "glm_bin_pvalues = np.round(glm_bin.pvalues, 4).to_frame().sort_values(by =  0, ascending = True)"
   ]
  },
  {
   "cell_type": "code",
   "execution_count": null,
   "id": "6d4ca406-9d51-4602-aba1-cea9a5d508f7",
   "metadata": {
    "tags": []
   },
   "outputs": [],
   "source": [
    "glm_bin_coef_df = glm_bin.params.to_frame().sort_values(by = 0, ascending = False)"
   ]
  },
  {
   "cell_type": "code",
   "execution_count": null,
   "id": "57eb8b12-26ef-4113-bed8-36527f591a30",
   "metadata": {
    "tags": []
   },
   "outputs": [],
   "source": [
    "glm_bin_pvalues.rename({0: 'p_value'}, axis = 1, inplace=True)"
   ]
  },
  {
   "cell_type": "code",
   "execution_count": null,
   "id": "acdb98b3-af3f-4b79-a941-83416f3e9e6d",
   "metadata": {
    "tags": []
   },
   "outputs": [],
   "source": [
    "glm_bin_coef_df.rename({0: 'coef'}, axis = 1, inplace=True)"
   ]
  },
  {
   "cell_type": "code",
   "execution_count": null,
   "id": "23bdceb7-6cdd-48a6-9cb3-d8a3cc76d2c1",
   "metadata": {
    "tags": []
   },
   "outputs": [],
   "source": [
    "glm_bin_pvalues.head(30)"
   ]
  },
  {
   "cell_type": "code",
   "execution_count": null,
   "id": "36e87f64-f5c3-4676-99e7-25d875cb287d",
   "metadata": {
    "tags": []
   },
   "outputs": [],
   "source": [
    "# glm_bin_pvalues.to_csv('../results/glm_pvalues_manyfeatures_severe_and_fatal_y.csv')"
   ]
  },
  {
   "cell_type": "markdown",
   "id": "106986ae-24c6-4ef9-ab42-43f66f0c0d0b",
   "metadata": {
    "tags": []
   },
   "source": [
    "## Trying again with modified predictor variables (notably aircraft family and city) using aviation_model class"
   ]
  },
  {
   "cell_type": "code",
   "execution_count": null,
   "id": "0e99fda9-0a25-4f91-9a1a-f47fa8e756c9",
   "metadata": {
    "tags": []
   },
   "outputs": [],
   "source": [
    "X_1b = df.drop(['ntsb_no', 'probable_cause', 'airport_name', 'event_type', 'mkey', 'n', 'has_safety_rec', 'report_type', 'highest_injury_level', 'fatal_injury_count', 'serious_injury_count', 'minor_injury_count', 'airport_id', 'far', 'aircraft_damage', 'operator', 'event_year', 'event_season', 'event_day', 'aircraft_category', 'has_injury', 'event_time','has_aircraft_damage', 'is_accident', 'make_model', 'make', 'model', 'has_fatal_injury', 'event_time_of_day', 'event_am_pm'], axis=1)"
   ]
  },
  {
   "cell_type": "code",
   "execution_count": null,
   "id": "1b2e845c-7cd6-4194-a383-4c23f0f150f5",
   "metadata": {
    "tags": []
   },
   "outputs": [],
   "source": [
    "# y = df['highest_injury_level']\n",
    "y = df['has_fatal_injury']"
   ]
  },
  {
   "cell_type": "code",
   "execution_count": null,
   "id": "07afe60c-8ffe-4081-9896-04728285fe1c",
   "metadata": {
    "tags": []
   },
   "outputs": [],
   "source": [
    "X_1b.columns"
   ]
  },
  {
   "cell_type": "code",
   "execution_count": null,
   "id": "451665c1-632c-4c10-a61e-425b0c42fc8b",
   "metadata": {
    "tags": []
   },
   "outputs": [],
   "source": [
    "glm1z = aviation_data_model(X_1b, y, [\n",
    "    ('city', 'first'),\n",
    "    ('scheduled', 'UNK'),\n",
    "    ('purpose_of_flight', 'UNK'),\n",
    "    ('weather_condition', 'Unknown'),\n",
    "    ('event_month', 'first'),\n",
    "    ('event_hour', 'first'),\n",
    "    ('aircraft_family', 'first')\n",
    "], test_size=0.2)"
   ]
  },
  {
   "cell_type": "code",
   "execution_count": null,
   "id": "3d6a5382-d50e-4ab4-8dc4-a8823c639a25",
   "metadata": {
    "tags": []
   },
   "outputs": [],
   "source": [
    "glm1z.fit_binomial()"
   ]
  },
  {
   "cell_type": "code",
   "execution_count": null,
   "id": "c1419be8-9ec7-4155-a14b-c5acdb713193",
   "metadata": {},
   "outputs": [],
   "source": [
    "y.mean()"
   ]
  },
  {
   "cell_type": "code",
   "execution_count": null,
   "id": "4b42e2ed-df64-427b-becd-9e5146ba68bb",
   "metadata": {
    "tags": []
   },
   "outputs": [],
   "source": [
    "glm_accuracy(glm1z.model, glm1z.X_test, glm1z.y_test)"
   ]
  },
  {
   "cell_type": "code",
   "execution_count": null,
   "id": "1f5730fb-4c3a-4b4c-86fa-7fe5f0a6d8b0",
   "metadata": {
    "tags": []
   },
   "outputs": [],
   "source": [
    "glm1z.pvalues.head(30)"
   ]
  },
  {
   "cell_type": "markdown",
   "id": "6d047412-02ad-4c2d-920e-556801b84dfc",
   "metadata": {},
   "source": [
    "## Third attempt introducing time_of_day"
   ]
  },
  {
   "cell_type": "code",
   "execution_count": null,
   "id": "099469ee-22c9-48f4-a9ba-58cff48ad9b7",
   "metadata": {
    "tags": []
   },
   "outputs": [],
   "source": [
    "X_1c = df.drop(['ntsb_no', 'probable_cause', 'airport_name', 'event_type', 'mkey', 'n', 'has_safety_rec', 'report_type', 'highest_injury_level', 'fatal_injury_count', 'serious_injury_count', 'minor_injury_count', 'airport_id', 'far', 'aircraft_damage', 'operator', 'event_year', 'event_season', 'event_day', 'aircraft_category', 'has_injury', 'event_time','has_aircraft_damage', 'is_accident', 'make_model', 'make', 'model', 'has_fatal_injury', 'event_hour', 'event_am_pm'], axis=1)"
   ]
  },
  {
   "cell_type": "code",
   "execution_count": null,
   "id": "b108e170-68cd-4386-8f6c-5a2acbec80a9",
   "metadata": {
    "tags": []
   },
   "outputs": [],
   "source": [
    "y = df['highest_injury_level']\n",
    "# y = df['has_fatal_injury']"
   ]
  },
  {
   "cell_type": "code",
   "execution_count": null,
   "id": "78c1e7d0-79f8-4940-9b75-e6120089d82c",
   "metadata": {
    "tags": []
   },
   "outputs": [],
   "source": [
    "X_1c.columns"
   ]
  },
  {
   "cell_type": "code",
   "execution_count": null,
   "id": "fe77a3c1-092b-49f8-bb19-ba8c27a0ece5",
   "metadata": {
    "tags": []
   },
   "outputs": [],
   "source": [
    "glm1y = aviation_data_model(X_1c, y, [\n",
    "    ('city', 'first'),\n",
    "    ('scheduled', 'UNK'),\n",
    "    ('purpose_of_flight', 'UNK'),\n",
    "    ('weather_condition', 'Unknown'),\n",
    "    ('event_month', 'first'),\n",
    "    ('event_time_of_day', 'first'),\n",
    "    ('aircraft_family', 'first')\n",
    "], test_size=0.2)"
   ]
  },
  {
   "cell_type": "code",
   "execution_count": null,
   "id": "1e51dc31-d1ac-41ed-bf16-2cbc7b1f2af2",
   "metadata": {
    "tags": []
   },
   "outputs": [],
   "source": [
    "glm1y.fit_binomial()"
   ]
  },
  {
   "cell_type": "code",
   "execution_count": null,
   "id": "ada8941b-4d68-4602-9063-a71421b1728b",
   "metadata": {
    "tags": []
   },
   "outputs": [],
   "source": [
    "1 - y.mean()"
   ]
  },
  {
   "cell_type": "code",
   "execution_count": null,
   "id": "c7caf1e5-1a71-435a-8f70-c74e7a67686e",
   "metadata": {
    "tags": []
   },
   "outputs": [],
   "source": [
    "glm_accuracy(glm1y.model, glm1y.X_test, glm1y.y_test)"
   ]
  },
  {
   "cell_type": "code",
   "execution_count": null,
   "id": "b51d9107-2306-42a3-8500-22c0eb4f1051",
   "metadata": {
    "tags": []
   },
   "outputs": [],
   "source": [
    "glm1y.pvalues.head(30)"
   ]
  },
  {
   "cell_type": "code",
   "execution_count": null,
   "id": "ab00b960-6893-4df8-8e01-91a29200acdf",
   "metadata": {
    "tags": []
   },
   "outputs": [],
   "source": [
    "# glm1y.pvalues.to_csv('../results/glm_pvalues_largefeatureset3_severe_and_fatal_y_acc836.csv')"
   ]
  },
  {
   "cell_type": "code",
   "execution_count": null,
   "id": "9cd8d278-308d-4586-a744-5bdd71061d6c",
   "metadata": {
    "tags": []
   },
   "outputs": [],
   "source": [
    "y_pred_proba = glm1y.model.predict(glm1y.X_test)"
   ]
  },
  {
   "cell_type": "code",
   "execution_count": null,
   "id": "9091f97f-cd31-421f-80bc-0681e8a48195",
   "metadata": {
    "tags": []
   },
   "outputs": [],
   "source": [
    "y_pred = np.where(y_pred_proba >= 0.5, 1, 0)"
   ]
  },
  {
   "cell_type": "markdown",
   "id": "d2271e3b-4b0d-4ece-91be-35e5acfae80c",
   "metadata": {},
   "source": [
    "## Fourth attempt swapping time_of_day to AM/PM"
   ]
  },
  {
   "cell_type": "code",
   "execution_count": null,
   "id": "95286c1a-90cb-420a-be5d-3acc8868d6c1",
   "metadata": {
    "tags": []
   },
   "outputs": [],
   "source": [
    "X_1d = df.drop(['ntsb_no', 'probable_cause', 'airport_name', 'event_type', 'mkey', 'n', 'has_safety_rec', 'report_type', 'highest_injury_level', 'fatal_injury_count', 'serious_injury_count', 'minor_injury_count', 'airport_id', 'far', 'aircraft_damage', 'operator', 'event_year', 'event_season', 'event_day', 'aircraft_category', 'has_injury', 'event_time','has_aircraft_damage', 'is_accident', 'make_model', 'make', 'model', 'has_fatal_injury', 'event_hour', 'event_time_of_day'], axis=1)"
   ]
  },
  {
   "cell_type": "code",
   "execution_count": null,
   "id": "5711994f-a1a6-4206-be63-ebff74f730c3",
   "metadata": {
    "tags": []
   },
   "outputs": [],
   "source": [
    "y = df['highest_injury_level']\n",
    "#y = df['has_fatal_injury']"
   ]
  },
  {
   "cell_type": "code",
   "execution_count": null,
   "id": "d5ee186a-3f0c-4d67-86fe-75aba47de579",
   "metadata": {
    "tags": []
   },
   "outputs": [],
   "source": [
    "X_1d.columns"
   ]
  },
  {
   "cell_type": "code",
   "execution_count": null,
   "id": "e31ac3a8-fe03-4ed1-8099-39250eb9d09a",
   "metadata": {
    "tags": []
   },
   "outputs": [],
   "source": [
    "glm1p = aviation_data_model(X_1d, y, [\n",
    "    ('city', 'first'),\n",
    "    ('scheduled', 'UNK'),\n",
    "    ('purpose_of_flight', 'UNK'),\n",
    "    ('weather_condition', 'Unknown'),\n",
    "    ('event_month', 'first'),\n",
    "    ('event_am_pm', 'first'),\n",
    "    ('aircraft_family', 'first')\n",
    "], test_size=0.2)"
   ]
  },
  {
   "cell_type": "code",
   "execution_count": null,
   "id": "d8a11cc8-2dd0-4469-8a89-4c370613e3b0",
   "metadata": {
    "tags": []
   },
   "outputs": [],
   "source": [
    "glm1p.fit_binomial()"
   ]
  },
  {
   "cell_type": "code",
   "execution_count": null,
   "id": "8d12b428-d8a9-4f52-9f54-dd8cdd62a754",
   "metadata": {
    "tags": []
   },
   "outputs": [],
   "source": [
    "1 - y.mean()"
   ]
  },
  {
   "cell_type": "code",
   "execution_count": null,
   "id": "03346ce5-cb6b-4044-9ebb-e849fb77471e",
   "metadata": {
    "tags": []
   },
   "outputs": [],
   "source": [
    "glm_accuracy(glm1p.model, glm1p.X_test, glm1p.y_test)"
   ]
  },
  {
   "cell_type": "code",
   "execution_count": null,
   "id": "a9f60071-6347-46db-a6a6-890a7b4cfcde",
   "metadata": {
    "tags": []
   },
   "outputs": [],
   "source": [
    "glm1p.pvalues.head(30)"
   ]
  },
  {
   "cell_type": "markdown",
   "id": "ecb2215f-fec1-4e7b-b05e-125131caec64",
   "metadata": {},
   "source": [
    "### Confusion Matrix Check In"
   ]
  },
  {
   "cell_type": "code",
   "execution_count": null,
   "id": "c651c346-928d-422b-bf7f-73814c4df17b",
   "metadata": {
    "tags": []
   },
   "outputs": [],
   "source": [
    "# glm1p.pvalues.to_csv('../results/glm_pvalues_largefeatureset4_severe_and_fatal_y_acc838.csv')"
   ]
  },
  {
   "cell_type": "code",
   "execution_count": null,
   "id": "9ae8023a-fdd8-4046-93e6-def897d95110",
   "metadata": {
    "tags": []
   },
   "outputs": [],
   "source": [
    "y_pred_proba = glm1p.model.predict(glm1p.X_test)"
   ]
  },
  {
   "cell_type": "code",
   "execution_count": null,
   "id": "5715ee73-13f4-44aa-8786-61e34d0f12fe",
   "metadata": {
    "tags": []
   },
   "outputs": [],
   "source": [
    "y_pred = np.where(y_pred_proba >= 0.5, 1, 0)"
   ]
  },
  {
   "cell_type": "code",
   "execution_count": null,
   "id": "f35458af-5aeb-4787-b01a-062d5d6e38d2",
   "metadata": {},
   "outputs": [],
   "source": [
    "    def plot_confusion_matrix(y_true, y_pred, title=\"Confusion Matrix\"):\n",
    "      \n",
    "        matrix = confusion_matrix(y_true, y_pred)\n",
    "        plt.figure(figsize=(10,7))\n",
    "        sns.heatmap(matrix, annot=True, fmt='g', cmap=\"Blues\", \n",
    "                    xticklabels=['Predicted No Fatalities', 'Predicted Fatalities'], \n",
    "                    yticklabels=['Actually No Fatalities', 'Actually Had Fatalities'])\n",
    "        plt.title(title)\n",
    "        plt.show()"
   ]
  },
  {
   "cell_type": "code",
   "execution_count": null,
   "id": "ddcedbd7-6041-403a-ba5e-b6cc2fb6e8fb",
   "metadata": {
    "tags": []
   },
   "outputs": [],
   "source": [
    "plot_confusion_matrix(glm1z.y_test, y_pred)"
   ]
  },
  {
   "cell_type": "markdown",
   "id": "2253dbb6-9400-4408-a1a4-6e0580a4f779",
   "metadata": {
    "tags": []
   },
   "source": [
    "## Rapid Fire P Values"
   ]
  },
  {
   "cell_type": "markdown",
   "id": "0c336168-72df-457d-bf5a-d09b643f05fe",
   "metadata": {},
   "source": [
    "## 1 - Weather Condition"
   ]
  },
  {
   "cell_type": "code",
   "execution_count": null,
   "id": "f58f5b27-5231-43d4-bf06-1a5a0c598396",
   "metadata": {
    "tags": []
   },
   "outputs": [],
   "source": [
    "y = df['highest_injury_level']"
   ]
  },
  {
   "cell_type": "code",
   "execution_count": null,
   "id": "35a3dda3-4420-4568-884a-a4574c2c61af",
   "metadata": {},
   "outputs": [],
   "source": [
    "X = df[['weather_condition']]"
   ]
  },
  {
   "cell_type": "code",
   "execution_count": null,
   "id": "81cac2e9-24b9-4905-bb1e-a7c945ec8927",
   "metadata": {
    "tags": []
   },
   "outputs": [],
   "source": [
    "X.dtypes"
   ]
  },
  {
   "cell_type": "code",
   "execution_count": null,
   "id": "a6bb4fce-bace-4ecc-a062-87704a8c070d",
   "metadata": {
    "tags": []
   },
   "outputs": [],
   "source": [
    "y.value_counts()"
   ]
  },
  {
   "cell_type": "code",
   "execution_count": null,
   "id": "2b085da0-060a-4687-81b4-b97633fd664c",
   "metadata": {
    "tags": []
   },
   "outputs": [],
   "source": [
    "# X['purpose_of_flight'].value_counts()"
   ]
  },
  {
   "cell_type": "code",
   "execution_count": null,
   "id": "f4c0b3b6-1830-4f91-8a18-4df29846338f",
   "metadata": {
    "tags": []
   },
   "outputs": [],
   "source": [
    "glm1a = aviation_data_model(X, y,[\n",
    "    ('weather_condition', 'Unknown')\n",
    "])"
   ]
  },
  {
   "cell_type": "code",
   "execution_count": null,
   "id": "8678182a-2164-4de4-be11-f1597a67ddbb",
   "metadata": {
    "tags": []
   },
   "outputs": [],
   "source": [
    "glm1a.fit_binomial()"
   ]
  },
  {
   "cell_type": "code",
   "execution_count": null,
   "id": "ba54f148-62bb-4fce-a749-d9da38a0ab31",
   "metadata": {
    "tags": []
   },
   "outputs": [],
   "source": [
    "# glm1a.pvalues.to_csv('../results/glm_pvalues_weather_severe_and_fatal_y.csv')"
   ]
  },
  {
   "cell_type": "code",
   "execution_count": null,
   "id": "54f6bac2-98bc-4f0c-8d43-6e7142462769",
   "metadata": {
    "tags": []
   },
   "outputs": [],
   "source": [
    "np.exp(glm1a.model.params)"
   ]
  },
  {
   "cell_type": "markdown",
   "id": "7bdf5f91-6ba0-4c34-a272-f4f1c14de7db",
   "metadata": {
    "tags": []
   },
   "source": [
    "## 2 - Aircraft Family"
   ]
  },
  {
   "cell_type": "code",
   "execution_count": null,
   "id": "f1b9e0ff-8f6b-497b-97d7-b723d9b460e3",
   "metadata": {},
   "outputs": [],
   "source": [
    "X_2 = df[['aircraft_family']]"
   ]
  },
  {
   "cell_type": "code",
   "execution_count": null,
   "id": "ed7780f0-4be4-49ee-95bf-8f3ad7736533",
   "metadata": {
    "tags": []
   },
   "outputs": [],
   "source": [
    "y = df['highest_injury_level']"
   ]
  },
  {
   "cell_type": "code",
   "execution_count": null,
   "id": "b67a6ca2-60af-4008-920d-d895cc8c33ad",
   "metadata": {
    "tags": []
   },
   "outputs": [],
   "source": [
    "glm2a = aviation_data_model(X_2, y, drop_categories=[('aircraft_family', 'first')])"
   ]
  },
  {
   "cell_type": "code",
   "execution_count": null,
   "id": "edcb2a38-1670-473c-bfc9-bde180318d5a",
   "metadata": {
    "tags": []
   },
   "outputs": [],
   "source": [
    "glm2a.fit_binomial()"
   ]
  },
  {
   "cell_type": "code",
   "execution_count": null,
   "id": "93307828-b913-405e-9e24-868656466ab4",
   "metadata": {
    "tags": []
   },
   "outputs": [],
   "source": [
    "glm2a_pvalues = glm2a.pvalues"
   ]
  },
  {
   "cell_type": "code",
   "execution_count": null,
   "id": "ec845a2a-0e95-4b9c-9dc8-05652195945c",
   "metadata": {
    "tags": []
   },
   "outputs": [],
   "source": [
    "glm2a_pvalues.head(10)"
   ]
  },
  {
   "cell_type": "code",
   "execution_count": null,
   "id": "8db98d77-897a-48a0-844f-4e5e6ba58cea",
   "metadata": {
    "tags": []
   },
   "outputs": [],
   "source": [
    "# glm2a_pvalues.to_csv('../results/glm_pvalues_aircraftfamily_severe_and_fatal_y.csv')"
   ]
  },
  {
   "cell_type": "markdown",
   "id": "c3d63fc5-9b8c-4d5d-8f77-d48437dede78",
   "metadata": {},
   "source": [
    "## 3 - Latitude and Longitude"
   ]
  },
  {
   "cell_type": "code",
   "execution_count": null,
   "id": "e8b207e9-91ba-417e-aa8d-d1bdca46a5b3",
   "metadata": {},
   "outputs": [],
   "source": [
    "X_3 = df[['latitude', 'longitude']]"
   ]
  },
  {
   "cell_type": "code",
   "execution_count": null,
   "id": "ed620e95-d582-4acc-9f35-6dc456039101",
   "metadata": {
    "tags": []
   },
   "outputs": [],
   "source": [
    "y = df['highest_injury_level']"
   ]
  },
  {
   "cell_type": "code",
   "execution_count": null,
   "id": "dc832669-3183-48b9-9739-71cf8823ab32",
   "metadata": {
    "tags": []
   },
   "outputs": [],
   "source": [
    "glm3a = aviation_data_model(X_3, y)"
   ]
  },
  {
   "cell_type": "code",
   "execution_count": null,
   "id": "7a557bb9-1d1e-46f1-b031-cebda9d16454",
   "metadata": {
    "tags": []
   },
   "outputs": [],
   "source": [
    "X_3.dtypes"
   ]
  },
  {
   "cell_type": "code",
   "execution_count": null,
   "id": "8d2d8ba5-30a5-4a70-9e98-aa3a0f89406f",
   "metadata": {
    "tags": []
   },
   "outputs": [],
   "source": [
    "glm3a.fit_binomial()"
   ]
  },
  {
   "cell_type": "code",
   "execution_count": null,
   "id": "2d461dd2-e79d-43c0-bf7d-ff1beeef846c",
   "metadata": {
    "tags": []
   },
   "outputs": [],
   "source": [
    "glm3a.pvalues"
   ]
  },
  {
   "cell_type": "markdown",
   "id": "d9a338a2-0ef9-4cf9-a8b5-dd028da23757",
   "metadata": {},
   "source": [
    "## 4 - City"
   ]
  },
  {
   "cell_type": "code",
   "execution_count": null,
   "id": "cb04028c-d2bb-495b-b366-e2f879c828b0",
   "metadata": {
    "tags": []
   },
   "outputs": [],
   "source": [
    "X_4 = df[['city']]"
   ]
  },
  {
   "cell_type": "code",
   "execution_count": null,
   "id": "1302738d-1f5f-4221-8f1d-cab4d916f992",
   "metadata": {
    "tags": []
   },
   "outputs": [],
   "source": [
    "y = df['highest_injury_level']"
   ]
  },
  {
   "cell_type": "code",
   "execution_count": null,
   "id": "562e6e3a-b053-4098-a833-386c320be4c2",
   "metadata": {
    "tags": []
   },
   "outputs": [],
   "source": [
    "glm4a = aviation_data_model(X_4, y, [\n",
    "    ('city', 'first')\n",
    "])"
   ]
  },
  {
   "cell_type": "code",
   "execution_count": null,
   "id": "762227fc-bd56-41d3-b40c-906ab700658f",
   "metadata": {
    "tags": []
   },
   "outputs": [],
   "source": [
    "glm4a.fit_binomial()"
   ]
  },
  {
   "cell_type": "code",
   "execution_count": null,
   "id": "b03a44df-edb1-48f3-8868-53e94000e66d",
   "metadata": {
    "tags": []
   },
   "outputs": [],
   "source": [
    "glm4a.pvalues"
   ]
  },
  {
   "cell_type": "code",
   "execution_count": null,
   "id": "4e3ebfb7-f940-4aca-bb82-6ce90db8d7ce",
   "metadata": {
    "tags": []
   },
   "outputs": [],
   "source": [
    "1 - y.mean()"
   ]
  },
  {
   "cell_type": "code",
   "execution_count": null,
   "id": "11ce3636-90fb-45df-a13f-5c088a52e946",
   "metadata": {},
   "outputs": [],
   "source": [
    "glm_accuracy(glm4a.model, glm4a.X_test, glm4a.y_test)"
   ]
  },
  {
   "cell_type": "markdown",
   "id": "a48dea3a-69c6-4ea2-bb78-3fee352234c3",
   "metadata": {},
   "source": [
    "## Try out p values again but with modified y (any injury)"
   ]
  },
  {
   "cell_type": "markdown",
   "id": "d8027349-e624-4976-9389-a25bcf0af1f3",
   "metadata": {},
   "source": [
    "## 5 - Weather Condition"
   ]
  },
  {
   "cell_type": "code",
   "execution_count": null,
   "id": "efc52e6a-9dc2-4078-8a41-dcc5efcb1cd7",
   "metadata": {
    "tags": []
   },
   "outputs": [],
   "source": [
    "y = df['has_injury']"
   ]
  },
  {
   "cell_type": "code",
   "execution_count": null,
   "id": "d04d47de-fe45-4d53-be80-be4ba1d8d04f",
   "metadata": {},
   "outputs": [],
   "source": [
    "X_5 = df[['weather_condition']]"
   ]
  },
  {
   "cell_type": "code",
   "execution_count": null,
   "id": "01ae37f1-e9f2-407b-8683-702e83a9a078",
   "metadata": {
    "tags": []
   },
   "outputs": [],
   "source": [
    "X.dtypes"
   ]
  },
  {
   "cell_type": "code",
   "execution_count": null,
   "id": "ed5bca30-17a1-4b33-adfc-2d08082a51b2",
   "metadata": {
    "tags": []
   },
   "outputs": [],
   "source": [
    "y.value_counts()"
   ]
  },
  {
   "cell_type": "code",
   "execution_count": null,
   "id": "c7237ae7-9c34-4cfe-8adb-8aaf9591076b",
   "metadata": {
    "tags": []
   },
   "outputs": [],
   "source": [
    "# X['purpose_of_flight'].value_counts()"
   ]
  },
  {
   "cell_type": "code",
   "execution_count": null,
   "id": "790207ca-9360-403a-82a1-3cf882b180a2",
   "metadata": {
    "tags": []
   },
   "outputs": [],
   "source": [
    "glm5a = aviation_data_model(X_5, y,[\n",
    "    ('weather_condition', 'VMC')\n",
    "])"
   ]
  },
  {
   "cell_type": "code",
   "execution_count": null,
   "id": "f4063fab-9639-4cb9-ad95-a99de398df09",
   "metadata": {
    "tags": []
   },
   "outputs": [],
   "source": [
    "glm5a.fit_binomial()"
   ]
  },
  {
   "cell_type": "code",
   "execution_count": null,
   "id": "91042343-4905-4d91-93d9-e67b5c2b2208",
   "metadata": {
    "tags": []
   },
   "outputs": [],
   "source": [
    "glm5a.pvalues"
   ]
  },
  {
   "cell_type": "code",
   "execution_count": null,
   "id": "673247cc-0987-4d16-8000-20b6caa189ce",
   "metadata": {
    "tags": []
   },
   "outputs": [],
   "source": [
    "# glm1a.pvalues.to_csv('../results/glm_pvalues_weather_severe_and_fatal_y.csv')"
   ]
  },
  {
   "cell_type": "code",
   "execution_count": null,
   "id": "8f662fcd-ceb7-493c-a8f3-e05215130557",
   "metadata": {
    "tags": []
   },
   "outputs": [],
   "source": [
    "np.exp(glm5a.model.params)"
   ]
  },
  {
   "cell_type": "code",
   "execution_count": null,
   "id": "c6851f52-b8e4-4111-ac71-2ecc7921b67b",
   "metadata": {
    "tags": []
   },
   "outputs": [],
   "source": [
    "glm_accuracy(glm5a.model, glm5a.X_test, glm5a.y_test)"
   ]
  },
  {
   "cell_type": "markdown",
   "id": "49546f23-0892-48f6-b9c8-eba64b62c8e1",
   "metadata": {
    "tags": []
   },
   "source": [
    "## 6 - Aircraft Family"
   ]
  },
  {
   "cell_type": "code",
   "execution_count": null,
   "id": "08878f01-2208-4b12-8866-846c15f9715d",
   "metadata": {},
   "outputs": [],
   "source": [
    "X_6 = df[['aircraft_family']]"
   ]
  },
  {
   "cell_type": "code",
   "execution_count": null,
   "id": "1f5b8d87-6f8f-4510-8473-5531c41d4a10",
   "metadata": {
    "tags": []
   },
   "outputs": [],
   "source": [
    "y = df['has_injury']"
   ]
  },
  {
   "cell_type": "code",
   "execution_count": null,
   "id": "4f4aa67c-eb00-4a19-9a12-ec17063365ea",
   "metadata": {
    "tags": []
   },
   "outputs": [],
   "source": [
    "glm6a = aviation_data_model(X_6, y, drop_categories=[('aircraft_family', 'first')])"
   ]
  },
  {
   "cell_type": "code",
   "execution_count": null,
   "id": "98ae4a8d-9ccc-4b63-80f3-856f5f90e70a",
   "metadata": {
    "tags": []
   },
   "outputs": [],
   "source": [
    "glm6a.fit_binomial()"
   ]
  },
  {
   "cell_type": "code",
   "execution_count": null,
   "id": "8a017a47-45c1-4f95-99b1-f20e67c8bd3e",
   "metadata": {
    "tags": []
   },
   "outputs": [],
   "source": [
    "glm6a_pvalues = glm6a.pvalues"
   ]
  },
  {
   "cell_type": "code",
   "execution_count": null,
   "id": "1858aee5-67a6-4a3e-9c13-c65f0138912d",
   "metadata": {
    "tags": []
   },
   "outputs": [],
   "source": [
    "glm6a_pvalues.head(10)"
   ]
  },
  {
   "cell_type": "code",
   "execution_count": null,
   "id": "7c48fef5-d5b1-42bb-b6c9-3fbbba84e5b7",
   "metadata": {
    "tags": []
   },
   "outputs": [],
   "source": [
    "# glm2a_pvalues.to_csv('../results/glm_pvalues_aircraftfamily_severe_and_fatal_y.csv')"
   ]
  },
  {
   "cell_type": "code",
   "execution_count": null,
   "id": "3ce31e6f-57c7-4e77-9a40-56e7cdc4721c",
   "metadata": {
    "tags": []
   },
   "outputs": [],
   "source": [
    "glm_accuracy(glm6a.model, glm6a.X_test, glm6a.y_test)"
   ]
  },
  {
   "cell_type": "markdown",
   "id": "24723d55-77a9-466e-8d53-9fff004d61a0",
   "metadata": {},
   "source": [
    "## 7 - Latitude and Longitude"
   ]
  },
  {
   "cell_type": "code",
   "execution_count": null,
   "id": "52cf0eef-c862-4e3d-9c32-4a27569f268d",
   "metadata": {},
   "outputs": [],
   "source": [
    "X_7 = df[['latitude', 'longitude']]"
   ]
  },
  {
   "cell_type": "code",
   "execution_count": null,
   "id": "e49465dc-6634-4c79-b037-d77400b8eb7a",
   "metadata": {
    "tags": []
   },
   "outputs": [],
   "source": [
    "y = df['has_injury']"
   ]
  },
  {
   "cell_type": "code",
   "execution_count": null,
   "id": "cc08a76f-5099-4e07-8977-6611b2988c41",
   "metadata": {
    "tags": []
   },
   "outputs": [],
   "source": [
    "glm7a = aviation_data_model(X_7, y)"
   ]
  },
  {
   "cell_type": "code",
   "execution_count": null,
   "id": "4eb9f4a8-ec12-406a-889f-6d26fe6ffe59",
   "metadata": {
    "tags": []
   },
   "outputs": [],
   "source": [
    "X_7.dtypes"
   ]
  },
  {
   "cell_type": "code",
   "execution_count": null,
   "id": "9d0dcf4e-5ff8-40bb-88a9-798829769483",
   "metadata": {
    "tags": []
   },
   "outputs": [],
   "source": [
    "glm7a.fit_binomial()"
   ]
  },
  {
   "cell_type": "code",
   "execution_count": null,
   "id": "a5db535e-c559-4468-880a-3a1b4c2f2d1f",
   "metadata": {
    "tags": []
   },
   "outputs": [],
   "source": [
    "glm7a.pvalues"
   ]
  },
  {
   "cell_type": "code",
   "execution_count": null,
   "id": "8bdd2641-76e5-4c09-96cd-58c5661e5200",
   "metadata": {
    "tags": []
   },
   "outputs": [],
   "source": [
    "glm_accuracy(glm7a.model, glm7a.X_test, glm7a.y_test)"
   ]
  },
  {
   "cell_type": "markdown",
   "id": "0aa9dab7-0a11-4ef2-8b00-8c68a0a8dbed",
   "metadata": {},
   "source": [
    "## 8 - City"
   ]
  },
  {
   "cell_type": "code",
   "execution_count": null,
   "id": "307883ad-5f90-455b-a5a0-dcb0567e4572",
   "metadata": {
    "tags": []
   },
   "outputs": [],
   "source": [
    "X_8 = df[['city']]"
   ]
  },
  {
   "cell_type": "code",
   "execution_count": null,
   "id": "caf56bb3-f5e6-40da-acaa-4d2fbae9e308",
   "metadata": {
    "tags": []
   },
   "outputs": [],
   "source": [
    "y = df['has_injury']"
   ]
  },
  {
   "cell_type": "code",
   "execution_count": null,
   "id": "d9c579b0-7976-49c5-bd8c-823e7a4375cc",
   "metadata": {
    "tags": []
   },
   "outputs": [],
   "source": [
    "glm8a = aviation_data_model(X_8, y, [\n",
    "    ('city', 'first')\n",
    "])"
   ]
  },
  {
   "cell_type": "code",
   "execution_count": null,
   "id": "8c1495c2-c7e1-4f60-bea4-6b2b814f887e",
   "metadata": {
    "tags": []
   },
   "outputs": [],
   "source": [
    "glm8a.fit_binomial()"
   ]
  },
  {
   "cell_type": "code",
   "execution_count": null,
   "id": "6a02f2cd-e9e2-453c-9d4e-f587fca9d4e2",
   "metadata": {
    "tags": []
   },
   "outputs": [],
   "source": [
    "glm8a.pvalues"
   ]
  },
  {
   "cell_type": "code",
   "execution_count": null,
   "id": "d85f940b-21e9-4e70-9a22-b4b1b110714f",
   "metadata": {
    "tags": []
   },
   "outputs": [],
   "source": [
    "glm_accuracy(glm8a.model, glm8a.X_test, glm8a.y_test)"
   ]
  }
 ],
 "metadata": {
  "kernelspec": {
   "display_name": "Python 3 (ipykernel)",
   "language": "python",
   "name": "python3"
  },
  "language_info": {
   "codemirror_mode": {
    "name": "ipython",
    "version": 3
   },
   "file_extension": ".py",
   "mimetype": "text/x-python",
   "name": "python",
   "nbconvert_exporter": "python",
   "pygments_lexer": "ipython3",
   "version": "3.11.5"
  }
 },
 "nbformat": 4,
 "nbformat_minor": 5
}
