{
 "cells": [
  {
   "cell_type": "markdown",
   "id": "6669c2d7-6ce1-44e4-8f41-ed10831d74d1",
   "metadata": {
    "tags": []
   },
   "source": [
    "# Cleaning"
   ]
  },
  {
   "cell_type": "code",
   "execution_count": 1,
   "id": "41dc552c-5763-472d-9f0f-c709db4da421",
   "metadata": {
    "tags": []
   },
   "outputs": [],
   "source": [
    "import pandas as pd\n",
    "import numpy as np\n",
    "import re\n",
    "\n",
    "# pd.set_option('display.max_rows', None)\n",
    "pd.set_option('display.max_columns', None)\n",
    "# pd.reset_option('display.max_rows')\n",
    "# pd.reset_option('display.max_columns')"
   ]
  },
  {
   "cell_type": "code",
   "execution_count": 2,
   "id": "05905ded-0b8e-4839-a31e-29a864402559",
   "metadata": {
    "tags": []
   },
   "outputs": [],
   "source": [
    "ak = pd.read_csv('../datasets/alaska_single_engine.csv', low_memory=False)"
   ]
  },
  {
   "cell_type": "code",
   "execution_count": 3,
   "id": "e3697cbc-c458-4d4e-80da-ba1c415e8832",
   "metadata": {
    "tags": []
   },
   "outputs": [
    {
     "data": {
      "text/plain": [
       "Unnamed: 0               int64\n",
       "NtsbNo                  object\n",
       "EventType               object\n",
       "Mkey                     int64\n",
       "EventDate               object\n",
       "City                    object\n",
       "State                   object\n",
       "Country                 object\n",
       "ReportNo                object\n",
       "N                       object\n",
       "HasSafetyRec              bool\n",
       "ReportType              object\n",
       "OriginalPublishDate     object\n",
       "HighestInjuryLevel      object\n",
       "FatalInjuryCount         int64\n",
       "SeriousInjuryCount       int64\n",
       "MinorInjuryCount         int64\n",
       "ProbableCause           object\n",
       "EventID                float64\n",
       "Latitude               float64\n",
       "Longitude              float64\n",
       "Make                    object\n",
       "Model                   object\n",
       "AirCraftCategory        object\n",
       "AirportID               object\n",
       "AirportName             object\n",
       "AmateurBuilt            object\n",
       "NumberOfEngines         object\n",
       "Scheduled               object\n",
       "PurposeOfFlight         object\n",
       "FAR                     object\n",
       "AirCraftDamage          object\n",
       "WeatherCondition        object\n",
       "Operator                object\n",
       "ReportStatus            object\n",
       "RepGenFlag                bool\n",
       "DocketUrl               object\n",
       "DocketPublishDate       object\n",
       "Unnamed: 37            float64\n",
       "dtype: object"
      ]
     },
     "execution_count": 3,
     "metadata": {},
     "output_type": "execute_result"
    }
   ],
   "source": [
    "ak.dtypes"
   ]
  },
  {
   "cell_type": "code",
   "execution_count": 4,
   "id": "85b8c093-13ca-4ab7-86f2-cc9ba67554a6",
   "metadata": {
    "tags": []
   },
   "outputs": [
    {
     "data": {
      "text/plain": [
       "Unnamed: 0                0\n",
       "NtsbNo                    0\n",
       "EventType                 0\n",
       "Mkey                      0\n",
       "EventDate                 0\n",
       "City                      0\n",
       "State                     0\n",
       "Country                   0\n",
       "ReportNo               5645\n",
       "N                         0\n",
       "HasSafetyRec              0\n",
       "ReportType               22\n",
       "OriginalPublishDate     885\n",
       "HighestInjuryLevel     4044\n",
       "FatalInjuryCount          0\n",
       "SeriousInjuryCount        0\n",
       "MinorInjuryCount          0\n",
       "ProbableCause          1452\n",
       "EventID                5659\n",
       "Latitude                  0\n",
       "Longitude                 0\n",
       "Make                      0\n",
       "Model                     1\n",
       "AirCraftCategory          0\n",
       "AirportID              3510\n",
       "AirportName            3196\n",
       "AmateurBuilt              0\n",
       "NumberOfEngines           0\n",
       "Scheduled              4342\n",
       "PurposeOfFlight         414\n",
       "FAR                       0\n",
       "AirCraftDamage           52\n",
       "WeatherCondition         20\n",
       "Operator               2842\n",
       "ReportStatus              0\n",
       "RepGenFlag                0\n",
       "DocketUrl              4283\n",
       "DocketPublishDate      4283\n",
       "Unnamed: 37            5659\n",
       "dtype: int64"
      ]
     },
     "execution_count": 4,
     "metadata": {},
     "output_type": "execute_result"
    }
   ],
   "source": [
    "ak.isna().sum()"
   ]
  },
  {
   "cell_type": "code",
   "execution_count": 5,
   "id": "bc1daca8-a516-442a-87e4-b2954228b4d5",
   "metadata": {},
   "outputs": [
    {
     "data": {
      "text/plain": [
       "(5659, 39)"
      ]
     },
     "execution_count": 5,
     "metadata": {},
     "output_type": "execute_result"
    }
   ],
   "source": [
    "ak.shape"
   ]
  },
  {
   "cell_type": "markdown",
   "id": "b952d0f7-0bc9-4856-a296-3f914da1af9e",
   "metadata": {
    "tags": []
   },
   "source": [
    "## Data Cleaning"
   ]
  },
  {
   "cell_type": "code",
   "execution_count": 6,
   "id": "1a34d837-0776-49ad-9233-0cdf5742e828",
   "metadata": {
    "tags": []
   },
   "outputs": [],
   "source": [
    "ak_clean = ak"
   ]
  },
  {
   "cell_type": "code",
   "execution_count": 7,
   "id": "bf30d559-7590-47f6-9100-90799014d374",
   "metadata": {
    "tags": []
   },
   "outputs": [],
   "source": [
    "# drop unnecessary columns\n",
    "ak_clean = ak_clean.drop(['Unnamed: 0', 'Unnamed: 37', 'DocketUrl', 'DocketPublishDate', 'State', 'OriginalPublishDate', 'NumberOfEngines', 'ReportNo', 'Country', 'EventID', 'ReportStatus', 'RepGenFlag'], axis=1)"
   ]
  },
  {
   "cell_type": "code",
   "execution_count": 8,
   "id": "15fee45c-9fab-4731-b880-b67721e332f5",
   "metadata": {
    "tags": []
   },
   "outputs": [],
   "source": [
    "def camel_to_snake(column_name):\n",
    "    result = []\n",
    "    i = 0\n",
    "\n",
    "    while i < len(column_name):\n",
    "        if column_name[i].isupper():\n",
    "            if i > 0 and not column_name[i - 1].isupper():\n",
    "                result.append('_')\n",
    "            result.append(column_name[i].lower())\n",
    "        else:\n",
    "            result.append(column_name[i])\n",
    "        i += 1\n",
    "\n",
    "    return ''.join(result)"
   ]
  },
  {
   "cell_type": "code",
   "execution_count": 9,
   "id": "9ecbaf76-e039-49f6-bd19-1442c071f008",
   "metadata": {
    "tags": []
   },
   "outputs": [],
   "source": [
    "# camel to snake case feature names\n",
    "ak_clean.columns = [camel_to_snake(column) for column in ak_clean.columns]"
   ]
  },
  {
   "cell_type": "code",
   "execution_count": 10,
   "id": "b8c3d499-6030-448a-8938-ee24774d8fe0",
   "metadata": {},
   "outputs": [],
   "source": [
    "ak_clean.rename(columns={'air_craft_category': 'aircraft_category', 'air_craft_damage': 'aircraft_damage'}, inplace=True)"
   ]
  },
  {
   "cell_type": "code",
   "execution_count": 11,
   "id": "da499355-a01f-45fd-9488-91ebc39e5191",
   "metadata": {
    "tags": []
   },
   "outputs": [],
   "source": [
    "# select multi-aircraft_columns\n",
    "comma_columns = ['n', 'make', 'model', 'aircraft_category', 'purpose_of_flight', 'far', 'aircraft_damage', 'operator', 'amateur_built']\n",
    "mask = ak_clean[comma_columns].apply(lambda x: all(',' in val for val in x), axis=1)"
   ]
  },
  {
   "cell_type": "code",
   "execution_count": 12,
   "id": "7d471436-f37f-4a09-8310-d0b759395158",
   "metadata": {
    "tags": []
   },
   "outputs": [
    {
     "data": {
      "text/plain": [
       "False    5590\n",
       "True       69\n",
       "Name: count, dtype: int64"
      ]
     },
     "execution_count": 12,
     "metadata": {},
     "output_type": "execute_result"
    }
   ],
   "source": [
    "mask.value_counts()"
   ]
  },
  {
   "cell_type": "code",
   "execution_count": 13,
   "id": "d72faef5-a57e-44a8-bf3a-fcf0d870770b",
   "metadata": {},
   "outputs": [],
   "source": [
    "# drop multi-aircraft rows\n",
    "ak_clean = ak_clean[-mask]\n",
    "ak_clean.reset_index(drop=True, inplace=True)"
   ]
  },
  {
   "cell_type": "code",
   "execution_count": 14,
   "id": "361ac1ee-96bd-414c-af4e-a11e65c3b23a",
   "metadata": {},
   "outputs": [
    {
     "data": {
      "text/plain": [
       "(5590, 27)"
      ]
     },
     "execution_count": 14,
     "metadata": {},
     "output_type": "execute_result"
    }
   ],
   "source": [
    "ak_clean.shape"
   ]
  },
  {
   "cell_type": "code",
   "execution_count": 15,
   "id": "4a1ccb7b-feee-40d9-b657-e91271048db3",
   "metadata": {
    "tags": []
   },
   "outputs": [],
   "source": [
    "# fill na\n",
    "\n",
    "ak_clean = ak_clean.fillna({'highest_injury_level': 'None Reported', 'aircraft_damage': 'None Reported'})"
   ]
  },
  {
   "cell_type": "code",
   "execution_count": 16,
   "id": "0d88551a-1605-49ae-993a-6b06786038c1",
   "metadata": {
    "tags": []
   },
   "outputs": [],
   "source": [
    "ak_clean = ak_clean.fillna({'airport_id': 'No Airport', 'airport_name': 'No Airport'})"
   ]
  },
  {
   "cell_type": "code",
   "execution_count": 17,
   "id": "8bf19922-bbff-4b9e-8173-24648a45b222",
   "metadata": {
    "tags": []
   },
   "outputs": [],
   "source": [
    "ak_clean = ak_clean.fillna({'weather_condition': 'Unknown',\n",
    "                 'scheduled': 'Unknown',\n",
    "                 'operator': 'Unknown',\n",
    "                 'purpose_of_flight': 'Unknown',\n",
    "                 'report_type': 'Unknown',\n",
    "                 'probable_cause': 'Unknown',\n",
    "                 'model': 'Unknown'})"
   ]
  },
  {
   "cell_type": "code",
   "execution_count": 18,
   "id": "52729e50-5ec0-4424-9d2a-0aa24509f0ae",
   "metadata": {
    "tags": []
   },
   "outputs": [],
   "source": [
    "# remap booleans\n",
    "ak_clean['amateur_built'] = ak_clean['amateur_built'].replace({'FALSE': 0, 'TRUE': 1})"
   ]
  },
  {
   "cell_type": "code",
   "execution_count": 19,
   "id": "91457672-34cd-4a6d-8380-e0e5f482fa20",
   "metadata": {
    "tags": []
   },
   "outputs": [],
   "source": [
    "ak_clean['has_safety_rec'] = ak_clean['has_safety_rec'].replace({'False': 0, 'True': 1}).astype(int)"
   ]
  },
  {
   "cell_type": "code",
   "execution_count": 20,
   "id": "6009223e-85c5-4ed6-8011-1fbaa373f444",
   "metadata": {
    "tags": []
   },
   "outputs": [],
   "source": [
    "# convert to datetime\n",
    "ak_clean['event_date'] = pd.to_datetime(ak_clean['event_date'])"
   ]
  },
  {
   "cell_type": "code",
   "execution_count": 21,
   "id": "2339ba0f-91c6-43c3-ba48-f7064e12e333",
   "metadata": {
    "tags": []
   },
   "outputs": [
    {
     "data": {
      "text/html": [
       "<div>\n",
       "<style scoped>\n",
       "    .dataframe tbody tr th:only-of-type {\n",
       "        vertical-align: middle;\n",
       "    }\n",
       "\n",
       "    .dataframe tbody tr th {\n",
       "        vertical-align: top;\n",
       "    }\n",
       "\n",
       "    .dataframe thead th {\n",
       "        text-align: right;\n",
       "    }\n",
       "</style>\n",
       "<table border=\"1\" class=\"dataframe\">\n",
       "  <thead>\n",
       "    <tr style=\"text-align: right;\">\n",
       "      <th></th>\n",
       "      <th>ntsb_no</th>\n",
       "      <th>event_type</th>\n",
       "      <th>mkey</th>\n",
       "      <th>event_date</th>\n",
       "      <th>city</th>\n",
       "      <th>n</th>\n",
       "      <th>has_safety_rec</th>\n",
       "      <th>report_type</th>\n",
       "      <th>highest_injury_level</th>\n",
       "      <th>fatal_injury_count</th>\n",
       "      <th>serious_injury_count</th>\n",
       "      <th>minor_injury_count</th>\n",
       "      <th>probable_cause</th>\n",
       "      <th>latitude</th>\n",
       "      <th>longitude</th>\n",
       "      <th>make</th>\n",
       "      <th>model</th>\n",
       "      <th>aircraft_category</th>\n",
       "      <th>airport_id</th>\n",
       "      <th>airport_name</th>\n",
       "      <th>amateur_built</th>\n",
       "      <th>scheduled</th>\n",
       "      <th>purpose_of_flight</th>\n",
       "      <th>far</th>\n",
       "      <th>aircraft_damage</th>\n",
       "      <th>weather_condition</th>\n",
       "      <th>operator</th>\n",
       "    </tr>\n",
       "  </thead>\n",
       "  <tbody>\n",
       "    <tr>\n",
       "      <th>0</th>\n",
       "      <td>ANC23LA086</td>\n",
       "      <td>ACC</td>\n",
       "      <td>193153</td>\n",
       "      <td>2023-09-24 08:30:00+00:00</td>\n",
       "      <td>Trimble River / Skwentna</td>\n",
       "      <td>N2586R</td>\n",
       "      <td>0</td>\n",
       "      <td>DirectorBrief</td>\n",
       "      <td>None Reported</td>\n",
       "      <td>0</td>\n",
       "      <td>0</td>\n",
       "      <td>0</td>\n",
       "      <td>Unknown</td>\n",
       "      <td>61.775160</td>\n",
       "      <td>-152.15263</td>\n",
       "      <td>CESSNA</td>\n",
       "      <td>182K</td>\n",
       "      <td>AIR</td>\n",
       "      <td>No Airport</td>\n",
       "      <td>Trimble River</td>\n",
       "      <td>0</td>\n",
       "      <td>Unknown</td>\n",
       "      <td>PERS</td>\n",
       "      <td>091</td>\n",
       "      <td>Substantial</td>\n",
       "      <td>Unknown</td>\n",
       "      <td>Unknown</td>\n",
       "    </tr>\n",
       "    <tr>\n",
       "      <th>1</th>\n",
       "      <td>ANC23LA084</td>\n",
       "      <td>ACC</td>\n",
       "      <td>193128</td>\n",
       "      <td>2023-09-20 12:00:00+00:00</td>\n",
       "      <td>Bethel</td>\n",
       "      <td>N8192D</td>\n",
       "      <td>0</td>\n",
       "      <td>DirectorBrief</td>\n",
       "      <td>None Reported</td>\n",
       "      <td>0</td>\n",
       "      <td>0</td>\n",
       "      <td>0</td>\n",
       "      <td>Unknown</td>\n",
       "      <td>60.805019</td>\n",
       "      <td>-161.78648</td>\n",
       "      <td>PIPER</td>\n",
       "      <td>PA-18-150</td>\n",
       "      <td>AIR</td>\n",
       "      <td>No Airport</td>\n",
       "      <td>No Airport</td>\n",
       "      <td>0</td>\n",
       "      <td>Unknown</td>\n",
       "      <td>PERS</td>\n",
       "      <td>091</td>\n",
       "      <td>Substantial</td>\n",
       "      <td>Unknown</td>\n",
       "      <td>Unknown</td>\n",
       "    </tr>\n",
       "    <tr>\n",
       "      <th>2</th>\n",
       "      <td>ANC23LA080</td>\n",
       "      <td>ACC</td>\n",
       "      <td>193097</td>\n",
       "      <td>2023-09-18 13:00:00+00:00</td>\n",
       "      <td>Homer</td>\n",
       "      <td>N7558H</td>\n",
       "      <td>0</td>\n",
       "      <td>DirectorBrief</td>\n",
       "      <td>None Reported</td>\n",
       "      <td>0</td>\n",
       "      <td>0</td>\n",
       "      <td>0</td>\n",
       "      <td>Unknown</td>\n",
       "      <td>59.646929</td>\n",
       "      <td>-151.49323</td>\n",
       "      <td>CESSNA</td>\n",
       "      <td>A185F</td>\n",
       "      <td>AIR</td>\n",
       "      <td>5BL</td>\n",
       "      <td>HOMER-BELUGA LAKE</td>\n",
       "      <td>0</td>\n",
       "      <td>Unknown</td>\n",
       "      <td>BUS</td>\n",
       "      <td>091</td>\n",
       "      <td>Substantial</td>\n",
       "      <td>VMC</td>\n",
       "      <td>Adventure Airways</td>\n",
       "    </tr>\n",
       "    <tr>\n",
       "      <th>3</th>\n",
       "      <td>ANC23LA082</td>\n",
       "      <td>ACC</td>\n",
       "      <td>193105</td>\n",
       "      <td>2023-09-16 16:50:00+00:00</td>\n",
       "      <td>Beaver Creek</td>\n",
       "      <td>N713C</td>\n",
       "      <td>0</td>\n",
       "      <td>DirectorBrief</td>\n",
       "      <td>None Reported</td>\n",
       "      <td>0</td>\n",
       "      <td>0</td>\n",
       "      <td>0</td>\n",
       "      <td>Unknown</td>\n",
       "      <td>64.267579</td>\n",
       "      <td>-147.68704</td>\n",
       "      <td>HELIO</td>\n",
       "      <td>H-295</td>\n",
       "      <td>AIR</td>\n",
       "      <td>No Airport</td>\n",
       "      <td>No Airport</td>\n",
       "      <td>0</td>\n",
       "      <td>NSCH</td>\n",
       "      <td>BUS</td>\n",
       "      <td>135</td>\n",
       "      <td>Substantial</td>\n",
       "      <td>Unknown</td>\n",
       "      <td>WRIGHT AIR SERVICE INC</td>\n",
       "    </tr>\n",
       "    <tr>\n",
       "      <th>4</th>\n",
       "      <td>ANC23LA078</td>\n",
       "      <td>ACC</td>\n",
       "      <td>193088</td>\n",
       "      <td>2023-09-16 15:00:00+00:00</td>\n",
       "      <td>NENANA</td>\n",
       "      <td>N907W</td>\n",
       "      <td>0</td>\n",
       "      <td>DirectorBrief</td>\n",
       "      <td>None Reported</td>\n",
       "      <td>0</td>\n",
       "      <td>0</td>\n",
       "      <td>0</td>\n",
       "      <td>Unknown</td>\n",
       "      <td>64.650753</td>\n",
       "      <td>-149.83639</td>\n",
       "      <td>RHODES STEVEN D</td>\n",
       "      <td>SR3500</td>\n",
       "      <td>AIR</td>\n",
       "      <td>No Airport</td>\n",
       "      <td>No Airport</td>\n",
       "      <td>1</td>\n",
       "      <td>Unknown</td>\n",
       "      <td>PERS</td>\n",
       "      <td>091</td>\n",
       "      <td>Substantial</td>\n",
       "      <td>VMC</td>\n",
       "      <td>Unknown</td>\n",
       "    </tr>\n",
       "  </tbody>\n",
       "</table>\n",
       "</div>"
      ],
      "text/plain": [
       "      ntsb_no event_type    mkey                event_date  \\\n",
       "0  ANC23LA086        ACC  193153 2023-09-24 08:30:00+00:00   \n",
       "1  ANC23LA084        ACC  193128 2023-09-20 12:00:00+00:00   \n",
       "2  ANC23LA080        ACC  193097 2023-09-18 13:00:00+00:00   \n",
       "3  ANC23LA082        ACC  193105 2023-09-16 16:50:00+00:00   \n",
       "4  ANC23LA078        ACC  193088 2023-09-16 15:00:00+00:00   \n",
       "\n",
       "                       city       n  has_safety_rec    report_type  \\\n",
       "0  Trimble River / Skwentna  N2586R               0  DirectorBrief   \n",
       "1                    Bethel  N8192D               0  DirectorBrief   \n",
       "2                     Homer  N7558H               0  DirectorBrief   \n",
       "3              Beaver Creek   N713C               0  DirectorBrief   \n",
       "4                    NENANA   N907W               0  DirectorBrief   \n",
       "\n",
       "  highest_injury_level  fatal_injury_count  serious_injury_count  \\\n",
       "0        None Reported                   0                     0   \n",
       "1        None Reported                   0                     0   \n",
       "2        None Reported                   0                     0   \n",
       "3        None Reported                   0                     0   \n",
       "4        None Reported                   0                     0   \n",
       "\n",
       "   minor_injury_count probable_cause   latitude  longitude             make  \\\n",
       "0                   0        Unknown  61.775160 -152.15263           CESSNA   \n",
       "1                   0        Unknown  60.805019 -161.78648            PIPER   \n",
       "2                   0        Unknown  59.646929 -151.49323           CESSNA   \n",
       "3                   0        Unknown  64.267579 -147.68704            HELIO   \n",
       "4                   0        Unknown  64.650753 -149.83639  RHODES STEVEN D   \n",
       "\n",
       "       model aircraft_category  airport_id       airport_name  amateur_built  \\\n",
       "0       182K               AIR  No Airport      Trimble River              0   \n",
       "1  PA-18-150               AIR  No Airport         No Airport              0   \n",
       "2      A185F               AIR         5BL  HOMER-BELUGA LAKE              0   \n",
       "3      H-295               AIR  No Airport         No Airport              0   \n",
       "4     SR3500               AIR  No Airport         No Airport              1   \n",
       "\n",
       "  scheduled purpose_of_flight  far aircraft_damage weather_condition  \\\n",
       "0   Unknown              PERS  091     Substantial           Unknown   \n",
       "1   Unknown              PERS  091     Substantial           Unknown   \n",
       "2   Unknown               BUS  091     Substantial               VMC   \n",
       "3      NSCH               BUS  135     Substantial           Unknown   \n",
       "4   Unknown              PERS  091     Substantial               VMC   \n",
       "\n",
       "                 operator  \n",
       "0                 Unknown  \n",
       "1                 Unknown  \n",
       "2       Adventure Airways  \n",
       "3  WRIGHT AIR SERVICE INC  \n",
       "4                 Unknown  "
      ]
     },
     "execution_count": 21,
     "metadata": {},
     "output_type": "execute_result"
    }
   ],
   "source": [
    "ak_clean.head()"
   ]
  },
  {
   "cell_type": "markdown",
   "id": "fbb4d658-e168-48d4-a270-a166f6764be5",
   "metadata": {},
   "source": [
    "## Feature Engineering"
   ]
  },
  {
   "cell_type": "code",
   "execution_count": 22,
   "id": "770ce5c3-2729-471b-8396-528a6bdfaaa2",
   "metadata": {
    "tags": []
   },
   "outputs": [],
   "source": [
    "ak_clean['event_year'] = ak_clean['event_date'].dt.year"
   ]
  },
  {
   "cell_type": "code",
   "execution_count": 23,
   "id": "12d7b8b6-ab5e-4079-9db3-985f9adcb3bc",
   "metadata": {
    "tags": []
   },
   "outputs": [],
   "source": [
    "ak_clean['event_month'] = ak_clean['event_date'].dt.month"
   ]
  },
  {
   "cell_type": "code",
   "execution_count": 24,
   "id": "1c9f9a55-7ac1-4012-b319-13e7a9b8a923",
   "metadata": {
    "tags": []
   },
   "outputs": [],
   "source": [
    "ak_clean['event_day'] = ak_clean['event_date'].dt.day"
   ]
  },
  {
   "cell_type": "code",
   "execution_count": 25,
   "id": "ac58ae00-9c43-4ed5-abb6-ec4840588e3d",
   "metadata": {
    "tags": []
   },
   "outputs": [],
   "source": [
    "ak_clean['event_time'] = ak_clean['event_date'].dt.time"
   ]
  },
  {
   "cell_type": "code",
   "execution_count": 26,
   "id": "60d1a76f-1595-44c6-96d5-e957da8a73bc",
   "metadata": {},
   "outputs": [],
   "source": [
    "ak_clean = ak_clean.drop('event_date', axis=1)"
   ]
  },
  {
   "cell_type": "code",
   "execution_count": 27,
   "id": "65f8e1a4-f032-49d3-8b82-713a4c8b5098",
   "metadata": {
    "tags": []
   },
   "outputs": [],
   "source": [
    "# engineer hour\n",
    "ak_clean['event_hour'] = [x.hour for x in ak_clean['event_time']]"
   ]
  },
  {
   "cell_type": "code",
   "execution_count": 28,
   "id": "9021fb1d-0ea9-4ccf-9876-9fcbb037b622",
   "metadata": {
    "tags": []
   },
   "outputs": [],
   "source": [
    "def get_season(month):\n",
    "    if 3 <= month <= 5:\n",
    "        return \"Spring\"\n",
    "    elif 6 <= month <= 8:\n",
    "        return \"Summer\"\n",
    "    elif 9 <= month <= 11:\n",
    "        return \"Fall\"\n",
    "    else:\n",
    "        return \"Winter\""
   ]
  },
  {
   "cell_type": "code",
   "execution_count": 29,
   "id": "4010fa22-a97a-40be-956c-93e0c5048fd3",
   "metadata": {
    "tags": []
   },
   "outputs": [],
   "source": [
    "# engineer season\n",
    "ak_clean['event_season'] = ak_clean['event_month'].apply(get_season)"
   ]
  },
  {
   "cell_type": "code",
   "execution_count": 30,
   "id": "e7cacf01-737d-4426-86f3-3fbf14b60119",
   "metadata": {},
   "outputs": [],
   "source": [
    "# engineer injury bool\n",
    "ak_clean['has_injury'] = ak_clean.highest_injury_level.apply(lambda x: 0 if x == 'None Reported' else 1)"
   ]
  },
  {
   "cell_type": "code",
   "execution_count": 31,
   "id": "e2b35421-bd42-420b-9712-972849c0056a",
   "metadata": {},
   "outputs": [],
   "source": [
    "# engineer aircraft damage bool\n",
    "ak_clean['has_aircraft_damage'] = ak_clean.aircraft_damage.apply(lambda x: 0 if x == 'None Reported' else 1)"
   ]
  },
  {
   "cell_type": "code",
   "execution_count": 32,
   "id": "6b070b13-eeae-4efc-9dae-20e2089c4bae",
   "metadata": {},
   "outputs": [],
   "source": [
    "# engineer event type bool\n",
    "ak_clean['is_accident'] = ak_clean.event_type.apply(lambda x: 0 if x == 'INC' else 1)"
   ]
  },
  {
   "cell_type": "code",
   "execution_count": 33,
   "id": "f55bda5e-71ad-4c6a-8fc7-8b88458e8a5f",
   "metadata": {
    "tags": []
   },
   "outputs": [],
   "source": [
    "# engineer near airport\n",
    "ak_clean['occurred_near_airport'] = ak_clean.airport_id.apply(lambda x: 0 if x == 'No Airport' else 1)"
   ]
  },
  {
   "cell_type": "code",
   "execution_count": 34,
   "id": "e4bb91a6-63c8-4a6e-94c7-1a060f64471f",
   "metadata": {
    "tags": []
   },
   "outputs": [],
   "source": [
    "ak_clean['make'] = ak_clean['make'].str.upper()"
   ]
  },
  {
   "cell_type": "code",
   "execution_count": 35,
   "id": "144631fe-f473-4cb4-b3ab-2adfa99d2931",
   "metadata": {
    "tags": []
   },
   "outputs": [],
   "source": [
    "ak_clean['model'] = ak_clean['model'].str.upper()"
   ]
  },
  {
   "cell_type": "code",
   "execution_count": 36,
   "id": "5b5e0eb3-1feb-4d87-b963-a22d7ff4e4a0",
   "metadata": {},
   "outputs": [],
   "source": [
    "# engineer make_model\n",
    "ak_clean['make_model'] = ak_clean['make'] + ' ' + ak_clean['model']"
   ]
  },
  {
   "cell_type": "code",
   "execution_count": 37,
   "id": "43a64c9c-f0c9-4066-8c4b-ba27ac4df48d",
   "metadata": {
    "tags": []
   },
   "outputs": [],
   "source": [
    "# aircraft family patterns\n",
    "aircraft_patterns = {\n",
    "    'AERONCA 15AC SEDAN': r'AERONCA [A-Z]?15AC\\b',\n",
    "    'AERONCA 7AC CHAMPION': r'AERONCA 7AC',\n",
    "    'BEECHCRAFT 1900': r'BEECH 1900',\n",
    "    'BEECHCRAFT 36 BONANZA': r'BEECH A36|BEECH 36|BEECH T36|BEECH G36',\n",
    "    'BELL 206': r'BELL 206[A-Z]?\\b',\n",
    "    'CHAMPION/ BELLANCA/ AMERICAN CHAMPION CITABRIA': r'7ECA\\b|7GCAA\\b|7GCB|7KCAB\\b|8KCAB\\b|CHAMPION 7EC|CHAMPION 7GC\\b',\n",
    "    'CHAMPION/ BELLANCA/ AMERICAN CHAMPION SCOUT': r'8GCBC\\b',\n",
    "    'CESSNA 140': r'CESSNA [A-Z]?[-\\s]*140[A-Z]?\\b',\n",
    "    'CESSNA 150': r'CESSNA [A-Z]?[-\\s]*150[A-Z]?\\b',\n",
    "    'CESSNA 152': r'CESSNA [A-Z]?[-\\s]*152[A-Z]?\\b',\n",
    "    'CESSNA 170': r'CESSNA [A-Z]?[-\\s]*170[A-Z]?\\b',\n",
    "    'CESSNA 175 SKYLARK': r'CESSNA [A-Z]?[-\\s]*175[A-Z]?\\b',\n",
    "    'CESSNA 172 SKYHAWK': r'CESSNA [A-Z]?[-\\s]*172[A-Z]?\\b',\n",
    "    'CESSNA 177 CARDINAL': r'CESSNA [A-Z]?[-\\s]*177[A-Z]*?\\b',\n",
    "    'CESSNA 180 SKYWAGON': r'CESSNA [A-Z]?[-\\s]*180[A-Z]?\\b',\n",
    "    'CESSNA 182 SKYLANE': r'CESSNA [A-Z]?[-\\s]*182[A-Z]?\\b',\n",
    "    'CESSNA 185 SKYWAGON': r'CESSNA [A-Z]?[-\\s]?185[A-Z]?\\b',\n",
    "    'CESSNA 206 STATIONAIR': r'CESSNA [A-Z]?[-\\s]*206[A-Z]?\\b|CESSNA TU206',\n",
    "    'CESSNA 207': r'CESSNA [A-Z]?[-\\s]*207[A-Z]?\\b',\n",
    "    'CESSNA 208 CARAVAN': r'CESSNA [A-Z]?[-\\s]*208[A-Z]?\\b',\n",
    "    'CESSNA 210': r'CESSNA 210',\n",
    "    'CESSNA 402': r'CESSNA [A-Z]?402[A-Z]?\\b',\n",
    "    'DE HAVILLAND DHC-2 BEAVER': r'DE[\\s]*HAVILLAND DHC[-\\s]*2\\b|DE[\\s]*HAVILLAND BEAVER DHC[-\\s]*2',\n",
    "    'DE HAVILLAND DHC-3 OTTER': r'DE[\\s]*HAVILLAND DHC[-\\s]*3\\b|DE[\\s]*HAVILLAND OTTER DHC[-\\s]*3',\n",
    "    'DE HAVILLAND DHC-6 TWIN OTTER': r'DE[\\s]*HAVILLAND DHC[-\\s]*6\\b',\n",
    "    'DOUGLAS DC-3': r'DOUGLAS DC[-\\s]*3',\n",
    "    'DOUGLAS DC-6': r'DOUGLAS DC[-\\s]*6',\n",
    "    'GRUMMAN G-44 WIDGEON': r'GRUMMAN G[-\\s]*44',\n",
    "    'HELIO COURIER': r'HELIO H',\n",
    "    'LUSCOMBE 8': r'LUSCOMBE 8',\n",
    "    'PIPER J-3 CUB': r'PIPER J[-\\s]*3',\n",
    "    'PIPER J-5 CUB CRUISER': r'PIPER J[-\\s]*5',\n",
    "    'PIPER PA-11 CUB SPECIAL': r'PIPER\\s*PA[-\\s]*11[-\\s]*\\d*[A-Z]?\\b',\n",
    "    'PIPER PA-12 SUPER CRUISER': r'PIPER\\s*PA[-\\s]*12[-\\s]*\\d*[A-Z]?\\b',\n",
    "    'PIPER PA-14 FAMILY CRUISER': r'PIPER\\s*PA[-\\s]*14[-\\s]*\\d*[A-Z]?\\b',\n",
    "    'PIPER PA-16 CLIPPER': r'PIPER\\s*PA[-\\s]*16[-\\s]*\\d*[A-Z]?\\b',\n",
    "    'PIPER PA-18 SUPER CUB': r'PIPER\\s*PA[-\\s]*18[-\\s]*\\d*[A-Z]?\\b',\n",
    "    'PIPER PA-20 PACER': r'PIPER\\s*PA[-\\s]*20[-\\s]*\\d*[A-Z]?\\b',\n",
    "    'PIPER PA-22 TRI-PACER': r'PIPER\\s*PA[-\\s]*22[-\\s]*\\d*[A-Z]?\\b',\n",
    "    'PIPER PA-28 CHEROKEE': r'PIPER\\s*PA[-\\s]*28[-\\s]*\\d*[A-Z]?\\b',\n",
    "    'PIPER PA-31 NAVAJO': r'PIPER\\s*PA[-\\s]*31[-\\s]*\\d*[A-Z]?\\b',\n",
    "    'PIPER PA-32 CHEROKEE SIX': r'PIPER\\s*PA[-\\s]*32[-\\s]*\\d*[A-Z]?\\b',\n",
    "    'STINSON 108': r'STINSON 108',\n",
    "    'MAULE M-4': r'MAULE M[-\\s]*4',\n",
    "    'MAULE M-5': r'MAULE M[-\\s]*5',\n",
    "    'MAULE M-6': r'MAULE M[-\\s]*6',\n",
    "    'MAULE M-7': r'MAULE M[-\\s]*7',\n",
    "    'TAYLORCRAFT B': r'TAYLORCRAFT B',\n",
    "    'TAYLORCRAFT F-19 SPORTSMAN': r'TAYLORCRAFT F[-\\s]*19',\n",
    "}\n",
    "\n",
    "def group_models(make_model):\n",
    "    grouped_models = []\n",
    "    for aircraft, pattern in aircraft_patterns.items():\n",
    "        if pattern and re.search(pattern, make_model):\n",
    "            grouped_models.append(aircraft)\n",
    "\n",
    "    if not grouped_models:\n",
    "        return make_model\n",
    "    elif len(grouped_models) == 1:\n",
    "        return grouped_models[0]\n",
    "    else:\n",
    "        return make_model"
   ]
  },
  {
   "cell_type": "code",
   "execution_count": 38,
   "id": "57cc177f-1d47-40b6-85f1-553eb85763c4",
   "metadata": {},
   "outputs": [],
   "source": [
    "# engineer aircraft families\n",
    "ak_clean['aircraft_family'] = ak_clean['make_model'].apply(group_models)"
   ]
  },
  {
   "cell_type": "code",
   "execution_count": 39,
   "id": "ebfdf7a3-0a1a-43b6-a2fc-f36802660bf9",
   "metadata": {
    "tags": []
   },
   "outputs": [
    {
     "data": {
      "text/plain": [
       "1053"
      ]
     },
     "execution_count": 39,
     "metadata": {},
     "output_type": "execute_result"
    }
   ],
   "source": [
    "ak_clean.model.nunique()"
   ]
  },
  {
   "cell_type": "code",
   "execution_count": 51,
   "id": "11025496-f918-4ba1-9f86-09fd7e223c7f",
   "metadata": {
    "tags": []
   },
   "outputs": [
    {
     "data": {
      "text/plain": [
       "model\n",
       "PA-18        439\n",
       "PA-18-150    245\n",
       "180          226\n",
       "185          185\n",
       "PA-12        172\n",
       "207          135\n",
       "170B         132\n",
       "DHC-2        127\n",
       "172          112\n",
       "206          106\n",
       "7GCBC         78\n",
       "207A          73\n",
       "PA-22         65\n",
       "A185F         65\n",
       "PA-32-300     60\n",
       "185F          59\n",
       "150           57\n",
       "PA-31-350     53\n",
       "182           50\n",
       "PA18          49\n",
       "PA-20         48\n",
       "8GCBC         44\n",
       "170           39\n",
       "U206G         39\n",
       "U206          36\n",
       "Name: count, dtype: int64"
      ]
     },
     "execution_count": 51,
     "metadata": {},
     "output_type": "execute_result"
    }
   ],
   "source": [
    "ak_clean.model.value_counts().head(25)"
   ]
  },
  {
   "cell_type": "code",
   "execution_count": 40,
   "id": "716ef3eb-558e-400f-89fc-125d58f66eef",
   "metadata": {
    "tags": []
   },
   "outputs": [
    {
     "data": {
      "text/plain": [
       "758"
      ]
     },
     "execution_count": 40,
     "metadata": {},
     "output_type": "execute_result"
    }
   ],
   "source": [
    "ak_clean.aircraft_family.nunique()"
   ]
  },
  {
   "cell_type": "code",
   "execution_count": 42,
   "id": "c35a9cf3-b9d6-46cd-999f-f6cb101d891f",
   "metadata": {
    "tags": []
   },
   "outputs": [],
   "source": [
    "# label uncommon families\n",
    "aircraft_family_counts = ak_clean['aircraft_family'].value_counts()\n",
    "uncommon_families = aircraft_family_counts[aircraft_family_counts < 10].index\n",
    "ak_clean['aircraft_family'] = ak_clean['aircraft_family'].apply(lambda x: 'UNCOMMON FAMILY' if x in uncommon_families else x)"
   ]
  },
  {
   "cell_type": "code",
   "execution_count": 43,
   "id": "3735d9a5-beb4-4dd1-bfc0-116ad3fb0a0d",
   "metadata": {
    "tags": []
   },
   "outputs": [
    {
     "data": {
      "text/plain": [
       "50"
      ]
     },
     "execution_count": 43,
     "metadata": {},
     "output_type": "execute_result"
    }
   ],
   "source": [
    "ak_clean.aircraft_family.nunique()"
   ]
  },
  {
   "cell_type": "code",
   "execution_count": 44,
   "id": "665a13f9-39f6-40a0-bb11-e4e2cdbd1592",
   "metadata": {
    "tags": []
   },
   "outputs": [
    {
     "data": {
      "text/plain": [
       "aircraft_family\n",
       "UNCOMMON FAMILY                                   961\n",
       "PIPER PA-18 SUPER CUB                             893\n",
       "CESSNA 185 SKYWAGON                               409\n",
       "CESSNA 180 SKYWAGON                               349\n",
       "CESSNA 206 STATIONAIR                             264\n",
       "CESSNA 207                                        228\n",
       "PIPER PA-12 SUPER CRUISER                         196\n",
       "CESSNA 170                                        193\n",
       "DE HAVILLAND DHC-2 BEAVER                         191\n",
       "CESSNA 172 SKYHAWK                                189\n",
       "PIPER PA-32 CHEROKEE SIX                          158\n",
       "CHAMPION/ BELLANCA/ AMERICAN CHAMPION CITABRIA    151\n",
       "PIPER PA-22 TRI-PACER                             136\n",
       "CESSNA 150                                        108\n",
       "CESSNA 182 SKYLANE                                100\n",
       "PIPER PA-31 NAVAJO                                 83\n",
       "STINSON 108                                        62\n",
       "PIPER PA-20 PACER                                  57\n",
       "BELL 206                                           54\n",
       "HELIO COURIER                                      54\n",
       "CESSNA 208 CARAVAN                                 53\n",
       "MAULE M-5                                          52\n",
       "PIPER PA-28 CHEROKEE                               51\n",
       "TAYLORCRAFT B                                      50\n",
       "CHAMPION/ BELLANCA/ AMERICAN CHAMPION SCOUT        44\n",
       "CESSNA 152                                         39\n",
       "DE HAVILLAND DHC-3 OTTER                           39\n",
       "CESSNA 140                                         36\n",
       "PIPER PA-14 FAMILY CRUISER                         33\n",
       "PIPER J-3 CUB                                      32\n",
       "MAULE M-4                                          32\n",
       "AERONCA 15AC SEDAN                                 25\n",
       "CESSNA 402                                         24\n",
       "HUGHES 369D                                        21\n",
       "PIPER PA-11 CUB SPECIAL                            21\n",
       "MAULE M-7                                          18\n",
       "TAYLORCRAFT F-19 SPORTSMAN                         17\n",
       "MAULE M-6                                          16\n",
       "PIPER J-5 CUB CRUISER                              15\n",
       "DE HAVILLAND DHC-6 TWIN OTTER                      14\n",
       "CESSNA 175 SKYLARK                                 14\n",
       "BEECHCRAFT 1900                                    13\n",
       "AERONCA 7AC CHAMPION                               13\n",
       "LUSCOMBE 8                                         13\n",
       "CESSNA 177 CARDINAL                                13\n",
       "GRUMMAN G-44 WIDGEON                               12\n",
       "ROBINSON HELICOPTER COMPANY R44 II                 12\n",
       "DOUGLAS DC-3                                       11\n",
       "PIPER PA-16 CLIPPER                                11\n",
       "DOUGLAS DC-6                                       10\n",
       "Name: count, dtype: int64"
      ]
     },
     "execution_count": 44,
     "metadata": {},
     "output_type": "execute_result"
    }
   ],
   "source": [
    "ak_clean.aircraft_family.value_counts().head(50)"
   ]
  },
  {
   "cell_type": "code",
   "execution_count": 45,
   "id": "597f8292-8648-499e-ba2e-c7302382e364",
   "metadata": {
    "tags": []
   },
   "outputs": [
    {
     "data": {
      "text/plain": [
       "ntsb_no                  0\n",
       "event_type               0\n",
       "mkey                     0\n",
       "city                     0\n",
       "n                        0\n",
       "has_safety_rec           0\n",
       "report_type              0\n",
       "highest_injury_level     0\n",
       "fatal_injury_count       0\n",
       "serious_injury_count     0\n",
       "minor_injury_count       0\n",
       "probable_cause           0\n",
       "latitude                 0\n",
       "longitude                0\n",
       "make                     0\n",
       "model                    0\n",
       "aircraft_category        0\n",
       "airport_id               0\n",
       "airport_name             0\n",
       "amateur_built            0\n",
       "scheduled                0\n",
       "purpose_of_flight        0\n",
       "far                      0\n",
       "aircraft_damage          0\n",
       "weather_condition        0\n",
       "operator                 0\n",
       "event_year               0\n",
       "event_month              0\n",
       "event_day                0\n",
       "event_time               0\n",
       "event_hour               0\n",
       "event_season             0\n",
       "has_injury               0\n",
       "has_aircraft_damage      0\n",
       "is_accident              0\n",
       "occurred_near_airport    0\n",
       "make_model               0\n",
       "aircraft_family          0\n",
       "dtype: int64"
      ]
     },
     "execution_count": 45,
     "metadata": {},
     "output_type": "execute_result"
    }
   ],
   "source": [
    "ak_clean.isna().sum()"
   ]
  },
  {
   "cell_type": "code",
   "execution_count": 46,
   "id": "ea155b04-ab36-47ec-bb25-cacf12d83096",
   "metadata": {
    "tags": []
   },
   "outputs": [
    {
     "data": {
      "text/plain": [
       "ntsb_no                   object\n",
       "event_type                object\n",
       "mkey                       int64\n",
       "city                      object\n",
       "n                         object\n",
       "has_safety_rec             int64\n",
       "report_type               object\n",
       "highest_injury_level      object\n",
       "fatal_injury_count         int64\n",
       "serious_injury_count       int64\n",
       "minor_injury_count         int64\n",
       "probable_cause            object\n",
       "latitude                 float64\n",
       "longitude                float64\n",
       "make                      object\n",
       "model                     object\n",
       "aircraft_category         object\n",
       "airport_id                object\n",
       "airport_name              object\n",
       "amateur_built              int64\n",
       "scheduled                 object\n",
       "purpose_of_flight         object\n",
       "far                       object\n",
       "aircraft_damage           object\n",
       "weather_condition         object\n",
       "operator                  object\n",
       "event_year                 int32\n",
       "event_month                int32\n",
       "event_day                  int32\n",
       "event_time                object\n",
       "event_hour                 int64\n",
       "event_season              object\n",
       "has_injury                 int64\n",
       "has_aircraft_damage        int64\n",
       "is_accident                int64\n",
       "occurred_near_airport      int64\n",
       "make_model                object\n",
       "aircraft_family           object\n",
       "dtype: object"
      ]
     },
     "execution_count": 46,
     "metadata": {},
     "output_type": "execute_result"
    }
   ],
   "source": [
    "ak_clean.dtypes"
   ]
  },
  {
   "cell_type": "code",
   "execution_count": 47,
   "id": "1d4873bc-cb35-47bd-a2dd-1455d2228e39",
   "metadata": {
    "tags": []
   },
   "outputs": [
    {
     "data": {
      "text/html": [
       "<div>\n",
       "<style scoped>\n",
       "    .dataframe tbody tr th:only-of-type {\n",
       "        vertical-align: middle;\n",
       "    }\n",
       "\n",
       "    .dataframe tbody tr th {\n",
       "        vertical-align: top;\n",
       "    }\n",
       "\n",
       "    .dataframe thead th {\n",
       "        text-align: right;\n",
       "    }\n",
       "</style>\n",
       "<table border=\"1\" class=\"dataframe\">\n",
       "  <thead>\n",
       "    <tr style=\"text-align: right;\">\n",
       "      <th></th>\n",
       "      <th>ntsb_no</th>\n",
       "      <th>event_type</th>\n",
       "      <th>mkey</th>\n",
       "      <th>city</th>\n",
       "      <th>n</th>\n",
       "      <th>has_safety_rec</th>\n",
       "      <th>report_type</th>\n",
       "      <th>highest_injury_level</th>\n",
       "      <th>fatal_injury_count</th>\n",
       "      <th>serious_injury_count</th>\n",
       "      <th>minor_injury_count</th>\n",
       "      <th>probable_cause</th>\n",
       "      <th>latitude</th>\n",
       "      <th>longitude</th>\n",
       "      <th>make</th>\n",
       "      <th>model</th>\n",
       "      <th>aircraft_category</th>\n",
       "      <th>airport_id</th>\n",
       "      <th>airport_name</th>\n",
       "      <th>amateur_built</th>\n",
       "      <th>scheduled</th>\n",
       "      <th>purpose_of_flight</th>\n",
       "      <th>far</th>\n",
       "      <th>aircraft_damage</th>\n",
       "      <th>weather_condition</th>\n",
       "      <th>operator</th>\n",
       "      <th>event_year</th>\n",
       "      <th>event_month</th>\n",
       "      <th>event_day</th>\n",
       "      <th>event_time</th>\n",
       "      <th>event_hour</th>\n",
       "      <th>event_season</th>\n",
       "      <th>has_injury</th>\n",
       "      <th>has_aircraft_damage</th>\n",
       "      <th>is_accident</th>\n",
       "      <th>occurred_near_airport</th>\n",
       "      <th>make_model</th>\n",
       "      <th>aircraft_family</th>\n",
       "    </tr>\n",
       "  </thead>\n",
       "  <tbody>\n",
       "    <tr>\n",
       "      <th>0</th>\n",
       "      <td>ANC23LA086</td>\n",
       "      <td>ACC</td>\n",
       "      <td>193153</td>\n",
       "      <td>Trimble River / Skwentna</td>\n",
       "      <td>N2586R</td>\n",
       "      <td>0</td>\n",
       "      <td>DirectorBrief</td>\n",
       "      <td>None Reported</td>\n",
       "      <td>0</td>\n",
       "      <td>0</td>\n",
       "      <td>0</td>\n",
       "      <td>Unknown</td>\n",
       "      <td>61.775160</td>\n",
       "      <td>-152.15263</td>\n",
       "      <td>CESSNA</td>\n",
       "      <td>182K</td>\n",
       "      <td>AIR</td>\n",
       "      <td>No Airport</td>\n",
       "      <td>Trimble River</td>\n",
       "      <td>0</td>\n",
       "      <td>Unknown</td>\n",
       "      <td>PERS</td>\n",
       "      <td>091</td>\n",
       "      <td>Substantial</td>\n",
       "      <td>Unknown</td>\n",
       "      <td>Unknown</td>\n",
       "      <td>2023</td>\n",
       "      <td>9</td>\n",
       "      <td>24</td>\n",
       "      <td>08:30:00</td>\n",
       "      <td>8</td>\n",
       "      <td>Fall</td>\n",
       "      <td>0</td>\n",
       "      <td>1</td>\n",
       "      <td>1</td>\n",
       "      <td>0</td>\n",
       "      <td>CESSNA 182K</td>\n",
       "      <td>CESSNA 182 SKYLANE</td>\n",
       "    </tr>\n",
       "    <tr>\n",
       "      <th>1</th>\n",
       "      <td>ANC23LA084</td>\n",
       "      <td>ACC</td>\n",
       "      <td>193128</td>\n",
       "      <td>Bethel</td>\n",
       "      <td>N8192D</td>\n",
       "      <td>0</td>\n",
       "      <td>DirectorBrief</td>\n",
       "      <td>None Reported</td>\n",
       "      <td>0</td>\n",
       "      <td>0</td>\n",
       "      <td>0</td>\n",
       "      <td>Unknown</td>\n",
       "      <td>60.805019</td>\n",
       "      <td>-161.78648</td>\n",
       "      <td>PIPER</td>\n",
       "      <td>PA-18-150</td>\n",
       "      <td>AIR</td>\n",
       "      <td>No Airport</td>\n",
       "      <td>No Airport</td>\n",
       "      <td>0</td>\n",
       "      <td>Unknown</td>\n",
       "      <td>PERS</td>\n",
       "      <td>091</td>\n",
       "      <td>Substantial</td>\n",
       "      <td>Unknown</td>\n",
       "      <td>Unknown</td>\n",
       "      <td>2023</td>\n",
       "      <td>9</td>\n",
       "      <td>20</td>\n",
       "      <td>12:00:00</td>\n",
       "      <td>12</td>\n",
       "      <td>Fall</td>\n",
       "      <td>0</td>\n",
       "      <td>1</td>\n",
       "      <td>1</td>\n",
       "      <td>0</td>\n",
       "      <td>PIPER PA-18-150</td>\n",
       "      <td>PIPER PA-18 SUPER CUB</td>\n",
       "    </tr>\n",
       "    <tr>\n",
       "      <th>2</th>\n",
       "      <td>ANC23LA080</td>\n",
       "      <td>ACC</td>\n",
       "      <td>193097</td>\n",
       "      <td>Homer</td>\n",
       "      <td>N7558H</td>\n",
       "      <td>0</td>\n",
       "      <td>DirectorBrief</td>\n",
       "      <td>None Reported</td>\n",
       "      <td>0</td>\n",
       "      <td>0</td>\n",
       "      <td>0</td>\n",
       "      <td>Unknown</td>\n",
       "      <td>59.646929</td>\n",
       "      <td>-151.49323</td>\n",
       "      <td>CESSNA</td>\n",
       "      <td>A185F</td>\n",
       "      <td>AIR</td>\n",
       "      <td>5BL</td>\n",
       "      <td>HOMER-BELUGA LAKE</td>\n",
       "      <td>0</td>\n",
       "      <td>Unknown</td>\n",
       "      <td>BUS</td>\n",
       "      <td>091</td>\n",
       "      <td>Substantial</td>\n",
       "      <td>VMC</td>\n",
       "      <td>Adventure Airways</td>\n",
       "      <td>2023</td>\n",
       "      <td>9</td>\n",
       "      <td>18</td>\n",
       "      <td>13:00:00</td>\n",
       "      <td>13</td>\n",
       "      <td>Fall</td>\n",
       "      <td>0</td>\n",
       "      <td>1</td>\n",
       "      <td>1</td>\n",
       "      <td>1</td>\n",
       "      <td>CESSNA A185F</td>\n",
       "      <td>CESSNA 185 SKYWAGON</td>\n",
       "    </tr>\n",
       "    <tr>\n",
       "      <th>3</th>\n",
       "      <td>ANC23LA082</td>\n",
       "      <td>ACC</td>\n",
       "      <td>193105</td>\n",
       "      <td>Beaver Creek</td>\n",
       "      <td>N713C</td>\n",
       "      <td>0</td>\n",
       "      <td>DirectorBrief</td>\n",
       "      <td>None Reported</td>\n",
       "      <td>0</td>\n",
       "      <td>0</td>\n",
       "      <td>0</td>\n",
       "      <td>Unknown</td>\n",
       "      <td>64.267579</td>\n",
       "      <td>-147.68704</td>\n",
       "      <td>HELIO</td>\n",
       "      <td>H-295</td>\n",
       "      <td>AIR</td>\n",
       "      <td>No Airport</td>\n",
       "      <td>No Airport</td>\n",
       "      <td>0</td>\n",
       "      <td>NSCH</td>\n",
       "      <td>BUS</td>\n",
       "      <td>135</td>\n",
       "      <td>Substantial</td>\n",
       "      <td>Unknown</td>\n",
       "      <td>WRIGHT AIR SERVICE INC</td>\n",
       "      <td>2023</td>\n",
       "      <td>9</td>\n",
       "      <td>16</td>\n",
       "      <td>16:50:00</td>\n",
       "      <td>16</td>\n",
       "      <td>Fall</td>\n",
       "      <td>0</td>\n",
       "      <td>1</td>\n",
       "      <td>1</td>\n",
       "      <td>0</td>\n",
       "      <td>HELIO H-295</td>\n",
       "      <td>HELIO COURIER</td>\n",
       "    </tr>\n",
       "    <tr>\n",
       "      <th>4</th>\n",
       "      <td>ANC23LA078</td>\n",
       "      <td>ACC</td>\n",
       "      <td>193088</td>\n",
       "      <td>NENANA</td>\n",
       "      <td>N907W</td>\n",
       "      <td>0</td>\n",
       "      <td>DirectorBrief</td>\n",
       "      <td>None Reported</td>\n",
       "      <td>0</td>\n",
       "      <td>0</td>\n",
       "      <td>0</td>\n",
       "      <td>Unknown</td>\n",
       "      <td>64.650753</td>\n",
       "      <td>-149.83639</td>\n",
       "      <td>RHODES STEVEN D</td>\n",
       "      <td>SR3500</td>\n",
       "      <td>AIR</td>\n",
       "      <td>No Airport</td>\n",
       "      <td>No Airport</td>\n",
       "      <td>1</td>\n",
       "      <td>Unknown</td>\n",
       "      <td>PERS</td>\n",
       "      <td>091</td>\n",
       "      <td>Substantial</td>\n",
       "      <td>VMC</td>\n",
       "      <td>Unknown</td>\n",
       "      <td>2023</td>\n",
       "      <td>9</td>\n",
       "      <td>16</td>\n",
       "      <td>15:00:00</td>\n",
       "      <td>15</td>\n",
       "      <td>Fall</td>\n",
       "      <td>0</td>\n",
       "      <td>1</td>\n",
       "      <td>1</td>\n",
       "      <td>0</td>\n",
       "      <td>RHODES STEVEN D SR3500</td>\n",
       "      <td>UNCOMMON FAMILY</td>\n",
       "    </tr>\n",
       "    <tr>\n",
       "      <th>...</th>\n",
       "      <td>...</td>\n",
       "      <td>...</td>\n",
       "      <td>...</td>\n",
       "      <td>...</td>\n",
       "      <td>...</td>\n",
       "      <td>...</td>\n",
       "      <td>...</td>\n",
       "      <td>...</td>\n",
       "      <td>...</td>\n",
       "      <td>...</td>\n",
       "      <td>...</td>\n",
       "      <td>...</td>\n",
       "      <td>...</td>\n",
       "      <td>...</td>\n",
       "      <td>...</td>\n",
       "      <td>...</td>\n",
       "      <td>...</td>\n",
       "      <td>...</td>\n",
       "      <td>...</td>\n",
       "      <td>...</td>\n",
       "      <td>...</td>\n",
       "      <td>...</td>\n",
       "      <td>...</td>\n",
       "      <td>...</td>\n",
       "      <td>...</td>\n",
       "      <td>...</td>\n",
       "      <td>...</td>\n",
       "      <td>...</td>\n",
       "      <td>...</td>\n",
       "      <td>...</td>\n",
       "      <td>...</td>\n",
       "      <td>...</td>\n",
       "      <td>...</td>\n",
       "      <td>...</td>\n",
       "      <td>...</td>\n",
       "      <td>...</td>\n",
       "      <td>...</td>\n",
       "      <td>...</td>\n",
       "    </tr>\n",
       "    <tr>\n",
       "      <th>195</th>\n",
       "      <td>ANC21LA057</td>\n",
       "      <td>ACC</td>\n",
       "      <td>103467</td>\n",
       "      <td>Coffman Cove</td>\n",
       "      <td>N9279Z</td>\n",
       "      <td>0</td>\n",
       "      <td>DirectorBrief</td>\n",
       "      <td>None Reported</td>\n",
       "      <td>0</td>\n",
       "      <td>0</td>\n",
       "      <td>0</td>\n",
       "      <td>The pilot’s impact with a buoy on takeoff whic...</td>\n",
       "      <td>56.008959</td>\n",
       "      <td>-132.84709</td>\n",
       "      <td>DEHAVILLAND</td>\n",
       "      <td>DHC-2-L-20</td>\n",
       "      <td>AIR</td>\n",
       "      <td>KCC</td>\n",
       "      <td>COFFMAN COVE</td>\n",
       "      <td>0</td>\n",
       "      <td>Unknown</td>\n",
       "      <td>POSI</td>\n",
       "      <td>091</td>\n",
       "      <td>Substantial</td>\n",
       "      <td>VMC</td>\n",
       "      <td>Southeast Aviation</td>\n",
       "      <td>2021</td>\n",
       "      <td>7</td>\n",
       "      <td>9</td>\n",
       "      <td>05:40:00</td>\n",
       "      <td>5</td>\n",
       "      <td>Summer</td>\n",
       "      <td>0</td>\n",
       "      <td>1</td>\n",
       "      <td>1</td>\n",
       "      <td>1</td>\n",
       "      <td>DEHAVILLAND DHC-2-L-20</td>\n",
       "      <td>DE HAVILLAND DHC-2 BEAVER</td>\n",
       "    </tr>\n",
       "    <tr>\n",
       "      <th>196</th>\n",
       "      <td>ANC21LA058</td>\n",
       "      <td>ACC</td>\n",
       "      <td>103469</td>\n",
       "      <td>Anchorage</td>\n",
       "      <td>N349X</td>\n",
       "      <td>0</td>\n",
       "      <td>DirectorBrief</td>\n",
       "      <td>None Reported</td>\n",
       "      <td>0</td>\n",
       "      <td>0</td>\n",
       "      <td>0</td>\n",
       "      <td>The pilot’s impact with a log while dragging a...</td>\n",
       "      <td>61.161813</td>\n",
       "      <td>-149.98618</td>\n",
       "      <td>MAULE</td>\n",
       "      <td>M-5-210C</td>\n",
       "      <td>AIR</td>\n",
       "      <td>LHD</td>\n",
       "      <td>LAKE HOOD</td>\n",
       "      <td>0</td>\n",
       "      <td>Unknown</td>\n",
       "      <td>PERS</td>\n",
       "      <td>091</td>\n",
       "      <td>Substantial</td>\n",
       "      <td>VMC</td>\n",
       "      <td>Unknown</td>\n",
       "      <td>2021</td>\n",
       "      <td>7</td>\n",
       "      <td>7</td>\n",
       "      <td>14:00:00</td>\n",
       "      <td>14</td>\n",
       "      <td>Summer</td>\n",
       "      <td>0</td>\n",
       "      <td>1</td>\n",
       "      <td>1</td>\n",
       "      <td>1</td>\n",
       "      <td>MAULE M-5-210C</td>\n",
       "      <td>MAULE M-5</td>\n",
       "    </tr>\n",
       "    <tr>\n",
       "      <th>197</th>\n",
       "      <td>ANC21LA053</td>\n",
       "      <td>ACC</td>\n",
       "      <td>103436</td>\n",
       "      <td>Kenney Lake</td>\n",
       "      <td>N185YT</td>\n",
       "      <td>0</td>\n",
       "      <td>DirectorBrief</td>\n",
       "      <td>None Reported</td>\n",
       "      <td>0</td>\n",
       "      <td>0</td>\n",
       "      <td>0</td>\n",
       "      <td>The pilot’s failure to maintain adequate clear...</td>\n",
       "      <td>61.731800</td>\n",
       "      <td>-144.94360</td>\n",
       "      <td>CESSNA</td>\n",
       "      <td>185</td>\n",
       "      <td>AIR</td>\n",
       "      <td>PVT</td>\n",
       "      <td>Private</td>\n",
       "      <td>0</td>\n",
       "      <td>Unknown</td>\n",
       "      <td>PERS</td>\n",
       "      <td>091</td>\n",
       "      <td>Substantial</td>\n",
       "      <td>VMC</td>\n",
       "      <td>Unknown</td>\n",
       "      <td>2021</td>\n",
       "      <td>7</td>\n",
       "      <td>5</td>\n",
       "      <td>21:45:00</td>\n",
       "      <td>21</td>\n",
       "      <td>Summer</td>\n",
       "      <td>0</td>\n",
       "      <td>1</td>\n",
       "      <td>1</td>\n",
       "      <td>1</td>\n",
       "      <td>CESSNA 185</td>\n",
       "      <td>CESSNA 185 SKYWAGON</td>\n",
       "    </tr>\n",
       "    <tr>\n",
       "      <th>198</th>\n",
       "      <td>ANC21LA052</td>\n",
       "      <td>ACC</td>\n",
       "      <td>103418</td>\n",
       "      <td>Palmer</td>\n",
       "      <td>N5213X</td>\n",
       "      <td>0</td>\n",
       "      <td>DirectorBrief</td>\n",
       "      <td>Serious</td>\n",
       "      <td>0</td>\n",
       "      <td>1</td>\n",
       "      <td>1</td>\n",
       "      <td>The pilot’s selection of unsuitable terrain fo...</td>\n",
       "      <td>61.501454</td>\n",
       "      <td>-149.09937</td>\n",
       "      <td>CHAMPION</td>\n",
       "      <td>7GCBC</td>\n",
       "      <td>AIR</td>\n",
       "      <td>No Airport</td>\n",
       "      <td>No Airport</td>\n",
       "      <td>0</td>\n",
       "      <td>Unknown</td>\n",
       "      <td>PERS</td>\n",
       "      <td>091</td>\n",
       "      <td>Substantial</td>\n",
       "      <td>VMC</td>\n",
       "      <td>Unknown</td>\n",
       "      <td>2021</td>\n",
       "      <td>7</td>\n",
       "      <td>4</td>\n",
       "      <td>11:30:00</td>\n",
       "      <td>11</td>\n",
       "      <td>Summer</td>\n",
       "      <td>1</td>\n",
       "      <td>1</td>\n",
       "      <td>1</td>\n",
       "      <td>0</td>\n",
       "      <td>CHAMPION 7GCBC</td>\n",
       "      <td>CHAMPION/ BELLANCA/ AMERICAN CHAMPION CITABRIA</td>\n",
       "    </tr>\n",
       "    <tr>\n",
       "      <th>199</th>\n",
       "      <td>ANC21LA055</td>\n",
       "      <td>ACC</td>\n",
       "      <td>103464</td>\n",
       "      <td>Talkeetna</td>\n",
       "      <td>N82547</td>\n",
       "      <td>0</td>\n",
       "      <td>DirectorBrief</td>\n",
       "      <td>None Reported</td>\n",
       "      <td>0</td>\n",
       "      <td>0</td>\n",
       "      <td>0</td>\n",
       "      <td>The pilot’s improper flight control inputs whi...</td>\n",
       "      <td>62.173903</td>\n",
       "      <td>-150.06427</td>\n",
       "      <td>PIPER</td>\n",
       "      <td>PA-18-150</td>\n",
       "      <td>AIR</td>\n",
       "      <td>AK19</td>\n",
       "      <td>CARL'S LANDING</td>\n",
       "      <td>0</td>\n",
       "      <td>Unknown</td>\n",
       "      <td>PERS</td>\n",
       "      <td>091</td>\n",
       "      <td>Substantial</td>\n",
       "      <td>VMC</td>\n",
       "      <td>B407 LLC</td>\n",
       "      <td>2021</td>\n",
       "      <td>7</td>\n",
       "      <td>3</td>\n",
       "      <td>22:00:00</td>\n",
       "      <td>22</td>\n",
       "      <td>Summer</td>\n",
       "      <td>0</td>\n",
       "      <td>1</td>\n",
       "      <td>1</td>\n",
       "      <td>1</td>\n",
       "      <td>PIPER PA-18-150</td>\n",
       "      <td>PIPER PA-18 SUPER CUB</td>\n",
       "    </tr>\n",
       "  </tbody>\n",
       "</table>\n",
       "<p>200 rows × 38 columns</p>\n",
       "</div>"
      ],
      "text/plain": [
       "        ntsb_no event_type    mkey                      city       n  \\\n",
       "0    ANC23LA086        ACC  193153  Trimble River / Skwentna  N2586R   \n",
       "1    ANC23LA084        ACC  193128                    Bethel  N8192D   \n",
       "2    ANC23LA080        ACC  193097                     Homer  N7558H   \n",
       "3    ANC23LA082        ACC  193105              Beaver Creek   N713C   \n",
       "4    ANC23LA078        ACC  193088                    NENANA   N907W   \n",
       "..          ...        ...     ...                       ...     ...   \n",
       "195  ANC21LA057        ACC  103467              Coffman Cove  N9279Z   \n",
       "196  ANC21LA058        ACC  103469                 Anchorage   N349X   \n",
       "197  ANC21LA053        ACC  103436               Kenney Lake  N185YT   \n",
       "198  ANC21LA052        ACC  103418                    Palmer  N5213X   \n",
       "199  ANC21LA055        ACC  103464                 Talkeetna  N82547   \n",
       "\n",
       "     has_safety_rec    report_type highest_injury_level  fatal_injury_count  \\\n",
       "0                 0  DirectorBrief        None Reported                   0   \n",
       "1                 0  DirectorBrief        None Reported                   0   \n",
       "2                 0  DirectorBrief        None Reported                   0   \n",
       "3                 0  DirectorBrief        None Reported                   0   \n",
       "4                 0  DirectorBrief        None Reported                   0   \n",
       "..              ...            ...                  ...                 ...   \n",
       "195               0  DirectorBrief        None Reported                   0   \n",
       "196               0  DirectorBrief        None Reported                   0   \n",
       "197               0  DirectorBrief        None Reported                   0   \n",
       "198               0  DirectorBrief              Serious                   0   \n",
       "199               0  DirectorBrief        None Reported                   0   \n",
       "\n",
       "     serious_injury_count  minor_injury_count  \\\n",
       "0                       0                   0   \n",
       "1                       0                   0   \n",
       "2                       0                   0   \n",
       "3                       0                   0   \n",
       "4                       0                   0   \n",
       "..                    ...                 ...   \n",
       "195                     0                   0   \n",
       "196                     0                   0   \n",
       "197                     0                   0   \n",
       "198                     1                   1   \n",
       "199                     0                   0   \n",
       "\n",
       "                                        probable_cause   latitude  longitude  \\\n",
       "0                                              Unknown  61.775160 -152.15263   \n",
       "1                                              Unknown  60.805019 -161.78648   \n",
       "2                                              Unknown  59.646929 -151.49323   \n",
       "3                                              Unknown  64.267579 -147.68704   \n",
       "4                                              Unknown  64.650753 -149.83639   \n",
       "..                                                 ...        ...        ...   \n",
       "195  The pilot’s impact with a buoy on takeoff whic...  56.008959 -132.84709   \n",
       "196  The pilot’s impact with a log while dragging a...  61.161813 -149.98618   \n",
       "197  The pilot’s failure to maintain adequate clear...  61.731800 -144.94360   \n",
       "198  The pilot’s selection of unsuitable terrain fo...  61.501454 -149.09937   \n",
       "199  The pilot’s improper flight control inputs whi...  62.173903 -150.06427   \n",
       "\n",
       "                make       model aircraft_category  airport_id  \\\n",
       "0             CESSNA        182K               AIR  No Airport   \n",
       "1              PIPER   PA-18-150               AIR  No Airport   \n",
       "2             CESSNA       A185F               AIR         5BL   \n",
       "3              HELIO       H-295               AIR  No Airport   \n",
       "4    RHODES STEVEN D      SR3500               AIR  No Airport   \n",
       "..               ...         ...               ...         ...   \n",
       "195      DEHAVILLAND  DHC-2-L-20               AIR         KCC   \n",
       "196            MAULE    M-5-210C               AIR         LHD   \n",
       "197           CESSNA         185               AIR         PVT   \n",
       "198         CHAMPION       7GCBC               AIR  No Airport   \n",
       "199            PIPER   PA-18-150               AIR        AK19   \n",
       "\n",
       "          airport_name  amateur_built scheduled purpose_of_flight  far  \\\n",
       "0        Trimble River              0   Unknown              PERS  091   \n",
       "1           No Airport              0   Unknown              PERS  091   \n",
       "2    HOMER-BELUGA LAKE              0   Unknown               BUS  091   \n",
       "3           No Airport              0      NSCH               BUS  135   \n",
       "4           No Airport              1   Unknown              PERS  091   \n",
       "..                 ...            ...       ...               ...  ...   \n",
       "195       COFFMAN COVE              0   Unknown              POSI  091   \n",
       "196          LAKE HOOD              0   Unknown              PERS  091   \n",
       "197            Private              0   Unknown              PERS  091   \n",
       "198         No Airport              0   Unknown              PERS  091   \n",
       "199     CARL'S LANDING              0   Unknown              PERS  091   \n",
       "\n",
       "    aircraft_damage weather_condition                operator  event_year  \\\n",
       "0       Substantial           Unknown                 Unknown        2023   \n",
       "1       Substantial           Unknown                 Unknown        2023   \n",
       "2       Substantial               VMC       Adventure Airways        2023   \n",
       "3       Substantial           Unknown  WRIGHT AIR SERVICE INC        2023   \n",
       "4       Substantial               VMC                 Unknown        2023   \n",
       "..              ...               ...                     ...         ...   \n",
       "195     Substantial               VMC      Southeast Aviation        2021   \n",
       "196     Substantial               VMC                 Unknown        2021   \n",
       "197     Substantial               VMC                 Unknown        2021   \n",
       "198     Substantial               VMC                 Unknown        2021   \n",
       "199     Substantial               VMC                B407 LLC        2021   \n",
       "\n",
       "     event_month  event_day event_time  event_hour event_season  has_injury  \\\n",
       "0              9         24   08:30:00           8         Fall           0   \n",
       "1              9         20   12:00:00          12         Fall           0   \n",
       "2              9         18   13:00:00          13         Fall           0   \n",
       "3              9         16   16:50:00          16         Fall           0   \n",
       "4              9         16   15:00:00          15         Fall           0   \n",
       "..           ...        ...        ...         ...          ...         ...   \n",
       "195            7          9   05:40:00           5       Summer           0   \n",
       "196            7          7   14:00:00          14       Summer           0   \n",
       "197            7          5   21:45:00          21       Summer           0   \n",
       "198            7          4   11:30:00          11       Summer           1   \n",
       "199            7          3   22:00:00          22       Summer           0   \n",
       "\n",
       "     has_aircraft_damage  is_accident  occurred_near_airport  \\\n",
       "0                      1            1                      0   \n",
       "1                      1            1                      0   \n",
       "2                      1            1                      1   \n",
       "3                      1            1                      0   \n",
       "4                      1            1                      0   \n",
       "..                   ...          ...                    ...   \n",
       "195                    1            1                      1   \n",
       "196                    1            1                      1   \n",
       "197                    1            1                      1   \n",
       "198                    1            1                      0   \n",
       "199                    1            1                      1   \n",
       "\n",
       "                 make_model                                 aircraft_family  \n",
       "0               CESSNA 182K                              CESSNA 182 SKYLANE  \n",
       "1           PIPER PA-18-150                           PIPER PA-18 SUPER CUB  \n",
       "2              CESSNA A185F                             CESSNA 185 SKYWAGON  \n",
       "3               HELIO H-295                                   HELIO COURIER  \n",
       "4    RHODES STEVEN D SR3500                                 UNCOMMON FAMILY  \n",
       "..                      ...                                             ...  \n",
       "195  DEHAVILLAND DHC-2-L-20                       DE HAVILLAND DHC-2 BEAVER  \n",
       "196          MAULE M-5-210C                                       MAULE M-5  \n",
       "197              CESSNA 185                             CESSNA 185 SKYWAGON  \n",
       "198          CHAMPION 7GCBC  CHAMPION/ BELLANCA/ AMERICAN CHAMPION CITABRIA  \n",
       "199         PIPER PA-18-150                           PIPER PA-18 SUPER CUB  \n",
       "\n",
       "[200 rows x 38 columns]"
      ]
     },
     "execution_count": 47,
     "metadata": {},
     "output_type": "execute_result"
    }
   ],
   "source": [
    "ak_clean.head(200)"
   ]
  },
  {
   "cell_type": "markdown",
   "id": "b363d128-ca16-401d-989c-664af4ef57fd",
   "metadata": {
    "tags": []
   },
   "source": [
    "## Export"
   ]
  },
  {
   "cell_type": "code",
   "execution_count": 48,
   "id": "a0435f71-f2dc-4a21-8003-743fb6c02f03",
   "metadata": {
    "tags": []
   },
   "outputs": [],
   "source": [
    "ak_clean.to_csv('../datasets/alaska_single_engine_clean.csv', index=False)"
   ]
  }
 ],
 "metadata": {
  "kernelspec": {
   "display_name": "Python 3 (ipykernel)",
   "language": "python",
   "name": "python3"
  },
  "language_info": {
   "codemirror_mode": {
    "name": "ipython",
    "version": 3
   },
   "file_extension": ".py",
   "mimetype": "text/x-python",
   "name": "python",
   "nbconvert_exporter": "python",
   "pygments_lexer": "ipython3",
   "version": "3.11.5"
  }
 },
 "nbformat": 4,
 "nbformat_minor": 5
}
