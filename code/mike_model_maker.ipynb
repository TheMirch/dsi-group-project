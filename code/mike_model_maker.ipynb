{
 "cells": [
  {
   "cell_type": "code",
   "execution_count": 110,
   "id": "16d38668-ea6b-4e59-ab05-9ab4eafc2927",
   "metadata": {
    "tags": []
   },
   "outputs": [],
   "source": [
    "import pandas as pd\n",
    "import numpy as np\n",
    "import matplotlib.pyplot as plt\n",
    "\n",
    "from sklearn import metrics\n",
    "from sklearn.preprocessing import OneHotEncoder\n",
    "from sklearn.model_selection import train_test_split\n",
    "\n",
    "\n",
    "import statsmodels.api as sm\n"
   ]
  },
  {
   "cell_type": "code",
   "execution_count": 111,
   "id": "e3236e2c-7dd3-47c5-878b-b22c1bab12d6",
   "metadata": {
    "tags": []
   },
   "outputs": [],
   "source": [
    "class aviation_data_model:\n",
    "    def __init__(self, x, y, drop_categories = None, test_size = 0.3, random_state = 2023):\n",
    "        self.x = x.copy()\n",
    "        self.drop_categories = drop_categories\n",
    "        self.y = y\n",
    "        self.random_state = random_state\n",
    "        self.test_size = test_size\n",
    "        self.model = None\n",
    "        self.x_oh = None\n",
    "        self.x_con = None\n",
    "        self.results = None\n",
    "        self.pvalues = None\n",
    "\n",
    "        \n",
    "    def one_hot(self):\n",
    "        #Check to see if dummy parameter passed correctly\n",
    "        if type(self.drop_categories[0]) == tuple:\n",
    "            \n",
    "            categories = []\n",
    "            for i, j in self.drop_categories:\n",
    "                # Collect subset of columns to dummify\n",
    "                categories.append(i)\n",
    "                \n",
    "                # If a specific drop value has been given for a column, add a 0- to it so it is 'first' and drops accordingly\n",
    "                if j != 'first':\n",
    "                    self.x[i] = np.where(self.x[i] == j, '0-' + j, self.x[i])\n",
    "        else:\n",
    "            raise TypeError('Invalid OneHotEncoder values. Use None or a list of tuples of (column name, category name')\n",
    "            \n",
    "        self.x_oh = pd.get_dummies(data= self.x, columns = categories, drop_first=True)\n",
    "        # Log line - uncomment below to check shapes after important steps\n",
    "        # print(f\"OneHot Resulting Shape: {self.x_oh.shape}\")\n",
    "        return self.x_oh\n",
    "    \n",
    "    def train_test(self, x, y):\n",
    "        X_train, X_test, y_train, y_test = train_test_split(x, y, test_size=self.test_size, random_state=self.random_state)\n",
    "        return (X_train, X_test, y_train, y_test)\n",
    "        \n",
    "    \n",
    "    def fit_binomial(self):\n",
    "        # Start with OneHotEncoding if given\n",
    "        if self.drop_categories:\n",
    "            oh = self.one_hot()\n",
    "            \n",
    "        # Add column for constant per statsmodels GLM requirements\n",
    "        x_con = sm.add_constant(oh[list(oh.columns)])\n",
    "        self.x_con = x_con\n",
    "        \n",
    "        # Log line - uncomment below to check shapes after important steps\n",
    "        # print(f\"After constant Resulting Shape: {self.x_con.shape}\")\n",
    "        \n",
    "        #Train Test Split\n",
    "        X_train, X_test, y_train, y_test = self.train_test(x_con, self.y)\n",
    "\n",
    "        \n",
    "        # Log lines - uncomment below to check shapes after important steps\n",
    "        # print(f\"After tts X_train Resulting Shape: {X_train.shape}\")\n",
    "        # print(f\"After tts X_test Resulting Shape: {X_test.shape}\")\n",
    "        # print(f\"After tts y_train Resulting Shape: {y_train.shape}\")\n",
    "        # print(f\"After tts y_test Resulting Shape: {y_test.shape}\")\n",
    "        \n",
    "        #Make and fit a model\n",
    "        glm_bin = sm.GLM(\n",
    "            y_train,\n",
    "            X_train,\n",
    "            family=sm.families.Binomial(link=sm.families.links.Logit())).fit()\n",
    "        \n",
    "        #Stash results as accessible attributes\n",
    "        self.results = glm_bin.summary()\n",
    "        self.model = glm_bin\n",
    "        self.pvalues = np.round(glm_bin.pvalues, 4).to_frame().sort_values(by = 0)"
   ]
  },
  {
   "cell_type": "code",
   "execution_count": 7,
   "id": "489d814b-d6e4-4bd7-b7e0-ecdb6f98d5c3",
   "metadata": {
    "tags": []
   },
   "outputs": [],
   "source": [
    "df2 = pd.read_csv('../datasets/alaska_single_engine_clean.csv')"
   ]
  },
  {
   "cell_type": "code",
   "execution_count": 10,
   "id": "0d833d7d-9288-437d-a330-d6d294f58187",
   "metadata": {
    "tags": []
   },
   "outputs": [],
   "source": [
    "df2['model'] = df2['model'].str.upper()"
   ]
  },
  {
   "cell_type": "code",
   "execution_count": 11,
   "id": "29cd2b7d-8bb6-4474-95f7-d580ab555c81",
   "metadata": {
    "tags": []
   },
   "outputs": [],
   "source": [
    "df2['make'] = df2['make'].str.upper()"
   ]
  },
  {
   "cell_type": "code",
   "execution_count": 15,
   "id": "ece4e498-1df9-4694-b9a5-ef379f7b8326",
   "metadata": {
    "tags": []
   },
   "outputs": [],
   "source": [
    "df2['occurred_near_airport'] = 1 - df2['airport_name'].str.contains('Unknown').astype(int)"
   ]
  },
  {
   "cell_type": "code",
   "execution_count": 18,
   "id": "f709508c-0db8-4372-86e0-7343fdedc4cb",
   "metadata": {
    "tags": []
   },
   "outputs": [],
   "source": [
    "df2['purpose_of_flight'] = df2['purpose_of_flight'].map(lambda x: 'UNK' if x=='Unknown' else x)"
   ]
  },
  {
   "cell_type": "code",
   "execution_count": 19,
   "id": "a475b0f1-0579-4423-8d88-cce6b362a22f",
   "metadata": {
    "tags": []
   },
   "outputs": [],
   "source": [
    "def is_top_model(model, top_x):\n",
    "    top_list = list(df2['model'].value_counts()[:top_x + 1].index.str.upper())\n",
    "    return True if model.upper() in top_list else False"
   ]
  },
  {
   "cell_type": "code",
   "execution_count": 20,
   "id": "7c69f2cd-7c93-47c1-be85-6016630a83a1",
   "metadata": {
    "tags": []
   },
   "outputs": [],
   "source": [
    "df2['model'] = [x.upper() if is_top_model(x,200) else 'UNCOMMON MODEL' for x in df2['model']]"
   ]
  },
  {
   "cell_type": "code",
   "execution_count": 21,
   "id": "71052842-0636-4ccc-b6fe-56ea4c865312",
   "metadata": {
    "tags": []
   },
   "outputs": [],
   "source": [
    "def is_top_make(make, top_x):\n",
    "    top_list = list(df2['make'].value_counts()[:top_x + 1].index.str.upper())\n",
    "    return True if make.upper() in top_list else False"
   ]
  },
  {
   "cell_type": "code",
   "execution_count": 22,
   "id": "b9bf0136-0b84-4f42-86d2-44fd29e4998e",
   "metadata": {
    "tags": []
   },
   "outputs": [],
   "source": [
    "df2['make'] = [x.upper() if is_top_make(x,50) else 'UNCOMMON MAKE' for x in df2['make']]\n"
   ]
  },
  {
   "cell_type": "code",
   "execution_count": 38,
   "id": "cbeaac82-48b6-4bb3-b1c0-cbc19c607e56",
   "metadata": {
    "tags": []
   },
   "outputs": [],
   "source": [
    "X = df2.drop(['ntsb_no', 'probable_cause', 'airport_name', 'event_type', 'mkey', 'city', 'n', 'has_safety_rec', 'report_type', 'highest_injury_level', 'fatal_injury_count', 'serious_injury_count', 'minor_injury_count', 'airport_id', 'far', 'aircraft_damage', 'operator', 'event_year', 'event_season', 'event_day', 'aircraft_category', 'has_injury', 'event_time','has_aircraft_damage'], axis=1)"
   ]
  },
  {
   "cell_type": "code",
   "execution_count": 39,
   "id": "e510b381-9e47-4204-a91a-32ffdce32191",
   "metadata": {
    "tags": []
   },
   "outputs": [],
   "source": [
    "tst_X = pd.get_dummies(data= X, columns = ['make', 'model', 'scheduled', 'purpose_of_flight', 'weather_condition', 'event_month', 'event_hour'], drop_first=True)"
   ]
  },
  {
   "cell_type": "code",
   "execution_count": null,
   "id": "eeadccba-aa93-4ccd-881d-c212d9908db9",
   "metadata": {
    "tags": []
   },
   "outputs": [],
   "source": []
  },
  {
   "cell_type": "code",
   "execution_count": 25,
   "id": "5e2a5039-0286-4783-9014-79af22c8aeb4",
   "metadata": {
    "tags": []
   },
   "outputs": [],
   "source": [
    "y = df2['has_injury']"
   ]
  },
  {
   "cell_type": "code",
   "execution_count": 115,
   "id": "ca80330e-f160-48a3-84b7-d17fcf864c77",
   "metadata": {
    "tags": []
   },
   "outputs": [],
   "source": [
    "# SAMPLE!\n",
    "# create a new object that is ultimately a fitted binomial model\n",
    "binomial_model_1 = aviation_data_model( X, y, [\n",
    "    # Include tuples of (column name, specific value you want dropped)\n",
    "    # Just put 'first' if you don't care about dropping a specific value\n",
    "    ('make', 'CESSNA'),\n",
    "    ('model', 'PA-18'),\n",
    "    ('scheduled', 'first'),\n",
    "    ('purpose_of_flight', 'first'),\n",
    "    ('weather_condition', 'first'),\n",
    "    ('event_month', 'first'),\n",
    "    ('event_hour', 'first')\n",
    "])\n",
    "\n",
    "# call the fit_binomial() model to get it!\n",
    "binomial_model_1.fit_binomial()\n",
    "\n",
    "# access the results\n",
    "res = binomial_model_1.results\n",
    "# or the p values\n",
    "pvalues = binomial_model_1.pvalues"
   ]
  },
  {
   "cell_type": "code",
   "execution_count": null,
   "id": "f23cd523-8ec3-4200-bb9f-c54ca87a2104",
   "metadata": {
    "tags": []
   },
   "outputs": [],
   "source": []
  },
  {
   "cell_type": "code",
   "execution_count": null,
   "id": "3c832817-1d70-4f3a-be4f-7f8f7ff2a55c",
   "metadata": {
    "tags": []
   },
   "outputs": [],
   "source": []
  },
  {
   "cell_type": "code",
   "execution_count": 76,
   "id": "711ce957-b4a4-444b-bc0a-2a7aab55c333",
   "metadata": {
    "tags": []
   },
   "outputs": [],
   "source": [
    "X_tr, X_test, y_tr, y_test = glm1.train_test(glm2.x_con, y)"
   ]
  },
  {
   "cell_type": "code",
   "execution_count": 77,
   "id": "4d5394cd-9163-4108-ba3b-46c0f3024cd1",
   "metadata": {
    "tags": []
   },
   "outputs": [
    {
     "data": {
      "text/html": [
       "<div>\n",
       "<style scoped>\n",
       "    .dataframe tbody tr th:only-of-type {\n",
       "        vertical-align: middle;\n",
       "    }\n",
       "\n",
       "    .dataframe tbody tr th {\n",
       "        vertical-align: top;\n",
       "    }\n",
       "\n",
       "    .dataframe thead th {\n",
       "        text-align: right;\n",
       "    }\n",
       "</style>\n",
       "<table border=\"1\" class=\"dataframe\">\n",
       "  <thead>\n",
       "    <tr style=\"text-align: right;\">\n",
       "      <th></th>\n",
       "      <th>const</th>\n",
       "      <th>latitude</th>\n",
       "      <th>longitude</th>\n",
       "      <th>amateur_built</th>\n",
       "      <th>is_accident</th>\n",
       "      <th>occurred_near_airport</th>\n",
       "      <th>make_AERO COMMANDER</th>\n",
       "      <th>make_AERONCA</th>\n",
       "      <th>make_AEROSPATIALE</th>\n",
       "      <th>make_AIRBUS</th>\n",
       "      <th>...</th>\n",
       "      <th>event_hour_14</th>\n",
       "      <th>event_hour_15</th>\n",
       "      <th>event_hour_16</th>\n",
       "      <th>event_hour_17</th>\n",
       "      <th>event_hour_18</th>\n",
       "      <th>event_hour_19</th>\n",
       "      <th>event_hour_20</th>\n",
       "      <th>event_hour_21</th>\n",
       "      <th>event_hour_22</th>\n",
       "      <th>event_hour_23</th>\n",
       "    </tr>\n",
       "  </thead>\n",
       "  <tbody>\n",
       "    <tr>\n",
       "      <th>4125</th>\n",
       "      <td>1.0</td>\n",
       "      <td>0.000000</td>\n",
       "      <td>0.000000</td>\n",
       "      <td>0</td>\n",
       "      <td>1</td>\n",
       "      <td>1</td>\n",
       "      <td>0</td>\n",
       "      <td>0</td>\n",
       "      <td>0</td>\n",
       "      <td>0</td>\n",
       "      <td>...</td>\n",
       "      <td>0</td>\n",
       "      <td>0</td>\n",
       "      <td>0</td>\n",
       "      <td>0</td>\n",
       "      <td>0</td>\n",
       "      <td>0</td>\n",
       "      <td>0</td>\n",
       "      <td>0</td>\n",
       "      <td>0</td>\n",
       "      <td>0</td>\n",
       "    </tr>\n",
       "    <tr>\n",
       "      <th>1780</th>\n",
       "      <td>1.0</td>\n",
       "      <td>58.666667</td>\n",
       "      <td>-156.566665</td>\n",
       "      <td>0</td>\n",
       "      <td>1</td>\n",
       "      <td>0</td>\n",
       "      <td>0</td>\n",
       "      <td>0</td>\n",
       "      <td>0</td>\n",
       "      <td>0</td>\n",
       "      <td>...</td>\n",
       "      <td>0</td>\n",
       "      <td>0</td>\n",
       "      <td>0</td>\n",
       "      <td>0</td>\n",
       "      <td>0</td>\n",
       "      <td>0</td>\n",
       "      <td>0</td>\n",
       "      <td>0</td>\n",
       "      <td>0</td>\n",
       "      <td>0</td>\n",
       "    </tr>\n",
       "    <tr>\n",
       "      <th>3841</th>\n",
       "      <td>1.0</td>\n",
       "      <td>59.509582</td>\n",
       "      <td>-139.709701</td>\n",
       "      <td>0</td>\n",
       "      <td>1</td>\n",
       "      <td>0</td>\n",
       "      <td>0</td>\n",
       "      <td>0</td>\n",
       "      <td>0</td>\n",
       "      <td>0</td>\n",
       "      <td>...</td>\n",
       "      <td>0</td>\n",
       "      <td>1</td>\n",
       "      <td>0</td>\n",
       "      <td>0</td>\n",
       "      <td>0</td>\n",
       "      <td>0</td>\n",
       "      <td>0</td>\n",
       "      <td>0</td>\n",
       "      <td>0</td>\n",
       "      <td>0</td>\n",
       "    </tr>\n",
       "    <tr>\n",
       "      <th>5396</th>\n",
       "      <td>1.0</td>\n",
       "      <td>65.249626</td>\n",
       "      <td>-166.360778</td>\n",
       "      <td>0</td>\n",
       "      <td>1</td>\n",
       "      <td>1</td>\n",
       "      <td>0</td>\n",
       "      <td>0</td>\n",
       "      <td>0</td>\n",
       "      <td>0</td>\n",
       "      <td>...</td>\n",
       "      <td>0</td>\n",
       "      <td>0</td>\n",
       "      <td>0</td>\n",
       "      <td>0</td>\n",
       "      <td>0</td>\n",
       "      <td>0</td>\n",
       "      <td>0</td>\n",
       "      <td>0</td>\n",
       "      <td>0</td>\n",
       "      <td>0</td>\n",
       "    </tr>\n",
       "    <tr>\n",
       "      <th>2687</th>\n",
       "      <td>1.0</td>\n",
       "      <td>58.799732</td>\n",
       "      <td>-156.899932</td>\n",
       "      <td>0</td>\n",
       "      <td>1</td>\n",
       "      <td>0</td>\n",
       "      <td>0</td>\n",
       "      <td>0</td>\n",
       "      <td>0</td>\n",
       "      <td>0</td>\n",
       "      <td>...</td>\n",
       "      <td>0</td>\n",
       "      <td>0</td>\n",
       "      <td>0</td>\n",
       "      <td>0</td>\n",
       "      <td>0</td>\n",
       "      <td>0</td>\n",
       "      <td>0</td>\n",
       "      <td>0</td>\n",
       "      <td>0</td>\n",
       "      <td>0</td>\n",
       "    </tr>\n",
       "    <tr>\n",
       "      <th>...</th>\n",
       "      <td>...</td>\n",
       "      <td>...</td>\n",
       "      <td>...</td>\n",
       "      <td>...</td>\n",
       "      <td>...</td>\n",
       "      <td>...</td>\n",
       "      <td>...</td>\n",
       "      <td>...</td>\n",
       "      <td>...</td>\n",
       "      <td>...</td>\n",
       "      <td>...</td>\n",
       "      <td>...</td>\n",
       "      <td>...</td>\n",
       "      <td>...</td>\n",
       "      <td>...</td>\n",
       "      <td>...</td>\n",
       "      <td>...</td>\n",
       "      <td>...</td>\n",
       "      <td>...</td>\n",
       "      <td>...</td>\n",
       "      <td>...</td>\n",
       "    </tr>\n",
       "    <tr>\n",
       "      <th>4148</th>\n",
       "      <td>1.0</td>\n",
       "      <td>64.809890</td>\n",
       "      <td>-147.719314</td>\n",
       "      <td>0</td>\n",
       "      <td>1</td>\n",
       "      <td>0</td>\n",
       "      <td>0</td>\n",
       "      <td>0</td>\n",
       "      <td>0</td>\n",
       "      <td>0</td>\n",
       "      <td>...</td>\n",
       "      <td>0</td>\n",
       "      <td>1</td>\n",
       "      <td>0</td>\n",
       "      <td>0</td>\n",
       "      <td>0</td>\n",
       "      <td>0</td>\n",
       "      <td>0</td>\n",
       "      <td>0</td>\n",
       "      <td>0</td>\n",
       "      <td>0</td>\n",
       "    </tr>\n",
       "    <tr>\n",
       "      <th>884</th>\n",
       "      <td>1.0</td>\n",
       "      <td>61.950000</td>\n",
       "      <td>-149.216659</td>\n",
       "      <td>0</td>\n",
       "      <td>1</td>\n",
       "      <td>0</td>\n",
       "      <td>0</td>\n",
       "      <td>0</td>\n",
       "      <td>0</td>\n",
       "      <td>0</td>\n",
       "      <td>...</td>\n",
       "      <td>0</td>\n",
       "      <td>0</td>\n",
       "      <td>0</td>\n",
       "      <td>0</td>\n",
       "      <td>0</td>\n",
       "      <td>0</td>\n",
       "      <td>0</td>\n",
       "      <td>0</td>\n",
       "      <td>0</td>\n",
       "      <td>0</td>\n",
       "    </tr>\n",
       "    <tr>\n",
       "      <th>2743</th>\n",
       "      <td>1.0</td>\n",
       "      <td>61.080165</td>\n",
       "      <td>-151.160766</td>\n",
       "      <td>0</td>\n",
       "      <td>1</td>\n",
       "      <td>1</td>\n",
       "      <td>0</td>\n",
       "      <td>0</td>\n",
       "      <td>0</td>\n",
       "      <td>0</td>\n",
       "      <td>...</td>\n",
       "      <td>0</td>\n",
       "      <td>0</td>\n",
       "      <td>0</td>\n",
       "      <td>0</td>\n",
       "      <td>0</td>\n",
       "      <td>1</td>\n",
       "      <td>0</td>\n",
       "      <td>0</td>\n",
       "      <td>0</td>\n",
       "      <td>0</td>\n",
       "    </tr>\n",
       "    <tr>\n",
       "      <th>5657</th>\n",
       "      <td>1.0</td>\n",
       "      <td>0.000000</td>\n",
       "      <td>0.000000</td>\n",
       "      <td>0</td>\n",
       "      <td>1</td>\n",
       "      <td>1</td>\n",
       "      <td>0</td>\n",
       "      <td>0</td>\n",
       "      <td>0</td>\n",
       "      <td>0</td>\n",
       "      <td>...</td>\n",
       "      <td>0</td>\n",
       "      <td>0</td>\n",
       "      <td>0</td>\n",
       "      <td>0</td>\n",
       "      <td>0</td>\n",
       "      <td>0</td>\n",
       "      <td>0</td>\n",
       "      <td>0</td>\n",
       "      <td>0</td>\n",
       "      <td>0</td>\n",
       "    </tr>\n",
       "    <tr>\n",
       "      <th>4951</th>\n",
       "      <td>1.0</td>\n",
       "      <td>58.820354</td>\n",
       "      <td>-157.859634</td>\n",
       "      <td>0</td>\n",
       "      <td>1</td>\n",
       "      <td>1</td>\n",
       "      <td>0</td>\n",
       "      <td>1</td>\n",
       "      <td>0</td>\n",
       "      <td>0</td>\n",
       "      <td>...</td>\n",
       "      <td>0</td>\n",
       "      <td>0</td>\n",
       "      <td>0</td>\n",
       "      <td>0</td>\n",
       "      <td>0</td>\n",
       "      <td>0</td>\n",
       "      <td>0</td>\n",
       "      <td>0</td>\n",
       "      <td>0</td>\n",
       "      <td>0</td>\n",
       "    </tr>\n",
       "  </tbody>\n",
       "</table>\n",
       "<p>4296 rows × 314 columns</p>\n",
       "</div>"
      ],
      "text/plain": [
       "      const   latitude   longitude  amateur_built  is_accident  \\\n",
       "4125    1.0   0.000000    0.000000              0            1   \n",
       "1780    1.0  58.666667 -156.566665              0            1   \n",
       "3841    1.0  59.509582 -139.709701              0            1   \n",
       "5396    1.0  65.249626 -166.360778              0            1   \n",
       "2687    1.0  58.799732 -156.899932              0            1   \n",
       "...     ...        ...         ...            ...          ...   \n",
       "4148    1.0  64.809890 -147.719314              0            1   \n",
       "884     1.0  61.950000 -149.216659              0            1   \n",
       "2743    1.0  61.080165 -151.160766              0            1   \n",
       "5657    1.0   0.000000    0.000000              0            1   \n",
       "4951    1.0  58.820354 -157.859634              0            1   \n",
       "\n",
       "      occurred_near_airport  make_AERO COMMANDER  make_AERONCA  \\\n",
       "4125                      1                    0             0   \n",
       "1780                      0                    0             0   \n",
       "3841                      0                    0             0   \n",
       "5396                      1                    0             0   \n",
       "2687                      0                    0             0   \n",
       "...                     ...                  ...           ...   \n",
       "4148                      0                    0             0   \n",
       "884                       0                    0             0   \n",
       "2743                      1                    0             0   \n",
       "5657                      1                    0             0   \n",
       "4951                      1                    0             1   \n",
       "\n",
       "      make_AEROSPATIALE  make_AIRBUS  ...  event_hour_14  event_hour_15  \\\n",
       "4125                  0            0  ...              0              0   \n",
       "1780                  0            0  ...              0              0   \n",
       "3841                  0            0  ...              0              1   \n",
       "5396                  0            0  ...              0              0   \n",
       "2687                  0            0  ...              0              0   \n",
       "...                 ...          ...  ...            ...            ...   \n",
       "4148                  0            0  ...              0              1   \n",
       "884                   0            0  ...              0              0   \n",
       "2743                  0            0  ...              0              0   \n",
       "5657                  0            0  ...              0              0   \n",
       "4951                  0            0  ...              0              0   \n",
       "\n",
       "      event_hour_16  event_hour_17  event_hour_18  event_hour_19  \\\n",
       "4125              0              0              0              0   \n",
       "1780              0              0              0              0   \n",
       "3841              0              0              0              0   \n",
       "5396              0              0              0              0   \n",
       "2687              0              0              0              0   \n",
       "...             ...            ...            ...            ...   \n",
       "4148              0              0              0              0   \n",
       "884               0              0              0              0   \n",
       "2743              0              0              0              1   \n",
       "5657              0              0              0              0   \n",
       "4951              0              0              0              0   \n",
       "\n",
       "      event_hour_20  event_hour_21  event_hour_22  event_hour_23  \n",
       "4125              0              0              0              0  \n",
       "1780              0              0              0              0  \n",
       "3841              0              0              0              0  \n",
       "5396              0              0              0              0  \n",
       "2687              0              0              0              0  \n",
       "...             ...            ...            ...            ...  \n",
       "4148              0              0              0              0  \n",
       "884               0              0              0              0  \n",
       "2743              0              0              0              0  \n",
       "5657              0              0              0              0  \n",
       "4951              0              0              0              0  \n",
       "\n",
       "[4296 rows x 314 columns]"
      ]
     },
     "execution_count": 77,
     "metadata": {},
     "output_type": "execute_result"
    }
   ],
   "source": [
    "X_tr"
   ]
  },
  {
   "cell_type": "code",
   "execution_count": null,
   "id": "859afbb0-b385-4aeb-b37e-aabee9a4fde5",
   "metadata": {
    "tags": []
   },
   "outputs": [],
   "source": []
  },
  {
   "cell_type": "code",
   "execution_count": 79,
   "id": "84bbd48d-f83d-4f57-9d25-0012f2b44283",
   "metadata": {
    "tags": []
   },
   "outputs": [],
   "source": [
    "        glm_bin = sm.GLM(\n",
    "            y_tr,\n",
    "            X_tr,\n",
    "            family=sm.families.Binomial(link=sm.families.links.Logit())).fit()"
   ]
  },
  {
   "cell_type": "code",
   "execution_count": 114,
   "id": "7db45a54-a22d-480a-8978-373bc6972505",
   "metadata": {
    "tags": []
   },
   "outputs": [
    {
     "data": {
      "text/plain": [
       "const            9.998662e-01\n",
       "latitude         3.282227e-01\n",
       "longitude        5.170413e-01\n",
       "amateur_built    5.631090e-02\n",
       "is_accident      4.956795e-07\n",
       "                     ...     \n",
       "event_hour_19    2.158478e-01\n",
       "event_hour_20    1.510521e-01\n",
       "event_hour_21    2.160681e-01\n",
       "event_hour_22    1.957759e-01\n",
       "event_hour_23    2.404507e-01\n",
       "Length: 314, dtype: float64"
      ]
     },
     "execution_count": 114,
     "metadata": {},
     "output_type": "execute_result"
    }
   ],
   "source": [
    "glm_bin.pvalues"
   ]
  },
  {
   "cell_type": "code",
   "execution_count": null,
   "id": "d4ecd6a2-94e0-4955-be99-b78a9f58a46a",
   "metadata": {},
   "outputs": [],
   "source": []
  }
 ],
 "metadata": {
  "kernelspec": {
   "display_name": "Python 3 (ipykernel)",
   "language": "python",
   "name": "python3"
  },
  "language_info": {
   "codemirror_mode": {
    "name": "ipython",
    "version": 3
   },
   "file_extension": ".py",
   "mimetype": "text/x-python",
   "name": "python",
   "nbconvert_exporter": "python",
   "pygments_lexer": "ipython3",
   "version": "3.11.5"
  }
 },
 "nbformat": 4,
 "nbformat_minor": 5
}
