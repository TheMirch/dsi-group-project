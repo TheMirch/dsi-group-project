{
 "cells": [
  {
   "cell_type": "code",
   "execution_count": 91,
   "id": "d7f6944f-33a9-4a6c-823d-0bd9e0ca1caa",
   "metadata": {
    "tags": []
   },
   "outputs": [],
   "source": [
    "import pandas as pd\n",
    "import numpy as np\n",
    "from sklearn.model_selection import train_test_split, GridSearchCV\n",
    "from sklearn.pipeline import Pipeline\n",
    "from sklearn.preprocessing import StandardScaler\n",
    "from sklearn.linear_model import LogisticRegression\n",
    "from sklearn.metrics import classification_report, confusion_matrix\n",
    "import pickle\n",
    "\n",
    "\n",
    "# pd.set_option('display.max_rows', None)\n",
    "# pd.set_option('display.max_columns', None)\n",
    "# pd.reset_option('display.max_rows')\n",
    "# pd.reset_option('display.max_columns')"
   ]
  },
  {
   "cell_type": "code",
   "execution_count": 2,
   "id": "fecbba99-2624-4c11-b8f1-0097efd8f0e0",
   "metadata": {
    "tags": []
   },
   "outputs": [],
   "source": [
    "ak = pd.read_csv('../datasets/alaska_single_engine_clean.csv', low_memory=False)"
   ]
  },
  {
   "cell_type": "code",
   "execution_count": 3,
   "id": "94043aef-84b2-4218-9fe2-812a1c505a8e",
   "metadata": {
    "tags": []
   },
   "outputs": [
    {
     "data": {
      "text/plain": [
       "(5659, 31)"
      ]
     },
     "execution_count": 3,
     "metadata": {},
     "output_type": "execute_result"
    }
   ],
   "source": [
    "ak.shape"
   ]
  },
  {
   "cell_type": "code",
   "execution_count": 4,
   "id": "6a5250af-ec04-4f42-ae2a-71ab92acd3e0",
   "metadata": {
    "tags": []
   },
   "outputs": [],
   "source": [
    "ak['has_injury'] = ak.highest_injury_level.apply(lambda x: 0 if x == 'None Reported' else 1)"
   ]
  },
  {
   "cell_type": "code",
   "execution_count": 5,
   "id": "509b2ed2-abca-4018-b1d6-789f4ed00ed3",
   "metadata": {
    "tags": []
   },
   "outputs": [],
   "source": [
    "ak = ak.drop(['ntsb_no', 'mkey', 'n', 'probable_cause', 'far', 'operator', 'event_time', 'fatal_injury_count', 'serious_injury_count', 'minor_injury_count', 'air_craft_damage', 'event_type', 'report_type', 'has_safety_rec', 'highest_injury_level', 'event_year'], axis=1)"
   ]
  },
  {
   "cell_type": "code",
   "execution_count": 6,
   "id": "0d7bf79b-c52f-4db7-91fb-20617b66b82d",
   "metadata": {
    "tags": []
   },
   "outputs": [
    {
     "data": {
      "text/plain": [
       "has_injury\n",
       "0    4044\n",
       "1    1615\n",
       "Name: count, dtype: int64"
      ]
     },
     "execution_count": 6,
     "metadata": {},
     "output_type": "execute_result"
    }
   ],
   "source": [
    "ak.has_injury.value_counts()"
   ]
  },
  {
   "cell_type": "code",
   "execution_count": 7,
   "id": "be17154d-f54e-4a2d-a231-6a898fb8b8d5",
   "metadata": {
    "tags": []
   },
   "outputs": [],
   "source": [
    "categorical_cols = ak.select_dtypes(exclude=['number']).columns.tolist()"
   ]
  },
  {
   "cell_type": "code",
   "execution_count": 8,
   "id": "0dd8e36b-824a-4596-8071-aed5a91f464b",
   "metadata": {
    "tags": []
   },
   "outputs": [
    {
     "data": {
      "text/plain": [
       "['city',\n",
       " 'make',\n",
       " 'model',\n",
       " 'air_craft_category',\n",
       " 'airport_id',\n",
       " 'airport_name',\n",
       " 'scheduled',\n",
       " 'purpose_of_flight',\n",
       " 'weather_condition',\n",
       " 'event_season']"
      ]
     },
     "execution_count": 8,
     "metadata": {},
     "output_type": "execute_result"
    }
   ],
   "source": [
    "categorical_cols"
   ]
  },
  {
   "cell_type": "code",
   "execution_count": 9,
   "id": "cd3935ad-ea50-4987-92b4-44ca576c6ec8",
   "metadata": {
    "tags": []
   },
   "outputs": [
    {
     "data": {
      "text/plain": [
       "Index(['city', 'latitude', 'longitude', 'make', 'model', 'air_craft_category',\n",
       "       'airport_id', 'airport_name', 'amateur_built', 'scheduled',\n",
       "       'purpose_of_flight', 'weather_condition', 'event_month', 'event_day',\n",
       "       'event_season', 'has_injury'],\n",
       "      dtype='object')"
      ]
     },
     "execution_count": 9,
     "metadata": {},
     "output_type": "execute_result"
    }
   ],
   "source": [
    "ak.columns"
   ]
  },
  {
   "cell_type": "code",
   "execution_count": 10,
   "id": "0274347f-4879-465d-be25-4aff047a724b",
   "metadata": {},
   "outputs": [],
   "source": [
    "ak_dummies = pd.get_dummies(ak, columns = categorical_cols, drop_first=True)"
   ]
  },
  {
   "cell_type": "code",
   "execution_count": 11,
   "id": "130c9f36-5770-4745-a6f2-dea95704a934",
   "metadata": {
    "tags": []
   },
   "outputs": [],
   "source": [
    "X = ak_dummies.drop('has_injury', axis=1)\n",
    "y = ak_dummies['has_injury']"
   ]
  },
  {
   "cell_type": "code",
   "execution_count": 12,
   "id": "86d9e924-8a1f-4e15-80a3-707b18dcf4df",
   "metadata": {
    "tags": []
   },
   "outputs": [],
   "source": [
    "X_train, X_test, y_train, y_test = train_test_split(X, y, test_size=0.075, random_state=21)"
   ]
  },
  {
   "cell_type": "code",
   "execution_count": null,
   "id": "786465a3-e085-418a-80c0-936e36bc8da7",
   "metadata": {
    "tags": []
   },
   "outputs": [],
   "source": []
  },
  {
   "cell_type": "markdown",
   "id": "36aa5887-7f44-48f8-afcf-5ff0a4561068",
   "metadata": {
    "tags": []
   },
   "source": [
    "### Baseline"
   ]
  },
  {
   "cell_type": "code",
   "execution_count": 13,
   "id": "488fe461-700d-449e-9d46-31ef44ec4f35",
   "metadata": {
    "tags": []
   },
   "outputs": [
    {
     "data": {
      "text/plain": [
       "0.7146138893797491"
      ]
     },
     "execution_count": 13,
     "metadata": {},
     "output_type": "execute_result"
    }
   ],
   "source": [
    "1 - y.mean()"
   ]
  },
  {
   "cell_type": "markdown",
   "id": "87a2e02f-ea76-48ca-8222-88e2d3a4c4a2",
   "metadata": {
    "tags": []
   },
   "source": [
    "### Benchmark Logistic Regression Model"
   ]
  },
  {
   "cell_type": "code",
   "execution_count": 14,
   "id": "5fda8c43-bf1d-491f-96c6-35c539d898b9",
   "metadata": {
    "tags": []
   },
   "outputs": [],
   "source": [
    "pipe_log_reg_bench = Pipeline([\n",
    "    ('sc', StandardScaler()),\n",
    "    ('log_reg_bench', LogisticRegression(max_iter=1000))\n",
    "])"
   ]
  },
  {
   "cell_type": "code",
   "execution_count": 15,
   "id": "32553da1-767f-4d94-ad10-0f656543fa07",
   "metadata": {
    "tags": []
   },
   "outputs": [
    {
     "data": {
      "text/html": [
       "<style>#sk-container-id-1 {color: black;}#sk-container-id-1 pre{padding: 0;}#sk-container-id-1 div.sk-toggleable {background-color: white;}#sk-container-id-1 label.sk-toggleable__label {cursor: pointer;display: block;width: 100%;margin-bottom: 0;padding: 0.3em;box-sizing: border-box;text-align: center;}#sk-container-id-1 label.sk-toggleable__label-arrow:before {content: \"▸\";float: left;margin-right: 0.25em;color: #696969;}#sk-container-id-1 label.sk-toggleable__label-arrow:hover:before {color: black;}#sk-container-id-1 div.sk-estimator:hover label.sk-toggleable__label-arrow:before {color: black;}#sk-container-id-1 div.sk-toggleable__content {max-height: 0;max-width: 0;overflow: hidden;text-align: left;background-color: #f0f8ff;}#sk-container-id-1 div.sk-toggleable__content pre {margin: 0.2em;color: black;border-radius: 0.25em;background-color: #f0f8ff;}#sk-container-id-1 input.sk-toggleable__control:checked~div.sk-toggleable__content {max-height: 200px;max-width: 100%;overflow: auto;}#sk-container-id-1 input.sk-toggleable__control:checked~label.sk-toggleable__label-arrow:before {content: \"▾\";}#sk-container-id-1 div.sk-estimator input.sk-toggleable__control:checked~label.sk-toggleable__label {background-color: #d4ebff;}#sk-container-id-1 div.sk-label input.sk-toggleable__control:checked~label.sk-toggleable__label {background-color: #d4ebff;}#sk-container-id-1 input.sk-hidden--visually {border: 0;clip: rect(1px 1px 1px 1px);clip: rect(1px, 1px, 1px, 1px);height: 1px;margin: -1px;overflow: hidden;padding: 0;position: absolute;width: 1px;}#sk-container-id-1 div.sk-estimator {font-family: monospace;background-color: #f0f8ff;border: 1px dotted black;border-radius: 0.25em;box-sizing: border-box;margin-bottom: 0.5em;}#sk-container-id-1 div.sk-estimator:hover {background-color: #d4ebff;}#sk-container-id-1 div.sk-parallel-item::after {content: \"\";width: 100%;border-bottom: 1px solid gray;flex-grow: 1;}#sk-container-id-1 div.sk-label:hover label.sk-toggleable__label {background-color: #d4ebff;}#sk-container-id-1 div.sk-serial::before {content: \"\";position: absolute;border-left: 1px solid gray;box-sizing: border-box;top: 0;bottom: 0;left: 50%;z-index: 0;}#sk-container-id-1 div.sk-serial {display: flex;flex-direction: column;align-items: center;background-color: white;padding-right: 0.2em;padding-left: 0.2em;position: relative;}#sk-container-id-1 div.sk-item {position: relative;z-index: 1;}#sk-container-id-1 div.sk-parallel {display: flex;align-items: stretch;justify-content: center;background-color: white;position: relative;}#sk-container-id-1 div.sk-item::before, #sk-container-id-1 div.sk-parallel-item::before {content: \"\";position: absolute;border-left: 1px solid gray;box-sizing: border-box;top: 0;bottom: 0;left: 50%;z-index: -1;}#sk-container-id-1 div.sk-parallel-item {display: flex;flex-direction: column;z-index: 1;position: relative;background-color: white;}#sk-container-id-1 div.sk-parallel-item:first-child::after {align-self: flex-end;width: 50%;}#sk-container-id-1 div.sk-parallel-item:last-child::after {align-self: flex-start;width: 50%;}#sk-container-id-1 div.sk-parallel-item:only-child::after {width: 0;}#sk-container-id-1 div.sk-dashed-wrapped {border: 1px dashed gray;margin: 0 0.4em 0.5em 0.4em;box-sizing: border-box;padding-bottom: 0.4em;background-color: white;}#sk-container-id-1 div.sk-label label {font-family: monospace;font-weight: bold;display: inline-block;line-height: 1.2em;}#sk-container-id-1 div.sk-label-container {text-align: center;}#sk-container-id-1 div.sk-container {/* jupyter's `normalize.less` sets `[hidden] { display: none; }` but bootstrap.min.css set `[hidden] { display: none !important; }` so we also need the `!important` here to be able to override the default hidden behavior on the sphinx rendered scikit-learn.org. See: https://github.com/scikit-learn/scikit-learn/issues/21755 */display: inline-block !important;position: relative;}#sk-container-id-1 div.sk-text-repr-fallback {display: none;}</style><div id=\"sk-container-id-1\" class=\"sk-top-container\"><div class=\"sk-text-repr-fallback\"><pre>Pipeline(steps=[(&#x27;sc&#x27;, StandardScaler()),\n",
       "                (&#x27;log_reg_bench&#x27;, LogisticRegression(max_iter=1000))])</pre><b>In a Jupyter environment, please rerun this cell to show the HTML representation or trust the notebook. <br />On GitHub, the HTML representation is unable to render, please try loading this page with nbviewer.org.</b></div><div class=\"sk-container\" hidden><div class=\"sk-item sk-dashed-wrapped\"><div class=\"sk-label-container\"><div class=\"sk-label sk-toggleable\"><input class=\"sk-toggleable__control sk-hidden--visually\" id=\"sk-estimator-id-1\" type=\"checkbox\" ><label for=\"sk-estimator-id-1\" class=\"sk-toggleable__label sk-toggleable__label-arrow\">Pipeline</label><div class=\"sk-toggleable__content\"><pre>Pipeline(steps=[(&#x27;sc&#x27;, StandardScaler()),\n",
       "                (&#x27;log_reg_bench&#x27;, LogisticRegression(max_iter=1000))])</pre></div></div></div><div class=\"sk-serial\"><div class=\"sk-item\"><div class=\"sk-estimator sk-toggleable\"><input class=\"sk-toggleable__control sk-hidden--visually\" id=\"sk-estimator-id-2\" type=\"checkbox\" ><label for=\"sk-estimator-id-2\" class=\"sk-toggleable__label sk-toggleable__label-arrow\">StandardScaler</label><div class=\"sk-toggleable__content\"><pre>StandardScaler()</pre></div></div></div><div class=\"sk-item\"><div class=\"sk-estimator sk-toggleable\"><input class=\"sk-toggleable__control sk-hidden--visually\" id=\"sk-estimator-id-3\" type=\"checkbox\" ><label for=\"sk-estimator-id-3\" class=\"sk-toggleable__label sk-toggleable__label-arrow\">LogisticRegression</label><div class=\"sk-toggleable__content\"><pre>LogisticRegression(max_iter=1000)</pre></div></div></div></div></div></div></div>"
      ],
      "text/plain": [
       "Pipeline(steps=[('sc', StandardScaler()),\n",
       "                ('log_reg_bench', LogisticRegression(max_iter=1000))])"
      ]
     },
     "execution_count": 15,
     "metadata": {},
     "output_type": "execute_result"
    }
   ],
   "source": [
    "pipe_log_reg_bench.fit(X_train, y_train)"
   ]
  },
  {
   "cell_type": "code",
   "execution_count": 16,
   "id": "2ce24728-828e-48c0-85ee-7bf336d7ab5b",
   "metadata": {
    "tags": []
   },
   "outputs": [
    {
     "data": {
      "text/plain": [
       "0.9073366450133741"
      ]
     },
     "execution_count": 16,
     "metadata": {},
     "output_type": "execute_result"
    }
   ],
   "source": [
    "pipe_log_reg_bench.score(X_train, y_train)"
   ]
  },
  {
   "cell_type": "code",
   "execution_count": 17,
   "id": "e3722c2b-0c79-4075-9676-823a3f3ad052",
   "metadata": {
    "tags": []
   },
   "outputs": [
    {
     "data": {
      "text/plain": [
       "0.6847058823529412"
      ]
     },
     "execution_count": 17,
     "metadata": {},
     "output_type": "execute_result"
    }
   ],
   "source": [
    "pipe_log_reg_bench.score(X_test, y_test)"
   ]
  },
  {
   "cell_type": "markdown",
   "id": "6c987185-bf4e-49ba-ada3-0a320271fe87",
   "metadata": {},
   "source": [
    "### Tuned Logistic Regression Model"
   ]
  },
  {
   "cell_type": "code",
   "execution_count": 18,
   "id": "bd811d1d-386f-4165-b9af-d9e93131c770",
   "metadata": {
    "tags": []
   },
   "outputs": [],
   "source": [
    "pipe_log_reg_tuned = Pipeline([\n",
    "    ('sc', StandardScaler()),\n",
    "    ('log_reg_tuned', LogisticRegression())\n",
    "])"
   ]
  },
  {
   "cell_type": "code",
   "execution_count": 19,
   "id": "7c97746f-4fab-4de7-81a3-19f3ed0636ae",
   "metadata": {
    "tags": []
   },
   "outputs": [
    {
     "data": {
      "text/plain": [
       "{'memory': None,\n",
       " 'steps': [('sc', StandardScaler()), ('log_reg_tuned', LogisticRegression())],\n",
       " 'verbose': False,\n",
       " 'sc': StandardScaler(),\n",
       " 'log_reg_tuned': LogisticRegression(),\n",
       " 'sc__copy': True,\n",
       " 'sc__with_mean': True,\n",
       " 'sc__with_std': True,\n",
       " 'log_reg_tuned__C': 1.0,\n",
       " 'log_reg_tuned__class_weight': None,\n",
       " 'log_reg_tuned__dual': False,\n",
       " 'log_reg_tuned__fit_intercept': True,\n",
       " 'log_reg_tuned__intercept_scaling': 1,\n",
       " 'log_reg_tuned__l1_ratio': None,\n",
       " 'log_reg_tuned__max_iter': 100,\n",
       " 'log_reg_tuned__multi_class': 'auto',\n",
       " 'log_reg_tuned__n_jobs': None,\n",
       " 'log_reg_tuned__penalty': 'l2',\n",
       " 'log_reg_tuned__random_state': None,\n",
       " 'log_reg_tuned__solver': 'lbfgs',\n",
       " 'log_reg_tuned__tol': 0.0001,\n",
       " 'log_reg_tuned__verbose': 0,\n",
       " 'log_reg_tuned__warm_start': False}"
      ]
     },
     "execution_count": 19,
     "metadata": {},
     "output_type": "execute_result"
    }
   ],
   "source": [
    "pipe_log_reg_tuned.get_params()"
   ]
  },
  {
   "cell_type": "code",
   "execution_count": 20,
   "id": "1abc4bf0-243a-4fb4-b0ca-cb305e0e537f",
   "metadata": {
    "tags": []
   },
   "outputs": [],
   "source": [
    "pipe_log_reg_tuned_params = {\n",
    "    'log_reg_tuned__max_iter': [1_000],\n",
    "    'log_reg_tuned__C': [.001, .01],\n",
    "    'log_reg_tuned__penalty': ['l1', 'l2']\n",
    "}"
   ]
  },
  {
   "cell_type": "code",
   "execution_count": 21,
   "id": "ec0c01c9-d7f8-4c81-b73f-0faf51c12ed4",
   "metadata": {
    "tags": []
   },
   "outputs": [],
   "source": [
    "gs_log_reg_tuned = GridSearchCV(pipe_log_reg_tuned,\n",
    "                                param_grid = pipe_log_reg_tuned_params,\n",
    "                                cv = 5,\n",
    "                               n_jobs=6)"
   ]
  },
  {
   "cell_type": "code",
   "execution_count": 22,
   "id": "31172b90-5df3-466c-bd21-accd31e70e68",
   "metadata": {
    "tags": []
   },
   "outputs": [
    {
     "name": "stderr",
     "output_type": "stream",
     "text": [
      "/Users/nolan/anaconda3/lib/python3.11/site-packages/sklearn/model_selection/_validation.py:425: FitFailedWarning: \n",
      "10 fits failed out of a total of 20.\n",
      "The score on these train-test partitions for these parameters will be set to nan.\n",
      "If these failures are not expected, you can try to debug them by setting error_score='raise'.\n",
      "\n",
      "Below are more details about the failures:\n",
      "--------------------------------------------------------------------------------\n",
      "10 fits failed with the following error:\n",
      "Traceback (most recent call last):\n",
      "  File \"/Users/nolan/anaconda3/lib/python3.11/site-packages/sklearn/model_selection/_validation.py\", line 732, in _fit_and_score\n",
      "    estimator.fit(X_train, y_train, **fit_params)\n",
      "  File \"/Users/nolan/anaconda3/lib/python3.11/site-packages/sklearn/base.py\", line 1151, in wrapper\n",
      "    return fit_method(estimator, *args, **kwargs)\n",
      "           ^^^^^^^^^^^^^^^^^^^^^^^^^^^^^^^^^^^^^^\n",
      "  File \"/Users/nolan/anaconda3/lib/python3.11/site-packages/sklearn/pipeline.py\", line 420, in fit\n",
      "    self._final_estimator.fit(Xt, y, **fit_params_last_step)\n",
      "  File \"/Users/nolan/anaconda3/lib/python3.11/site-packages/sklearn/base.py\", line 1151, in wrapper\n",
      "    return fit_method(estimator, *args, **kwargs)\n",
      "           ^^^^^^^^^^^^^^^^^^^^^^^^^^^^^^^^^^^^^^\n",
      "  File \"/Users/nolan/anaconda3/lib/python3.11/site-packages/sklearn/linear_model/_logistic.py\", line 1168, in fit\n",
      "    solver = _check_solver(self.solver, self.penalty, self.dual)\n",
      "             ^^^^^^^^^^^^^^^^^^^^^^^^^^^^^^^^^^^^^^^^^^^^^^^^^^^\n",
      "  File \"/Users/nolan/anaconda3/lib/python3.11/site-packages/sklearn/linear_model/_logistic.py\", line 56, in _check_solver\n",
      "    raise ValueError(\n",
      "ValueError: Solver lbfgs supports only 'l2' or 'none' penalties, got l1 penalty.\n",
      "\n",
      "  warnings.warn(some_fits_failed_message, FitFailedWarning)\n",
      "/Users/nolan/anaconda3/lib/python3.11/site-packages/sklearn/model_selection/_search.py:976: UserWarning: One or more of the test scores are non-finite: [       nan 0.70691569        nan 0.69144181]\n",
      "  warnings.warn(\n"
     ]
    },
    {
     "name": "stdout",
     "output_type": "stream",
     "text": [
      "CPU times: user 2.76 s, sys: 803 ms, total: 3.56 s\n",
      "Wall time: 13.4 s\n"
     ]
    },
    {
     "data": {
      "text/html": [
       "<style>#sk-container-id-2 {color: black;}#sk-container-id-2 pre{padding: 0;}#sk-container-id-2 div.sk-toggleable {background-color: white;}#sk-container-id-2 label.sk-toggleable__label {cursor: pointer;display: block;width: 100%;margin-bottom: 0;padding: 0.3em;box-sizing: border-box;text-align: center;}#sk-container-id-2 label.sk-toggleable__label-arrow:before {content: \"▸\";float: left;margin-right: 0.25em;color: #696969;}#sk-container-id-2 label.sk-toggleable__label-arrow:hover:before {color: black;}#sk-container-id-2 div.sk-estimator:hover label.sk-toggleable__label-arrow:before {color: black;}#sk-container-id-2 div.sk-toggleable__content {max-height: 0;max-width: 0;overflow: hidden;text-align: left;background-color: #f0f8ff;}#sk-container-id-2 div.sk-toggleable__content pre {margin: 0.2em;color: black;border-radius: 0.25em;background-color: #f0f8ff;}#sk-container-id-2 input.sk-toggleable__control:checked~div.sk-toggleable__content {max-height: 200px;max-width: 100%;overflow: auto;}#sk-container-id-2 input.sk-toggleable__control:checked~label.sk-toggleable__label-arrow:before {content: \"▾\";}#sk-container-id-2 div.sk-estimator input.sk-toggleable__control:checked~label.sk-toggleable__label {background-color: #d4ebff;}#sk-container-id-2 div.sk-label input.sk-toggleable__control:checked~label.sk-toggleable__label {background-color: #d4ebff;}#sk-container-id-2 input.sk-hidden--visually {border: 0;clip: rect(1px 1px 1px 1px);clip: rect(1px, 1px, 1px, 1px);height: 1px;margin: -1px;overflow: hidden;padding: 0;position: absolute;width: 1px;}#sk-container-id-2 div.sk-estimator {font-family: monospace;background-color: #f0f8ff;border: 1px dotted black;border-radius: 0.25em;box-sizing: border-box;margin-bottom: 0.5em;}#sk-container-id-2 div.sk-estimator:hover {background-color: #d4ebff;}#sk-container-id-2 div.sk-parallel-item::after {content: \"\";width: 100%;border-bottom: 1px solid gray;flex-grow: 1;}#sk-container-id-2 div.sk-label:hover label.sk-toggleable__label {background-color: #d4ebff;}#sk-container-id-2 div.sk-serial::before {content: \"\";position: absolute;border-left: 1px solid gray;box-sizing: border-box;top: 0;bottom: 0;left: 50%;z-index: 0;}#sk-container-id-2 div.sk-serial {display: flex;flex-direction: column;align-items: center;background-color: white;padding-right: 0.2em;padding-left: 0.2em;position: relative;}#sk-container-id-2 div.sk-item {position: relative;z-index: 1;}#sk-container-id-2 div.sk-parallel {display: flex;align-items: stretch;justify-content: center;background-color: white;position: relative;}#sk-container-id-2 div.sk-item::before, #sk-container-id-2 div.sk-parallel-item::before {content: \"\";position: absolute;border-left: 1px solid gray;box-sizing: border-box;top: 0;bottom: 0;left: 50%;z-index: -1;}#sk-container-id-2 div.sk-parallel-item {display: flex;flex-direction: column;z-index: 1;position: relative;background-color: white;}#sk-container-id-2 div.sk-parallel-item:first-child::after {align-self: flex-end;width: 50%;}#sk-container-id-2 div.sk-parallel-item:last-child::after {align-self: flex-start;width: 50%;}#sk-container-id-2 div.sk-parallel-item:only-child::after {width: 0;}#sk-container-id-2 div.sk-dashed-wrapped {border: 1px dashed gray;margin: 0 0.4em 0.5em 0.4em;box-sizing: border-box;padding-bottom: 0.4em;background-color: white;}#sk-container-id-2 div.sk-label label {font-family: monospace;font-weight: bold;display: inline-block;line-height: 1.2em;}#sk-container-id-2 div.sk-label-container {text-align: center;}#sk-container-id-2 div.sk-container {/* jupyter's `normalize.less` sets `[hidden] { display: none; }` but bootstrap.min.css set `[hidden] { display: none !important; }` so we also need the `!important` here to be able to override the default hidden behavior on the sphinx rendered scikit-learn.org. See: https://github.com/scikit-learn/scikit-learn/issues/21755 */display: inline-block !important;position: relative;}#sk-container-id-2 div.sk-text-repr-fallback {display: none;}</style><div id=\"sk-container-id-2\" class=\"sk-top-container\"><div class=\"sk-text-repr-fallback\"><pre>GridSearchCV(cv=5,\n",
       "             estimator=Pipeline(steps=[(&#x27;sc&#x27;, StandardScaler()),\n",
       "                                       (&#x27;log_reg_tuned&#x27;,\n",
       "                                        LogisticRegression())]),\n",
       "             n_jobs=6,\n",
       "             param_grid={&#x27;log_reg_tuned__C&#x27;: [0.001, 0.01],\n",
       "                         &#x27;log_reg_tuned__max_iter&#x27;: [1000],\n",
       "                         &#x27;log_reg_tuned__penalty&#x27;: [&#x27;l1&#x27;, &#x27;l2&#x27;]})</pre><b>In a Jupyter environment, please rerun this cell to show the HTML representation or trust the notebook. <br />On GitHub, the HTML representation is unable to render, please try loading this page with nbviewer.org.</b></div><div class=\"sk-container\" hidden><div class=\"sk-item sk-dashed-wrapped\"><div class=\"sk-label-container\"><div class=\"sk-label sk-toggleable\"><input class=\"sk-toggleable__control sk-hidden--visually\" id=\"sk-estimator-id-4\" type=\"checkbox\" ><label for=\"sk-estimator-id-4\" class=\"sk-toggleable__label sk-toggleable__label-arrow\">GridSearchCV</label><div class=\"sk-toggleable__content\"><pre>GridSearchCV(cv=5,\n",
       "             estimator=Pipeline(steps=[(&#x27;sc&#x27;, StandardScaler()),\n",
       "                                       (&#x27;log_reg_tuned&#x27;,\n",
       "                                        LogisticRegression())]),\n",
       "             n_jobs=6,\n",
       "             param_grid={&#x27;log_reg_tuned__C&#x27;: [0.001, 0.01],\n",
       "                         &#x27;log_reg_tuned__max_iter&#x27;: [1000],\n",
       "                         &#x27;log_reg_tuned__penalty&#x27;: [&#x27;l1&#x27;, &#x27;l2&#x27;]})</pre></div></div></div><div class=\"sk-parallel\"><div class=\"sk-parallel-item\"><div class=\"sk-item\"><div class=\"sk-label-container\"><div class=\"sk-label sk-toggleable\"><input class=\"sk-toggleable__control sk-hidden--visually\" id=\"sk-estimator-id-5\" type=\"checkbox\" ><label for=\"sk-estimator-id-5\" class=\"sk-toggleable__label sk-toggleable__label-arrow\">estimator: Pipeline</label><div class=\"sk-toggleable__content\"><pre>Pipeline(steps=[(&#x27;sc&#x27;, StandardScaler()),\n",
       "                (&#x27;log_reg_tuned&#x27;, LogisticRegression())])</pre></div></div></div><div class=\"sk-serial\"><div class=\"sk-item\"><div class=\"sk-serial\"><div class=\"sk-item\"><div class=\"sk-estimator sk-toggleable\"><input class=\"sk-toggleable__control sk-hidden--visually\" id=\"sk-estimator-id-6\" type=\"checkbox\" ><label for=\"sk-estimator-id-6\" class=\"sk-toggleable__label sk-toggleable__label-arrow\">StandardScaler</label><div class=\"sk-toggleable__content\"><pre>StandardScaler()</pre></div></div></div><div class=\"sk-item\"><div class=\"sk-estimator sk-toggleable\"><input class=\"sk-toggleable__control sk-hidden--visually\" id=\"sk-estimator-id-7\" type=\"checkbox\" ><label for=\"sk-estimator-id-7\" class=\"sk-toggleable__label sk-toggleable__label-arrow\">LogisticRegression</label><div class=\"sk-toggleable__content\"><pre>LogisticRegression()</pre></div></div></div></div></div></div></div></div></div></div></div></div>"
      ],
      "text/plain": [
       "GridSearchCV(cv=5,\n",
       "             estimator=Pipeline(steps=[('sc', StandardScaler()),\n",
       "                                       ('log_reg_tuned',\n",
       "                                        LogisticRegression())]),\n",
       "             n_jobs=6,\n",
       "             param_grid={'log_reg_tuned__C': [0.001, 0.01],\n",
       "                         'log_reg_tuned__max_iter': [1000],\n",
       "                         'log_reg_tuned__penalty': ['l1', 'l2']})"
      ]
     },
     "execution_count": 22,
     "metadata": {},
     "output_type": "execute_result"
    }
   ],
   "source": [
    "%%time\n",
    "gs_log_reg_tuned.fit(X_train, y_train)"
   ]
  },
  {
   "cell_type": "code",
   "execution_count": 23,
   "id": "25d8df9c-3900-4ffe-8d86-4de74e64b99c",
   "metadata": {
    "tags": []
   },
   "outputs": [
    {
     "data": {
      "text/plain": [
       "{'log_reg_tuned__C': 0.001,\n",
       " 'log_reg_tuned__max_iter': 1000,\n",
       " 'log_reg_tuned__penalty': 'l2'}"
      ]
     },
     "execution_count": 23,
     "metadata": {},
     "output_type": "execute_result"
    }
   ],
   "source": [
    "gs_log_reg_tuned.best_params_"
   ]
  },
  {
   "cell_type": "code",
   "execution_count": 24,
   "id": "d8d01c0c-1931-42bb-8c24-427a98ea10ae",
   "metadata": {
    "tags": []
   },
   "outputs": [
    {
     "data": {
      "text/plain": [
       "0.8706534199465036"
      ]
     },
     "execution_count": 24,
     "metadata": {},
     "output_type": "execute_result"
    }
   ],
   "source": [
    "gs_log_reg_tuned.score(X_train, y_train)"
   ]
  },
  {
   "cell_type": "code",
   "execution_count": 25,
   "id": "92715f58-ab27-4e04-bfeb-d514232e5bcc",
   "metadata": {
    "tags": []
   },
   "outputs": [
    {
     "data": {
      "text/plain": [
       "0.7364705882352941"
      ]
     },
     "execution_count": 25,
     "metadata": {},
     "output_type": "execute_result"
    }
   ],
   "source": [
    "gs_log_reg_tuned.score(X_test, y_test)"
   ]
  },
  {
   "cell_type": "code",
   "execution_count": 26,
   "id": "27da8ee5-5c46-4c84-b9bf-a9ea1e0f336c",
   "metadata": {
    "tags": []
   },
   "outputs": [],
   "source": [
    "y_pred = gs_log_reg_tuned.predict(X_test)"
   ]
  },
  {
   "cell_type": "code",
   "execution_count": 27,
   "id": "33413653-df13-4d3b-bedc-2df1ab7fee17",
   "metadata": {
    "tags": []
   },
   "outputs": [
    {
     "data": {
      "text/plain": [
       "array([[289,  21],\n",
       "       [ 91,  24]])"
      ]
     },
     "execution_count": 27,
     "metadata": {},
     "output_type": "execute_result"
    }
   ],
   "source": [
    "confusion_matrix(y_test, y_pred)"
   ]
  },
  {
   "cell_type": "code",
   "execution_count": 28,
   "id": "af217333-184f-481b-b6d0-8c51fd724be6",
   "metadata": {
    "tags": []
   },
   "outputs": [
    {
     "name": "stdout",
     "output_type": "stream",
     "text": [
      "              precision    recall  f1-score   support\n",
      "\n",
      "           0    0.76053   0.93226   0.83768       310\n",
      "           1    0.53333   0.20870   0.30000       115\n",
      "\n",
      "    accuracy                        0.73647       425\n",
      "   macro avg    0.64693   0.57048   0.56884       425\n",
      "weighted avg    0.69905   0.73647   0.69219       425\n",
      "\n"
     ]
    }
   ],
   "source": [
    "print(classification_report(y_test, y_pred, digits = 5))"
   ]
  },
  {
   "cell_type": "markdown",
   "id": "0cb7fc56-776d-4415-b944-5d257a48cb3d",
   "metadata": {
    "tags": []
   },
   "source": [
    "### Coefficients"
   ]
  },
  {
   "cell_type": "code",
   "execution_count": 105,
   "id": "bf572e04-97f1-4137-a88e-5fa8a65d82fb",
   "metadata": {
    "tags": []
   },
   "outputs": [],
   "source": [
    "# coefficients = np.exp(gs_log_reg_tuned.best_estimator_.named_steps['log_reg_tuned'].coef_[0]*.1)"
   ]
  },
  {
   "cell_type": "code",
   "execution_count": 110,
   "id": "9915ba46-049d-4182-a38b-9a48984a276f",
   "metadata": {
    "tags": []
   },
   "outputs": [],
   "source": [
    "coefficients = gs_log_reg_tuned.best_estimator_.named_steps['log_reg_tuned'].coef_[0]"
   ]
  },
  {
   "cell_type": "code",
   "execution_count": 111,
   "id": "62906406-96ac-483d-9328-f09b81873542",
   "metadata": {
    "tags": []
   },
   "outputs": [],
   "source": [
    "feature_names = list(X_train.columns)"
   ]
  },
  {
   "cell_type": "code",
   "execution_count": 112,
   "id": "bc2f07d6-9118-4bea-8e45-98aeb3c49eb6",
   "metadata": {
    "tags": []
   },
   "outputs": [],
   "source": [
    "coefficients_df = pd.DataFrame({'feature': feature_names, 'coefficient': coefficients})"
   ]
  },
  {
   "cell_type": "code",
   "execution_count": 115,
   "id": "bbde5e2c-4e21-4bfb-8bcc-9addaf755dad",
   "metadata": {
    "tags": []
   },
   "outputs": [
    {
     "data": {
      "text/html": [
       "<div>\n",
       "<style scoped>\n",
       "    .dataframe tbody tr th:only-of-type {\n",
       "        vertical-align: middle;\n",
       "    }\n",
       "\n",
       "    .dataframe tbody tr th {\n",
       "        vertical-align: top;\n",
       "    }\n",
       "\n",
       "    .dataframe thead th {\n",
       "        text-align: right;\n",
       "    }\n",
       "</style>\n",
       "<table border=\"1\" class=\"dataframe\">\n",
       "  <thead>\n",
       "    <tr style=\"text-align: right;\">\n",
       "      <th></th>\n",
       "      <th>feature</th>\n",
       "      <th>coefficient</th>\n",
       "    </tr>\n",
       "  </thead>\n",
       "  <tbody>\n",
       "    <tr>\n",
       "      <th>0</th>\n",
       "      <td>latitude</td>\n",
       "      <td>-0.017773</td>\n",
       "    </tr>\n",
       "    <tr>\n",
       "      <th>1</th>\n",
       "      <td>longitude</td>\n",
       "      <td>0.017297</td>\n",
       "    </tr>\n",
       "    <tr>\n",
       "      <th>2</th>\n",
       "      <td>amateur_built</td>\n",
       "      <td>0.027261</td>\n",
       "    </tr>\n",
       "    <tr>\n",
       "      <th>3</th>\n",
       "      <td>event_month</td>\n",
       "      <td>0.009724</td>\n",
       "    </tr>\n",
       "    <tr>\n",
       "      <th>4</th>\n",
       "      <td>event_day</td>\n",
       "      <td>0.012611</td>\n",
       "    </tr>\n",
       "    <tr>\n",
       "      <th>5</th>\n",
       "      <td>city_100MI S.KNG SLM</td>\n",
       "      <td>-0.012404</td>\n",
       "    </tr>\n",
       "    <tr>\n",
       "      <th>6</th>\n",
       "      <td>city_11NM EAST OF SI</td>\n",
       "      <td>0.021879</td>\n",
       "    </tr>\n",
       "    <tr>\n",
       "      <th>7</th>\n",
       "      <td>city_18NM ESE KETCHI</td>\n",
       "      <td>-0.005551</td>\n",
       "    </tr>\n",
       "    <tr>\n",
       "      <th>8</th>\n",
       "      <td>city_20 ESE NORTH PO</td>\n",
       "      <td>-0.009956</td>\n",
       "    </tr>\n",
       "    <tr>\n",
       "      <th>9</th>\n",
       "      <td>city_27 E SAGWON</td>\n",
       "      <td>-0.006885</td>\n",
       "    </tr>\n",
       "    <tr>\n",
       "      <th>10</th>\n",
       "      <td>city_35 W. OF KETCHI</td>\n",
       "      <td>-0.012065</td>\n",
       "    </tr>\n",
       "    <tr>\n",
       "      <th>11</th>\n",
       "      <td>city_38 SE BARROW</td>\n",
       "      <td>0.020465</td>\n",
       "    </tr>\n",
       "    <tr>\n",
       "      <th>12</th>\n",
       "      <td>city_40 SE BETTLES</td>\n",
       "      <td>0.016841</td>\n",
       "    </tr>\n",
       "    <tr>\n",
       "      <th>13</th>\n",
       "      <td>city_40 W OF CLEAR</td>\n",
       "      <td>0.020959</td>\n",
       "    </tr>\n",
       "    <tr>\n",
       "      <th>14</th>\n",
       "      <td>city_42NM ESE OF YAK</td>\n",
       "      <td>-0.006257</td>\n",
       "    </tr>\n",
       "    <tr>\n",
       "      <th>15</th>\n",
       "      <td>city_44 NW FAIRBANKS</td>\n",
       "      <td>-0.013356</td>\n",
       "    </tr>\n",
       "    <tr>\n",
       "      <th>16</th>\n",
       "      <td>city_44MI NW MCCARTH</td>\n",
       "      <td>0.016311</td>\n",
       "    </tr>\n",
       "    <tr>\n",
       "      <th>17</th>\n",
       "      <td>city_45 NW ANCHORAGE</td>\n",
       "      <td>-0.010393</td>\n",
       "    </tr>\n",
       "    <tr>\n",
       "      <th>18</th>\n",
       "      <td>city_50 MI SW FAIRBA</td>\n",
       "      <td>-0.006260</td>\n",
       "    </tr>\n",
       "    <tr>\n",
       "      <th>19</th>\n",
       "      <td>city_51 NM ESE YAKUT</td>\n",
       "      <td>0.020333</td>\n",
       "    </tr>\n",
       "    <tr>\n",
       "      <th>20</th>\n",
       "      <td>city_60 E OF BETHEL</td>\n",
       "      <td>0.017050</td>\n",
       "    </tr>\n",
       "    <tr>\n",
       "      <th>21</th>\n",
       "      <td>city_65 MI.ENE OF MC</td>\n",
       "      <td>-0.010323</td>\n",
       "    </tr>\n",
       "    <tr>\n",
       "      <th>22</th>\n",
       "      <td>city_6NM SSE WRANGEL</td>\n",
       "      <td>0.023378</td>\n",
       "    </tr>\n",
       "    <tr>\n",
       "      <th>23</th>\n",
       "      <td>city_70 NW ANCHORAGE</td>\n",
       "      <td>-0.007768</td>\n",
       "    </tr>\n",
       "    <tr>\n",
       "      <th>24</th>\n",
       "      <td>city_ADAK</td>\n",
       "      <td>-0.007130</td>\n",
       "    </tr>\n",
       "  </tbody>\n",
       "</table>\n",
       "</div>"
      ],
      "text/plain": [
       "                 feature  coefficient\n",
       "0               latitude    -0.017773\n",
       "1              longitude     0.017297\n",
       "2          amateur_built     0.027261\n",
       "3            event_month     0.009724\n",
       "4              event_day     0.012611\n",
       "5   city_100MI S.KNG SLM    -0.012404\n",
       "6   city_11NM EAST OF SI     0.021879\n",
       "7   city_18NM ESE KETCHI    -0.005551\n",
       "8   city_20 ESE NORTH PO    -0.009956\n",
       "9       city_27 E SAGWON    -0.006885\n",
       "10  city_35 W. OF KETCHI    -0.012065\n",
       "11     city_38 SE BARROW     0.020465\n",
       "12    city_40 SE BETTLES     0.016841\n",
       "13    city_40 W OF CLEAR     0.020959\n",
       "14  city_42NM ESE OF YAK    -0.006257\n",
       "15  city_44 NW FAIRBANKS    -0.013356\n",
       "16  city_44MI NW MCCARTH     0.016311\n",
       "17  city_45 NW ANCHORAGE    -0.010393\n",
       "18  city_50 MI SW FAIRBA    -0.006260\n",
       "19  city_51 NM ESE YAKUT     0.020333\n",
       "20   city_60 E OF BETHEL     0.017050\n",
       "21  city_65 MI.ENE OF MC    -0.010323\n",
       "22  city_6NM SSE WRANGEL     0.023378\n",
       "23  city_70 NW ANCHORAGE    -0.007768\n",
       "24             city_ADAK    -0.007130"
      ]
     },
     "execution_count": 115,
     "metadata": {},
     "output_type": "execute_result"
    }
   ],
   "source": [
    "pd.set_option('display.max_rows', None)\n",
    "coefficients_df.head(25)"
   ]
  },
  {
   "cell_type": "code",
   "execution_count": 114,
   "id": "6f65b979-324a-4fa8-be5b-5fd7e055dc0e",
   "metadata": {
    "tags": []
   },
   "outputs": [
    {
     "data": {
      "text/html": [
       "<div>\n",
       "<style scoped>\n",
       "    .dataframe tbody tr th:only-of-type {\n",
       "        vertical-align: middle;\n",
       "    }\n",
       "\n",
       "    .dataframe tbody tr th {\n",
       "        vertical-align: top;\n",
       "    }\n",
       "\n",
       "    .dataframe thead th {\n",
       "        text-align: right;\n",
       "    }\n",
       "</style>\n",
       "<table border=\"1\" class=\"dataframe\">\n",
       "  <thead>\n",
       "    <tr style=\"text-align: right;\">\n",
       "      <th></th>\n",
       "      <th>feature</th>\n",
       "      <th>coefficient</th>\n",
       "    </tr>\n",
       "  </thead>\n",
       "  <tbody>\n",
       "    <tr>\n",
       "      <th>4219</th>\n",
       "      <td>airport_name_Unknown</td>\n",
       "      <td>0.071593</td>\n",
       "    </tr>\n",
       "    <tr>\n",
       "      <th>3140</th>\n",
       "      <td>airport_id_Unknown</td>\n",
       "      <td>0.052266</td>\n",
       "    </tr>\n",
       "    <tr>\n",
       "      <th>924</th>\n",
       "      <td>city_SLEETMUTE</td>\n",
       "      <td>0.051643</td>\n",
       "    </tr>\n",
       "    <tr>\n",
       "      <th>479</th>\n",
       "      <td>city_KENAI</td>\n",
       "      <td>0.050632</td>\n",
       "    </tr>\n",
       "    <tr>\n",
       "      <th>4322</th>\n",
       "      <td>purpose_of_flight_UNK</td>\n",
       "      <td>0.050447</td>\n",
       "    </tr>\n",
       "    <tr>\n",
       "      <th>470</th>\n",
       "      <td>city_KASILOF</td>\n",
       "      <td>0.048017</td>\n",
       "    </tr>\n",
       "    <tr>\n",
       "      <th>239</th>\n",
       "      <td>city_Chugiak</td>\n",
       "      <td>0.047760</td>\n",
       "    </tr>\n",
       "    <tr>\n",
       "      <th>4326</th>\n",
       "      <td>weather_condition_Unknown</td>\n",
       "      <td>0.044177</td>\n",
       "    </tr>\n",
       "    <tr>\n",
       "      <th>3917</th>\n",
       "      <td>airport_name_O'MALLEY</td>\n",
       "      <td>0.040544</td>\n",
       "    </tr>\n",
       "    <tr>\n",
       "      <th>551</th>\n",
       "      <td>city_Koyukuk</td>\n",
       "      <td>0.039679</td>\n",
       "    </tr>\n",
       "    <tr>\n",
       "      <th>989</th>\n",
       "      <td>city_Sutton</td>\n",
       "      <td>0.039365</td>\n",
       "    </tr>\n",
       "    <tr>\n",
       "      <th>1013</th>\n",
       "      <td>city_THORNE BAY</td>\n",
       "      <td>0.039104</td>\n",
       "    </tr>\n",
       "    <tr>\n",
       "      <th>1265</th>\n",
       "      <td>make_EUROCOPTER</td>\n",
       "      <td>0.037985</td>\n",
       "    </tr>\n",
       "    <tr>\n",
       "      <th>2399</th>\n",
       "      <td>model_PA-28-180</td>\n",
       "      <td>0.037564</td>\n",
       "    </tr>\n",
       "    <tr>\n",
       "      <th>2421</th>\n",
       "      <td>model_PA-32-260</td>\n",
       "      <td>0.037222</td>\n",
       "    </tr>\n",
       "    <tr>\n",
       "      <th>306</th>\n",
       "      <td>city_Eagle River</td>\n",
       "      <td>0.035028</td>\n",
       "    </tr>\n",
       "    <tr>\n",
       "      <th>2396</th>\n",
       "      <td>model_PA-28-140</td>\n",
       "      <td>0.035008</td>\n",
       "    </tr>\n",
       "    <tr>\n",
       "      <th>62</th>\n",
       "      <td>city_ATIGAN PASS</td>\n",
       "      <td>0.034908</td>\n",
       "    </tr>\n",
       "    <tr>\n",
       "      <th>3951</th>\n",
       "      <td>airport_name_PORT HEIDEN</td>\n",
       "      <td>0.034894</td>\n",
       "    </tr>\n",
       "    <tr>\n",
       "      <th>2468</th>\n",
       "      <td>model_R172K</td>\n",
       "      <td>0.034533</td>\n",
       "    </tr>\n",
       "    <tr>\n",
       "      <th>83</th>\n",
       "      <td>city_BEAR CREEK</td>\n",
       "      <td>0.034399</td>\n",
       "    </tr>\n",
       "    <tr>\n",
       "      <th>501</th>\n",
       "      <td>city_KODIAK</td>\n",
       "      <td>0.034081</td>\n",
       "    </tr>\n",
       "    <tr>\n",
       "      <th>1112</th>\n",
       "      <td>city_Whittier</td>\n",
       "      <td>0.033788</td>\n",
       "    </tr>\n",
       "    <tr>\n",
       "      <th>1090</th>\n",
       "      <td>city_WASILLA</td>\n",
       "      <td>0.033427</td>\n",
       "    </tr>\n",
       "    <tr>\n",
       "      <th>736</th>\n",
       "      <td>city_NOME</td>\n",
       "      <td>0.033281</td>\n",
       "    </tr>\n",
       "    <tr>\n",
       "      <th>399</th>\n",
       "      <td>city_HINCHINBROOK IS</td>\n",
       "      <td>0.033012</td>\n",
       "    </tr>\n",
       "    <tr>\n",
       "      <th>2079</th>\n",
       "      <td>model_DHC 2</td>\n",
       "      <td>0.032089</td>\n",
       "    </tr>\n",
       "    <tr>\n",
       "      <th>3375</th>\n",
       "      <td>airport_name_Chena Marina Airport</td>\n",
       "      <td>0.032009</td>\n",
       "    </tr>\n",
       "    <tr>\n",
       "      <th>483</th>\n",
       "      <td>city_KETCHIKAN</td>\n",
       "      <td>0.031419</td>\n",
       "    </tr>\n",
       "    <tr>\n",
       "      <th>1095</th>\n",
       "      <td>city_WHITTIER</td>\n",
       "      <td>0.031300</td>\n",
       "    </tr>\n",
       "  </tbody>\n",
       "</table>\n",
       "</div>"
      ],
      "text/plain": [
       "                                feature  coefficient\n",
       "4219               airport_name_Unknown     0.071593\n",
       "3140                 airport_id_Unknown     0.052266\n",
       "924                      city_SLEETMUTE     0.051643\n",
       "479                          city_KENAI     0.050632\n",
       "4322              purpose_of_flight_UNK     0.050447\n",
       "470                        city_KASILOF     0.048017\n",
       "239                        city_Chugiak     0.047760\n",
       "4326          weather_condition_Unknown     0.044177\n",
       "3917              airport_name_O'MALLEY     0.040544\n",
       "551                        city_Koyukuk     0.039679\n",
       "989                         city_Sutton     0.039365\n",
       "1013                    city_THORNE BAY     0.039104\n",
       "1265                    make_EUROCOPTER     0.037985\n",
       "2399                    model_PA-28-180     0.037564\n",
       "2421                    model_PA-32-260     0.037222\n",
       "306                    city_Eagle River     0.035028\n",
       "2396                    model_PA-28-140     0.035008\n",
       "62                     city_ATIGAN PASS     0.034908\n",
       "3951           airport_name_PORT HEIDEN     0.034894\n",
       "2468                        model_R172K     0.034533\n",
       "83                      city_BEAR CREEK     0.034399\n",
       "501                         city_KODIAK     0.034081\n",
       "1112                      city_Whittier     0.033788\n",
       "1090                       city_WASILLA     0.033427\n",
       "736                           city_NOME     0.033281\n",
       "399                city_HINCHINBROOK IS     0.033012\n",
       "2079                        model_DHC 2     0.032089\n",
       "3375  airport_name_Chena Marina Airport     0.032009\n",
       "483                      city_KETCHIKAN     0.031419\n",
       "1095                      city_WHITTIER     0.031300"
      ]
     },
     "execution_count": 114,
     "metadata": {},
     "output_type": "execute_result"
    }
   ],
   "source": [
    "coefficients_df.sort_values(by='coefficient', ascending=False).head(30)"
   ]
  },
  {
   "cell_type": "code",
   "execution_count": 88,
   "id": "2e164edc-0135-44ea-a7a1-8649a3c61ad8",
   "metadata": {
    "tags": []
   },
   "outputs": [
    {
     "data": {
      "text/html": [
       "<div>\n",
       "<style scoped>\n",
       "    .dataframe tbody tr th:only-of-type {\n",
       "        vertical-align: middle;\n",
       "    }\n",
       "\n",
       "    .dataframe tbody tr th {\n",
       "        vertical-align: top;\n",
       "    }\n",
       "\n",
       "    .dataframe thead th {\n",
       "        text-align: right;\n",
       "    }\n",
       "</style>\n",
       "<table border=\"1\" class=\"dataframe\">\n",
       "  <thead>\n",
       "    <tr style=\"text-align: right;\">\n",
       "      <th></th>\n",
       "      <th>feature</th>\n",
       "      <th>coefficient</th>\n",
       "    </tr>\n",
       "  </thead>\n",
       "  <tbody>\n",
       "    <tr>\n",
       "      <th>919</th>\n",
       "      <td>city_SKWENTNA</td>\n",
       "      <td>-0.025097</td>\n",
       "    </tr>\n",
       "    <tr>\n",
       "      <th>723</th>\n",
       "      <td>city_NENANA</td>\n",
       "      <td>-0.025481</td>\n",
       "    </tr>\n",
       "    <tr>\n",
       "      <th>758</th>\n",
       "      <td>city_Nenana</td>\n",
       "      <td>-0.025534</td>\n",
       "    </tr>\n",
       "    <tr>\n",
       "      <th>2464</th>\n",
       "      <td>model_R-22</td>\n",
       "      <td>-0.025747</td>\n",
       "    </tr>\n",
       "    <tr>\n",
       "      <th>624</th>\n",
       "      <td>city_MONTAGUE ISLAND</td>\n",
       "      <td>-0.025784</td>\n",
       "    </tr>\n",
       "    <tr>\n",
       "      <th>3963</th>\n",
       "      <td>airport_name_PRIVATE STRIP</td>\n",
       "      <td>-0.025860</td>\n",
       "    </tr>\n",
       "    <tr>\n",
       "      <th>1158</th>\n",
       "      <td>make_Aerospatiale</td>\n",
       "      <td>-0.025933</td>\n",
       "    </tr>\n",
       "    <tr>\n",
       "      <th>2256</th>\n",
       "      <td>model_M-5-210C</td>\n",
       "      <td>-0.026106</td>\n",
       "    </tr>\n",
       "    <tr>\n",
       "      <th>4308</th>\n",
       "      <td>purpose_of_flight_PERS</td>\n",
       "      <td>-0.027020</td>\n",
       "    </tr>\n",
       "    <tr>\n",
       "      <th>1506</th>\n",
       "      <td>model_108-1</td>\n",
       "      <td>-0.027229</td>\n",
       "    </tr>\n",
       "    <tr>\n",
       "      <th>2369</th>\n",
       "      <td>model_PA-18A 150</td>\n",
       "      <td>-0.027428</td>\n",
       "    </tr>\n",
       "    <tr>\n",
       "      <th>2109</th>\n",
       "      <td>model_DHC-6</td>\n",
       "      <td>-0.027614</td>\n",
       "    </tr>\n",
       "    <tr>\n",
       "      <th>383</th>\n",
       "      <td>city_Gulkana</td>\n",
       "      <td>-0.027743</td>\n",
       "    </tr>\n",
       "    <tr>\n",
       "      <th>3161</th>\n",
       "      <td>airport_id_Z15</td>\n",
       "      <td>-0.027942</td>\n",
       "    </tr>\n",
       "    <tr>\n",
       "      <th>534</th>\n",
       "      <td>city_Kenai</td>\n",
       "      <td>-0.029101</td>\n",
       "    </tr>\n",
       "    <tr>\n",
       "      <th>654</th>\n",
       "      <td>city_McCarthy</td>\n",
       "      <td>-0.030216</td>\n",
       "    </tr>\n",
       "    <tr>\n",
       "      <th>490</th>\n",
       "      <td>city_KING SALMON</td>\n",
       "      <td>-0.030714</td>\n",
       "    </tr>\n",
       "    <tr>\n",
       "      <th>1545</th>\n",
       "      <td>model_170B</td>\n",
       "      <td>-0.031107</td>\n",
       "    </tr>\n",
       "    <tr>\n",
       "      <th>1049</th>\n",
       "      <td>city_Tok</td>\n",
       "      <td>-0.031126</td>\n",
       "    </tr>\n",
       "    <tr>\n",
       "      <th>127</th>\n",
       "      <td>city_Beluga</td>\n",
       "      <td>-0.031549</td>\n",
       "    </tr>\n",
       "    <tr>\n",
       "      <th>2320</th>\n",
       "      <td>model_PA 18</td>\n",
       "      <td>-0.031692</td>\n",
       "    </tr>\n",
       "    <tr>\n",
       "      <th>3463</th>\n",
       "      <td>airport_name_FAIRBANKS INTERNATIONAL</td>\n",
       "      <td>-0.031775</td>\n",
       "    </tr>\n",
       "    <tr>\n",
       "      <th>3631</th>\n",
       "      <td>airport_name_KENAI</td>\n",
       "      <td>-0.032564</td>\n",
       "    </tr>\n",
       "    <tr>\n",
       "      <th>2091</th>\n",
       "      <td>model_DHC-2 MK. I(L20A)</td>\n",
       "      <td>-0.033539</td>\n",
       "    </tr>\n",
       "    <tr>\n",
       "      <th>2879</th>\n",
       "      <td>airport_id_ENA</td>\n",
       "      <td>-0.037792</td>\n",
       "    </tr>\n",
       "    <tr>\n",
       "      <th>4313</th>\n",
       "      <td>purpose_of_flight_POSI</td>\n",
       "      <td>-0.042092</td>\n",
       "    </tr>\n",
       "    <tr>\n",
       "      <th>1581</th>\n",
       "      <td>model_180</td>\n",
       "      <td>-0.046610</td>\n",
       "    </tr>\n",
       "    <tr>\n",
       "      <th>4285</th>\n",
       "      <td>scheduled_Unknown</td>\n",
       "      <td>-0.047231</td>\n",
       "    </tr>\n",
       "    <tr>\n",
       "      <th>1516</th>\n",
       "      <td>model_140</td>\n",
       "      <td>-0.048276</td>\n",
       "    </tr>\n",
       "    <tr>\n",
       "      <th>4327</th>\n",
       "      <td>weather_condition_VMC</td>\n",
       "      <td>-0.213942</td>\n",
       "    </tr>\n",
       "  </tbody>\n",
       "</table>\n",
       "</div>"
      ],
      "text/plain": [
       "                                   feature  coefficient\n",
       "919                          city_SKWENTNA    -0.025097\n",
       "723                            city_NENANA    -0.025481\n",
       "758                            city_Nenana    -0.025534\n",
       "2464                            model_R-22    -0.025747\n",
       "624                   city_MONTAGUE ISLAND    -0.025784\n",
       "3963            airport_name_PRIVATE STRIP    -0.025860\n",
       "1158                     make_Aerospatiale    -0.025933\n",
       "2256                        model_M-5-210C    -0.026106\n",
       "4308                purpose_of_flight_PERS    -0.027020\n",
       "1506                           model_108-1    -0.027229\n",
       "2369                      model_PA-18A 150    -0.027428\n",
       "2109                           model_DHC-6    -0.027614\n",
       "383                           city_Gulkana    -0.027743\n",
       "3161                        airport_id_Z15    -0.027942\n",
       "534                             city_Kenai    -0.029101\n",
       "654                          city_McCarthy    -0.030216\n",
       "490                       city_KING SALMON    -0.030714\n",
       "1545                            model_170B    -0.031107\n",
       "1049                              city_Tok    -0.031126\n",
       "127                            city_Beluga    -0.031549\n",
       "2320                           model_PA 18    -0.031692\n",
       "3463  airport_name_FAIRBANKS INTERNATIONAL    -0.031775\n",
       "3631                    airport_name_KENAI    -0.032564\n",
       "2091               model_DHC-2 MK. I(L20A)    -0.033539\n",
       "2879                        airport_id_ENA    -0.037792\n",
       "4313                purpose_of_flight_POSI    -0.042092\n",
       "1581                             model_180    -0.046610\n",
       "4285                     scheduled_Unknown    -0.047231\n",
       "1516                             model_140    -0.048276\n",
       "4327                 weather_condition_VMC    -0.213942"
      ]
     },
     "execution_count": 88,
     "metadata": {},
     "output_type": "execute_result"
    }
   ],
   "source": [
    "coefficients_df.sort_values(by='coefficient', ascending=False).tail(30)"
   ]
  },
  {
   "cell_type": "code",
   "execution_count": 90,
   "id": "84e77b3f-fbbf-4f6e-a681-080e8232aab7",
   "metadata": {
    "tags": []
   },
   "outputs": [],
   "source": [
    "coefficients_df.to_csv('../datasets/nolan_log_reg_coef.csv', index=False)"
   ]
  },
  {
   "cell_type": "markdown",
   "id": "f4f3dfab-093e-41dc-b38e-af7428bab371",
   "metadata": {},
   "source": [
    "### Pickle"
   ]
  },
  {
   "cell_type": "code",
   "execution_count": 31,
   "id": "3f5a90ff-364c-4733-b6cb-5dbb12680bae",
   "metadata": {
    "tags": []
   },
   "outputs": [],
   "source": [
    "with open ('../pickles/nolan_log_reg.pkl', 'wb') as f:\n",
    "    pickle.dump('gs_log_reg_tuned.pkl', f)"
   ]
  }
 ],
 "metadata": {
  "kernelspec": {
   "display_name": "Python 3 (ipykernel)",
   "language": "python",
   "name": "python3"
  },
  "language_info": {
   "codemirror_mode": {
    "name": "ipython",
    "version": 3
   },
   "file_extension": ".py",
   "mimetype": "text/x-python",
   "name": "python",
   "nbconvert_exporter": "python",
   "pygments_lexer": "ipython3",
   "version": "3.11.5"
  }
 },
 "nbformat": 4,
 "nbformat_minor": 5
}
