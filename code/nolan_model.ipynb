{
 "cells": [
  {
   "cell_type": "code",
   "execution_count": 1,
   "id": "d7f6944f-33a9-4a6c-823d-0bd9e0ca1caa",
   "metadata": {
    "tags": []
   },
   "outputs": [],
   "source": [
    "import pandas as pd\n",
    "import numpy as np\n",
    "from sklearn.model_selection import train_test_split, GridSearchCV\n",
    "from sklearn.pipeline import Pipeline\n",
    "from sklearn.preprocessing import StandardScaler\n",
    "from sklearn.linear_model import LogisticRegression\n",
    "from sklearn.metrics import classification_report, confusion_matrix\n",
    "import pickle\n",
    "\n",
    "\n",
    "# pd.set_option('display.max_rows', None)\n",
    "# pd.set_option('display.max_columns', None)\n",
    "# pd.reset_option('display.max_rows')\n",
    "# pd.reset_option('display.max_columns')"
   ]
  },
  {
   "cell_type": "code",
   "execution_count": 2,
   "id": "fecbba99-2624-4c11-b8f1-0097efd8f0e0",
   "metadata": {
    "tags": []
   },
   "outputs": [],
   "source": [
    "ak = pd.read_csv('../datasets/alaska_single_engine_clean.csv', low_memory=False)"
   ]
  },
  {
   "cell_type": "code",
   "execution_count": 3,
   "id": "94043aef-84b2-4218-9fe2-812a1c505a8e",
   "metadata": {
    "tags": []
   },
   "outputs": [
    {
     "data": {
      "text/plain": [
       "(5590, 35)"
      ]
     },
     "execution_count": 3,
     "metadata": {},
     "output_type": "execute_result"
    }
   ],
   "source": [
    "ak.shape"
   ]
  },
  {
   "cell_type": "code",
   "execution_count": 4,
   "id": "509b2ed2-abca-4018-b1d6-789f4ed00ed3",
   "metadata": {
    "tags": []
   },
   "outputs": [],
   "source": [
    "ak = ak.drop(['ntsb_no', 'mkey', 'n', 'probable_cause', 'event_time', 'fatal_injury_count', 'serious_injury_count', 'minor_injury_count', 'aircraft_damage', 'event_type', 'report_type', 'has_safety_rec', 'highest_injury_level', 'is_accident', 'has_aircraft_damage'], axis=1)"
   ]
  },
  {
   "cell_type": "code",
   "execution_count": 5,
   "id": "be17154d-f54e-4a2d-a231-6a898fb8b8d5",
   "metadata": {
    "tags": []
   },
   "outputs": [],
   "source": [
    "categorical_cols = ak.select_dtypes(exclude=['number']).columns.tolist()"
   ]
  },
  {
   "cell_type": "code",
   "execution_count": 6,
   "id": "0dd8e36b-824a-4596-8071-aed5a91f464b",
   "metadata": {
    "tags": []
   },
   "outputs": [
    {
     "data": {
      "text/plain": [
       "['city',\n",
       " 'make',\n",
       " 'model',\n",
       " 'aircraft_category',\n",
       " 'airport_id',\n",
       " 'airport_name',\n",
       " 'scheduled',\n",
       " 'purpose_of_flight',\n",
       " 'far',\n",
       " 'weather_condition',\n",
       " 'operator',\n",
       " 'event_season']"
      ]
     },
     "execution_count": 6,
     "metadata": {},
     "output_type": "execute_result"
    }
   ],
   "source": [
    "categorical_cols"
   ]
  },
  {
   "cell_type": "code",
   "execution_count": 7,
   "id": "cd3935ad-ea50-4987-92b4-44ca576c6ec8",
   "metadata": {
    "tags": []
   },
   "outputs": [
    {
     "data": {
      "text/plain": [
       "Index(['city', 'latitude', 'longitude', 'make', 'model', 'aircraft_category',\n",
       "       'airport_id', 'airport_name', 'amateur_built', 'scheduled',\n",
       "       'purpose_of_flight', 'far', 'weather_condition', 'operator',\n",
       "       'event_year', 'event_month', 'event_day', 'event_hour', 'event_season',\n",
       "       'has_injury'],\n",
       "      dtype='object')"
      ]
     },
     "execution_count": 7,
     "metadata": {},
     "output_type": "execute_result"
    }
   ],
   "source": [
    "ak.columns"
   ]
  },
  {
   "cell_type": "code",
   "execution_count": 8,
   "id": "0274347f-4879-465d-be25-4aff047a724b",
   "metadata": {},
   "outputs": [],
   "source": [
    "ak_dummies = pd.get_dummies(ak, columns = categorical_cols, drop_first=True)"
   ]
  },
  {
   "cell_type": "code",
   "execution_count": 9,
   "id": "130c9f36-5770-4745-a6f2-dea95704a934",
   "metadata": {
    "tags": []
   },
   "outputs": [],
   "source": [
    "X = ak_dummies.drop('has_injury', axis=1)\n",
    "y = ak_dummies['has_injury']"
   ]
  },
  {
   "cell_type": "code",
   "execution_count": 10,
   "id": "86d9e924-8a1f-4e15-80a3-707b18dcf4df",
   "metadata": {
    "tags": []
   },
   "outputs": [],
   "source": [
    "X_train, X_test, y_train, y_test = train_test_split(X, y, test_size=0.075, random_state=21)"
   ]
  },
  {
   "cell_type": "markdown",
   "id": "36aa5887-7f44-48f8-afcf-5ff0a4561068",
   "metadata": {
    "tags": []
   },
   "source": [
    "### Baseline"
   ]
  },
  {
   "cell_type": "code",
   "execution_count": 11,
   "id": "7971e2b1-1dd1-47ac-a75b-ab3275391f8c",
   "metadata": {
    "tags": []
   },
   "outputs": [
    {
     "data": {
      "text/plain": [
       "6587"
      ]
     },
     "execution_count": 11,
     "metadata": {},
     "output_type": "execute_result"
    }
   ],
   "source": [
    "X.columns.value_counts().sum()"
   ]
  },
  {
   "cell_type": "code",
   "execution_count": 12,
   "id": "488fe461-700d-449e-9d46-31ef44ec4f35",
   "metadata": {
    "tags": []
   },
   "outputs": [
    {
     "data": {
      "text/plain": [
       "0.716994633273703"
      ]
     },
     "execution_count": 12,
     "metadata": {},
     "output_type": "execute_result"
    }
   ],
   "source": [
    "1 - y.mean()"
   ]
  },
  {
   "cell_type": "markdown",
   "id": "87a2e02f-ea76-48ca-8222-88e2d3a4c4a2",
   "metadata": {
    "tags": []
   },
   "source": [
    "### Benchmark Logistic Regression Model"
   ]
  },
  {
   "cell_type": "code",
   "execution_count": 13,
   "id": "5fda8c43-bf1d-491f-96c6-35c539d898b9",
   "metadata": {
    "tags": []
   },
   "outputs": [],
   "source": [
    "pipe_log_reg_bench = Pipeline([\n",
    "    ('sc', StandardScaler()),\n",
    "    ('log_reg_bench', LogisticRegression(max_iter=1000))\n",
    "])"
   ]
  },
  {
   "cell_type": "code",
   "execution_count": 14,
   "id": "32553da1-767f-4d94-ad10-0f656543fa07",
   "metadata": {
    "tags": []
   },
   "outputs": [
    {
     "data": {
      "text/html": [
       "<style>#sk-container-id-1 {color: black;}#sk-container-id-1 pre{padding: 0;}#sk-container-id-1 div.sk-toggleable {background-color: white;}#sk-container-id-1 label.sk-toggleable__label {cursor: pointer;display: block;width: 100%;margin-bottom: 0;padding: 0.3em;box-sizing: border-box;text-align: center;}#sk-container-id-1 label.sk-toggleable__label-arrow:before {content: \"▸\";float: left;margin-right: 0.25em;color: #696969;}#sk-container-id-1 label.sk-toggleable__label-arrow:hover:before {color: black;}#sk-container-id-1 div.sk-estimator:hover label.sk-toggleable__label-arrow:before {color: black;}#sk-container-id-1 div.sk-toggleable__content {max-height: 0;max-width: 0;overflow: hidden;text-align: left;background-color: #f0f8ff;}#sk-container-id-1 div.sk-toggleable__content pre {margin: 0.2em;color: black;border-radius: 0.25em;background-color: #f0f8ff;}#sk-container-id-1 input.sk-toggleable__control:checked~div.sk-toggleable__content {max-height: 200px;max-width: 100%;overflow: auto;}#sk-container-id-1 input.sk-toggleable__control:checked~label.sk-toggleable__label-arrow:before {content: \"▾\";}#sk-container-id-1 div.sk-estimator input.sk-toggleable__control:checked~label.sk-toggleable__label {background-color: #d4ebff;}#sk-container-id-1 div.sk-label input.sk-toggleable__control:checked~label.sk-toggleable__label {background-color: #d4ebff;}#sk-container-id-1 input.sk-hidden--visually {border: 0;clip: rect(1px 1px 1px 1px);clip: rect(1px, 1px, 1px, 1px);height: 1px;margin: -1px;overflow: hidden;padding: 0;position: absolute;width: 1px;}#sk-container-id-1 div.sk-estimator {font-family: monospace;background-color: #f0f8ff;border: 1px dotted black;border-radius: 0.25em;box-sizing: border-box;margin-bottom: 0.5em;}#sk-container-id-1 div.sk-estimator:hover {background-color: #d4ebff;}#sk-container-id-1 div.sk-parallel-item::after {content: \"\";width: 100%;border-bottom: 1px solid gray;flex-grow: 1;}#sk-container-id-1 div.sk-label:hover label.sk-toggleable__label {background-color: #d4ebff;}#sk-container-id-1 div.sk-serial::before {content: \"\";position: absolute;border-left: 1px solid gray;box-sizing: border-box;top: 0;bottom: 0;left: 50%;z-index: 0;}#sk-container-id-1 div.sk-serial {display: flex;flex-direction: column;align-items: center;background-color: white;padding-right: 0.2em;padding-left: 0.2em;position: relative;}#sk-container-id-1 div.sk-item {position: relative;z-index: 1;}#sk-container-id-1 div.sk-parallel {display: flex;align-items: stretch;justify-content: center;background-color: white;position: relative;}#sk-container-id-1 div.sk-item::before, #sk-container-id-1 div.sk-parallel-item::before {content: \"\";position: absolute;border-left: 1px solid gray;box-sizing: border-box;top: 0;bottom: 0;left: 50%;z-index: -1;}#sk-container-id-1 div.sk-parallel-item {display: flex;flex-direction: column;z-index: 1;position: relative;background-color: white;}#sk-container-id-1 div.sk-parallel-item:first-child::after {align-self: flex-end;width: 50%;}#sk-container-id-1 div.sk-parallel-item:last-child::after {align-self: flex-start;width: 50%;}#sk-container-id-1 div.sk-parallel-item:only-child::after {width: 0;}#sk-container-id-1 div.sk-dashed-wrapped {border: 1px dashed gray;margin: 0 0.4em 0.5em 0.4em;box-sizing: border-box;padding-bottom: 0.4em;background-color: white;}#sk-container-id-1 div.sk-label label {font-family: monospace;font-weight: bold;display: inline-block;line-height: 1.2em;}#sk-container-id-1 div.sk-label-container {text-align: center;}#sk-container-id-1 div.sk-container {/* jupyter's `normalize.less` sets `[hidden] { display: none; }` but bootstrap.min.css set `[hidden] { display: none !important; }` so we also need the `!important` here to be able to override the default hidden behavior on the sphinx rendered scikit-learn.org. See: https://github.com/scikit-learn/scikit-learn/issues/21755 */display: inline-block !important;position: relative;}#sk-container-id-1 div.sk-text-repr-fallback {display: none;}</style><div id=\"sk-container-id-1\" class=\"sk-top-container\"><div class=\"sk-text-repr-fallback\"><pre>Pipeline(steps=[(&#x27;sc&#x27;, StandardScaler()),\n",
       "                (&#x27;log_reg_bench&#x27;, LogisticRegression(max_iter=1000))])</pre><b>In a Jupyter environment, please rerun this cell to show the HTML representation or trust the notebook. <br />On GitHub, the HTML representation is unable to render, please try loading this page with nbviewer.org.</b></div><div class=\"sk-container\" hidden><div class=\"sk-item sk-dashed-wrapped\"><div class=\"sk-label-container\"><div class=\"sk-label sk-toggleable\"><input class=\"sk-toggleable__control sk-hidden--visually\" id=\"sk-estimator-id-1\" type=\"checkbox\" ><label for=\"sk-estimator-id-1\" class=\"sk-toggleable__label sk-toggleable__label-arrow\">Pipeline</label><div class=\"sk-toggleable__content\"><pre>Pipeline(steps=[(&#x27;sc&#x27;, StandardScaler()),\n",
       "                (&#x27;log_reg_bench&#x27;, LogisticRegression(max_iter=1000))])</pre></div></div></div><div class=\"sk-serial\"><div class=\"sk-item\"><div class=\"sk-estimator sk-toggleable\"><input class=\"sk-toggleable__control sk-hidden--visually\" id=\"sk-estimator-id-2\" type=\"checkbox\" ><label for=\"sk-estimator-id-2\" class=\"sk-toggleable__label sk-toggleable__label-arrow\">StandardScaler</label><div class=\"sk-toggleable__content\"><pre>StandardScaler()</pre></div></div></div><div class=\"sk-item\"><div class=\"sk-estimator sk-toggleable\"><input class=\"sk-toggleable__control sk-hidden--visually\" id=\"sk-estimator-id-3\" type=\"checkbox\" ><label for=\"sk-estimator-id-3\" class=\"sk-toggleable__label sk-toggleable__label-arrow\">LogisticRegression</label><div class=\"sk-toggleable__content\"><pre>LogisticRegression(max_iter=1000)</pre></div></div></div></div></div></div></div>"
      ],
      "text/plain": [
       "Pipeline(steps=[('sc', StandardScaler()),\n",
       "                ('log_reg_bench', LogisticRegression(max_iter=1000))])"
      ]
     },
     "execution_count": 14,
     "metadata": {},
     "output_type": "execute_result"
    }
   ],
   "source": [
    "pipe_log_reg_bench.fit(X_train, y_train)"
   ]
  },
  {
   "cell_type": "code",
   "execution_count": 15,
   "id": "2ce24728-828e-48c0-85ee-7bf336d7ab5b",
   "metadata": {
    "tags": []
   },
   "outputs": [
    {
     "data": {
      "text/plain": [
       "0.9665377176015474"
      ]
     },
     "execution_count": 15,
     "metadata": {},
     "output_type": "execute_result"
    }
   ],
   "source": [
    "pipe_log_reg_bench.score(X_train, y_train)"
   ]
  },
  {
   "cell_type": "code",
   "execution_count": 16,
   "id": "e3722c2b-0c79-4075-9676-823a3f3ad052",
   "metadata": {
    "tags": []
   },
   "outputs": [
    {
     "data": {
      "text/plain": [
       "0.6833333333333333"
      ]
     },
     "execution_count": 16,
     "metadata": {},
     "output_type": "execute_result"
    }
   ],
   "source": [
    "pipe_log_reg_bench.score(X_test, y_test)"
   ]
  },
  {
   "cell_type": "markdown",
   "id": "6c987185-bf4e-49ba-ada3-0a320271fe87",
   "metadata": {},
   "source": [
    "### Tuned Logistic Regression Model"
   ]
  },
  {
   "cell_type": "code",
   "execution_count": 17,
   "id": "bd811d1d-386f-4165-b9af-d9e93131c770",
   "metadata": {
    "tags": []
   },
   "outputs": [],
   "source": [
    "pipe_log_reg_tuned = Pipeline([\n",
    "    ('sc', StandardScaler()),\n",
    "    ('log_reg_tuned', LogisticRegression())\n",
    "])"
   ]
  },
  {
   "cell_type": "code",
   "execution_count": 18,
   "id": "7c97746f-4fab-4de7-81a3-19f3ed0636ae",
   "metadata": {
    "tags": []
   },
   "outputs": [
    {
     "data": {
      "text/plain": [
       "{'memory': None,\n",
       " 'steps': [('sc', StandardScaler()), ('log_reg_tuned', LogisticRegression())],\n",
       " 'verbose': False,\n",
       " 'sc': StandardScaler(),\n",
       " 'log_reg_tuned': LogisticRegression(),\n",
       " 'sc__copy': True,\n",
       " 'sc__with_mean': True,\n",
       " 'sc__with_std': True,\n",
       " 'log_reg_tuned__C': 1.0,\n",
       " 'log_reg_tuned__class_weight': None,\n",
       " 'log_reg_tuned__dual': False,\n",
       " 'log_reg_tuned__fit_intercept': True,\n",
       " 'log_reg_tuned__intercept_scaling': 1,\n",
       " 'log_reg_tuned__l1_ratio': None,\n",
       " 'log_reg_tuned__max_iter': 100,\n",
       " 'log_reg_tuned__multi_class': 'auto',\n",
       " 'log_reg_tuned__n_jobs': None,\n",
       " 'log_reg_tuned__penalty': 'l2',\n",
       " 'log_reg_tuned__random_state': None,\n",
       " 'log_reg_tuned__solver': 'lbfgs',\n",
       " 'log_reg_tuned__tol': 0.0001,\n",
       " 'log_reg_tuned__verbose': 0,\n",
       " 'log_reg_tuned__warm_start': False}"
      ]
     },
     "execution_count": 18,
     "metadata": {},
     "output_type": "execute_result"
    }
   ],
   "source": [
    "pipe_log_reg_tuned.get_params()"
   ]
  },
  {
   "cell_type": "code",
   "execution_count": 19,
   "id": "1abc4bf0-243a-4fb4-b0ca-cb305e0e537f",
   "metadata": {
    "tags": []
   },
   "outputs": [],
   "source": [
    "pipe_log_reg_tuned_params = {\n",
    "    'log_reg_tuned__max_iter': [100, 1_000],\n",
    "    'log_reg_tuned__C': np.linspace(0.00001, .01, 5),\n",
    "    'log_reg_tuned__penalty': ['l1', 'l2']\n",
    "}"
   ]
  },
  {
   "cell_type": "code",
   "execution_count": 20,
   "id": "ec0c01c9-d7f8-4c81-b73f-0faf51c12ed4",
   "metadata": {
    "tags": []
   },
   "outputs": [],
   "source": [
    "gs= GridSearchCV(pipe_log_reg_tuned,\n",
    "                                param_grid = pipe_log_reg_tuned_params,\n",
    "                                cv = 5,\n",
    "                               n_jobs=6)"
   ]
  },
  {
   "cell_type": "code",
   "execution_count": 21,
   "id": "31172b90-5df3-466c-bd21-accd31e70e68",
   "metadata": {
    "tags": []
   },
   "outputs": [
    {
     "name": "stderr",
     "output_type": "stream",
     "text": [
      "/Users/nolan/anaconda3/lib/python3.11/site-packages/sklearn/model_selection/_validation.py:425: FitFailedWarning: \n",
      "50 fits failed out of a total of 100.\n",
      "The score on these train-test partitions for these parameters will be set to nan.\n",
      "If these failures are not expected, you can try to debug them by setting error_score='raise'.\n",
      "\n",
      "Below are more details about the failures:\n",
      "--------------------------------------------------------------------------------\n",
      "50 fits failed with the following error:\n",
      "Traceback (most recent call last):\n",
      "  File \"/Users/nolan/anaconda3/lib/python3.11/site-packages/sklearn/model_selection/_validation.py\", line 732, in _fit_and_score\n",
      "    estimator.fit(X_train, y_train, **fit_params)\n",
      "  File \"/Users/nolan/anaconda3/lib/python3.11/site-packages/sklearn/base.py\", line 1151, in wrapper\n",
      "    return fit_method(estimator, *args, **kwargs)\n",
      "           ^^^^^^^^^^^^^^^^^^^^^^^^^^^^^^^^^^^^^^\n",
      "  File \"/Users/nolan/anaconda3/lib/python3.11/site-packages/sklearn/pipeline.py\", line 420, in fit\n",
      "    self._final_estimator.fit(Xt, y, **fit_params_last_step)\n",
      "  File \"/Users/nolan/anaconda3/lib/python3.11/site-packages/sklearn/base.py\", line 1151, in wrapper\n",
      "    return fit_method(estimator, *args, **kwargs)\n",
      "           ^^^^^^^^^^^^^^^^^^^^^^^^^^^^^^^^^^^^^^\n",
      "  File \"/Users/nolan/anaconda3/lib/python3.11/site-packages/sklearn/linear_model/_logistic.py\", line 1168, in fit\n",
      "    solver = _check_solver(self.solver, self.penalty, self.dual)\n",
      "             ^^^^^^^^^^^^^^^^^^^^^^^^^^^^^^^^^^^^^^^^^^^^^^^^^^^\n",
      "  File \"/Users/nolan/anaconda3/lib/python3.11/site-packages/sklearn/linear_model/_logistic.py\", line 56, in _check_solver\n",
      "    raise ValueError(\n",
      "ValueError: Solver lbfgs supports only 'l2' or 'none' penalties, got l1 penalty.\n",
      "\n",
      "  warnings.warn(some_fits_failed_message, FitFailedWarning)\n",
      "/Users/nolan/anaconda3/lib/python3.11/site-packages/sklearn/model_selection/_search.py:976: UserWarning: One or more of the test scores are non-finite: [       nan 0.71566731        nan 0.71566731        nan 0.70251451\n",
      "        nan 0.70251451        nan 0.70019342        nan 0.70019342\n",
      "        nan 0.69497099        nan 0.69497099        nan 0.68839458\n",
      "        nan 0.68839458]\n",
      "  warnings.warn(\n"
     ]
    },
    {
     "name": "stdout",
     "output_type": "stream",
     "text": [
      "CPU times: user 4.57 s, sys: 1.04 s, total: 5.6 s\n",
      "Wall time: 1min 14s\n"
     ]
    },
    {
     "data": {
      "text/html": [
       "<style>#sk-container-id-2 {color: black;}#sk-container-id-2 pre{padding: 0;}#sk-container-id-2 div.sk-toggleable {background-color: white;}#sk-container-id-2 label.sk-toggleable__label {cursor: pointer;display: block;width: 100%;margin-bottom: 0;padding: 0.3em;box-sizing: border-box;text-align: center;}#sk-container-id-2 label.sk-toggleable__label-arrow:before {content: \"▸\";float: left;margin-right: 0.25em;color: #696969;}#sk-container-id-2 label.sk-toggleable__label-arrow:hover:before {color: black;}#sk-container-id-2 div.sk-estimator:hover label.sk-toggleable__label-arrow:before {color: black;}#sk-container-id-2 div.sk-toggleable__content {max-height: 0;max-width: 0;overflow: hidden;text-align: left;background-color: #f0f8ff;}#sk-container-id-2 div.sk-toggleable__content pre {margin: 0.2em;color: black;border-radius: 0.25em;background-color: #f0f8ff;}#sk-container-id-2 input.sk-toggleable__control:checked~div.sk-toggleable__content {max-height: 200px;max-width: 100%;overflow: auto;}#sk-container-id-2 input.sk-toggleable__control:checked~label.sk-toggleable__label-arrow:before {content: \"▾\";}#sk-container-id-2 div.sk-estimator input.sk-toggleable__control:checked~label.sk-toggleable__label {background-color: #d4ebff;}#sk-container-id-2 div.sk-label input.sk-toggleable__control:checked~label.sk-toggleable__label {background-color: #d4ebff;}#sk-container-id-2 input.sk-hidden--visually {border: 0;clip: rect(1px 1px 1px 1px);clip: rect(1px, 1px, 1px, 1px);height: 1px;margin: -1px;overflow: hidden;padding: 0;position: absolute;width: 1px;}#sk-container-id-2 div.sk-estimator {font-family: monospace;background-color: #f0f8ff;border: 1px dotted black;border-radius: 0.25em;box-sizing: border-box;margin-bottom: 0.5em;}#sk-container-id-2 div.sk-estimator:hover {background-color: #d4ebff;}#sk-container-id-2 div.sk-parallel-item::after {content: \"\";width: 100%;border-bottom: 1px solid gray;flex-grow: 1;}#sk-container-id-2 div.sk-label:hover label.sk-toggleable__label {background-color: #d4ebff;}#sk-container-id-2 div.sk-serial::before {content: \"\";position: absolute;border-left: 1px solid gray;box-sizing: border-box;top: 0;bottom: 0;left: 50%;z-index: 0;}#sk-container-id-2 div.sk-serial {display: flex;flex-direction: column;align-items: center;background-color: white;padding-right: 0.2em;padding-left: 0.2em;position: relative;}#sk-container-id-2 div.sk-item {position: relative;z-index: 1;}#sk-container-id-2 div.sk-parallel {display: flex;align-items: stretch;justify-content: center;background-color: white;position: relative;}#sk-container-id-2 div.sk-item::before, #sk-container-id-2 div.sk-parallel-item::before {content: \"\";position: absolute;border-left: 1px solid gray;box-sizing: border-box;top: 0;bottom: 0;left: 50%;z-index: -1;}#sk-container-id-2 div.sk-parallel-item {display: flex;flex-direction: column;z-index: 1;position: relative;background-color: white;}#sk-container-id-2 div.sk-parallel-item:first-child::after {align-self: flex-end;width: 50%;}#sk-container-id-2 div.sk-parallel-item:last-child::after {align-self: flex-start;width: 50%;}#sk-container-id-2 div.sk-parallel-item:only-child::after {width: 0;}#sk-container-id-2 div.sk-dashed-wrapped {border: 1px dashed gray;margin: 0 0.4em 0.5em 0.4em;box-sizing: border-box;padding-bottom: 0.4em;background-color: white;}#sk-container-id-2 div.sk-label label {font-family: monospace;font-weight: bold;display: inline-block;line-height: 1.2em;}#sk-container-id-2 div.sk-label-container {text-align: center;}#sk-container-id-2 div.sk-container {/* jupyter's `normalize.less` sets `[hidden] { display: none; }` but bootstrap.min.css set `[hidden] { display: none !important; }` so we also need the `!important` here to be able to override the default hidden behavior on the sphinx rendered scikit-learn.org. See: https://github.com/scikit-learn/scikit-learn/issues/21755 */display: inline-block !important;position: relative;}#sk-container-id-2 div.sk-text-repr-fallback {display: none;}</style><div id=\"sk-container-id-2\" class=\"sk-top-container\"><div class=\"sk-text-repr-fallback\"><pre>GridSearchCV(cv=5,\n",
       "             estimator=Pipeline(steps=[(&#x27;sc&#x27;, StandardScaler()),\n",
       "                                       (&#x27;log_reg_tuned&#x27;,\n",
       "                                        LogisticRegression())]),\n",
       "             n_jobs=6,\n",
       "             param_grid={&#x27;log_reg_tuned__C&#x27;: array([1.0000e-05, 2.5075e-03, 5.0050e-03, 7.5025e-03, 1.0000e-02]),\n",
       "                         &#x27;log_reg_tuned__max_iter&#x27;: [100, 1000],\n",
       "                         &#x27;log_reg_tuned__penalty&#x27;: [&#x27;l1&#x27;, &#x27;l2&#x27;]})</pre><b>In a Jupyter environment, please rerun this cell to show the HTML representation or trust the notebook. <br />On GitHub, the HTML representation is unable to render, please try loading this page with nbviewer.org.</b></div><div class=\"sk-container\" hidden><div class=\"sk-item sk-dashed-wrapped\"><div class=\"sk-label-container\"><div class=\"sk-label sk-toggleable\"><input class=\"sk-toggleable__control sk-hidden--visually\" id=\"sk-estimator-id-4\" type=\"checkbox\" ><label for=\"sk-estimator-id-4\" class=\"sk-toggleable__label sk-toggleable__label-arrow\">GridSearchCV</label><div class=\"sk-toggleable__content\"><pre>GridSearchCV(cv=5,\n",
       "             estimator=Pipeline(steps=[(&#x27;sc&#x27;, StandardScaler()),\n",
       "                                       (&#x27;log_reg_tuned&#x27;,\n",
       "                                        LogisticRegression())]),\n",
       "             n_jobs=6,\n",
       "             param_grid={&#x27;log_reg_tuned__C&#x27;: array([1.0000e-05, 2.5075e-03, 5.0050e-03, 7.5025e-03, 1.0000e-02]),\n",
       "                         &#x27;log_reg_tuned__max_iter&#x27;: [100, 1000],\n",
       "                         &#x27;log_reg_tuned__penalty&#x27;: [&#x27;l1&#x27;, &#x27;l2&#x27;]})</pre></div></div></div><div class=\"sk-parallel\"><div class=\"sk-parallel-item\"><div class=\"sk-item\"><div class=\"sk-label-container\"><div class=\"sk-label sk-toggleable\"><input class=\"sk-toggleable__control sk-hidden--visually\" id=\"sk-estimator-id-5\" type=\"checkbox\" ><label for=\"sk-estimator-id-5\" class=\"sk-toggleable__label sk-toggleable__label-arrow\">estimator: Pipeline</label><div class=\"sk-toggleable__content\"><pre>Pipeline(steps=[(&#x27;sc&#x27;, StandardScaler()),\n",
       "                (&#x27;log_reg_tuned&#x27;, LogisticRegression())])</pre></div></div></div><div class=\"sk-serial\"><div class=\"sk-item\"><div class=\"sk-serial\"><div class=\"sk-item\"><div class=\"sk-estimator sk-toggleable\"><input class=\"sk-toggleable__control sk-hidden--visually\" id=\"sk-estimator-id-6\" type=\"checkbox\" ><label for=\"sk-estimator-id-6\" class=\"sk-toggleable__label sk-toggleable__label-arrow\">StandardScaler</label><div class=\"sk-toggleable__content\"><pre>StandardScaler()</pre></div></div></div><div class=\"sk-item\"><div class=\"sk-estimator sk-toggleable\"><input class=\"sk-toggleable__control sk-hidden--visually\" id=\"sk-estimator-id-7\" type=\"checkbox\" ><label for=\"sk-estimator-id-7\" class=\"sk-toggleable__label sk-toggleable__label-arrow\">LogisticRegression</label><div class=\"sk-toggleable__content\"><pre>LogisticRegression()</pre></div></div></div></div></div></div></div></div></div></div></div></div>"
      ],
      "text/plain": [
       "GridSearchCV(cv=5,\n",
       "             estimator=Pipeline(steps=[('sc', StandardScaler()),\n",
       "                                       ('log_reg_tuned',\n",
       "                                        LogisticRegression())]),\n",
       "             n_jobs=6,\n",
       "             param_grid={'log_reg_tuned__C': array([1.0000e-05, 2.5075e-03, 5.0050e-03, 7.5025e-03, 1.0000e-02]),\n",
       "                         'log_reg_tuned__max_iter': [100, 1000],\n",
       "                         'log_reg_tuned__penalty': ['l1', 'l2']})"
      ]
     },
     "execution_count": 21,
     "metadata": {},
     "output_type": "execute_result"
    }
   ],
   "source": [
    "%%time\n",
    "gs.fit(X_train, y_train)"
   ]
  },
  {
   "cell_type": "code",
   "execution_count": 22,
   "id": "25d8df9c-3900-4ffe-8d86-4de74e64b99c",
   "metadata": {
    "tags": []
   },
   "outputs": [
    {
     "data": {
      "text/plain": [
       "{'log_reg_tuned__C': 1e-05,\n",
       " 'log_reg_tuned__max_iter': 100,\n",
       " 'log_reg_tuned__penalty': 'l2'}"
      ]
     },
     "execution_count": 22,
     "metadata": {},
     "output_type": "execute_result"
    }
   ],
   "source": [
    "gs.best_params_"
   ]
  },
  {
   "cell_type": "code",
   "execution_count": 23,
   "id": "d8d01c0c-1931-42bb-8c24-427a98ea10ae",
   "metadata": {
    "tags": []
   },
   "outputs": [
    {
     "data": {
      "text/plain": [
       "0.7156673114119922"
      ]
     },
     "execution_count": 23,
     "metadata": {},
     "output_type": "execute_result"
    }
   ],
   "source": [
    "gs.score(X_train, y_train)"
   ]
  },
  {
   "cell_type": "code",
   "execution_count": 24,
   "id": "92715f58-ab27-4e04-bfeb-d514232e5bcc",
   "metadata": {
    "tags": []
   },
   "outputs": [
    {
     "data": {
      "text/plain": [
       "0.7333333333333333"
      ]
     },
     "execution_count": 24,
     "metadata": {},
     "output_type": "execute_result"
    }
   ],
   "source": [
    "gs.score(X_test, y_test)"
   ]
  },
  {
   "cell_type": "code",
   "execution_count": 25,
   "id": "27da8ee5-5c46-4c84-b9bf-a9ea1e0f336c",
   "metadata": {
    "tags": []
   },
   "outputs": [],
   "source": [
    "y_pred = gs.predict(X_test)"
   ]
  },
  {
   "cell_type": "code",
   "execution_count": 26,
   "id": "33413653-df13-4d3b-bedc-2df1ab7fee17",
   "metadata": {
    "tags": []
   },
   "outputs": [
    {
     "data": {
      "text/plain": [
       "array([[308,   0],\n",
       "       [112,   0]])"
      ]
     },
     "execution_count": 26,
     "metadata": {},
     "output_type": "execute_result"
    }
   ],
   "source": [
    "confusion_matrix(y_test, y_pred)"
   ]
  },
  {
   "cell_type": "code",
   "execution_count": 27,
   "id": "af217333-184f-481b-b6d0-8c51fd724be6",
   "metadata": {
    "tags": []
   },
   "outputs": [
    {
     "name": "stdout",
     "output_type": "stream",
     "text": [
      "              precision    recall  f1-score   support\n",
      "\n",
      "           0    0.73333   1.00000   0.84615       308\n",
      "           1    0.00000   0.00000   0.00000       112\n",
      "\n",
      "    accuracy                        0.73333       420\n",
      "   macro avg    0.36667   0.50000   0.42308       420\n",
      "weighted avg    0.53778   0.73333   0.62051       420\n",
      "\n"
     ]
    },
    {
     "name": "stderr",
     "output_type": "stream",
     "text": [
      "/Users/nolan/anaconda3/lib/python3.11/site-packages/sklearn/metrics/_classification.py:1469: UndefinedMetricWarning: Precision and F-score are ill-defined and being set to 0.0 in labels with no predicted samples. Use `zero_division` parameter to control this behavior.\n",
      "  _warn_prf(average, modifier, msg_start, len(result))\n",
      "/Users/nolan/anaconda3/lib/python3.11/site-packages/sklearn/metrics/_classification.py:1469: UndefinedMetricWarning: Precision and F-score are ill-defined and being set to 0.0 in labels with no predicted samples. Use `zero_division` parameter to control this behavior.\n",
      "  _warn_prf(average, modifier, msg_start, len(result))\n",
      "/Users/nolan/anaconda3/lib/python3.11/site-packages/sklearn/metrics/_classification.py:1469: UndefinedMetricWarning: Precision and F-score are ill-defined and being set to 0.0 in labels with no predicted samples. Use `zero_division` parameter to control this behavior.\n",
      "  _warn_prf(average, modifier, msg_start, len(result))\n"
     ]
    }
   ],
   "source": [
    "print(classification_report(y_test, y_pred, digits = 5))"
   ]
  },
  {
   "cell_type": "markdown",
   "id": "0cb7fc56-776d-4415-b944-5d257a48cb3d",
   "metadata": {
    "tags": []
   },
   "source": [
    "### Coefficients"
   ]
  },
  {
   "cell_type": "code",
   "execution_count": 28,
   "id": "bf572e04-97f1-4137-a88e-5fa8a65d82fb",
   "metadata": {
    "tags": []
   },
   "outputs": [],
   "source": [
    "# coefficients = np.exp(gs.best_estimator_.named_steps['log_reg_tuned'].coef_[0]*.1)"
   ]
  },
  {
   "cell_type": "code",
   "execution_count": 29,
   "id": "9915ba46-049d-4182-a38b-9a48984a276f",
   "metadata": {
    "tags": []
   },
   "outputs": [],
   "source": [
    "coefficients = gs.best_estimator_.named_steps['log_reg_tuned'].coef_[0]"
   ]
  },
  {
   "cell_type": "code",
   "execution_count": 30,
   "id": "62906406-96ac-483d-9328-f09b81873542",
   "metadata": {
    "tags": []
   },
   "outputs": [],
   "source": [
    "feature_names = list(X_train.columns)"
   ]
  },
  {
   "cell_type": "code",
   "execution_count": 31,
   "id": "bc2f07d6-9118-4bea-8e45-98aeb3c49eb6",
   "metadata": {
    "tags": []
   },
   "outputs": [],
   "source": [
    "coefficients_df = pd.DataFrame({'feature': feature_names, 'coefficient': coefficients})"
   ]
  },
  {
   "cell_type": "code",
   "execution_count": 32,
   "id": "bbde5e2c-4e21-4bfb-8bcc-9addaf755dad",
   "metadata": {
    "tags": []
   },
   "outputs": [
    {
     "data": {
      "text/html": [
       "<div>\n",
       "<style scoped>\n",
       "    .dataframe tbody tr th:only-of-type {\n",
       "        vertical-align: middle;\n",
       "    }\n",
       "\n",
       "    .dataframe tbody tr th {\n",
       "        vertical-align: top;\n",
       "    }\n",
       "\n",
       "    .dataframe thead th {\n",
       "        text-align: right;\n",
       "    }\n",
       "</style>\n",
       "<table border=\"1\" class=\"dataframe\">\n",
       "  <thead>\n",
       "    <tr style=\"text-align: right;\">\n",
       "      <th></th>\n",
       "      <th>feature</th>\n",
       "      <th>coefficient</th>\n",
       "    </tr>\n",
       "  </thead>\n",
       "  <tbody>\n",
       "    <tr>\n",
       "      <th>0</th>\n",
       "      <td>latitude</td>\n",
       "      <td>-0.000793</td>\n",
       "    </tr>\n",
       "    <tr>\n",
       "      <th>1</th>\n",
       "      <td>longitude</td>\n",
       "      <td>0.000741</td>\n",
       "    </tr>\n",
       "    <tr>\n",
       "      <th>2</th>\n",
       "      <td>amateur_built</td>\n",
       "      <td>0.001154</td>\n",
       "    </tr>\n",
       "    <tr>\n",
       "      <th>3</th>\n",
       "      <td>event_year</td>\n",
       "      <td>-0.001222</td>\n",
       "    </tr>\n",
       "    <tr>\n",
       "      <th>4</th>\n",
       "      <td>event_month</td>\n",
       "      <td>0.000229</td>\n",
       "    </tr>\n",
       "    <tr>\n",
       "      <th>5</th>\n",
       "      <td>event_day</td>\n",
       "      <td>0.000108</td>\n",
       "    </tr>\n",
       "    <tr>\n",
       "      <th>6</th>\n",
       "      <td>event_hour</td>\n",
       "      <td>-0.000878</td>\n",
       "    </tr>\n",
       "    <tr>\n",
       "      <th>7</th>\n",
       "      <td>city_100MI S.KNG SLM</td>\n",
       "      <td>-0.000205</td>\n",
       "    </tr>\n",
       "    <tr>\n",
       "      <th>8</th>\n",
       "      <td>city_11NM EAST OF SI</td>\n",
       "      <td>0.000501</td>\n",
       "    </tr>\n",
       "    <tr>\n",
       "      <th>9</th>\n",
       "      <td>city_18NM ESE KETCHI</td>\n",
       "      <td>-0.000197</td>\n",
       "    </tr>\n",
       "    <tr>\n",
       "      <th>10</th>\n",
       "      <td>city_20 ESE NORTH PO</td>\n",
       "      <td>-0.000200</td>\n",
       "    </tr>\n",
       "    <tr>\n",
       "      <th>11</th>\n",
       "      <td>city_27 E SAGWON</td>\n",
       "      <td>-0.000197</td>\n",
       "    </tr>\n",
       "    <tr>\n",
       "      <th>12</th>\n",
       "      <td>city_35 W. OF KETCHI</td>\n",
       "      <td>-0.000210</td>\n",
       "    </tr>\n",
       "    <tr>\n",
       "      <th>13</th>\n",
       "      <td>city_38 SE BARROW</td>\n",
       "      <td>0.000498</td>\n",
       "    </tr>\n",
       "    <tr>\n",
       "      <th>14</th>\n",
       "      <td>city_40 SE BETTLES</td>\n",
       "      <td>0.000499</td>\n",
       "    </tr>\n",
       "    <tr>\n",
       "      <th>15</th>\n",
       "      <td>city_40 W OF CLEAR</td>\n",
       "      <td>0.000502</td>\n",
       "    </tr>\n",
       "    <tr>\n",
       "      <th>16</th>\n",
       "      <td>city_42NM ESE OF YAK</td>\n",
       "      <td>-0.000202</td>\n",
       "    </tr>\n",
       "    <tr>\n",
       "      <th>17</th>\n",
       "      <td>city_44 NW FAIRBANKS</td>\n",
       "      <td>-0.000208</td>\n",
       "    </tr>\n",
       "    <tr>\n",
       "      <th>18</th>\n",
       "      <td>city_44MI NW MCCARTH</td>\n",
       "      <td>0.000498</td>\n",
       "    </tr>\n",
       "    <tr>\n",
       "      <th>19</th>\n",
       "      <td>city_45 NW ANCHORAGE</td>\n",
       "      <td>-0.000202</td>\n",
       "    </tr>\n",
       "    <tr>\n",
       "      <th>20</th>\n",
       "      <td>city_50 MI SW FAIRBA</td>\n",
       "      <td>-0.000197</td>\n",
       "    </tr>\n",
       "    <tr>\n",
       "      <th>21</th>\n",
       "      <td>city_51 NM ESE YAKUT</td>\n",
       "      <td>0.000500</td>\n",
       "    </tr>\n",
       "    <tr>\n",
       "      <th>22</th>\n",
       "      <td>city_60 E OF BETHEL</td>\n",
       "      <td>0.000506</td>\n",
       "    </tr>\n",
       "    <tr>\n",
       "      <th>23</th>\n",
       "      <td>city_65 MI.ENE OF MC</td>\n",
       "      <td>-0.000200</td>\n",
       "    </tr>\n",
       "    <tr>\n",
       "      <th>24</th>\n",
       "      <td>city_6NM SSE WRANGEL</td>\n",
       "      <td>0.000500</td>\n",
       "    </tr>\n",
       "  </tbody>\n",
       "</table>\n",
       "</div>"
      ],
      "text/plain": [
       "                 feature  coefficient\n",
       "0               latitude    -0.000793\n",
       "1              longitude     0.000741\n",
       "2          amateur_built     0.001154\n",
       "3             event_year    -0.001222\n",
       "4            event_month     0.000229\n",
       "5              event_day     0.000108\n",
       "6             event_hour    -0.000878\n",
       "7   city_100MI S.KNG SLM    -0.000205\n",
       "8   city_11NM EAST OF SI     0.000501\n",
       "9   city_18NM ESE KETCHI    -0.000197\n",
       "10  city_20 ESE NORTH PO    -0.000200\n",
       "11      city_27 E SAGWON    -0.000197\n",
       "12  city_35 W. OF KETCHI    -0.000210\n",
       "13     city_38 SE BARROW     0.000498\n",
       "14    city_40 SE BETTLES     0.000499\n",
       "15    city_40 W OF CLEAR     0.000502\n",
       "16  city_42NM ESE OF YAK    -0.000202\n",
       "17  city_44 NW FAIRBANKS    -0.000208\n",
       "18  city_44MI NW MCCARTH     0.000498\n",
       "19  city_45 NW ANCHORAGE    -0.000202\n",
       "20  city_50 MI SW FAIRBA    -0.000197\n",
       "21  city_51 NM ESE YAKUT     0.000500\n",
       "22   city_60 E OF BETHEL     0.000506\n",
       "23  city_65 MI.ENE OF MC    -0.000200\n",
       "24  city_6NM SSE WRANGEL     0.000500"
      ]
     },
     "execution_count": 32,
     "metadata": {},
     "output_type": "execute_result"
    }
   ],
   "source": [
    "pd.set_option('display.max_rows', None)\n",
    "coefficients_df.head(25)"
   ]
  },
  {
   "cell_type": "code",
   "execution_count": 33,
   "id": "6f65b979-324a-4fa8-be5b-5fd7e055dc0e",
   "metadata": {
    "tags": []
   },
   "outputs": [
    {
     "data": {
      "text/html": [
       "<div>\n",
       "<style scoped>\n",
       "    .dataframe tbody tr th:only-of-type {\n",
       "        vertical-align: middle;\n",
       "    }\n",
       "\n",
       "    .dataframe tbody tr th {\n",
       "        vertical-align: top;\n",
       "    }\n",
       "\n",
       "    .dataframe thead th {\n",
       "        text-align: right;\n",
       "    }\n",
       "</style>\n",
       "<table border=\"1\" class=\"dataframe\">\n",
       "  <thead>\n",
       "    <tr style=\"text-align: right;\">\n",
       "      <th></th>\n",
       "      <th>feature</th>\n",
       "      <th>coefficient</th>\n",
       "    </tr>\n",
       "  </thead>\n",
       "  <tbody>\n",
       "    <tr>\n",
       "      <th>4186</th>\n",
       "      <td>weather_condition_Unknown</td>\n",
       "      <td>0.002491</td>\n",
       "    </tr>\n",
       "    <tr>\n",
       "      <th>3782</th>\n",
       "      <td>airport_name_No Airport</td>\n",
       "      <td>0.002182</td>\n",
       "    </tr>\n",
       "    <tr>\n",
       "      <th>4183</th>\n",
       "      <td>far_135</td>\n",
       "      <td>0.002125</td>\n",
       "    </tr>\n",
       "    <tr>\n",
       "      <th>4175</th>\n",
       "      <td>purpose_of_flight_UNK</td>\n",
       "      <td>0.001917</td>\n",
       "    </tr>\n",
       "    <tr>\n",
       "      <th>2862</th>\n",
       "      <td>airport_id_No Airport</td>\n",
       "      <td>0.001731</td>\n",
       "    </tr>\n",
       "    <tr>\n",
       "      <th>2</th>\n",
       "      <td>amateur_built</td>\n",
       "      <td>0.001154</td>\n",
       "    </tr>\n",
       "    <tr>\n",
       "      <th>483</th>\n",
       "      <td>city_KETCHIKAN</td>\n",
       "      <td>0.001098</td>\n",
       "    </tr>\n",
       "    <tr>\n",
       "      <th>2517</th>\n",
       "      <td>aircraft_category_HELI</td>\n",
       "      <td>0.001092</td>\n",
       "    </tr>\n",
       "    <tr>\n",
       "      <th>536</th>\n",
       "      <td>city_Ketchikan</td>\n",
       "      <td>0.001077</td>\n",
       "    </tr>\n",
       "    <tr>\n",
       "      <th>470</th>\n",
       "      <td>city_KASILOF</td>\n",
       "      <td>0.001042</td>\n",
       "    </tr>\n",
       "    <tr>\n",
       "      <th>5091</th>\n",
       "      <td>operator_HAGELAND AVIATION SERVICES INC</td>\n",
       "      <td>0.001028</td>\n",
       "    </tr>\n",
       "    <tr>\n",
       "      <th>734</th>\n",
       "      <td>city_NOME</td>\n",
       "      <td>0.001022</td>\n",
       "    </tr>\n",
       "    <tr>\n",
       "      <th>6185</th>\n",
       "      <td>operator_SOUTH CENTRAL AIR</td>\n",
       "      <td>0.001000</td>\n",
       "    </tr>\n",
       "    <tr>\n",
       "      <th>4178</th>\n",
       "      <td>far_103</td>\n",
       "      <td>0.000981</td>\n",
       "    </tr>\n",
       "    <tr>\n",
       "      <th>1167</th>\n",
       "      <td>make_BELL</td>\n",
       "      <td>0.000937</td>\n",
       "    </tr>\n",
       "    <tr>\n",
       "      <th>920</th>\n",
       "      <td>city_SLEETMUTE</td>\n",
       "      <td>0.000932</td>\n",
       "    </tr>\n",
       "    <tr>\n",
       "      <th>2820</th>\n",
       "      <td>airport_id_KTN</td>\n",
       "      <td>0.000926</td>\n",
       "    </tr>\n",
       "    <tr>\n",
       "      <th>6586</th>\n",
       "      <td>event_season_Winter</td>\n",
       "      <td>0.000912</td>\n",
       "    </tr>\n",
       "    <tr>\n",
       "      <th>551</th>\n",
       "      <td>city_Koyukuk</td>\n",
       "      <td>0.000881</td>\n",
       "    </tr>\n",
       "    <tr>\n",
       "      <th>985</th>\n",
       "      <td>city_Sutton</td>\n",
       "      <td>0.000878</td>\n",
       "    </tr>\n",
       "    <tr>\n",
       "      <th>2362</th>\n",
       "      <td>model_R172K</td>\n",
       "      <td>0.000875</td>\n",
       "    </tr>\n",
       "    <tr>\n",
       "      <th>4361</th>\n",
       "      <td>operator_Alaska Skyways, Inc.</td>\n",
       "      <td>0.000870</td>\n",
       "    </tr>\n",
       "    <tr>\n",
       "      <th>306</th>\n",
       "      <td>city_Eagle River</td>\n",
       "      <td>0.000869</td>\n",
       "    </tr>\n",
       "    <tr>\n",
       "      <th>861</th>\n",
       "      <td>city_RED DEVIL</td>\n",
       "      <td>0.000863</td>\n",
       "    </tr>\n",
       "    <tr>\n",
       "      <th>4156</th>\n",
       "      <td>scheduled_SCHD</td>\n",
       "      <td>0.000861</td>\n",
       "    </tr>\n",
       "    <tr>\n",
       "      <th>1331</th>\n",
       "      <td>make_MCDONNELL DOUGLAS HELICOPTER</td>\n",
       "      <td>0.000860</td>\n",
       "    </tr>\n",
       "    <tr>\n",
       "      <th>4176</th>\n",
       "      <td>purpose_of_flight_Unknown</td>\n",
       "      <td>0.000859</td>\n",
       "    </tr>\n",
       "    <tr>\n",
       "      <th>400</th>\n",
       "      <td>city_HOBART BAY</td>\n",
       "      <td>0.000853</td>\n",
       "    </tr>\n",
       "    <tr>\n",
       "      <th>1090</th>\n",
       "      <td>city_WHITTIER</td>\n",
       "      <td>0.000839</td>\n",
       "    </tr>\n",
       "    <tr>\n",
       "      <th>1614</th>\n",
       "      <td>model_207A</td>\n",
       "      <td>0.000836</td>\n",
       "    </tr>\n",
       "  </tbody>\n",
       "</table>\n",
       "</div>"
      ],
      "text/plain": [
       "                                      feature  coefficient\n",
       "4186                weather_condition_Unknown     0.002491\n",
       "3782                  airport_name_No Airport     0.002182\n",
       "4183                                  far_135     0.002125\n",
       "4175                    purpose_of_flight_UNK     0.001917\n",
       "2862                    airport_id_No Airport     0.001731\n",
       "2                               amateur_built     0.001154\n",
       "483                            city_KETCHIKAN     0.001098\n",
       "2517                   aircraft_category_HELI     0.001092\n",
       "536                            city_Ketchikan     0.001077\n",
       "470                              city_KASILOF     0.001042\n",
       "5091  operator_HAGELAND AVIATION SERVICES INC     0.001028\n",
       "734                                 city_NOME     0.001022\n",
       "6185               operator_SOUTH CENTRAL AIR     0.001000\n",
       "4178                                  far_103     0.000981\n",
       "1167                                make_BELL     0.000937\n",
       "920                            city_SLEETMUTE     0.000932\n",
       "2820                           airport_id_KTN     0.000926\n",
       "6586                      event_season_Winter     0.000912\n",
       "551                              city_Koyukuk     0.000881\n",
       "985                               city_Sutton     0.000878\n",
       "2362                              model_R172K     0.000875\n",
       "4361            operator_Alaska Skyways, Inc.     0.000870\n",
       "306                          city_Eagle River     0.000869\n",
       "861                            city_RED DEVIL     0.000863\n",
       "4156                           scheduled_SCHD     0.000861\n",
       "1331        make_MCDONNELL DOUGLAS HELICOPTER     0.000860\n",
       "4176                purpose_of_flight_Unknown     0.000859\n",
       "400                           city_HOBART BAY     0.000853\n",
       "1090                            city_WHITTIER     0.000839\n",
       "1614                               model_207A     0.000836"
      ]
     },
     "execution_count": 33,
     "metadata": {},
     "output_type": "execute_result"
    }
   ],
   "source": [
    "coefficients_df.sort_values(by='coefficient', ascending=False).head(30)"
   ]
  },
  {
   "cell_type": "code",
   "execution_count": 34,
   "id": "2e164edc-0135-44ea-a7a1-8649a3c61ad8",
   "metadata": {
    "tags": []
   },
   "outputs": [
    {
     "data": {
      "text/html": [
       "<div>\n",
       "<style scoped>\n",
       "    .dataframe tbody tr th:only-of-type {\n",
       "        vertical-align: middle;\n",
       "    }\n",
       "\n",
       "    .dataframe tbody tr th {\n",
       "        vertical-align: top;\n",
       "    }\n",
       "\n",
       "    .dataframe thead th {\n",
       "        text-align: right;\n",
       "    }\n",
       "</style>\n",
       "<table border=\"1\" class=\"dataframe\">\n",
       "  <thead>\n",
       "    <tr style=\"text-align: right;\">\n",
       "      <th></th>\n",
       "      <th>feature</th>\n",
       "      <th>coefficient</th>\n",
       "    </tr>\n",
       "  </thead>\n",
       "  <tbody>\n",
       "    <tr>\n",
       "      <th>383</th>\n",
       "      <td>city_Gulkana</td>\n",
       "      <td>-0.000629</td>\n",
       "    </tr>\n",
       "    <tr>\n",
       "      <th>2166</th>\n",
       "      <td>model_M-5-210C</td>\n",
       "      <td>-0.000630</td>\n",
       "    </tr>\n",
       "    <tr>\n",
       "      <th>2702</th>\n",
       "      <td>airport_id_ANC</td>\n",
       "      <td>-0.000648</td>\n",
       "    </tr>\n",
       "    <tr>\n",
       "      <th>2870</th>\n",
       "      <td>airport_id_ORT</td>\n",
       "      <td>-0.000651</td>\n",
       "    </tr>\n",
       "    <tr>\n",
       "      <th>127</th>\n",
       "      <td>city_Beluga</td>\n",
       "      <td>-0.000654</td>\n",
       "    </tr>\n",
       "    <tr>\n",
       "      <th>2848</th>\n",
       "      <td>airport_id_MRI</td>\n",
       "      <td>-0.000662</td>\n",
       "    </tr>\n",
       "    <tr>\n",
       "      <th>2329</th>\n",
       "      <td>model_PA18</td>\n",
       "      <td>-0.000663</td>\n",
       "    </tr>\n",
       "    <tr>\n",
       "      <th>4166</th>\n",
       "      <td>purpose_of_flight_INST</td>\n",
       "      <td>-0.000673</td>\n",
       "    </tr>\n",
       "    <tr>\n",
       "      <th>2951</th>\n",
       "      <td>airport_id_PATK</td>\n",
       "      <td>-0.000685</td>\n",
       "    </tr>\n",
       "    <tr>\n",
       "      <th>316</th>\n",
       "      <td>city_FAIRBANKS</td>\n",
       "      <td>-0.000701</td>\n",
       "    </tr>\n",
       "    <tr>\n",
       "      <th>4169</th>\n",
       "      <td>purpose_of_flight_POSI</td>\n",
       "      <td>-0.000708</td>\n",
       "    </tr>\n",
       "    <tr>\n",
       "      <th>2282</th>\n",
       "      <td>model_PA-22-150</td>\n",
       "      <td>-0.000710</td>\n",
       "    </tr>\n",
       "    <tr>\n",
       "      <th>755</th>\n",
       "      <td>city_Nenana</td>\n",
       "      <td>-0.000728</td>\n",
       "    </tr>\n",
       "    <tr>\n",
       "      <th>2273</th>\n",
       "      <td>model_PA-20</td>\n",
       "      <td>-0.000742</td>\n",
       "    </tr>\n",
       "    <tr>\n",
       "      <th>1044</th>\n",
       "      <td>city_Tok</td>\n",
       "      <td>-0.000744</td>\n",
       "    </tr>\n",
       "    <tr>\n",
       "      <th>2978</th>\n",
       "      <td>airport_id_PVT</td>\n",
       "      <td>-0.000749</td>\n",
       "    </tr>\n",
       "    <tr>\n",
       "      <th>3051</th>\n",
       "      <td>airport_id_Z41</td>\n",
       "      <td>-0.000765</td>\n",
       "    </tr>\n",
       "    <tr>\n",
       "      <th>0</th>\n",
       "      <td>latitude</td>\n",
       "      <td>-0.000793</td>\n",
       "    </tr>\n",
       "    <tr>\n",
       "      <th>72</th>\n",
       "      <td>city_Anchorage</td>\n",
       "      <td>-0.000794</td>\n",
       "    </tr>\n",
       "    <tr>\n",
       "      <th>2761</th>\n",
       "      <td>airport_id_ENA</td>\n",
       "      <td>-0.000806</td>\n",
       "    </tr>\n",
       "    <tr>\n",
       "      <th>3341</th>\n",
       "      <td>airport_name_FAIRBANKS INTERNATIONAL</td>\n",
       "      <td>-0.000864</td>\n",
       "    </tr>\n",
       "    <tr>\n",
       "      <th>6</th>\n",
       "      <td>event_hour</td>\n",
       "      <td>-0.000878</td>\n",
       "    </tr>\n",
       "    <tr>\n",
       "      <th>1471</th>\n",
       "      <td>model_140</td>\n",
       "      <td>-0.000985</td>\n",
       "    </tr>\n",
       "    <tr>\n",
       "      <th>1365</th>\n",
       "      <td>make_Piper</td>\n",
       "      <td>-0.001007</td>\n",
       "    </tr>\n",
       "    <tr>\n",
       "      <th>1498</th>\n",
       "      <td>model_170B</td>\n",
       "      <td>-0.001100</td>\n",
       "    </tr>\n",
       "    <tr>\n",
       "      <th>3</th>\n",
       "      <td>event_year</td>\n",
       "      <td>-0.001222</td>\n",
       "    </tr>\n",
       "    <tr>\n",
       "      <th>1529</th>\n",
       "      <td>model_180</td>\n",
       "      <td>-0.001240</td>\n",
       "    </tr>\n",
       "    <tr>\n",
       "      <th>4168</th>\n",
       "      <td>purpose_of_flight_PERS</td>\n",
       "      <td>-0.001495</td>\n",
       "    </tr>\n",
       "    <tr>\n",
       "      <th>4158</th>\n",
       "      <td>scheduled_Unknown</td>\n",
       "      <td>-0.002195</td>\n",
       "    </tr>\n",
       "    <tr>\n",
       "      <th>4187</th>\n",
       "      <td>weather_condition_VMC</td>\n",
       "      <td>-0.005804</td>\n",
       "    </tr>\n",
       "  </tbody>\n",
       "</table>\n",
       "</div>"
      ],
      "text/plain": [
       "                                   feature  coefficient\n",
       "383                           city_Gulkana    -0.000629\n",
       "2166                        model_M-5-210C    -0.000630\n",
       "2702                        airport_id_ANC    -0.000648\n",
       "2870                        airport_id_ORT    -0.000651\n",
       "127                            city_Beluga    -0.000654\n",
       "2848                        airport_id_MRI    -0.000662\n",
       "2329                            model_PA18    -0.000663\n",
       "4166                purpose_of_flight_INST    -0.000673\n",
       "2951                       airport_id_PATK    -0.000685\n",
       "316                         city_FAIRBANKS    -0.000701\n",
       "4169                purpose_of_flight_POSI    -0.000708\n",
       "2282                       model_PA-22-150    -0.000710\n",
       "755                            city_Nenana    -0.000728\n",
       "2273                           model_PA-20    -0.000742\n",
       "1044                              city_Tok    -0.000744\n",
       "2978                        airport_id_PVT    -0.000749\n",
       "3051                        airport_id_Z41    -0.000765\n",
       "0                                 latitude    -0.000793\n",
       "72                          city_Anchorage    -0.000794\n",
       "2761                        airport_id_ENA    -0.000806\n",
       "3341  airport_name_FAIRBANKS INTERNATIONAL    -0.000864\n",
       "6                               event_hour    -0.000878\n",
       "1471                             model_140    -0.000985\n",
       "1365                            make_Piper    -0.001007\n",
       "1498                            model_170B    -0.001100\n",
       "3                               event_year    -0.001222\n",
       "1529                             model_180    -0.001240\n",
       "4168                purpose_of_flight_PERS    -0.001495\n",
       "4158                     scheduled_Unknown    -0.002195\n",
       "4187                 weather_condition_VMC    -0.005804"
      ]
     },
     "execution_count": 34,
     "metadata": {},
     "output_type": "execute_result"
    }
   ],
   "source": [
    "coefficients_df.sort_values(by='coefficient', ascending=False).tail(30)"
   ]
  },
  {
   "cell_type": "code",
   "execution_count": 35,
   "id": "84e77b3f-fbbf-4f6e-a681-080e8232aab7",
   "metadata": {
    "tags": []
   },
   "outputs": [],
   "source": [
    "coefficients_df.to_csv('../datasets/nolan_log_reg_coef.csv', index=False)"
   ]
  },
  {
   "cell_type": "markdown",
   "id": "f4f3dfab-093e-41dc-b38e-af7428bab371",
   "metadata": {},
   "source": [
    "### Pickle"
   ]
  },
  {
   "cell_type": "code",
   "execution_count": 36,
   "id": "3f5a90ff-364c-4733-b6cb-5dbb12680bae",
   "metadata": {
    "tags": []
   },
   "outputs": [],
   "source": [
    "with open ('../pickles/nolan_log_reg.pkl', 'wb') as f:\n",
    "    pickle.dump('gs.pkl', f)"
   ]
  }
 ],
 "metadata": {
  "kernelspec": {
   "display_name": "Python 3 (ipykernel)",
   "language": "python",
   "name": "python3"
  },
  "language_info": {
   "codemirror_mode": {
    "name": "ipython",
    "version": 3
   },
   "file_extension": ".py",
   "mimetype": "text/x-python",
   "name": "python",
   "nbconvert_exporter": "python",
   "pygments_lexer": "ipython3",
   "version": "3.11.5"
  }
 },
 "nbformat": 4,
 "nbformat_minor": 5
}
