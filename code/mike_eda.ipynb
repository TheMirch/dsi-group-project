{
 "cells": [
  {
   "cell_type": "code",
   "execution_count": 630,
   "id": "f0cbb67d-0354-4257-a1bd-7baeaa64f270",
   "metadata": {
    "tags": []
   },
   "outputs": [],
   "source": [
    "import numpy as np\n",
    "import pandas as pd\n",
    "import matplotlib.pyplot as plt\n",
    "\n",
    "import datetime"
   ]
  },
  {
   "cell_type": "code",
   "execution_count": 631,
   "id": "694c6f79-7884-4ae6-a48f-296773844ea8",
   "metadata": {
    "tags": []
   },
   "outputs": [],
   "source": [
    "ak = pd.read_csv('../datasets/alaska_single_engine_clean.csv')"
   ]
  },
  {
   "cell_type": "code",
   "execution_count": 632,
   "id": "d3679ff3-d007-40ea-abea-911ea2ef564e",
   "metadata": {
    "tags": []
   },
   "outputs": [],
   "source": [
    "pd.set_option('display.max_columns', None) \n",
    "pd.set_option('display.max_colwidth', None)"
   ]
  },
  {
   "cell_type": "code",
   "execution_count": 633,
   "id": "adb3dc08-dad5-40ca-b4e2-568a6daef323",
   "metadata": {},
   "outputs": [
    {
     "data": {
      "text/html": [
       "<div>\n",
       "<style scoped>\n",
       "    .dataframe tbody tr th:only-of-type {\n",
       "        vertical-align: middle;\n",
       "    }\n",
       "\n",
       "    .dataframe tbody tr th {\n",
       "        vertical-align: top;\n",
       "    }\n",
       "\n",
       "    .dataframe thead th {\n",
       "        text-align: right;\n",
       "    }\n",
       "</style>\n",
       "<table border=\"1\" class=\"dataframe\">\n",
       "  <thead>\n",
       "    <tr style=\"text-align: right;\">\n",
       "      <th></th>\n",
       "      <th>NtsbNo</th>\n",
       "      <th>EventType</th>\n",
       "      <th>Mkey</th>\n",
       "      <th>City</th>\n",
       "      <th>N</th>\n",
       "      <th>HasSafetyRec</th>\n",
       "      <th>ReportType</th>\n",
       "      <th>HighestInjuryLevel</th>\n",
       "      <th>FatalInjuryCount</th>\n",
       "      <th>SeriousInjuryCount</th>\n",
       "      <th>MinorInjuryCount</th>\n",
       "      <th>ProbableCause</th>\n",
       "      <th>Latitude</th>\n",
       "      <th>Longitude</th>\n",
       "      <th>Make</th>\n",
       "      <th>Model</th>\n",
       "      <th>AirCraftCategory</th>\n",
       "      <th>AirportID</th>\n",
       "      <th>AirportName</th>\n",
       "      <th>AmateurBuilt</th>\n",
       "      <th>Scheduled</th>\n",
       "      <th>PurposeOfFlight</th>\n",
       "      <th>FAR</th>\n",
       "      <th>AirCraftDamage</th>\n",
       "      <th>WeatherCondition</th>\n",
       "      <th>Operator</th>\n",
       "      <th>EventYear</th>\n",
       "      <th>EventMonth</th>\n",
       "      <th>EventDay</th>\n",
       "      <th>EventTime</th>\n",
       "      <th>EventSeason</th>\n",
       "    </tr>\n",
       "  </thead>\n",
       "  <tbody>\n",
       "    <tr>\n",
       "      <th>0</th>\n",
       "      <td>ANC23LA086</td>\n",
       "      <td>ACC</td>\n",
       "      <td>193153</td>\n",
       "      <td>Trimble River / Skwentna</td>\n",
       "      <td>N2586R</td>\n",
       "      <td>0</td>\n",
       "      <td>DirectorBrief</td>\n",
       "      <td>None Reported</td>\n",
       "      <td>0</td>\n",
       "      <td>0</td>\n",
       "      <td>0</td>\n",
       "      <td>Unknown</td>\n",
       "      <td>61.775160</td>\n",
       "      <td>-152.15263</td>\n",
       "      <td>CESSNA</td>\n",
       "      <td>182K</td>\n",
       "      <td>AIR</td>\n",
       "      <td>Unknown</td>\n",
       "      <td>Trimble River</td>\n",
       "      <td>0</td>\n",
       "      <td>Unknown</td>\n",
       "      <td>PERS</td>\n",
       "      <td>091</td>\n",
       "      <td>Substantial</td>\n",
       "      <td>Unknown</td>\n",
       "      <td>Unknown</td>\n",
       "      <td>2023</td>\n",
       "      <td>9</td>\n",
       "      <td>24</td>\n",
       "      <td>08:30:00</td>\n",
       "      <td>Fall</td>\n",
       "    </tr>\n",
       "    <tr>\n",
       "      <th>1</th>\n",
       "      <td>ANC23LA084</td>\n",
       "      <td>ACC</td>\n",
       "      <td>193128</td>\n",
       "      <td>Bethel</td>\n",
       "      <td>N8192D</td>\n",
       "      <td>0</td>\n",
       "      <td>DirectorBrief</td>\n",
       "      <td>None Reported</td>\n",
       "      <td>0</td>\n",
       "      <td>0</td>\n",
       "      <td>0</td>\n",
       "      <td>Unknown</td>\n",
       "      <td>60.805019</td>\n",
       "      <td>-161.78648</td>\n",
       "      <td>PIPER</td>\n",
       "      <td>PA-18-150</td>\n",
       "      <td>AIR</td>\n",
       "      <td>Unknown</td>\n",
       "      <td>Unknown</td>\n",
       "      <td>0</td>\n",
       "      <td>Unknown</td>\n",
       "      <td>PERS</td>\n",
       "      <td>091</td>\n",
       "      <td>Substantial</td>\n",
       "      <td>Unknown</td>\n",
       "      <td>Unknown</td>\n",
       "      <td>2023</td>\n",
       "      <td>9</td>\n",
       "      <td>20</td>\n",
       "      <td>12:00:00</td>\n",
       "      <td>Fall</td>\n",
       "    </tr>\n",
       "    <tr>\n",
       "      <th>2</th>\n",
       "      <td>ANC23LA080</td>\n",
       "      <td>ACC</td>\n",
       "      <td>193097</td>\n",
       "      <td>Homer</td>\n",
       "      <td>N7558H</td>\n",
       "      <td>0</td>\n",
       "      <td>DirectorBrief</td>\n",
       "      <td>None Reported</td>\n",
       "      <td>0</td>\n",
       "      <td>0</td>\n",
       "      <td>0</td>\n",
       "      <td>Unknown</td>\n",
       "      <td>59.646929</td>\n",
       "      <td>-151.49323</td>\n",
       "      <td>CESSNA</td>\n",
       "      <td>A185F</td>\n",
       "      <td>AIR</td>\n",
       "      <td>5BL</td>\n",
       "      <td>HOMER-BELUGA LAKE</td>\n",
       "      <td>0</td>\n",
       "      <td>Unknown</td>\n",
       "      <td>BUS</td>\n",
       "      <td>091</td>\n",
       "      <td>Substantial</td>\n",
       "      <td>VMC</td>\n",
       "      <td>Adventure Airways</td>\n",
       "      <td>2023</td>\n",
       "      <td>9</td>\n",
       "      <td>18</td>\n",
       "      <td>13:00:00</td>\n",
       "      <td>Fall</td>\n",
       "    </tr>\n",
       "    <tr>\n",
       "      <th>3</th>\n",
       "      <td>ANC23LA082</td>\n",
       "      <td>ACC</td>\n",
       "      <td>193105</td>\n",
       "      <td>Beaver Creek</td>\n",
       "      <td>N713C</td>\n",
       "      <td>0</td>\n",
       "      <td>DirectorBrief</td>\n",
       "      <td>None Reported</td>\n",
       "      <td>0</td>\n",
       "      <td>0</td>\n",
       "      <td>0</td>\n",
       "      <td>Unknown</td>\n",
       "      <td>64.267579</td>\n",
       "      <td>-147.68704</td>\n",
       "      <td>HELIO</td>\n",
       "      <td>H-295</td>\n",
       "      <td>AIR</td>\n",
       "      <td>Unknown</td>\n",
       "      <td>Unknown</td>\n",
       "      <td>0</td>\n",
       "      <td>NSCH</td>\n",
       "      <td>BUS</td>\n",
       "      <td>135</td>\n",
       "      <td>Substantial</td>\n",
       "      <td>Unknown</td>\n",
       "      <td>WRIGHT AIR SERVICE INC</td>\n",
       "      <td>2023</td>\n",
       "      <td>9</td>\n",
       "      <td>16</td>\n",
       "      <td>16:50:00</td>\n",
       "      <td>Fall</td>\n",
       "    </tr>\n",
       "    <tr>\n",
       "      <th>4</th>\n",
       "      <td>ANC23LA078</td>\n",
       "      <td>ACC</td>\n",
       "      <td>193088</td>\n",
       "      <td>NENANA</td>\n",
       "      <td>N907W</td>\n",
       "      <td>0</td>\n",
       "      <td>DirectorBrief</td>\n",
       "      <td>None Reported</td>\n",
       "      <td>0</td>\n",
       "      <td>0</td>\n",
       "      <td>0</td>\n",
       "      <td>Unknown</td>\n",
       "      <td>64.650753</td>\n",
       "      <td>-149.83639</td>\n",
       "      <td>RHODES STEVEN D</td>\n",
       "      <td>SR3500</td>\n",
       "      <td>AIR</td>\n",
       "      <td>Unknown</td>\n",
       "      <td>Unknown</td>\n",
       "      <td>1</td>\n",
       "      <td>Unknown</td>\n",
       "      <td>PERS</td>\n",
       "      <td>091</td>\n",
       "      <td>Substantial</td>\n",
       "      <td>VMC</td>\n",
       "      <td>Unknown</td>\n",
       "      <td>2023</td>\n",
       "      <td>9</td>\n",
       "      <td>16</td>\n",
       "      <td>15:00:00</td>\n",
       "      <td>Fall</td>\n",
       "    </tr>\n",
       "  </tbody>\n",
       "</table>\n",
       "</div>"
      ],
      "text/plain": [
       "       NtsbNo EventType    Mkey                      City       N  \\\n",
       "0  ANC23LA086       ACC  193153  Trimble River / Skwentna  N2586R   \n",
       "1  ANC23LA084       ACC  193128                    Bethel  N8192D   \n",
       "2  ANC23LA080       ACC  193097                     Homer  N7558H   \n",
       "3  ANC23LA082       ACC  193105              Beaver Creek   N713C   \n",
       "4  ANC23LA078       ACC  193088                    NENANA   N907W   \n",
       "\n",
       "   HasSafetyRec     ReportType HighestInjuryLevel  FatalInjuryCount  \\\n",
       "0             0  DirectorBrief      None Reported                 0   \n",
       "1             0  DirectorBrief      None Reported                 0   \n",
       "2             0  DirectorBrief      None Reported                 0   \n",
       "3             0  DirectorBrief      None Reported                 0   \n",
       "4             0  DirectorBrief      None Reported                 0   \n",
       "\n",
       "   SeriousInjuryCount  MinorInjuryCount ProbableCause   Latitude  Longitude  \\\n",
       "0                   0                 0       Unknown  61.775160 -152.15263   \n",
       "1                   0                 0       Unknown  60.805019 -161.78648   \n",
       "2                   0                 0       Unknown  59.646929 -151.49323   \n",
       "3                   0                 0       Unknown  64.267579 -147.68704   \n",
       "4                   0                 0       Unknown  64.650753 -149.83639   \n",
       "\n",
       "              Make      Model AirCraftCategory AirportID        AirportName  \\\n",
       "0           CESSNA       182K              AIR   Unknown      Trimble River   \n",
       "1            PIPER  PA-18-150              AIR   Unknown            Unknown   \n",
       "2           CESSNA      A185F              AIR       5BL  HOMER-BELUGA LAKE   \n",
       "3            HELIO      H-295              AIR   Unknown            Unknown   \n",
       "4  RHODES STEVEN D     SR3500              AIR   Unknown            Unknown   \n",
       "\n",
       "   AmateurBuilt Scheduled PurposeOfFlight  FAR AirCraftDamage  \\\n",
       "0             0   Unknown            PERS  091    Substantial   \n",
       "1             0   Unknown            PERS  091    Substantial   \n",
       "2             0   Unknown             BUS  091    Substantial   \n",
       "3             0      NSCH             BUS  135    Substantial   \n",
       "4             1   Unknown            PERS  091    Substantial   \n",
       "\n",
       "  WeatherCondition                Operator  EventYear  EventMonth  EventDay  \\\n",
       "0          Unknown                 Unknown       2023           9        24   \n",
       "1          Unknown                 Unknown       2023           9        20   \n",
       "2              VMC       Adventure Airways       2023           9        18   \n",
       "3          Unknown  WRIGHT AIR SERVICE INC       2023           9        16   \n",
       "4              VMC                 Unknown       2023           9        16   \n",
       "\n",
       "  EventTime EventSeason  \n",
       "0  08:30:00        Fall  \n",
       "1  12:00:00        Fall  \n",
       "2  13:00:00        Fall  \n",
       "3  16:50:00        Fall  \n",
       "4  15:00:00        Fall  "
      ]
     },
     "execution_count": 633,
     "metadata": {},
     "output_type": "execute_result"
    }
   ],
   "source": [
    "ak.head()"
   ]
  },
  {
   "cell_type": "code",
   "execution_count": 634,
   "id": "8aeb5df9-9fa2-435a-af42-2542857f3168",
   "metadata": {
    "tags": []
   },
   "outputs": [
    {
     "data": {
      "text/plain": [
       "Substantial                4916\n",
       "Destroyed                   503\n",
       "Minor                       115\n",
       "None Reported                52\n",
       "Substantial,Substantial      17\n",
       "Destroyed,Destroyed          10\n",
       "Minor,Substantial            10\n",
       "Substantial,Destroyed         6\n",
       "None,None                     6\n",
       "Destroyed,Substantial         5\n",
       "Substantial,Minor             5\n",
       "Unknown                       4\n",
       "Substantial,None              3\n",
       "Minor,Destroyed               2\n",
       "None,Substantial              2\n",
       "Substantial,Unknown           1\n",
       "Minor,Minor                   1\n",
       "Destroyed,None                1\n",
       "Name: AirCraftDamage, dtype: int64"
      ]
     },
     "execution_count": 634,
     "metadata": {},
     "output_type": "execute_result"
    }
   ],
   "source": [
    "ak['AirCraftDamage'].value_counts()"
   ]
  },
  {
   "cell_type": "code",
   "execution_count": 635,
   "id": "e872be55-f036-4579-8865-502b613fd6d2",
   "metadata": {
    "tags": []
   },
   "outputs": [
    {
     "data": {
      "text/plain": [
       "(58, 31)"
      ]
     },
     "execution_count": 635,
     "metadata": {},
     "output_type": "execute_result"
    }
   ],
   "source": [
    "ak[(ak['AirCraftDamage'].str.contains('None Reported')) | (ak['AirCraftDamage'].str.contains('None,None'))].shape"
   ]
  },
  {
   "cell_type": "code",
   "execution_count": 636,
   "id": "36027e32-f7ee-45ef-a943-641ddf4793c2",
   "metadata": {
    "tags": []
   },
   "outputs": [],
   "source": [
    "ak['AirCraftDamage'] = ak['AirCraftDamage'].replace({'None,None' : 'None Reported'})"
   ]
  },
  {
   "cell_type": "code",
   "execution_count": 637,
   "id": "b87ca2b2-2e4f-4748-a081-da8b546f9452",
   "metadata": {
    "tags": []
   },
   "outputs": [],
   "source": [
    "ak['AirCraftDamageBool'] = ak['AirCraftDamage'].str.contains('None Reported').astype(int)"
   ]
  },
  {
   "cell_type": "code",
   "execution_count": 638,
   "id": "50212c44-71b5-4472-9435-774ade2fca8e",
   "metadata": {
    "tags": []
   },
   "outputs": [],
   "source": [
    "ak['AirCraftDamageBool'] = 1 - ak['AirCraftDamageBool']"
   ]
  },
  {
   "cell_type": "code",
   "execution_count": 639,
   "id": "72b54efa-1807-47e2-805c-df6ed1bca1e4",
   "metadata": {
    "tags": []
   },
   "outputs": [
    {
     "data": {
      "text/plain": [
       "1    5601\n",
       "0      58\n",
       "Name: AirCraftDamageBool, dtype: int64"
      ]
     },
     "execution_count": 639,
     "metadata": {},
     "output_type": "execute_result"
    }
   ],
   "source": [
    "ak['AirCraftDamageBool'].value_counts()"
   ]
  },
  {
   "cell_type": "code",
   "execution_count": 640,
   "id": "d71b3c3b-128f-4248-8405-a287d178db2c",
   "metadata": {
    "tags": []
   },
   "outputs": [
    {
     "data": {
      "text/plain": [
       "None Reported    4044\n",
       "Minor             633\n",
       "Fatal             599\n",
       "Serious           383\n",
       "Name: HighestInjuryLevel, dtype: int64"
      ]
     },
     "execution_count": 640,
     "metadata": {},
     "output_type": "execute_result"
    }
   ],
   "source": [
    "ak['HighestInjuryLevel'].value_counts()"
   ]
  },
  {
   "cell_type": "code",
   "execution_count": 641,
   "id": "b56cbd00-2143-46d0-9410-afba7fc51f67",
   "metadata": {
    "tags": []
   },
   "outputs": [],
   "source": [
    "ak['InjuryBool'] = 1 - ak['HighestInjuryLevel'].str.contains('None Reported').astype(int)"
   ]
  },
  {
   "cell_type": "code",
   "execution_count": 642,
   "id": "a1463e69-80b1-4f28-ac03-c3343d3b54cd",
   "metadata": {
    "tags": []
   },
   "outputs": [
    {
     "data": {
      "text/plain": [
       "0    4044\n",
       "1    1615\n",
       "Name: InjuryBool, dtype: int64"
      ]
     },
     "execution_count": 642,
     "metadata": {},
     "output_type": "execute_result"
    }
   ],
   "source": [
    "ak['InjuryBool'].value_counts()"
   ]
  },
  {
   "cell_type": "code",
   "execution_count": 643,
   "id": "ab96b11c-8a65-4ded-aa6a-0a319b7864a8",
   "metadata": {
    "tags": []
   },
   "outputs": [],
   "source": [
    "ak['DamageOrInjury'] = (ak['AirCraftDamageBool'] | ak['InjuryBool']).astype(int)"
   ]
  },
  {
   "cell_type": "code",
   "execution_count": 644,
   "id": "8826fc8e-25a2-4450-8f83-bc8cec566ead",
   "metadata": {
    "tags": []
   },
   "outputs": [
    {
     "data": {
      "text/plain": [
       "1    5625\n",
       "0      34\n",
       "Name: DamageOrInjury, dtype: int64"
      ]
     },
     "execution_count": 644,
     "metadata": {},
     "output_type": "execute_result"
    }
   ],
   "source": [
    "ak['DamageOrInjury'].value_counts()"
   ]
  },
  {
   "cell_type": "code",
   "execution_count": 645,
   "id": "84de2f93-8488-43d3-b5d0-5a8782c85497",
   "metadata": {
    "tags": []
   },
   "outputs": [
    {
     "data": {
      "text/plain": [
       "0.9939918713553632"
      ]
     },
     "execution_count": 645,
     "metadata": {},
     "output_type": "execute_result"
    }
   ],
   "source": [
    "ak['DamageOrInjury'].mean()"
   ]
  },
  {
   "cell_type": "code",
   "execution_count": 646,
   "id": "c6777296-ed6d-41c6-8d2f-2a7db7a33a41",
   "metadata": {
    "tags": []
   },
   "outputs": [
    {
     "data": {
      "text/plain": [
       "0.7146138893797491"
      ]
     },
     "execution_count": 646,
     "metadata": {},
     "output_type": "execute_result"
    }
   ],
   "source": [
    "1 - ak['InjuryBool'].mean()"
   ]
  },
  {
   "cell_type": "code",
   "execution_count": 647,
   "id": "78a5bce5-990e-4c74-aaa7-011141baa932",
   "metadata": {
    "tags": []
   },
   "outputs": [],
   "source": [
    "ak.drop(['DamageOrInjury'], axis =1, inplace=True)"
   ]
  },
  {
   "cell_type": "code",
   "execution_count": 648,
   "id": "a23a850e-e144-49c4-a768-6c782e7ec704",
   "metadata": {
    "tags": []
   },
   "outputs": [
    {
     "data": {
      "text/html": [
       "<div>\n",
       "<style scoped>\n",
       "    .dataframe tbody tr th:only-of-type {\n",
       "        vertical-align: middle;\n",
       "    }\n",
       "\n",
       "    .dataframe tbody tr th {\n",
       "        vertical-align: top;\n",
       "    }\n",
       "\n",
       "    .dataframe thead th {\n",
       "        text-align: right;\n",
       "    }\n",
       "</style>\n",
       "<table border=\"1\" class=\"dataframe\">\n",
       "  <thead>\n",
       "    <tr style=\"text-align: right;\">\n",
       "      <th></th>\n",
       "      <th>NtsbNo</th>\n",
       "      <th>EventType</th>\n",
       "      <th>Mkey</th>\n",
       "      <th>City</th>\n",
       "      <th>N</th>\n",
       "      <th>HasSafetyRec</th>\n",
       "      <th>ReportType</th>\n",
       "      <th>HighestInjuryLevel</th>\n",
       "      <th>FatalInjuryCount</th>\n",
       "      <th>SeriousInjuryCount</th>\n",
       "      <th>MinorInjuryCount</th>\n",
       "      <th>ProbableCause</th>\n",
       "      <th>Latitude</th>\n",
       "      <th>Longitude</th>\n",
       "      <th>Make</th>\n",
       "      <th>Model</th>\n",
       "      <th>AirCraftCategory</th>\n",
       "      <th>AirportID</th>\n",
       "      <th>AirportName</th>\n",
       "      <th>AmateurBuilt</th>\n",
       "      <th>Scheduled</th>\n",
       "      <th>PurposeOfFlight</th>\n",
       "      <th>FAR</th>\n",
       "      <th>AirCraftDamage</th>\n",
       "      <th>WeatherCondition</th>\n",
       "      <th>Operator</th>\n",
       "      <th>EventYear</th>\n",
       "      <th>EventMonth</th>\n",
       "      <th>EventDay</th>\n",
       "      <th>EventTime</th>\n",
       "      <th>EventSeason</th>\n",
       "      <th>AirCraftDamageBool</th>\n",
       "      <th>InjuryBool</th>\n",
       "    </tr>\n",
       "  </thead>\n",
       "  <tbody>\n",
       "    <tr>\n",
       "      <th>0</th>\n",
       "      <td>ANC23LA086</td>\n",
       "      <td>ACC</td>\n",
       "      <td>193153</td>\n",
       "      <td>Trimble River / Skwentna</td>\n",
       "      <td>N2586R</td>\n",
       "      <td>0</td>\n",
       "      <td>DirectorBrief</td>\n",
       "      <td>None Reported</td>\n",
       "      <td>0</td>\n",
       "      <td>0</td>\n",
       "      <td>0</td>\n",
       "      <td>Unknown</td>\n",
       "      <td>61.775160</td>\n",
       "      <td>-152.15263</td>\n",
       "      <td>CESSNA</td>\n",
       "      <td>182K</td>\n",
       "      <td>AIR</td>\n",
       "      <td>Unknown</td>\n",
       "      <td>Trimble River</td>\n",
       "      <td>0</td>\n",
       "      <td>Unknown</td>\n",
       "      <td>PERS</td>\n",
       "      <td>091</td>\n",
       "      <td>Substantial</td>\n",
       "      <td>Unknown</td>\n",
       "      <td>Unknown</td>\n",
       "      <td>2023</td>\n",
       "      <td>9</td>\n",
       "      <td>24</td>\n",
       "      <td>08:30:00</td>\n",
       "      <td>Fall</td>\n",
       "      <td>1</td>\n",
       "      <td>0</td>\n",
       "    </tr>\n",
       "    <tr>\n",
       "      <th>1</th>\n",
       "      <td>ANC23LA084</td>\n",
       "      <td>ACC</td>\n",
       "      <td>193128</td>\n",
       "      <td>Bethel</td>\n",
       "      <td>N8192D</td>\n",
       "      <td>0</td>\n",
       "      <td>DirectorBrief</td>\n",
       "      <td>None Reported</td>\n",
       "      <td>0</td>\n",
       "      <td>0</td>\n",
       "      <td>0</td>\n",
       "      <td>Unknown</td>\n",
       "      <td>60.805019</td>\n",
       "      <td>-161.78648</td>\n",
       "      <td>PIPER</td>\n",
       "      <td>PA-18-150</td>\n",
       "      <td>AIR</td>\n",
       "      <td>Unknown</td>\n",
       "      <td>Unknown</td>\n",
       "      <td>0</td>\n",
       "      <td>Unknown</td>\n",
       "      <td>PERS</td>\n",
       "      <td>091</td>\n",
       "      <td>Substantial</td>\n",
       "      <td>Unknown</td>\n",
       "      <td>Unknown</td>\n",
       "      <td>2023</td>\n",
       "      <td>9</td>\n",
       "      <td>20</td>\n",
       "      <td>12:00:00</td>\n",
       "      <td>Fall</td>\n",
       "      <td>1</td>\n",
       "      <td>0</td>\n",
       "    </tr>\n",
       "    <tr>\n",
       "      <th>2</th>\n",
       "      <td>ANC23LA080</td>\n",
       "      <td>ACC</td>\n",
       "      <td>193097</td>\n",
       "      <td>Homer</td>\n",
       "      <td>N7558H</td>\n",
       "      <td>0</td>\n",
       "      <td>DirectorBrief</td>\n",
       "      <td>None Reported</td>\n",
       "      <td>0</td>\n",
       "      <td>0</td>\n",
       "      <td>0</td>\n",
       "      <td>Unknown</td>\n",
       "      <td>59.646929</td>\n",
       "      <td>-151.49323</td>\n",
       "      <td>CESSNA</td>\n",
       "      <td>A185F</td>\n",
       "      <td>AIR</td>\n",
       "      <td>5BL</td>\n",
       "      <td>HOMER-BELUGA LAKE</td>\n",
       "      <td>0</td>\n",
       "      <td>Unknown</td>\n",
       "      <td>BUS</td>\n",
       "      <td>091</td>\n",
       "      <td>Substantial</td>\n",
       "      <td>VMC</td>\n",
       "      <td>Adventure Airways</td>\n",
       "      <td>2023</td>\n",
       "      <td>9</td>\n",
       "      <td>18</td>\n",
       "      <td>13:00:00</td>\n",
       "      <td>Fall</td>\n",
       "      <td>1</td>\n",
       "      <td>0</td>\n",
       "    </tr>\n",
       "    <tr>\n",
       "      <th>3</th>\n",
       "      <td>ANC23LA082</td>\n",
       "      <td>ACC</td>\n",
       "      <td>193105</td>\n",
       "      <td>Beaver Creek</td>\n",
       "      <td>N713C</td>\n",
       "      <td>0</td>\n",
       "      <td>DirectorBrief</td>\n",
       "      <td>None Reported</td>\n",
       "      <td>0</td>\n",
       "      <td>0</td>\n",
       "      <td>0</td>\n",
       "      <td>Unknown</td>\n",
       "      <td>64.267579</td>\n",
       "      <td>-147.68704</td>\n",
       "      <td>HELIO</td>\n",
       "      <td>H-295</td>\n",
       "      <td>AIR</td>\n",
       "      <td>Unknown</td>\n",
       "      <td>Unknown</td>\n",
       "      <td>0</td>\n",
       "      <td>NSCH</td>\n",
       "      <td>BUS</td>\n",
       "      <td>135</td>\n",
       "      <td>Substantial</td>\n",
       "      <td>Unknown</td>\n",
       "      <td>WRIGHT AIR SERVICE INC</td>\n",
       "      <td>2023</td>\n",
       "      <td>9</td>\n",
       "      <td>16</td>\n",
       "      <td>16:50:00</td>\n",
       "      <td>Fall</td>\n",
       "      <td>1</td>\n",
       "      <td>0</td>\n",
       "    </tr>\n",
       "    <tr>\n",
       "      <th>4</th>\n",
       "      <td>ANC23LA078</td>\n",
       "      <td>ACC</td>\n",
       "      <td>193088</td>\n",
       "      <td>NENANA</td>\n",
       "      <td>N907W</td>\n",
       "      <td>0</td>\n",
       "      <td>DirectorBrief</td>\n",
       "      <td>None Reported</td>\n",
       "      <td>0</td>\n",
       "      <td>0</td>\n",
       "      <td>0</td>\n",
       "      <td>Unknown</td>\n",
       "      <td>64.650753</td>\n",
       "      <td>-149.83639</td>\n",
       "      <td>RHODES STEVEN D</td>\n",
       "      <td>SR3500</td>\n",
       "      <td>AIR</td>\n",
       "      <td>Unknown</td>\n",
       "      <td>Unknown</td>\n",
       "      <td>1</td>\n",
       "      <td>Unknown</td>\n",
       "      <td>PERS</td>\n",
       "      <td>091</td>\n",
       "      <td>Substantial</td>\n",
       "      <td>VMC</td>\n",
       "      <td>Unknown</td>\n",
       "      <td>2023</td>\n",
       "      <td>9</td>\n",
       "      <td>16</td>\n",
       "      <td>15:00:00</td>\n",
       "      <td>Fall</td>\n",
       "      <td>1</td>\n",
       "      <td>0</td>\n",
       "    </tr>\n",
       "  </tbody>\n",
       "</table>\n",
       "</div>"
      ],
      "text/plain": [
       "       NtsbNo EventType    Mkey                      City       N  \\\n",
       "0  ANC23LA086       ACC  193153  Trimble River / Skwentna  N2586R   \n",
       "1  ANC23LA084       ACC  193128                    Bethel  N8192D   \n",
       "2  ANC23LA080       ACC  193097                     Homer  N7558H   \n",
       "3  ANC23LA082       ACC  193105              Beaver Creek   N713C   \n",
       "4  ANC23LA078       ACC  193088                    NENANA   N907W   \n",
       "\n",
       "   HasSafetyRec     ReportType HighestInjuryLevel  FatalInjuryCount  \\\n",
       "0             0  DirectorBrief      None Reported                 0   \n",
       "1             0  DirectorBrief      None Reported                 0   \n",
       "2             0  DirectorBrief      None Reported                 0   \n",
       "3             0  DirectorBrief      None Reported                 0   \n",
       "4             0  DirectorBrief      None Reported                 0   \n",
       "\n",
       "   SeriousInjuryCount  MinorInjuryCount ProbableCause   Latitude  Longitude  \\\n",
       "0                   0                 0       Unknown  61.775160 -152.15263   \n",
       "1                   0                 0       Unknown  60.805019 -161.78648   \n",
       "2                   0                 0       Unknown  59.646929 -151.49323   \n",
       "3                   0                 0       Unknown  64.267579 -147.68704   \n",
       "4                   0                 0       Unknown  64.650753 -149.83639   \n",
       "\n",
       "              Make      Model AirCraftCategory AirportID        AirportName  \\\n",
       "0           CESSNA       182K              AIR   Unknown      Trimble River   \n",
       "1            PIPER  PA-18-150              AIR   Unknown            Unknown   \n",
       "2           CESSNA      A185F              AIR       5BL  HOMER-BELUGA LAKE   \n",
       "3            HELIO      H-295              AIR   Unknown            Unknown   \n",
       "4  RHODES STEVEN D     SR3500              AIR   Unknown            Unknown   \n",
       "\n",
       "   AmateurBuilt Scheduled PurposeOfFlight  FAR AirCraftDamage  \\\n",
       "0             0   Unknown            PERS  091    Substantial   \n",
       "1             0   Unknown            PERS  091    Substantial   \n",
       "2             0   Unknown             BUS  091    Substantial   \n",
       "3             0      NSCH             BUS  135    Substantial   \n",
       "4             1   Unknown            PERS  091    Substantial   \n",
       "\n",
       "  WeatherCondition                Operator  EventYear  EventMonth  EventDay  \\\n",
       "0          Unknown                 Unknown       2023           9        24   \n",
       "1          Unknown                 Unknown       2023           9        20   \n",
       "2              VMC       Adventure Airways       2023           9        18   \n",
       "3          Unknown  WRIGHT AIR SERVICE INC       2023           9        16   \n",
       "4              VMC                 Unknown       2023           9        16   \n",
       "\n",
       "  EventTime EventSeason  AirCraftDamageBool  InjuryBool  \n",
       "0  08:30:00        Fall                   1           0  \n",
       "1  12:00:00        Fall                   1           0  \n",
       "2  13:00:00        Fall                   1           0  \n",
       "3  16:50:00        Fall                   1           0  \n",
       "4  15:00:00        Fall                   1           0  "
      ]
     },
     "execution_count": 648,
     "metadata": {},
     "output_type": "execute_result"
    }
   ],
   "source": [
    "ak.head()"
   ]
  },
  {
   "cell_type": "code",
   "execution_count": 649,
   "id": "84ea86bd-a218-4c62-bd95-6ee2cee7dd22",
   "metadata": {
    "tags": []
   },
   "outputs": [],
   "source": [
    "ak_atb = ak.drop(['NtsbNo', 'EventType', 'Mkey', 'City', 'N', 'HasSafetyRec', 'ReportType', 'HighestInjuryLevel', 'FatalInjuryCount', 'SeriousInjuryCount', 'MinorInjuryCount', 'AirportID', 'FAR', 'AirCraftDamage', 'Operator', 'EventYear', 'EventSeason', 'EventDay', 'AirCraftDamageBool', 'AirCraftCategory', 'Scheduled'], axis=1)"
   ]
  },
  {
   "cell_type": "markdown",
   "id": "83e84834-f0ed-4421-a6b2-7f36d9d5105e",
   "metadata": {},
   "source": [
    "## Make and Model"
   ]
  },
  {
   "cell_type": "code",
   "execution_count": 650,
   "id": "b2a2797c-edbe-4cee-af70-0a02961a2eda",
   "metadata": {
    "tags": []
   },
   "outputs": [],
   "source": [
    "def comma_killer(entry):\n",
    "    if ',' in str(entry):\n",
    "        split_entry = entry.split(',')\n",
    "        return split_entry[0]\n",
    "    return entry\n",
    "\n",
    "# sample use ak_atb['Model'].apply(lambda x: comma_killer(x))"
   ]
  },
  {
   "cell_type": "code",
   "execution_count": 651,
   "id": "f152f47c-5b6c-436a-80d7-a2c6979a48bd",
   "metadata": {
    "tags": []
   },
   "outputs": [],
   "source": [
    "ak_atb['Model'] = ak_atb['Model'].str.upper()"
   ]
  },
  {
   "cell_type": "code",
   "execution_count": 652,
   "id": "cbfbf017-1eff-491a-8d74-2f5add2c4d48",
   "metadata": {},
   "outputs": [],
   "source": [
    "ak_atb['Model'] = ak_atb['Model'].apply(lambda x: comma_killer(x))"
   ]
  },
  {
   "cell_type": "code",
   "execution_count": 653,
   "id": "b99fa47c-efa4-4e9b-bf90-09b0849e724f",
   "metadata": {
    "tags": []
   },
   "outputs": [
    {
     "data": {
      "image/png": "[encoded data removed]",
      "text/plain": [
       "<Figure size 640x480 with 1 Axes>"
      ]
     },
     "metadata": {},
     "output_type": "display_data"
    }
   ],
   "source": [
    "model_counts = np.empty(0, int)\n",
    "for i in range(10, len(ak_atb['Model'].value_counts()), 10):\n",
    "    model_counts = np.append(model_counts, ak_atb['Model'].value_counts().head(i).sum())\n",
    "\n",
    "model_proportion = model_counts / len(ak_atb['Model'])\n",
    "# ak_atb['Model'].value_counts().head(2).sum()\n",
    "\n",
    "x = range(10, len(ak_atb['Model'].value_counts()), 10)\n",
    "y = model_proportion\n",
    "plt.plot(x, y)\n",
    "plt.fill_between(x,y, alpha = 0.2)\n",
    "plt.title('Proportion of Most Commonly Occurring Models')\n",
    "plt.xlabel('Top X Models')\n",
    "plt.ylabel('Proportion of Accidents')\n",
    "plt.grid(True)"
   ]
  },
  {
   "cell_type": "code",
   "execution_count": 654,
   "id": "f50dbedd-f815-4930-8184-aae42b28d7e3",
   "metadata": {
    "tags": []
   },
   "outputs": [
    {
     "data": {
      "text/plain": [
       "ACC    5523\n",
       "INC     136\n",
       "Name: EventType, dtype: int64"
      ]
     },
     "execution_count": 654,
     "metadata": {},
     "output_type": "execute_result"
    }
   ],
   "source": [
    "ak.EventType.value_counts()"
   ]
  },
  {
   "cell_type": "code",
   "execution_count": 655,
   "id": "7d44b1c1-7aac-4039-a1a8-0b179035e496",
   "metadata": {
    "tags": []
   },
   "outputs": [
    {
     "data": {
      "text/plain": [
       "Unknown    3510\n",
       "MRI         134\n",
       "NONE        113\n",
       "ANC          64\n",
       "FAI          53\n",
       "           ... \n",
       "CAL           1\n",
       "9Z7           1\n",
       "PAVB          1\n",
       "A61           1\n",
       "IAP           1\n",
       "Name: AirportID, Length: 549, dtype: int64"
      ]
     },
     "execution_count": 655,
     "metadata": {},
     "output_type": "execute_result"
    }
   ],
   "source": [
    "ak['AirportID'].value_counts()"
   ]
  },
  {
   "cell_type": "code",
   "execution_count": 656,
   "id": "8b132a25-97d2-4676-8898-ce0dedb3b2f7",
   "metadata": {
    "tags": []
   },
   "outputs": [
    {
     "data": {
      "text/plain": [
       "5"
      ]
     },
     "execution_count": 656,
     "metadata": {},
     "output_type": "execute_result"
    }
   ],
   "source": [
    "ak_atb['Model'].value_counts()[150]"
   ]
  },
  {
   "cell_type": "code",
   "execution_count": 657,
   "id": "5ef90447-c7c0-4780-9a56-982eef63c730",
   "metadata": {
    "tags": []
   },
   "outputs": [],
   "source": [
    "# list(ak_atb['Model'].value_counts()[:5].index.str.lower())\n"
   ]
  },
  {
   "cell_type": "code",
   "execution_count": 658,
   "id": "da831765-37b3-4568-93f4-fa0e6ee940db",
   "metadata": {
    "tags": []
   },
   "outputs": [],
   "source": [
    "def is_top_model(model, top_x):\n",
    "    top_list = list(ak_atb['Model'].value_counts()[:top_x + 1].index.str.upper())\n",
    "    return True if model.upper() in top_list else False"
   ]
  },
  {
   "cell_type": "code",
   "execution_count": 659,
   "id": "e650489c-5ed9-4136-9f43-f03ab7122fbe",
   "metadata": {
    "tags": []
   },
   "outputs": [],
   "source": [
    "ak_atb['Model'] = [x.upper() if is_top_model(x,150) else 'OTHER' for x in ak_atb['Model']]\n"
   ]
  },
  {
   "cell_type": "code",
   "execution_count": 660,
   "id": "0585df1f-8bb4-43fd-befe-f132aa1ed258",
   "metadata": {
    "tags": []
   },
   "outputs": [
    {
     "data": {
      "text/plain": [
       "OTHER        1335\n",
       "PA-18         441\n",
       "PA-18-150     248\n",
       "180           227\n",
       "185           188\n",
       "             ... \n",
       "G-21A           5\n",
       "PA-32R          5\n",
       "180F            5\n",
       "DC-3C           5\n",
       "7GC             5\n",
       "Name: Model, Length: 152, dtype: int64"
      ]
     },
     "execution_count": 660,
     "metadata": {},
     "output_type": "execute_result"
    }
   ],
   "source": [
    "ak_atb['Model'].value_counts()"
   ]
  },
  {
   "cell_type": "code",
   "execution_count": 661,
   "id": "8be323f6-ad1b-43db-ae0b-f16c526bb133",
   "metadata": {
    "tags": []
   },
   "outputs": [
    {
     "data": {
      "text/html": [
       "<div>\n",
       "<style scoped>\n",
       "    .dataframe tbody tr th:only-of-type {\n",
       "        vertical-align: middle;\n",
       "    }\n",
       "\n",
       "    .dataframe tbody tr th {\n",
       "        vertical-align: top;\n",
       "    }\n",
       "\n",
       "    .dataframe thead th {\n",
       "        text-align: right;\n",
       "    }\n",
       "</style>\n",
       "<table border=\"1\" class=\"dataframe\">\n",
       "  <thead>\n",
       "    <tr style=\"text-align: right;\">\n",
       "      <th></th>\n",
       "      <th>ProbableCause</th>\n",
       "      <th>Latitude</th>\n",
       "      <th>Longitude</th>\n",
       "      <th>Make</th>\n",
       "      <th>Model</th>\n",
       "      <th>AirportName</th>\n",
       "      <th>AmateurBuilt</th>\n",
       "      <th>PurposeOfFlight</th>\n",
       "      <th>WeatherCondition</th>\n",
       "      <th>EventMonth</th>\n",
       "      <th>EventTime</th>\n",
       "      <th>InjuryBool</th>\n",
       "    </tr>\n",
       "  </thead>\n",
       "  <tbody>\n",
       "    <tr>\n",
       "      <th>0</th>\n",
       "      <td>Unknown</td>\n",
       "      <td>61.775160</td>\n",
       "      <td>-152.15263</td>\n",
       "      <td>CESSNA</td>\n",
       "      <td>OTHER</td>\n",
       "      <td>Trimble River</td>\n",
       "      <td>0</td>\n",
       "      <td>PERS</td>\n",
       "      <td>Unknown</td>\n",
       "      <td>9</td>\n",
       "      <td>08:30:00</td>\n",
       "      <td>0</td>\n",
       "    </tr>\n",
       "    <tr>\n",
       "      <th>1</th>\n",
       "      <td>Unknown</td>\n",
       "      <td>60.805019</td>\n",
       "      <td>-161.78648</td>\n",
       "      <td>PIPER</td>\n",
       "      <td>PA-18-150</td>\n",
       "      <td>Unknown</td>\n",
       "      <td>0</td>\n",
       "      <td>PERS</td>\n",
       "      <td>Unknown</td>\n",
       "      <td>9</td>\n",
       "      <td>12:00:00</td>\n",
       "      <td>0</td>\n",
       "    </tr>\n",
       "    <tr>\n",
       "      <th>2</th>\n",
       "      <td>Unknown</td>\n",
       "      <td>59.646929</td>\n",
       "      <td>-151.49323</td>\n",
       "      <td>CESSNA</td>\n",
       "      <td>A185F</td>\n",
       "      <td>HOMER-BELUGA LAKE</td>\n",
       "      <td>0</td>\n",
       "      <td>BUS</td>\n",
       "      <td>VMC</td>\n",
       "      <td>9</td>\n",
       "      <td>13:00:00</td>\n",
       "      <td>0</td>\n",
       "    </tr>\n",
       "    <tr>\n",
       "      <th>3</th>\n",
       "      <td>Unknown</td>\n",
       "      <td>64.267579</td>\n",
       "      <td>-147.68704</td>\n",
       "      <td>HELIO</td>\n",
       "      <td>H-295</td>\n",
       "      <td>Unknown</td>\n",
       "      <td>0</td>\n",
       "      <td>BUS</td>\n",
       "      <td>Unknown</td>\n",
       "      <td>9</td>\n",
       "      <td>16:50:00</td>\n",
       "      <td>0</td>\n",
       "    </tr>\n",
       "    <tr>\n",
       "      <th>4</th>\n",
       "      <td>Unknown</td>\n",
       "      <td>64.650753</td>\n",
       "      <td>-149.83639</td>\n",
       "      <td>RHODES STEVEN D</td>\n",
       "      <td>OTHER</td>\n",
       "      <td>Unknown</td>\n",
       "      <td>1</td>\n",
       "      <td>PERS</td>\n",
       "      <td>VMC</td>\n",
       "      <td>9</td>\n",
       "      <td>15:00:00</td>\n",
       "      <td>0</td>\n",
       "    </tr>\n",
       "  </tbody>\n",
       "</table>\n",
       "</div>"
      ],
      "text/plain": [
       "  ProbableCause   Latitude  Longitude             Make      Model  \\\n",
       "0       Unknown  61.775160 -152.15263           CESSNA      OTHER   \n",
       "1       Unknown  60.805019 -161.78648            PIPER  PA-18-150   \n",
       "2       Unknown  59.646929 -151.49323           CESSNA      A185F   \n",
       "3       Unknown  64.267579 -147.68704            HELIO      H-295   \n",
       "4       Unknown  64.650753 -149.83639  RHODES STEVEN D      OTHER   \n",
       "\n",
       "         AirportName  AmateurBuilt PurposeOfFlight WeatherCondition  \\\n",
       "0      Trimble River             0            PERS          Unknown   \n",
       "1            Unknown             0            PERS          Unknown   \n",
       "2  HOMER-BELUGA LAKE             0             BUS              VMC   \n",
       "3            Unknown             0             BUS          Unknown   \n",
       "4            Unknown             1            PERS              VMC   \n",
       "\n",
       "   EventMonth EventTime  InjuryBool  \n",
       "0           9  08:30:00           0  \n",
       "1           9  12:00:00           0  \n",
       "2           9  13:00:00           0  \n",
       "3           9  16:50:00           0  \n",
       "4           9  15:00:00           0  "
      ]
     },
     "execution_count": 661,
     "metadata": {},
     "output_type": "execute_result"
    }
   ],
   "source": [
    "ak_atb.head()"
   ]
  },
  {
   "cell_type": "code",
   "execution_count": 662,
   "id": "4aa73cbe-0243-4b52-ba4c-44b3d70a608f",
   "metadata": {
    "tags": []
   },
   "outputs": [],
   "source": [
    "ak_atb['OccurredNearAirport'] = 1 - ak_atb['AirportName'].str.contains('Unknown').astype(int)"
   ]
  },
  {
   "cell_type": "code",
   "execution_count": 663,
   "id": "e2570102-4c9a-4fff-9ec9-64f8c471ce03",
   "metadata": {
    "tags": []
   },
   "outputs": [
    {
     "data": {
      "text/plain": [
       "0    3196\n",
       "1    2463\n",
       "Name: OccurredNearAirport, dtype: int64"
      ]
     },
     "execution_count": 663,
     "metadata": {},
     "output_type": "execute_result"
    }
   ],
   "source": [
    "ak_atb['OccurredNearAirport'].value_counts()"
   ]
  },
  {
   "cell_type": "code",
   "execution_count": 664,
   "id": "7a0a52c8-88f8-4039-bc29-af26b970e739",
   "metadata": {
    "tags": []
   },
   "outputs": [],
   "source": [
    "ak_atb.drop('AirportName', axis = 1, inplace = True)"
   ]
  },
  {
   "cell_type": "code",
   "execution_count": 665,
   "id": "8e163bfb-a877-4d50-8a9f-4184554661cc",
   "metadata": {
    "tags": []
   },
   "outputs": [],
   "source": [
    "ak_atb['EventTime'] = pd.to_datetime(ak_atb['EventTime'])\n",
    "ak_atb['EventHour'] = [x.hour for x in ak_atb['EventTime']]"
   ]
  },
  {
   "cell_type": "code",
   "execution_count": 666,
   "id": "9191cf68-1080-4b60-a79c-ef12232db6b7",
   "metadata": {
    "tags": []
   },
   "outputs": [],
   "source": [
    "ak_atb.drop('EventTime', axis = 1, inplace = True)"
   ]
  },
  {
   "cell_type": "code",
   "execution_count": 667,
   "id": "00d2eb1d-5445-4ed1-9ce0-d9132a784714",
   "metadata": {
    "tags": []
   },
   "outputs": [
    {
     "data": {
      "text/html": [
       "<div>\n",
       "<style scoped>\n",
       "    .dataframe tbody tr th:only-of-type {\n",
       "        vertical-align: middle;\n",
       "    }\n",
       "\n",
       "    .dataframe tbody tr th {\n",
       "        vertical-align: top;\n",
       "    }\n",
       "\n",
       "    .dataframe thead th {\n",
       "        text-align: right;\n",
       "    }\n",
       "</style>\n",
       "<table border=\"1\" class=\"dataframe\">\n",
       "  <thead>\n",
       "    <tr style=\"text-align: right;\">\n",
       "      <th></th>\n",
       "      <th>ProbableCause</th>\n",
       "      <th>Latitude</th>\n",
       "      <th>Longitude</th>\n",
       "      <th>Make</th>\n",
       "      <th>Model</th>\n",
       "      <th>AmateurBuilt</th>\n",
       "      <th>PurposeOfFlight</th>\n",
       "      <th>WeatherCondition</th>\n",
       "      <th>EventMonth</th>\n",
       "      <th>InjuryBool</th>\n",
       "      <th>OccurredNearAirport</th>\n",
       "      <th>EventHour</th>\n",
       "    </tr>\n",
       "  </thead>\n",
       "  <tbody>\n",
       "    <tr>\n",
       "      <th>0</th>\n",
       "      <td>Unknown</td>\n",
       "      <td>61.775160</td>\n",
       "      <td>-152.15263</td>\n",
       "      <td>CESSNA</td>\n",
       "      <td>OTHER</td>\n",
       "      <td>0</td>\n",
       "      <td>PERS</td>\n",
       "      <td>Unknown</td>\n",
       "      <td>9</td>\n",
       "      <td>0</td>\n",
       "      <td>1</td>\n",
       "      <td>8</td>\n",
       "    </tr>\n",
       "    <tr>\n",
       "      <th>1</th>\n",
       "      <td>Unknown</td>\n",
       "      <td>60.805019</td>\n",
       "      <td>-161.78648</td>\n",
       "      <td>PIPER</td>\n",
       "      <td>PA-18-150</td>\n",
       "      <td>0</td>\n",
       "      <td>PERS</td>\n",
       "      <td>Unknown</td>\n",
       "      <td>9</td>\n",
       "      <td>0</td>\n",
       "      <td>0</td>\n",
       "      <td>12</td>\n",
       "    </tr>\n",
       "    <tr>\n",
       "      <th>2</th>\n",
       "      <td>Unknown</td>\n",
       "      <td>59.646929</td>\n",
       "      <td>-151.49323</td>\n",
       "      <td>CESSNA</td>\n",
       "      <td>A185F</td>\n",
       "      <td>0</td>\n",
       "      <td>BUS</td>\n",
       "      <td>VMC</td>\n",
       "      <td>9</td>\n",
       "      <td>0</td>\n",
       "      <td>1</td>\n",
       "      <td>13</td>\n",
       "    </tr>\n",
       "    <tr>\n",
       "      <th>3</th>\n",
       "      <td>Unknown</td>\n",
       "      <td>64.267579</td>\n",
       "      <td>-147.68704</td>\n",
       "      <td>HELIO</td>\n",
       "      <td>H-295</td>\n",
       "      <td>0</td>\n",
       "      <td>BUS</td>\n",
       "      <td>Unknown</td>\n",
       "      <td>9</td>\n",
       "      <td>0</td>\n",
       "      <td>0</td>\n",
       "      <td>16</td>\n",
       "    </tr>\n",
       "    <tr>\n",
       "      <th>4</th>\n",
       "      <td>Unknown</td>\n",
       "      <td>64.650753</td>\n",
       "      <td>-149.83639</td>\n",
       "      <td>RHODES STEVEN D</td>\n",
       "      <td>OTHER</td>\n",
       "      <td>1</td>\n",
       "      <td>PERS</td>\n",
       "      <td>VMC</td>\n",
       "      <td>9</td>\n",
       "      <td>0</td>\n",
       "      <td>0</td>\n",
       "      <td>15</td>\n",
       "    </tr>\n",
       "  </tbody>\n",
       "</table>\n",
       "</div>"
      ],
      "text/plain": [
       "  ProbableCause   Latitude  Longitude             Make      Model  \\\n",
       "0       Unknown  61.775160 -152.15263           CESSNA      OTHER   \n",
       "1       Unknown  60.805019 -161.78648            PIPER  PA-18-150   \n",
       "2       Unknown  59.646929 -151.49323           CESSNA      A185F   \n",
       "3       Unknown  64.267579 -147.68704            HELIO      H-295   \n",
       "4       Unknown  64.650753 -149.83639  RHODES STEVEN D      OTHER   \n",
       "\n",
       "   AmateurBuilt PurposeOfFlight WeatherCondition  EventMonth  InjuryBool  \\\n",
       "0             0            PERS          Unknown           9           0   \n",
       "1             0            PERS          Unknown           9           0   \n",
       "2             0             BUS              VMC           9           0   \n",
       "3             0             BUS          Unknown           9           0   \n",
       "4             1            PERS              VMC           9           0   \n",
       "\n",
       "   OccurredNearAirport  EventHour  \n",
       "0                    1          8  \n",
       "1                    0         12  \n",
       "2                    1         13  \n",
       "3                    0         16  \n",
       "4                    0         15  "
      ]
     },
     "execution_count": 667,
     "metadata": {},
     "output_type": "execute_result"
    }
   ],
   "source": [
    "ak_atb.head()"
   ]
  },
  {
   "cell_type": "code",
   "execution_count": 668,
   "id": "9ce7cdfb-e88c-49d6-94aa-429cdfe9f7bf",
   "metadata": {
    "tags": []
   },
   "outputs": [],
   "source": [
    "ak_atb['Make'] = ak_atb['Make'].str.upper()"
   ]
  },
  {
   "cell_type": "code",
   "execution_count": 669,
   "id": "414cb13a-575c-44a7-93e8-0bd740679247",
   "metadata": {
    "tags": []
   },
   "outputs": [],
   "source": [
    "ak_atb['Make'] = ak_atb['Make'].apply(lambda x: comma_killer(x))"
   ]
  },
  {
   "cell_type": "code",
   "execution_count": 670,
   "id": "44fa8233-6cc1-4cc7-9235-1f9852fb971d",
   "metadata": {
    "tags": []
   },
   "outputs": [],
   "source": [
    "def is_top_make(make, top_x):\n",
    "    top_list = list(ak_atb['Make'].value_counts()[:top_x + 1].index.str.upper())\n",
    "    return True if make.upper() in top_list else False"
   ]
  },
  {
   "cell_type": "code",
   "execution_count": 671,
   "id": "213224e7-179e-4f07-8cda-cce3f6ccfdf8",
   "metadata": {
    "tags": []
   },
   "outputs": [
    {
     "data": {
      "image/png": "[encoded data removed]",
      "text/plain": [
       "<Figure size 640x480 with 1 Axes>"
      ]
     },
     "metadata": {},
     "output_type": "display_data"
    }
   ],
   "source": [
    "make_counts = np.empty(0, int)\n",
    "for i in range(10, len(ak_atb['Make'].value_counts()), 10):\n",
    "    make_counts = np.append(make_counts, ak_atb['Make'].value_counts().head(i).sum())\n",
    "\n",
    "make_proportion = make_counts / len(ak_atb['Make'])\n",
    "# ak_atb['Model'].value_counts().head(2).sum()\n",
    "\n",
    "x = range(10, len(ak_atb['Make'].value_counts()), 10)\n",
    "y = make_proportion\n",
    "plt.plot(x, y)\n",
    "plt.fill_between(x,y, alpha = 0.2)\n",
    "plt.title('Proportion of Most Commonly Occurring Makes')\n",
    "plt.xlabel('Top X Makes')\n",
    "plt.ylabel('Proportion of Accidents')\n",
    "plt.grid(True)"
   ]
  },
  {
   "cell_type": "code",
   "execution_count": 672,
   "id": "4dce9f03-625f-4b20-80da-684768dec342",
   "metadata": {
    "tags": []
   },
   "outputs": [
    {
     "data": {
      "text/plain": [
       "4"
      ]
     },
     "execution_count": 672,
     "metadata": {},
     "output_type": "execute_result"
    }
   ],
   "source": [
    "ak_atb['Make'].value_counts()[40]"
   ]
  },
  {
   "cell_type": "code",
   "execution_count": 673,
   "id": "0bd872e3-573f-47ca-96e3-f5cf229f1596",
   "metadata": {
    "tags": []
   },
   "outputs": [],
   "source": [
    "ak_atb['Make'] = [x.upper() if is_top_make(x,40) else 'OTHER' for x in ak_atb['Make']]\n"
   ]
  },
  {
   "cell_type": "code",
   "execution_count": 674,
   "id": "3fd547a1-daf3-49c7-917b-af25fc7f6039",
   "metadata": {
    "tags": []
   },
   "outputs": [
    {
     "data": {
      "text/html": [
       "<div>\n",
       "<style scoped>\n",
       "    .dataframe tbody tr th:only-of-type {\n",
       "        vertical-align: middle;\n",
       "    }\n",
       "\n",
       "    .dataframe tbody tr th {\n",
       "        vertical-align: top;\n",
       "    }\n",
       "\n",
       "    .dataframe thead th {\n",
       "        text-align: right;\n",
       "    }\n",
       "</style>\n",
       "<table border=\"1\" class=\"dataframe\">\n",
       "  <thead>\n",
       "    <tr style=\"text-align: right;\">\n",
       "      <th></th>\n",
       "      <th>ProbableCause</th>\n",
       "      <th>Latitude</th>\n",
       "      <th>Longitude</th>\n",
       "      <th>Make</th>\n",
       "      <th>Model</th>\n",
       "      <th>AmateurBuilt</th>\n",
       "      <th>PurposeOfFlight</th>\n",
       "      <th>WeatherCondition</th>\n",
       "      <th>EventMonth</th>\n",
       "      <th>InjuryBool</th>\n",
       "      <th>OccurredNearAirport</th>\n",
       "      <th>EventHour</th>\n",
       "    </tr>\n",
       "  </thead>\n",
       "  <tbody>\n",
       "    <tr>\n",
       "      <th>0</th>\n",
       "      <td>Unknown</td>\n",
       "      <td>61.775160</td>\n",
       "      <td>-152.15263</td>\n",
       "      <td>CESSNA</td>\n",
       "      <td>OTHER</td>\n",
       "      <td>0</td>\n",
       "      <td>PERS</td>\n",
       "      <td>Unknown</td>\n",
       "      <td>9</td>\n",
       "      <td>0</td>\n",
       "      <td>1</td>\n",
       "      <td>8</td>\n",
       "    </tr>\n",
       "    <tr>\n",
       "      <th>1</th>\n",
       "      <td>Unknown</td>\n",
       "      <td>60.805019</td>\n",
       "      <td>-161.78648</td>\n",
       "      <td>PIPER</td>\n",
       "      <td>PA-18-150</td>\n",
       "      <td>0</td>\n",
       "      <td>PERS</td>\n",
       "      <td>Unknown</td>\n",
       "      <td>9</td>\n",
       "      <td>0</td>\n",
       "      <td>0</td>\n",
       "      <td>12</td>\n",
       "    </tr>\n",
       "    <tr>\n",
       "      <th>2</th>\n",
       "      <td>Unknown</td>\n",
       "      <td>59.646929</td>\n",
       "      <td>-151.49323</td>\n",
       "      <td>CESSNA</td>\n",
       "      <td>A185F</td>\n",
       "      <td>0</td>\n",
       "      <td>BUS</td>\n",
       "      <td>VMC</td>\n",
       "      <td>9</td>\n",
       "      <td>0</td>\n",
       "      <td>1</td>\n",
       "      <td>13</td>\n",
       "    </tr>\n",
       "    <tr>\n",
       "      <th>3</th>\n",
       "      <td>Unknown</td>\n",
       "      <td>64.267579</td>\n",
       "      <td>-147.68704</td>\n",
       "      <td>HELIO</td>\n",
       "      <td>H-295</td>\n",
       "      <td>0</td>\n",
       "      <td>BUS</td>\n",
       "      <td>Unknown</td>\n",
       "      <td>9</td>\n",
       "      <td>0</td>\n",
       "      <td>0</td>\n",
       "      <td>16</td>\n",
       "    </tr>\n",
       "    <tr>\n",
       "      <th>4</th>\n",
       "      <td>Unknown</td>\n",
       "      <td>64.650753</td>\n",
       "      <td>-149.83639</td>\n",
       "      <td>OTHER</td>\n",
       "      <td>OTHER</td>\n",
       "      <td>1</td>\n",
       "      <td>PERS</td>\n",
       "      <td>VMC</td>\n",
       "      <td>9</td>\n",
       "      <td>0</td>\n",
       "      <td>0</td>\n",
       "      <td>15</td>\n",
       "    </tr>\n",
       "  </tbody>\n",
       "</table>\n",
       "</div>"
      ],
      "text/plain": [
       "  ProbableCause   Latitude  Longitude    Make      Model  AmateurBuilt  \\\n",
       "0       Unknown  61.775160 -152.15263  CESSNA      OTHER             0   \n",
       "1       Unknown  60.805019 -161.78648   PIPER  PA-18-150             0   \n",
       "2       Unknown  59.646929 -151.49323  CESSNA      A185F             0   \n",
       "3       Unknown  64.267579 -147.68704   HELIO      H-295             0   \n",
       "4       Unknown  64.650753 -149.83639   OTHER      OTHER             1   \n",
       "\n",
       "  PurposeOfFlight WeatherCondition  EventMonth  InjuryBool  \\\n",
       "0            PERS          Unknown           9           0   \n",
       "1            PERS          Unknown           9           0   \n",
       "2             BUS              VMC           9           0   \n",
       "3             BUS          Unknown           9           0   \n",
       "4            PERS              VMC           9           0   \n",
       "\n",
       "   OccurredNearAirport  EventHour  \n",
       "0                    1          8  \n",
       "1                    0         12  \n",
       "2                    1         13  \n",
       "3                    0         16  \n",
       "4                    0         15  "
      ]
     },
     "execution_count": 674,
     "metadata": {},
     "output_type": "execute_result"
    }
   ],
   "source": [
    "\n",
    "ak_atb.head()"
   ]
  },
  {
   "cell_type": "code",
   "execution_count": 675,
   "id": "3b13939a-8958-45e2-9737-aa86d632a844",
   "metadata": {
    "tags": []
   },
   "outputs": [],
   "source": [
    "ak_atb.drop('ProbableCause', axis = 1, inplace = True)"
   ]
  },
  {
   "cell_type": "code",
   "execution_count": null,
   "id": "8a88cb95-95f9-49d3-b346-786587f4d183",
   "metadata": {
    "tags": []
   },
   "outputs": [],
   "source": []
  },
  {
   "cell_type": "code",
   "execution_count": 676,
   "id": "73001c42-8774-4266-a389-381e13ee113e",
   "metadata": {
    "tags": []
   },
   "outputs": [],
   "source": [
    "ak_atb['PurposeOfFlight'] = ak_atb['PurposeOfFlight'].apply(lambda x: comma_killer(x))"
   ]
  },
  {
   "cell_type": "code",
   "execution_count": 677,
   "id": "ca144812-ae69-4eb5-8dad-341ced6bfad8",
   "metadata": {
    "tags": []
   },
   "outputs": [],
   "source": [
    "ak_atb.to_csv('../datasets/mike_atb.csv', index = False)"
   ]
  },
  {
   "cell_type": "code",
   "execution_count": null,
   "id": "942aeec8-f23d-499f-9b32-786fb47d4a11",
   "metadata": {},
   "outputs": [],
   "source": []
  }
 ],
 "metadata": {
  "kernelspec": {
   "display_name": "Python 3 (ipykernel)",
   "language": "python",
   "name": "python3"
  },
  "language_info": {
   "codemirror_mode": {
    "name": "ipython",
    "version": 3
   },
   "file_extension": ".py",
   "mimetype": "text/x-python",
   "name": "python",
   "nbconvert_exporter": "python",
   "pygments_lexer": "ipython3",
   "version": "3.11.4"
  }
 },
 "nbformat": 4,
 "nbformat_minor": 5
}
