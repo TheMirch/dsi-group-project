{
 "cells": [
  {
   "cell_type": "markdown",
   "id": "5cb523d1-60c4-4f83-8fc9-b53eecc7315b",
   "metadata": {
    "tags": []
   },
   "source": [
    "# Logistic Regression: city - has_fatal_injury"
   ]
  },
  {
   "cell_type": "code",
   "execution_count": 1,
   "id": "d7f6944f-33a9-4a6c-823d-0bd9e0ca1caa",
   "metadata": {
    "tags": []
   },
   "outputs": [],
   "source": [
    "import pandas as pd\n",
    "import numpy as np\n",
    "from sklearn.model_selection import train_test_split, GridSearchCV\n",
    "from sklearn.pipeline import Pipeline\n",
    "from sklearn.preprocessing import StandardScaler\n",
    "from sklearn.linear_model import LogisticRegression\n",
    "from sklearn.metrics import classification_report, confusion_matrix\n",
    "import pickle\n",
    "\n",
    "\n",
    "pd.set_option('display.max_rows', None)\n",
    "# pd.set_option('display.max_columns', None)\n",
    "# pd.reset_option('display.max_rows')\n",
    "# pd.reset_option('display.max_columns')"
   ]
  },
  {
   "cell_type": "code",
   "execution_count": 2,
   "id": "fecbba99-2624-4c11-b8f1-0097efd8f0e0",
   "metadata": {
    "tags": []
   },
   "outputs": [],
   "source": [
    "ak = pd.read_csv('../../datasets/alaska_single_engine_clean.csv', low_memory=False)"
   ]
  },
  {
   "cell_type": "code",
   "execution_count": 3,
   "id": "94043aef-84b2-4218-9fe2-812a1c505a8e",
   "metadata": {
    "tags": []
   },
   "outputs": [
    {
     "data": {
      "text/plain": [
       "(5590, 39)"
      ]
     },
     "execution_count": 3,
     "metadata": {},
     "output_type": "execute_result"
    }
   ],
   "source": [
    "ak.shape"
   ]
  },
  {
   "cell_type": "code",
   "execution_count": 4,
   "id": "41181bb8-055a-461a-b3f1-747bd4eb9c1f",
   "metadata": {
    "tags": []
   },
   "outputs": [],
   "source": [
    "predictor = 'city'"
   ]
  },
  {
   "cell_type": "code",
   "execution_count": 5,
   "id": "17c15b2c-8fbe-485c-bdcb-761231390686",
   "metadata": {
    "tags": []
   },
   "outputs": [],
   "source": [
    "target = 'has_fatal_injury'"
   ]
  },
  {
   "cell_type": "code",
   "execution_count": 6,
   "id": "509b2ed2-abca-4018-b1d6-789f4ed00ed3",
   "metadata": {
    "tags": []
   },
   "outputs": [],
   "source": [
    "ak = ak[[predictor, target]]"
   ]
  },
  {
   "cell_type": "code",
   "execution_count": 7,
   "id": "cd3935ad-ea50-4987-92b4-44ca576c6ec8",
   "metadata": {
    "tags": []
   },
   "outputs": [
    {
     "data": {
      "text/plain": [
       "Index(['city', 'has_fatal_injury'], dtype='object')"
      ]
     },
     "execution_count": 7,
     "metadata": {},
     "output_type": "execute_result"
    }
   ],
   "source": [
    "ak.columns"
   ]
  },
  {
   "cell_type": "markdown",
   "id": "05cddad5-0cb3-4a4f-b807-e7621a7d268e",
   "metadata": {
    "tags": []
   },
   "source": [
    "## Dummify Columns"
   ]
  },
  {
   "cell_type": "code",
   "execution_count": 8,
   "id": "c547a070-4a54-436d-8c08-1e7a10651676",
   "metadata": {
    "tags": []
   },
   "outputs": [],
   "source": [
    "def dummies(df, col_inference, category_to_drop):\n",
    "    categorical_columns = df.select_dtypes(include=['object', 'category']).columns.tolist()\n",
    "    columns_to_dummify_drop_first = [col for col in categorical_columns if col != col_inference]\n",
    "    \n",
    "    df_dummies = pd.get_dummies(df, columns=columns_to_dummify_drop_first, drop_first=True)\n",
    "    \n",
    "    df_dummies = pd.get_dummies(df_dummies, columns=[col_inference], drop_first=False)\n",
    "    \n",
    "    dummy_to_drop = f\"{col_inference}_{category_to_drop}\"\n",
    "    if dummy_to_drop in df_dummies.columns:\n",
    "        df_dummies.drop(columns=[dummy_to_drop], inplace=True)\n",
    "    \n",
    "    return df_dummies"
   ]
  },
  {
   "cell_type": "code",
   "execution_count": 9,
   "id": "3a8765a2-6e69-4e37-8f73-95d6810a6349",
   "metadata": {
    "tags": []
   },
   "outputs": [],
   "source": [
    "ak_dummies_weather = dummies(ak, predictor, 'ANCHORAGE')"
   ]
  },
  {
   "cell_type": "code",
   "execution_count": 10,
   "id": "8502ebd4-73de-4825-b3ea-908225453ef9",
   "metadata": {
    "tags": []
   },
   "outputs": [
    {
     "data": {
      "text/plain": [
       "Index(['has_fatal_injury', 'city_(N) SKWENTNA', 'city_100MI S.KNG SLM',\n",
       "       'city_11NM EAST OF SI', 'city_18NM ESE KETCHI', 'city_20 ESE NORTH PO',\n",
       "       'city_27 E SAGWON', 'city_35 W. OF KETCHI', 'city_38 SE BARROW',\n",
       "       'city_40 SE BETTLES',\n",
       "       ...\n",
       "       'city_YAKUTAT', 'city_YANTARNI BAY', 'city_YELLOW JACKET',\n",
       "       'city_YENTA GLACIER', 'city_YENTNA', 'city_YENTNA RIVER',\n",
       "       'city_YUKI RIVER', 'city_YUKON CHARLIE RIVER', 'city_YUKON RIVER',\n",
       "       'city_ZACHER BAY'],\n",
       "      dtype='object', length=878)"
      ]
     },
     "execution_count": 10,
     "metadata": {},
     "output_type": "execute_result"
    }
   ],
   "source": [
    "ak_dummies_weather.columns"
   ]
  },
  {
   "cell_type": "code",
   "execution_count": 11,
   "id": "1628c186-c921-4812-9a58-358c9b76ea18",
   "metadata": {
    "tags": []
   },
   "outputs": [
    {
     "data": {
      "text/html": [
       "<div>\n",
       "<style scoped>\n",
       "    .dataframe tbody tr th:only-of-type {\n",
       "        vertical-align: middle;\n",
       "    }\n",
       "\n",
       "    .dataframe tbody tr th {\n",
       "        vertical-align: top;\n",
       "    }\n",
       "\n",
       "    .dataframe thead th {\n",
       "        text-align: right;\n",
       "    }\n",
       "</style>\n",
       "<table border=\"1\" class=\"dataframe\">\n",
       "  <thead>\n",
       "    <tr style=\"text-align: right;\">\n",
       "      <th></th>\n",
       "      <th>has_fatal_injury</th>\n",
       "      <th>city_(N) SKWENTNA</th>\n",
       "      <th>city_100MI S.KNG SLM</th>\n",
       "      <th>city_11NM EAST OF SI</th>\n",
       "      <th>city_18NM ESE KETCHI</th>\n",
       "      <th>city_20 ESE NORTH PO</th>\n",
       "      <th>city_27 E SAGWON</th>\n",
       "      <th>city_35 W. OF KETCHI</th>\n",
       "      <th>city_38 SE BARROW</th>\n",
       "      <th>city_40 SE BETTLES</th>\n",
       "      <th>...</th>\n",
       "      <th>city_YAKUTAT</th>\n",
       "      <th>city_YANTARNI BAY</th>\n",
       "      <th>city_YELLOW JACKET</th>\n",
       "      <th>city_YENTA GLACIER</th>\n",
       "      <th>city_YENTNA</th>\n",
       "      <th>city_YENTNA RIVER</th>\n",
       "      <th>city_YUKI RIVER</th>\n",
       "      <th>city_YUKON CHARLIE RIVER</th>\n",
       "      <th>city_YUKON RIVER</th>\n",
       "      <th>city_ZACHER BAY</th>\n",
       "    </tr>\n",
       "  </thead>\n",
       "  <tbody>\n",
       "    <tr>\n",
       "      <th>0</th>\n",
       "      <td>0</td>\n",
       "      <td>False</td>\n",
       "      <td>False</td>\n",
       "      <td>False</td>\n",
       "      <td>False</td>\n",
       "      <td>False</td>\n",
       "      <td>False</td>\n",
       "      <td>False</td>\n",
       "      <td>False</td>\n",
       "      <td>False</td>\n",
       "      <td>...</td>\n",
       "      <td>False</td>\n",
       "      <td>False</td>\n",
       "      <td>False</td>\n",
       "      <td>False</td>\n",
       "      <td>False</td>\n",
       "      <td>False</td>\n",
       "      <td>False</td>\n",
       "      <td>False</td>\n",
       "      <td>False</td>\n",
       "      <td>False</td>\n",
       "    </tr>\n",
       "    <tr>\n",
       "      <th>1</th>\n",
       "      <td>0</td>\n",
       "      <td>False</td>\n",
       "      <td>False</td>\n",
       "      <td>False</td>\n",
       "      <td>False</td>\n",
       "      <td>False</td>\n",
       "      <td>False</td>\n",
       "      <td>False</td>\n",
       "      <td>False</td>\n",
       "      <td>False</td>\n",
       "      <td>...</td>\n",
       "      <td>False</td>\n",
       "      <td>False</td>\n",
       "      <td>False</td>\n",
       "      <td>False</td>\n",
       "      <td>False</td>\n",
       "      <td>False</td>\n",
       "      <td>False</td>\n",
       "      <td>False</td>\n",
       "      <td>False</td>\n",
       "      <td>False</td>\n",
       "    </tr>\n",
       "    <tr>\n",
       "      <th>2</th>\n",
       "      <td>0</td>\n",
       "      <td>False</td>\n",
       "      <td>False</td>\n",
       "      <td>False</td>\n",
       "      <td>False</td>\n",
       "      <td>False</td>\n",
       "      <td>False</td>\n",
       "      <td>False</td>\n",
       "      <td>False</td>\n",
       "      <td>False</td>\n",
       "      <td>...</td>\n",
       "      <td>False</td>\n",
       "      <td>False</td>\n",
       "      <td>False</td>\n",
       "      <td>False</td>\n",
       "      <td>False</td>\n",
       "      <td>False</td>\n",
       "      <td>False</td>\n",
       "      <td>False</td>\n",
       "      <td>False</td>\n",
       "      <td>False</td>\n",
       "    </tr>\n",
       "    <tr>\n",
       "      <th>3</th>\n",
       "      <td>0</td>\n",
       "      <td>False</td>\n",
       "      <td>False</td>\n",
       "      <td>False</td>\n",
       "      <td>False</td>\n",
       "      <td>False</td>\n",
       "      <td>False</td>\n",
       "      <td>False</td>\n",
       "      <td>False</td>\n",
       "      <td>False</td>\n",
       "      <td>...</td>\n",
       "      <td>False</td>\n",
       "      <td>False</td>\n",
       "      <td>False</td>\n",
       "      <td>False</td>\n",
       "      <td>False</td>\n",
       "      <td>False</td>\n",
       "      <td>False</td>\n",
       "      <td>False</td>\n",
       "      <td>False</td>\n",
       "      <td>False</td>\n",
       "    </tr>\n",
       "    <tr>\n",
       "      <th>4</th>\n",
       "      <td>0</td>\n",
       "      <td>False</td>\n",
       "      <td>False</td>\n",
       "      <td>False</td>\n",
       "      <td>False</td>\n",
       "      <td>False</td>\n",
       "      <td>False</td>\n",
       "      <td>False</td>\n",
       "      <td>False</td>\n",
       "      <td>False</td>\n",
       "      <td>...</td>\n",
       "      <td>False</td>\n",
       "      <td>False</td>\n",
       "      <td>False</td>\n",
       "      <td>False</td>\n",
       "      <td>False</td>\n",
       "      <td>False</td>\n",
       "      <td>False</td>\n",
       "      <td>False</td>\n",
       "      <td>False</td>\n",
       "      <td>False</td>\n",
       "    </tr>\n",
       "  </tbody>\n",
       "</table>\n",
       "<p>5 rows × 878 columns</p>\n",
       "</div>"
      ],
      "text/plain": [
       "   has_fatal_injury  city_(N) SKWENTNA  city_100MI S.KNG SLM  \\\n",
       "0                 0              False                 False   \n",
       "1                 0              False                 False   \n",
       "2                 0              False                 False   \n",
       "3                 0              False                 False   \n",
       "4                 0              False                 False   \n",
       "\n",
       "   city_11NM EAST OF SI  city_18NM ESE KETCHI  city_20 ESE NORTH PO  \\\n",
       "0                 False                 False                 False   \n",
       "1                 False                 False                 False   \n",
       "2                 False                 False                 False   \n",
       "3                 False                 False                 False   \n",
       "4                 False                 False                 False   \n",
       "\n",
       "   city_27 E SAGWON  city_35 W. OF KETCHI  city_38 SE BARROW  \\\n",
       "0             False                 False              False   \n",
       "1             False                 False              False   \n",
       "2             False                 False              False   \n",
       "3             False                 False              False   \n",
       "4             False                 False              False   \n",
       "\n",
       "   city_40 SE BETTLES  ...  city_YAKUTAT  city_YANTARNI BAY  \\\n",
       "0               False  ...         False              False   \n",
       "1               False  ...         False              False   \n",
       "2               False  ...         False              False   \n",
       "3               False  ...         False              False   \n",
       "4               False  ...         False              False   \n",
       "\n",
       "   city_YELLOW JACKET  city_YENTA GLACIER  city_YENTNA  city_YENTNA RIVER  \\\n",
       "0               False               False        False              False   \n",
       "1               False               False        False              False   \n",
       "2               False               False        False              False   \n",
       "3               False               False        False              False   \n",
       "4               False               False        False              False   \n",
       "\n",
       "   city_YUKI RIVER  city_YUKON CHARLIE RIVER  city_YUKON RIVER  \\\n",
       "0            False                     False             False   \n",
       "1            False                     False             False   \n",
       "2            False                     False             False   \n",
       "3            False                     False             False   \n",
       "4            False                     False             False   \n",
       "\n",
       "   city_ZACHER BAY  \n",
       "0            False  \n",
       "1            False  \n",
       "2            False  \n",
       "3            False  \n",
       "4            False  \n",
       "\n",
       "[5 rows x 878 columns]"
      ]
     },
     "execution_count": 11,
     "metadata": {},
     "output_type": "execute_result"
    }
   ],
   "source": [
    "ak_dummies_weather.head()"
   ]
  },
  {
   "cell_type": "markdown",
   "id": "52e2fe1f-be42-4e19-8a4f-8a4c1db0fca6",
   "metadata": {},
   "source": [
    "## Train, Test, Split"
   ]
  },
  {
   "cell_type": "code",
   "execution_count": 12,
   "id": "130c9f36-5770-4745-a6f2-dea95704a934",
   "metadata": {
    "tags": []
   },
   "outputs": [],
   "source": [
    "X = ak_dummies_weather.drop(columns = target)\n",
    "y = ak_dummies_weather[target]"
   ]
  },
  {
   "cell_type": "code",
   "execution_count": 13,
   "id": "86d9e924-8a1f-4e15-80a3-707b18dcf4df",
   "metadata": {
    "tags": []
   },
   "outputs": [],
   "source": [
    "X_train, X_test, y_train, y_test = train_test_split(X, y, test_size=0.1, random_state=21)"
   ]
  },
  {
   "cell_type": "markdown",
   "id": "36aa5887-7f44-48f8-afcf-5ff0a4561068",
   "metadata": {
    "tags": []
   },
   "source": [
    "## Baseline"
   ]
  },
  {
   "cell_type": "code",
   "execution_count": 14,
   "id": "488fe461-700d-449e-9d46-31ef44ec4f35",
   "metadata": {
    "tags": []
   },
   "outputs": [
    {
     "data": {
      "text/plain": [
       "0.8967799642218247"
      ]
     },
     "execution_count": 14,
     "metadata": {},
     "output_type": "execute_result"
    }
   ],
   "source": [
    "1 - y.mean()"
   ]
  },
  {
   "cell_type": "markdown",
   "id": "87a2e02f-ea76-48ca-8222-88e2d3a4c4a2",
   "metadata": {
    "tags": []
   },
   "source": [
    "## Benchmark Logistic Regression Model"
   ]
  },
  {
   "cell_type": "code",
   "execution_count": 15,
   "id": "5fda8c43-bf1d-491f-96c6-35c539d898b9",
   "metadata": {
    "tags": []
   },
   "outputs": [],
   "source": [
    "pipe_log_reg_bench = Pipeline([\n",
    "    ('sc', StandardScaler()),\n",
    "    ('log_reg_bench', LogisticRegression(max_iter=1000))\n",
    "])"
   ]
  },
  {
   "cell_type": "code",
   "execution_count": 16,
   "id": "32553da1-767f-4d94-ad10-0f656543fa07",
   "metadata": {
    "tags": []
   },
   "outputs": [
    {
     "data": {
      "text/html": [
       "<style>#sk-container-id-1 {color: black;}#sk-container-id-1 pre{padding: 0;}#sk-container-id-1 div.sk-toggleable {background-color: white;}#sk-container-id-1 label.sk-toggleable__label {cursor: pointer;display: block;width: 100%;margin-bottom: 0;padding: 0.3em;box-sizing: border-box;text-align: center;}#sk-container-id-1 label.sk-toggleable__label-arrow:before {content: \"▸\";float: left;margin-right: 0.25em;color: #696969;}#sk-container-id-1 label.sk-toggleable__label-arrow:hover:before {color: black;}#sk-container-id-1 div.sk-estimator:hover label.sk-toggleable__label-arrow:before {color: black;}#sk-container-id-1 div.sk-toggleable__content {max-height: 0;max-width: 0;overflow: hidden;text-align: left;background-color: #f0f8ff;}#sk-container-id-1 div.sk-toggleable__content pre {margin: 0.2em;color: black;border-radius: 0.25em;background-color: #f0f8ff;}#sk-container-id-1 input.sk-toggleable__control:checked~div.sk-toggleable__content {max-height: 200px;max-width: 100%;overflow: auto;}#sk-container-id-1 input.sk-toggleable__control:checked~label.sk-toggleable__label-arrow:before {content: \"▾\";}#sk-container-id-1 div.sk-estimator input.sk-toggleable__control:checked~label.sk-toggleable__label {background-color: #d4ebff;}#sk-container-id-1 div.sk-label input.sk-toggleable__control:checked~label.sk-toggleable__label {background-color: #d4ebff;}#sk-container-id-1 input.sk-hidden--visually {border: 0;clip: rect(1px 1px 1px 1px);clip: rect(1px, 1px, 1px, 1px);height: 1px;margin: -1px;overflow: hidden;padding: 0;position: absolute;width: 1px;}#sk-container-id-1 div.sk-estimator {font-family: monospace;background-color: #f0f8ff;border: 1px dotted black;border-radius: 0.25em;box-sizing: border-box;margin-bottom: 0.5em;}#sk-container-id-1 div.sk-estimator:hover {background-color: #d4ebff;}#sk-container-id-1 div.sk-parallel-item::after {content: \"\";width: 100%;border-bottom: 1px solid gray;flex-grow: 1;}#sk-container-id-1 div.sk-label:hover label.sk-toggleable__label {background-color: #d4ebff;}#sk-container-id-1 div.sk-serial::before {content: \"\";position: absolute;border-left: 1px solid gray;box-sizing: border-box;top: 0;bottom: 0;left: 50%;z-index: 0;}#sk-container-id-1 div.sk-serial {display: flex;flex-direction: column;align-items: center;background-color: white;padding-right: 0.2em;padding-left: 0.2em;position: relative;}#sk-container-id-1 div.sk-item {position: relative;z-index: 1;}#sk-container-id-1 div.sk-parallel {display: flex;align-items: stretch;justify-content: center;background-color: white;position: relative;}#sk-container-id-1 div.sk-item::before, #sk-container-id-1 div.sk-parallel-item::before {content: \"\";position: absolute;border-left: 1px solid gray;box-sizing: border-box;top: 0;bottom: 0;left: 50%;z-index: -1;}#sk-container-id-1 div.sk-parallel-item {display: flex;flex-direction: column;z-index: 1;position: relative;background-color: white;}#sk-container-id-1 div.sk-parallel-item:first-child::after {align-self: flex-end;width: 50%;}#sk-container-id-1 div.sk-parallel-item:last-child::after {align-self: flex-start;width: 50%;}#sk-container-id-1 div.sk-parallel-item:only-child::after {width: 0;}#sk-container-id-1 div.sk-dashed-wrapped {border: 1px dashed gray;margin: 0 0.4em 0.5em 0.4em;box-sizing: border-box;padding-bottom: 0.4em;background-color: white;}#sk-container-id-1 div.sk-label label {font-family: monospace;font-weight: bold;display: inline-block;line-height: 1.2em;}#sk-container-id-1 div.sk-label-container {text-align: center;}#sk-container-id-1 div.sk-container {/* jupyter's `normalize.less` sets `[hidden] { display: none; }` but bootstrap.min.css set `[hidden] { display: none !important; }` so we also need the `!important` here to be able to override the default hidden behavior on the sphinx rendered scikit-learn.org. See: https://github.com/scikit-learn/scikit-learn/issues/21755 */display: inline-block !important;position: relative;}#sk-container-id-1 div.sk-text-repr-fallback {display: none;}</style><div id=\"sk-container-id-1\" class=\"sk-top-container\"><div class=\"sk-text-repr-fallback\"><pre>Pipeline(steps=[(&#x27;sc&#x27;, StandardScaler()),\n",
       "                (&#x27;log_reg_bench&#x27;, LogisticRegression(max_iter=1000))])</pre><b>In a Jupyter environment, please rerun this cell to show the HTML representation or trust the notebook. <br />On GitHub, the HTML representation is unable to render, please try loading this page with nbviewer.org.</b></div><div class=\"sk-container\" hidden><div class=\"sk-item sk-dashed-wrapped\"><div class=\"sk-label-container\"><div class=\"sk-label sk-toggleable\"><input class=\"sk-toggleable__control sk-hidden--visually\" id=\"sk-estimator-id-1\" type=\"checkbox\" ><label for=\"sk-estimator-id-1\" class=\"sk-toggleable__label sk-toggleable__label-arrow\">Pipeline</label><div class=\"sk-toggleable__content\"><pre>Pipeline(steps=[(&#x27;sc&#x27;, StandardScaler()),\n",
       "                (&#x27;log_reg_bench&#x27;, LogisticRegression(max_iter=1000))])</pre></div></div></div><div class=\"sk-serial\"><div class=\"sk-item\"><div class=\"sk-estimator sk-toggleable\"><input class=\"sk-toggleable__control sk-hidden--visually\" id=\"sk-estimator-id-2\" type=\"checkbox\" ><label for=\"sk-estimator-id-2\" class=\"sk-toggleable__label sk-toggleable__label-arrow\">StandardScaler</label><div class=\"sk-toggleable__content\"><pre>StandardScaler()</pre></div></div></div><div class=\"sk-item\"><div class=\"sk-estimator sk-toggleable\"><input class=\"sk-toggleable__control sk-hidden--visually\" id=\"sk-estimator-id-3\" type=\"checkbox\" ><label for=\"sk-estimator-id-3\" class=\"sk-toggleable__label sk-toggleable__label-arrow\">LogisticRegression</label><div class=\"sk-toggleable__content\"><pre>LogisticRegression(max_iter=1000)</pre></div></div></div></div></div></div></div>"
      ],
      "text/plain": [
       "Pipeline(steps=[('sc', StandardScaler()),\n",
       "                ('log_reg_bench', LogisticRegression(max_iter=1000))])"
      ]
     },
     "execution_count": 16,
     "metadata": {},
     "output_type": "execute_result"
    }
   ],
   "source": [
    "pipe_log_reg_bench.fit(X_train, y_train)"
   ]
  },
  {
   "cell_type": "code",
   "execution_count": 17,
   "id": "2ce24728-828e-48c0-85ee-7bf336d7ab5b",
   "metadata": {
    "tags": []
   },
   "outputs": [
    {
     "data": {
      "text/plain": [
       "0.9087656529516994"
      ]
     },
     "execution_count": 17,
     "metadata": {},
     "output_type": "execute_result"
    }
   ],
   "source": [
    "pipe_log_reg_bench.score(X_train, y_train)"
   ]
  },
  {
   "cell_type": "code",
   "execution_count": 18,
   "id": "e3722c2b-0c79-4075-9676-823a3f3ad052",
   "metadata": {
    "tags": []
   },
   "outputs": [
    {
     "data": {
      "text/plain": [
       "0.8980322003577818"
      ]
     },
     "execution_count": 18,
     "metadata": {},
     "output_type": "execute_result"
    }
   ],
   "source": [
    "pipe_log_reg_bench.score(X_test, y_test)"
   ]
  },
  {
   "cell_type": "markdown",
   "id": "6c987185-bf4e-49ba-ada3-0a320271fe87",
   "metadata": {},
   "source": [
    "## Tuned Logistic Regression Model"
   ]
  },
  {
   "cell_type": "code",
   "execution_count": 19,
   "id": "bd811d1d-386f-4165-b9af-d9e93131c770",
   "metadata": {
    "tags": []
   },
   "outputs": [],
   "source": [
    "pipe_log_reg_tuned = Pipeline([\n",
    "    ('sc', StandardScaler()),\n",
    "    ('log_reg_tuned', LogisticRegression())\n",
    "])"
   ]
  },
  {
   "cell_type": "code",
   "execution_count": 20,
   "id": "7c97746f-4fab-4de7-81a3-19f3ed0636ae",
   "metadata": {
    "tags": []
   },
   "outputs": [
    {
     "data": {
      "text/plain": [
       "{'memory': None,\n",
       " 'steps': [('sc', StandardScaler()), ('log_reg_tuned', LogisticRegression())],\n",
       " 'verbose': False,\n",
       " 'sc': StandardScaler(),\n",
       " 'log_reg_tuned': LogisticRegression(),\n",
       " 'sc__copy': True,\n",
       " 'sc__with_mean': True,\n",
       " 'sc__with_std': True,\n",
       " 'log_reg_tuned__C': 1.0,\n",
       " 'log_reg_tuned__class_weight': None,\n",
       " 'log_reg_tuned__dual': False,\n",
       " 'log_reg_tuned__fit_intercept': True,\n",
       " 'log_reg_tuned__intercept_scaling': 1,\n",
       " 'log_reg_tuned__l1_ratio': None,\n",
       " 'log_reg_tuned__max_iter': 100,\n",
       " 'log_reg_tuned__multi_class': 'auto',\n",
       " 'log_reg_tuned__n_jobs': None,\n",
       " 'log_reg_tuned__penalty': 'l2',\n",
       " 'log_reg_tuned__random_state': None,\n",
       " 'log_reg_tuned__solver': 'lbfgs',\n",
       " 'log_reg_tuned__tol': 0.0001,\n",
       " 'log_reg_tuned__verbose': 0,\n",
       " 'log_reg_tuned__warm_start': False}"
      ]
     },
     "execution_count": 20,
     "metadata": {},
     "output_type": "execute_result"
    }
   ],
   "source": [
    "pipe_log_reg_tuned.get_params()"
   ]
  },
  {
   "cell_type": "code",
   "execution_count": 21,
   "id": "1abc4bf0-243a-4fb4-b0ca-cb305e0e537f",
   "metadata": {
    "tags": []
   },
   "outputs": [],
   "source": [
    "pipe_log_reg_tuned_params = {\n",
    "    'log_reg_tuned__max_iter': [100, 1_000],\n",
    "    'log_reg_tuned__C': np.linspace(0.001, 1, 5),\n",
    "    'log_reg_tuned__penalty': ['l2']\n",
    "}"
   ]
  },
  {
   "cell_type": "code",
   "execution_count": 22,
   "id": "ec0c01c9-d7f8-4c81-b73f-0faf51c12ed4",
   "metadata": {
    "tags": []
   },
   "outputs": [],
   "source": [
    "gs= GridSearchCV(pipe_log_reg_tuned,\n",
    "                                param_grid = pipe_log_reg_tuned_params,\n",
    "                                cv = 5,\n",
    "                               n_jobs=6)"
   ]
  },
  {
   "cell_type": "code",
   "execution_count": 23,
   "id": "31172b90-5df3-466c-bd21-accd31e70e68",
   "metadata": {
    "tags": []
   },
   "outputs": [
    {
     "name": "stdout",
     "output_type": "stream",
     "text": [
      "CPU times: user 582 ms, sys: 247 ms, total: 829 ms\n",
      "Wall time: 8.59 s\n"
     ]
    },
    {
     "data": {
      "text/html": [
       "<style>#sk-container-id-2 {color: black;}#sk-container-id-2 pre{padding: 0;}#sk-container-id-2 div.sk-toggleable {background-color: white;}#sk-container-id-2 label.sk-toggleable__label {cursor: pointer;display: block;width: 100%;margin-bottom: 0;padding: 0.3em;box-sizing: border-box;text-align: center;}#sk-container-id-2 label.sk-toggleable__label-arrow:before {content: \"▸\";float: left;margin-right: 0.25em;color: #696969;}#sk-container-id-2 label.sk-toggleable__label-arrow:hover:before {color: black;}#sk-container-id-2 div.sk-estimator:hover label.sk-toggleable__label-arrow:before {color: black;}#sk-container-id-2 div.sk-toggleable__content {max-height: 0;max-width: 0;overflow: hidden;text-align: left;background-color: #f0f8ff;}#sk-container-id-2 div.sk-toggleable__content pre {margin: 0.2em;color: black;border-radius: 0.25em;background-color: #f0f8ff;}#sk-container-id-2 input.sk-toggleable__control:checked~div.sk-toggleable__content {max-height: 200px;max-width: 100%;overflow: auto;}#sk-container-id-2 input.sk-toggleable__control:checked~label.sk-toggleable__label-arrow:before {content: \"▾\";}#sk-container-id-2 div.sk-estimator input.sk-toggleable__control:checked~label.sk-toggleable__label {background-color: #d4ebff;}#sk-container-id-2 div.sk-label input.sk-toggleable__control:checked~label.sk-toggleable__label {background-color: #d4ebff;}#sk-container-id-2 input.sk-hidden--visually {border: 0;clip: rect(1px 1px 1px 1px);clip: rect(1px, 1px, 1px, 1px);height: 1px;margin: -1px;overflow: hidden;padding: 0;position: absolute;width: 1px;}#sk-container-id-2 div.sk-estimator {font-family: monospace;background-color: #f0f8ff;border: 1px dotted black;border-radius: 0.25em;box-sizing: border-box;margin-bottom: 0.5em;}#sk-container-id-2 div.sk-estimator:hover {background-color: #d4ebff;}#sk-container-id-2 div.sk-parallel-item::after {content: \"\";width: 100%;border-bottom: 1px solid gray;flex-grow: 1;}#sk-container-id-2 div.sk-label:hover label.sk-toggleable__label {background-color: #d4ebff;}#sk-container-id-2 div.sk-serial::before {content: \"\";position: absolute;border-left: 1px solid gray;box-sizing: border-box;top: 0;bottom: 0;left: 50%;z-index: 0;}#sk-container-id-2 div.sk-serial {display: flex;flex-direction: column;align-items: center;background-color: white;padding-right: 0.2em;padding-left: 0.2em;position: relative;}#sk-container-id-2 div.sk-item {position: relative;z-index: 1;}#sk-container-id-2 div.sk-parallel {display: flex;align-items: stretch;justify-content: center;background-color: white;position: relative;}#sk-container-id-2 div.sk-item::before, #sk-container-id-2 div.sk-parallel-item::before {content: \"\";position: absolute;border-left: 1px solid gray;box-sizing: border-box;top: 0;bottom: 0;left: 50%;z-index: -1;}#sk-container-id-2 div.sk-parallel-item {display: flex;flex-direction: column;z-index: 1;position: relative;background-color: white;}#sk-container-id-2 div.sk-parallel-item:first-child::after {align-self: flex-end;width: 50%;}#sk-container-id-2 div.sk-parallel-item:last-child::after {align-self: flex-start;width: 50%;}#sk-container-id-2 div.sk-parallel-item:only-child::after {width: 0;}#sk-container-id-2 div.sk-dashed-wrapped {border: 1px dashed gray;margin: 0 0.4em 0.5em 0.4em;box-sizing: border-box;padding-bottom: 0.4em;background-color: white;}#sk-container-id-2 div.sk-label label {font-family: monospace;font-weight: bold;display: inline-block;line-height: 1.2em;}#sk-container-id-2 div.sk-label-container {text-align: center;}#sk-container-id-2 div.sk-container {/* jupyter's `normalize.less` sets `[hidden] { display: none; }` but bootstrap.min.css set `[hidden] { display: none !important; }` so we also need the `!important` here to be able to override the default hidden behavior on the sphinx rendered scikit-learn.org. See: https://github.com/scikit-learn/scikit-learn/issues/21755 */display: inline-block !important;position: relative;}#sk-container-id-2 div.sk-text-repr-fallback {display: none;}</style><div id=\"sk-container-id-2\" class=\"sk-top-container\"><div class=\"sk-text-repr-fallback\"><pre>GridSearchCV(cv=5,\n",
       "             estimator=Pipeline(steps=[(&#x27;sc&#x27;, StandardScaler()),\n",
       "                                       (&#x27;log_reg_tuned&#x27;,\n",
       "                                        LogisticRegression())]),\n",
       "             n_jobs=6,\n",
       "             param_grid={&#x27;log_reg_tuned__C&#x27;: array([0.001  , 0.25075, 0.5005 , 0.75025, 1.     ]),\n",
       "                         &#x27;log_reg_tuned__max_iter&#x27;: [100, 1000],\n",
       "                         &#x27;log_reg_tuned__penalty&#x27;: [&#x27;l2&#x27;]})</pre><b>In a Jupyter environment, please rerun this cell to show the HTML representation or trust the notebook. <br />On GitHub, the HTML representation is unable to render, please try loading this page with nbviewer.org.</b></div><div class=\"sk-container\" hidden><div class=\"sk-item sk-dashed-wrapped\"><div class=\"sk-label-container\"><div class=\"sk-label sk-toggleable\"><input class=\"sk-toggleable__control sk-hidden--visually\" id=\"sk-estimator-id-4\" type=\"checkbox\" ><label for=\"sk-estimator-id-4\" class=\"sk-toggleable__label sk-toggleable__label-arrow\">GridSearchCV</label><div class=\"sk-toggleable__content\"><pre>GridSearchCV(cv=5,\n",
       "             estimator=Pipeline(steps=[(&#x27;sc&#x27;, StandardScaler()),\n",
       "                                       (&#x27;log_reg_tuned&#x27;,\n",
       "                                        LogisticRegression())]),\n",
       "             n_jobs=6,\n",
       "             param_grid={&#x27;log_reg_tuned__C&#x27;: array([0.001  , 0.25075, 0.5005 , 0.75025, 1.     ]),\n",
       "                         &#x27;log_reg_tuned__max_iter&#x27;: [100, 1000],\n",
       "                         &#x27;log_reg_tuned__penalty&#x27;: [&#x27;l2&#x27;]})</pre></div></div></div><div class=\"sk-parallel\"><div class=\"sk-parallel-item\"><div class=\"sk-item\"><div class=\"sk-label-container\"><div class=\"sk-label sk-toggleable\"><input class=\"sk-toggleable__control sk-hidden--visually\" id=\"sk-estimator-id-5\" type=\"checkbox\" ><label for=\"sk-estimator-id-5\" class=\"sk-toggleable__label sk-toggleable__label-arrow\">estimator: Pipeline</label><div class=\"sk-toggleable__content\"><pre>Pipeline(steps=[(&#x27;sc&#x27;, StandardScaler()),\n",
       "                (&#x27;log_reg_tuned&#x27;, LogisticRegression())])</pre></div></div></div><div class=\"sk-serial\"><div class=\"sk-item\"><div class=\"sk-serial\"><div class=\"sk-item\"><div class=\"sk-estimator sk-toggleable\"><input class=\"sk-toggleable__control sk-hidden--visually\" id=\"sk-estimator-id-6\" type=\"checkbox\" ><label for=\"sk-estimator-id-6\" class=\"sk-toggleable__label sk-toggleable__label-arrow\">StandardScaler</label><div class=\"sk-toggleable__content\"><pre>StandardScaler()</pre></div></div></div><div class=\"sk-item\"><div class=\"sk-estimator sk-toggleable\"><input class=\"sk-toggleable__control sk-hidden--visually\" id=\"sk-estimator-id-7\" type=\"checkbox\" ><label for=\"sk-estimator-id-7\" class=\"sk-toggleable__label sk-toggleable__label-arrow\">LogisticRegression</label><div class=\"sk-toggleable__content\"><pre>LogisticRegression()</pre></div></div></div></div></div></div></div></div></div></div></div></div>"
      ],
      "text/plain": [
       "GridSearchCV(cv=5,\n",
       "             estimator=Pipeline(steps=[('sc', StandardScaler()),\n",
       "                                       ('log_reg_tuned',\n",
       "                                        LogisticRegression())]),\n",
       "             n_jobs=6,\n",
       "             param_grid={'log_reg_tuned__C': array([0.001  , 0.25075, 0.5005 , 0.75025, 1.     ]),\n",
       "                         'log_reg_tuned__max_iter': [100, 1000],\n",
       "                         'log_reg_tuned__penalty': ['l2']})"
      ]
     },
     "execution_count": 23,
     "metadata": {},
     "output_type": "execute_result"
    }
   ],
   "source": [
    "%%time\n",
    "gs.fit(X_train, y_train)"
   ]
  },
  {
   "cell_type": "code",
   "execution_count": 24,
   "id": "25d8df9c-3900-4ffe-8d86-4de74e64b99c",
   "metadata": {
    "tags": []
   },
   "outputs": [
    {
     "data": {
      "text/plain": [
       "{'log_reg_tuned__C': 0.001,\n",
       " 'log_reg_tuned__max_iter': 100,\n",
       " 'log_reg_tuned__penalty': 'l2'}"
      ]
     },
     "execution_count": 24,
     "metadata": {},
     "output_type": "execute_result"
    }
   ],
   "source": [
    "gs.best_params_"
   ]
  },
  {
   "cell_type": "code",
   "execution_count": 25,
   "id": "d8d01c0c-1931-42bb-8c24-427a98ea10ae",
   "metadata": {
    "tags": []
   },
   "outputs": [
    {
     "data": {
      "text/plain": [
       "0.9083681176704432"
      ]
     },
     "execution_count": 25,
     "metadata": {},
     "output_type": "execute_result"
    }
   ],
   "source": [
    "gs.score(X_train, y_train)"
   ]
  },
  {
   "cell_type": "code",
   "execution_count": 26,
   "id": "92715f58-ab27-4e04-bfeb-d514232e5bcc",
   "metadata": {
    "tags": []
   },
   "outputs": [
    {
     "data": {
      "text/plain": [
       "0.8980322003577818"
      ]
     },
     "execution_count": 26,
     "metadata": {},
     "output_type": "execute_result"
    }
   ],
   "source": [
    "gs.score(X_test, y_test)"
   ]
  },
  {
   "cell_type": "code",
   "execution_count": 27,
   "id": "27da8ee5-5c46-4c84-b9bf-a9ea1e0f336c",
   "metadata": {
    "tags": []
   },
   "outputs": [],
   "source": [
    "y_pred = gs.predict(X_test)"
   ]
  },
  {
   "cell_type": "code",
   "execution_count": 28,
   "id": "33413653-df13-4d3b-bedc-2df1ab7fee17",
   "metadata": {
    "tags": []
   },
   "outputs": [
    {
     "data": {
      "text/plain": [
       "array([[501,   3],\n",
       "       [ 54,   1]])"
      ]
     },
     "execution_count": 28,
     "metadata": {},
     "output_type": "execute_result"
    }
   ],
   "source": [
    "confusion_matrix(y_test, y_pred)"
   ]
  },
  {
   "cell_type": "code",
   "execution_count": 29,
   "id": "af217333-184f-481b-b6d0-8c51fd724be6",
   "metadata": {
    "tags": []
   },
   "outputs": [
    {
     "name": "stdout",
     "output_type": "stream",
     "text": [
      "              precision    recall  f1-score   support\n",
      "\n",
      "           0    0.90270   0.99405   0.94618       504\n",
      "           1    0.25000   0.01818   0.03390        55\n",
      "\n",
      "    accuracy                        0.89803       559\n",
      "   macro avg    0.57635   0.50611   0.49004       559\n",
      "weighted avg    0.83848   0.89803   0.85642       559\n",
      "\n"
     ]
    }
   ],
   "source": [
    "print(classification_report(y_test, y_pred, digits = 5))"
   ]
  },
  {
   "cell_type": "markdown",
   "id": "0cb7fc56-776d-4415-b944-5d257a48cb3d",
   "metadata": {
    "tags": []
   },
   "source": [
    "## Coefficients"
   ]
  },
  {
   "cell_type": "code",
   "execution_count": 30,
   "id": "62906406-96ac-483d-9328-f09b81873542",
   "metadata": {
    "tags": []
   },
   "outputs": [],
   "source": [
    "feature_names = list(X_train.columns)"
   ]
  },
  {
   "cell_type": "code",
   "execution_count": 31,
   "id": "9915ba46-049d-4182-a38b-9a48984a276f",
   "metadata": {
    "tags": []
   },
   "outputs": [],
   "source": [
    "coef_log_odds = gs.best_estimator_.named_steps['log_reg_tuned'].coef_[0]"
   ]
  },
  {
   "cell_type": "code",
   "execution_count": 32,
   "id": "bf572e04-97f1-4137-a88e-5fa8a65d82fb",
   "metadata": {
    "tags": []
   },
   "outputs": [],
   "source": [
    "coef_odds = np.exp(gs.best_estimator_.named_steps['log_reg_tuned'].coef_[0])"
   ]
  },
  {
   "cell_type": "code",
   "execution_count": 33,
   "id": "bc2f07d6-9118-4bea-8e45-98aeb3c49eb6",
   "metadata": {
    "tags": []
   },
   "outputs": [],
   "source": [
    "coef_log_odds_df = pd.DataFrame({'feature': feature_names, 'coefficient': coef_log_odds})"
   ]
  },
  {
   "cell_type": "code",
   "execution_count": 34,
   "id": "ee6b4036-da29-4a45-918a-ac9991e95f97",
   "metadata": {},
   "outputs": [],
   "source": [
    "coef_odds_df = pd.DataFrame({'feature': feature_names, 'coefficient': coef_odds})"
   ]
  },
  {
   "cell_type": "code",
   "execution_count": 35,
   "id": "a208d7de-f1f8-425f-ae3d-f35199854d2f",
   "metadata": {},
   "outputs": [
    {
     "data": {
      "text/html": [
       "<div>\n",
       "<style scoped>\n",
       "    .dataframe tbody tr th:only-of-type {\n",
       "        vertical-align: middle;\n",
       "    }\n",
       "\n",
       "    .dataframe tbody tr th {\n",
       "        vertical-align: top;\n",
       "    }\n",
       "\n",
       "    .dataframe thead th {\n",
       "        text-align: right;\n",
       "    }\n",
       "</style>\n",
       "<table border=\"1\" class=\"dataframe\">\n",
       "  <thead>\n",
       "    <tr style=\"text-align: right;\">\n",
       "      <th></th>\n",
       "      <th>feature</th>\n",
       "      <th>coefficient</th>\n",
       "    </tr>\n",
       "  </thead>\n",
       "  <tbody>\n",
       "    <tr>\n",
       "      <th>0</th>\n",
       "      <td>city_(N) SKWENTNA</td>\n",
       "      <td>-0.004915</td>\n",
       "    </tr>\n",
       "    <tr>\n",
       "      <th>1</th>\n",
       "      <td>city_100MI S.KNG SLM</td>\n",
       "      <td>-0.004915</td>\n",
       "    </tr>\n",
       "    <tr>\n",
       "      <th>2</th>\n",
       "      <td>city_11NM EAST OF SI</td>\n",
       "      <td>0.033372</td>\n",
       "    </tr>\n",
       "    <tr>\n",
       "      <th>3</th>\n",
       "      <td>city_18NM ESE KETCHI</td>\n",
       "      <td>-0.004915</td>\n",
       "    </tr>\n",
       "    <tr>\n",
       "      <th>4</th>\n",
       "      <td>city_20 ESE NORTH PO</td>\n",
       "      <td>-0.004915</td>\n",
       "    </tr>\n",
       "  </tbody>\n",
       "</table>\n",
       "</div>"
      ],
      "text/plain": [
       "                feature  coefficient\n",
       "0     city_(N) SKWENTNA    -0.004915\n",
       "1  city_100MI S.KNG SLM    -0.004915\n",
       "2  city_11NM EAST OF SI     0.033372\n",
       "3  city_18NM ESE KETCHI    -0.004915\n",
       "4  city_20 ESE NORTH PO    -0.004915"
      ]
     },
     "execution_count": 35,
     "metadata": {},
     "output_type": "execute_result"
    }
   ],
   "source": [
    "pd.set_option('display.max_rows', None)\n",
    "coef_log_odds_df.head()"
   ]
  },
  {
   "cell_type": "code",
   "execution_count": 36,
   "id": "bbde5e2c-4e21-4bfb-8bcc-9addaf755dad",
   "metadata": {
    "tags": []
   },
   "outputs": [
    {
     "data": {
      "text/html": [
       "<div>\n",
       "<style scoped>\n",
       "    .dataframe tbody tr th:only-of-type {\n",
       "        vertical-align: middle;\n",
       "    }\n",
       "\n",
       "    .dataframe tbody tr th {\n",
       "        vertical-align: top;\n",
       "    }\n",
       "\n",
       "    .dataframe thead th {\n",
       "        text-align: right;\n",
       "    }\n",
       "</style>\n",
       "<table border=\"1\" class=\"dataframe\">\n",
       "  <thead>\n",
       "    <tr style=\"text-align: right;\">\n",
       "      <th></th>\n",
       "      <th>feature</th>\n",
       "      <th>coefficient</th>\n",
       "    </tr>\n",
       "  </thead>\n",
       "  <tbody>\n",
       "    <tr>\n",
       "      <th>385</th>\n",
       "      <td>city_KETCHIKAN</td>\n",
       "      <td>1.084942</td>\n",
       "    </tr>\n",
       "    <tr>\n",
       "      <th>720</th>\n",
       "      <td>city_SITKA</td>\n",
       "      <td>1.072408</td>\n",
       "    </tr>\n",
       "    <tr>\n",
       "      <th>850</th>\n",
       "      <td>city_WHITTIER</td>\n",
       "      <td>1.051815</td>\n",
       "    </tr>\n",
       "    <tr>\n",
       "      <th>461</th>\n",
       "      <td>city_MARSHALL</td>\n",
       "      <td>1.040168</td>\n",
       "    </tr>\n",
       "    <tr>\n",
       "      <th>688</th>\n",
       "      <td>city_SAINT MARYS</td>\n",
       "      <td>1.040168</td>\n",
       "    </tr>\n",
       "    <tr>\n",
       "      <th>722</th>\n",
       "      <td>city_SKAGWAY</td>\n",
       "      <td>1.040102</td>\n",
       "    </tr>\n",
       "    <tr>\n",
       "      <th>345</th>\n",
       "      <td>city_JUNEAU</td>\n",
       "      <td>1.038547</td>\n",
       "    </tr>\n",
       "    <tr>\n",
       "      <th>30</th>\n",
       "      <td>city_ALEKNAGIK</td>\n",
       "      <td>1.037559</td>\n",
       "    </tr>\n",
       "    <tr>\n",
       "      <th>602</th>\n",
       "      <td>city_NUIQSUT</td>\n",
       "      <td>1.037559</td>\n",
       "    </tr>\n",
       "    <tr>\n",
       "      <th>163</th>\n",
       "      <td>city_CHUGIAK</td>\n",
       "      <td>1.035109</td>\n",
       "    </tr>\n",
       "    <tr>\n",
       "      <th>240</th>\n",
       "      <td>city_ENGLISH BAY</td>\n",
       "      <td>1.034569</td>\n",
       "    </tr>\n",
       "    <tr>\n",
       "      <th>724</th>\n",
       "      <td>city_SKWENTA</td>\n",
       "      <td>1.034569</td>\n",
       "    </tr>\n",
       "    <tr>\n",
       "      <th>773</th>\n",
       "      <td>city_TANACROSS</td>\n",
       "      <td>1.033935</td>\n",
       "    </tr>\n",
       "    <tr>\n",
       "      <th>313</th>\n",
       "      <td>city_HINCHINBROOK IS</td>\n",
       "      <td>1.033935</td>\n",
       "    </tr>\n",
       "    <tr>\n",
       "      <th>831</th>\n",
       "      <td>city_UNKNOWN</td>\n",
       "      <td>1.033935</td>\n",
       "    </tr>\n",
       "    <tr>\n",
       "      <th>307</th>\n",
       "      <td>city_HAYES RIVER</td>\n",
       "      <td>1.033935</td>\n",
       "    </tr>\n",
       "    <tr>\n",
       "      <th>323</th>\n",
       "      <td>city_HULAHULA RIVER</td>\n",
       "      <td>1.033935</td>\n",
       "    </tr>\n",
       "    <tr>\n",
       "      <th>284</th>\n",
       "      <td>city_GLENALLEN</td>\n",
       "      <td>1.033935</td>\n",
       "    </tr>\n",
       "    <tr>\n",
       "      <th>570</th>\n",
       "      <td>city_NEAR TANANA</td>\n",
       "      <td>1.033935</td>\n",
       "    </tr>\n",
       "    <tr>\n",
       "      <th>564</th>\n",
       "      <td>city_NEAR SAVOONGA</td>\n",
       "      <td>1.033935</td>\n",
       "    </tr>\n",
       "    <tr>\n",
       "      <th>333</th>\n",
       "      <td>city_ILIAMNA BAY</td>\n",
       "      <td>1.033935</td>\n",
       "    </tr>\n",
       "    <tr>\n",
       "      <th>282</th>\n",
       "      <td>city_GLACIER ISLAND</td>\n",
       "      <td>1.033935</td>\n",
       "    </tr>\n",
       "    <tr>\n",
       "      <th>265</th>\n",
       "      <td>city_FORTRESS CREEK</td>\n",
       "      <td>1.033935</td>\n",
       "    </tr>\n",
       "    <tr>\n",
       "      <th>69</th>\n",
       "      <td>city_BEAVER</td>\n",
       "      <td>1.033935</td>\n",
       "    </tr>\n",
       "    <tr>\n",
       "      <th>229</th>\n",
       "      <td>city_EKLUTNA LAKE</td>\n",
       "      <td>1.033935</td>\n",
       "    </tr>\n",
       "    <tr>\n",
       "      <th>225</th>\n",
       "      <td>city_EGEGIK RIVER</td>\n",
       "      <td>1.033935</td>\n",
       "    </tr>\n",
       "    <tr>\n",
       "      <th>811</th>\n",
       "      <td>city_TURNAGAIN</td>\n",
       "      <td>1.033935</td>\n",
       "    </tr>\n",
       "    <tr>\n",
       "      <th>712</th>\n",
       "      <td>city_SHEMYA</td>\n",
       "      <td>1.033935</td>\n",
       "    </tr>\n",
       "    <tr>\n",
       "      <th>121</th>\n",
       "      <td>city_CATHEDRAL RAPID</td>\n",
       "      <td>1.033935</td>\n",
       "    </tr>\n",
       "    <tr>\n",
       "      <th>757</th>\n",
       "      <td>city_SUCKLING HILLS</td>\n",
       "      <td>1.033935</td>\n",
       "    </tr>\n",
       "    <tr>\n",
       "      <th>751</th>\n",
       "      <td>city_STARFISH</td>\n",
       "      <td>1.033935</td>\n",
       "    </tr>\n",
       "    <tr>\n",
       "      <th>748</th>\n",
       "      <td>city_ST. MARYS</td>\n",
       "      <td>1.033935</td>\n",
       "    </tr>\n",
       "    <tr>\n",
       "      <th>746</th>\n",
       "      <td>city_ST. GEORGE</td>\n",
       "      <td>1.033935</td>\n",
       "    </tr>\n",
       "    <tr>\n",
       "      <th>161</th>\n",
       "      <td>city_CHRISTIAN LAKE</td>\n",
       "      <td>1.033935</td>\n",
       "    </tr>\n",
       "    <tr>\n",
       "      <th>175</th>\n",
       "      <td>city_COAL LAKE</td>\n",
       "      <td>1.033935</td>\n",
       "    </tr>\n",
       "    <tr>\n",
       "      <th>232</th>\n",
       "      <td>city_ELDRED ROCK</td>\n",
       "      <td>1.033935</td>\n",
       "    </tr>\n",
       "    <tr>\n",
       "      <th>185</th>\n",
       "      <td>city_COPPER HARBOR</td>\n",
       "      <td>1.033935</td>\n",
       "    </tr>\n",
       "    <tr>\n",
       "      <th>694</th>\n",
       "      <td>city_SANONA CREEK</td>\n",
       "      <td>1.033935</td>\n",
       "    </tr>\n",
       "    <tr>\n",
       "      <th>197</th>\n",
       "      <td>city_DADINA LAKE</td>\n",
       "      <td>1.033935</td>\n",
       "    </tr>\n",
       "    <tr>\n",
       "      <th>202</th>\n",
       "      <td>city_DELTA</td>\n",
       "      <td>1.033935</td>\n",
       "    </tr>\n",
       "    <tr>\n",
       "      <th>672</th>\n",
       "      <td>city_RAMSEY BAY</td>\n",
       "      <td>1.033935</td>\n",
       "    </tr>\n",
       "    <tr>\n",
       "      <th>558</th>\n",
       "      <td>city_NEAR NOME</td>\n",
       "      <td>1.033935</td>\n",
       "    </tr>\n",
       "    <tr>\n",
       "      <th>559</th>\n",
       "      <td>city_NEAR NONDALTON</td>\n",
       "      <td>1.033935</td>\n",
       "    </tr>\n",
       "    <tr>\n",
       "      <th>578</th>\n",
       "      <td>city_NERA KENAI</td>\n",
       "      <td>1.033935</td>\n",
       "    </tr>\n",
       "    <tr>\n",
       "      <th>502</th>\n",
       "      <td>city_MOOSE CREEK</td>\n",
       "      <td>1.033935</td>\n",
       "    </tr>\n",
       "    <tr>\n",
       "      <th>428</th>\n",
       "      <td>city_LAKE CLARK</td>\n",
       "      <td>1.033935</td>\n",
       "    </tr>\n",
       "    <tr>\n",
       "      <th>554</th>\n",
       "      <td>city_NEAR KLAWOCK</td>\n",
       "      <td>1.033935</td>\n",
       "    </tr>\n",
       "    <tr>\n",
       "      <th>497</th>\n",
       "      <td>city_MISSING ACFT</td>\n",
       "      <td>1.033935</td>\n",
       "    </tr>\n",
       "    <tr>\n",
       "      <th>21</th>\n",
       "      <td>city_AIALAK BAY</td>\n",
       "      <td>1.033935</td>\n",
       "    </tr>\n",
       "    <tr>\n",
       "      <th>496</th>\n",
       "      <td>city_MISSING</td>\n",
       "      <td>1.033935</td>\n",
       "    </tr>\n",
       "    <tr>\n",
       "      <th>862</th>\n",
       "      <td>city_WOODS RIVER</td>\n",
       "      <td>1.033935</td>\n",
       "    </tr>\n",
       "    <tr>\n",
       "      <th>16</th>\n",
       "      <td>city_60 E OF BETHEL</td>\n",
       "      <td>1.033935</td>\n",
       "    </tr>\n",
       "    <tr>\n",
       "      <th>427</th>\n",
       "      <td>city_LAKE BEVERLEY</td>\n",
       "      <td>1.033935</td>\n",
       "    </tr>\n",
       "    <tr>\n",
       "      <th>429</th>\n",
       "      <td>city_LAKE CLARK PASS</td>\n",
       "      <td>1.033935</td>\n",
       "    </tr>\n",
       "    <tr>\n",
       "      <th>517</th>\n",
       "      <td>city_MT. TORBET</td>\n",
       "      <td>1.033935</td>\n",
       "    </tr>\n",
       "    <tr>\n",
       "      <th>435</th>\n",
       "      <td>city_LAKECREEK RIVER</td>\n",
       "      <td>1.033935</td>\n",
       "    </tr>\n",
       "    <tr>\n",
       "      <th>9</th>\n",
       "      <td>city_40 W OF CLEAR</td>\n",
       "      <td>1.033935</td>\n",
       "    </tr>\n",
       "    <tr>\n",
       "      <th>8</th>\n",
       "      <td>city_40 SE BETTLES</td>\n",
       "      <td>1.033935</td>\n",
       "    </tr>\n",
       "    <tr>\n",
       "      <th>442</th>\n",
       "      <td>city_LISCOME BAY</td>\n",
       "      <td>1.033935</td>\n",
       "    </tr>\n",
       "    <tr>\n",
       "      <th>464</th>\n",
       "      <td>city_MAY CREEK</td>\n",
       "      <td>1.033935</td>\n",
       "    </tr>\n",
       "    <tr>\n",
       "      <th>454</th>\n",
       "      <td>city_MANLEY HOT SPNG</td>\n",
       "      <td>1.033935</td>\n",
       "    </tr>\n",
       "    <tr>\n",
       "      <th>2</th>\n",
       "      <td>city_11NM EAST OF SI</td>\n",
       "      <td>1.033935</td>\n",
       "    </tr>\n",
       "    <tr>\n",
       "      <th>386</th>\n",
       "      <td>city_KETCHIKAN INTL.</td>\n",
       "      <td>1.033935</td>\n",
       "    </tr>\n",
       "    <tr>\n",
       "      <th>766</th>\n",
       "      <td>city_SWIKSHAK BAY</td>\n",
       "      <td>1.033935</td>\n",
       "    </tr>\n",
       "    <tr>\n",
       "      <th>37</th>\n",
       "      <td>city_ALMAUTLAK</td>\n",
       "      <td>1.033935</td>\n",
       "    </tr>\n",
       "    <tr>\n",
       "      <th>364</th>\n",
       "      <td>city_KASAAN</td>\n",
       "      <td>1.033935</td>\n",
       "    </tr>\n",
       "    <tr>\n",
       "      <th>359</th>\n",
       "      <td>city_KALTAG</td>\n",
       "      <td>1.033935</td>\n",
       "    </tr>\n",
       "    <tr>\n",
       "      <th>539</th>\n",
       "      <td>city_NEAR CHINITNA B</td>\n",
       "      <td>1.033935</td>\n",
       "    </tr>\n",
       "    <tr>\n",
       "      <th>546</th>\n",
       "      <td>city_NEAR FAIRBANKS</td>\n",
       "      <td>1.033935</td>\n",
       "    </tr>\n",
       "    <tr>\n",
       "      <th>376</th>\n",
       "      <td>city_KATMAI NATIONAL PARK</td>\n",
       "      <td>1.033935</td>\n",
       "    </tr>\n",
       "    <tr>\n",
       "      <th>353</th>\n",
       "      <td>city_KAKHONAK</td>\n",
       "      <td>1.033935</td>\n",
       "    </tr>\n",
       "    <tr>\n",
       "      <th>343</th>\n",
       "      <td>city_JOHNSON GLACIER</td>\n",
       "      <td>1.033935</td>\n",
       "    </tr>\n",
       "    <tr>\n",
       "      <th>41</th>\n",
       "      <td>city_AMITCHIAK LAKE</td>\n",
       "      <td>1.033935</td>\n",
       "    </tr>\n",
       "    <tr>\n",
       "      <th>592</th>\n",
       "      <td>city_NOME</td>\n",
       "      <td>1.033763</td>\n",
       "    </tr>\n",
       "    <tr>\n",
       "      <th>622</th>\n",
       "      <td>city_PELICAN</td>\n",
       "      <td>1.030123</td>\n",
       "    </tr>\n",
       "    <tr>\n",
       "      <th>843</th>\n",
       "      <td>city_WAINWRIGHT</td>\n",
       "      <td>1.030123</td>\n",
       "    </tr>\n",
       "    <tr>\n",
       "      <th>236</th>\n",
       "      <td>city_ELIM</td>\n",
       "      <td>1.030123</td>\n",
       "    </tr>\n",
       "    <tr>\n",
       "      <th>603</th>\n",
       "      <td>city_NULATO</td>\n",
       "      <td>1.030123</td>\n",
       "    </tr>\n",
       "    <tr>\n",
       "      <th>298</th>\n",
       "      <td>city_HAINES</td>\n",
       "      <td>1.030018</td>\n",
       "    </tr>\n",
       "    <tr>\n",
       "      <th>583</th>\n",
       "      <td>city_NIGHTMUTE</td>\n",
       "      <td>1.026412</td>\n",
       "    </tr>\n",
       "    <tr>\n",
       "      <th>49</th>\n",
       "      <td>city_ANGOON</td>\n",
       "      <td>1.026412</td>\n",
       "    </tr>\n",
       "    <tr>\n",
       "      <th>487</th>\n",
       "      <td>city_MERRILL PASS</td>\n",
       "      <td>1.026412</td>\n",
       "    </tr>\n",
       "    <tr>\n",
       "      <th>404</th>\n",
       "      <td>city_KODIAK</td>\n",
       "      <td>1.026315</td>\n",
       "    </tr>\n",
       "    <tr>\n",
       "      <th>625</th>\n",
       "      <td>city_PETERSBURG</td>\n",
       "      <td>1.025102</td>\n",
       "    </tr>\n",
       "    <tr>\n",
       "      <th>863</th>\n",
       "      <td>city_WRANGELL</td>\n",
       "      <td>1.025102</td>\n",
       "    </tr>\n",
       "    <tr>\n",
       "      <th>222</th>\n",
       "      <td>city_EAGLE RIVER</td>\n",
       "      <td>1.025102</td>\n",
       "    </tr>\n",
       "    <tr>\n",
       "      <th>154</th>\n",
       "      <td>city_CHIGNIK LAKE</td>\n",
       "      <td>1.024322</td>\n",
       "    </tr>\n",
       "    <tr>\n",
       "      <th>59</th>\n",
       "      <td>city_ATIGUN PASS</td>\n",
       "      <td>1.024322</td>\n",
       "    </tr>\n",
       "    <tr>\n",
       "      <th>249</th>\n",
       "      <td>city_FALSE PASS</td>\n",
       "      <td>1.024322</td>\n",
       "    </tr>\n",
       "    <tr>\n",
       "      <th>162</th>\n",
       "      <td>city_CHUATHBALUK</td>\n",
       "      <td>1.024322</td>\n",
       "    </tr>\n",
       "    <tr>\n",
       "      <th>321</th>\n",
       "      <td>city_HOUSTON</td>\n",
       "      <td>1.024322</td>\n",
       "    </tr>\n",
       "    <tr>\n",
       "      <th>473</th>\n",
       "      <td>city_MCKINLEY PARK</td>\n",
       "      <td>1.024322</td>\n",
       "    </tr>\n",
       "    <tr>\n",
       "      <th>433</th>\n",
       "      <td>city_LAKE MINCHUMINA</td>\n",
       "      <td>1.024322</td>\n",
       "    </tr>\n",
       "    <tr>\n",
       "      <th>607</th>\n",
       "      <td>city_NYAC</td>\n",
       "      <td>1.024322</td>\n",
       "    </tr>\n",
       "    <tr>\n",
       "      <th>301</th>\n",
       "      <td>city_HAPPY VALLEY</td>\n",
       "      <td>1.024322</td>\n",
       "    </tr>\n",
       "    <tr>\n",
       "      <th>805</th>\n",
       "      <td>city_TRAPPER CREEK</td>\n",
       "      <td>1.024322</td>\n",
       "    </tr>\n",
       "    <tr>\n",
       "      <th>669</th>\n",
       "      <td>city_RAINEY PASS</td>\n",
       "      <td>1.024322</td>\n",
       "    </tr>\n",
       "    <tr>\n",
       "      <th>228</th>\n",
       "      <td>city_EKLUTNA</td>\n",
       "      <td>1.024322</td>\n",
       "    </tr>\n",
       "    <tr>\n",
       "      <th>243</th>\n",
       "      <td>city_EUREKA CREEK</td>\n",
       "      <td>1.024322</td>\n",
       "    </tr>\n",
       "    <tr>\n",
       "      <th>653</th>\n",
       "      <td>city_PORTAGE CREEK</td>\n",
       "      <td>1.024322</td>\n",
       "    </tr>\n",
       "  </tbody>\n",
       "</table>\n",
       "</div>"
      ],
      "text/plain": [
       "                       feature  coefficient\n",
       "385             city_KETCHIKAN     1.084942\n",
       "720                 city_SITKA     1.072408\n",
       "850              city_WHITTIER     1.051815\n",
       "461              city_MARSHALL     1.040168\n",
       "688           city_SAINT MARYS     1.040168\n",
       "722               city_SKAGWAY     1.040102\n",
       "345                city_JUNEAU     1.038547\n",
       "30              city_ALEKNAGIK     1.037559\n",
       "602               city_NUIQSUT     1.037559\n",
       "163               city_CHUGIAK     1.035109\n",
       "240           city_ENGLISH BAY     1.034569\n",
       "724               city_SKWENTA     1.034569\n",
       "773             city_TANACROSS     1.033935\n",
       "313       city_HINCHINBROOK IS     1.033935\n",
       "831               city_UNKNOWN     1.033935\n",
       "307           city_HAYES RIVER     1.033935\n",
       "323        city_HULAHULA RIVER     1.033935\n",
       "284             city_GLENALLEN     1.033935\n",
       "570           city_NEAR TANANA     1.033935\n",
       "564         city_NEAR SAVOONGA     1.033935\n",
       "333           city_ILIAMNA BAY     1.033935\n",
       "282        city_GLACIER ISLAND     1.033935\n",
       "265        city_FORTRESS CREEK     1.033935\n",
       "69                 city_BEAVER     1.033935\n",
       "229          city_EKLUTNA LAKE     1.033935\n",
       "225          city_EGEGIK RIVER     1.033935\n",
       "811             city_TURNAGAIN     1.033935\n",
       "712                city_SHEMYA     1.033935\n",
       "121       city_CATHEDRAL RAPID     1.033935\n",
       "757        city_SUCKLING HILLS     1.033935\n",
       "751              city_STARFISH     1.033935\n",
       "748             city_ST. MARYS     1.033935\n",
       "746            city_ST. GEORGE     1.033935\n",
       "161        city_CHRISTIAN LAKE     1.033935\n",
       "175             city_COAL LAKE     1.033935\n",
       "232           city_ELDRED ROCK     1.033935\n",
       "185         city_COPPER HARBOR     1.033935\n",
       "694          city_SANONA CREEK     1.033935\n",
       "197           city_DADINA LAKE     1.033935\n",
       "202                 city_DELTA     1.033935\n",
       "672            city_RAMSEY BAY     1.033935\n",
       "558             city_NEAR NOME     1.033935\n",
       "559        city_NEAR NONDALTON     1.033935\n",
       "578            city_NERA KENAI     1.033935\n",
       "502           city_MOOSE CREEK     1.033935\n",
       "428            city_LAKE CLARK     1.033935\n",
       "554          city_NEAR KLAWOCK     1.033935\n",
       "497          city_MISSING ACFT     1.033935\n",
       "21             city_AIALAK BAY     1.033935\n",
       "496               city_MISSING     1.033935\n",
       "862           city_WOODS RIVER     1.033935\n",
       "16         city_60 E OF BETHEL     1.033935\n",
       "427         city_LAKE BEVERLEY     1.033935\n",
       "429       city_LAKE CLARK PASS     1.033935\n",
       "517            city_MT. TORBET     1.033935\n",
       "435       city_LAKECREEK RIVER     1.033935\n",
       "9           city_40 W OF CLEAR     1.033935\n",
       "8           city_40 SE BETTLES     1.033935\n",
       "442           city_LISCOME BAY     1.033935\n",
       "464             city_MAY CREEK     1.033935\n",
       "454       city_MANLEY HOT SPNG     1.033935\n",
       "2         city_11NM EAST OF SI     1.033935\n",
       "386       city_KETCHIKAN INTL.     1.033935\n",
       "766          city_SWIKSHAK BAY     1.033935\n",
       "37              city_ALMAUTLAK     1.033935\n",
       "364                city_KASAAN     1.033935\n",
       "359                city_KALTAG     1.033935\n",
       "539       city_NEAR CHINITNA B     1.033935\n",
       "546        city_NEAR FAIRBANKS     1.033935\n",
       "376  city_KATMAI NATIONAL PARK     1.033935\n",
       "353              city_KAKHONAK     1.033935\n",
       "343       city_JOHNSON GLACIER     1.033935\n",
       "41         city_AMITCHIAK LAKE     1.033935\n",
       "592                  city_NOME     1.033763\n",
       "622               city_PELICAN     1.030123\n",
       "843            city_WAINWRIGHT     1.030123\n",
       "236                  city_ELIM     1.030123\n",
       "603                city_NULATO     1.030123\n",
       "298                city_HAINES     1.030018\n",
       "583             city_NIGHTMUTE     1.026412\n",
       "49                 city_ANGOON     1.026412\n",
       "487          city_MERRILL PASS     1.026412\n",
       "404                city_KODIAK     1.026315\n",
       "625            city_PETERSBURG     1.025102\n",
       "863              city_WRANGELL     1.025102\n",
       "222           city_EAGLE RIVER     1.025102\n",
       "154          city_CHIGNIK LAKE     1.024322\n",
       "59            city_ATIGUN PASS     1.024322\n",
       "249            city_FALSE PASS     1.024322\n",
       "162           city_CHUATHBALUK     1.024322\n",
       "321               city_HOUSTON     1.024322\n",
       "473         city_MCKINLEY PARK     1.024322\n",
       "433       city_LAKE MINCHUMINA     1.024322\n",
       "607                  city_NYAC     1.024322\n",
       "301          city_HAPPY VALLEY     1.024322\n",
       "805         city_TRAPPER CREEK     1.024322\n",
       "669           city_RAINEY PASS     1.024322\n",
       "228               city_EKLUTNA     1.024322\n",
       "243          city_EUREKA CREEK     1.024322\n",
       "653         city_PORTAGE CREEK     1.024322"
      ]
     },
     "execution_count": 36,
     "metadata": {},
     "output_type": "execute_result"
    }
   ],
   "source": [
    "pd.set_option('display.max_rows', None)\n",
    "coef_odds_df.sort_values(by = 'coefficient', ascending=False).head(100)"
   ]
  },
  {
   "cell_type": "code",
   "execution_count": 37,
   "id": "84e77b3f-fbbf-4f6e-a681-080e8232aab7",
   "metadata": {
    "tags": []
   },
   "outputs": [],
   "source": [
    "file_name = f\"../../datasets/nolan_logreg_{predictor}-{target}_coef.csv\"\n",
    "\n",
    "coef_log_odds_df.to_csv(file_name, index=False)"
   ]
  },
  {
   "cell_type": "markdown",
   "id": "f4f3dfab-093e-41dc-b38e-af7428bab371",
   "metadata": {},
   "source": [
    "## Pickle"
   ]
  },
  {
   "cell_type": "code",
   "execution_count": 38,
   "id": "3f5a90ff-364c-4733-b6cb-5dbb12680bae",
   "metadata": {
    "tags": []
   },
   "outputs": [],
   "source": [
    "file_name = f\"../../pickles/nolan_logreg_{predictor}-{target}.pkl\"\n",
    "\n",
    "with open(file_name, 'wb') as f:\n",
    "    pickle.dump(gs, f) "
   ]
  }
 ],
 "metadata": {
  "kernelspec": {
   "display_name": "Python 3 (ipykernel)",
   "language": "python",
   "name": "python3"
  },
  "language_info": {
   "codemirror_mode": {
    "name": "ipython",
    "version": 3
   },
   "file_extension": ".py",
   "mimetype": "text/x-python",
   "name": "python",
   "nbconvert_exporter": "python",
   "pygments_lexer": "ipython3",
   "version": "3.11.5"
  }
 },
 "nbformat": 4,
 "nbformat_minor": 5
}
