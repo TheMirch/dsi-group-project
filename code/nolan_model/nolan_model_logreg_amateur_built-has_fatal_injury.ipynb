{
 "cells": [
  {
   "cell_type": "markdown",
   "id": "5cb523d1-60c4-4f83-8fc9-b53eecc7315b",
   "metadata": {
    "tags": []
   },
   "source": [
    "# Logistic Regression: amateur_built - has_fatal_injury"
   ]
  },
  {
   "cell_type": "code",
   "execution_count": 1,
   "id": "d7f6944f-33a9-4a6c-823d-0bd9e0ca1caa",
   "metadata": {
    "tags": []
   },
   "outputs": [],
   "source": [
    "import pandas as pd\n",
    "import numpy as np\n",
    "from sklearn.model_selection import train_test_split, GridSearchCV\n",
    "from sklearn.pipeline import Pipeline\n",
    "from sklearn.preprocessing import StandardScaler\n",
    "from sklearn.linear_model import LogisticRegression\n",
    "from sklearn.metrics import classification_report, confusion_matrix\n",
    "import pickle\n",
    "\n",
    "\n",
    "# pd.set_option('display.max_rows', None)\n",
    "# pd.set_option('display.max_columns', None)\n",
    "# pd.reset_option('display.max_rows')\n",
    "# pd.reset_option('display.max_columns')"
   ]
  },
  {
   "cell_type": "code",
   "execution_count": 2,
   "id": "fecbba99-2624-4c11-b8f1-0097efd8f0e0",
   "metadata": {
    "tags": []
   },
   "outputs": [],
   "source": [
    "ak = pd.read_csv('../../datasets/alaska_single_engine_clean.csv', low_memory=False)"
   ]
  },
  {
   "cell_type": "code",
   "execution_count": 3,
   "id": "94043aef-84b2-4218-9fe2-812a1c505a8e",
   "metadata": {
    "tags": []
   },
   "outputs": [
    {
     "data": {
      "text/plain": [
       "(5590, 39)"
      ]
     },
     "execution_count": 3,
     "metadata": {},
     "output_type": "execute_result"
    }
   ],
   "source": [
    "ak.shape"
   ]
  },
  {
   "cell_type": "code",
   "execution_count": 4,
   "id": "41181bb8-055a-461a-b3f1-747bd4eb9c1f",
   "metadata": {
    "tags": []
   },
   "outputs": [],
   "source": [
    "predictor = 'amateur_built'"
   ]
  },
  {
   "cell_type": "code",
   "execution_count": 5,
   "id": "17c15b2c-8fbe-485c-bdcb-761231390686",
   "metadata": {
    "tags": []
   },
   "outputs": [],
   "source": [
    "target = 'has_fatal_injury'"
   ]
  },
  {
   "cell_type": "code",
   "execution_count": 6,
   "id": "509b2ed2-abca-4018-b1d6-789f4ed00ed3",
   "metadata": {
    "tags": []
   },
   "outputs": [],
   "source": [
    "ak = ak[[predictor, target]]"
   ]
  },
  {
   "cell_type": "code",
   "execution_count": 7,
   "id": "cd3935ad-ea50-4987-92b4-44ca576c6ec8",
   "metadata": {
    "tags": []
   },
   "outputs": [
    {
     "data": {
      "text/plain": [
       "Index(['amateur_built', 'has_fatal_injury'], dtype='object')"
      ]
     },
     "execution_count": 7,
     "metadata": {},
     "output_type": "execute_result"
    }
   ],
   "source": [
    "ak.columns"
   ]
  },
  {
   "cell_type": "markdown",
   "id": "05cddad5-0cb3-4a4f-b807-e7621a7d268e",
   "metadata": {
    "tags": []
   },
   "source": [
    "## Dummify Columns"
   ]
  },
  {
   "cell_type": "code",
   "execution_count": 8,
   "id": "c547a070-4a54-436d-8c08-1e7a10651676",
   "metadata": {
    "tags": []
   },
   "outputs": [],
   "source": [
    "def dummies(df, col_inference, category_to_drop):\n",
    "    categorical_columns = df.select_dtypes(include=['object', 'category']).columns.tolist()\n",
    "    columns_to_dummify_drop_first = [col for col in categorical_columns if col != col_inference]\n",
    "    \n",
    "    df_dummies = pd.get_dummies(df, columns=columns_to_dummify_drop_first, drop_first=True)\n",
    "    \n",
    "    df_dummies = pd.get_dummies(df_dummies, columns=[col_inference], drop_first=False)\n",
    "    \n",
    "    dummy_to_drop = f\"{col_inference}_{category_to_drop}\"\n",
    "    if dummy_to_drop in df_dummies.columns:\n",
    "        df_dummies.drop(columns=[dummy_to_drop], inplace=True)\n",
    "    \n",
    "    return df_dummies"
   ]
  },
  {
   "cell_type": "code",
   "execution_count": 9,
   "id": "3a8765a2-6e69-4e37-8f73-95d6810a6349",
   "metadata": {
    "tags": []
   },
   "outputs": [],
   "source": [
    "ak_dummies_weather = dummies(ak, predictor, '0')"
   ]
  },
  {
   "cell_type": "code",
   "execution_count": 10,
   "id": "8502ebd4-73de-4825-b3ea-908225453ef9",
   "metadata": {
    "tags": []
   },
   "outputs": [
    {
     "data": {
      "text/plain": [
       "Index(['has_fatal_injury', 'amateur_built_1'], dtype='object')"
      ]
     },
     "execution_count": 10,
     "metadata": {},
     "output_type": "execute_result"
    }
   ],
   "source": [
    "ak_dummies_weather.columns"
   ]
  },
  {
   "cell_type": "code",
   "execution_count": 11,
   "id": "1628c186-c921-4812-9a58-358c9b76ea18",
   "metadata": {
    "tags": []
   },
   "outputs": [
    {
     "data": {
      "text/html": [
       "<div>\n",
       "<style scoped>\n",
       "    .dataframe tbody tr th:only-of-type {\n",
       "        vertical-align: middle;\n",
       "    }\n",
       "\n",
       "    .dataframe tbody tr th {\n",
       "        vertical-align: top;\n",
       "    }\n",
       "\n",
       "    .dataframe thead th {\n",
       "        text-align: right;\n",
       "    }\n",
       "</style>\n",
       "<table border=\"1\" class=\"dataframe\">\n",
       "  <thead>\n",
       "    <tr style=\"text-align: right;\">\n",
       "      <th></th>\n",
       "      <th>has_fatal_injury</th>\n",
       "      <th>amateur_built_1</th>\n",
       "    </tr>\n",
       "  </thead>\n",
       "  <tbody>\n",
       "    <tr>\n",
       "      <th>0</th>\n",
       "      <td>0</td>\n",
       "      <td>False</td>\n",
       "    </tr>\n",
       "    <tr>\n",
       "      <th>1</th>\n",
       "      <td>0</td>\n",
       "      <td>False</td>\n",
       "    </tr>\n",
       "    <tr>\n",
       "      <th>2</th>\n",
       "      <td>0</td>\n",
       "      <td>False</td>\n",
       "    </tr>\n",
       "    <tr>\n",
       "      <th>3</th>\n",
       "      <td>0</td>\n",
       "      <td>False</td>\n",
       "    </tr>\n",
       "    <tr>\n",
       "      <th>4</th>\n",
       "      <td>0</td>\n",
       "      <td>True</td>\n",
       "    </tr>\n",
       "  </tbody>\n",
       "</table>\n",
       "</div>"
      ],
      "text/plain": [
       "   has_fatal_injury  amateur_built_1\n",
       "0                 0            False\n",
       "1                 0            False\n",
       "2                 0            False\n",
       "3                 0            False\n",
       "4                 0             True"
      ]
     },
     "execution_count": 11,
     "metadata": {},
     "output_type": "execute_result"
    }
   ],
   "source": [
    "ak_dummies_weather.head()"
   ]
  },
  {
   "cell_type": "markdown",
   "id": "52e2fe1f-be42-4e19-8a4f-8a4c1db0fca6",
   "metadata": {},
   "source": [
    "## Train, Test, Split"
   ]
  },
  {
   "cell_type": "code",
   "execution_count": 12,
   "id": "130c9f36-5770-4745-a6f2-dea95704a934",
   "metadata": {
    "tags": []
   },
   "outputs": [],
   "source": [
    "X = ak_dummies_weather.drop(columns = target)\n",
    "y = ak_dummies_weather[target]"
   ]
  },
  {
   "cell_type": "code",
   "execution_count": 13,
   "id": "86d9e924-8a1f-4e15-80a3-707b18dcf4df",
   "metadata": {
    "tags": []
   },
   "outputs": [],
   "source": [
    "X_train, X_test, y_train, y_test = train_test_split(X, y, test_size=0.1, random_state=21)"
   ]
  },
  {
   "cell_type": "markdown",
   "id": "36aa5887-7f44-48f8-afcf-5ff0a4561068",
   "metadata": {
    "tags": []
   },
   "source": [
    "## Baseline"
   ]
  },
  {
   "cell_type": "code",
   "execution_count": 14,
   "id": "488fe461-700d-449e-9d46-31ef44ec4f35",
   "metadata": {
    "tags": []
   },
   "outputs": [
    {
     "data": {
      "text/plain": [
       "0.8967799642218247"
      ]
     },
     "execution_count": 14,
     "metadata": {},
     "output_type": "execute_result"
    }
   ],
   "source": [
    "1 - y.mean()"
   ]
  },
  {
   "cell_type": "markdown",
   "id": "87a2e02f-ea76-48ca-8222-88e2d3a4c4a2",
   "metadata": {
    "tags": []
   },
   "source": [
    "## Benchmark Logistic Regression Model"
   ]
  },
  {
   "cell_type": "code",
   "execution_count": 15,
   "id": "5fda8c43-bf1d-491f-96c6-35c539d898b9",
   "metadata": {
    "tags": []
   },
   "outputs": [],
   "source": [
    "pipe_log_reg_bench = Pipeline([\n",
    "    ('sc', StandardScaler()),\n",
    "    ('log_reg_bench', LogisticRegression(max_iter=1000))\n",
    "])"
   ]
  },
  {
   "cell_type": "code",
   "execution_count": 16,
   "id": "32553da1-767f-4d94-ad10-0f656543fa07",
   "metadata": {
    "tags": []
   },
   "outputs": [
    {
     "data": {
      "text/html": [
       "<style>#sk-container-id-1 {color: black;}#sk-container-id-1 pre{padding: 0;}#sk-container-id-1 div.sk-toggleable {background-color: white;}#sk-container-id-1 label.sk-toggleable__label {cursor: pointer;display: block;width: 100%;margin-bottom: 0;padding: 0.3em;box-sizing: border-box;text-align: center;}#sk-container-id-1 label.sk-toggleable__label-arrow:before {content: \"▸\";float: left;margin-right: 0.25em;color: #696969;}#sk-container-id-1 label.sk-toggleable__label-arrow:hover:before {color: black;}#sk-container-id-1 div.sk-estimator:hover label.sk-toggleable__label-arrow:before {color: black;}#sk-container-id-1 div.sk-toggleable__content {max-height: 0;max-width: 0;overflow: hidden;text-align: left;background-color: #f0f8ff;}#sk-container-id-1 div.sk-toggleable__content pre {margin: 0.2em;color: black;border-radius: 0.25em;background-color: #f0f8ff;}#sk-container-id-1 input.sk-toggleable__control:checked~div.sk-toggleable__content {max-height: 200px;max-width: 100%;overflow: auto;}#sk-container-id-1 input.sk-toggleable__control:checked~label.sk-toggleable__label-arrow:before {content: \"▾\";}#sk-container-id-1 div.sk-estimator input.sk-toggleable__control:checked~label.sk-toggleable__label {background-color: #d4ebff;}#sk-container-id-1 div.sk-label input.sk-toggleable__control:checked~label.sk-toggleable__label {background-color: #d4ebff;}#sk-container-id-1 input.sk-hidden--visually {border: 0;clip: rect(1px 1px 1px 1px);clip: rect(1px, 1px, 1px, 1px);height: 1px;margin: -1px;overflow: hidden;padding: 0;position: absolute;width: 1px;}#sk-container-id-1 div.sk-estimator {font-family: monospace;background-color: #f0f8ff;border: 1px dotted black;border-radius: 0.25em;box-sizing: border-box;margin-bottom: 0.5em;}#sk-container-id-1 div.sk-estimator:hover {background-color: #d4ebff;}#sk-container-id-1 div.sk-parallel-item::after {content: \"\";width: 100%;border-bottom: 1px solid gray;flex-grow: 1;}#sk-container-id-1 div.sk-label:hover label.sk-toggleable__label {background-color: #d4ebff;}#sk-container-id-1 div.sk-serial::before {content: \"\";position: absolute;border-left: 1px solid gray;box-sizing: border-box;top: 0;bottom: 0;left: 50%;z-index: 0;}#sk-container-id-1 div.sk-serial {display: flex;flex-direction: column;align-items: center;background-color: white;padding-right: 0.2em;padding-left: 0.2em;position: relative;}#sk-container-id-1 div.sk-item {position: relative;z-index: 1;}#sk-container-id-1 div.sk-parallel {display: flex;align-items: stretch;justify-content: center;background-color: white;position: relative;}#sk-container-id-1 div.sk-item::before, #sk-container-id-1 div.sk-parallel-item::before {content: \"\";position: absolute;border-left: 1px solid gray;box-sizing: border-box;top: 0;bottom: 0;left: 50%;z-index: -1;}#sk-container-id-1 div.sk-parallel-item {display: flex;flex-direction: column;z-index: 1;position: relative;background-color: white;}#sk-container-id-1 div.sk-parallel-item:first-child::after {align-self: flex-end;width: 50%;}#sk-container-id-1 div.sk-parallel-item:last-child::after {align-self: flex-start;width: 50%;}#sk-container-id-1 div.sk-parallel-item:only-child::after {width: 0;}#sk-container-id-1 div.sk-dashed-wrapped {border: 1px dashed gray;margin: 0 0.4em 0.5em 0.4em;box-sizing: border-box;padding-bottom: 0.4em;background-color: white;}#sk-container-id-1 div.sk-label label {font-family: monospace;font-weight: bold;display: inline-block;line-height: 1.2em;}#sk-container-id-1 div.sk-label-container {text-align: center;}#sk-container-id-1 div.sk-container {/* jupyter's `normalize.less` sets `[hidden] { display: none; }` but bootstrap.min.css set `[hidden] { display: none !important; }` so we also need the `!important` here to be able to override the default hidden behavior on the sphinx rendered scikit-learn.org. See: https://github.com/scikit-learn/scikit-learn/issues/21755 */display: inline-block !important;position: relative;}#sk-container-id-1 div.sk-text-repr-fallback {display: none;}</style><div id=\"sk-container-id-1\" class=\"sk-top-container\"><div class=\"sk-text-repr-fallback\"><pre>Pipeline(steps=[(&#x27;sc&#x27;, StandardScaler()),\n",
       "                (&#x27;log_reg_bench&#x27;, LogisticRegression(max_iter=1000))])</pre><b>In a Jupyter environment, please rerun this cell to show the HTML representation or trust the notebook. <br />On GitHub, the HTML representation is unable to render, please try loading this page with nbviewer.org.</b></div><div class=\"sk-container\" hidden><div class=\"sk-item sk-dashed-wrapped\"><div class=\"sk-label-container\"><div class=\"sk-label sk-toggleable\"><input class=\"sk-toggleable__control sk-hidden--visually\" id=\"sk-estimator-id-1\" type=\"checkbox\" ><label for=\"sk-estimator-id-1\" class=\"sk-toggleable__label sk-toggleable__label-arrow\">Pipeline</label><div class=\"sk-toggleable__content\"><pre>Pipeline(steps=[(&#x27;sc&#x27;, StandardScaler()),\n",
       "                (&#x27;log_reg_bench&#x27;, LogisticRegression(max_iter=1000))])</pre></div></div></div><div class=\"sk-serial\"><div class=\"sk-item\"><div class=\"sk-estimator sk-toggleable\"><input class=\"sk-toggleable__control sk-hidden--visually\" id=\"sk-estimator-id-2\" type=\"checkbox\" ><label for=\"sk-estimator-id-2\" class=\"sk-toggleable__label sk-toggleable__label-arrow\">StandardScaler</label><div class=\"sk-toggleable__content\"><pre>StandardScaler()</pre></div></div></div><div class=\"sk-item\"><div class=\"sk-estimator sk-toggleable\"><input class=\"sk-toggleable__control sk-hidden--visually\" id=\"sk-estimator-id-3\" type=\"checkbox\" ><label for=\"sk-estimator-id-3\" class=\"sk-toggleable__label sk-toggleable__label-arrow\">LogisticRegression</label><div class=\"sk-toggleable__content\"><pre>LogisticRegression(max_iter=1000)</pre></div></div></div></div></div></div></div>"
      ],
      "text/plain": [
       "Pipeline(steps=[('sc', StandardScaler()),\n",
       "                ('log_reg_bench', LogisticRegression(max_iter=1000))])"
      ]
     },
     "execution_count": 16,
     "metadata": {},
     "output_type": "execute_result"
    }
   ],
   "source": [
    "pipe_log_reg_bench.fit(X_train, y_train)"
   ]
  },
  {
   "cell_type": "code",
   "execution_count": 17,
   "id": "2ce24728-828e-48c0-85ee-7bf336d7ab5b",
   "metadata": {
    "tags": []
   },
   "outputs": [
    {
     "data": {
      "text/plain": [
       "0.8962432915921288"
      ]
     },
     "execution_count": 17,
     "metadata": {},
     "output_type": "execute_result"
    }
   ],
   "source": [
    "pipe_log_reg_bench.score(X_train, y_train)"
   ]
  },
  {
   "cell_type": "code",
   "execution_count": 18,
   "id": "e3722c2b-0c79-4075-9676-823a3f3ad052",
   "metadata": {
    "tags": []
   },
   "outputs": [
    {
     "data": {
      "text/plain": [
       "0.9016100178890877"
      ]
     },
     "execution_count": 18,
     "metadata": {},
     "output_type": "execute_result"
    }
   ],
   "source": [
    "pipe_log_reg_bench.score(X_test, y_test)"
   ]
  },
  {
   "cell_type": "markdown",
   "id": "6c987185-bf4e-49ba-ada3-0a320271fe87",
   "metadata": {},
   "source": [
    "## Tuned Logistic Regression Model"
   ]
  },
  {
   "cell_type": "code",
   "execution_count": 19,
   "id": "bd811d1d-386f-4165-b9af-d9e93131c770",
   "metadata": {
    "tags": []
   },
   "outputs": [],
   "source": [
    "pipe_log_reg_tuned = Pipeline([\n",
    "    ('sc', StandardScaler()),\n",
    "    ('log_reg_tuned', LogisticRegression())\n",
    "])"
   ]
  },
  {
   "cell_type": "code",
   "execution_count": 20,
   "id": "7c97746f-4fab-4de7-81a3-19f3ed0636ae",
   "metadata": {
    "tags": []
   },
   "outputs": [
    {
     "data": {
      "text/plain": [
       "{'memory': None,\n",
       " 'steps': [('sc', StandardScaler()), ('log_reg_tuned', LogisticRegression())],\n",
       " 'verbose': False,\n",
       " 'sc': StandardScaler(),\n",
       " 'log_reg_tuned': LogisticRegression(),\n",
       " 'sc__copy': True,\n",
       " 'sc__with_mean': True,\n",
       " 'sc__with_std': True,\n",
       " 'log_reg_tuned__C': 1.0,\n",
       " 'log_reg_tuned__class_weight': None,\n",
       " 'log_reg_tuned__dual': False,\n",
       " 'log_reg_tuned__fit_intercept': True,\n",
       " 'log_reg_tuned__intercept_scaling': 1,\n",
       " 'log_reg_tuned__l1_ratio': None,\n",
       " 'log_reg_tuned__max_iter': 100,\n",
       " 'log_reg_tuned__multi_class': 'auto',\n",
       " 'log_reg_tuned__n_jobs': None,\n",
       " 'log_reg_tuned__penalty': 'l2',\n",
       " 'log_reg_tuned__random_state': None,\n",
       " 'log_reg_tuned__solver': 'lbfgs',\n",
       " 'log_reg_tuned__tol': 0.0001,\n",
       " 'log_reg_tuned__verbose': 0,\n",
       " 'log_reg_tuned__warm_start': False}"
      ]
     },
     "execution_count": 20,
     "metadata": {},
     "output_type": "execute_result"
    }
   ],
   "source": [
    "pipe_log_reg_tuned.get_params()"
   ]
  },
  {
   "cell_type": "code",
   "execution_count": 21,
   "id": "1abc4bf0-243a-4fb4-b0ca-cb305e0e537f",
   "metadata": {
    "tags": []
   },
   "outputs": [],
   "source": [
    "pipe_log_reg_tuned_params = {\n",
    "    'log_reg_tuned__max_iter': [100, 1_000],\n",
    "    'log_reg_tuned__C': np.linspace(0.001, 1, 5),\n",
    "    'log_reg_tuned__penalty': ['l2']\n",
    "}"
   ]
  },
  {
   "cell_type": "code",
   "execution_count": 22,
   "id": "ec0c01c9-d7f8-4c81-b73f-0faf51c12ed4",
   "metadata": {
    "tags": []
   },
   "outputs": [],
   "source": [
    "gs= GridSearchCV(pipe_log_reg_tuned,\n",
    "                                param_grid = pipe_log_reg_tuned_params,\n",
    "                                cv = 5,\n",
    "                               n_jobs=6)"
   ]
  },
  {
   "cell_type": "code",
   "execution_count": 23,
   "id": "31172b90-5df3-466c-bd21-accd31e70e68",
   "metadata": {
    "tags": []
   },
   "outputs": [
    {
     "name": "stdout",
     "output_type": "stream",
     "text": [
      "CPU times: user 111 ms, sys: 105 ms, total: 216 ms\n",
      "Wall time: 1.82 s\n"
     ]
    },
    {
     "data": {
      "text/html": [
       "<style>#sk-container-id-2 {color: black;}#sk-container-id-2 pre{padding: 0;}#sk-container-id-2 div.sk-toggleable {background-color: white;}#sk-container-id-2 label.sk-toggleable__label {cursor: pointer;display: block;width: 100%;margin-bottom: 0;padding: 0.3em;box-sizing: border-box;text-align: center;}#sk-container-id-2 label.sk-toggleable__label-arrow:before {content: \"▸\";float: left;margin-right: 0.25em;color: #696969;}#sk-container-id-2 label.sk-toggleable__label-arrow:hover:before {color: black;}#sk-container-id-2 div.sk-estimator:hover label.sk-toggleable__label-arrow:before {color: black;}#sk-container-id-2 div.sk-toggleable__content {max-height: 0;max-width: 0;overflow: hidden;text-align: left;background-color: #f0f8ff;}#sk-container-id-2 div.sk-toggleable__content pre {margin: 0.2em;color: black;border-radius: 0.25em;background-color: #f0f8ff;}#sk-container-id-2 input.sk-toggleable__control:checked~div.sk-toggleable__content {max-height: 200px;max-width: 100%;overflow: auto;}#sk-container-id-2 input.sk-toggleable__control:checked~label.sk-toggleable__label-arrow:before {content: \"▾\";}#sk-container-id-2 div.sk-estimator input.sk-toggleable__control:checked~label.sk-toggleable__label {background-color: #d4ebff;}#sk-container-id-2 div.sk-label input.sk-toggleable__control:checked~label.sk-toggleable__label {background-color: #d4ebff;}#sk-container-id-2 input.sk-hidden--visually {border: 0;clip: rect(1px 1px 1px 1px);clip: rect(1px, 1px, 1px, 1px);height: 1px;margin: -1px;overflow: hidden;padding: 0;position: absolute;width: 1px;}#sk-container-id-2 div.sk-estimator {font-family: monospace;background-color: #f0f8ff;border: 1px dotted black;border-radius: 0.25em;box-sizing: border-box;margin-bottom: 0.5em;}#sk-container-id-2 div.sk-estimator:hover {background-color: #d4ebff;}#sk-container-id-2 div.sk-parallel-item::after {content: \"\";width: 100%;border-bottom: 1px solid gray;flex-grow: 1;}#sk-container-id-2 div.sk-label:hover label.sk-toggleable__label {background-color: #d4ebff;}#sk-container-id-2 div.sk-serial::before {content: \"\";position: absolute;border-left: 1px solid gray;box-sizing: border-box;top: 0;bottom: 0;left: 50%;z-index: 0;}#sk-container-id-2 div.sk-serial {display: flex;flex-direction: column;align-items: center;background-color: white;padding-right: 0.2em;padding-left: 0.2em;position: relative;}#sk-container-id-2 div.sk-item {position: relative;z-index: 1;}#sk-container-id-2 div.sk-parallel {display: flex;align-items: stretch;justify-content: center;background-color: white;position: relative;}#sk-container-id-2 div.sk-item::before, #sk-container-id-2 div.sk-parallel-item::before {content: \"\";position: absolute;border-left: 1px solid gray;box-sizing: border-box;top: 0;bottom: 0;left: 50%;z-index: -1;}#sk-container-id-2 div.sk-parallel-item {display: flex;flex-direction: column;z-index: 1;position: relative;background-color: white;}#sk-container-id-2 div.sk-parallel-item:first-child::after {align-self: flex-end;width: 50%;}#sk-container-id-2 div.sk-parallel-item:last-child::after {align-self: flex-start;width: 50%;}#sk-container-id-2 div.sk-parallel-item:only-child::after {width: 0;}#sk-container-id-2 div.sk-dashed-wrapped {border: 1px dashed gray;margin: 0 0.4em 0.5em 0.4em;box-sizing: border-box;padding-bottom: 0.4em;background-color: white;}#sk-container-id-2 div.sk-label label {font-family: monospace;font-weight: bold;display: inline-block;line-height: 1.2em;}#sk-container-id-2 div.sk-label-container {text-align: center;}#sk-container-id-2 div.sk-container {/* jupyter's `normalize.less` sets `[hidden] { display: none; }` but bootstrap.min.css set `[hidden] { display: none !important; }` so we also need the `!important` here to be able to override the default hidden behavior on the sphinx rendered scikit-learn.org. See: https://github.com/scikit-learn/scikit-learn/issues/21755 */display: inline-block !important;position: relative;}#sk-container-id-2 div.sk-text-repr-fallback {display: none;}</style><div id=\"sk-container-id-2\" class=\"sk-top-container\"><div class=\"sk-text-repr-fallback\"><pre>GridSearchCV(cv=5,\n",
       "             estimator=Pipeline(steps=[(&#x27;sc&#x27;, StandardScaler()),\n",
       "                                       (&#x27;log_reg_tuned&#x27;,\n",
       "                                        LogisticRegression())]),\n",
       "             n_jobs=6,\n",
       "             param_grid={&#x27;log_reg_tuned__C&#x27;: array([0.001  , 0.25075, 0.5005 , 0.75025, 1.     ]),\n",
       "                         &#x27;log_reg_tuned__max_iter&#x27;: [100, 1000],\n",
       "                         &#x27;log_reg_tuned__penalty&#x27;: [&#x27;l2&#x27;]})</pre><b>In a Jupyter environment, please rerun this cell to show the HTML representation or trust the notebook. <br />On GitHub, the HTML representation is unable to render, please try loading this page with nbviewer.org.</b></div><div class=\"sk-container\" hidden><div class=\"sk-item sk-dashed-wrapped\"><div class=\"sk-label-container\"><div class=\"sk-label sk-toggleable\"><input class=\"sk-toggleable__control sk-hidden--visually\" id=\"sk-estimator-id-4\" type=\"checkbox\" ><label for=\"sk-estimator-id-4\" class=\"sk-toggleable__label sk-toggleable__label-arrow\">GridSearchCV</label><div class=\"sk-toggleable__content\"><pre>GridSearchCV(cv=5,\n",
       "             estimator=Pipeline(steps=[(&#x27;sc&#x27;, StandardScaler()),\n",
       "                                       (&#x27;log_reg_tuned&#x27;,\n",
       "                                        LogisticRegression())]),\n",
       "             n_jobs=6,\n",
       "             param_grid={&#x27;log_reg_tuned__C&#x27;: array([0.001  , 0.25075, 0.5005 , 0.75025, 1.     ]),\n",
       "                         &#x27;log_reg_tuned__max_iter&#x27;: [100, 1000],\n",
       "                         &#x27;log_reg_tuned__penalty&#x27;: [&#x27;l2&#x27;]})</pre></div></div></div><div class=\"sk-parallel\"><div class=\"sk-parallel-item\"><div class=\"sk-item\"><div class=\"sk-label-container\"><div class=\"sk-label sk-toggleable\"><input class=\"sk-toggleable__control sk-hidden--visually\" id=\"sk-estimator-id-5\" type=\"checkbox\" ><label for=\"sk-estimator-id-5\" class=\"sk-toggleable__label sk-toggleable__label-arrow\">estimator: Pipeline</label><div class=\"sk-toggleable__content\"><pre>Pipeline(steps=[(&#x27;sc&#x27;, StandardScaler()),\n",
       "                (&#x27;log_reg_tuned&#x27;, LogisticRegression())])</pre></div></div></div><div class=\"sk-serial\"><div class=\"sk-item\"><div class=\"sk-serial\"><div class=\"sk-item\"><div class=\"sk-estimator sk-toggleable\"><input class=\"sk-toggleable__control sk-hidden--visually\" id=\"sk-estimator-id-6\" type=\"checkbox\" ><label for=\"sk-estimator-id-6\" class=\"sk-toggleable__label sk-toggleable__label-arrow\">StandardScaler</label><div class=\"sk-toggleable__content\"><pre>StandardScaler()</pre></div></div></div><div class=\"sk-item\"><div class=\"sk-estimator sk-toggleable\"><input class=\"sk-toggleable__control sk-hidden--visually\" id=\"sk-estimator-id-7\" type=\"checkbox\" ><label for=\"sk-estimator-id-7\" class=\"sk-toggleable__label sk-toggleable__label-arrow\">LogisticRegression</label><div class=\"sk-toggleable__content\"><pre>LogisticRegression()</pre></div></div></div></div></div></div></div></div></div></div></div></div>"
      ],
      "text/plain": [
       "GridSearchCV(cv=5,\n",
       "             estimator=Pipeline(steps=[('sc', StandardScaler()),\n",
       "                                       ('log_reg_tuned',\n",
       "                                        LogisticRegression())]),\n",
       "             n_jobs=6,\n",
       "             param_grid={'log_reg_tuned__C': array([0.001  , 0.25075, 0.5005 , 0.75025, 1.     ]),\n",
       "                         'log_reg_tuned__max_iter': [100, 1000],\n",
       "                         'log_reg_tuned__penalty': ['l2']})"
      ]
     },
     "execution_count": 23,
     "metadata": {},
     "output_type": "execute_result"
    }
   ],
   "source": [
    "%%time\n",
    "gs.fit(X_train, y_train)"
   ]
  },
  {
   "cell_type": "code",
   "execution_count": 24,
   "id": "25d8df9c-3900-4ffe-8d86-4de74e64b99c",
   "metadata": {
    "tags": []
   },
   "outputs": [
    {
     "data": {
      "text/plain": [
       "{'log_reg_tuned__C': 0.001,\n",
       " 'log_reg_tuned__max_iter': 100,\n",
       " 'log_reg_tuned__penalty': 'l2'}"
      ]
     },
     "execution_count": 24,
     "metadata": {},
     "output_type": "execute_result"
    }
   ],
   "source": [
    "gs.best_params_"
   ]
  },
  {
   "cell_type": "code",
   "execution_count": 25,
   "id": "d8d01c0c-1931-42bb-8c24-427a98ea10ae",
   "metadata": {
    "tags": []
   },
   "outputs": [
    {
     "data": {
      "text/plain": [
       "0.8962432915921288"
      ]
     },
     "execution_count": 25,
     "metadata": {},
     "output_type": "execute_result"
    }
   ],
   "source": [
    "gs.score(X_train, y_train)"
   ]
  },
  {
   "cell_type": "code",
   "execution_count": 26,
   "id": "92715f58-ab27-4e04-bfeb-d514232e5bcc",
   "metadata": {
    "tags": []
   },
   "outputs": [
    {
     "data": {
      "text/plain": [
       "0.9016100178890877"
      ]
     },
     "execution_count": 26,
     "metadata": {},
     "output_type": "execute_result"
    }
   ],
   "source": [
    "gs.score(X_test, y_test)"
   ]
  },
  {
   "cell_type": "code",
   "execution_count": 27,
   "id": "27da8ee5-5c46-4c84-b9bf-a9ea1e0f336c",
   "metadata": {
    "tags": []
   },
   "outputs": [],
   "source": [
    "y_pred = gs.predict(X_test)"
   ]
  },
  {
   "cell_type": "code",
   "execution_count": 28,
   "id": "33413653-df13-4d3b-bedc-2df1ab7fee17",
   "metadata": {
    "tags": []
   },
   "outputs": [
    {
     "data": {
      "text/plain": [
       "array([[504,   0],\n",
       "       [ 55,   0]])"
      ]
     },
     "execution_count": 28,
     "metadata": {},
     "output_type": "execute_result"
    }
   ],
   "source": [
    "confusion_matrix(y_test, y_pred)"
   ]
  },
  {
   "cell_type": "code",
   "execution_count": 29,
   "id": "af217333-184f-481b-b6d0-8c51fd724be6",
   "metadata": {
    "tags": []
   },
   "outputs": [
    {
     "name": "stdout",
     "output_type": "stream",
     "text": [
      "              precision    recall  f1-score   support\n",
      "\n",
      "           0    0.90161   1.00000   0.94826       504\n",
      "           1    0.00000   0.00000   0.00000        55\n",
      "\n",
      "    accuracy                        0.90161       559\n",
      "   macro avg    0.45081   0.50000   0.47413       559\n",
      "weighted avg    0.81290   0.90161   0.85496       559\n",
      "\n"
     ]
    },
    {
     "name": "stderr",
     "output_type": "stream",
     "text": [
      "/Users/nolan/anaconda3/lib/python3.11/site-packages/sklearn/metrics/_classification.py:1469: UndefinedMetricWarning: Precision and F-score are ill-defined and being set to 0.0 in labels with no predicted samples. Use `zero_division` parameter to control this behavior.\n",
      "  _warn_prf(average, modifier, msg_start, len(result))\n",
      "/Users/nolan/anaconda3/lib/python3.11/site-packages/sklearn/metrics/_classification.py:1469: UndefinedMetricWarning: Precision and F-score are ill-defined and being set to 0.0 in labels with no predicted samples. Use `zero_division` parameter to control this behavior.\n",
      "  _warn_prf(average, modifier, msg_start, len(result))\n",
      "/Users/nolan/anaconda3/lib/python3.11/site-packages/sklearn/metrics/_classification.py:1469: UndefinedMetricWarning: Precision and F-score are ill-defined and being set to 0.0 in labels with no predicted samples. Use `zero_division` parameter to control this behavior.\n",
      "  _warn_prf(average, modifier, msg_start, len(result))\n"
     ]
    }
   ],
   "source": [
    "print(classification_report(y_test, y_pred, digits = 5))"
   ]
  },
  {
   "cell_type": "markdown",
   "id": "0cb7fc56-776d-4415-b944-5d257a48cb3d",
   "metadata": {
    "tags": []
   },
   "source": [
    "## Coefficients"
   ]
  },
  {
   "cell_type": "code",
   "execution_count": 30,
   "id": "62906406-96ac-483d-9328-f09b81873542",
   "metadata": {
    "tags": []
   },
   "outputs": [],
   "source": [
    "feature_names = list(X_train.columns)"
   ]
  },
  {
   "cell_type": "code",
   "execution_count": 31,
   "id": "9915ba46-049d-4182-a38b-9a48984a276f",
   "metadata": {
    "tags": []
   },
   "outputs": [],
   "source": [
    "coef_log_odds = gs.best_estimator_.named_steps['log_reg_tuned'].coef_[0]"
   ]
  },
  {
   "cell_type": "code",
   "execution_count": 32,
   "id": "bf572e04-97f1-4137-a88e-5fa8a65d82fb",
   "metadata": {
    "tags": []
   },
   "outputs": [],
   "source": [
    "coef_odds = np.exp(gs.best_estimator_.named_steps['log_reg_tuned'].coef_[0])"
   ]
  },
  {
   "cell_type": "code",
   "execution_count": 33,
   "id": "bc2f07d6-9118-4bea-8e45-98aeb3c49eb6",
   "metadata": {
    "tags": []
   },
   "outputs": [],
   "source": [
    "coef_log_odds_df = pd.DataFrame({'feature': feature_names, 'coefficient': coef_log_odds})"
   ]
  },
  {
   "cell_type": "code",
   "execution_count": 34,
   "id": "ee6b4036-da29-4a45-918a-ac9991e95f97",
   "metadata": {},
   "outputs": [],
   "source": [
    "coef_odds_df = pd.DataFrame({'feature': feature_names, 'coefficient': coef_odds})"
   ]
  },
  {
   "cell_type": "code",
   "execution_count": 35,
   "id": "a208d7de-f1f8-425f-ae3d-f35199854d2f",
   "metadata": {},
   "outputs": [
    {
     "data": {
      "text/html": [
       "<div>\n",
       "<style scoped>\n",
       "    .dataframe tbody tr th:only-of-type {\n",
       "        vertical-align: middle;\n",
       "    }\n",
       "\n",
       "    .dataframe tbody tr th {\n",
       "        vertical-align: top;\n",
       "    }\n",
       "\n",
       "    .dataframe thead th {\n",
       "        text-align: right;\n",
       "    }\n",
       "</style>\n",
       "<table border=\"1\" class=\"dataframe\">\n",
       "  <thead>\n",
       "    <tr style=\"text-align: right;\">\n",
       "      <th></th>\n",
       "      <th>feature</th>\n",
       "      <th>coefficient</th>\n",
       "    </tr>\n",
       "  </thead>\n",
       "  <tbody>\n",
       "    <tr>\n",
       "      <th>0</th>\n",
       "      <td>amateur_built_1</td>\n",
       "      <td>0.016686</td>\n",
       "    </tr>\n",
       "  </tbody>\n",
       "</table>\n",
       "</div>"
      ],
      "text/plain": [
       "           feature  coefficient\n",
       "0  amateur_built_1     0.016686"
      ]
     },
     "execution_count": 35,
     "metadata": {},
     "output_type": "execute_result"
    }
   ],
   "source": [
    "pd.set_option('display.max_rows', None)\n",
    "coef_log_odds_df.head()"
   ]
  },
  {
   "cell_type": "code",
   "execution_count": 36,
   "id": "bbde5e2c-4e21-4bfb-8bcc-9addaf755dad",
   "metadata": {
    "tags": []
   },
   "outputs": [
    {
     "data": {
      "text/html": [
       "<div>\n",
       "<style scoped>\n",
       "    .dataframe tbody tr th:only-of-type {\n",
       "        vertical-align: middle;\n",
       "    }\n",
       "\n",
       "    .dataframe tbody tr th {\n",
       "        vertical-align: top;\n",
       "    }\n",
       "\n",
       "    .dataframe thead th {\n",
       "        text-align: right;\n",
       "    }\n",
       "</style>\n",
       "<table border=\"1\" class=\"dataframe\">\n",
       "  <thead>\n",
       "    <tr style=\"text-align: right;\">\n",
       "      <th></th>\n",
       "      <th>feature</th>\n",
       "      <th>coefficient</th>\n",
       "    </tr>\n",
       "  </thead>\n",
       "  <tbody>\n",
       "    <tr>\n",
       "      <th>0</th>\n",
       "      <td>amateur_built_1</td>\n",
       "      <td>1.016826</td>\n",
       "    </tr>\n",
       "  </tbody>\n",
       "</table>\n",
       "</div>"
      ],
      "text/plain": [
       "           feature  coefficient\n",
       "0  amateur_built_1     1.016826"
      ]
     },
     "execution_count": 36,
     "metadata": {},
     "output_type": "execute_result"
    }
   ],
   "source": [
    "pd.set_option('display.max_rows', None)\n",
    "coef_odds_df.head()"
   ]
  },
  {
   "cell_type": "code",
   "execution_count": 37,
   "id": "84e77b3f-fbbf-4f6e-a681-080e8232aab7",
   "metadata": {
    "tags": []
   },
   "outputs": [],
   "source": [
    "file_name = f\"../../datasets/nolan_logreg_{predictor}-{target}_coef.csv\"\n",
    "\n",
    "coef_log_odds_df.to_csv(file_name, index=False)"
   ]
  },
  {
   "cell_type": "markdown",
   "id": "f4f3dfab-093e-41dc-b38e-af7428bab371",
   "metadata": {},
   "source": [
    "## Pickle"
   ]
  },
  {
   "cell_type": "code",
   "execution_count": 38,
   "id": "3f5a90ff-364c-4733-b6cb-5dbb12680bae",
   "metadata": {
    "tags": []
   },
   "outputs": [],
   "source": [
    "file_name = f\"../../pickles/nolan_logreg_{predictor}-{target}.pkl\"\n",
    "\n",
    "with open(file_name, 'wb') as f:\n",
    "    pickle.dump(gs, f) "
   ]
  }
 ],
 "metadata": {
  "kernelspec": {
   "display_name": "Python 3 (ipykernel)",
   "language": "python",
   "name": "python3"
  },
  "language_info": {
   "codemirror_mode": {
    "name": "ipython",
    "version": 3
   },
   "file_extension": ".py",
   "mimetype": "text/x-python",
   "name": "python",
   "nbconvert_exporter": "python",
   "pygments_lexer": "ipython3",
   "version": "3.11.5"
  }
 },
 "nbformat": 4,
 "nbformat_minor": 5
}
