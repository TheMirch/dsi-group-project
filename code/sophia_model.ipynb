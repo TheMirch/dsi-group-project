{
 "cells": [
  {
   "cell_type": "code",
   "execution_count": 104,
   "id": "0fa43df8",
   "metadata": {},
   "outputs": [],
   "source": [
    "#imports\n",
    "import pandas as pd\n",
    "import numpy as np\n",
    "import matplotlib.pyplot as plt\n",
    "import seaborn as sns\n",
    "\n",
    "from sklearn.model_selection import train_test_split\n",
    "from sklearn.feature_extraction.text import CountVectorizer\n",
    "from sklearn.linear_model import LogisticRegression\n",
    "from sklearn.ensemble import RandomForestClassifier\n",
    "from sklearn.metrics import accuracy_score\n",
    "from nltk.stem import WordNetLemmatizer\n",
    "from nltk.tokenize import sent_tokenize, word_tokenize, RegexpTokenizer"
   ]
  },
  {
   "cell_type": "code",
   "execution_count": 105,
   "id": "84c46cbe",
   "metadata": {},
   "outputs": [
    {
     "data": {
      "text/html": [
       "<div>\n",
       "<style scoped>\n",
       "    .dataframe tbody tr th:only-of-type {\n",
       "        vertical-align: middle;\n",
       "    }\n",
       "\n",
       "    .dataframe tbody tr th {\n",
       "        vertical-align: top;\n",
       "    }\n",
       "\n",
       "    .dataframe thead th {\n",
       "        text-align: right;\n",
       "    }\n",
       "</style>\n",
       "<table border=\"1\" class=\"dataframe\">\n",
       "  <thead>\n",
       "    <tr style=\"text-align: right;\">\n",
       "      <th></th>\n",
       "      <th>ntsb_no</th>\n",
       "      <th>event_type</th>\n",
       "      <th>mkey</th>\n",
       "      <th>city</th>\n",
       "      <th>n</th>\n",
       "      <th>has_safety_rec</th>\n",
       "      <th>report_type</th>\n",
       "      <th>highest_injury_level</th>\n",
       "      <th>fatal_injury_count</th>\n",
       "      <th>serious_injury_count</th>\n",
       "      <th>minor_injury_count</th>\n",
       "      <th>probable_cause</th>\n",
       "      <th>latitude</th>\n",
       "      <th>longitude</th>\n",
       "      <th>make</th>\n",
       "      <th>model</th>\n",
       "      <th>aircraft_category</th>\n",
       "      <th>airport_id</th>\n",
       "      <th>airport_name</th>\n",
       "      <th>amateur_built</th>\n",
       "      <th>scheduled</th>\n",
       "      <th>purpose_of_flight</th>\n",
       "      <th>far</th>\n",
       "      <th>aircraft_damage</th>\n",
       "      <th>weather_condition</th>\n",
       "      <th>operator</th>\n",
       "      <th>event_year</th>\n",
       "      <th>event_month</th>\n",
       "      <th>event_day</th>\n",
       "      <th>event_time</th>\n",
       "      <th>event_hour</th>\n",
       "      <th>event_season</th>\n",
       "      <th>has_injury</th>\n",
       "      <th>has_aircraft_damage</th>\n",
       "      <th>is_accident</th>\n",
       "      <th>occurred_near_airport</th>\n",
       "      <th>make_model</th>\n",
       "      <th>aircraft_family</th>\n",
       "    </tr>\n",
       "  </thead>\n",
       "  <tbody>\n",
       "    <tr>\n",
       "      <th>0</th>\n",
       "      <td>ANC23LA086</td>\n",
       "      <td>ACC</td>\n",
       "      <td>193153</td>\n",
       "      <td>Trimble River / Skwentna</td>\n",
       "      <td>N2586R</td>\n",
       "      <td>0</td>\n",
       "      <td>DirectorBrief</td>\n",
       "      <td>None Reported</td>\n",
       "      <td>0</td>\n",
       "      <td>0</td>\n",
       "      <td>0</td>\n",
       "      <td>Unknown</td>\n",
       "      <td>61.775160</td>\n",
       "      <td>-152.152630</td>\n",
       "      <td>CESSNA</td>\n",
       "      <td>182K</td>\n",
       "      <td>AIR</td>\n",
       "      <td>No Airport</td>\n",
       "      <td>Trimble River</td>\n",
       "      <td>0</td>\n",
       "      <td>Unknown</td>\n",
       "      <td>PERS</td>\n",
       "      <td>091</td>\n",
       "      <td>Substantial</td>\n",
       "      <td>Unknown</td>\n",
       "      <td>Unknown</td>\n",
       "      <td>2023</td>\n",
       "      <td>9</td>\n",
       "      <td>24</td>\n",
       "      <td>08:30:00</td>\n",
       "      <td>8</td>\n",
       "      <td>Fall</td>\n",
       "      <td>0</td>\n",
       "      <td>1</td>\n",
       "      <td>1</td>\n",
       "      <td>0</td>\n",
       "      <td>CESSNA 182K</td>\n",
       "      <td>CESSNA 182 SKYLANE</td>\n",
       "    </tr>\n",
       "    <tr>\n",
       "      <th>1</th>\n",
       "      <td>ANC23LA084</td>\n",
       "      <td>ACC</td>\n",
       "      <td>193128</td>\n",
       "      <td>Bethel</td>\n",
       "      <td>N8192D</td>\n",
       "      <td>0</td>\n",
       "      <td>DirectorBrief</td>\n",
       "      <td>None Reported</td>\n",
       "      <td>0</td>\n",
       "      <td>0</td>\n",
       "      <td>0</td>\n",
       "      <td>Unknown</td>\n",
       "      <td>60.805019</td>\n",
       "      <td>-161.786480</td>\n",
       "      <td>PIPER</td>\n",
       "      <td>PA-18-150</td>\n",
       "      <td>AIR</td>\n",
       "      <td>No Airport</td>\n",
       "      <td>No Airport</td>\n",
       "      <td>0</td>\n",
       "      <td>Unknown</td>\n",
       "      <td>PERS</td>\n",
       "      <td>091</td>\n",
       "      <td>Substantial</td>\n",
       "      <td>Unknown</td>\n",
       "      <td>Unknown</td>\n",
       "      <td>2023</td>\n",
       "      <td>9</td>\n",
       "      <td>20</td>\n",
       "      <td>12:00:00</td>\n",
       "      <td>12</td>\n",
       "      <td>Fall</td>\n",
       "      <td>0</td>\n",
       "      <td>1</td>\n",
       "      <td>1</td>\n",
       "      <td>0</td>\n",
       "      <td>PIPER PA-18-150</td>\n",
       "      <td>PIPER PA-18 SUPER CUB</td>\n",
       "    </tr>\n",
       "    <tr>\n",
       "      <th>2</th>\n",
       "      <td>ANC23LA080</td>\n",
       "      <td>ACC</td>\n",
       "      <td>193097</td>\n",
       "      <td>Homer</td>\n",
       "      <td>N7558H</td>\n",
       "      <td>0</td>\n",
       "      <td>DirectorBrief</td>\n",
       "      <td>None Reported</td>\n",
       "      <td>0</td>\n",
       "      <td>0</td>\n",
       "      <td>0</td>\n",
       "      <td>Unknown</td>\n",
       "      <td>59.646929</td>\n",
       "      <td>-151.493230</td>\n",
       "      <td>CESSNA</td>\n",
       "      <td>A185F</td>\n",
       "      <td>AIR</td>\n",
       "      <td>5BL</td>\n",
       "      <td>HOMER-BELUGA LAKE</td>\n",
       "      <td>0</td>\n",
       "      <td>Unknown</td>\n",
       "      <td>BUS</td>\n",
       "      <td>091</td>\n",
       "      <td>Substantial</td>\n",
       "      <td>VMC</td>\n",
       "      <td>Adventure Airways</td>\n",
       "      <td>2023</td>\n",
       "      <td>9</td>\n",
       "      <td>18</td>\n",
       "      <td>13:00:00</td>\n",
       "      <td>13</td>\n",
       "      <td>Fall</td>\n",
       "      <td>0</td>\n",
       "      <td>1</td>\n",
       "      <td>1</td>\n",
       "      <td>1</td>\n",
       "      <td>CESSNA A185F</td>\n",
       "      <td>CESSNA 185 SKYWAGON</td>\n",
       "    </tr>\n",
       "    <tr>\n",
       "      <th>3</th>\n",
       "      <td>ANC23LA082</td>\n",
       "      <td>ACC</td>\n",
       "      <td>193105</td>\n",
       "      <td>Beaver Creek</td>\n",
       "      <td>N713C</td>\n",
       "      <td>0</td>\n",
       "      <td>DirectorBrief</td>\n",
       "      <td>None Reported</td>\n",
       "      <td>0</td>\n",
       "      <td>0</td>\n",
       "      <td>0</td>\n",
       "      <td>Unknown</td>\n",
       "      <td>64.267579</td>\n",
       "      <td>-147.687040</td>\n",
       "      <td>HELIO</td>\n",
       "      <td>H-295</td>\n",
       "      <td>AIR</td>\n",
       "      <td>No Airport</td>\n",
       "      <td>No Airport</td>\n",
       "      <td>0</td>\n",
       "      <td>NSCH</td>\n",
       "      <td>BUS</td>\n",
       "      <td>135</td>\n",
       "      <td>Substantial</td>\n",
       "      <td>Unknown</td>\n",
       "      <td>WRIGHT AIR SERVICE INC</td>\n",
       "      <td>2023</td>\n",
       "      <td>9</td>\n",
       "      <td>16</td>\n",
       "      <td>16:50:00</td>\n",
       "      <td>16</td>\n",
       "      <td>Fall</td>\n",
       "      <td>0</td>\n",
       "      <td>1</td>\n",
       "      <td>1</td>\n",
       "      <td>0</td>\n",
       "      <td>HELIO H-295</td>\n",
       "      <td>HELIO COURIER</td>\n",
       "    </tr>\n",
       "    <tr>\n",
       "      <th>4</th>\n",
       "      <td>ANC23LA078</td>\n",
       "      <td>ACC</td>\n",
       "      <td>193088</td>\n",
       "      <td>NENANA</td>\n",
       "      <td>N907W</td>\n",
       "      <td>0</td>\n",
       "      <td>DirectorBrief</td>\n",
       "      <td>None Reported</td>\n",
       "      <td>0</td>\n",
       "      <td>0</td>\n",
       "      <td>0</td>\n",
       "      <td>Unknown</td>\n",
       "      <td>64.650753</td>\n",
       "      <td>-149.836390</td>\n",
       "      <td>RHODES STEVEN D</td>\n",
       "      <td>SR3500</td>\n",
       "      <td>AIR</td>\n",
       "      <td>No Airport</td>\n",
       "      <td>No Airport</td>\n",
       "      <td>1</td>\n",
       "      <td>Unknown</td>\n",
       "      <td>PERS</td>\n",
       "      <td>091</td>\n",
       "      <td>Substantial</td>\n",
       "      <td>VMC</td>\n",
       "      <td>Unknown</td>\n",
       "      <td>2023</td>\n",
       "      <td>9</td>\n",
       "      <td>16</td>\n",
       "      <td>15:00:00</td>\n",
       "      <td>15</td>\n",
       "      <td>Fall</td>\n",
       "      <td>0</td>\n",
       "      <td>1</td>\n",
       "      <td>1</td>\n",
       "      <td>0</td>\n",
       "      <td>RHODES STEVEN D SR3500</td>\n",
       "      <td>UNCOMMON FAMILY</td>\n",
       "    </tr>\n",
       "    <tr>\n",
       "      <th>...</th>\n",
       "      <td>...</td>\n",
       "      <td>...</td>\n",
       "      <td>...</td>\n",
       "      <td>...</td>\n",
       "      <td>...</td>\n",
       "      <td>...</td>\n",
       "      <td>...</td>\n",
       "      <td>...</td>\n",
       "      <td>...</td>\n",
       "      <td>...</td>\n",
       "      <td>...</td>\n",
       "      <td>...</td>\n",
       "      <td>...</td>\n",
       "      <td>...</td>\n",
       "      <td>...</td>\n",
       "      <td>...</td>\n",
       "      <td>...</td>\n",
       "      <td>...</td>\n",
       "      <td>...</td>\n",
       "      <td>...</td>\n",
       "      <td>...</td>\n",
       "      <td>...</td>\n",
       "      <td>...</td>\n",
       "      <td>...</td>\n",
       "      <td>...</td>\n",
       "      <td>...</td>\n",
       "      <td>...</td>\n",
       "      <td>...</td>\n",
       "      <td>...</td>\n",
       "      <td>...</td>\n",
       "      <td>...</td>\n",
       "      <td>...</td>\n",
       "      <td>...</td>\n",
       "      <td>...</td>\n",
       "      <td>...</td>\n",
       "      <td>...</td>\n",
       "      <td>...</td>\n",
       "      <td>...</td>\n",
       "    </tr>\n",
       "    <tr>\n",
       "      <th>5585</th>\n",
       "      <td>ANC82DA014</td>\n",
       "      <td>ACC</td>\n",
       "      <td>69764</td>\n",
       "      <td>ANCHORAGE</td>\n",
       "      <td>N63516</td>\n",
       "      <td>0</td>\n",
       "      <td>DirectorBrief</td>\n",
       "      <td>Minor</td>\n",
       "      <td>0</td>\n",
       "      <td>0</td>\n",
       "      <td>1</td>\n",
       "      <td>Unknown</td>\n",
       "      <td>61.219909</td>\n",
       "      <td>-149.850982</td>\n",
       "      <td>CESSNA</td>\n",
       "      <td>150</td>\n",
       "      <td>AIR</td>\n",
       "      <td>MRI</td>\n",
       "      <td>MERRILL FIELD</td>\n",
       "      <td>0</td>\n",
       "      <td>Unknown</td>\n",
       "      <td>INST</td>\n",
       "      <td>091</td>\n",
       "      <td>Destroyed</td>\n",
       "      <td>VMC</td>\n",
       "      <td>AERO TECH FLIGHT SERVICE, WC</td>\n",
       "      <td>1982</td>\n",
       "      <td>1</td>\n",
       "      <td>17</td>\n",
       "      <td>10:12:00</td>\n",
       "      <td>10</td>\n",
       "      <td>Winter</td>\n",
       "      <td>1</td>\n",
       "      <td>1</td>\n",
       "      <td>1</td>\n",
       "      <td>1</td>\n",
       "      <td>CESSNA 150</td>\n",
       "      <td>CESSNA 150</td>\n",
       "    </tr>\n",
       "    <tr>\n",
       "      <th>5586</th>\n",
       "      <td>ANC82DA015</td>\n",
       "      <td>ACC</td>\n",
       "      <td>71905</td>\n",
       "      <td>NEAR NUIQSUT</td>\n",
       "      <td>N1459T</td>\n",
       "      <td>0</td>\n",
       "      <td>DirectorBrief</td>\n",
       "      <td>None Reported</td>\n",
       "      <td>0</td>\n",
       "      <td>0</td>\n",
       "      <td>0</td>\n",
       "      <td>Unknown</td>\n",
       "      <td>71.280578</td>\n",
       "      <td>-156.779296</td>\n",
       "      <td>DE HAVILLAND</td>\n",
       "      <td>DHC-2-MK3</td>\n",
       "      <td>AIR</td>\n",
       "      <td>No Airport</td>\n",
       "      <td>No Airport</td>\n",
       "      <td>0</td>\n",
       "      <td>NSCH</td>\n",
       "      <td>UNK</td>\n",
       "      <td>135</td>\n",
       "      <td>Substantial</td>\n",
       "      <td>VMC</td>\n",
       "      <td>SEA AIRMOTIVE, INC.</td>\n",
       "      <td>1982</td>\n",
       "      <td>1</td>\n",
       "      <td>15</td>\n",
       "      <td>17:00:00</td>\n",
       "      <td>17</td>\n",
       "      <td>Winter</td>\n",
       "      <td>0</td>\n",
       "      <td>1</td>\n",
       "      <td>1</td>\n",
       "      <td>0</td>\n",
       "      <td>DE HAVILLAND DHC-2-MK3</td>\n",
       "      <td>DE HAVILLAND DHC-2 BEAVER</td>\n",
       "    </tr>\n",
       "    <tr>\n",
       "      <th>5587</th>\n",
       "      <td>ANC82DA013</td>\n",
       "      <td>ACC</td>\n",
       "      <td>72330</td>\n",
       "      <td>QUINHAGAK</td>\n",
       "      <td>N756YN</td>\n",
       "      <td>0</td>\n",
       "      <td>DirectorBrief</td>\n",
       "      <td>Minor</td>\n",
       "      <td>0</td>\n",
       "      <td>0</td>\n",
       "      <td>3</td>\n",
       "      <td>Unknown</td>\n",
       "      <td>59.740913</td>\n",
       "      <td>-161.889205</td>\n",
       "      <td>CESSNA</td>\n",
       "      <td>U206</td>\n",
       "      <td>AIR</td>\n",
       "      <td>No Airport</td>\n",
       "      <td>No Airport</td>\n",
       "      <td>0</td>\n",
       "      <td>NSCH</td>\n",
       "      <td>UNK</td>\n",
       "      <td>135</td>\n",
       "      <td>Substantial</td>\n",
       "      <td>VMC</td>\n",
       "      <td>TRI-CITY AIR SERVICE</td>\n",
       "      <td>1982</td>\n",
       "      <td>1</td>\n",
       "      <td>10</td>\n",
       "      <td>17:55:00</td>\n",
       "      <td>17</td>\n",
       "      <td>Winter</td>\n",
       "      <td>1</td>\n",
       "      <td>1</td>\n",
       "      <td>1</td>\n",
       "      <td>0</td>\n",
       "      <td>CESSNA U206</td>\n",
       "      <td>CESSNA 206 STATIONAIR</td>\n",
       "    </tr>\n",
       "    <tr>\n",
       "      <th>5588</th>\n",
       "      <td>ANC82FA012</td>\n",
       "      <td>ACC</td>\n",
       "      <td>69937</td>\n",
       "      <td>BETHEL</td>\n",
       "      <td>N3343S</td>\n",
       "      <td>0</td>\n",
       "      <td>DirectorBrief</td>\n",
       "      <td>Serious</td>\n",
       "      <td>0</td>\n",
       "      <td>2</td>\n",
       "      <td>0</td>\n",
       "      <td>Unknown</td>\n",
       "      <td>60.809120</td>\n",
       "      <td>-161.849258</td>\n",
       "      <td>CESSNA</td>\n",
       "      <td>A185F</td>\n",
       "      <td>AIR</td>\n",
       "      <td>BET</td>\n",
       "      <td>BETHEL</td>\n",
       "      <td>0</td>\n",
       "      <td>NSCH</td>\n",
       "      <td>UNK</td>\n",
       "      <td>135</td>\n",
       "      <td>Substantial</td>\n",
       "      <td>VMC</td>\n",
       "      <td>EXECUTIVE CHARTER SERVICE</td>\n",
       "      <td>1982</td>\n",
       "      <td>1</td>\n",
       "      <td>5</td>\n",
       "      <td>09:39:00</td>\n",
       "      <td>9</td>\n",
       "      <td>Winter</td>\n",
       "      <td>1</td>\n",
       "      <td>1</td>\n",
       "      <td>1</td>\n",
       "      <td>1</td>\n",
       "      <td>CESSNA A185F</td>\n",
       "      <td>CESSNA 185 SKYWAGON</td>\n",
       "    </tr>\n",
       "    <tr>\n",
       "      <th>5589</th>\n",
       "      <td>ANC82FAG14</td>\n",
       "      <td>ACC</td>\n",
       "      <td>72628</td>\n",
       "      <td>SKWENTA</td>\n",
       "      <td>N7641A</td>\n",
       "      <td>0</td>\n",
       "      <td>DirectorBrief</td>\n",
       "      <td>Fatal</td>\n",
       "      <td>3</td>\n",
       "      <td>0</td>\n",
       "      <td>0</td>\n",
       "      <td>Unknown</td>\n",
       "      <td>61.929443</td>\n",
       "      <td>-151.730041</td>\n",
       "      <td>CESSNA</td>\n",
       "      <td>180</td>\n",
       "      <td>AIR</td>\n",
       "      <td>No Airport</td>\n",
       "      <td>No Airport</td>\n",
       "      <td>0</td>\n",
       "      <td>Unknown</td>\n",
       "      <td>PERS</td>\n",
       "      <td>091</td>\n",
       "      <td>Destroyed</td>\n",
       "      <td>VMC</td>\n",
       "      <td>LARRY A KUHN</td>\n",
       "      <td>1982</td>\n",
       "      <td>1</td>\n",
       "      <td>2</td>\n",
       "      <td>00:00:00</td>\n",
       "      <td>0</td>\n",
       "      <td>Winter</td>\n",
       "      <td>1</td>\n",
       "      <td>1</td>\n",
       "      <td>1</td>\n",
       "      <td>0</td>\n",
       "      <td>CESSNA 180</td>\n",
       "      <td>CESSNA 180 SKYWAGON</td>\n",
       "    </tr>\n",
       "  </tbody>\n",
       "</table>\n",
       "<p>5590 rows × 38 columns</p>\n",
       "</div>"
      ],
      "text/plain": [
       "         ntsb_no event_type    mkey                      city       n  \\\n",
       "0     ANC23LA086        ACC  193153  Trimble River / Skwentna  N2586R   \n",
       "1     ANC23LA084        ACC  193128                    Bethel  N8192D   \n",
       "2     ANC23LA080        ACC  193097                     Homer  N7558H   \n",
       "3     ANC23LA082        ACC  193105              Beaver Creek   N713C   \n",
       "4     ANC23LA078        ACC  193088                    NENANA   N907W   \n",
       "...          ...        ...     ...                       ...     ...   \n",
       "5585  ANC82DA014        ACC   69764                 ANCHORAGE  N63516   \n",
       "5586  ANC82DA015        ACC   71905              NEAR NUIQSUT  N1459T   \n",
       "5587  ANC82DA013        ACC   72330                 QUINHAGAK  N756YN   \n",
       "5588  ANC82FA012        ACC   69937                    BETHEL  N3343S   \n",
       "5589  ANC82FAG14        ACC   72628                   SKWENTA  N7641A   \n",
       "\n",
       "      has_safety_rec    report_type highest_injury_level  fatal_injury_count  \\\n",
       "0                  0  DirectorBrief        None Reported                   0   \n",
       "1                  0  DirectorBrief        None Reported                   0   \n",
       "2                  0  DirectorBrief        None Reported                   0   \n",
       "3                  0  DirectorBrief        None Reported                   0   \n",
       "4                  0  DirectorBrief        None Reported                   0   \n",
       "...              ...            ...                  ...                 ...   \n",
       "5585               0  DirectorBrief                Minor                   0   \n",
       "5586               0  DirectorBrief        None Reported                   0   \n",
       "5587               0  DirectorBrief                Minor                   0   \n",
       "5588               0  DirectorBrief              Serious                   0   \n",
       "5589               0  DirectorBrief                Fatal                   3   \n",
       "\n",
       "      serious_injury_count  minor_injury_count probable_cause   latitude  \\\n",
       "0                        0                   0        Unknown  61.775160   \n",
       "1                        0                   0        Unknown  60.805019   \n",
       "2                        0                   0        Unknown  59.646929   \n",
       "3                        0                   0        Unknown  64.267579   \n",
       "4                        0                   0        Unknown  64.650753   \n",
       "...                    ...                 ...            ...        ...   \n",
       "5585                     0                   1        Unknown  61.219909   \n",
       "5586                     0                   0        Unknown  71.280578   \n",
       "5587                     0                   3        Unknown  59.740913   \n",
       "5588                     2                   0        Unknown  60.809120   \n",
       "5589                     0                   0        Unknown  61.929443   \n",
       "\n",
       "       longitude             make      model aircraft_category  airport_id  \\\n",
       "0    -152.152630           CESSNA       182K               AIR  No Airport   \n",
       "1    -161.786480            PIPER  PA-18-150               AIR  No Airport   \n",
       "2    -151.493230           CESSNA      A185F               AIR         5BL   \n",
       "3    -147.687040            HELIO      H-295               AIR  No Airport   \n",
       "4    -149.836390  RHODES STEVEN D     SR3500               AIR  No Airport   \n",
       "...          ...              ...        ...               ...         ...   \n",
       "5585 -149.850982           CESSNA        150               AIR         MRI   \n",
       "5586 -156.779296     DE HAVILLAND  DHC-2-MK3               AIR  No Airport   \n",
       "5587 -161.889205           CESSNA       U206               AIR  No Airport   \n",
       "5588 -161.849258           CESSNA      A185F               AIR         BET   \n",
       "5589 -151.730041           CESSNA        180               AIR  No Airport   \n",
       "\n",
       "           airport_name  amateur_built scheduled purpose_of_flight  far  \\\n",
       "0         Trimble River              0   Unknown              PERS  091   \n",
       "1            No Airport              0   Unknown              PERS  091   \n",
       "2     HOMER-BELUGA LAKE              0   Unknown               BUS  091   \n",
       "3            No Airport              0      NSCH               BUS  135   \n",
       "4            No Airport              1   Unknown              PERS  091   \n",
       "...                 ...            ...       ...               ...  ...   \n",
       "5585      MERRILL FIELD              0   Unknown              INST  091   \n",
       "5586         No Airport              0      NSCH               UNK  135   \n",
       "5587         No Airport              0      NSCH               UNK  135   \n",
       "5588             BETHEL              0      NSCH               UNK  135   \n",
       "5589         No Airport              0   Unknown              PERS  091   \n",
       "\n",
       "     aircraft_damage weather_condition                      operator  \\\n",
       "0        Substantial           Unknown                       Unknown   \n",
       "1        Substantial           Unknown                       Unknown   \n",
       "2        Substantial               VMC             Adventure Airways   \n",
       "3        Substantial           Unknown        WRIGHT AIR SERVICE INC   \n",
       "4        Substantial               VMC                       Unknown   \n",
       "...              ...               ...                           ...   \n",
       "5585       Destroyed               VMC  AERO TECH FLIGHT SERVICE, WC   \n",
       "5586     Substantial               VMC           SEA AIRMOTIVE, INC.   \n",
       "5587     Substantial               VMC          TRI-CITY AIR SERVICE   \n",
       "5588     Substantial               VMC     EXECUTIVE CHARTER SERVICE   \n",
       "5589       Destroyed               VMC                  LARRY A KUHN   \n",
       "\n",
       "      event_year  event_month  event_day event_time  event_hour event_season  \\\n",
       "0           2023            9         24   08:30:00           8         Fall   \n",
       "1           2023            9         20   12:00:00          12         Fall   \n",
       "2           2023            9         18   13:00:00          13         Fall   \n",
       "3           2023            9         16   16:50:00          16         Fall   \n",
       "4           2023            9         16   15:00:00          15         Fall   \n",
       "...          ...          ...        ...        ...         ...          ...   \n",
       "5585        1982            1         17   10:12:00          10       Winter   \n",
       "5586        1982            1         15   17:00:00          17       Winter   \n",
       "5587        1982            1         10   17:55:00          17       Winter   \n",
       "5588        1982            1          5   09:39:00           9       Winter   \n",
       "5589        1982            1          2   00:00:00           0       Winter   \n",
       "\n",
       "      has_injury  has_aircraft_damage  is_accident  occurred_near_airport  \\\n",
       "0              0                    1            1                      0   \n",
       "1              0                    1            1                      0   \n",
       "2              0                    1            1                      1   \n",
       "3              0                    1            1                      0   \n",
       "4              0                    1            1                      0   \n",
       "...          ...                  ...          ...                    ...   \n",
       "5585           1                    1            1                      1   \n",
       "5586           0                    1            1                      0   \n",
       "5587           1                    1            1                      0   \n",
       "5588           1                    1            1                      1   \n",
       "5589           1                    1            1                      0   \n",
       "\n",
       "                  make_model            aircraft_family  \n",
       "0                CESSNA 182K         CESSNA 182 SKYLANE  \n",
       "1            PIPER PA-18-150      PIPER PA-18 SUPER CUB  \n",
       "2               CESSNA A185F        CESSNA 185 SKYWAGON  \n",
       "3                HELIO H-295              HELIO COURIER  \n",
       "4     RHODES STEVEN D SR3500            UNCOMMON FAMILY  \n",
       "...                      ...                        ...  \n",
       "5585              CESSNA 150                 CESSNA 150  \n",
       "5586  DE HAVILLAND DHC-2-MK3  DE HAVILLAND DHC-2 BEAVER  \n",
       "5587             CESSNA U206      CESSNA 206 STATIONAIR  \n",
       "5588            CESSNA A185F        CESSNA 185 SKYWAGON  \n",
       "5589              CESSNA 180        CESSNA 180 SKYWAGON  \n",
       "\n",
       "[5590 rows x 38 columns]"
      ]
     },
     "execution_count": 105,
     "metadata": {},
     "output_type": "execute_result"
    }
   ],
   "source": [
    "#read in csv\n",
    "alaska = pd.read_csv('../datasets/alaska_single_engine_clean.csv')\n",
    "pd.set_option('display.max_columns', None)\n",
    "alaska"
   ]
  },
  {
   "cell_type": "code",
   "execution_count": 106,
   "id": "27656606",
   "metadata": {},
   "outputs": [],
   "source": [
    "#function to preprocess the 'ProbableCause' column\n",
    "#this function takes the text from the csv and preprocesses it \n",
    "#(changes to lower case, sent tokenzies, word tokenizes,\n",
    "#removes unnecessary characters, lemmatizes, and puts it in a dataframe)\n",
    "#help for this function was used from https://git.generalassemb.ly/dsi-911/504-lesson-nlp-i/blob/master/solution-code/solution-code.ipynb and my previous project 3\n",
    "def preprocessing(dataframe, prob_cause):\n",
    "    lemmatizer = WordNetLemmatizer()\n",
    "    tokenizer = RegexpTokenizer('\\w+')\n",
    "    text = dataframe[prob_cause]\n",
    "    \n",
    "    lemmatized_data = []\n",
    "    text = [sent_tokenize(t) for t in text]\n",
    "    \n",
    "    for sentences in text:\n",
    "        sentence = []\n",
    "        for s in sentences:\n",
    "            words = tokenizer.tokenize(s)\n",
    "            words_lemmatized = [lemmatizer.lemmatize(word.lower()) for word in words]\n",
    "            sentences_lemmatized = ' '.join(words_lemmatized)\n",
    "            sentence.append(sentences_lemmatized)\n",
    "        lemmatized_data.append(sentence)\n",
    "    \n",
    "    new_data = [' '.join(s) for s in lemmatized_data]\n",
    "    new_df = pd.DataFrame({'probable_cause': new_data, 'mkey': alaska['mkey'], 'weather': alaska['weather_condition'], 'season': alaska['event_season'], 'make': alaska['make'], 'model': alaska['model'], 'damage': alaska['aircraft_damage'], 'latitude': alaska['latitude'], 'longitude': alaska['longitude'], 'highest_injury': alaska['highest_injury_level']})\n",
    "    \n",
    "    return new_df"
   ]
  },
  {
   "cell_type": "code",
   "execution_count": 107,
   "id": "3437e011",
   "metadata": {},
   "outputs": [
    {
     "data": {
      "text/html": [
       "<div>\n",
       "<style scoped>\n",
       "    .dataframe tbody tr th:only-of-type {\n",
       "        vertical-align: middle;\n",
       "    }\n",
       "\n",
       "    .dataframe tbody tr th {\n",
       "        vertical-align: top;\n",
       "    }\n",
       "\n",
       "    .dataframe thead th {\n",
       "        text-align: right;\n",
       "    }\n",
       "</style>\n",
       "<table border=\"1\" class=\"dataframe\">\n",
       "  <thead>\n",
       "    <tr style=\"text-align: right;\">\n",
       "      <th></th>\n",
       "      <th>probable_cause</th>\n",
       "      <th>mkey</th>\n",
       "      <th>weather</th>\n",
       "      <th>season</th>\n",
       "      <th>make</th>\n",
       "      <th>model</th>\n",
       "      <th>damage</th>\n",
       "      <th>latitude</th>\n",
       "      <th>longitude</th>\n",
       "      <th>highest_injury</th>\n",
       "    </tr>\n",
       "  </thead>\n",
       "  <tbody>\n",
       "    <tr>\n",
       "      <th>0</th>\n",
       "      <td>unknown</td>\n",
       "      <td>193153</td>\n",
       "      <td>Unknown</td>\n",
       "      <td>Fall</td>\n",
       "      <td>CESSNA</td>\n",
       "      <td>182K</td>\n",
       "      <td>Substantial</td>\n",
       "      <td>61.775160</td>\n",
       "      <td>-152.15263</td>\n",
       "      <td>None Reported</td>\n",
       "    </tr>\n",
       "    <tr>\n",
       "      <th>1</th>\n",
       "      <td>unknown</td>\n",
       "      <td>193128</td>\n",
       "      <td>Unknown</td>\n",
       "      <td>Fall</td>\n",
       "      <td>PIPER</td>\n",
       "      <td>PA-18-150</td>\n",
       "      <td>Substantial</td>\n",
       "      <td>60.805019</td>\n",
       "      <td>-161.78648</td>\n",
       "      <td>None Reported</td>\n",
       "    </tr>\n",
       "    <tr>\n",
       "      <th>2</th>\n",
       "      <td>unknown</td>\n",
       "      <td>193097</td>\n",
       "      <td>VMC</td>\n",
       "      <td>Fall</td>\n",
       "      <td>CESSNA</td>\n",
       "      <td>A185F</td>\n",
       "      <td>Substantial</td>\n",
       "      <td>59.646929</td>\n",
       "      <td>-151.49323</td>\n",
       "      <td>None Reported</td>\n",
       "    </tr>\n",
       "    <tr>\n",
       "      <th>3</th>\n",
       "      <td>unknown</td>\n",
       "      <td>193105</td>\n",
       "      <td>Unknown</td>\n",
       "      <td>Fall</td>\n",
       "      <td>HELIO</td>\n",
       "      <td>H-295</td>\n",
       "      <td>Substantial</td>\n",
       "      <td>64.267579</td>\n",
       "      <td>-147.68704</td>\n",
       "      <td>None Reported</td>\n",
       "    </tr>\n",
       "    <tr>\n",
       "      <th>4</th>\n",
       "      <td>unknown</td>\n",
       "      <td>193088</td>\n",
       "      <td>VMC</td>\n",
       "      <td>Fall</td>\n",
       "      <td>RHODES STEVEN D</td>\n",
       "      <td>SR3500</td>\n",
       "      <td>Substantial</td>\n",
       "      <td>64.650753</td>\n",
       "      <td>-149.83639</td>\n",
       "      <td>None Reported</td>\n",
       "    </tr>\n",
       "  </tbody>\n",
       "</table>\n",
       "</div>"
      ],
      "text/plain": [
       "  probable_cause    mkey  weather season             make      model  \\\n",
       "0        unknown  193153  Unknown   Fall           CESSNA       182K   \n",
       "1        unknown  193128  Unknown   Fall            PIPER  PA-18-150   \n",
       "2        unknown  193097      VMC   Fall           CESSNA      A185F   \n",
       "3        unknown  193105  Unknown   Fall            HELIO      H-295   \n",
       "4        unknown  193088      VMC   Fall  RHODES STEVEN D     SR3500   \n",
       "\n",
       "        damage   latitude  longitude highest_injury  \n",
       "0  Substantial  61.775160 -152.15263  None Reported  \n",
       "1  Substantial  60.805019 -161.78648  None Reported  \n",
       "2  Substantial  59.646929 -151.49323  None Reported  \n",
       "3  Substantial  64.267579 -147.68704  None Reported  \n",
       "4  Substantial  64.650753 -149.83639  None Reported  "
      ]
     },
     "execution_count": 107,
     "metadata": {},
     "output_type": "execute_result"
    }
   ],
   "source": [
    "new_alaska = preprocessing(alaska, 'probable_cause')\n",
    "new_alaska.head()"
   ]
  },
  {
   "cell_type": "markdown",
   "id": "9fea8fa1",
   "metadata": {},
   "source": [
    "# Model for Probable Cause of Airplane"
   ]
  },
  {
   "cell_type": "code",
   "execution_count": 108,
   "id": "776d5d99",
   "metadata": {},
   "outputs": [],
   "source": [
    "#X = new_alaska.drop('highest_injury', axis=1)\n",
    "X = new_alaska['probable_cause']\n",
    "y = new_alaska['highest_injury']"
   ]
  },
  {
   "cell_type": "code",
   "execution_count": 109,
   "id": "51ddc294",
   "metadata": {},
   "outputs": [],
   "source": [
    "X_train, X_test, y_train, y_test = train_test_split(X, y, random_state=42)"
   ]
  },
  {
   "cell_type": "markdown",
   "id": "b6b4ae38",
   "metadata": {},
   "source": [
    "# CountVectorizer"
   ]
  },
  {
   "cell_type": "code",
   "execution_count": 111,
   "id": "b0020b47",
   "metadata": {},
   "outputs": [],
   "source": [
    "cvec = CountVectorizer(stop_words='english')"
   ]
  },
  {
   "cell_type": "code",
   "execution_count": 112,
   "id": "0ceb908b",
   "metadata": {},
   "outputs": [
    {
     "data": {
      "text/html": [
       "<style>#sk-container-id-12 {color: black;}#sk-container-id-12 pre{padding: 0;}#sk-container-id-12 div.sk-toggleable {background-color: white;}#sk-container-id-12 label.sk-toggleable__label {cursor: pointer;display: block;width: 100%;margin-bottom: 0;padding: 0.3em;box-sizing: border-box;text-align: center;}#sk-container-id-12 label.sk-toggleable__label-arrow:before {content: \"▸\";float: left;margin-right: 0.25em;color: #696969;}#sk-container-id-12 label.sk-toggleable__label-arrow:hover:before {color: black;}#sk-container-id-12 div.sk-estimator:hover label.sk-toggleable__label-arrow:before {color: black;}#sk-container-id-12 div.sk-toggleable__content {max-height: 0;max-width: 0;overflow: hidden;text-align: left;background-color: #f0f8ff;}#sk-container-id-12 div.sk-toggleable__content pre {margin: 0.2em;color: black;border-radius: 0.25em;background-color: #f0f8ff;}#sk-container-id-12 input.sk-toggleable__control:checked~div.sk-toggleable__content {max-height: 200px;max-width: 100%;overflow: auto;}#sk-container-id-12 input.sk-toggleable__control:checked~label.sk-toggleable__label-arrow:before {content: \"▾\";}#sk-container-id-12 div.sk-estimator input.sk-toggleable__control:checked~label.sk-toggleable__label {background-color: #d4ebff;}#sk-container-id-12 div.sk-label input.sk-toggleable__control:checked~label.sk-toggleable__label {background-color: #d4ebff;}#sk-container-id-12 input.sk-hidden--visually {border: 0;clip: rect(1px 1px 1px 1px);clip: rect(1px, 1px, 1px, 1px);height: 1px;margin: -1px;overflow: hidden;padding: 0;position: absolute;width: 1px;}#sk-container-id-12 div.sk-estimator {font-family: monospace;background-color: #f0f8ff;border: 1px dotted black;border-radius: 0.25em;box-sizing: border-box;margin-bottom: 0.5em;}#sk-container-id-12 div.sk-estimator:hover {background-color: #d4ebff;}#sk-container-id-12 div.sk-parallel-item::after {content: \"\";width: 100%;border-bottom: 1px solid gray;flex-grow: 1;}#sk-container-id-12 div.sk-label:hover label.sk-toggleable__label {background-color: #d4ebff;}#sk-container-id-12 div.sk-serial::before {content: \"\";position: absolute;border-left: 1px solid gray;box-sizing: border-box;top: 0;bottom: 0;left: 50%;z-index: 0;}#sk-container-id-12 div.sk-serial {display: flex;flex-direction: column;align-items: center;background-color: white;padding-right: 0.2em;padding-left: 0.2em;position: relative;}#sk-container-id-12 div.sk-item {position: relative;z-index: 1;}#sk-container-id-12 div.sk-parallel {display: flex;align-items: stretch;justify-content: center;background-color: white;position: relative;}#sk-container-id-12 div.sk-item::before, #sk-container-id-12 div.sk-parallel-item::before {content: \"\";position: absolute;border-left: 1px solid gray;box-sizing: border-box;top: 0;bottom: 0;left: 50%;z-index: -1;}#sk-container-id-12 div.sk-parallel-item {display: flex;flex-direction: column;z-index: 1;position: relative;background-color: white;}#sk-container-id-12 div.sk-parallel-item:first-child::after {align-self: flex-end;width: 50%;}#sk-container-id-12 div.sk-parallel-item:last-child::after {align-self: flex-start;width: 50%;}#sk-container-id-12 div.sk-parallel-item:only-child::after {width: 0;}#sk-container-id-12 div.sk-dashed-wrapped {border: 1px dashed gray;margin: 0 0.4em 0.5em 0.4em;box-sizing: border-box;padding-bottom: 0.4em;background-color: white;}#sk-container-id-12 div.sk-label label {font-family: monospace;font-weight: bold;display: inline-block;line-height: 1.2em;}#sk-container-id-12 div.sk-label-container {text-align: center;}#sk-container-id-12 div.sk-container {/* jupyter's `normalize.less` sets `[hidden] { display: none; }` but bootstrap.min.css set `[hidden] { display: none !important; }` so we also need the `!important` here to be able to override the default hidden behavior on the sphinx rendered scikit-learn.org. See: https://github.com/scikit-learn/scikit-learn/issues/21755 */display: inline-block !important;position: relative;}#sk-container-id-12 div.sk-text-repr-fallback {display: none;}</style><div id=\"sk-container-id-12\" class=\"sk-top-container\"><div class=\"sk-text-repr-fallback\"><pre>CountVectorizer(stop_words=&#x27;english&#x27;)</pre><b>In a Jupyter environment, please rerun this cell to show the HTML representation or trust the notebook. <br />On GitHub, the HTML representation is unable to render, please try loading this page with nbviewer.org.</b></div><div class=\"sk-container\" hidden><div class=\"sk-item\"><div class=\"sk-estimator sk-toggleable\"><input class=\"sk-toggleable__control sk-hidden--visually\" id=\"sk-estimator-id-12\" type=\"checkbox\" checked><label for=\"sk-estimator-id-12\" class=\"sk-toggleable__label sk-toggleable__label-arrow\">CountVectorizer</label><div class=\"sk-toggleable__content\"><pre>CountVectorizer(stop_words=&#x27;english&#x27;)</pre></div></div></div></div></div>"
      ],
      "text/plain": [
       "CountVectorizer(stop_words='english')"
      ]
     },
     "execution_count": 112,
     "metadata": {},
     "output_type": "execute_result"
    }
   ],
   "source": [
    "cvec.fit(X_train)"
   ]
  },
  {
   "cell_type": "code",
   "execution_count": 113,
   "id": "b6031a86",
   "metadata": {},
   "outputs": [],
   "source": [
    "X_train = cvec.transform(X_train)"
   ]
  },
  {
   "cell_type": "code",
   "execution_count": 114,
   "id": "582f97c4",
   "metadata": {},
   "outputs": [],
   "source": [
    "X_test = cvec.transform(X_test)"
   ]
  },
  {
   "cell_type": "code",
   "execution_count": 115,
   "id": "cb6001ed",
   "metadata": {},
   "outputs": [],
   "source": [
    "X_train_df = pd.DataFrame(X_train.todense(), columns=cvec.get_feature_names_out())"
   ]
  },
  {
   "cell_type": "code",
   "execution_count": null,
   "id": "ed224c7b",
   "metadata": {},
   "outputs": [],
   "source": []
  },
  {
   "cell_type": "code",
   "execution_count": 142,
   "id": "99927b4a",
   "metadata": {},
   "outputs": [],
   "source": [
    "#train test split for n-grams\n",
    "X_train_n, X_test_n, y_train_n, y_test_n = train_test_split(X, y, random_state=42)"
   ]
  },
  {
   "cell_type": "markdown",
   "id": "40a3b72d",
   "metadata": {},
   "source": [
    "# Count Vectorizer for N-grams"
   ]
  },
  {
   "cell_type": "code",
   "execution_count": 143,
   "id": "37a1bc39",
   "metadata": {},
   "outputs": [],
   "source": [
    "cvec_n = CountVectorizer(stop_words='english', ngram_range=(4,4))\n",
    "\n",
    "cvec_n.fit(X_train_n)\n",
    "\n",
    "X_train_n = cvec_n.transform(X_train_n)\n",
    "X_test_n = cvec_n.transform(X_test_n)"
   ]
  },
  {
   "cell_type": "code",
   "execution_count": 144,
   "id": "4b91f244",
   "metadata": {},
   "outputs": [],
   "source": [
    "X_train_df_n = pd.DataFrame(X_train_n.todense(), \n",
    "                          columns=cvec_n.get_feature_names_out())"
   ]
  },
  {
   "cell_type": "code",
   "execution_count": 150,
   "id": "66ab65ec",
   "metadata": {},
   "outputs": [
    {
     "data": {
      "image/png": "[encoded data removed]",
      "text/plain": [
       "<Figure size 1000x600 with 1 Axes>"
      ]
     },
     "metadata": {},
     "output_type": "display_data"
    }
   ],
   "source": [
    "#help for this was used from https://stackoverflow.com/questions/37427362/plt-show-shows-full-graph-but-savefig-is-cropping-the-image\n",
    "X_train_df_n.sum().sort_values(ascending = False).head(10).plot(kind = 'barh', color='#78A7AF');\n",
    "fig = plt.gcf()\n",
    "fig.set_size_inches(10, 6)\n",
    "plt.savefig('probable_cause.png', dpi=300, bbox_inches='tight')\n",
    "plt.show()"
   ]
  },
  {
   "cell_type": "markdown",
   "id": "fcc87823",
   "metadata": {},
   "source": [
    "# Logistic Regression Model"
   ]
  },
  {
   "cell_type": "code",
   "execution_count": 117,
   "id": "46f5c77b",
   "metadata": {},
   "outputs": [
    {
     "data": {
      "text/html": [
       "<style>#sk-container-id-13 {color: black;}#sk-container-id-13 pre{padding: 0;}#sk-container-id-13 div.sk-toggleable {background-color: white;}#sk-container-id-13 label.sk-toggleable__label {cursor: pointer;display: block;width: 100%;margin-bottom: 0;padding: 0.3em;box-sizing: border-box;text-align: center;}#sk-container-id-13 label.sk-toggleable__label-arrow:before {content: \"▸\";float: left;margin-right: 0.25em;color: #696969;}#sk-container-id-13 label.sk-toggleable__label-arrow:hover:before {color: black;}#sk-container-id-13 div.sk-estimator:hover label.sk-toggleable__label-arrow:before {color: black;}#sk-container-id-13 div.sk-toggleable__content {max-height: 0;max-width: 0;overflow: hidden;text-align: left;background-color: #f0f8ff;}#sk-container-id-13 div.sk-toggleable__content pre {margin: 0.2em;color: black;border-radius: 0.25em;background-color: #f0f8ff;}#sk-container-id-13 input.sk-toggleable__control:checked~div.sk-toggleable__content {max-height: 200px;max-width: 100%;overflow: auto;}#sk-container-id-13 input.sk-toggleable__control:checked~label.sk-toggleable__label-arrow:before {content: \"▾\";}#sk-container-id-13 div.sk-estimator input.sk-toggleable__control:checked~label.sk-toggleable__label {background-color: #d4ebff;}#sk-container-id-13 div.sk-label input.sk-toggleable__control:checked~label.sk-toggleable__label {background-color: #d4ebff;}#sk-container-id-13 input.sk-hidden--visually {border: 0;clip: rect(1px 1px 1px 1px);clip: rect(1px, 1px, 1px, 1px);height: 1px;margin: -1px;overflow: hidden;padding: 0;position: absolute;width: 1px;}#sk-container-id-13 div.sk-estimator {font-family: monospace;background-color: #f0f8ff;border: 1px dotted black;border-radius: 0.25em;box-sizing: border-box;margin-bottom: 0.5em;}#sk-container-id-13 div.sk-estimator:hover {background-color: #d4ebff;}#sk-container-id-13 div.sk-parallel-item::after {content: \"\";width: 100%;border-bottom: 1px solid gray;flex-grow: 1;}#sk-container-id-13 div.sk-label:hover label.sk-toggleable__label {background-color: #d4ebff;}#sk-container-id-13 div.sk-serial::before {content: \"\";position: absolute;border-left: 1px solid gray;box-sizing: border-box;top: 0;bottom: 0;left: 50%;z-index: 0;}#sk-container-id-13 div.sk-serial {display: flex;flex-direction: column;align-items: center;background-color: white;padding-right: 0.2em;padding-left: 0.2em;position: relative;}#sk-container-id-13 div.sk-item {position: relative;z-index: 1;}#sk-container-id-13 div.sk-parallel {display: flex;align-items: stretch;justify-content: center;background-color: white;position: relative;}#sk-container-id-13 div.sk-item::before, #sk-container-id-13 div.sk-parallel-item::before {content: \"\";position: absolute;border-left: 1px solid gray;box-sizing: border-box;top: 0;bottom: 0;left: 50%;z-index: -1;}#sk-container-id-13 div.sk-parallel-item {display: flex;flex-direction: column;z-index: 1;position: relative;background-color: white;}#sk-container-id-13 div.sk-parallel-item:first-child::after {align-self: flex-end;width: 50%;}#sk-container-id-13 div.sk-parallel-item:last-child::after {align-self: flex-start;width: 50%;}#sk-container-id-13 div.sk-parallel-item:only-child::after {width: 0;}#sk-container-id-13 div.sk-dashed-wrapped {border: 1px dashed gray;margin: 0 0.4em 0.5em 0.4em;box-sizing: border-box;padding-bottom: 0.4em;background-color: white;}#sk-container-id-13 div.sk-label label {font-family: monospace;font-weight: bold;display: inline-block;line-height: 1.2em;}#sk-container-id-13 div.sk-label-container {text-align: center;}#sk-container-id-13 div.sk-container {/* jupyter's `normalize.less` sets `[hidden] { display: none; }` but bootstrap.min.css set `[hidden] { display: none !important; }` so we also need the `!important` here to be able to override the default hidden behavior on the sphinx rendered scikit-learn.org. See: https://github.com/scikit-learn/scikit-learn/issues/21755 */display: inline-block !important;position: relative;}#sk-container-id-13 div.sk-text-repr-fallback {display: none;}</style><div id=\"sk-container-id-13\" class=\"sk-top-container\"><div class=\"sk-text-repr-fallback\"><pre>LogisticRegression(penalty=&#x27;l1&#x27;, solver=&#x27;liblinear&#x27;)</pre><b>In a Jupyter environment, please rerun this cell to show the HTML representation or trust the notebook. <br />On GitHub, the HTML representation is unable to render, please try loading this page with nbviewer.org.</b></div><div class=\"sk-container\" hidden><div class=\"sk-item\"><div class=\"sk-estimator sk-toggleable\"><input class=\"sk-toggleable__control sk-hidden--visually\" id=\"sk-estimator-id-13\" type=\"checkbox\" checked><label for=\"sk-estimator-id-13\" class=\"sk-toggleable__label sk-toggleable__label-arrow\">LogisticRegression</label><div class=\"sk-toggleable__content\"><pre>LogisticRegression(penalty=&#x27;l1&#x27;, solver=&#x27;liblinear&#x27;)</pre></div></div></div></div></div>"
      ],
      "text/plain": [
       "LogisticRegression(penalty='l1', solver='liblinear')"
      ]
     },
     "execution_count": 117,
     "metadata": {},
     "output_type": "execute_result"
    }
   ],
   "source": [
    "lr = LogisticRegression(penalty = 'l1', solver='liblinear')\n",
    "\n",
    "lr.fit(X_train, y_train)"
   ]
  },
  {
   "cell_type": "code",
   "execution_count": 118,
   "id": "c6107bd9",
   "metadata": {},
   "outputs": [],
   "source": [
    "preds = lr.predict(X_test)"
   ]
  },
  {
   "cell_type": "code",
   "execution_count": 119,
   "id": "05b90f54",
   "metadata": {},
   "outputs": [
    {
     "data": {
      "text/plain": [
       "0.7788645038167938"
      ]
     },
     "execution_count": 119,
     "metadata": {},
     "output_type": "execute_result"
    }
   ],
   "source": [
    "lr.score(X_train, y_train)"
   ]
  },
  {
   "cell_type": "code",
   "execution_count": 120,
   "id": "bd840c22",
   "metadata": {},
   "outputs": [
    {
     "data": {
      "text/plain": [
       "0.748211731044349"
      ]
     },
     "execution_count": 120,
     "metadata": {},
     "output_type": "execute_result"
    }
   ],
   "source": [
    "lr.score(X_test, y_test)"
   ]
  },
  {
   "cell_type": "code",
   "execution_count": null,
   "id": "0c3d824a",
   "metadata": {},
   "outputs": [],
   "source": []
  },
  {
   "cell_type": "code",
   "execution_count": null,
   "id": "ed432ee4",
   "metadata": {},
   "outputs": [],
   "source": []
  },
  {
   "cell_type": "markdown",
   "id": "b9984e7a",
   "metadata": {},
   "source": [
    "# Random Forest Classifier"
   ]
  },
  {
   "cell_type": "code",
   "execution_count": 121,
   "id": "470c2986",
   "metadata": {},
   "outputs": [
    {
     "data": {
      "text/html": [
       "<style>#sk-container-id-14 {color: black;}#sk-container-id-14 pre{padding: 0;}#sk-container-id-14 div.sk-toggleable {background-color: white;}#sk-container-id-14 label.sk-toggleable__label {cursor: pointer;display: block;width: 100%;margin-bottom: 0;padding: 0.3em;box-sizing: border-box;text-align: center;}#sk-container-id-14 label.sk-toggleable__label-arrow:before {content: \"▸\";float: left;margin-right: 0.25em;color: #696969;}#sk-container-id-14 label.sk-toggleable__label-arrow:hover:before {color: black;}#sk-container-id-14 div.sk-estimator:hover label.sk-toggleable__label-arrow:before {color: black;}#sk-container-id-14 div.sk-toggleable__content {max-height: 0;max-width: 0;overflow: hidden;text-align: left;background-color: #f0f8ff;}#sk-container-id-14 div.sk-toggleable__content pre {margin: 0.2em;color: black;border-radius: 0.25em;background-color: #f0f8ff;}#sk-container-id-14 input.sk-toggleable__control:checked~div.sk-toggleable__content {max-height: 200px;max-width: 100%;overflow: auto;}#sk-container-id-14 input.sk-toggleable__control:checked~label.sk-toggleable__label-arrow:before {content: \"▾\";}#sk-container-id-14 div.sk-estimator input.sk-toggleable__control:checked~label.sk-toggleable__label {background-color: #d4ebff;}#sk-container-id-14 div.sk-label input.sk-toggleable__control:checked~label.sk-toggleable__label {background-color: #d4ebff;}#sk-container-id-14 input.sk-hidden--visually {border: 0;clip: rect(1px 1px 1px 1px);clip: rect(1px, 1px, 1px, 1px);height: 1px;margin: -1px;overflow: hidden;padding: 0;position: absolute;width: 1px;}#sk-container-id-14 div.sk-estimator {font-family: monospace;background-color: #f0f8ff;border: 1px dotted black;border-radius: 0.25em;box-sizing: border-box;margin-bottom: 0.5em;}#sk-container-id-14 div.sk-estimator:hover {background-color: #d4ebff;}#sk-container-id-14 div.sk-parallel-item::after {content: \"\";width: 100%;border-bottom: 1px solid gray;flex-grow: 1;}#sk-container-id-14 div.sk-label:hover label.sk-toggleable__label {background-color: #d4ebff;}#sk-container-id-14 div.sk-serial::before {content: \"\";position: absolute;border-left: 1px solid gray;box-sizing: border-box;top: 0;bottom: 0;left: 50%;z-index: 0;}#sk-container-id-14 div.sk-serial {display: flex;flex-direction: column;align-items: center;background-color: white;padding-right: 0.2em;padding-left: 0.2em;position: relative;}#sk-container-id-14 div.sk-item {position: relative;z-index: 1;}#sk-container-id-14 div.sk-parallel {display: flex;align-items: stretch;justify-content: center;background-color: white;position: relative;}#sk-container-id-14 div.sk-item::before, #sk-container-id-14 div.sk-parallel-item::before {content: \"\";position: absolute;border-left: 1px solid gray;box-sizing: border-box;top: 0;bottom: 0;left: 50%;z-index: -1;}#sk-container-id-14 div.sk-parallel-item {display: flex;flex-direction: column;z-index: 1;position: relative;background-color: white;}#sk-container-id-14 div.sk-parallel-item:first-child::after {align-self: flex-end;width: 50%;}#sk-container-id-14 div.sk-parallel-item:last-child::after {align-self: flex-start;width: 50%;}#sk-container-id-14 div.sk-parallel-item:only-child::after {width: 0;}#sk-container-id-14 div.sk-dashed-wrapped {border: 1px dashed gray;margin: 0 0.4em 0.5em 0.4em;box-sizing: border-box;padding-bottom: 0.4em;background-color: white;}#sk-container-id-14 div.sk-label label {font-family: monospace;font-weight: bold;display: inline-block;line-height: 1.2em;}#sk-container-id-14 div.sk-label-container {text-align: center;}#sk-container-id-14 div.sk-container {/* jupyter's `normalize.less` sets `[hidden] { display: none; }` but bootstrap.min.css set `[hidden] { display: none !important; }` so we also need the `!important` here to be able to override the default hidden behavior on the sphinx rendered scikit-learn.org. See: https://github.com/scikit-learn/scikit-learn/issues/21755 */display: inline-block !important;position: relative;}#sk-container-id-14 div.sk-text-repr-fallback {display: none;}</style><div id=\"sk-container-id-14\" class=\"sk-top-container\"><div class=\"sk-text-repr-fallback\"><pre>RandomForestClassifier(oob_score=True)</pre><b>In a Jupyter environment, please rerun this cell to show the HTML representation or trust the notebook. <br />On GitHub, the HTML representation is unable to render, please try loading this page with nbviewer.org.</b></div><div class=\"sk-container\" hidden><div class=\"sk-item\"><div class=\"sk-estimator sk-toggleable\"><input class=\"sk-toggleable__control sk-hidden--visually\" id=\"sk-estimator-id-14\" type=\"checkbox\" checked><label for=\"sk-estimator-id-14\" class=\"sk-toggleable__label sk-toggleable__label-arrow\">RandomForestClassifier</label><div class=\"sk-toggleable__content\"><pre>RandomForestClassifier(oob_score=True)</pre></div></div></div></div></div>"
      ],
      "text/plain": [
       "RandomForestClassifier(oob_score=True)"
      ]
     },
     "execution_count": 121,
     "metadata": {},
     "output_type": "execute_result"
    }
   ],
   "source": [
    "rf = RandomForestClassifier(oob_score=True, max_features='sqrt')\n",
    "rf.fit(X_train, y_train)"
   ]
  },
  {
   "cell_type": "code",
   "execution_count": 122,
   "id": "05590a84",
   "metadata": {},
   "outputs": [
    {
     "data": {
      "text/plain": [
       "0.7575107296137339"
      ]
     },
     "execution_count": 122,
     "metadata": {},
     "output_type": "execute_result"
    }
   ],
   "source": [
    "rf.score(X_test, y_test)"
   ]
  },
  {
   "cell_type": "code",
   "execution_count": 123,
   "id": "cc3bd72d",
   "metadata": {},
   "outputs": [
    {
     "data": {
      "text/plain": [
       "0.7330629770992366"
      ]
     },
     "execution_count": 123,
     "metadata": {},
     "output_type": "execute_result"
    }
   ],
   "source": [
    "rf.oob_score_"
   ]
  },
  {
   "cell_type": "code",
   "execution_count": 124,
   "id": "174cca4a",
   "metadata": {},
   "outputs": [],
   "source": [
    "pred = rf.predict(X_test)"
   ]
  },
  {
   "cell_type": "code",
   "execution_count": 146,
   "id": "0f8d9039",
   "metadata": {},
   "outputs": [
    {
     "data": {
      "text/html": [
       "<div>\n",
       "<style scoped>\n",
       "    .dataframe tbody tr th:only-of-type {\n",
       "        vertical-align: middle;\n",
       "    }\n",
       "\n",
       "    .dataframe tbody tr th {\n",
       "        vertical-align: top;\n",
       "    }\n",
       "\n",
       "    .dataframe thead th {\n",
       "        text-align: right;\n",
       "    }\n",
       "</style>\n",
       "<table border=\"1\" class=\"dataframe\">\n",
       "  <thead>\n",
       "    <tr style=\"text-align: right;\">\n",
       "      <th></th>\n",
       "      <th>features</th>\n",
       "      <th>importance</th>\n",
       "    </tr>\n",
       "  </thead>\n",
       "  <tbody>\n",
       "    <tr>\n",
       "      <th>1175</th>\n",
       "      <td>landing</td>\n",
       "      <td>0.016870</td>\n",
       "    </tr>\n",
       "    <tr>\n",
       "      <th>874</th>\n",
       "      <td>flight</td>\n",
       "      <td>0.015610</td>\n",
       "    </tr>\n",
       "    <tr>\n",
       "      <th>1531</th>\n",
       "      <td>pilot</td>\n",
       "      <td>0.014021</td>\n",
       "    </tr>\n",
       "    <tr>\n",
       "      <th>1989</th>\n",
       "      <td>stall</td>\n",
       "      <td>0.013133</td>\n",
       "    </tr>\n",
       "    <tr>\n",
       "      <th>2119</th>\n",
       "      <td>terrain</td>\n",
       "      <td>0.012580</td>\n",
       "    </tr>\n",
       "    <tr>\n",
       "      <th>1123</th>\n",
       "      <td>instrument</td>\n",
       "      <td>0.011043</td>\n",
       "    </tr>\n",
       "    <tr>\n",
       "      <th>101</th>\n",
       "      <td>airspeed</td>\n",
       "      <td>0.010541</td>\n",
       "    </tr>\n",
       "    <tr>\n",
       "      <th>840</th>\n",
       "      <td>failure</td>\n",
       "      <td>0.010201</td>\n",
       "    </tr>\n",
       "    <tr>\n",
       "      <th>1753</th>\n",
       "      <td>resulted</td>\n",
       "      <td>0.010013</td>\n",
       "    </tr>\n",
       "    <tr>\n",
       "      <th>441</th>\n",
       "      <td>condition</td>\n",
       "      <td>0.009662</td>\n",
       "    </tr>\n",
       "  </tbody>\n",
       "</table>\n",
       "</div>"
      ],
      "text/plain": [
       "        features  importance\n",
       "1175     landing    0.016870\n",
       "874       flight    0.015610\n",
       "1531       pilot    0.014021\n",
       "1989       stall    0.013133\n",
       "2119     terrain    0.012580\n",
       "1123  instrument    0.011043\n",
       "101     airspeed    0.010541\n",
       "840      failure    0.010201\n",
       "1753    resulted    0.010013\n",
       "441    condition    0.009662"
      ]
     },
     "execution_count": 146,
     "metadata": {},
     "output_type": "execute_result"
    }
   ],
   "source": [
    "pd.DataFrame({\n",
    "    'features': cvec.get_feature_names_out(),\n",
    "    'importance': rf.feature_importances_\n",
    "}).sort_values('importance', ascending=False).head(10)"
   ]
  },
  {
   "cell_type": "markdown",
   "id": "73b0a851",
   "metadata": {},
   "source": [
    "## Metrics"
   ]
  },
  {
   "cell_type": "code",
   "execution_count": 126,
   "id": "afab6029",
   "metadata": {},
   "outputs": [
    {
     "data": {
      "text/plain": [
       "0.748211731044349"
      ]
     },
     "execution_count": 126,
     "metadata": {},
     "output_type": "execute_result"
    }
   ],
   "source": [
    "lr_baseline = accuracy_score(y_test, preds)\n",
    "lr_baseline"
   ]
  },
  {
   "cell_type": "code",
   "execution_count": 127,
   "id": "e55858fb",
   "metadata": {},
   "outputs": [
    {
     "data": {
      "text/plain": [
       "0.7575107296137339"
      ]
     },
     "execution_count": 127,
     "metadata": {},
     "output_type": "execute_result"
    }
   ],
   "source": [
    "rf_baseline = accuracy_score(y_test, pred)\n",
    "rf_baseline"
   ]
  },
  {
   "cell_type": "code",
   "execution_count": null,
   "id": "8ca6b304",
   "metadata": {},
   "outputs": [],
   "source": []
  },
  {
   "cell_type": "code",
   "execution_count": null,
   "id": "1f38c75e",
   "metadata": {},
   "outputs": [],
   "source": []
  },
  {
   "cell_type": "code",
   "execution_count": null,
   "id": "445a1db5",
   "metadata": {},
   "outputs": [],
   "source": []
  },
  {
   "cell_type": "code",
   "execution_count": null,
   "id": "cfc7efa3",
   "metadata": {},
   "outputs": [],
   "source": []
  },
  {
   "cell_type": "markdown",
   "id": "155ace43",
   "metadata": {},
   "source": [
    "# Model for Make of Airplane"
   ]
  },
  {
   "cell_type": "code",
   "execution_count": 128,
   "id": "ebd91305",
   "metadata": {},
   "outputs": [],
   "source": [
    "X2 = new_alaska['make']\n",
    "y2 = new_alaska['highest_injury']"
   ]
  },
  {
   "cell_type": "code",
   "execution_count": 129,
   "id": "3f48ed31",
   "metadata": {},
   "outputs": [],
   "source": [
    "X_train2, X_test2, y_train2, y_test2 = train_test_split(X2, y2, random_state=42)"
   ]
  },
  {
   "cell_type": "markdown",
   "id": "d6048339",
   "metadata": {},
   "source": [
    "# Count Vectorizer"
   ]
  },
  {
   "cell_type": "code",
   "execution_count": 130,
   "id": "204ef939",
   "metadata": {},
   "outputs": [],
   "source": [
    "cvec2 = CountVectorizer(stop_words='english')"
   ]
  },
  {
   "cell_type": "code",
   "execution_count": 131,
   "id": "455822b2",
   "metadata": {},
   "outputs": [
    {
     "data": {
      "text/html": [
       "<style>#sk-container-id-15 {color: black;}#sk-container-id-15 pre{padding: 0;}#sk-container-id-15 div.sk-toggleable {background-color: white;}#sk-container-id-15 label.sk-toggleable__label {cursor: pointer;display: block;width: 100%;margin-bottom: 0;padding: 0.3em;box-sizing: border-box;text-align: center;}#sk-container-id-15 label.sk-toggleable__label-arrow:before {content: \"▸\";float: left;margin-right: 0.25em;color: #696969;}#sk-container-id-15 label.sk-toggleable__label-arrow:hover:before {color: black;}#sk-container-id-15 div.sk-estimator:hover label.sk-toggleable__label-arrow:before {color: black;}#sk-container-id-15 div.sk-toggleable__content {max-height: 0;max-width: 0;overflow: hidden;text-align: left;background-color: #f0f8ff;}#sk-container-id-15 div.sk-toggleable__content pre {margin: 0.2em;color: black;border-radius: 0.25em;background-color: #f0f8ff;}#sk-container-id-15 input.sk-toggleable__control:checked~div.sk-toggleable__content {max-height: 200px;max-width: 100%;overflow: auto;}#sk-container-id-15 input.sk-toggleable__control:checked~label.sk-toggleable__label-arrow:before {content: \"▾\";}#sk-container-id-15 div.sk-estimator input.sk-toggleable__control:checked~label.sk-toggleable__label {background-color: #d4ebff;}#sk-container-id-15 div.sk-label input.sk-toggleable__control:checked~label.sk-toggleable__label {background-color: #d4ebff;}#sk-container-id-15 input.sk-hidden--visually {border: 0;clip: rect(1px 1px 1px 1px);clip: rect(1px, 1px, 1px, 1px);height: 1px;margin: -1px;overflow: hidden;padding: 0;position: absolute;width: 1px;}#sk-container-id-15 div.sk-estimator {font-family: monospace;background-color: #f0f8ff;border: 1px dotted black;border-radius: 0.25em;box-sizing: border-box;margin-bottom: 0.5em;}#sk-container-id-15 div.sk-estimator:hover {background-color: #d4ebff;}#sk-container-id-15 div.sk-parallel-item::after {content: \"\";width: 100%;border-bottom: 1px solid gray;flex-grow: 1;}#sk-container-id-15 div.sk-label:hover label.sk-toggleable__label {background-color: #d4ebff;}#sk-container-id-15 div.sk-serial::before {content: \"\";position: absolute;border-left: 1px solid gray;box-sizing: border-box;top: 0;bottom: 0;left: 50%;z-index: 0;}#sk-container-id-15 div.sk-serial {display: flex;flex-direction: column;align-items: center;background-color: white;padding-right: 0.2em;padding-left: 0.2em;position: relative;}#sk-container-id-15 div.sk-item {position: relative;z-index: 1;}#sk-container-id-15 div.sk-parallel {display: flex;align-items: stretch;justify-content: center;background-color: white;position: relative;}#sk-container-id-15 div.sk-item::before, #sk-container-id-15 div.sk-parallel-item::before {content: \"\";position: absolute;border-left: 1px solid gray;box-sizing: border-box;top: 0;bottom: 0;left: 50%;z-index: -1;}#sk-container-id-15 div.sk-parallel-item {display: flex;flex-direction: column;z-index: 1;position: relative;background-color: white;}#sk-container-id-15 div.sk-parallel-item:first-child::after {align-self: flex-end;width: 50%;}#sk-container-id-15 div.sk-parallel-item:last-child::after {align-self: flex-start;width: 50%;}#sk-container-id-15 div.sk-parallel-item:only-child::after {width: 0;}#sk-container-id-15 div.sk-dashed-wrapped {border: 1px dashed gray;margin: 0 0.4em 0.5em 0.4em;box-sizing: border-box;padding-bottom: 0.4em;background-color: white;}#sk-container-id-15 div.sk-label label {font-family: monospace;font-weight: bold;display: inline-block;line-height: 1.2em;}#sk-container-id-15 div.sk-label-container {text-align: center;}#sk-container-id-15 div.sk-container {/* jupyter's `normalize.less` sets `[hidden] { display: none; }` but bootstrap.min.css set `[hidden] { display: none !important; }` so we also need the `!important` here to be able to override the default hidden behavior on the sphinx rendered scikit-learn.org. See: https://github.com/scikit-learn/scikit-learn/issues/21755 */display: inline-block !important;position: relative;}#sk-container-id-15 div.sk-text-repr-fallback {display: none;}</style><div id=\"sk-container-id-15\" class=\"sk-top-container\"><div class=\"sk-text-repr-fallback\"><pre>CountVectorizer(stop_words=&#x27;english&#x27;)</pre><b>In a Jupyter environment, please rerun this cell to show the HTML representation or trust the notebook. <br />On GitHub, the HTML representation is unable to render, please try loading this page with nbviewer.org.</b></div><div class=\"sk-container\" hidden><div class=\"sk-item\"><div class=\"sk-estimator sk-toggleable\"><input class=\"sk-toggleable__control sk-hidden--visually\" id=\"sk-estimator-id-15\" type=\"checkbox\" checked><label for=\"sk-estimator-id-15\" class=\"sk-toggleable__label sk-toggleable__label-arrow\">CountVectorizer</label><div class=\"sk-toggleable__content\"><pre>CountVectorizer(stop_words=&#x27;english&#x27;)</pre></div></div></div></div></div>"
      ],
      "text/plain": [
       "CountVectorizer(stop_words='english')"
      ]
     },
     "execution_count": 131,
     "metadata": {},
     "output_type": "execute_result"
    }
   ],
   "source": [
    "cvec2.fit(X_train2)"
   ]
  },
  {
   "cell_type": "code",
   "execution_count": 132,
   "id": "1c5c421e",
   "metadata": {},
   "outputs": [],
   "source": [
    "X_train2 = cvec2.transform(X_train2)"
   ]
  },
  {
   "cell_type": "code",
   "execution_count": 133,
   "id": "65a2a589",
   "metadata": {},
   "outputs": [],
   "source": [
    "X_test2 = cvec2.transform(X_test2)"
   ]
  },
  {
   "cell_type": "code",
   "execution_count": 134,
   "id": "71742a81",
   "metadata": {},
   "outputs": [],
   "source": [
    "X_train_df2 = pd.DataFrame(X_train2.todense(), columns=cvec2.get_feature_names_out())"
   ]
  },
  {
   "cell_type": "code",
   "execution_count": null,
   "id": "d7c00ac9",
   "metadata": {},
   "outputs": [],
   "source": []
  },
  {
   "cell_type": "markdown",
   "id": "0265531b",
   "metadata": {},
   "source": [
    "# Random Forest Classifier"
   ]
  },
  {
   "cell_type": "code",
   "execution_count": 135,
   "id": "3df060a0",
   "metadata": {},
   "outputs": [
    {
     "data": {
      "text/html": [
       "<style>#sk-container-id-16 {color: black;}#sk-container-id-16 pre{padding: 0;}#sk-container-id-16 div.sk-toggleable {background-color: white;}#sk-container-id-16 label.sk-toggleable__label {cursor: pointer;display: block;width: 100%;margin-bottom: 0;padding: 0.3em;box-sizing: border-box;text-align: center;}#sk-container-id-16 label.sk-toggleable__label-arrow:before {content: \"▸\";float: left;margin-right: 0.25em;color: #696969;}#sk-container-id-16 label.sk-toggleable__label-arrow:hover:before {color: black;}#sk-container-id-16 div.sk-estimator:hover label.sk-toggleable__label-arrow:before {color: black;}#sk-container-id-16 div.sk-toggleable__content {max-height: 0;max-width: 0;overflow: hidden;text-align: left;background-color: #f0f8ff;}#sk-container-id-16 div.sk-toggleable__content pre {margin: 0.2em;color: black;border-radius: 0.25em;background-color: #f0f8ff;}#sk-container-id-16 input.sk-toggleable__control:checked~div.sk-toggleable__content {max-height: 200px;max-width: 100%;overflow: auto;}#sk-container-id-16 input.sk-toggleable__control:checked~label.sk-toggleable__label-arrow:before {content: \"▾\";}#sk-container-id-16 div.sk-estimator input.sk-toggleable__control:checked~label.sk-toggleable__label {background-color: #d4ebff;}#sk-container-id-16 div.sk-label input.sk-toggleable__control:checked~label.sk-toggleable__label {background-color: #d4ebff;}#sk-container-id-16 input.sk-hidden--visually {border: 0;clip: rect(1px 1px 1px 1px);clip: rect(1px, 1px, 1px, 1px);height: 1px;margin: -1px;overflow: hidden;padding: 0;position: absolute;width: 1px;}#sk-container-id-16 div.sk-estimator {font-family: monospace;background-color: #f0f8ff;border: 1px dotted black;border-radius: 0.25em;box-sizing: border-box;margin-bottom: 0.5em;}#sk-container-id-16 div.sk-estimator:hover {background-color: #d4ebff;}#sk-container-id-16 div.sk-parallel-item::after {content: \"\";width: 100%;border-bottom: 1px solid gray;flex-grow: 1;}#sk-container-id-16 div.sk-label:hover label.sk-toggleable__label {background-color: #d4ebff;}#sk-container-id-16 div.sk-serial::before {content: \"\";position: absolute;border-left: 1px solid gray;box-sizing: border-box;top: 0;bottom: 0;left: 50%;z-index: 0;}#sk-container-id-16 div.sk-serial {display: flex;flex-direction: column;align-items: center;background-color: white;padding-right: 0.2em;padding-left: 0.2em;position: relative;}#sk-container-id-16 div.sk-item {position: relative;z-index: 1;}#sk-container-id-16 div.sk-parallel {display: flex;align-items: stretch;justify-content: center;background-color: white;position: relative;}#sk-container-id-16 div.sk-item::before, #sk-container-id-16 div.sk-parallel-item::before {content: \"\";position: absolute;border-left: 1px solid gray;box-sizing: border-box;top: 0;bottom: 0;left: 50%;z-index: -1;}#sk-container-id-16 div.sk-parallel-item {display: flex;flex-direction: column;z-index: 1;position: relative;background-color: white;}#sk-container-id-16 div.sk-parallel-item:first-child::after {align-self: flex-end;width: 50%;}#sk-container-id-16 div.sk-parallel-item:last-child::after {align-self: flex-start;width: 50%;}#sk-container-id-16 div.sk-parallel-item:only-child::after {width: 0;}#sk-container-id-16 div.sk-dashed-wrapped {border: 1px dashed gray;margin: 0 0.4em 0.5em 0.4em;box-sizing: border-box;padding-bottom: 0.4em;background-color: white;}#sk-container-id-16 div.sk-label label {font-family: monospace;font-weight: bold;display: inline-block;line-height: 1.2em;}#sk-container-id-16 div.sk-label-container {text-align: center;}#sk-container-id-16 div.sk-container {/* jupyter's `normalize.less` sets `[hidden] { display: none; }` but bootstrap.min.css set `[hidden] { display: none !important; }` so we also need the `!important` here to be able to override the default hidden behavior on the sphinx rendered scikit-learn.org. See: https://github.com/scikit-learn/scikit-learn/issues/21755 */display: inline-block !important;position: relative;}#sk-container-id-16 div.sk-text-repr-fallback {display: none;}</style><div id=\"sk-container-id-16\" class=\"sk-top-container\"><div class=\"sk-text-repr-fallback\"><pre>RandomForestClassifier(oob_score=True)</pre><b>In a Jupyter environment, please rerun this cell to show the HTML representation or trust the notebook. <br />On GitHub, the HTML representation is unable to render, please try loading this page with nbviewer.org.</b></div><div class=\"sk-container\" hidden><div class=\"sk-item\"><div class=\"sk-estimator sk-toggleable\"><input class=\"sk-toggleable__control sk-hidden--visually\" id=\"sk-estimator-id-16\" type=\"checkbox\" checked><label for=\"sk-estimator-id-16\" class=\"sk-toggleable__label sk-toggleable__label-arrow\">RandomForestClassifier</label><div class=\"sk-toggleable__content\"><pre>RandomForestClassifier(oob_score=True)</pre></div></div></div></div></div>"
      ],
      "text/plain": [
       "RandomForestClassifier(oob_score=True)"
      ]
     },
     "execution_count": 135,
     "metadata": {},
     "output_type": "execute_result"
    }
   ],
   "source": [
    "rf2 = RandomForestClassifier(oob_score=True, max_features='sqrt')\n",
    "rf2.fit(X_train2, y_train2)"
   ]
  },
  {
   "cell_type": "code",
   "execution_count": 136,
   "id": "ca00bd7d",
   "metadata": {},
   "outputs": [
    {
     "data": {
      "text/plain": [
       "0.7281831187410587"
      ]
     },
     "execution_count": 136,
     "metadata": {},
     "output_type": "execute_result"
    }
   ],
   "source": [
    "rf2.score(X_test2, y_test2)"
   ]
  },
  {
   "cell_type": "code",
   "execution_count": 137,
   "id": "25896dba",
   "metadata": {},
   "outputs": [
    {
     "data": {
      "text/plain": [
       "0.708969465648855"
      ]
     },
     "execution_count": 137,
     "metadata": {},
     "output_type": "execute_result"
    }
   ],
   "source": [
    "rf2.oob_score_"
   ]
  },
  {
   "cell_type": "code",
   "execution_count": 138,
   "id": "ae1ebf4e",
   "metadata": {},
   "outputs": [],
   "source": [
    "pred2 = rf2.predict(X_test2)"
   ]
  },
  {
   "cell_type": "code",
   "execution_count": 147,
   "id": "f4ca719f",
   "metadata": {},
   "outputs": [
    {
     "data": {
      "text/html": [
       "<div>\n",
       "<style scoped>\n",
       "    .dataframe tbody tr th:only-of-type {\n",
       "        vertical-align: middle;\n",
       "    }\n",
       "\n",
       "    .dataframe tbody tr th {\n",
       "        vertical-align: top;\n",
       "    }\n",
       "\n",
       "    .dataframe thead th {\n",
       "        text-align: right;\n",
       "    }\n",
       "</style>\n",
       "<table border=\"1\" class=\"dataframe\">\n",
       "  <thead>\n",
       "    <tr style=\"text-align: right;\">\n",
       "      <th></th>\n",
       "      <th>features</th>\n",
       "      <th>importance</th>\n",
       "    </tr>\n",
       "  </thead>\n",
       "  <tbody>\n",
       "    <tr>\n",
       "      <th>27</th>\n",
       "      <td>bell</td>\n",
       "      <td>0.025789</td>\n",
       "    </tr>\n",
       "    <tr>\n",
       "      <th>26</th>\n",
       "      <td>beech</td>\n",
       "      <td>0.023573</td>\n",
       "    </tr>\n",
       "    <tr>\n",
       "      <th>90</th>\n",
       "      <td>eurocopter</td>\n",
       "      <td>0.022799</td>\n",
       "    </tr>\n",
       "    <tr>\n",
       "      <th>242</th>\n",
       "      <td>waspair</td>\n",
       "      <td>0.021527</td>\n",
       "    </tr>\n",
       "    <tr>\n",
       "      <th>113</th>\n",
       "      <td>havilland</td>\n",
       "      <td>0.018677</td>\n",
       "    </tr>\n",
       "    <tr>\n",
       "      <th>117</th>\n",
       "      <td>helicopters</td>\n",
       "      <td>0.014903</td>\n",
       "    </tr>\n",
       "    <tr>\n",
       "      <th>127</th>\n",
       "      <td>hughes</td>\n",
       "      <td>0.013350</td>\n",
       "    </tr>\n",
       "    <tr>\n",
       "      <th>225</th>\n",
       "      <td>taylorcraft</td>\n",
       "      <td>0.012381</td>\n",
       "    </tr>\n",
       "    <tr>\n",
       "      <th>185</th>\n",
       "      <td>piper</td>\n",
       "      <td>0.011554</td>\n",
       "    </tr>\n",
       "    <tr>\n",
       "      <th>55</th>\n",
       "      <td>colburn</td>\n",
       "      <td>0.010332</td>\n",
       "    </tr>\n",
       "  </tbody>\n",
       "</table>\n",
       "</div>"
      ],
      "text/plain": [
       "        features  importance\n",
       "27          bell    0.025789\n",
       "26         beech    0.023573\n",
       "90    eurocopter    0.022799\n",
       "242      waspair    0.021527\n",
       "113    havilland    0.018677\n",
       "117  helicopters    0.014903\n",
       "127       hughes    0.013350\n",
       "225  taylorcraft    0.012381\n",
       "185        piper    0.011554\n",
       "55       colburn    0.010332"
      ]
     },
     "execution_count": 147,
     "metadata": {},
     "output_type": "execute_result"
    }
   ],
   "source": [
    "pd.DataFrame({\n",
    "    'features': cvec2.get_feature_names_out(),\n",
    "    'importance': rf2.feature_importances_\n",
    "}).sort_values('importance', ascending=False).head(10)"
   ]
  },
  {
   "cell_type": "markdown",
   "id": "0e028212",
   "metadata": {},
   "source": [
    "## Metrics"
   ]
  },
  {
   "cell_type": "code",
   "execution_count": 140,
   "id": "b74a9f07",
   "metadata": {},
   "outputs": [
    {
     "data": {
      "text/plain": [
       "0.7281831187410587"
      ]
     },
     "execution_count": 140,
     "metadata": {},
     "output_type": "execute_result"
    }
   ],
   "source": [
    "rf_baseline2 = accuracy_score(y_test2, pred2)\n",
    "rf_baseline2"
   ]
  },
  {
   "cell_type": "code",
   "execution_count": null,
   "id": "94588fde",
   "metadata": {},
   "outputs": [],
   "source": []
  },
  {
   "cell_type": "code",
   "execution_count": null,
   "id": "a402ba5d",
   "metadata": {},
   "outputs": [],
   "source": []
  },
  {
   "cell_type": "code",
   "execution_count": null,
   "id": "ab725866",
   "metadata": {},
   "outputs": [],
   "source": []
  }
 ],
 "metadata": {
  "kernelspec": {
   "display_name": "Python 3 (ipykernel)",
   "language": "python",
   "name": "python3"
  },
  "language_info": {
   "codemirror_mode": {
    "name": "ipython",
    "version": 3
   },
   "file_extension": ".py",
   "mimetype": "text/x-python",
   "name": "python",
   "nbconvert_exporter": "python",
   "pygments_lexer": "ipython3",
   "version": "3.11.4"
  }
 },
 "nbformat": 4,
 "nbformat_minor": 5
}
